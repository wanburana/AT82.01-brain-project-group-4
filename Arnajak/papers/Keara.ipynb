{
  "nbformat": 4,
  "nbformat_minor": 0,
  "metadata": {
    "colab": {
      "name": "Keara.ipynb",
      "provenance": [],
      "collapsed_sections": [],
      "toc_visible": true
    },
    "kernelspec": {
      "name": "python3",
      "display_name": "Python 3"
    }
  },
  "cells": [
    {
      "cell_type": "code",
      "metadata": {
        "id": "QVkjoVU_uDK3",
        "colab": {
          "base_uri": "https://localhost:8080/"
        },
        "outputId": "127c0cf6-0243-49be-d03b-608a25a43c7a"
      },
      "source": [
        "pip install git+https://github.com/forrestbao/pyeeg.git"
      ],
      "execution_count": null,
      "outputs": [
        {
          "output_type": "stream",
          "name": "stdout",
          "text": [
            "Collecting git+https://github.com/forrestbao/pyeeg.git\n",
            "  Cloning https://github.com/forrestbao/pyeeg.git to /tmp/pip-req-build-n0bqb0nz\n",
            "  Running command git clone -q https://github.com/forrestbao/pyeeg.git /tmp/pip-req-build-n0bqb0nz\n",
            "Requirement already satisfied: numpy>=1.9.2 in /usr/local/lib/python3.7/dist-packages (from pyeeg==0.4.4) (1.19.5)\n",
            "Building wheels for collected packages: pyeeg\n",
            "  Building wheel for pyeeg (setup.py) ... \u001b[?25l\u001b[?25hdone\n",
            "  Created wheel for pyeeg: filename=pyeeg-0.4.4-py2.py3-none-any.whl size=28132 sha256=fa4e83f16fb5c2e0d7cdda28dc38b09a6d355b73dc5a27b51c01d2895e393a8e\n",
            "  Stored in directory: /tmp/pip-ephem-wheel-cache-66cf1j45/wheels/b0/23/e4/703c908bda656959957029fa145879aa79307b2545a2ef0271\n",
            "Successfully built pyeeg\n",
            "Installing collected packages: pyeeg\n",
            "Successfully installed pyeeg-0.4.4\n"
          ]
        }
      ]
    },
    {
      "cell_type": "code",
      "metadata": {
        "id": "XqjBGbE8LBao",
        "colab": {
          "base_uri": "https://localhost:8080/"
        },
        "outputId": "c6193b1e-5eef-4050-f993-a0b929fb0022"
      },
      "source": [
        "\n",
        "\n",
        "print(\"hai\")"
      ],
      "execution_count": null,
      "outputs": [
        {
          "output_type": "stream",
          "name": "stdout",
          "text": [
            "hai\n"
          ]
        }
      ]
    },
    {
      "cell_type": "code",
      "metadata": {
        "id": "5SPLfnVBY6LY"
      },
      "source": [
        " import numpy as np\n",
        "\n",
        "import pickle as pickle\n",
        "import pandas as pd\n",
        "import pyeeg as pe"
      ],
      "execution_count": null,
      "outputs": []
    },
    {
      "cell_type": "code",
      "metadata": {
        "id": "iq8EcwGxsgw4"
      },
      "source": [
        "channel = [1,2,3,4,6,11,13,17,19,20,21,25,29,31] #14 Channels chosen to fit Emotiv Epoch+\n",
        "band = [4,8,12,16,25,45] #5 bands\n",
        "window_size = 256 #Averaging band power of 2 sec\n",
        "step_size = 16 #Each 0.125 sec update once\n",
        "sample_rate = 70 #Sampling rate of 128 Hz\n",
        "subjectList = ['01','02','03']\n",
        "#List of subjects"
      ],
      "execution_count": null,
      "outputs": []
    },
    {
      "cell_type": "code",
      "metadata": {
        "id": "PLMSKXbch6TX",
        "colab": {
          "base_uri": "https://localhost:8080/"
        },
        "outputId": "e311b552-89d4-49df-bc78-b46124187beb"
      },
      "source": [
        "from sklearn.preprocessing import normalize\n",
        "!gdown --id 1LoyiM9bQlrullvtoPA7X4FWhNDBGPnED\n",
        "!unzip /content/data_preprocessed_python.zip -d data_preprocessed_python"
      ],
      "execution_count": null,
      "outputs": [
        {
          "output_type": "stream",
          "name": "stdout",
          "text": [
            "Downloading...\n",
            "From: https://drive.google.com/uc?id=1LoyiM9bQlrullvtoPA7X4FWhNDBGPnED\n",
            "To: /content/data_preprocessed_python.zip\n",
            "100% 3.30G/3.30G [00:49<00:00, 66.2MB/s]\n",
            "Archive:  /content/data_preprocessed_python.zip\n",
            " extracting: data_preprocessed_python/s01.dat  \n",
            " extracting: data_preprocessed_python/s02.dat  \n",
            " extracting: data_preprocessed_python/s03.dat  \n",
            " extracting: data_preprocessed_python/s04.dat  \n",
            " extracting: data_preprocessed_python/s05.dat  \n",
            " extracting: data_preprocessed_python/s06.dat  \n",
            " extracting: data_preprocessed_python/s07.dat  \n",
            " extracting: data_preprocessed_python/s08.dat  \n",
            " extracting: data_preprocessed_python/s09.dat  \n",
            " extracting: data_preprocessed_python/s10.dat  \n",
            " extracting: data_preprocessed_python/s11.dat  \n",
            " extracting: data_preprocessed_python/s12.dat  \n",
            " extracting: data_preprocessed_python/s13.dat  \n",
            " extracting: data_preprocessed_python/s14.dat  \n",
            " extracting: data_preprocessed_python/s15.dat  \n",
            " extracting: data_preprocessed_python/s16.dat  \n",
            " extracting: data_preprocessed_python/s17.dat  \n",
            " extracting: data_preprocessed_python/s18.dat  \n",
            " extracting: data_preprocessed_python/s19.dat  \n",
            " extracting: data_preprocessed_python/s20.dat  \n",
            " extracting: data_preprocessed_python/s21.dat  \n",
            " extracting: data_preprocessed_python/s22.dat  \n",
            " extracting: data_preprocessed_python/s23.dat  \n",
            " extracting: data_preprocessed_python/s24.dat  \n",
            " extracting: data_preprocessed_python/s25.dat  \n",
            " extracting: data_preprocessed_python/s26.dat  \n",
            " extracting: data_preprocessed_python/s27.dat  \n",
            " extracting: data_preprocessed_python/s28.dat  \n",
            " extracting: data_preprocessed_python/s29.dat  \n",
            " extracting: data_preprocessed_python/s30.dat  \n",
            " extracting: data_preprocessed_python/s31.dat  \n",
            " extracting: data_preprocessed_python/s32.dat  \n"
          ]
        }
      ]
    },
    {
      "cell_type": "code",
      "metadata": {
        "colab": {
          "base_uri": "https://localhost:8080/"
        },
        "id": "suJLge5P3SHe",
        "outputId": "ecfe92b5-a574-40ea-f8ee-4c8b6dbb949e"
      },
      "source": [
        "from google.colab import drive\n",
        "drive.mount('/content/drive')"
      ],
      "execution_count": null,
      "outputs": [
        {
          "output_type": "stream",
          "name": "stdout",
          "text": [
            "Mounted at /content/drive\n"
          ]
        }
      ]
    },
    {
      "cell_type": "code",
      "metadata": {
        "id": "BMHsERGylAEu"
      },
      "source": [
        "def FFT_Processing (sub, channel, band, window_size, step_size, sample_rate):\n",
        "    '''\n",
        "    arguments:  string subject\n",
        "                list channel indice\n",
        "                list band\n",
        "                int window size for FFT\n",
        "                int step size for FFT\n",
        "                int sample rate for FFT\n",
        "    return:     void\n",
        "    '''\n",
        "    meta = []\n",
        "    with open('/content/drive/MyDrive/EEG/DEAP/data_preprocessed_python/s' + sub + '.dat', 'rb') as file:\n",
        "\n",
        "        subject = pickle.load(file, encoding='latin1') #resolve the python 2 data problem by encoding : latin1\n",
        "\n",
        "        for i in range (0,39):\n",
        "            # loop over 0-39 trails\n",
        "            data = subject[\"data\"][i]\n",
        "            labels = subject[\"labels\"][i]\n",
        "            start = 0;          \n",
        "            while start + window_size < data.shape[1]:\n",
        "                meta_array = []\n",
        "                meta_data = [] #meta vector for analysis\n",
        "                for j in channel:\n",
        "                    X = data[j][start : start + window_size] #Slice raw data over 2 sec, at interval of 0.125 sec\n",
        "                    Y = pe.bin_power(X, band, sample_rate) #FFT over 2 sec of channel j, in seq of theta, alpha, low beta, high beta, gamma\n",
        "                    meta_data = meta_data + list(Y[0])\n",
        "\n",
        "                meta_array.append(np.array(meta_data))\n",
        "                meta_array.append(labels)\n",
        "\n",
        "                meta.append(np.array(meta_array))    \n",
        "                start = start + step_size\n",
        "                \n",
        "        meta = np.array(meta)\n",
        "        np.save('out\\s' + sub, meta, allow_pickle=True, fix_imports=True)\n",
        "\n"
      ],
      "execution_count": 41,
      "outputs": []
    },
    {
      "cell_type": "code",
      "metadata": {
        "id": "VzAJVGQBt-5v",
        "colab": {
          "base_uri": "https://localhost:8080/"
        },
        "outputId": "4cc99361-a74b-45bf-b5b2-db2d0a4f6018"
      },
      "source": [
        "for subjects in subjectList:\n",
        "    FFT_Processing (subjects, channel, band, window_size, step_size, sample_rate)"
      ],
      "execution_count": 42,
      "outputs": [
        {
          "output_type": "stream",
          "name": "stderr",
          "text": [
            "/usr/local/lib/python3.7/dist-packages/ipykernel_launcher.py:32: VisibleDeprecationWarning: Creating an ndarray from ragged nested sequences (which is a list-or-tuple of lists-or-tuples-or ndarrays with different lengths or shapes) is deprecated. If you meant to do this, you must specify 'dtype=object' when creating the ndarray\n"
          ]
        }
      ]
    },
    {
      "cell_type": "code",
      "metadata": {
        "id": "uZGXiP2t2DFC",
        "colab": {
          "base_uri": "https://localhost:8080/",
          "height": 87
        },
        "outputId": "0172068e-67fc-4ba4-fee3-5399b992aeeb"
      },
      "source": [
        "\n",
        "data_training = []\n",
        "label_training = []\n",
        "data_testing = []\n",
        "label_testing = []\n",
        "data_validation = []\n",
        "label_validation = []\n",
        "\n",
        "for subjects in subjectList:\n",
        "  \n",
        "\n",
        "    with open('/content/out\\s' + subjects + '.npy', 'rb') as file:\n",
        "        sub = np.load(file,allow_pickle=True)\n",
        "        for i in range (0,sub.shape[0]):\n",
        "            if i % 8 == 0 or i % 8== 0:\n",
        "                data_testing.append(sub[i][0])\n",
        "                label_testing.append(sub[i][1])\n",
        "           \n",
        "            else:\n",
        "                data_training.append(sub[i][0])\n",
        "                label_training.append(sub[i][1])\n",
        "\n",
        "np.save('out\\data_training', np.array(data_training), allow_pickle=True, fix_imports=True)\n",
        "np.save('out\\label_training', np.array(label_training), allow_pickle=True, fix_imports=True)\n",
        "print(\"training dataset:\", np.array(data_training).shape, np.array(label_training).shape)\n",
        "\n",
        "\n",
        "np.save('out\\data_testing', np.array(data_testing), allow_pickle=True, fix_imports=True)\n",
        "np.save('out\\label_testing', np.array(label_testing), allow_pickle=True, fix_imports=True)\n",
        "print(\"testing dataset:\", np.array(data_testing).shape, np.array(label_testing).shape)\n",
        "\"\"\"\n",
        "np.save('out\\data_validation', np.array(data_validation), allow_pickle=True, fix_imports=True)\n",
        "np.save('out\\label_validation', np.array(label_validation), allow_pickle=True, fix_imports=True)\n",
        "print(\"validation dataset:\", np.array(data_validation).shape, np.array(label_validation).shape)\n",
        "\"\"\""
      ],
      "execution_count": 43,
      "outputs": [
        {
          "output_type": "stream",
          "name": "stdout",
          "text": [
            "training dataset: (49959, 70) (49959, 4)\n",
            "testing dataset: (7137, 70) (7137, 4)\n"
          ]
        },
        {
          "output_type": "execute_result",
          "data": {
            "application/vnd.google.colaboratory.intrinsic+json": {
              "type": "string"
            },
            "text/plain": [
              "'\\nnp.save(\\'out\\\\data_validation\\', np.array(data_validation), allow_pickle=True, fix_imports=True)\\nnp.save(\\'out\\\\label_validation\\', np.array(label_validation), allow_pickle=True, fix_imports=True)\\nprint(\"validation dataset:\", np.array(data_validation).shape, np.array(label_validation).shape)\\n'"
            ]
          },
          "metadata": {},
          "execution_count": 43
        }
      ]
    },
    {
      "cell_type": "code",
      "metadata": {
        "id": "CFcayQrJ-h0I"
      },
      "source": [
        "data= []\n",
        "label = []\n",
        "for subjects in subjectList:\n",
        "  \n",
        "\n",
        "    with open('/content/out\\s' + subjects + '.npy', 'rb') as file:\n",
        "        sub = np.load(file,allow_pickle=True)\n",
        "        for i in range (0,sub.shape[0]):\n",
        "          data.append(sub[i][0])\n",
        "          label.append(sub[i][1])\n",
        "np.save('data', np.array(data), allow_pickle=True, fix_imports=True)\n",
        "np.save('label', np.array(label), allow_pickle=True, fix_imports=True)\n",
        "\n"
      ],
      "execution_count": 44,
      "outputs": []
    },
    {
      "cell_type": "code",
      "metadata": {
        "id": "Z84hVKUDUF3r"
      },
      "source": [
        "df=pd.DataFrame(data=data)\n",
        "df.to_csv(\"data.csv\",index=False)\n",
        "\n",
        "df1=pd.DataFrame(data=label)\n",
        "df1.to_csv(\"label.csv\",index=False)"
      ],
      "execution_count": 46,
      "outputs": []
    },
    {
      "cell_type": "code",
      "metadata": {
        "id": "2tB2KDWpUIJ7"
      },
      "source": [
        "data1=pd.read_csv(\"/content/data.csv\")"
      ],
      "execution_count": 47,
      "outputs": []
    },
    {
      "cell_type": "code",
      "metadata": {
        "colab": {
          "base_uri": "https://localhost:8080/",
          "height": 424
        },
        "id": "w6EKK3vYUK_v",
        "outputId": "f05d2f24-7f74-4bbd-ea7c-ec3987cf6013"
      },
      "source": [
        "label1=pd.read_csv(\"/content/label.csv\")\n",
        "label1"
      ],
      "execution_count": 48,
      "outputs": [
        {
          "output_type": "execute_result",
          "data": {
            "text/html": [
              "<div>\n",
              "<style scoped>\n",
              "    .dataframe tbody tr th:only-of-type {\n",
              "        vertical-align: middle;\n",
              "    }\n",
              "\n",
              "    .dataframe tbody tr th {\n",
              "        vertical-align: top;\n",
              "    }\n",
              "\n",
              "    .dataframe thead th {\n",
              "        text-align: right;\n",
              "    }\n",
              "</style>\n",
              "<table border=\"1\" class=\"dataframe\">\n",
              "  <thead>\n",
              "    <tr style=\"text-align: right;\">\n",
              "      <th></th>\n",
              "      <th>0</th>\n",
              "      <th>1</th>\n",
              "      <th>2</th>\n",
              "      <th>3</th>\n",
              "    </tr>\n",
              "  </thead>\n",
              "  <tbody>\n",
              "    <tr>\n",
              "      <th>0</th>\n",
              "      <td>7.71</td>\n",
              "      <td>7.60</td>\n",
              "      <td>6.90</td>\n",
              "      <td>7.83</td>\n",
              "    </tr>\n",
              "    <tr>\n",
              "      <th>1</th>\n",
              "      <td>7.71</td>\n",
              "      <td>7.60</td>\n",
              "      <td>6.90</td>\n",
              "      <td>7.83</td>\n",
              "    </tr>\n",
              "    <tr>\n",
              "      <th>2</th>\n",
              "      <td>7.71</td>\n",
              "      <td>7.60</td>\n",
              "      <td>6.90</td>\n",
              "      <td>7.83</td>\n",
              "    </tr>\n",
              "    <tr>\n",
              "      <th>3</th>\n",
              "      <td>7.71</td>\n",
              "      <td>7.60</td>\n",
              "      <td>6.90</td>\n",
              "      <td>7.83</td>\n",
              "    </tr>\n",
              "    <tr>\n",
              "      <th>4</th>\n",
              "      <td>7.71</td>\n",
              "      <td>7.60</td>\n",
              "      <td>6.90</td>\n",
              "      <td>7.83</td>\n",
              "    </tr>\n",
              "    <tr>\n",
              "      <th>...</th>\n",
              "      <td>...</td>\n",
              "      <td>...</td>\n",
              "      <td>...</td>\n",
              "      <td>...</td>\n",
              "    </tr>\n",
              "    <tr>\n",
              "      <th>57091</th>\n",
              "      <td>4.33</td>\n",
              "      <td>6.21</td>\n",
              "      <td>5.68</td>\n",
              "      <td>4.62</td>\n",
              "    </tr>\n",
              "    <tr>\n",
              "      <th>57092</th>\n",
              "      <td>4.33</td>\n",
              "      <td>6.21</td>\n",
              "      <td>5.68</td>\n",
              "      <td>4.62</td>\n",
              "    </tr>\n",
              "    <tr>\n",
              "      <th>57093</th>\n",
              "      <td>4.33</td>\n",
              "      <td>6.21</td>\n",
              "      <td>5.68</td>\n",
              "      <td>4.62</td>\n",
              "    </tr>\n",
              "    <tr>\n",
              "      <th>57094</th>\n",
              "      <td>4.33</td>\n",
              "      <td>6.21</td>\n",
              "      <td>5.68</td>\n",
              "      <td>4.62</td>\n",
              "    </tr>\n",
              "    <tr>\n",
              "      <th>57095</th>\n",
              "      <td>4.33</td>\n",
              "      <td>6.21</td>\n",
              "      <td>5.68</td>\n",
              "      <td>4.62</td>\n",
              "    </tr>\n",
              "  </tbody>\n",
              "</table>\n",
              "<p>57096 rows × 4 columns</p>\n",
              "</div>"
            ],
            "text/plain": [
              "          0     1     2     3\n",
              "0      7.71  7.60  6.90  7.83\n",
              "1      7.71  7.60  6.90  7.83\n",
              "2      7.71  7.60  6.90  7.83\n",
              "3      7.71  7.60  6.90  7.83\n",
              "4      7.71  7.60  6.90  7.83\n",
              "...     ...   ...   ...   ...\n",
              "57091  4.33  6.21  5.68  4.62\n",
              "57092  4.33  6.21  5.68  4.62\n",
              "57093  4.33  6.21  5.68  4.62\n",
              "57094  4.33  6.21  5.68  4.62\n",
              "57095  4.33  6.21  5.68  4.62\n",
              "\n",
              "[57096 rows x 4 columns]"
            ]
          },
          "metadata": {},
          "execution_count": 48
        }
      ]
    },
    {
      "cell_type": "code",
      "metadata": {
        "id": "GJjSBMmuUOTS"
      },
      "source": [
        "x=data1.values"
      ],
      "execution_count": 49,
      "outputs": []
    },
    {
      "cell_type": "code",
      "metadata": {
        "id": "oKMG88FeUP3V"
      },
      "source": [
        "y_val=label1.loc[:,'0']"
      ],
      "execution_count": 50,
      "outputs": []
    },
    {
      "cell_type": "code",
      "metadata": {
        "id": "xGLKl-9Zfjaf",
        "colab": {
          "base_uri": "https://localhost:8080/"
        },
        "outputId": "4fe76fea-41e5-4212-c228-9411ef779dd9"
      },
      "source": [
        "from sklearn.preprocessing import StandardScaler\n",
        "scaler = StandardScaler()\n",
        "scaler.fit(x)\n",
        "x = scaler.transform(x)\n",
        "\n",
        "\n",
        "#from keras.utils import to_categorical\n",
        "from tensorflow.keras.utils import to_categorical\n",
        "y = to_categorical(y_val)\n",
        "y"
      ],
      "execution_count": 52,
      "outputs": [
        {
          "output_type": "execute_result",
          "data": {
            "text/plain": [
              "array([[0., 0., 0., ..., 1., 0., 0.],\n",
              "       [0., 0., 0., ..., 1., 0., 0.],\n",
              "       [0., 0., 0., ..., 1., 0., 0.],\n",
              "       ...,\n",
              "       [0., 0., 0., ..., 0., 0., 0.],\n",
              "       [0., 0., 0., ..., 0., 0., 0.],\n",
              "       [0., 0., 0., ..., 0., 0., 0.]], dtype=float32)"
            ]
          },
          "metadata": {},
          "execution_count": 52
        }
      ]
    },
    {
      "cell_type": "code",
      "metadata": {
        "id": "HWNnMepTUfrR"
      },
      "source": [
        "x = np.reshape(x, (x.shape[0],1,x.shape[1]))"
      ],
      "execution_count": 55,
      "outputs": []
    },
    {
      "cell_type": "code",
      "metadata": {
        "id": "EaKwv9nFgEX0"
      },
      "source": [
        "from sklearn.model_selection import train_test_split\n",
        "x_train, x_test, y_train, y_test = train_test_split(x, y, test_size = 0.2, random_state = 4)"
      ],
      "execution_count": 56,
      "outputs": []
    },
    {
      "cell_type": "code",
      "metadata": {
        "id": "FRJ5Fu1RmCdj",
        "colab": {
          "base_uri": "https://localhost:8080/"
        },
        "outputId": "851dbc4a-a59c-480b-9497-820fc41228b8"
      },
      "source": [
        "print(x_train.shape)\n",
        "print(y_train.shape)\n",
        "print(x_test.shape)\n",
        "print(y_test.shape)"
      ],
      "execution_count": 57,
      "outputs": [
        {
          "output_type": "stream",
          "name": "stdout",
          "text": [
            "(45676, 1, 70)\n",
            "(45676, 10)\n",
            "(11420, 1, 70)\n",
            "(11420, 10)\n"
          ]
        }
      ]
    },
    {
      "cell_type": "code",
      "metadata": {
        "id": "evd-F_sl3wPL",
        "colab": {
          "base_uri": "https://localhost:8080/"
        },
        "outputId": "5b533a9f-8a50-4b46-c5a2-8e136516edc1"
      },
      "source": [
        "import keras\n",
        "from tensorflow.keras.optimizers import RMSprop\n",
        "from keras.models import Sequential\n",
        "from keras.layers import Dense, Dropout\n",
        "from keras.layers import LSTM,BatchNormalization,Activation\n",
        "model = Sequential()\n",
        "model.add(LSTM(512, batch_input_shape = (None, None, x.shape[2]),return_sequences=True))\n",
        "#model.add(Dropout(0.1))\n",
        "model.add(BatchNormalization())\n",
        "model.add(Dropout(0.3))\n",
        "\n",
        "model.add(LSTM(256,activation=\"relu\",return_sequences=True))\n",
        "model.add(BatchNormalization())\n",
        "model.add(Dropout(0.5))\n",
        "\n",
        "\n",
        "model.add(LSTM(128,activation=\"relu\",return_sequences=True))\n",
        "model.add(BatchNormalization())\n",
        "model.add(Dropout(0.3))\n",
        "\n",
        "model.add(LSTM(64,activation=\"relu\",return_sequences=True))\n",
        "model.add(BatchNormalization())\n",
        "model.add(Dropout(0.3))\n",
        "\n",
        "\n",
        "model.add(LSTM(32,activation=\"relu\"))\n",
        "model.add(BatchNormalization())\n",
        "model.add(Dropout(0.2))\n",
        "\n",
        "\n",
        "model.add(Dense(10))\n",
        "model.add(Activation('sigmoid'))\n",
        "\n",
        "rmsprop = RMSprop(lr=0.0001, rho=0.9, epsilon=1e-08)\n",
        "model.compile(loss='mean_squared_error',\n",
        "                  optimizer=rmsprop,\n",
        "                  metrics=['accuracy'])\n",
        "#adam = keras.optimizers.Adam(lr=0.5, beta_1=0.9, beta_2=0.999, epsilon=None, decay=0.0, amsgrad=False)\n",
        "#model.compile(loss='binary_crossentropy', optimizer='adam', metrics=['accuracy'])\n",
        "model.summary()"
      ],
      "execution_count": null,
      "outputs": [
        {
          "output_type": "stream",
          "name": "stdout",
          "text": [
            "Model: \"sequential\"\n",
            "_________________________________________________________________\n",
            " Layer (type)                Output Shape              Param #   \n",
            "=================================================================\n",
            " lstm (LSTM)                 (None, None, 512)         1193984   \n",
            "                                                                 \n",
            " batch_normalization (BatchN  (None, None, 512)        2048      \n",
            " ormalization)                                                   \n",
            "                                                                 \n",
            " dropout (Dropout)           (None, None, 512)         0         \n",
            "                                                                 \n",
            " lstm_1 (LSTM)               (None, None, 256)         787456    \n",
            "                                                                 \n",
            " batch_normalization_1 (Batc  (None, None, 256)        1024      \n",
            " hNormalization)                                                 \n",
            "                                                                 \n",
            " dropout_1 (Dropout)         (None, None, 256)         0         \n",
            "                                                                 \n",
            " lstm_2 (LSTM)               (None, None, 128)         197120    \n",
            "                                                                 \n",
            " batch_normalization_2 (Batc  (None, None, 128)        512       \n",
            " hNormalization)                                                 \n",
            "                                                                 \n",
            " dropout_2 (Dropout)         (None, None, 128)         0         \n",
            "                                                                 \n",
            " lstm_3 (LSTM)               (None, None, 64)          49408     \n",
            "                                                                 \n",
            " batch_normalization_3 (Batc  (None, None, 64)         256       \n",
            " hNormalization)                                                 \n",
            "                                                                 \n",
            " dropout_3 (Dropout)         (None, None, 64)          0         \n",
            "                                                                 \n",
            " lstm_4 (LSTM)               (None, 32)                12416     \n",
            "                                                                 \n",
            " batch_normalization_4 (Batc  (None, 32)               128       \n",
            " hNormalization)                                                 \n",
            "                                                                 \n",
            " dropout_4 (Dropout)         (None, 32)                0         \n",
            "                                                                 \n",
            " dense (Dense)               (None, 10)                330       \n",
            "                                                                 \n",
            " activation (Activation)     (None, 10)                0         \n",
            "                                                                 \n",
            "=================================================================\n",
            "Total params: 2,244,682\n",
            "Trainable params: 2,242,698\n",
            "Non-trainable params: 1,984\n",
            "_________________________________________________________________\n"
          ]
        },
        {
          "output_type": "stream",
          "name": "stderr",
          "text": [
            "/usr/local/lib/python3.7/dist-packages/keras/optimizer_v2/rmsprop.py:130: UserWarning: The `lr` argument is deprecated, use `learning_rate` instead.\n",
            "  super(RMSprop, self).__init__(name, **kwargs)\n"
          ]
        }
      ]
    },
    {
      "cell_type": "code",
      "metadata": {
        "id": "6aNe2-s1gRTb",
        "colab": {
          "base_uri": "https://localhost:8080/"
        },
        "outputId": "d470abd8-27fe-418d-b264-1fdd238b4a12"
      },
      "source": [
        "history = model.fit(x_train, y_train, epochs = 100, batch_size=150,validation_data= (x_test, y_test))\n"
      ],
      "execution_count": null,
      "outputs": [
        {
          "output_type": "stream",
          "name": "stdout",
          "text": [
            "Epoch 1/100\n",
            "305/305 [==============================] - 8s 14ms/step - loss: 0.3271 - accuracy: 0.2708 - val_loss: 0.2704 - val_accuracy: 0.3012\n",
            "Epoch 2/100\n",
            "305/305 [==============================] - 3s 11ms/step - loss: 0.2633 - accuracy: 0.3455 - val_loss: 0.2548 - val_accuracy: 0.3658\n",
            "Epoch 3/100\n",
            "305/305 [==============================] - 3s 11ms/step - loss: 0.2484 - accuracy: 0.3892 - val_loss: 0.2423 - val_accuracy: 0.3970\n",
            "Epoch 4/100\n",
            "305/305 [==============================] - 3s 11ms/step - loss: 0.2379 - accuracy: 0.4163 - val_loss: 0.2317 - val_accuracy: 0.4269\n",
            "Epoch 5/100\n",
            "305/305 [==============================] - 3s 11ms/step - loss: 0.2284 - accuracy: 0.4439 - val_loss: 0.2237 - val_accuracy: 0.4518\n",
            "Epoch 6/100\n",
            "305/305 [==============================] - 3s 10ms/step - loss: 0.2206 - accuracy: 0.4655 - val_loss: 0.2154 - val_accuracy: 0.4776\n",
            "Epoch 7/100\n",
            "305/305 [==============================] - 3s 11ms/step - loss: 0.2132 - accuracy: 0.4873 - val_loss: 0.2085 - val_accuracy: 0.4905\n",
            "Epoch 8/100\n",
            "305/305 [==============================] - 3s 10ms/step - loss: 0.2069 - accuracy: 0.5083 - val_loss: 0.2022 - val_accuracy: 0.5151\n",
            "Epoch 9/100\n",
            "305/305 [==============================] - 3s 10ms/step - loss: 0.2019 - accuracy: 0.5211 - val_loss: 0.1964 - val_accuracy: 0.5405\n",
            "Epoch 10/100\n",
            "305/305 [==============================] - 3s 10ms/step - loss: 0.1972 - accuracy: 0.5361 - val_loss: 0.1919 - val_accuracy: 0.5526\n",
            "Epoch 11/100\n",
            "305/305 [==============================] - 3s 11ms/step - loss: 0.1929 - accuracy: 0.5533 - val_loss: 0.1871 - val_accuracy: 0.5724\n",
            "Epoch 12/100\n",
            "305/305 [==============================] - 3s 11ms/step - loss: 0.1887 - accuracy: 0.5650 - val_loss: 0.1841 - val_accuracy: 0.5764\n",
            "Epoch 13/100\n",
            "305/305 [==============================] - 3s 10ms/step - loss: 0.1854 - accuracy: 0.5742 - val_loss: 0.1808 - val_accuracy: 0.5905\n",
            "Epoch 14/100\n",
            "305/305 [==============================] - 3s 11ms/step - loss: 0.1823 - accuracy: 0.5830 - val_loss: 0.1776 - val_accuracy: 0.5940\n",
            "Epoch 15/100\n",
            "305/305 [==============================] - 3s 11ms/step - loss: 0.1792 - accuracy: 0.5914 - val_loss: 0.1735 - val_accuracy: 0.6099\n",
            "Epoch 16/100\n",
            "305/305 [==============================] - 3s 11ms/step - loss: 0.1762 - accuracy: 0.6010 - val_loss: 0.1712 - val_accuracy: 0.6144\n",
            "Epoch 17/100\n",
            "305/305 [==============================] - 3s 10ms/step - loss: 0.1738 - accuracy: 0.6081 - val_loss: 0.1683 - val_accuracy: 0.6241\n",
            "Epoch 18/100\n",
            "305/305 [==============================] - 3s 10ms/step - loss: 0.1711 - accuracy: 0.6159 - val_loss: 0.1657 - val_accuracy: 0.6306\n",
            "Epoch 19/100\n",
            "305/305 [==============================] - 3s 11ms/step - loss: 0.1691 - accuracy: 0.6188 - val_loss: 0.1652 - val_accuracy: 0.6280\n",
            "Epoch 20/100\n",
            "305/305 [==============================] - 3s 11ms/step - loss: 0.1664 - accuracy: 0.6297 - val_loss: 0.1622 - val_accuracy: 0.6328\n",
            "Epoch 21/100\n",
            "305/305 [==============================] - 3s 11ms/step - loss: 0.1645 - accuracy: 0.6311 - val_loss: 0.1594 - val_accuracy: 0.6492\n",
            "Epoch 22/100\n",
            "305/305 [==============================] - 3s 10ms/step - loss: 0.1624 - accuracy: 0.6383 - val_loss: 0.1579 - val_accuracy: 0.6499\n",
            "Epoch 23/100\n",
            "305/305 [==============================] - 3s 10ms/step - loss: 0.1602 - accuracy: 0.6443 - val_loss: 0.1549 - val_accuracy: 0.6596\n",
            "Epoch 24/100\n",
            "305/305 [==============================] - 3s 11ms/step - loss: 0.1582 - accuracy: 0.6496 - val_loss: 0.1535 - val_accuracy: 0.6623\n",
            "Epoch 25/100\n",
            "305/305 [==============================] - 3s 11ms/step - loss: 0.1570 - accuracy: 0.6577 - val_loss: 0.1521 - val_accuracy: 0.6637\n",
            "Epoch 26/100\n",
            "305/305 [==============================] - 3s 11ms/step - loss: 0.1551 - accuracy: 0.6590 - val_loss: 0.1504 - val_accuracy: 0.6708\n",
            "Epoch 27/100\n",
            "305/305 [==============================] - 3s 11ms/step - loss: 0.1538 - accuracy: 0.6628 - val_loss: 0.1485 - val_accuracy: 0.6787\n",
            "Epoch 28/100\n",
            "305/305 [==============================] - 3s 10ms/step - loss: 0.1521 - accuracy: 0.6674 - val_loss: 0.1469 - val_accuracy: 0.6806\n",
            "Epoch 29/100\n",
            "305/305 [==============================] - 3s 11ms/step - loss: 0.1509 - accuracy: 0.6724 - val_loss: 0.1449 - val_accuracy: 0.6861\n",
            "Epoch 30/100\n",
            "305/305 [==============================] - 3s 11ms/step - loss: 0.1487 - accuracy: 0.6776 - val_loss: 0.1435 - val_accuracy: 0.6897\n",
            "Epoch 31/100\n",
            "305/305 [==============================] - 3s 11ms/step - loss: 0.1473 - accuracy: 0.6802 - val_loss: 0.1417 - val_accuracy: 0.6972\n",
            "Epoch 32/100\n",
            "305/305 [==============================] - 3s 11ms/step - loss: 0.1463 - accuracy: 0.6830 - val_loss: 0.1412 - val_accuracy: 0.6973\n",
            "Epoch 33/100\n",
            "305/305 [==============================] - 3s 11ms/step - loss: 0.1447 - accuracy: 0.6881 - val_loss: 0.1396 - val_accuracy: 0.6987\n",
            "Epoch 34/100\n",
            "305/305 [==============================] - 3s 11ms/step - loss: 0.1436 - accuracy: 0.6900 - val_loss: 0.1383 - val_accuracy: 0.7035\n",
            "Epoch 35/100\n",
            "305/305 [==============================] - 3s 11ms/step - loss: 0.1422 - accuracy: 0.6937 - val_loss: 0.1364 - val_accuracy: 0.7104\n",
            "Epoch 36/100\n",
            "305/305 [==============================] - 3s 11ms/step - loss: 0.1406 - accuracy: 0.7017 - val_loss: 0.1352 - val_accuracy: 0.7118\n",
            "Epoch 37/100\n",
            "305/305 [==============================] - 3s 11ms/step - loss: 0.1395 - accuracy: 0.7002 - val_loss: 0.1341 - val_accuracy: 0.7155\n",
            "Epoch 38/100\n",
            "305/305 [==============================] - 3s 11ms/step - loss: 0.1380 - accuracy: 0.7051 - val_loss: 0.1328 - val_accuracy: 0.7176\n",
            "Epoch 39/100\n",
            "305/305 [==============================] - 3s 11ms/step - loss: 0.1372 - accuracy: 0.7081 - val_loss: 0.1318 - val_accuracy: 0.7211\n",
            "Epoch 40/100\n",
            "305/305 [==============================] - 3s 11ms/step - loss: 0.1359 - accuracy: 0.7109 - val_loss: 0.1310 - val_accuracy: 0.7257\n",
            "Epoch 41/100\n",
            "305/305 [==============================] - 3s 11ms/step - loss: 0.1347 - accuracy: 0.7157 - val_loss: 0.1311 - val_accuracy: 0.7183\n",
            "Epoch 42/100\n",
            "305/305 [==============================] - 3s 11ms/step - loss: 0.1338 - accuracy: 0.7176 - val_loss: 0.1280 - val_accuracy: 0.7305\n",
            "Epoch 43/100\n",
            "305/305 [==============================] - 3s 11ms/step - loss: 0.1326 - accuracy: 0.7195 - val_loss: 0.1274 - val_accuracy: 0.7277\n",
            "Epoch 44/100\n",
            "305/305 [==============================] - 3s 11ms/step - loss: 0.1320 - accuracy: 0.7225 - val_loss: 0.1274 - val_accuracy: 0.7315\n",
            "Epoch 45/100\n",
            "305/305 [==============================] - 3s 11ms/step - loss: 0.1308 - accuracy: 0.7252 - val_loss: 0.1242 - val_accuracy: 0.7421\n",
            "Epoch 46/100\n",
            "305/305 [==============================] - 3s 11ms/step - loss: 0.1294 - accuracy: 0.7289 - val_loss: 0.1243 - val_accuracy: 0.7418\n",
            "Epoch 47/100\n",
            "305/305 [==============================] - 3s 11ms/step - loss: 0.1287 - accuracy: 0.7317 - val_loss: 0.1232 - val_accuracy: 0.7424\n",
            "Epoch 48/100\n",
            "305/305 [==============================] - 3s 11ms/step - loss: 0.1279 - accuracy: 0.7312 - val_loss: 0.1226 - val_accuracy: 0.7454\n",
            "Epoch 49/100\n",
            "305/305 [==============================] - 3s 11ms/step - loss: 0.1267 - accuracy: 0.7373 - val_loss: 0.1214 - val_accuracy: 0.7484\n",
            "Epoch 50/100\n",
            "305/305 [==============================] - 3s 10ms/step - loss: 0.1264 - accuracy: 0.7359 - val_loss: 0.1202 - val_accuracy: 0.7535\n",
            "Epoch 51/100\n",
            "305/305 [==============================] - 3s 10ms/step - loss: 0.1247 - accuracy: 0.7410 - val_loss: 0.1194 - val_accuracy: 0.7539\n",
            "Epoch 52/100\n",
            "305/305 [==============================] - 3s 11ms/step - loss: 0.1244 - accuracy: 0.7418 - val_loss: 0.1189 - val_accuracy: 0.7560\n",
            "Epoch 53/100\n",
            "305/305 [==============================] - 3s 11ms/step - loss: 0.1230 - accuracy: 0.7458 - val_loss: 0.1183 - val_accuracy: 0.7547\n",
            "Epoch 54/100\n",
            "305/305 [==============================] - 3s 10ms/step - loss: 0.1231 - accuracy: 0.7452 - val_loss: 0.1168 - val_accuracy: 0.7605\n",
            "Epoch 55/100\n",
            "305/305 [==============================] - 3s 11ms/step - loss: 0.1215 - accuracy: 0.7506 - val_loss: 0.1156 - val_accuracy: 0.7599\n",
            "Epoch 56/100\n",
            "305/305 [==============================] - 3s 11ms/step - loss: 0.1203 - accuracy: 0.7546 - val_loss: 0.1146 - val_accuracy: 0.7659\n",
            "Epoch 57/100\n",
            "305/305 [==============================] - 3s 11ms/step - loss: 0.1198 - accuracy: 0.7546 - val_loss: 0.1141 - val_accuracy: 0.7675\n",
            "Epoch 58/100\n",
            "305/305 [==============================] - 3s 11ms/step - loss: 0.1190 - accuracy: 0.7584 - val_loss: 0.1126 - val_accuracy: 0.7692\n",
            "Epoch 59/100\n",
            "305/305 [==============================] - 3s 11ms/step - loss: 0.1181 - accuracy: 0.7613 - val_loss: 0.1123 - val_accuracy: 0.7721\n",
            "Epoch 60/100\n",
            "305/305 [==============================] - 3s 11ms/step - loss: 0.1177 - accuracy: 0.7603 - val_loss: 0.1109 - val_accuracy: 0.7743\n",
            "Epoch 61/100\n",
            "305/305 [==============================] - 3s 11ms/step - loss: 0.1162 - accuracy: 0.7640 - val_loss: 0.1110 - val_accuracy: 0.7736\n",
            "Epoch 62/100\n",
            "305/305 [==============================] - 3s 11ms/step - loss: 0.1162 - accuracy: 0.7641 - val_loss: 0.1096 - val_accuracy: 0.7766\n",
            "Epoch 63/100\n",
            "305/305 [==============================] - 3s 11ms/step - loss: 0.1155 - accuracy: 0.7653 - val_loss: 0.1090 - val_accuracy: 0.7786\n",
            "Epoch 64/100\n",
            "305/305 [==============================] - 3s 11ms/step - loss: 0.1150 - accuracy: 0.7676 - val_loss: 0.1088 - val_accuracy: 0.7804\n",
            "Epoch 65/100\n",
            "305/305 [==============================] - 3s 11ms/step - loss: 0.1144 - accuracy: 0.7698 - val_loss: 0.1082 - val_accuracy: 0.7806\n",
            "Epoch 66/100\n",
            "305/305 [==============================] - 3s 11ms/step - loss: 0.1134 - accuracy: 0.7706 - val_loss: 0.1068 - val_accuracy: 0.7871\n",
            "Epoch 67/100\n",
            "305/305 [==============================] - 3s 11ms/step - loss: 0.1131 - accuracy: 0.7723 - val_loss: 0.1077 - val_accuracy: 0.7819\n",
            "Epoch 68/100\n",
            "305/305 [==============================] - 3s 10ms/step - loss: 0.1116 - accuracy: 0.7742 - val_loss: 0.1061 - val_accuracy: 0.7877\n",
            "Epoch 69/100\n",
            "305/305 [==============================] - 3s 11ms/step - loss: 0.1109 - accuracy: 0.7773 - val_loss: 0.1048 - val_accuracy: 0.7906\n",
            "Epoch 70/100\n",
            "305/305 [==============================] - 3s 11ms/step - loss: 0.1104 - accuracy: 0.7792 - val_loss: 0.1036 - val_accuracy: 0.7936\n",
            "Epoch 71/100\n",
            "305/305 [==============================] - 3s 11ms/step - loss: 0.1101 - accuracy: 0.7808 - val_loss: 0.1038 - val_accuracy: 0.7932\n",
            "Epoch 72/100\n",
            "305/305 [==============================] - 3s 11ms/step - loss: 0.1095 - accuracy: 0.7797 - val_loss: 0.1035 - val_accuracy: 0.7934\n",
            "Epoch 73/100\n",
            "305/305 [==============================] - 3s 11ms/step - loss: 0.1087 - accuracy: 0.7828 - val_loss: 0.1023 - val_accuracy: 0.7977\n",
            "Epoch 74/100\n",
            "305/305 [==============================] - 3s 10ms/step - loss: 0.1084 - accuracy: 0.7836 - val_loss: 0.1016 - val_accuracy: 0.7961\n",
            "Epoch 75/100\n",
            "305/305 [==============================] - 3s 11ms/step - loss: 0.1080 - accuracy: 0.7844 - val_loss: 0.1016 - val_accuracy: 0.7983\n",
            "Epoch 76/100\n",
            "305/305 [==============================] - 3s 11ms/step - loss: 0.1070 - accuracy: 0.7866 - val_loss: 0.1015 - val_accuracy: 0.8006\n",
            "Epoch 77/100\n",
            "305/305 [==============================] - 3s 10ms/step - loss: 0.1067 - accuracy: 0.7887 - val_loss: 0.1002 - val_accuracy: 0.8002\n",
            "Epoch 78/100\n",
            "305/305 [==============================] - 3s 11ms/step - loss: 0.1058 - accuracy: 0.7909 - val_loss: 0.0994 - val_accuracy: 0.8031\n",
            "Epoch 79/100\n",
            "305/305 [==============================] - 3s 11ms/step - loss: 0.1059 - accuracy: 0.7905 - val_loss: 0.0990 - val_accuracy: 0.8036\n",
            "Epoch 80/100\n",
            "305/305 [==============================] - 3s 11ms/step - loss: 0.1058 - accuracy: 0.7903 - val_loss: 0.0986 - val_accuracy: 0.8035\n",
            "Epoch 81/100\n",
            "305/305 [==============================] - 3s 11ms/step - loss: 0.1043 - accuracy: 0.7941 - val_loss: 0.0990 - val_accuracy: 0.8022\n",
            "Epoch 82/100\n",
            "305/305 [==============================] - 3s 11ms/step - loss: 0.1036 - accuracy: 0.7981 - val_loss: 0.0978 - val_accuracy: 0.8082\n",
            "Epoch 83/100\n",
            "305/305 [==============================] - 3s 11ms/step - loss: 0.1040 - accuracy: 0.7945 - val_loss: 0.0983 - val_accuracy: 0.8045\n",
            "Epoch 84/100\n",
            "305/305 [==============================] - 3s 11ms/step - loss: 0.1032 - accuracy: 0.7982 - val_loss: 0.0972 - val_accuracy: 0.8073\n",
            "Epoch 85/100\n",
            "305/305 [==============================] - 3s 11ms/step - loss: 0.1028 - accuracy: 0.7986 - val_loss: 0.0964 - val_accuracy: 0.8088\n",
            "Epoch 86/100\n",
            "305/305 [==============================] - 3s 11ms/step - loss: 0.1018 - accuracy: 0.8014 - val_loss: 0.0960 - val_accuracy: 0.8124\n",
            "Epoch 87/100\n",
            "305/305 [==============================] - 3s 11ms/step - loss: 0.1012 - accuracy: 0.8028 - val_loss: 0.0954 - val_accuracy: 0.8139\n",
            "Epoch 88/100\n",
            "305/305 [==============================] - 3s 11ms/step - loss: 0.1013 - accuracy: 0.8013 - val_loss: 0.0947 - val_accuracy: 0.8144\n",
            "Epoch 89/100\n",
            "305/305 [==============================] - 3s 11ms/step - loss: 0.1013 - accuracy: 0.8011 - val_loss: 0.0936 - val_accuracy: 0.8179\n",
            "Epoch 90/100\n",
            "305/305 [==============================] - 3s 10ms/step - loss: 0.1006 - accuracy: 0.8046 - val_loss: 0.0942 - val_accuracy: 0.8151\n",
            "Epoch 91/100\n",
            "305/305 [==============================] - 3s 11ms/step - loss: 0.0999 - accuracy: 0.8057 - val_loss: 0.0928 - val_accuracy: 0.8195\n",
            "Epoch 92/100\n",
            "305/305 [==============================] - 3s 11ms/step - loss: 0.0993 - accuracy: 0.8095 - val_loss: 0.0930 - val_accuracy: 0.8165\n",
            "Epoch 93/100\n",
            "305/305 [==============================] - 3s 11ms/step - loss: 0.0992 - accuracy: 0.8063 - val_loss: 0.0922 - val_accuracy: 0.8190\n",
            "Epoch 94/100\n",
            "305/305 [==============================] - 3s 11ms/step - loss: 0.0981 - accuracy: 0.8118 - val_loss: 0.0912 - val_accuracy: 0.8227\n",
            "Epoch 95/100\n",
            "305/305 [==============================] - 3s 11ms/step - loss: 0.0981 - accuracy: 0.8109 - val_loss: 0.0925 - val_accuracy: 0.8200\n",
            "Epoch 96/100\n",
            "305/305 [==============================] - 3s 11ms/step - loss: 0.0972 - accuracy: 0.8128 - val_loss: 0.0911 - val_accuracy: 0.8221\n",
            "Epoch 97/100\n",
            "305/305 [==============================] - 3s 11ms/step - loss: 0.0969 - accuracy: 0.8130 - val_loss: 0.0900 - val_accuracy: 0.8290\n",
            "Epoch 98/100\n",
            "305/305 [==============================] - 3s 11ms/step - loss: 0.0964 - accuracy: 0.8171 - val_loss: 0.0908 - val_accuracy: 0.8228\n",
            "Epoch 99/100\n",
            "305/305 [==============================] - 3s 11ms/step - loss: 0.0962 - accuracy: 0.8154 - val_loss: 0.0908 - val_accuracy: 0.8231\n",
            "Epoch 100/100\n",
            "305/305 [==============================] - 3s 11ms/step - loss: 0.0959 - accuracy: 0.8151 - val_loss: 0.0893 - val_accuracy: 0.8262\n"
          ]
        }
      ]
    },
    {
      "cell_type": "code",
      "metadata": {
        "id": "eNF8mZelgcis",
        "colab": {
          "base_uri": "https://localhost:8080/"
        },
        "outputId": "986b8d76-cfd8-495c-f9c8-7c368699bc77"
      },
      "source": [
        " import keras\n",
        "from tensorflow.keras.optimizers import Adam\n",
        "from keras.models import Sequential\n",
        "from keras.layers import Dense, Dropout\n",
        "from keras.layers import LSTM\n",
        "\n",
        "model = Sequential()\n",
        "model.add(LSTM(100, batch_input_shape = (None, None, x.shape[2]),return_sequences=True))\n",
        "model.add(Dropout(0.2))\n",
        "model.add(LSTM(50))\n",
        "model.add(Dense(10, activation='softmax'))\n",
        "\n",
        "\n",
        "rmsprop =RMSprop(lr=0.0001, rho=0.9, epsilon=1e-08)\n",
        "model.compile(loss='mean_squared_error',\n",
        "                  optimizer=rmsprop,\n",
        "                  metrics=['accuracy'])\n",
        "adam = Adam(lr=0.5, beta_1=0.9, beta_2=0.999, epsilon=None, decay=0.0, amsgrad=False)\n",
        "model.compile(loss='binary_crossentropy', optimizer='adam', metrics=['accuracy'])\n",
        "model.summary()"
      ],
      "execution_count": null,
      "outputs": [
        {
          "output_type": "stream",
          "name": "stdout",
          "text": [
            "Model: \"sequential_1\"\n",
            "_________________________________________________________________\n",
            " Layer (type)                Output Shape              Param #   \n",
            "=================================================================\n",
            " lstm_5 (LSTM)               (None, None, 100)         68400     \n",
            "                                                                 \n",
            " dropout_5 (Dropout)         (None, None, 100)         0         \n",
            "                                                                 \n",
            " lstm_6 (LSTM)               (None, 50)                30200     \n",
            "                                                                 \n",
            " dense_1 (Dense)             (None, 10)                510       \n",
            "                                                                 \n",
            "=================================================================\n",
            "Total params: 99,110\n",
            "Trainable params: 99,110\n",
            "Non-trainable params: 0\n",
            "_________________________________________________________________\n"
          ]
        },
        {
          "output_type": "stream",
          "name": "stderr",
          "text": [
            "/usr/local/lib/python3.7/dist-packages/keras/optimizer_v2/rmsprop.py:130: UserWarning: The `lr` argument is deprecated, use `learning_rate` instead.\n",
            "  super(RMSprop, self).__init__(name, **kwargs)\n",
            "/usr/local/lib/python3.7/dist-packages/keras/optimizer_v2/adam.py:105: UserWarning: The `lr` argument is deprecated, use `learning_rate` instead.\n",
            "  super(Adam, self).__init__(name, **kwargs)\n"
          ]
        }
      ]
    },
    {
      "cell_type": "markdown",
      "metadata": {
        "id": "USYQJJ41UsJA"
      },
      "source": [
        "# New Section"
      ]
    },
    {
      "cell_type": "code",
      "metadata": {
        "id": "kuQc3oZAUsub"
      },
      "source": [
        "import torch\n",
        "from torch.utils.data import DataLoader\n",
        "from torch.utils.data import TensorDataset\n",
        "\n",
        "batch_size = 150\n",
        "def dataload(X, y):\n",
        "    X_tensor = torch.tensor(X).float()\n",
        "    y_tensor = torch.tensor(y)\n",
        "    dataset_tensor = TensorDataset(X_tensor, y_tensor)\n",
        "    return dataset_tensor\n",
        "    #return DataLoader(dataset_tensor, batch_size=batch_size, shuffle=True)\n",
        "\n",
        "train_loader = DataLoader(dataload(x_train, y_train), batch_size=batch_size, shuffle=True)\n",
        "\n",
        "valid_loader = DataLoader(dataload(x_test, y_test), batch_size=batch_size, shuffle=False)\n",
        "\n",
        "#test_loader = DataLoader(dataload(x_test, y_test), batch_size=batch_size, shuffle=False)"
      ],
      "execution_count": 59,
      "outputs": []
    },
    {
      "cell_type": "markdown",
      "metadata": {
        "id": "HmQvckurOj7V"
      },
      "source": [
        "# LSTM"
      ]
    },
    {
      "cell_type": "code",
      "metadata": {
        "id": "8n8OGs5SOkPF"
      },
      "source": [
        "#model hyperparameters\n",
        "hidden_dim1 = 64\n",
        "hidden_dim2= 32 \n",
        "embed_dim = x_train.shape[2]\n",
        "#ed2 = hidden_dim*2\n",
        "output_dim = y_train.shape[1]\n",
        "num_layers = 1\n",
        "bidirectional = True\n",
        "dropout = 0.5\n",
        "\n",
        "#training hyperparameters\n",
        "num_epochs = 100\n",
        "lr=0.0001"
      ],
      "execution_count": 60,
      "outputs": []
    },
    {
      "cell_type": "code",
      "metadata": {
        "id": "J_IjqVibOkRR"
      },
      "source": [
        "import torch.nn as nn\n",
        "from torch.nn import functional as F\n",
        "\n",
        "class LSTM(nn.Module):\n",
        "    def __init__(self):\n",
        "        super().__init__()\n",
        "               \n",
        "        self.layer1 = nn.Sequential(\n",
        "            nn.Conv1d(16, 64, 4, stride=2),\n",
        "            nn.ReLU(),\n",
        "            nn.Dropout(p=0.1))      \n",
        "        self.lstm = nn.LSTM(3839, hidden_dim1, num_layers=num_layers,\n",
        "                    bidirectional=bidirectional, \n",
        "                    dropout=dropout,\n",
        "                    batch_first=True)\n",
        "        self.fc = nn.Linear(hidden_dim1*2, output_dim)   \n",
        "        self.softmax = nn.LogSoftmax(dim=1)\n",
        "    \n",
        "    def attention_net(self, lstm_output, final_state):\n",
        "        hidden = final_state.unsqueeze(2)  # hidden : [batch_size, n_hidden * num_directions(=2), 1(=n_layer)]\n",
        "        attn_weights = torch.bmm(lstm_output, hidden).squeeze(2) # attn_weights : [batch_size, seq_len, 1]\n",
        "        soft_attn_weights = F.softmax(attn_weights, 1)\n",
        "        # [batch_size, n_hidden * num_directions(=2), seq_len] * [batch_size, seq_len, 1] = [batch_size, n_hidden * num_directions(=2), 1]\n",
        "        context = torch.bmm(lstm_output.transpose(1, 2), soft_attn_weights.unsqueeze(2)).squeeze(2)\n",
        "        return context, soft_attn_weights.cpu().data.numpy() # context : [batch_size, n_hidden * num_directions(=2)]\n",
        "    \n",
        "    def forward(self, x):\n",
        "        out0 = self.layer1(x)\n",
        "        out,(hn, cn) = self.lstm(out0)\n",
        "        hn = torch.cat((hn[-2,:,:], hn[-1,:,:]), dim = 1)\n",
        "        \n",
        "        attn_output, attention = self.attention_net(out, hn)\n",
        "        out = self.fc(attn_output)\n",
        "        out = self.softmax(out)\n",
        "        return out"
      ],
      "execution_count": 65,
      "outputs": []
    },
    {
      "cell_type": "code",
      "metadata": {
        "id": "8Kl-hCGVQ7V9"
      },
      "source": [
        "#explicitly initialize weights for better learning\n",
        "def initialize_weights(m):\n",
        "    if isinstance(m, nn.Linear):\n",
        "        nn.init.xavier_normal_(m.weight)\n",
        "        nn.init.zeros_(m.bias)\n",
        "    elif isinstance(m, (nn.Conv2d, nn.Conv2d)):\n",
        "        for name, param in m.named_parameters():\n",
        "            if 'bias' in name:\n",
        "                nn.init.zeros_(param)\n",
        "            elif 'weight' in name:\n",
        "                nn.init.kaiming_normal_(param) #<---here"
      ],
      "execution_count": 66,
      "outputs": []
    },
    {
      "cell_type": "code",
      "metadata": {
        "colab": {
          "base_uri": "https://localhost:8080/"
        },
        "id": "Fv5ZjUSdQ9gs",
        "outputId": "051d1c30-67e9-425e-e1e2-1efeb40b1128"
      },
      "source": [
        "model = LSTM().float()\n",
        "#model.apply(initialize_weights)"
      ],
      "execution_count": 63,
      "outputs": [
        {
          "output_type": "stream",
          "name": "stderr",
          "text": [
            "/usr/local/lib/python3.7/dist-packages/torch/nn/modules/rnn.py:65: UserWarning: dropout option adds dropout after all but last recurrent layer, so non-zero dropout expects num_layers greater than 1, but got dropout=0.5 and num_layers=1\n",
            "  \"num_layers={}\".format(dropout, num_layers))\n",
            "/usr/local/lib/python3.7/dist-packages/torch/nn/modules/rnn.py:65: UserWarning: dropout option adds dropout after all but last recurrent layer, so non-zero dropout expects num_layers greater than 1, but got dropout=0.1 and num_layers=1\n",
            "  \"num_layers={}\".format(dropout, num_layers))\n"
          ]
        }
      ]
    },
    {
      "cell_type": "code",
      "metadata": {
        "id": "htjSK8grQ9i6"
      },
      "source": [
        "# Loss and optimizer\n",
        "#criterion = nn.CrossEntropyLoss()\n",
        "criterion = nn.MSELoss()\n",
        "optimizer = torch.optim.RMSprop(model.parameters(),lr=0.0001, eps=1e-08)"
      ],
      "execution_count": 91,
      "outputs": []
    },
    {
      "cell_type": "markdown",
      "metadata": {
        "id": "QmtQFB67HCoR"
      },
      "source": [
        "# Train Test "
      ]
    },
    {
      "cell_type": "code",
      "metadata": {
        "id": "kI7GHuLLIdyz"
      },
      "source": [
        "def binary_accuracy(preds, y):\n",
        "    \"\"\"\n",
        "    Returns accuracy per batch, i.e. if you get 8/10 right, this returns 0.8, NOT 8\n",
        "    \"\"\"\n",
        "    #round predictions to the closest integer\n",
        "    rounded_preds = torch.round(torch.sigmoid(preds))\n",
        "    correct = (rounded_preds == y).float() #convert into float for division \n",
        "    acc = correct.sum() / len(correct)\n",
        "    return acc/2"
      ],
      "execution_count": 92,
      "outputs": []
    },
    {
      "cell_type": "code",
      "metadata": {
        "id": "H_ZVkAzNId1V"
      },
      "source": [
        "def cnn_acc(preds,y):\n",
        "    _, predicted = torch.max(preds.data, 1)\n",
        "    _, y1 = torch.max(y.data, 1)\n",
        "    correct = (predicted == y1).sum()\n",
        "    acc = correct / y.size(0)\n",
        "    return acc"
      ],
      "execution_count": 113,
      "outputs": []
    },
    {
      "cell_type": "code",
      "metadata": {
        "id": "r76aiXrnId3k"
      },
      "source": [
        "def train(model, loader, optimizer, criterion):\n",
        "    epoch_loss = 0\n",
        "    epoch_acc = 0\n",
        "    model.train() #useful for batchnorm and dropout\n",
        "    for i, (features, label) in enumerate(loader): \n",
        "        #predict\n",
        "        predictions = model(features)\n",
        "        #calculate loss\n",
        "        loss = criterion(predictions, label)\n",
        "        \"\"\"l2_lambda = 0.001\n",
        "        l2_norm = sum(p.pow(2.0).sum() for p in model.parameters())\n",
        "        loss = loss + l2_lambda * l2_norm\"\"\"\n",
        "        acc = cnn_acc(predictions, label)\n",
        "        \n",
        "        #backprop\n",
        "        optimizer.zero_grad()\n",
        "        loss.backward()\n",
        "        optimizer.step()\n",
        "        \n",
        "        epoch_loss += loss.item()\n",
        "        epoch_acc += acc.item()\n",
        "                \n",
        "    return epoch_loss / len(loader), epoch_acc / len(loader)"
      ],
      "execution_count": 114,
      "outputs": []
    },
    {
      "cell_type": "code",
      "metadata": {
        "id": "Bqj2y7T-Id5d"
      },
      "source": [
        "def evaluate(model, loader, criterion):\n",
        "    epoch_loss = 0\n",
        "    epoch_acc = 0\n",
        "    model.eval()\n",
        "    \n",
        "    with torch.no_grad():\n",
        "        for i, (features, label) in enumerate(loader): \n",
        "\n",
        "\n",
        "            predictions = model(features)\n",
        "            \n",
        "            loss = criterion(predictions, label)\n",
        "            acc = cnn_acc(predictions, label)\n",
        "\n",
        "            epoch_loss += loss.item()\n",
        "            epoch_acc += acc.item()\n",
        "        \n",
        "    return epoch_loss / len(loader), epoch_acc / len(loader)"
      ],
      "execution_count": 115,
      "outputs": []
    },
    {
      "cell_type": "code",
      "metadata": {
        "colab": {
          "base_uri": "https://localhost:8080/"
        },
        "id": "EzIfXUOtId7p",
        "outputId": "793119de-8343-42fe-cac1-8bcdf7794ea9"
      },
      "source": [
        "best_valid_loss = float('inf')\n",
        "\n",
        "train_losses = []\n",
        "train_accs = []\n",
        "valid_losses = []\n",
        "valid_accs = []\n",
        "for epoch in range(num_epochs):\n",
        "\n",
        "    train_loss,train_acc = train(model, train_loader, optimizer, criterion)\n",
        "    valid_loss,valid_acc = evaluate(model, valid_loader, criterion)\n",
        "    \n",
        "    #for plotting\n",
        "    train_losses.append(train_loss)\n",
        "    train_accs.append(train_acc)\n",
        "    valid_losses.append(valid_loss)\n",
        "    valid_accs.append(valid_acc)\n",
        "    \n",
        "    if valid_loss < best_valid_loss:\n",
        "        best_valid_loss = valid_loss\n",
        "        torch.save(model.state_dict(),'tensor.pt')\n",
        "    \n",
        "    print(f'Epoch: {epoch+1:02} | Train Loss: {train_loss:.3f} | Train Acc: {train_acc*100:.2f}%')\n",
        "    print(f'\\t Val. Loss: {valid_loss:.3f} |  Val. Acc: {valid_acc*100:.2f}%')"
      ],
      "execution_count": 116,
      "outputs": [
        {
          "output_type": "stream",
          "name": "stdout",
          "text": [
            "Epoch: 01 | Train Loss: 0.060 | Train Acc: 57.48%\n",
            "\t Val. Loss: 0.061 |  Val. Acc: 55.49%\n",
            "Epoch: 02 | Train Loss: 0.059 | Train Acc: 57.71%\n",
            "\t Val. Loss: 0.061 |  Val. Acc: 56.10%\n",
            "Epoch: 03 | Train Loss: 0.059 | Train Acc: 58.03%\n",
            "\t Val. Loss: 0.061 |  Val. Acc: 55.08%\n",
            "Epoch: 04 | Train Loss: 0.059 | Train Acc: 58.47%\n",
            "\t Val. Loss: 0.060 |  Val. Acc: 56.49%\n",
            "Epoch: 05 | Train Loss: 0.059 | Train Acc: 58.62%\n",
            "\t Val. Loss: 0.060 |  Val. Acc: 56.97%\n",
            "Epoch: 06 | Train Loss: 0.058 | Train Acc: 58.81%\n",
            "\t Val. Loss: 0.060 |  Val. Acc: 57.01%\n",
            "Epoch: 07 | Train Loss: 0.058 | Train Acc: 59.26%\n",
            "\t Val. Loss: 0.060 |  Val. Acc: 57.48%\n",
            "Epoch: 08 | Train Loss: 0.058 | Train Acc: 59.53%\n",
            "\t Val. Loss: 0.059 |  Val. Acc: 57.13%\n",
            "Epoch: 09 | Train Loss: 0.058 | Train Acc: 60.06%\n",
            "\t Val. Loss: 0.059 |  Val. Acc: 57.81%\n",
            "Epoch: 10 | Train Loss: 0.057 | Train Acc: 60.08%\n",
            "\t Val. Loss: 0.059 |  Val. Acc: 57.48%\n",
            "Epoch: 11 | Train Loss: 0.057 | Train Acc: 60.21%\n",
            "\t Val. Loss: 0.059 |  Val. Acc: 58.54%\n",
            "Epoch: 12 | Train Loss: 0.057 | Train Acc: 60.70%\n",
            "\t Val. Loss: 0.059 |  Val. Acc: 57.55%\n",
            "Epoch: 13 | Train Loss: 0.057 | Train Acc: 60.88%\n",
            "\t Val. Loss: 0.058 |  Val. Acc: 58.37%\n",
            "Epoch: 14 | Train Loss: 0.057 | Train Acc: 61.27%\n",
            "\t Val. Loss: 0.058 |  Val. Acc: 58.59%\n",
            "Epoch: 15 | Train Loss: 0.056 | Train Acc: 61.47%\n",
            "\t Val. Loss: 0.058 |  Val. Acc: 58.43%\n",
            "Epoch: 16 | Train Loss: 0.056 | Train Acc: 61.60%\n",
            "\t Val. Loss: 0.058 |  Val. Acc: 58.98%\n",
            "Epoch: 17 | Train Loss: 0.056 | Train Acc: 61.98%\n",
            "\t Val. Loss: 0.058 |  Val. Acc: 59.08%\n",
            "Epoch: 18 | Train Loss: 0.056 | Train Acc: 62.00%\n",
            "\t Val. Loss: 0.058 |  Val. Acc: 59.43%\n",
            "Epoch: 19 | Train Loss: 0.056 | Train Acc: 62.15%\n",
            "\t Val. Loss: 0.057 |  Val. Acc: 60.13%\n",
            "Epoch: 20 | Train Loss: 0.056 | Train Acc: 62.35%\n",
            "\t Val. Loss: 0.057 |  Val. Acc: 60.14%\n",
            "Epoch: 21 | Train Loss: 0.055 | Train Acc: 62.80%\n",
            "\t Val. Loss: 0.057 |  Val. Acc: 59.61%\n",
            "Epoch: 22 | Train Loss: 0.055 | Train Acc: 63.01%\n",
            "\t Val. Loss: 0.057 |  Val. Acc: 60.02%\n",
            "Epoch: 23 | Train Loss: 0.055 | Train Acc: 63.06%\n",
            "\t Val. Loss: 0.057 |  Val. Acc: 60.29%\n",
            "Epoch: 24 | Train Loss: 0.055 | Train Acc: 63.35%\n",
            "\t Val. Loss: 0.056 |  Val. Acc: 60.84%\n",
            "Epoch: 25 | Train Loss: 0.055 | Train Acc: 63.71%\n",
            "\t Val. Loss: 0.056 |  Val. Acc: 60.85%\n",
            "Epoch: 26 | Train Loss: 0.054 | Train Acc: 63.70%\n",
            "\t Val. Loss: 0.056 |  Val. Acc: 60.76%\n",
            "Epoch: 27 | Train Loss: 0.054 | Train Acc: 63.92%\n",
            "\t Val. Loss: 0.056 |  Val. Acc: 61.91%\n",
            "Epoch: 28 | Train Loss: 0.054 | Train Acc: 63.99%\n",
            "\t Val. Loss: 0.056 |  Val. Acc: 60.76%\n",
            "Epoch: 29 | Train Loss: 0.054 | Train Acc: 64.38%\n",
            "\t Val. Loss: 0.056 |  Val. Acc: 60.90%\n",
            "Epoch: 30 | Train Loss: 0.054 | Train Acc: 64.52%\n",
            "\t Val. Loss: 0.056 |  Val. Acc: 61.13%\n",
            "Epoch: 31 | Train Loss: 0.054 | Train Acc: 64.83%\n",
            "\t Val. Loss: 0.056 |  Val. Acc: 61.16%\n",
            "Epoch: 32 | Train Loss: 0.053 | Train Acc: 64.85%\n",
            "\t Val. Loss: 0.056 |  Val. Acc: 61.75%\n",
            "Epoch: 33 | Train Loss: 0.053 | Train Acc: 65.05%\n",
            "\t Val. Loss: 0.055 |  Val. Acc: 62.12%\n",
            "Epoch: 34 | Train Loss: 0.053 | Train Acc: 65.17%\n",
            "\t Val. Loss: 0.055 |  Val. Acc: 62.28%\n",
            "Epoch: 35 | Train Loss: 0.053 | Train Acc: 65.32%\n",
            "\t Val. Loss: 0.055 |  Val. Acc: 61.89%\n",
            "Epoch: 36 | Train Loss: 0.053 | Train Acc: 65.46%\n",
            "\t Val. Loss: 0.055 |  Val. Acc: 62.60%\n",
            "Epoch: 37 | Train Loss: 0.053 | Train Acc: 65.58%\n",
            "\t Val. Loss: 0.055 |  Val. Acc: 62.65%\n",
            "Epoch: 38 | Train Loss: 0.053 | Train Acc: 66.04%\n",
            "\t Val. Loss: 0.055 |  Val. Acc: 62.97%\n",
            "Epoch: 39 | Train Loss: 0.053 | Train Acc: 65.87%\n",
            "\t Val. Loss: 0.055 |  Val. Acc: 63.31%\n",
            "Epoch: 40 | Train Loss: 0.052 | Train Acc: 66.13%\n",
            "\t Val. Loss: 0.055 |  Val. Acc: 63.08%\n",
            "Epoch: 41 | Train Loss: 0.052 | Train Acc: 66.09%\n",
            "\t Val. Loss: 0.055 |  Val. Acc: 62.61%\n",
            "Epoch: 42 | Train Loss: 0.052 | Train Acc: 66.42%\n",
            "\t Val. Loss: 0.055 |  Val. Acc: 62.68%\n",
            "Epoch: 43 | Train Loss: 0.052 | Train Acc: 66.49%\n",
            "\t Val. Loss: 0.054 |  Val. Acc: 63.98%\n",
            "Epoch: 44 | Train Loss: 0.052 | Train Acc: 66.69%\n",
            "\t Val. Loss: 0.054 |  Val. Acc: 64.09%\n",
            "Epoch: 45 | Train Loss: 0.052 | Train Acc: 66.82%\n",
            "\t Val. Loss: 0.054 |  Val. Acc: 63.84%\n",
            "Epoch: 46 | Train Loss: 0.052 | Train Acc: 66.88%\n",
            "\t Val. Loss: 0.054 |  Val. Acc: 63.71%\n",
            "Epoch: 47 | Train Loss: 0.052 | Train Acc: 67.07%\n",
            "\t Val. Loss: 0.054 |  Val. Acc: 63.96%\n",
            "Epoch: 48 | Train Loss: 0.051 | Train Acc: 67.22%\n",
            "\t Val. Loss: 0.054 |  Val. Acc: 64.42%\n",
            "Epoch: 49 | Train Loss: 0.051 | Train Acc: 67.27%\n",
            "\t Val. Loss: 0.054 |  Val. Acc: 63.32%\n",
            "Epoch: 50 | Train Loss: 0.051 | Train Acc: 67.33%\n",
            "\t Val. Loss: 0.054 |  Val. Acc: 63.91%\n",
            "Epoch: 51 | Train Loss: 0.051 | Train Acc: 67.51%\n",
            "\t Val. Loss: 0.053 |  Val. Acc: 64.29%\n",
            "Epoch: 52 | Train Loss: 0.051 | Train Acc: 67.68%\n",
            "\t Val. Loss: 0.054 |  Val. Acc: 63.96%\n",
            "Epoch: 53 | Train Loss: 0.051 | Train Acc: 67.77%\n",
            "\t Val. Loss: 0.053 |  Val. Acc: 64.92%\n",
            "Epoch: 54 | Train Loss: 0.051 | Train Acc: 67.96%\n",
            "\t Val. Loss: 0.053 |  Val. Acc: 65.16%\n",
            "Epoch: 55 | Train Loss: 0.051 | Train Acc: 68.08%\n",
            "\t Val. Loss: 0.053 |  Val. Acc: 64.72%\n",
            "Epoch: 56 | Train Loss: 0.051 | Train Acc: 68.27%\n",
            "\t Val. Loss: 0.053 |  Val. Acc: 64.26%\n",
            "Epoch: 57 | Train Loss: 0.050 | Train Acc: 68.44%\n",
            "\t Val. Loss: 0.053 |  Val. Acc: 65.15%\n",
            "Epoch: 58 | Train Loss: 0.050 | Train Acc: 68.44%\n",
            "\t Val. Loss: 0.053 |  Val. Acc: 64.61%\n",
            "Epoch: 59 | Train Loss: 0.050 | Train Acc: 68.51%\n",
            "\t Val. Loss: 0.053 |  Val. Acc: 65.27%\n",
            "Epoch: 60 | Train Loss: 0.050 | Train Acc: 68.62%\n",
            "\t Val. Loss: 0.053 |  Val. Acc: 64.55%\n",
            "Epoch: 61 | Train Loss: 0.050 | Train Acc: 68.98%\n",
            "\t Val. Loss: 0.053 |  Val. Acc: 65.43%\n",
            "Epoch: 62 | Train Loss: 0.050 | Train Acc: 69.05%\n",
            "\t Val. Loss: 0.052 |  Val. Acc: 65.33%\n",
            "Epoch: 63 | Train Loss: 0.050 | Train Acc: 69.00%\n",
            "\t Val. Loss: 0.052 |  Val. Acc: 65.36%\n",
            "Epoch: 64 | Train Loss: 0.050 | Train Acc: 68.96%\n",
            "\t Val. Loss: 0.053 |  Val. Acc: 64.31%\n",
            "Epoch: 65 | Train Loss: 0.050 | Train Acc: 69.32%\n",
            "\t Val. Loss: 0.052 |  Val. Acc: 66.06%\n",
            "Epoch: 66 | Train Loss: 0.050 | Train Acc: 69.42%\n",
            "\t Val. Loss: 0.053 |  Val. Acc: 66.08%\n",
            "Epoch: 67 | Train Loss: 0.049 | Train Acc: 69.62%\n",
            "\t Val. Loss: 0.052 |  Val. Acc: 66.30%\n",
            "Epoch: 68 | Train Loss: 0.049 | Train Acc: 69.75%\n",
            "\t Val. Loss: 0.052 |  Val. Acc: 65.61%\n",
            "Epoch: 69 | Train Loss: 0.049 | Train Acc: 69.80%\n",
            "\t Val. Loss: 0.052 |  Val. Acc: 66.61%\n",
            "Epoch: 70 | Train Loss: 0.049 | Train Acc: 69.93%\n",
            "\t Val. Loss: 0.053 |  Val. Acc: 65.79%\n",
            "Epoch: 71 | Train Loss: 0.049 | Train Acc: 69.73%\n",
            "\t Val. Loss: 0.052 |  Val. Acc: 66.45%\n",
            "Epoch: 72 | Train Loss: 0.049 | Train Acc: 70.00%\n",
            "\t Val. Loss: 0.052 |  Val. Acc: 66.38%\n",
            "Epoch: 73 | Train Loss: 0.049 | Train Acc: 70.10%\n",
            "\t Val. Loss: 0.052 |  Val. Acc: 66.73%\n",
            "Epoch: 74 | Train Loss: 0.049 | Train Acc: 70.22%\n",
            "\t Val. Loss: 0.052 |  Val. Acc: 65.73%\n",
            "Epoch: 75 | Train Loss: 0.049 | Train Acc: 70.26%\n",
            "\t Val. Loss: 0.052 |  Val. Acc: 67.27%\n",
            "Epoch: 76 | Train Loss: 0.049 | Train Acc: 70.42%\n",
            "\t Val. Loss: 0.051 |  Val. Acc: 67.12%\n",
            "Epoch: 77 | Train Loss: 0.049 | Train Acc: 70.60%\n",
            "\t Val. Loss: 0.051 |  Val. Acc: 66.61%\n",
            "Epoch: 78 | Train Loss: 0.049 | Train Acc: 70.59%\n",
            "\t Val. Loss: 0.051 |  Val. Acc: 67.19%\n",
            "Epoch: 79 | Train Loss: 0.048 | Train Acc: 71.05%\n",
            "\t Val. Loss: 0.051 |  Val. Acc: 67.68%\n",
            "Epoch: 80 | Train Loss: 0.048 | Train Acc: 70.84%\n",
            "\t Val. Loss: 0.051 |  Val. Acc: 67.08%\n",
            "Epoch: 81 | Train Loss: 0.048 | Train Acc: 70.88%\n",
            "\t Val. Loss: 0.051 |  Val. Acc: 67.83%\n",
            "Epoch: 82 | Train Loss: 0.048 | Train Acc: 71.05%\n",
            "\t Val. Loss: 0.051 |  Val. Acc: 67.41%\n",
            "Epoch: 83 | Train Loss: 0.048 | Train Acc: 71.28%\n",
            "\t Val. Loss: 0.051 |  Val. Acc: 67.33%\n",
            "Epoch: 84 | Train Loss: 0.048 | Train Acc: 71.37%\n",
            "\t Val. Loss: 0.051 |  Val. Acc: 67.54%\n",
            "Epoch: 85 | Train Loss: 0.048 | Train Acc: 71.47%\n",
            "\t Val. Loss: 0.051 |  Val. Acc: 67.77%\n",
            "Epoch: 86 | Train Loss: 0.048 | Train Acc: 71.21%\n",
            "\t Val. Loss: 0.051 |  Val. Acc: 67.35%\n",
            "Epoch: 87 | Train Loss: 0.048 | Train Acc: 71.61%\n",
            "\t Val. Loss: 0.051 |  Val. Acc: 67.50%\n",
            "Epoch: 88 | Train Loss: 0.048 | Train Acc: 71.55%\n",
            "\t Val. Loss: 0.050 |  Val. Acc: 67.77%\n",
            "Epoch: 89 | Train Loss: 0.048 | Train Acc: 71.74%\n",
            "\t Val. Loss: 0.051 |  Val. Acc: 67.96%\n",
            "Epoch: 90 | Train Loss: 0.048 | Train Acc: 71.94%\n",
            "\t Val. Loss: 0.051 |  Val. Acc: 68.05%\n",
            "Epoch: 91 | Train Loss: 0.047 | Train Acc: 71.83%\n",
            "\t Val. Loss: 0.050 |  Val. Acc: 68.12%\n",
            "Epoch: 92 | Train Loss: 0.047 | Train Acc: 72.01%\n",
            "\t Val. Loss: 0.050 |  Val. Acc: 68.69%\n",
            "Epoch: 93 | Train Loss: 0.047 | Train Acc: 72.06%\n",
            "\t Val. Loss: 0.050 |  Val. Acc: 68.20%\n",
            "Epoch: 94 | Train Loss: 0.047 | Train Acc: 72.01%\n",
            "\t Val. Loss: 0.051 |  Val. Acc: 68.03%\n",
            "Epoch: 95 | Train Loss: 0.047 | Train Acc: 72.18%\n",
            "\t Val. Loss: 0.050 |  Val. Acc: 68.38%\n",
            "Epoch: 96 | Train Loss: 0.047 | Train Acc: 72.43%\n",
            "\t Val. Loss: 0.050 |  Val. Acc: 68.56%\n",
            "Epoch: 97 | Train Loss: 0.047 | Train Acc: 72.47%\n",
            "\t Val. Loss: 0.050 |  Val. Acc: 68.15%\n",
            "Epoch: 98 | Train Loss: 0.047 | Train Acc: 72.49%\n",
            "\t Val. Loss: 0.050 |  Val. Acc: 68.49%\n",
            "Epoch: 99 | Train Loss: 0.047 | Train Acc: 72.71%\n",
            "\t Val. Loss: 0.050 |  Val. Acc: 68.56%\n",
            "Epoch: 100 | Train Loss: 0.047 | Train Acc: 72.43%\n",
            "\t Val. Loss: 0.050 |  Val. Acc: 68.86%\n"
          ]
        }
      ]
    },
    {
      "cell_type": "code",
      "metadata": {
        "id": "sYoo5fXpHEG1",
        "colab": {
          "base_uri": "https://localhost:8080/",
          "height": 405
        },
        "outputId": "2a4b0504-ebff-46a6-f5ca-1d62ec0660f2"
      },
      "source": [
        "import matplotlib.pyplot as plt\n",
        "fig = plt.figure(figsize=(10, 6))\n",
        "ax = fig.add_subplot(1, 1, 1)\n",
        "ax.plot(train_losses, label = 'train loss')\n",
        "ax.plot(valid_losses, label = 'valid loss')\n",
        "plt.legend()\n",
        "ax.set_xlabel('epoch')\n",
        "ax.set_ylabel('loss')"
      ],
      "execution_count": 117,
      "outputs": [
        {
          "output_type": "execute_result",
          "data": {
            "text/plain": [
              "Text(0, 0.5, 'loss')"
            ]
          },
          "metadata": {},
          "execution_count": 117
        },
        {
          "output_type": "display_data",
          "data": {
            "image/png": "[encoded data removed]",
            "text/plain": [
              "<Figure size 720x432 with 1 Axes>"
            ]
          },
          "metadata": {
            "needs_background": "light"
          }
        }
      ]
    },
    {
      "cell_type": "code",
      "metadata": {
        "id": "mOHzYQU2HO5v",
        "colab": {
          "base_uri": "https://localhost:8080/",
          "height": 405
        },
        "outputId": "b34a9c82-f432-4bfb-9db2-923f2740ac65"
      },
      "source": [
        "fig = plt.figure(figsize=(10, 6))\n",
        "ax = fig.add_subplot(1, 1, 1)\n",
        "ax.plot(train_accs, label = 'train acc')\n",
        "ax.plot(valid_accs, label = 'valid acc')\n",
        "plt.legend()\n",
        "ax.set_xlabel('epoch')\n",
        "ax.set_ylabel('acc')"
      ],
      "execution_count": 118,
      "outputs": [
        {
          "output_type": "execute_result",
          "data": {
            "text/plain": [
              "Text(0, 0.5, 'acc')"
            ]
          },
          "metadata": {},
          "execution_count": 118
        },
        {
          "output_type": "display_data",
          "data": {
            "image/png": "[encoded data removed]",
            "text/plain": [
              "<Figure size 720x432 with 1 Axes>"
            ]
          },
          "metadata": {
            "needs_background": "light"
          }
        }
      ]
    },
    {
      "cell_type": "code",
      "metadata": {
        "id": "VmAk-Nr-HQEU",
        "colab": {
          "base_uri": "https://localhost:8080/",
          "height": 200
        },
        "outputId": "dc9095e2-68a8-44c8-be6b-30f203b7363e"
      },
      "source": [
        "model.load_state_dict(torch.load('tensor.pt'))\n",
        "test_loss , test_acc = evaluate(model, test_loader, criterion)\n",
        "print(f'Test Loss: {test_loss:.3f} | Test Acc: {test_acc*100:.2f}%')"
      ],
      "execution_count": 119,
      "outputs": [
        {
          "output_type": "error",
          "ename": "NameError",
          "evalue": "ignored",
          "traceback": [
            "\u001b[0;31m---------------------------------------------------------------------------\u001b[0m",
            "\u001b[0;31mNameError\u001b[0m                                 Traceback (most recent call last)",
            "\u001b[0;32m<ipython-input-119-64d1037ca292>\u001b[0m in \u001b[0;36m<module>\u001b[0;34m()\u001b[0m\n\u001b[1;32m      1\u001b[0m \u001b[0mmodel\u001b[0m\u001b[0;34m.\u001b[0m\u001b[0mload_state_dict\u001b[0m\u001b[0;34m(\u001b[0m\u001b[0mtorch\u001b[0m\u001b[0;34m.\u001b[0m\u001b[0mload\u001b[0m\u001b[0;34m(\u001b[0m\u001b[0;34m'tensor.pt'\u001b[0m\u001b[0;34m)\u001b[0m\u001b[0;34m)\u001b[0m\u001b[0;34m\u001b[0m\u001b[0;34m\u001b[0m\u001b[0m\n\u001b[0;32m----> 2\u001b[0;31m \u001b[0mtest_loss\u001b[0m \u001b[0;34m,\u001b[0m \u001b[0mtest_acc\u001b[0m \u001b[0;34m=\u001b[0m \u001b[0mevaluate\u001b[0m\u001b[0;34m(\u001b[0m\u001b[0mmodel\u001b[0m\u001b[0;34m,\u001b[0m \u001b[0mtest_loader\u001b[0m\u001b[0;34m,\u001b[0m \u001b[0mcriterion\u001b[0m\u001b[0;34m)\u001b[0m\u001b[0;34m\u001b[0m\u001b[0;34m\u001b[0m\u001b[0m\n\u001b[0m\u001b[1;32m      3\u001b[0m \u001b[0mprint\u001b[0m\u001b[0;34m(\u001b[0m\u001b[0;34mf'Test Loss: {test_loss:.3f} | Test Acc: {test_acc*100:.2f}%'\u001b[0m\u001b[0;34m)\u001b[0m\u001b[0;34m\u001b[0m\u001b[0;34m\u001b[0m\u001b[0m\n",
            "\u001b[0;31mNameError\u001b[0m: name 'test_loader' is not defined"
          ]
        }
      ]
    },
    {
      "cell_type": "code",
      "metadata": {
        "id": "JNTmTU0lQ9nB"
      },
      "source": [
        ""
      ],
      "execution_count": null,
      "outputs": []
    }
  ]
}