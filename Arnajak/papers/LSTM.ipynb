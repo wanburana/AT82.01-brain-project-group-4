{
  "nbformat": 4,
  "nbformat_minor": 0,
  "metadata": {
    "colab": {
      "name": "LSTM.ipynb",
      "provenance": [],
      "toc_visible": true
    },
    "kernelspec": {
      "name": "python3",
      "display_name": "Python 3"
    },
    "language_info": {
      "name": "python"
    }
  },
  "cells": [
    {
      "cell_type": "code",
      "metadata": {
        "colab": {
          "base_uri": "https://localhost:8080/"
        },
        "id": "Ye-F5QW5BJpG",
        "outputId": "299060ae-33b7-4526-859b-41713425fb6c"
      },
      "source": [
        "import torch, torchvision\n",
        "from torchvision import transforms\n",
        "from torch import nn\n",
        "import numpy as np\n",
        "import sys\n",
        "import os\n",
        "from glob import glob\n",
        "import pickle\n",
        "import pandas as pd\n",
        "import numpy as np\n",
        "from tqdm import tqdm\n",
        "import matplotlib.pyplot as plt\n",
        "import seaborn as sns\n",
        "from google.colab import drive\n",
        "drive.mount('/content/drive')"
      ],
      "execution_count": 1,
      "outputs": [
        {
          "output_type": "stream",
          "name": "stdout",
          "text": [
            "Drive already mounted at /content/drive; to attempt to forcibly remount, call drive.mount(\"/content/drive\", force_remount=True).\n"
          ]
        }
      ]
    },
    {
      "cell_type": "code",
      "metadata": {
        "colab": {
          "base_uri": "https://localhost:8080/"
        },
        "id": "OX1iccZwCGNY",
        "outputId": "06713c82-a7c5-4fe8-fa61-45ce7194d710"
      },
      "source": [
        "eeg_emo0 = np.load('/content/drive/MyDrive/EEG/DEAP/eeg_emo_chan.npy')\n",
        "targets = np.load('/content/drive/MyDrive/EEG/DEAP/targets.npy')\n",
        "print(eeg_emo0.shape)\n",
        "print(targets.shape)"
      ],
      "execution_count": 3,
      "outputs": [
        {
          "output_type": "stream",
          "name": "stdout",
          "text": [
            "(1280, 16, 8064)\n",
            "(1280, 4)\n"
          ]
        }
      ]
    },
    {
      "cell_type": "code",
      "metadata": {
        "colab": {
          "base_uri": "https://localhost:8080/"
        },
        "id": "lZLqm3UWCGQl",
        "outputId": "fcf52245-44cf-48e1-94c6-a3cb3ff80a04"
      },
      "source": [
        "eeg_emo = eeg_emo0[:,:,384:] # cut 3s baseline\n",
        "print(eeg_emo.shape)"
      ],
      "execution_count": 4,
      "outputs": [
        {
          "output_type": "stream",
          "name": "stdout",
          "text": [
            "(1280, 16, 7680)\n"
          ]
        }
      ]
    },
    {
      "cell_type": "markdown",
      "metadata": {
        "id": "yephCgGaIOtN"
      },
      "source": [
        "# divided into 12 segments which each is 5 seconds"
      ]
    },
    {
      "cell_type": "code",
      "metadata": {
        "colab": {
          "base_uri": "https://localhost:8080/"
        },
        "id": "25SECjfEIUEM",
        "outputId": "afbae610-667c-4afc-e3ac-34f278f8867b"
      },
      "source": [
        "eeg_emo_5s = np.empty((eeg_emo.shape[0]*12,eeg_emo.shape[1],640))\n",
        "targets_5s = np.empty((eeg_emo.shape[0]*12,4))\n",
        "\n",
        "for i,k in enumerate(range(0,eeg_emo_5s.shape[0],12)):\n",
        "  for j in range(12):\n",
        "    eeg_emo_5s[k+j,:,:] = eeg_emo[i,:,640*j:640*(j+1)]\n",
        "    targets_5s[k+j,:] = targets[i,:]\n",
        "print(eeg_emo_5s.shape)\n",
        "print(targets_5s.shape)"
      ],
      "execution_count": 5,
      "outputs": [
        {
          "output_type": "stream",
          "name": "stdout",
          "text": [
            "(15360, 16, 640)\n",
            "(15360, 4)\n"
          ]
        }
      ]
    },
    {
      "cell_type": "markdown",
      "metadata": {
        "id": "ssVpSp1SF4fh"
      },
      "source": [
        "# ฺValence"
      ]
    },
    {
      "cell_type": "code",
      "metadata": {
        "colab": {
          "base_uri": "https://localhost:8080/"
        },
        "id": "tEH_5xUxFxGo",
        "outputId": "b051bd7b-95fe-4905-c3f0-d3f59f423243"
      },
      "source": [
        "# valence 0-low ,1 high \n",
        "valence = []\n",
        "mean_valence = np.mean(targets_5s[:,0])\n",
        "for i in range(targets_5s.shape[0]):\n",
        "  if targets_5s[i,0] < mean_valence :\n",
        "    valence.append(0)\n",
        "  else :\n",
        "    valence.append(1)\n",
        "valence = np.array(valence)\n",
        "valence.shape"
      ],
      "execution_count": 6,
      "outputs": [
        {
          "output_type": "execute_result",
          "data": {
            "text/plain": [
              "(15360,)"
            ]
          },
          "metadata": {},
          "execution_count": 6
        }
      ]
    },
    {
      "cell_type": "code",
      "metadata": {
        "colab": {
          "base_uri": "https://localhost:8080/"
        },
        "id": "gkBQJzacCGkB",
        "outputId": "4f8c0db6-5e21-4bd9-c70e-a59fc04d4162"
      },
      "source": [
        "from tensorflow.keras.utils import to_categorical\n",
        "valence = to_categorical(valence)\n",
        "valence.shape"
      ],
      "execution_count": 7,
      "outputs": [
        {
          "output_type": "execute_result",
          "data": {
            "text/plain": [
              "(15360, 2)"
            ]
          },
          "metadata": {},
          "execution_count": 7
        }
      ]
    },
    {
      "cell_type": "code",
      "metadata": {
        "id": "tMR6eTJECGmZ"
      },
      "source": [
        "train_size = 0.7\n",
        "val_size = 0.1\n",
        "idx = np.arange(0,eeg_emo_5s.shape[0],1)\n",
        "ts = int(train_size*eeg_emo_5s.shape[0]) \n",
        "vs = int(val_size*eeg_emo_5s.shape[0]) \n",
        "idx_train = idx[0:ts]\n",
        "idx_val = idx[ts:ts+vs]\n",
        "idx_test = idx[ts+vs:]"
      ],
      "execution_count": 8,
      "outputs": []
    },
    {
      "cell_type": "code",
      "metadata": {
        "colab": {
          "base_uri": "https://localhost:8080/"
        },
        "id": "ix4oAzcUCGoi",
        "outputId": "7dee3712-2458-43a8-d719-dd07b129f805"
      },
      "source": [
        "x_train = eeg_emo_5s[idx_train]\n",
        "x_val = eeg_emo_5s[idx_val]\n",
        "x_test = eeg_emo_5s[idx_test]\n",
        "\n",
        "y_train = valence[idx_train]\n",
        "y_val = valence[idx_val]\n",
        "y_test = valence[idx_test]\n",
        "print('x_train',x_train.shape)\n",
        "print('x_val',x_val.shape)\n",
        "print('x_test',x_test.shape)\n",
        "\n",
        "print('y_train',y_train.shape)\n",
        "print('y_val',y_val.shape)\n",
        "print('y_test',y_test.shape)"
      ],
      "execution_count": 9,
      "outputs": [
        {
          "output_type": "stream",
          "name": "stdout",
          "text": [
            "x_train (10752, 16, 640)\n",
            "x_val (1536, 16, 640)\n",
            "x_test (3072, 16, 640)\n",
            "y_train (10752, 2)\n",
            "y_val (1536, 2)\n",
            "y_test (3072, 2)\n"
          ]
        }
      ]
    },
    {
      "cell_type": "markdown",
      "metadata": {
        "id": "Am09M9NfOhaZ"
      },
      "source": [
        "# DataLoader"
      ]
    },
    {
      "cell_type": "code",
      "metadata": {
        "id": "L3FDuguFCGq1"
      },
      "source": [
        "SEED = 1234\n",
        "torch.manual_seed(SEED)\n",
        "torch.backends.cudnn.deterministic = True"
      ],
      "execution_count": 10,
      "outputs": []
    },
    {
      "cell_type": "code",
      "metadata": {
        "id": "bIE7dRjrCGxQ"
      },
      "source": [
        "from torch.utils.data import DataLoader\n",
        "from torch.utils.data import TensorDataset\n",
        "\n",
        "batch_size = 512\n",
        "def dataload(X, y):\n",
        "    X_tensor = torch.tensor(X).float()\n",
        "    y_tensor = torch.tensor(y)\n",
        "    dataset_tensor = TensorDataset(X_tensor, y_tensor)\n",
        "    return dataset_tensor\n",
        "    #return DataLoader(dataset_tensor, batch_size=batch_size, shuffle=True)\n",
        "\n",
        "train_loader = DataLoader(dataload(x_train, y_train), batch_size=batch_size, shuffle=True)\n",
        "\n",
        "valid_loader = DataLoader(dataload(x_val, y_val), batch_size=batch_size, shuffle=False)\n",
        "\n",
        "test_loader = DataLoader(dataload(x_test, y_test), batch_size=batch_size, shuffle=False)"
      ],
      "execution_count": 11,
      "outputs": []
    },
    {
      "cell_type": "code",
      "metadata": {
        "id": "loiOMYH4CGzo"
      },
      "source": [
        ""
      ],
      "execution_count": 11,
      "outputs": []
    },
    {
      "cell_type": "markdown",
      "metadata": {
        "id": "HmQvckurOj7V"
      },
      "source": [
        "# LSTM"
      ]
    },
    {
      "cell_type": "code",
      "metadata": {
        "id": "8n8OGs5SOkPF"
      },
      "source": [
        "#model hyperparameters\n",
        "hidden_dim1 = 64\n",
        "hidden_dim2= 32 \n",
        "embed_dim = x_train.shape[2]\n",
        "#ed2 = hidden_dim*2\n",
        "output_dim = y_train.shape[1]\n",
        "num_layers = 1\n",
        "bidirectional = True\n",
        "dropout = 0.5\n",
        "\n",
        "#training hyperparameters\n",
        "num_epochs = 100\n",
        "lr=0.0001"
      ],
      "execution_count": 27,
      "outputs": []
    },
    {
      "cell_type": "code",
      "metadata": {
        "id": "J_IjqVibOkRR"
      },
      "source": [
        "import torch.nn as nn\n",
        "\n",
        "class LSTM(nn.Module):\n",
        "    def __init__(self):\n",
        "        super().__init__()\n",
        "        self.lstm1 = nn.LSTM(embed_dim, hidden_dim1, num_layers=num_layers,\n",
        "                           bidirectional=bidirectional, \n",
        "                           dropout=0.2,\n",
        "                           batch_first=True)\n",
        "        self.lstm2 = nn.LSTM(128, hidden_dim2, num_layers=num_layers,\n",
        "                           bidirectional=bidirectional, \n",
        "                           dropout=0.1,\n",
        "                           batch_first=True)\n",
        "        \n",
        "        #self.b_norm = nn.BatchNorm1d(hidden_dim1*2).double()\n",
        "        self.layernorm = nn.LayerNorm(hidden_dim1*2).double()\n",
        "        self.relu = nn.ReLU()\n",
        "        self.fc = nn.Linear(hidden_dim1, output_dim)\n",
        "        \n",
        "    def forward(self, x):\n",
        "        out,(hn, cn) = self.lstm1(x)\n",
        "        out = self.relu(out)\n",
        "        out,(hn, cn) = self.lstm2(out)\n",
        "        hn = torch.cat((hn[-2,:,:], hn[-1,:,:]), dim = 1)\n",
        "        hn = self.relu(hn)\n",
        "        return self.fc(hn)"
      ],
      "execution_count": 28,
      "outputs": []
    },
    {
      "cell_type": "code",
      "metadata": {
        "id": "8Kl-hCGVQ7V9"
      },
      "source": [
        "#explicitly initialize weights for better learning\n",
        "def initialize_weights(m):\n",
        "    if isinstance(m, nn.Linear):\n",
        "        nn.init.xavier_normal_(m.weight)\n",
        "        nn.init.zeros_(m.bias)\n",
        "    elif isinstance(m, (nn.Conv2d, nn.Conv2d)):\n",
        "        for name, param in m.named_parameters():\n",
        "            if 'bias' in name:\n",
        "                nn.init.zeros_(param)\n",
        "            elif 'weight' in name:\n",
        "                nn.init.kaiming_normal_(param) #<---here"
      ],
      "execution_count": 29,
      "outputs": []
    },
    {
      "cell_type": "code",
      "metadata": {
        "colab": {
          "base_uri": "https://localhost:8080/"
        },
        "id": "Fv5ZjUSdQ9gs",
        "outputId": "24ccc7bf-a6bf-4930-a935-c72256ad74c4"
      },
      "source": [
        "model = LSTM().float()\n",
        "#model.apply(initialize_weights)"
      ],
      "execution_count": 30,
      "outputs": [
        {
          "output_type": "stream",
          "name": "stderr",
          "text": [
            "/usr/local/lib/python3.7/dist-packages/torch/nn/modules/rnn.py:65: UserWarning: dropout option adds dropout after all but last recurrent layer, so non-zero dropout expects num_layers greater than 1, but got dropout=0.2 and num_layers=1\n",
            "  \"num_layers={}\".format(dropout, num_layers))\n",
            "/usr/local/lib/python3.7/dist-packages/torch/nn/modules/rnn.py:65: UserWarning: dropout option adds dropout after all but last recurrent layer, so non-zero dropout expects num_layers greater than 1, but got dropout=0.1 and num_layers=1\n",
            "  \"num_layers={}\".format(dropout, num_layers))\n"
          ]
        }
      ]
    },
    {
      "cell_type": "code",
      "metadata": {
        "id": "htjSK8grQ9i6"
      },
      "source": [
        "# Loss and optimizer\n",
        "#criterion = nn.CrossEntropyLoss()\n",
        "criterion = nn.BCEWithLogitsLoss()\n",
        "optimizer = torch.optim.Adam(model.parameters(), lr=lr,weight_decay=1e-5)"
      ],
      "execution_count": 31,
      "outputs": []
    },
    {
      "cell_type": "markdown",
      "metadata": {
        "id": "QmtQFB67HCoR"
      },
      "source": [
        "# Train Test "
      ]
    },
    {
      "cell_type": "code",
      "metadata": {
        "id": "kI7GHuLLIdyz"
      },
      "source": [
        "def binary_accuracy(preds, y):\n",
        "    \"\"\"\n",
        "    Returns accuracy per batch, i.e. if you get 8/10 right, this returns 0.8, NOT 8\n",
        "    \"\"\"\n",
        "    #round predictions to the closest integer\n",
        "    rounded_preds = torch.round(torch.sigmoid(preds))\n",
        "    correct = (rounded_preds == y).float() #convert into float for division \n",
        "    acc = correct.sum() / len(correct)\n",
        "    return acc/2"
      ],
      "execution_count": 32,
      "outputs": []
    },
    {
      "cell_type": "code",
      "metadata": {
        "id": "H_ZVkAzNId1V"
      },
      "source": [
        "def cnn_acc(preds,y):\n",
        "    _, predicted = torch.max(preds.data, 1)\n",
        "    correct = (predicted == y).sum()\n",
        "    acc = correct / y.size(0)\n",
        "    return acc"
      ],
      "execution_count": 33,
      "outputs": []
    },
    {
      "cell_type": "code",
      "metadata": {
        "id": "r76aiXrnId3k"
      },
      "source": [
        "def train(model, loader, optimizer, criterion):\n",
        "    epoch_loss = 0\n",
        "    epoch_acc = 0\n",
        "    model.train() #useful for batchnorm and dropout\n",
        "    for i, (features, label) in enumerate(loader): \n",
        "                \n",
        "        #predict\n",
        "        predictions = model(features)\n",
        "        #calculate loss\n",
        "        loss = criterion(predictions, label)\n",
        "        l2_lambda = 0.001\n",
        "        l2_norm = sum(p.pow(2.0).sum() for p in model.parameters())\n",
        "        loss = loss + l2_lambda * l2_norm\n",
        "        acc = binary_accuracy(predictions, label)\n",
        "        \n",
        "        #backprop\n",
        "        optimizer.zero_grad()\n",
        "        loss.backward()\n",
        "        optimizer.step()\n",
        "        \n",
        "        epoch_loss += loss.item()\n",
        "        epoch_acc += acc.item()\n",
        "                \n",
        "    return epoch_loss / len(loader), epoch_acc / len(loader)"
      ],
      "execution_count": 34,
      "outputs": []
    },
    {
      "cell_type": "code",
      "metadata": {
        "id": "Bqj2y7T-Id5d"
      },
      "source": [
        "def evaluate(model, loader, criterion):\n",
        "    epoch_loss = 0\n",
        "    epoch_acc = 0\n",
        "    model.eval()\n",
        "    \n",
        "    with torch.no_grad():\n",
        "        for i, (features, label) in enumerate(loader): \n",
        "\n",
        "\n",
        "            predictions = model(features)\n",
        "            \n",
        "            loss = criterion(predictions, label)\n",
        "            acc = binary_accuracy(predictions, label)\n",
        "\n",
        "            epoch_loss += loss.item()\n",
        "            epoch_acc += acc.item()\n",
        "        \n",
        "    return epoch_loss / len(loader), epoch_acc / len(loader)"
      ],
      "execution_count": 35,
      "outputs": []
    },
    {
      "cell_type": "code",
      "metadata": {
        "colab": {
          "base_uri": "https://localhost:8080/"
        },
        "id": "EzIfXUOtId7p",
        "outputId": "e55929f1-91fb-48ef-da06-864ebdb7071e"
      },
      "source": [
        "best_valid_loss = float('inf')\n",
        "\n",
        "train_losses = []\n",
        "train_accs = []\n",
        "valid_losses = []\n",
        "valid_accs = []\n",
        "for epoch in range(num_epochs):\n",
        "\n",
        "    train_loss,train_acc = train(model, train_loader, optimizer, criterion)\n",
        "    valid_loss,valid_acc = evaluate(model, valid_loader, criterion)\n",
        "    \n",
        "    #for plotting\n",
        "    train_losses.append(train_loss)\n",
        "    train_accs.append(train_acc)\n",
        "    valid_losses.append(valid_loss)\n",
        "    valid_accs.append(valid_acc)\n",
        "    \n",
        "    if valid_loss < best_valid_loss:\n",
        "        best_valid_loss = valid_loss\n",
        "        torch.save(model.state_dict(),'tensor.pt')\n",
        "    \n",
        "    print(f'Epoch: {epoch+1:02} | Train Loss: {train_loss:.3f} | Train Acc: {train_acc*100:.2f}%')\n",
        "    print(f'\\t Val. Loss: {valid_loss:.3f} |  Val. Acc: {valid_acc*100:.2f}%')"
      ],
      "execution_count": 36,
      "outputs": [
        {
          "output_type": "stream",
          "name": "stdout",
          "text": [
            "Epoch: 01 | Train Loss: 3.090 | Train Acc: 50.11%\n",
            "\t Val. Loss: 0.693 |  Val. Acc: 50.07%\n",
            "Epoch: 02 | Train Loss: 2.993 | Train Acc: 50.78%\n",
            "\t Val. Loss: 0.693 |  Val. Acc: 51.01%\n",
            "Epoch: 03 | Train Loss: 2.900 | Train Acc: 51.40%\n",
            "\t Val. Loss: 0.692 |  Val. Acc: 51.37%\n",
            "Epoch: 04 | Train Loss: 2.810 | Train Acc: 52.65%\n",
            "\t Val. Loss: 0.692 |  Val. Acc: 52.05%\n",
            "Epoch: 05 | Train Loss: 2.723 | Train Acc: 53.82%\n",
            "\t Val. Loss: 0.692 |  Val. Acc: 52.80%\n",
            "Epoch: 06 | Train Loss: 2.640 | Train Acc: 54.59%\n",
            "\t Val. Loss: 0.691 |  Val. Acc: 53.91%\n",
            "Epoch: 07 | Train Loss: 2.561 | Train Acc: 55.07%\n",
            "\t Val. Loss: 0.691 |  Val. Acc: 54.65%\n",
            "Epoch: 08 | Train Loss: 2.484 | Train Acc: 55.06%\n",
            "\t Val. Loss: 0.691 |  Val. Acc: 55.14%\n",
            "Epoch: 09 | Train Loss: 2.411 | Train Acc: 55.04%\n",
            "\t Val. Loss: 0.691 |  Val. Acc: 55.66%\n",
            "Epoch: 10 | Train Loss: 2.340 | Train Acc: 54.90%\n",
            "\t Val. Loss: 0.690 |  Val. Acc: 55.37%\n",
            "Epoch: 11 | Train Loss: 2.273 | Train Acc: 54.87%\n",
            "\t Val. Loss: 0.690 |  Val. Acc: 55.66%\n",
            "Epoch: 12 | Train Loss: 2.208 | Train Acc: 54.65%\n",
            "\t Val. Loss: 0.690 |  Val. Acc: 55.76%\n",
            "Epoch: 13 | Train Loss: 2.145 | Train Acc: 54.46%\n",
            "\t Val. Loss: 0.690 |  Val. Acc: 55.89%\n",
            "Epoch: 14 | Train Loss: 2.086 | Train Acc: 54.33%\n",
            "\t Val. Loss: 0.690 |  Val. Acc: 55.79%\n",
            "Epoch: 15 | Train Loss: 2.028 | Train Acc: 54.21%\n",
            "\t Val. Loss: 0.690 |  Val. Acc: 55.57%\n",
            "Epoch: 16 | Train Loss: 1.973 | Train Acc: 54.33%\n",
            "\t Val. Loss: 0.690 |  Val. Acc: 55.53%\n",
            "Epoch: 17 | Train Loss: 1.921 | Train Acc: 54.32%\n",
            "\t Val. Loss: 0.690 |  Val. Acc: 55.40%\n",
            "Epoch: 18 | Train Loss: 1.870 | Train Acc: 54.48%\n",
            "\t Val. Loss: 0.690 |  Val. Acc: 55.60%\n",
            "Epoch: 19 | Train Loss: 1.822 | Train Acc: 54.58%\n",
            "\t Val. Loss: 0.690 |  Val. Acc: 55.53%\n",
            "Epoch: 20 | Train Loss: 1.776 | Train Acc: 54.67%\n",
            "\t Val. Loss: 0.690 |  Val. Acc: 55.53%\n",
            "Epoch: 21 | Train Loss: 1.731 | Train Acc: 55.21%\n",
            "\t Val. Loss: 0.690 |  Val. Acc: 55.53%\n",
            "Epoch: 22 | Train Loss: 1.689 | Train Acc: 55.80%\n",
            "\t Val. Loss: 0.690 |  Val. Acc: 55.14%\n",
            "Epoch: 23 | Train Loss: 1.648 | Train Acc: 56.28%\n",
            "\t Val. Loss: 0.690 |  Val. Acc: 55.31%\n",
            "Epoch: 24 | Train Loss: 1.608 | Train Acc: 57.71%\n",
            "\t Val. Loss: 0.690 |  Val. Acc: 55.24%\n",
            "Epoch: 25 | Train Loss: 1.570 | Train Acc: 58.75%\n",
            "\t Val. Loss: 0.690 |  Val. Acc: 55.44%\n",
            "Epoch: 26 | Train Loss: 1.534 | Train Acc: 61.04%\n",
            "\t Val. Loss: 0.690 |  Val. Acc: 55.01%\n",
            "Epoch: 27 | Train Loss: 1.498 | Train Acc: 63.36%\n",
            "\t Val. Loss: 0.691 |  Val. Acc: 54.33%\n",
            "Epoch: 28 | Train Loss: 1.462 | Train Acc: 67.53%\n",
            "\t Val. Loss: 0.692 |  Val. Acc: 54.17%\n",
            "Epoch: 29 | Train Loss: 1.427 | Train Acc: 71.24%\n",
            "\t Val. Loss: 0.693 |  Val. Acc: 53.61%\n",
            "Epoch: 30 | Train Loss: 1.390 | Train Acc: 73.70%\n",
            "\t Val. Loss: 0.695 |  Val. Acc: 52.96%\n",
            "Epoch: 31 | Train Loss: 1.350 | Train Acc: 78.51%\n",
            "\t Val. Loss: 0.699 |  Val. Acc: 51.99%\n",
            "Epoch: 32 | Train Loss: 1.305 | Train Acc: 80.74%\n",
            "\t Val. Loss: 0.707 |  Val. Acc: 49.38%\n",
            "Epoch: 33 | Train Loss: 1.249 | Train Acc: 83.82%\n",
            "\t Val. Loss: 0.723 |  Val. Acc: 49.74%\n",
            "Epoch: 34 | Train Loss: 1.180 | Train Acc: 85.20%\n",
            "\t Val. Loss: 0.754 |  Val. Acc: 49.48%\n",
            "Epoch: 35 | Train Loss: 1.097 | Train Acc: 88.32%\n",
            "\t Val. Loss: 0.808 |  Val. Acc: 49.61%\n",
            "Epoch: 36 | Train Loss: 1.004 | Train Acc: 92.18%\n",
            "\t Val. Loss: 0.880 |  Val. Acc: 49.97%\n",
            "Epoch: 37 | Train Loss: 0.926 | Train Acc: 94.34%\n",
            "\t Val. Loss: 0.959 |  Val. Acc: 50.23%\n",
            "Epoch: 38 | Train Loss: 0.865 | Train Acc: 95.70%\n",
            "\t Val. Loss: 1.018 |  Val. Acc: 50.26%\n",
            "Epoch: 39 | Train Loss: 0.818 | Train Acc: 96.40%\n",
            "\t Val. Loss: 1.071 |  Val. Acc: 50.46%\n",
            "Epoch: 40 | Train Loss: 0.780 | Train Acc: 96.99%\n",
            "\t Val. Loss: 1.124 |  Val. Acc: 49.64%\n",
            "Epoch: 41 | Train Loss: 0.751 | Train Acc: 97.52%\n",
            "\t Val. Loss: 1.171 |  Val. Acc: 49.58%\n",
            "Epoch: 42 | Train Loss: 0.728 | Train Acc: 97.73%\n",
            "\t Val. Loss: 1.222 |  Val. Acc: 49.22%\n",
            "Epoch: 43 | Train Loss: 0.709 | Train Acc: 97.94%\n",
            "\t Val. Loss: 1.254 |  Val. Acc: 49.67%\n",
            "Epoch: 44 | Train Loss: 0.691 | Train Acc: 98.21%\n",
            "\t Val. Loss: 1.280 |  Val. Acc: 49.06%\n",
            "Epoch: 45 | Train Loss: 0.677 | Train Acc: 98.40%\n",
            "\t Val. Loss: 1.313 |  Val. Acc: 49.80%\n",
            "Epoch: 46 | Train Loss: 0.664 | Train Acc: 98.54%\n",
            "\t Val. Loss: 1.341 |  Val. Acc: 49.45%\n",
            "Epoch: 47 | Train Loss: 0.653 | Train Acc: 98.75%\n",
            "\t Val. Loss: 1.352 |  Val. Acc: 49.61%\n",
            "Epoch: 48 | Train Loss: 0.643 | Train Acc: 98.87%\n",
            "\t Val. Loss: 1.360 |  Val. Acc: 50.29%\n",
            "Epoch: 49 | Train Loss: 0.633 | Train Acc: 98.94%\n",
            "\t Val. Loss: 1.380 |  Val. Acc: 49.80%\n",
            "Epoch: 50 | Train Loss: 0.623 | Train Acc: 99.06%\n",
            "\t Val. Loss: 1.385 |  Val. Acc: 50.36%\n",
            "Epoch: 51 | Train Loss: 0.614 | Train Acc: 99.13%\n",
            "\t Val. Loss: 1.410 |  Val. Acc: 49.87%\n",
            "Epoch: 52 | Train Loss: 0.605 | Train Acc: 99.19%\n",
            "\t Val. Loss: 1.414 |  Val. Acc: 50.29%\n",
            "Epoch: 53 | Train Loss: 0.597 | Train Acc: 99.22%\n",
            "\t Val. Loss: 1.434 |  Val. Acc: 50.16%\n",
            "Epoch: 54 | Train Loss: 0.588 | Train Acc: 99.31%\n",
            "\t Val. Loss: 1.447 |  Val. Acc: 50.91%\n",
            "Epoch: 55 | Train Loss: 0.580 | Train Acc: 99.35%\n",
            "\t Val. Loss: 1.461 |  Val. Acc: 50.00%\n",
            "Epoch: 56 | Train Loss: 0.572 | Train Acc: 99.37%\n",
            "\t Val. Loss: 1.478 |  Val. Acc: 49.58%\n",
            "Epoch: 57 | Train Loss: 0.565 | Train Acc: 99.42%\n",
            "\t Val. Loss: 1.491 |  Val. Acc: 49.84%\n",
            "Epoch: 58 | Train Loss: 0.557 | Train Acc: 99.47%\n",
            "\t Val. Loss: 1.500 |  Val. Acc: 50.07%\n",
            "Epoch: 59 | Train Loss: 0.550 | Train Acc: 99.49%\n",
            "\t Val. Loss: 1.511 |  Val. Acc: 50.03%\n",
            "Epoch: 60 | Train Loss: 0.542 | Train Acc: 99.55%\n",
            "\t Val. Loss: 1.515 |  Val. Acc: 49.71%\n",
            "Epoch: 61 | Train Loss: 0.535 | Train Acc: 99.59%\n",
            "\t Val. Loss: 1.521 |  Val. Acc: 50.03%\n",
            "Epoch: 62 | Train Loss: 0.529 | Train Acc: 99.63%\n",
            "\t Val. Loss: 1.533 |  Val. Acc: 49.87%\n",
            "Epoch: 63 | Train Loss: 0.522 | Train Acc: 99.64%\n",
            "\t Val. Loss: 1.543 |  Val. Acc: 49.80%\n",
            "Epoch: 64 | Train Loss: 0.516 | Train Acc: 99.67%\n",
            "\t Val. Loss: 1.557 |  Val. Acc: 50.00%\n",
            "Epoch: 65 | Train Loss: 0.510 | Train Acc: 99.69%\n",
            "\t Val. Loss: 1.559 |  Val. Acc: 50.03%\n",
            "Epoch: 66 | Train Loss: 0.504 | Train Acc: 99.71%\n",
            "\t Val. Loss: 1.576 |  Val. Acc: 49.32%\n",
            "Epoch: 67 | Train Loss: 0.498 | Train Acc: 99.74%\n",
            "\t Val. Loss: 1.577 |  Val. Acc: 49.71%\n",
            "Epoch: 68 | Train Loss: 0.492 | Train Acc: 99.77%\n",
            "\t Val. Loss: 1.589 |  Val. Acc: 49.51%\n",
            "Epoch: 69 | Train Loss: 0.486 | Train Acc: 99.80%\n",
            "\t Val. Loss: 1.584 |  Val. Acc: 49.41%\n",
            "Epoch: 70 | Train Loss: 0.480 | Train Acc: 99.83%\n",
            "\t Val. Loss: 1.603 |  Val. Acc: 49.32%\n",
            "Epoch: 71 | Train Loss: 0.475 | Train Acc: 99.85%\n",
            "\t Val. Loss: 1.601 |  Val. Acc: 49.38%\n",
            "Epoch: 72 | Train Loss: 0.469 | Train Acc: 99.85%\n",
            "\t Val. Loss: 1.621 |  Val. Acc: 49.15%\n",
            "Epoch: 73 | Train Loss: 0.464 | Train Acc: 99.86%\n",
            "\t Val. Loss: 1.622 |  Val. Acc: 49.51%\n",
            "Epoch: 74 | Train Loss: 0.459 | Train Acc: 99.87%\n",
            "\t Val. Loss: 1.632 |  Val. Acc: 49.35%\n",
            "Epoch: 75 | Train Loss: 0.453 | Train Acc: 99.88%\n",
            "\t Val. Loss: 1.640 |  Val. Acc: 48.89%\n",
            "Epoch: 76 | Train Loss: 0.450 | Train Acc: 99.86%\n",
            "\t Val. Loss: 1.644 |  Val. Acc: 49.25%\n",
            "Epoch: 77 | Train Loss: 0.451 | Train Acc: 99.72%\n",
            "\t Val. Loss: 1.655 |  Val. Acc: 48.67%\n",
            "Epoch: 78 | Train Loss: 0.474 | Train Acc: 98.81%\n",
            "\t Val. Loss: 1.624 |  Val. Acc: 49.77%\n",
            "Epoch: 79 | Train Loss: 0.519 | Train Acc: 97.11%\n",
            "\t Val. Loss: 1.575 |  Val. Acc: 48.18%\n",
            "Epoch: 80 | Train Loss: 0.504 | Train Acc: 97.63%\n",
            "\t Val. Loss: 1.560 |  Val. Acc: 48.54%\n",
            "Epoch: 81 | Train Loss: 0.469 | Train Acc: 99.08%\n",
            "\t Val. Loss: 1.608 |  Val. Acc: 47.62%\n",
            "Epoch: 82 | Train Loss: 0.447 | Train Acc: 99.73%\n",
            "\t Val. Loss: 1.654 |  Val. Acc: 47.27%\n",
            "Epoch: 83 | Train Loss: 0.437 | Train Acc: 99.90%\n",
            "\t Val. Loss: 1.672 |  Val. Acc: 47.46%\n",
            "Epoch: 84 | Train Loss: 0.431 | Train Acc: 99.94%\n",
            "\t Val. Loss: 1.691 |  Val. Acc: 47.62%\n",
            "Epoch: 85 | Train Loss: 0.428 | Train Acc: 99.95%\n",
            "\t Val. Loss: 1.710 |  Val. Acc: 47.62%\n",
            "Epoch: 86 | Train Loss: 0.425 | Train Acc: 99.95%\n",
            "\t Val. Loss: 1.724 |  Val. Acc: 47.53%\n",
            "Epoch: 87 | Train Loss: 0.422 | Train Acc: 99.96%\n",
            "\t Val. Loss: 1.734 |  Val. Acc: 47.69%\n",
            "Epoch: 88 | Train Loss: 0.420 | Train Acc: 99.97%\n",
            "\t Val. Loss: 1.741 |  Val. Acc: 47.66%\n",
            "Epoch: 89 | Train Loss: 0.418 | Train Acc: 99.97%\n",
            "\t Val. Loss: 1.749 |  Val. Acc: 47.82%\n",
            "Epoch: 90 | Train Loss: 0.415 | Train Acc: 99.98%\n",
            "\t Val. Loss: 1.756 |  Val. Acc: 47.85%\n",
            "Epoch: 91 | Train Loss: 0.413 | Train Acc: 99.98%\n",
            "\t Val. Loss: 1.762 |  Val. Acc: 47.79%\n",
            "Epoch: 92 | Train Loss: 0.411 | Train Acc: 99.98%\n",
            "\t Val. Loss: 1.767 |  Val. Acc: 47.82%\n",
            "Epoch: 93 | Train Loss: 0.409 | Train Acc: 99.98%\n",
            "\t Val. Loss: 1.773 |  Val. Acc: 47.95%\n",
            "Epoch: 94 | Train Loss: 0.407 | Train Acc: 99.98%\n",
            "\t Val. Loss: 1.778 |  Val. Acc: 48.08%\n",
            "Epoch: 95 | Train Loss: 0.405 | Train Acc: 99.98%\n",
            "\t Val. Loss: 1.782 |  Val. Acc: 48.05%\n",
            "Epoch: 96 | Train Loss: 0.402 | Train Acc: 99.98%\n",
            "\t Val. Loss: 1.785 |  Val. Acc: 47.98%\n",
            "Epoch: 97 | Train Loss: 0.400 | Train Acc: 99.98%\n",
            "\t Val. Loss: 1.789 |  Val. Acc: 48.05%\n",
            "Epoch: 98 | Train Loss: 0.398 | Train Acc: 99.98%\n",
            "\t Val. Loss: 1.793 |  Val. Acc: 47.98%\n",
            "Epoch: 99 | Train Loss: 0.396 | Train Acc: 99.98%\n",
            "\t Val. Loss: 1.796 |  Val. Acc: 48.05%\n",
            "Epoch: 100 | Train Loss: 0.394 | Train Acc: 99.99%\n",
            "\t Val. Loss: 1.799 |  Val. Acc: 48.14%\n"
          ]
        }
      ]
    },
    {
      "cell_type": "code",
      "metadata": {
        "id": "sYoo5fXpHEG1",
        "colab": {
          "base_uri": "https://localhost:8080/",
          "height": 405
        },
        "outputId": "7948e430-6105-40b3-bf60-dbccc9be882f"
      },
      "source": [
        "import matplotlib.pyplot as plt\n",
        "fig = plt.figure(figsize=(10, 6))\n",
        "ax = fig.add_subplot(1, 1, 1)\n",
        "ax.plot(train_losses, label = 'train loss')\n",
        "ax.plot(valid_losses, label = 'valid loss')\n",
        "plt.legend()\n",
        "ax.set_xlabel('epoch')\n",
        "ax.set_ylabel('loss')"
      ],
      "execution_count": 37,
      "outputs": [
        {
          "output_type": "execute_result",
          "data": {
            "text/plain": [
              "Text(0, 0.5, 'loss')"
            ]
          },
          "metadata": {},
          "execution_count": 37
        },
        {
          "output_type": "display_data",
          "data": {
            "image/png": "[encoded data removed]",
            "text/plain": [
              "<Figure size 720x432 with 1 Axes>"
            ]
          },
          "metadata": {
            "needs_background": "light"
          }
        }
      ]
    },
    {
      "cell_type": "code",
      "metadata": {
        "id": "mOHzYQU2HO5v",
        "colab": {
          "base_uri": "https://localhost:8080/",
          "height": 405
        },
        "outputId": "bb35dd18-398a-4baa-c2c6-813307982b15"
      },
      "source": [
        "fig = plt.figure(figsize=(10, 6))\n",
        "ax = fig.add_subplot(1, 1, 1)\n",
        "ax.plot(train_accs, label = 'train acc')\n",
        "ax.plot(valid_accs, label = 'valid acc')\n",
        "plt.legend()\n",
        "ax.set_xlabel('epoch')\n",
        "ax.set_ylabel('acc')"
      ],
      "execution_count": 38,
      "outputs": [
        {
          "output_type": "execute_result",
          "data": {
            "text/plain": [
              "Text(0, 0.5, 'acc')"
            ]
          },
          "metadata": {},
          "execution_count": 38
        },
        {
          "output_type": "display_data",
          "data": {
            "image/png": "[encoded data removed]",
            "text/plain": [
              "<Figure size 720x432 with 1 Axes>"
            ]
          },
          "metadata": {
            "needs_background": "light"
          }
        }
      ]
    },
    {
      "cell_type": "code",
      "metadata": {
        "id": "VmAk-Nr-HQEU",
        "colab": {
          "base_uri": "https://localhost:8080/"
        },
        "outputId": "07450d4d-3a2c-4b26-e403-d1a9b4ef439c"
      },
      "source": [
        "model.load_state_dict(torch.load('tensor.pt'))\n",
        "test_loss , test_acc = evaluate(model, test_loader, criterion)\n",
        "print(f'Test Loss: {test_loss:.3f} | Test Acc: {test_acc*100:.2f}%')"
      ],
      "execution_count": 39,
      "outputs": [
        {
          "output_type": "stream",
          "name": "stdout",
          "text": [
            "Test Loss: 0.691 | Test Acc: 53.48%\n"
          ]
        }
      ]
    },
    {
      "cell_type": "code",
      "metadata": {
        "id": "JNTmTU0lQ9nB"
      },
      "source": [
        ""
      ],
      "execution_count": 39,
      "outputs": []
    }
  ]
}