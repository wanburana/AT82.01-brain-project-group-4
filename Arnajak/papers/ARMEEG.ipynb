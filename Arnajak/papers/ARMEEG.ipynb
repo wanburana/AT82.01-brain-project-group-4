{
  "nbformat": 4,
  "nbformat_minor": 0,
  "metadata": {
    "colab": {
      "name": "ARMEEG.ipynb",
      "provenance": [],
      "collapsed_sections": [],
      "toc_visible": true
    },
    "kernelspec": {
      "display_name": "Python 3",
      "name": "python3"
    },
    "language_info": {
      "name": "python"
    }
  },
  "cells": [
    {
      "cell_type": "markdown",
      "metadata": {
        "id": "2SglFziBCFVQ"
      },
      "source": [
        "# 1"
      ]
    },
    {
      "cell_type": "code",
      "metadata": {
        "id": "XmmB7cK6PdYs"
      },
      "source": [
        "import os\n",
        "from glob import glob\n",
        "import pickle\n",
        "import pandas as pd\n",
        "import numpy as np\n",
        "from tqdm import tqdm\n",
        "import matplotlib.pyplot as plt\n",
        "import seaborn as sns"
      ],
      "execution_count": 2,
      "outputs": []
    },
    {
      "cell_type": "code",
      "metadata": {
        "colab": {
          "base_uri": "https://localhost:8080/"
        },
        "id": "Coa5vqXHq9Uw",
        "outputId": "3597d91a-b802-4325-ce89-bcb53ca9a30c"
      },
      "source": [
        "from google.colab import drive\n",
        "drive.mount('/content/drive')"
      ],
      "execution_count": 3,
      "outputs": [
        {
          "output_type": "stream",
          "name": "stdout",
          "text": [
            "Mounted at /content/drive\n"
          ]
        }
      ]
    },
    {
      "cell_type": "markdown",
      "metadata": {
        "id": "MM0b85ce-Uty"
      },
      "source": [
        "# Load data"
      ]
    },
    {
      "cell_type": "code",
      "metadata": {
        "id": "uW9qH-2x65Dm"
      },
      "source": [
        "FOLDER_PATH = '/content/drive/MyDrive/EEG/DEAP/data_preprocessed_python/'\n",
        "files_list = sorted(glob(FOLDER_PATH + '*'))"
      ],
      "execution_count": null,
      "outputs": []
    },
    {
      "cell_type": "code",
      "metadata": {
        "colab": {
          "base_uri": "https://localhost:8080/"
        },
        "id": "gGIkqSs265F9",
        "outputId": "d70ffd36-6a14-444b-fcbe-a70f7d661638"
      },
      "source": [
        "features = []\n",
        "targets = []\n",
        "\n",
        "for i, f in (enumerate(tqdm(files_list))): \n",
        "    with open(f, 'rb') as f: \n",
        "        content = pickle.load(f, encoding='latin1')\n",
        "        data = content['data']\n",
        "        labels = content['labels']\n",
        "        \n",
        "        n_clips, n_channels, len_features = data.shape\n",
        "        \n",
        "        for j in range(n_clips):\n",
        "            features.append(data[j])\n",
        "            targets.append(labels[j])\n",
        "\n",
        "features = np.array(features) \n",
        "targets = np.array(targets)  "
      ],
      "execution_count": null,
      "outputs": [
        {
          "output_type": "stream",
          "name": "stderr",
          "text": [
            "100%|██████████| 32/32 [01:27<00:00,  2.73s/it]\n"
          ]
        }
      ]
    },
    {
      "cell_type": "code",
      "metadata": {
        "colab": {
          "base_uri": "https://localhost:8080/"
        },
        "id": "UMj_X5TB65Ig",
        "outputId": "4ec09160-f105-4827-c0b9-07dbce51d80f"
      },
      "source": [
        "features.shape"
      ],
      "execution_count": null,
      "outputs": [
        {
          "output_type": "execute_result",
          "data": {
            "text/plain": [
              "(1280, 40, 8064)"
            ]
          },
          "metadata": {},
          "execution_count": 5
        }
      ]
    },
    {
      "cell_type": "code",
      "metadata": {
        "colab": {
          "base_uri": "https://localhost:8080/"
        },
        "id": "KRs1qvhd65LB",
        "outputId": "c7c9b458-06bc-4d51-e485-aaba9b07e281"
      },
      "source": [
        "targets.shape"
      ],
      "execution_count": null,
      "outputs": [
        {
          "output_type": "execute_result",
          "data": {
            "text/plain": [
              "(1280, 4)"
            ]
          },
          "metadata": {},
          "execution_count": 6
        }
      ]
    },
    {
      "cell_type": "code",
      "metadata": {
        "id": "zLbpPbRA-fMs"
      },
      "source": [
        "eeg_channels = np.array([\"Fp1\", \"AF3\", \"F3\", \"F7\", \"FC5\", \"FC1\", \"C3\", \"T7\", \"CP5\", \"CP1\", \"P3\", \"P7\", \"PO3\", \"O1\", \"Oz\", \"Pz\", \"Fp2\", \"AF4\", \"Fz\", \"F4\", \"F8\", \"FC6\", \"FC2\", \"Cz\", \"C4\", \"T8\", \"CP6\", \"CP2\", \"P4\", \"P8\", \"PO4\", \"O2\"])\n",
        "peripheral_channels = np.array([\"hEOG\", \"vEOG\", \"zEMG\", \"tEMG\", \"GSR\", \"Respiration belt\", \"Plethysmograph\", \"Temperature\"])"
      ],
      "execution_count": null,
      "outputs": []
    },
    {
      "cell_type": "code",
      "metadata": {
        "colab": {
          "base_uri": "https://localhost:8080/"
        },
        "id": "JC0JHOhs-Cs8",
        "outputId": "035faa2d-2e32-44ea-9ed5-d431664bf8e0"
      },
      "source": [
        "eeg_data = []\n",
        "for i in range (len(features)):\n",
        "  for j in range (len(eeg_channels)):\n",
        "    eeg_data.append(features[i,j])\n",
        "eeg_data = np.reshape(eeg_data, (len(features), len(eeg_channels), len(features[0,0])))\n",
        "print(eeg_data.shape)"
      ],
      "execution_count": null,
      "outputs": [
        {
          "output_type": "stream",
          "name": "stdout",
          "text": [
            "(1280, 32, 8064)\n"
          ]
        }
      ]
    },
    {
      "cell_type": "code",
      "metadata": {
        "id": "orIWdJNnX2Yg"
      },
      "source": [
        "#np.save('targets', targets)"
      ],
      "execution_count": null,
      "outputs": []
    },
    {
      "cell_type": "code",
      "metadata": {
        "id": "j-w4sqGrYVJ9"
      },
      "source": [
        "#np.save('features', features)"
      ],
      "execution_count": null,
      "outputs": []
    },
    {
      "cell_type": "markdown",
      "metadata": {
        "id": "FsiiD8UIck64"
      },
      "source": [
        "# Load npy"
      ]
    },
    {
      "cell_type": "code",
      "metadata": {
        "colab": {
          "base_uri": "https://localhost:8080/"
        },
        "id": "bpGo0fbZZ4-6",
        "outputId": "9e30c2aa-d951-4b3b-a427-792fd4a15ada"
      },
      "source": [
        "eeg_data = np.load('/content/drive/MyDrive/EEG/DEAP/eeg_data.npy')\n",
        "targets = np.load('/content/drive/MyDrive/EEG/DEAP/targets.npy')\n",
        "print(eeg_data.shape)\n",
        "print(targets.shape)"
      ],
      "execution_count": null,
      "outputs": [
        {
          "output_type": "stream",
          "name": "stdout",
          "text": [
            "(1280, 32, 8064)\n",
            "(1280, 4)\n"
          ]
        }
      ]
    },
    {
      "cell_type": "markdown",
      "metadata": {
        "id": "hoOkUy3b-Tbh"
      },
      "source": [
        "# CUT"
      ]
    },
    {
      "cell_type": "code",
      "metadata": {
        "colab": {
          "base_uri": "https://localhost:8080/",
          "height": 1000
        },
        "id": "QlDu-t0M65PK",
        "outputId": "8631eff1-a363-4632-c246-f5958ef43aca"
      },
      "source": [
        "df_labels =  pd.DataFrame({'Valence': labels[:,0], 'Arousal': labels[:,1],'Dominance': labels[:,2] ,'Liking': labels[:,3] })\n",
        "df_labels"
      ],
      "execution_count": null,
      "outputs": [
        {
          "data": {
            "text/html": [
              "<div>\n",
              "<style scoped>\n",
              "    .dataframe tbody tr th:only-of-type {\n",
              "        vertical-align: middle;\n",
              "    }\n",
              "\n",
              "    .dataframe tbody tr th {\n",
              "        vertical-align: top;\n",
              "    }\n",
              "\n",
              "    .dataframe thead th {\n",
              "        text-align: right;\n",
              "    }\n",
              "</style>\n",
              "<table border=\"1\" class=\"dataframe\">\n",
              "  <thead>\n",
              "    <tr style=\"text-align: right;\">\n",
              "      <th></th>\n",
              "      <th>Valence</th>\n",
              "      <th>Arousal</th>\n",
              "      <th>Dominance</th>\n",
              "      <th>Liking</th>\n",
              "    </tr>\n",
              "  </thead>\n",
              "  <tbody>\n",
              "    <tr>\n",
              "      <th>0</th>\n",
              "      <td>8.13</td>\n",
              "      <td>4.83</td>\n",
              "      <td>9.00</td>\n",
              "      <td>4.87</td>\n",
              "    </tr>\n",
              "    <tr>\n",
              "      <th>1</th>\n",
              "      <td>4.99</td>\n",
              "      <td>2.99</td>\n",
              "      <td>7.96</td>\n",
              "      <td>1.01</td>\n",
              "    </tr>\n",
              "    <tr>\n",
              "      <th>2</th>\n",
              "      <td>8.05</td>\n",
              "      <td>7.09</td>\n",
              "      <td>8.86</td>\n",
              "      <td>7.08</td>\n",
              "    </tr>\n",
              "    <tr>\n",
              "      <th>3</th>\n",
              "      <td>6.96</td>\n",
              "      <td>5.14</td>\n",
              "      <td>9.00</td>\n",
              "      <td>6.14</td>\n",
              "    </tr>\n",
              "    <tr>\n",
              "      <th>4</th>\n",
              "      <td>7.15</td>\n",
              "      <td>5.94</td>\n",
              "      <td>9.00</td>\n",
              "      <td>4.81</td>\n",
              "    </tr>\n",
              "    <tr>\n",
              "      <th>5</th>\n",
              "      <td>5.78</td>\n",
              "      <td>3.99</td>\n",
              "      <td>7.99</td>\n",
              "      <td>2.28</td>\n",
              "    </tr>\n",
              "    <tr>\n",
              "      <th>6</th>\n",
              "      <td>4.94</td>\n",
              "      <td>4.09</td>\n",
              "      <td>9.00</td>\n",
              "      <td>2.09</td>\n",
              "    </tr>\n",
              "    <tr>\n",
              "      <th>7</th>\n",
              "      <td>7.96</td>\n",
              "      <td>6.06</td>\n",
              "      <td>8.05</td>\n",
              "      <td>7.15</td>\n",
              "    </tr>\n",
              "    <tr>\n",
              "      <th>8</th>\n",
              "      <td>7.86</td>\n",
              "      <td>4.17</td>\n",
              "      <td>8.94</td>\n",
              "      <td>7.04</td>\n",
              "    </tr>\n",
              "    <tr>\n",
              "      <th>9</th>\n",
              "      <td>4.08</td>\n",
              "      <td>5.95</td>\n",
              "      <td>8.82</td>\n",
              "      <td>3.90</td>\n",
              "    </tr>\n",
              "    <tr>\n",
              "      <th>10</th>\n",
              "      <td>8.24</td>\n",
              "      <td>6.22</td>\n",
              "      <td>8.99</td>\n",
              "      <td>6.88</td>\n",
              "    </tr>\n",
              "    <tr>\n",
              "      <th>11</th>\n",
              "      <td>7.31</td>\n",
              "      <td>3.88</td>\n",
              "      <td>9.00</td>\n",
              "      <td>5.33</td>\n",
              "    </tr>\n",
              "    <tr>\n",
              "      <th>12</th>\n",
              "      <td>7.09</td>\n",
              "      <td>3.87</td>\n",
              "      <td>9.00</td>\n",
              "      <td>6.99</td>\n",
              "    </tr>\n",
              "    <tr>\n",
              "      <th>13</th>\n",
              "      <td>7.10</td>\n",
              "      <td>6.03</td>\n",
              "      <td>9.00</td>\n",
              "      <td>6.83</td>\n",
              "    </tr>\n",
              "    <tr>\n",
              "      <th>14</th>\n",
              "      <td>5.01</td>\n",
              "      <td>1.77</td>\n",
              "      <td>9.00</td>\n",
              "      <td>2.81</td>\n",
              "    </tr>\n",
              "    <tr>\n",
              "      <th>15</th>\n",
              "      <td>3.97</td>\n",
              "      <td>6.00</td>\n",
              "      <td>7.03</td>\n",
              "      <td>6.23</td>\n",
              "    </tr>\n",
              "    <tr>\n",
              "      <th>16</th>\n",
              "      <td>6.09</td>\n",
              "      <td>5.03</td>\n",
              "      <td>9.00</td>\n",
              "      <td>3.94</td>\n",
              "    </tr>\n",
              "    <tr>\n",
              "      <th>17</th>\n",
              "      <td>8.03</td>\n",
              "      <td>7.06</td>\n",
              "      <td>8.96</td>\n",
              "      <td>8.18</td>\n",
              "    </tr>\n",
              "    <tr>\n",
              "      <th>18</th>\n",
              "      <td>8.24</td>\n",
              "      <td>7.24</td>\n",
              "      <td>9.00</td>\n",
              "      <td>8.04</td>\n",
              "    </tr>\n",
              "    <tr>\n",
              "      <th>19</th>\n",
              "      <td>6.03</td>\n",
              "      <td>4.12</td>\n",
              "      <td>9.00</td>\n",
              "      <td>5.03</td>\n",
              "    </tr>\n",
              "    <tr>\n",
              "      <th>20</th>\n",
              "      <td>4.12</td>\n",
              "      <td>5.99</td>\n",
              "      <td>7.17</td>\n",
              "      <td>3.83</td>\n",
              "    </tr>\n",
              "    <tr>\n",
              "      <th>21</th>\n",
              "      <td>4.15</td>\n",
              "      <td>6.06</td>\n",
              "      <td>8.09</td>\n",
              "      <td>6.18</td>\n",
              "    </tr>\n",
              "    <tr>\n",
              "      <th>22</th>\n",
              "      <td>3.01</td>\n",
              "      <td>6.15</td>\n",
              "      <td>5.08</td>\n",
              "      <td>6.17</td>\n",
              "    </tr>\n",
              "    <tr>\n",
              "      <th>23</th>\n",
              "      <td>1.00</td>\n",
              "      <td>7.31</td>\n",
              "      <td>4.85</td>\n",
              "      <td>6.86</td>\n",
              "    </tr>\n",
              "    <tr>\n",
              "      <th>24</th>\n",
              "      <td>4.01</td>\n",
              "      <td>7.17</td>\n",
              "      <td>8.01</td>\n",
              "      <td>6.94</td>\n",
              "    </tr>\n",
              "    <tr>\n",
              "      <th>25</th>\n",
              "      <td>5.14</td>\n",
              "      <td>3.09</td>\n",
              "      <td>8.83</td>\n",
              "      <td>3.08</td>\n",
              "    </tr>\n",
              "    <tr>\n",
              "      <th>26</th>\n",
              "      <td>6.00</td>\n",
              "      <td>7.24</td>\n",
              "      <td>7.97</td>\n",
              "      <td>5.81</td>\n",
              "    </tr>\n",
              "    <tr>\n",
              "      <th>27</th>\n",
              "      <td>6.03</td>\n",
              "      <td>5.00</td>\n",
              "      <td>8.28</td>\n",
              "      <td>6.36</td>\n",
              "    </tr>\n",
              "    <tr>\n",
              "      <th>28</th>\n",
              "      <td>4.09</td>\n",
              "      <td>6.08</td>\n",
              "      <td>8.97</td>\n",
              "      <td>4.00</td>\n",
              "    </tr>\n",
              "    <tr>\n",
              "      <th>29</th>\n",
              "      <td>1.00</td>\n",
              "      <td>7.27</td>\n",
              "      <td>4.73</td>\n",
              "      <td>6.92</td>\n",
              "    </tr>\n",
              "    <tr>\n",
              "      <th>30</th>\n",
              "      <td>4.17</td>\n",
              "      <td>5.96</td>\n",
              "      <td>7.13</td>\n",
              "      <td>1.97</td>\n",
              "    </tr>\n",
              "    <tr>\n",
              "      <th>31</th>\n",
              "      <td>3.87</td>\n",
              "      <td>7.15</td>\n",
              "      <td>7.13</td>\n",
              "      <td>6.23</td>\n",
              "    </tr>\n",
              "    <tr>\n",
              "      <th>32</th>\n",
              "      <td>4.06</td>\n",
              "      <td>1.00</td>\n",
              "      <td>6.96</td>\n",
              "      <td>1.00</td>\n",
              "    </tr>\n",
              "    <tr>\n",
              "      <th>33</th>\n",
              "      <td>4.05</td>\n",
              "      <td>6.27</td>\n",
              "      <td>7.03</td>\n",
              "      <td>1.26</td>\n",
              "    </tr>\n",
              "    <tr>\n",
              "      <th>34</th>\n",
              "      <td>3.88</td>\n",
              "      <td>7.26</td>\n",
              "      <td>6.04</td>\n",
              "      <td>1.00</td>\n",
              "    </tr>\n",
              "    <tr>\n",
              "      <th>35</th>\n",
              "      <td>3.91</td>\n",
              "      <td>6.96</td>\n",
              "      <td>5.82</td>\n",
              "      <td>3.12</td>\n",
              "    </tr>\n",
              "    <tr>\n",
              "      <th>36</th>\n",
              "      <td>2.81</td>\n",
              "      <td>6.13</td>\n",
              "      <td>6.06</td>\n",
              "      <td>1.04</td>\n",
              "    </tr>\n",
              "    <tr>\n",
              "      <th>37</th>\n",
              "      <td>3.05</td>\n",
              "      <td>7.01</td>\n",
              "      <td>5.10</td>\n",
              "      <td>1.10</td>\n",
              "    </tr>\n",
              "    <tr>\n",
              "      <th>38</th>\n",
              "      <td>3.99</td>\n",
              "      <td>7.17</td>\n",
              "      <td>4.85</td>\n",
              "      <td>1.00</td>\n",
              "    </tr>\n",
              "    <tr>\n",
              "      <th>39</th>\n",
              "      <td>7.15</td>\n",
              "      <td>4.03</td>\n",
              "      <td>9.00</td>\n",
              "      <td>1.88</td>\n",
              "    </tr>\n",
              "  </tbody>\n",
              "</table>\n",
              "</div>"
            ],
            "text/plain": [
              "    Valence  Arousal  Dominance  Liking\n",
              "0      8.13     4.83       9.00    4.87\n",
              "1      4.99     2.99       7.96    1.01\n",
              "2      8.05     7.09       8.86    7.08\n",
              "3      6.96     5.14       9.00    6.14\n",
              "4      7.15     5.94       9.00    4.81\n",
              "5      5.78     3.99       7.99    2.28\n",
              "6      4.94     4.09       9.00    2.09\n",
              "7      7.96     6.06       8.05    7.15\n",
              "8      7.86     4.17       8.94    7.04\n",
              "9      4.08     5.95       8.82    3.90\n",
              "10     8.24     6.22       8.99    6.88\n",
              "11     7.31     3.88       9.00    5.33\n",
              "12     7.09     3.87       9.00    6.99\n",
              "13     7.10     6.03       9.00    6.83\n",
              "14     5.01     1.77       9.00    2.81\n",
              "15     3.97     6.00       7.03    6.23\n",
              "16     6.09     5.03       9.00    3.94\n",
              "17     8.03     7.06       8.96    8.18\n",
              "18     8.24     7.24       9.00    8.04\n",
              "19     6.03     4.12       9.00    5.03\n",
              "20     4.12     5.99       7.17    3.83\n",
              "21     4.15     6.06       8.09    6.18\n",
              "22     3.01     6.15       5.08    6.17\n",
              "23     1.00     7.31       4.85    6.86\n",
              "24     4.01     7.17       8.01    6.94\n",
              "25     5.14     3.09       8.83    3.08\n",
              "26     6.00     7.24       7.97    5.81\n",
              "27     6.03     5.00       8.28    6.36\n",
              "28     4.09     6.08       8.97    4.00\n",
              "29     1.00     7.27       4.73    6.92\n",
              "30     4.17     5.96       7.13    1.97\n",
              "31     3.87     7.15       7.13    6.23\n",
              "32     4.06     1.00       6.96    1.00\n",
              "33     4.05     6.27       7.03    1.26\n",
              "34     3.88     7.26       6.04    1.00\n",
              "35     3.91     6.96       5.82    3.12\n",
              "36     2.81     6.13       6.06    1.04\n",
              "37     3.05     7.01       5.10    1.10\n",
              "38     3.99     7.17       4.85    1.00\n",
              "39     7.15     4.03       9.00    1.88"
            ]
          },
          "execution_count": 9,
          "metadata": {},
          "output_type": "execute_result"
        }
      ]
    },
    {
      "cell_type": "code",
      "metadata": {
        "colab": {
          "base_uri": "https://localhost:8080/"
        },
        "id": "3HTY3DiG84Rw",
        "outputId": "fd7afd81-c9ed-471f-e9af-5fbb4fc3c88e"
      },
      "source": [
        "!pip install mne\n",
        "import mne\n",
        "from mne.preprocessing import (ICA, create_eog_epochs, create_ecg_epochs, corrmap)\n",
        "from mne.time_frequency import psd_welch\n",
        "from mne.decoding import cross_val_multiscore\n"
      ],
      "execution_count": null,
      "outputs": [
        {
          "name": "stdout",
          "output_type": "stream",
          "text": [
            "Collecting mne\n",
            "  Downloading mne-0.24.0-py3-none-any.whl (7.4 MB)\n",
            "\u001b[K     |████████████████████████████████| 7.4 MB 3.8 MB/s \n",
            "\u001b[?25hRequirement already satisfied: numpy>=1.15.4 in /usr/local/lib/python3.7/dist-packages (from mne) (1.19.5)\n",
            "Requirement already satisfied: scipy>=1.1.0 in /usr/local/lib/python3.7/dist-packages (from mne) (1.4.1)\n",
            "Installing collected packages: mne\n",
            "Successfully installed mne-0.24.0\n"
          ]
        }
      ]
    },
    {
      "cell_type": "code",
      "metadata": {
        "colab": {
          "base_uri": "https://localhost:8080/"
        },
        "id": "HI6bbMJ19DUT",
        "outputId": "fcf85fc0-8e60-42a8-dd66-e1a627ac4d80"
      },
      "source": [
        "info = mne.create_info(32, sfreq=128)\n",
        "print(info)"
      ],
      "execution_count": null,
      "outputs": [
        {
          "name": "stdout",
          "output_type": "stream",
          "text": [
            "<Info | 7 non-empty values\n",
            " bads: []\n",
            " ch_names: 0, 1, 2, 3, 4, 5, 6, 7, 8, 9, 10, 11, 12, 13, 14, 15, 16, 17, ...\n",
            " chs: 32 misc\n",
            " custom_ref_applied: False\n",
            " highpass: 0.0 Hz\n",
            " lowpass: 64.0 Hz\n",
            " meas_date: unspecified\n",
            " nchan: 32\n",
            " projs: []\n",
            " sfreq: 128.0 Hz\n",
            ">\n"
          ]
        }
      ]
    },
    {
      "cell_type": "code",
      "metadata": {
        "colab": {
          "base_uri": "https://localhost:8080/"
        },
        "id": "fQ6fTZAuAmea",
        "outputId": "2234b738-67d7-4e79-ca58-154a0a2c464c"
      },
      "source": [
        "\n",
        "info = mne.create_info(eeg_channels.tolist(), ch_types=32*['eeg'], sfreq=128)\n",
        "info.set_montage('standard_1020')\n",
        "print(info)"
      ],
      "execution_count": null,
      "outputs": [
        {
          "name": "stdout",
          "output_type": "stream",
          "text": [
            "<Info | 8 non-empty values\n",
            " bads: []\n",
            " ch_names: Fp1, AF3, F3, F7, FC5, FC1, C3, T7, CP5, CP1, P3, P7, PO3, O1, ...\n",
            " chs: 32 EEG\n",
            " custom_ref_applied: False\n",
            " dig: 35 items (3 Cardinal, 32 EEG)\n",
            " highpass: 0.0 Hz\n",
            " lowpass: 64.0 Hz\n",
            " meas_date: unspecified\n",
            " nchan: 32\n",
            " projs: []\n",
            " sfreq: 128.0 Hz\n",
            ">\n"
          ]
        }
      ]
    },
    {
      "cell_type": "code",
      "metadata": {
        "colab": {
          "base_uri": "https://localhost:8080/"
        },
        "id": "c1RHOxMGAmgs",
        "outputId": "71b81f7d-af3a-4f92-cb77-c94e7e828dfa"
      },
      "source": [
        "raw_data = mne.io.RawArray(eeg_data[31], info)"
      ],
      "execution_count": null,
      "outputs": [
        {
          "name": "stdout",
          "output_type": "stream",
          "text": [
            "Creating RawArray with float64 data, n_channels=32, n_times=8064\n",
            "    Range : 0 ... 8063 =      0.000 ...    62.992 secs\n",
            "Ready.\n"
          ]
        }
      ]
    },
    {
      "cell_type": "code",
      "metadata": {
        "colab": {
          "base_uri": "https://localhost:8080/",
          "height": 516
        },
        "id": "AaAqzxDJAmls",
        "outputId": "f8288b36-2fd7-4aef-a4c3-7a7cc5f5fcc0"
      },
      "source": [
        "mne.viz.plot_raw_psd(raw_data)"
      ],
      "execution_count": null,
      "outputs": [
        {
          "name": "stdout",
          "output_type": "stream",
          "text": [
            "Effective window size : 16.000 (s)\n"
          ]
        },
        {
          "data": {
            "image/png": "[encoded data removed]",
            "text/plain": [
              "<MNELineFigure size 720x252 with 2 Axes>"
            ]
          },
          "metadata": {},
          "output_type": "display_data"
        },
        {
          "data": {
            "image/png": "[encoded data removed]",
            "text/plain": [
              "<MNELineFigure size 720x252 with 2 Axes>"
            ]
          },
          "execution_count": 14,
          "metadata": {},
          "output_type": "execute_result"
        }
      ]
    },
    {
      "cell_type": "code",
      "metadata": {
        "colab": {
          "base_uri": "https://localhost:8080/",
          "height": 516
        },
        "id": "Qj1OQIxNAmnZ",
        "outputId": "2794fd16-4233-4f43-a23e-d1ea53456ebe"
      },
      "source": [
        "raw_data.plot_psd(tmax=10., average=True, spatial_colors=False,\n",
        "                 dB=False, xscale='log')"
      ],
      "execution_count": null,
      "outputs": [
        {
          "name": "stdout",
          "output_type": "stream",
          "text": [
            "Effective window size : 10.008 (s)\n"
          ]
        },
        {
          "data": {
            "image/png": "[encoded data removed]",
            "text/plain": [
              "<MNELineFigure size 720x252 with 1 Axes>"
            ]
          },
          "metadata": {},
          "output_type": "display_data"
        },
        {
          "data": {
            "image/png": "[encoded data removed]",
            "text/plain": [
              "<MNELineFigure size 720x252 with 1 Axes>"
            ]
          },
          "execution_count": 15,
          "metadata": {},
          "output_type": "execute_result"
        }
      ]
    },
    {
      "cell_type": "code",
      "metadata": {
        "colab": {
          "base_uri": "https://localhost:8080/"
        },
        "id": "WGNpSHRgrPFY",
        "outputId": "25cfea07-53d2-481e-ff54-59f3d6f92902"
      },
      "source": [
        "eeg_data.shape"
      ],
      "execution_count": null,
      "outputs": [
        {
          "data": {
            "text/plain": [
              "(1280, 32, 8064)"
            ]
          },
          "execution_count": 16,
          "metadata": {},
          "output_type": "execute_result"
        }
      ]
    },
    {
      "cell_type": "code",
      "metadata": {
        "colab": {
          "base_uri": "https://localhost:8080/"
        },
        "id": "o1Xbf0vyBSxl",
        "outputId": "65c58224-5d1b-4298-aee2-efa25cb0d28b"
      },
      "source": [
        "e1 = eeg_data[0] # first participant - first clip.\n",
        "e1.shape"
      ],
      "execution_count": null,
      "outputs": [
        {
          "data": {
            "text/plain": [
              "(32, 8064)"
            ]
          },
          "execution_count": 17,
          "metadata": {},
          "output_type": "execute_result"
        }
      ]
    },
    {
      "cell_type": "code",
      "metadata": {
        "colab": {
          "base_uri": "https://localhost:8080/"
        },
        "id": "tXDomtstruZG",
        "outputId": "e9c758bd-840a-4ff8-fe95-db3e8e26b63b"
      },
      "source": [
        "e1_stft = mne.time_frequency.stft(e1,256,tstep=16)"
      ],
      "execution_count": null,
      "outputs": [
        {
          "name": "stdout",
          "output_type": "stream",
          "text": [
            "Number of frequencies: 129\n",
            "Number of time steps: 504\n"
          ]
        }
      ]
    },
    {
      "cell_type": "code",
      "metadata": {
        "colab": {
          "base_uri": "https://localhost:8080/"
        },
        "id": "HmcAI7gAr1yn",
        "outputId": "5f7abf85-1d32-4580-ce00-7db9ee583098"
      },
      "source": [
        "e1_stft.shape"
      ],
      "execution_count": null,
      "outputs": [
        {
          "data": {
            "text/plain": [
              "(32, 129, 504)"
            ]
          },
          "execution_count": 19,
          "metadata": {},
          "output_type": "execute_result"
        }
      ]
    },
    {
      "cell_type": "code",
      "metadata": {
        "colab": {
          "base_uri": "https://localhost:8080/",
          "height": 289
        },
        "id": "gnbkHMduxQGV",
        "outputId": "b6826b5f-54fd-40e8-b27c-2137c7fcbbba"
      },
      "source": [
        "sns.set(font_scale=1.2)\n",
        "\n",
        "# Define sampling frequency and time vector\n",
        "sf = 128.\n",
        "time = np.arange(eeg_data.size) / sf\n",
        "\n",
        "# Plot the signal of first trial, last channel \n",
        "fig, ax = plt.subplots(1, 1, figsize=(16, 4))\n",
        "plt.plot(eeg_data[0,31], lw=1.5, color='k') \n",
        "plt.xlabel('Time')\n",
        "plt.ylabel('Voltage')\n",
        "sns.despine()\n"
      ],
      "execution_count": null,
      "outputs": [
        {
          "data": {
            "image/png": "[encoded data removed]",
            "text/plain": [
              "<Figure size 1152x288 with 1 Axes>"
            ]
          },
          "metadata": {},
          "output_type": "display_data"
        }
      ]
    },
    {
      "cell_type": "code",
      "metadata": {
        "id": "GuKrgUzZ0HkA"
      },
      "source": [
        "from scipy import signal\n",
        "from scipy.signal import welch\n",
        "from scipy.integrate import simps\n",
        "from scipy.stats import f_oneway"
      ],
      "execution_count": null,
      "outputs": []
    },
    {
      "cell_type": "code",
      "metadata": {
        "id": "rpDjpXC_wt3_"
      },
      "source": [
        "def bandpower(data, sf, band, window_sec=None, relative=False):\n",
        "    band = np.asarray(band)\n",
        "    low, high = band\n",
        "\n",
        "    # Define window length\n",
        "    if window_sec is not None:\n",
        "        nperseg = window_sec * sf\n",
        "    else:\n",
        "        nperseg = (2 / low) * sf\n",
        "\n",
        "    # Compute the modified periodogram (Welch)\n",
        "    freqs, psd = welch(data, sf, nperseg=nperseg)\n",
        "\n",
        "    # Frequency resolution\n",
        "    freq_res = freqs[1] - freqs[0]\n",
        "\n",
        "    # Find closest indices of band in frequency vector\n",
        "    idx_band = np.logical_and(freqs >= low, freqs <= high)\n",
        "\n",
        "    # Integral approximation of the spectrum using Simpson's rule.\n",
        "    bp = simps(psd[idx_band], dx=freq_res)\n",
        "\n",
        "    if relative:\n",
        "        bp /= simps(psd, dx=freq_res)\n",
        "    return bp\n",
        "\n",
        "def get_band_power(trial, channel, band):\n",
        "  bd = (0,0)\n",
        "\n",
        "  if (band == \"theta\"): # drownsiness, emotional connection, intuition, creativity\n",
        "    bd = (4,8)\n",
        "  elif (band == \"alpha\"): # reflection, relaxation\n",
        "    bd = (8,12)\n",
        "  elif (band == \"beta\"): # concentration, problem solving, memory\n",
        "    bd = (12,30)\n",
        "  elif (band == \"gamma\"): # cognition, perception, learning, multi-tasking\n",
        "    bd = (30,64)\n",
        "  \n",
        "  return bandpower(eeg_data[trial,channel], 128, bd)"
      ],
      "execution_count": null,
      "outputs": []
    },
    {
      "cell_type": "code",
      "metadata": {
        "colab": {
          "base_uri": "https://localhost:8080/"
        },
        "id": "54nzsYPZz5sQ",
        "outputId": "8dcc5196-90c4-4e03-cea6-c627a216a470"
      },
      "source": [
        "print(get_band_power(0,31,\"theta\"))\n",
        "print(get_band_power(0,31,\"alpha\"))\n",
        "print(get_band_power(0,31,\"beta\"))\n",
        "print(get_band_power(0,31,\"gamma\"))"
      ],
      "execution_count": null,
      "outputs": [
        {
          "name": "stdout",
          "output_type": "stream",
          "text": [
            "5.434119660168186\n",
            "5.369595513295194\n",
            "6.286556266834863\n",
            "0.9879159580139809\n"
          ]
        }
      ]
    },
    {
      "cell_type": "code",
      "metadata": {
        "colab": {
          "base_uri": "https://localhost:8080/"
        },
        "id": "CLLU-AjT9nSB",
        "outputId": "6448e3d7-9fce-49b8-f5d2-cf1063dab017"
      },
      "source": [
        "e1.shape"
      ],
      "execution_count": null,
      "outputs": [
        {
          "data": {
            "text/plain": [
              "(32, 8064)"
            ]
          },
          "execution_count": 24,
          "metadata": {},
          "output_type": "execute_result"
        }
      ]
    },
    {
      "cell_type": "code",
      "metadata": {
        "colab": {
          "base_uri": "https://localhost:8080/",
          "height": 231
        },
        "id": "9OUIz3XS-z2u",
        "outputId": "e51a4a71-64bd-4b44-c588-85b5ba74b2f8"
      },
      "source": [
        "#model hyperparameters\n",
        "input_dim = len(vocab)\n",
        "hidden_dim = 256\n",
        "embed_dim = 300 #**<----cannot change if you are using FastText because that's the dimension of FastText\n",
        "output_dim = 4\n",
        "pad_idx = vocab['<pad>'] #++<----making sure our embedding layer ignores pad\n",
        "num_layers = 2\n",
        "bidirectional = True\n",
        "dropout = 0.5\n",
        "\n",
        "#training hyperparameters\n",
        "batch_size = 64\n",
        "num_epochs = 5\n",
        "lr=0.0001"
      ],
      "execution_count": null,
      "outputs": [
        {
          "ename": "NameError",
          "evalue": "ignored",
          "output_type": "error",
          "traceback": [
            "\u001b[0;31m---------------------------------------------------------------------------\u001b[0m",
            "\u001b[0;31mNameError\u001b[0m                                 Traceback (most recent call last)",
            "\u001b[0;32m<ipython-input-25-7e9b95c4792b>\u001b[0m in \u001b[0;36m<module>\u001b[0;34m()\u001b[0m\n\u001b[1;32m      1\u001b[0m \u001b[0;31m#model hyperparameters\u001b[0m\u001b[0;34m\u001b[0m\u001b[0;34m\u001b[0m\u001b[0;34m\u001b[0m\u001b[0m\n\u001b[0;32m----> 2\u001b[0;31m \u001b[0minput_dim\u001b[0m \u001b[0;34m=\u001b[0m \u001b[0mlen\u001b[0m\u001b[0;34m(\u001b[0m\u001b[0mvocab\u001b[0m\u001b[0;34m)\u001b[0m\u001b[0;34m\u001b[0m\u001b[0;34m\u001b[0m\u001b[0m\n\u001b[0m\u001b[1;32m      3\u001b[0m \u001b[0mhidden_dim\u001b[0m \u001b[0;34m=\u001b[0m \u001b[0;36m256\u001b[0m\u001b[0;34m\u001b[0m\u001b[0;34m\u001b[0m\u001b[0m\n\u001b[1;32m      4\u001b[0m \u001b[0membed_dim\u001b[0m \u001b[0;34m=\u001b[0m \u001b[0;36m300\u001b[0m \u001b[0;31m#**<----cannot change if you are using FastText because that's the dimension of FastText\u001b[0m\u001b[0;34m\u001b[0m\u001b[0;34m\u001b[0m\u001b[0m\n\u001b[1;32m      5\u001b[0m \u001b[0moutput_dim\u001b[0m \u001b[0;34m=\u001b[0m \u001b[0;36m4\u001b[0m\u001b[0;34m\u001b[0m\u001b[0;34m\u001b[0m\u001b[0m\n",
            "\u001b[0;31mNameError\u001b[0m: name 'vocab' is not defined"
          ]
        }
      ]
    },
    {
      "cell_type": "code",
      "metadata": {
        "id": "izLiyqD5--ki"
      },
      "source": [
        "import torch.nn as nn\n",
        "\n",
        "class LSTM(nn.Module):\n",
        "    def __init__(self):\n",
        "        super().__init__()\n",
        "        #put padding_idx so asking the embedding layer to ignore padding\n",
        "        self.embedding = nn.Embedding(input_dim, embed_dim, padding_idx=pad_idx)\n",
        "        self.lstm = nn.LSTM(embed_dim, \n",
        "                           hidden_dim, \n",
        "                           num_layers=num_layers, \n",
        "                           bidirectional=bidirectional, \n",
        "                           dropout=dropout,\n",
        "                           batch_first=True)\n",
        "        self.fc = nn.Linear(hidden_dim * 2, output_dim)\n",
        "        \n",
        "    def forward(self, text, text_lengths):\n",
        "        #text = [batch size, seq len]\n",
        "        embedded = self.embedding(text)\n",
        "        \n",
        "        #++ pack sequence ++\n",
        "        packed_embedded = nn.utils.rnn.pack_padded_sequence(embedded, text_lengths.to('cpu'), enforce_sorted=False, batch_first=True)\n",
        "        \n",
        "        #embedded = [batch size, seq len, embed dim]\n",
        "        packed_output, (hn, cn) = self.lstm(packed_embedded)  #if no h0, all zeroes\n",
        "        \n",
        "        #++ unpack in case we need to use it ++\n",
        "        output, output_lengths = nn.utils.rnn.pad_packed_sequence(packed_output, batch_first=True)\n",
        "        \n",
        "        #output = [batch size, seq len, hidden dim * num directions]\n",
        "        #output over padding tokens are zero tensors\n",
        "        \n",
        "        #hidden = [num layers * num directions, batch size, hid dim]\n",
        "        #cell = [num layers * num directions, batch size, hid dim]\n",
        "        \n",
        "        #concat the final forward (hidden[-2,:,:]) and backward (hidden[-1,:,:]) hidden layers\n",
        "        #https://stackoverflow.com/questions/50856936/taking-the-last-state-from-bilstm-bigru-in-pytorch?rq=1\n",
        "        hn = torch.cat((hn[-2,:,:], hn[-1,:,:]), dim = 1)\n",
        "        #hn = [batch size, hidden dim * num directions]\n",
        "        \n",
        "        return self.fc(hn)"
      ],
      "execution_count": null,
      "outputs": []
    },
    {
      "cell_type": "code",
      "metadata": {
        "id": "K9UwZ6pd_AGh"
      },
      "source": [
        "#explicitly initialize weights for better learning\n",
        "def initialize_weights(m):\n",
        "    if isinstance(m, nn.Linear):\n",
        "        nn.init.xavier_normal_(m.weight)\n",
        "        nn.init.zeros_(m.bias)\n",
        "    elif isinstance(m, nn.RNN):\n",
        "        for name, param in m.named_parameters():\n",
        "            if 'bias' in name:\n",
        "                nn.init.zeros_(param)\n",
        "            elif 'weight' in name:\n",
        "                nn.init.orthogonal_(param) #<---here"
      ],
      "execution_count": null,
      "outputs": []
    },
    {
      "cell_type": "code",
      "metadata": {
        "id": "OZndzsLk_Cvh"
      },
      "source": [
        "model = LSTM()\n",
        "#model.apply(initialize_weights)\n",
        "#model.embedding.weight.data = fast_embedding #**<------applied the fast text embedding as the initial weights"
      ],
      "execution_count": null,
      "outputs": []
    },
    {
      "cell_type": "code",
      "metadata": {
        "id": "MAe7W2Z7_L79"
      },
      "source": [
        "import torch.optim as optim\n",
        "\n",
        "optimizer = optim.Adam(model.parameters(), lr=lr) #<----changed to Adam\n",
        "criterion = nn.BCEWithLogitsLoss() #combine sigmoid with binary cross entropy"
      ],
      "execution_count": null,
      "outputs": []
    },
    {
      "cell_type": "code",
      "metadata": {
        "id": "weBQKkQN_OXV"
      },
      "source": [
        "def binary_accuracy(preds, y):\n",
        "    \"\"\"\n",
        "    Returns accuracy per batch, i.e. if you get 8/10 right, this returns 0.8, NOT 8\n",
        "    \"\"\"\n",
        "    #round predictions to the closest integer\n",
        "    rounded_preds = torch.round(torch.sigmoid(preds))\n",
        "    correct = (rounded_preds == y).float() #convert into float for division \n",
        "    acc = correct.sum() / len(correct)\n",
        "    return acc"
      ],
      "execution_count": null,
      "outputs": []
    },
    {
      "cell_type": "code",
      "metadata": {
        "id": "saG86fw7_QYA"
      },
      "source": [
        "def train(model, loader, optimizer, criterion):\n",
        "    epoch_loss = 0\n",
        "    epoch_acc = 0\n",
        "    model.train() #useful for batchnorm and dropout\n",
        "    for i, (label, text, text_length) in enumerate(loader): \n",
        "        label = label.to(device) #(batch_size, )\n",
        "        text = text.to(device) #(batch_size, seq len)\n",
        "                \n",
        "        #predict\n",
        "        predictions = 7\n",
        "        \n",
        "        #calculate loss\n",
        "        loss = criterion(predictions, label)\n",
        "        acc = binary_accuracy(predictions, label)\n",
        "        \n",
        "        #backprop\n",
        "        optimizer.zero_grad()\n",
        "        loss.backward()\n",
        "        optimizer.step()\n",
        "        \n",
        "        epoch_loss += loss.item()\n",
        "        epoch_acc += acc.item()\n",
        "                \n",
        "    return epoch_loss / len(loader), epoch_acc / len(loader)"
      ],
      "execution_count": null,
      "outputs": []
    },
    {
      "cell_type": "code",
      "metadata": {
        "id": "wUeTKz2f_RtO"
      },
      "source": [
        "def evaluate(model, loader, criterion):\n",
        "    epoch_loss = 0\n",
        "    epoch_acc = 0\n",
        "    model.eval()\n",
        "    \n",
        "    with torch.no_grad():\n",
        "        for i, (label, text, text_length) in enumerate(loader): \n",
        "            label = label.to(device) #(batch_size, )\n",
        "            text = text.to(device) #(batch_size, seq len)\n",
        "\n",
        "            predictions = model(text, text_length).squeeze(1) \n",
        "            \n",
        "            loss = criterion(predictions, label)\n",
        "            acc = binary_accuracy(predictions, label)\n",
        "\n",
        "            epoch_loss += loss.item()\n",
        "            epoch_acc += acc.item()\n",
        "        \n",
        "    return epoch_loss / len(loader), epoch_acc / len(loader)"
      ],
      "execution_count": null,
      "outputs": []
    },
    {
      "cell_type": "code",
      "metadata": {
        "id": "mWo1sboa_T8u"
      },
      "source": [
        "best_valid_loss = float('inf')\n",
        "\n",
        "train_losses = []\n",
        "train_accs = []\n",
        "valid_losses = []\n",
        "valid_accs = []\n",
        "\n",
        "for epoch in range(num_epochs):\n",
        "\n",
        "    train_loss, train_acc = train(model, train_loader, optimizer, criterion)\n",
        "    valid_loss, valid_acc = evaluate(model, valid_loader, criterion)\n",
        "    \n",
        "    #for plotting\n",
        "    train_losses.append(train_loss)\n",
        "    train_accs.append(train_acc)\n",
        "    valid_losses.append(valid_loss)\n",
        "    valid_accs.append(valid_acc)\n",
        "    \n",
        "    if valid_loss < best_valid_loss:\n",
        "        best_valid_loss = valid_loss\n",
        "        torch.save(model.state_dict(), 'models/fasttext_BiLSTM.pt')\n",
        "    \n",
        "    print(f'Epoch: {epoch+1:02} | Train Loss: {train_loss:.3f} | Train Acc: {train_acc*100:.2f}%')\n",
        "    print(f'\\t Val. Loss: {valid_loss:.3f} |  Val. Acc: {valid_acc*100:.2f}%')"
      ],
      "execution_count": null,
      "outputs": []
    },
    {
      "cell_type": "code",
      "metadata": {
        "id": "eesUtjjhDYW5"
      },
      "source": [
        "df_labels.iloc[:,0].head()"
      ],
      "execution_count": null,
      "outputs": []
    },
    {
      "cell_type": "code",
      "metadata": {
        "colab": {
          "base_uri": "https://localhost:8080/"
        },
        "id": "93TDMmqTEsHL",
        "outputId": "89d2a0d1-1858-4a3d-b801-7a79ed7332c8"
      },
      "source": [
        "features.shape"
      ],
      "execution_count": null,
      "outputs": [
        {
          "data": {
            "text/plain": [
              "(1280, 40, 8064)"
            ]
          },
          "execution_count": 9,
          "metadata": {},
          "output_type": "execute_result"
        }
      ]
    },
    {
      "cell_type": "code",
      "metadata": {
        "colab": {
          "base_uri": "https://localhost:8080/"
        },
        "id": "biHRN1FhE89J",
        "outputId": "326ff56c-a488-41e3-e8a8-458a74c39e72"
      },
      "source": [
        "targets.shape"
      ],
      "execution_count": null,
      "outputs": [
        {
          "data": {
            "text/plain": [
              "(1280, 4)"
            ]
          },
          "execution_count": 10,
          "metadata": {},
          "output_type": "execute_result"
        }
      ]
    },
    {
      "cell_type": "code",
      "metadata": {
        "colab": {
          "base_uri": "https://localhost:8080/"
        },
        "id": "ND_joJN5FbS_",
        "outputId": "bb79aa05-fde0-47fa-e71c-e91e4f8f5c10"
      },
      "source": [
        "len(np.unique(targets[:,0]))"
      ],
      "execution_count": null,
      "outputs": [
        {
          "data": {
            "text/plain": [
              "407"
            ]
          },
          "execution_count": 28,
          "metadata": {},
          "output_type": "execute_result"
        }
      ]
    },
    {
      "cell_type": "code",
      "metadata": {
        "colab": {
          "base_uri": "https://localhost:8080/"
        },
        "id": "TCsf-xo-GfqT",
        "outputId": "14bade83-5991-4073-bfaa-dfe42c4019e1"
      },
      "source": [
        "f_p13 = eeg_data[:120,:,:]\n",
        "f_p13.shape # (sample,channel,data)"
      ],
      "execution_count": null,
      "outputs": [
        {
          "data": {
            "text/plain": [
              "(120, 32, 8064)"
            ]
          },
          "execution_count": 32,
          "metadata": {},
          "output_type": "execute_result"
        }
      ]
    },
    {
      "cell_type": "code",
      "metadata": {
        "colab": {
          "base_uri": "https://localhost:8080/"
        },
        "id": "ZQila7oGG3k6",
        "outputId": "c486cccb-512b-4ebf-911e-34529ec5450d"
      },
      "source": [
        "l_p13 =targets[:120,0]\n",
        "l_p13.shape"
      ],
      "execution_count": null,
      "outputs": [
        {
          "data": {
            "text/plain": [
              "(120,)"
            ]
          },
          "execution_count": 33,
          "metadata": {},
          "output_type": "execute_result"
        }
      ]
    },
    {
      "cell_type": "code",
      "metadata": {
        "colab": {
          "base_uri": "https://localhost:8080/"
        },
        "id": "iq_egqqn8e5C",
        "outputId": "1caa3bb2-8f7e-41f2-8ba3-53349e68a010"
      },
      "source": [
        "f_p45 = eeg_data[120:200,:,:]\n",
        "f_p45.shape # (sample,channel,data)"
      ],
      "execution_count": null,
      "outputs": [
        {
          "data": {
            "text/plain": [
              "(80, 32, 8064)"
            ]
          },
          "execution_count": 9,
          "metadata": {},
          "output_type": "execute_result"
        }
      ]
    },
    {
      "cell_type": "code",
      "metadata": {
        "colab": {
          "base_uri": "https://localhost:8080/"
        },
        "id": "4HdJdFic8e8J",
        "outputId": "6ae297ba-c597-4276-e9a6-147310b28fa0"
      },
      "source": [
        "l_p45 =targets[120:200,0]\n",
        "l_p45.shape"
      ],
      "execution_count": null,
      "outputs": [
        {
          "data": {
            "text/plain": [
              "(80,)"
            ]
          },
          "execution_count": 10,
          "metadata": {},
          "output_type": "execute_result"
        }
      ]
    },
    {
      "cell_type": "code",
      "metadata": {
        "colab": {
          "base_uri": "https://localhost:8080/"
        },
        "id": "sYh_UHx0HRUf",
        "outputId": "46ea3d1d-2479-4b17-9005-ed118d5126fa"
      },
      "source": [
        "len(np.unique(l_p13))"
      ],
      "execution_count": null,
      "outputs": [
        {
          "data": {
            "text/plain": [
              "407"
            ]
          },
          "execution_count": 31,
          "metadata": {},
          "output_type": "execute_result"
        }
      ]
    },
    {
      "cell_type": "code",
      "metadata": {
        "colab": {
          "base_uri": "https://localhost:8080/"
        },
        "id": "xHk1dV8oHHAy",
        "outputId": "3218388b-d7e7-442b-df53-e42735fad8e8"
      },
      "source": [
        "from tensorflow.keras.utils import to_categorical\n",
        "y = to_categorical(l_p13)\n",
        "y.shape"
      ],
      "execution_count": null,
      "outputs": [
        {
          "data": {
            "text/plain": [
              "(120, 10)"
            ]
          },
          "execution_count": 25,
          "metadata": {},
          "output_type": "execute_result"
        }
      ]
    },
    {
      "cell_type": "code",
      "metadata": {
        "id": "5omxaQJi0HNn"
      },
      "source": [
        "new_f_p45 =  np.empty([f_p45.shape[0],8064,32])\n",
        "for i in range(f_p45.shape[0]):\n",
        "  for j in range(f_p45.shape[1]):\n",
        "    for k in range(f_p45.shape[2]):\n",
        "      new_f_p45[i,k,j] = f_p45[i,j,k]"
      ],
      "execution_count": null,
      "outputs": []
    },
    {
      "cell_type": "code",
      "metadata": {
        "id": "IVWoBmTVIeDb"
      },
      "source": [
        "new_f_p13 =  np.empty([120,8064,32])\n",
        "for i in range(f_p13.shape[0]):\n",
        "  for j in range(f_p13.shape[1]):\n",
        "    for k in range(f_p13.shape[2]):\n",
        "      new_f_p13[i,k,j] = f_p13[i,j,k]"
      ],
      "execution_count": null,
      "outputs": []
    },
    {
      "cell_type": "code",
      "metadata": {
        "id": "MHRrfHxT_MlS"
      },
      "source": [
        "new_f_p13 = new_f_p13[:,:1008,:]"
      ],
      "execution_count": null,
      "outputs": []
    },
    {
      "cell_type": "code",
      "metadata": {
        "id": "SX-NHqWLIsxm"
      },
      "source": [
        "new_f_p45 =new_f_p45[:,:504,:10]"
      ],
      "execution_count": null,
      "outputs": []
    },
    {
      "cell_type": "code",
      "metadata": {
        "colab": {
          "base_uri": "https://localhost:8080/"
        },
        "id": "K3ybkrBi79MD",
        "outputId": "01e6ca6b-09a7-41a2-a6e0-3db35a7098f8"
      },
      "source": [
        "new_f_p13.shape"
      ],
      "execution_count": null,
      "outputs": [
        {
          "data": {
            "text/plain": [
              "(120, 8064, 32)"
            ]
          },
          "execution_count": 11,
          "metadata": {},
          "output_type": "execute_result"
        }
      ]
    },
    {
      "cell_type": "code",
      "metadata": {
        "colab": {
          "base_uri": "https://localhost:8080/"
        },
        "id": "6qDNi5S12xqR",
        "outputId": "18a670c2-7b74-4b93-e587-fdb056c0aaa8"
      },
      "source": [
        "a = np.arange(18).reshape((3, 2,3))\n",
        "a"
      ],
      "execution_count": null,
      "outputs": [
        {
          "data": {
            "text/plain": [
              "array([[[ 0,  1,  2],\n",
              "        [ 3,  4,  5]],\n",
              "\n",
              "       [[ 6,  7,  8],\n",
              "        [ 9, 10, 11]],\n",
              "\n",
              "       [[12, 13, 14],\n",
              "        [15, 16, 17]]])"
            ]
          },
          "execution_count": 75,
          "metadata": {},
          "output_type": "execute_result"
        }
      ]
    },
    {
      "cell_type": "code",
      "metadata": {
        "colab": {
          "base_uri": "https://localhost:8080/"
        },
        "id": "UXOGXHv66vU7",
        "outputId": "9090c5b8-260d-4da9-9eac-f11eec911de1"
      },
      "source": [
        "print(a[0,0,2])"
      ],
      "execution_count": null,
      "outputs": [
        {
          "name": "stdout",
          "output_type": "stream",
          "text": [
            "2\n"
          ]
        }
      ]
    },
    {
      "cell_type": "code",
      "metadata": {
        "id": "nOHJiPcr4me2"
      },
      "source": [
        "newa = np.empty([3,3,2])\n",
        "for i in range(a.shape[0]):\n",
        "  for j in range(a.shape[1]):\n",
        "    for k in range(a.shape[2]):\n",
        "      newa[i,k,j] = a[i,j,k]"
      ],
      "execution_count": null,
      "outputs": []
    },
    {
      "cell_type": "code",
      "metadata": {
        "colab": {
          "base_uri": "https://localhost:8080/",
          "height": 163
        },
        "id": "42bwWhek4mhT",
        "outputId": "90df0674-b7c3-4399-d10c-d4dbcc421289"
      },
      "source": [
        "newa"
      ],
      "execution_count": null,
      "outputs": [
        {
          "ename": "NameError",
          "evalue": "ignored",
          "output_type": "error",
          "traceback": [
            "\u001b[0;31m---------------------------------------------------------------------------\u001b[0m",
            "\u001b[0;31mNameError\u001b[0m                                 Traceback (most recent call last)",
            "\u001b[0;32m<ipython-input-2-9c2698d7cf50>\u001b[0m in \u001b[0;36m<module>\u001b[0;34m()\u001b[0m\n\u001b[0;32m----> 1\u001b[0;31m \u001b[0mnewa\u001b[0m\u001b[0;34m\u001b[0m\u001b[0;34m\u001b[0m\u001b[0m\n\u001b[0m",
            "\u001b[0;31mNameError\u001b[0m: name 'newa' is not defined"
          ]
        }
      ]
    },
    {
      "cell_type": "markdown",
      "metadata": {
        "id": "zOvZia3FybXE"
      },
      "source": [
        "# Keras "
      ]
    },
    {
      "cell_type": "code",
      "metadata": {
        "colab": {
          "base_uri": "https://localhost:8080/"
        },
        "id": "Vfe7gP45yrUK",
        "outputId": "66163261-a957-4036-e0eb-53b71d3d247c"
      },
      "source": [
        "import keras\n",
        "from tensorflow.keras.optimizers import RMSprop,Adam\n",
        "from keras.models import Sequential\n",
        "from keras.layers import Dense, Dropout\n",
        "from keras.layers import LSTM,BatchNormalization,Activation\n",
        "model = Sequential()\n",
        "model.add(LSTM(512, batch_input_shape = (None, None, x_train.shape[2]),return_sequences=True))\n",
        "#model.add(Dropout(0.1))\n",
        "model.add(BatchNormalization())\n",
        "model.add(Dropout(0.3))\n",
        "\n",
        "model.add(LSTM(256,activation=\"relu\",return_sequences=True))\n",
        "model.add(BatchNormalization())\n",
        "model.add(Dropout(0.5))\n",
        "\n",
        "\n",
        "model.add(LSTM(128,activation=\"relu\",return_sequences=True))\n",
        "model.add(BatchNormalization())\n",
        "model.add(Dropout(0.3))\n",
        "\n",
        "model.add(LSTM(64,activation=\"relu\",return_sequences=True))\n",
        "model.add(BatchNormalization())\n",
        "model.add(Dropout(0.3))\n",
        "\n",
        "\n",
        "model.add(LSTM(32,activation=\"relu\"))\n",
        "model.add(BatchNormalization())\n",
        "model.add(Dropout(0.2))\n",
        "\n",
        "\n",
        "model.add(Dense(10))\n",
        "model.add(Activation('sigmoid'))\n",
        "\n",
        "rmsprop = RMSprop(lr=0.0001, rho=0.9, epsilon=1e-08)\n",
        "model.compile(loss='mean_squared_error', optimizer=rmsprop,metrics=['accuracy'])\n",
        "#adam = Adam(lr=0.5, beta_1=0.9, beta_2=0.999, epsilon=None, decay=0.0, amsgrad=False)\n",
        "#model.compile(loss='binary_crossentropy', optimizer='adam', metrics=['accuracy'])\n",
        "model.summary()"
      ],
      "execution_count": null,
      "outputs": [
        {
          "name": "stdout",
          "output_type": "stream",
          "text": [
            "Model: \"sequential\"\n",
            "_________________________________________________________________\n",
            " Layer (type)                Output Shape              Param #   \n",
            "=================================================================\n",
            " lstm (LSTM)                 (None, None, 512)         1312768   \n",
            "                                                                 \n",
            " batch_normalization (BatchN  (None, None, 512)        2048      \n",
            " ormalization)                                                   \n",
            "                                                                 \n",
            " dropout (Dropout)           (None, None, 512)         0         \n",
            "                                                                 \n",
            " lstm_1 (LSTM)               (None, None, 256)         787456    \n",
            "                                                                 \n",
            " batch_normalization_1 (Batc  (None, None, 256)        1024      \n",
            " hNormalization)                                                 \n",
            "                                                                 \n",
            " dropout_1 (Dropout)         (None, None, 256)         0         \n",
            "                                                                 \n",
            " lstm_2 (LSTM)               (None, None, 128)         197120    \n",
            "                                                                 \n",
            " batch_normalization_2 (Batc  (None, None, 128)        512       \n",
            " hNormalization)                                                 \n",
            "                                                                 \n",
            " dropout_2 (Dropout)         (None, None, 128)         0         \n",
            "                                                                 \n",
            " lstm_3 (LSTM)               (None, None, 64)          49408     \n",
            "                                                                 \n",
            " batch_normalization_3 (Batc  (None, None, 64)         256       \n",
            " hNormalization)                                                 \n",
            "                                                                 \n",
            " dropout_3 (Dropout)         (None, None, 64)          0         \n",
            "                                                                 \n",
            " lstm_4 (LSTM)               (None, 32)                12416     \n",
            "                                                                 \n",
            " batch_normalization_4 (Batc  (None, 32)               128       \n",
            " hNormalization)                                                 \n",
            "                                                                 \n",
            " dropout_4 (Dropout)         (None, 32)                0         \n",
            "                                                                 \n",
            " dense (Dense)               (None, 10)                330       \n",
            "                                                                 \n",
            " activation (Activation)     (None, 10)                0         \n",
            "                                                                 \n",
            "=================================================================\n",
            "Total params: 2,363,466\n",
            "Trainable params: 2,361,482\n",
            "Non-trainable params: 1,984\n",
            "_________________________________________________________________\n"
          ]
        },
        {
          "name": "stderr",
          "output_type": "stream",
          "text": [
            "/usr/local/lib/python3.7/dist-packages/keras/optimizer_v2/rmsprop.py:130: UserWarning: The `lr` argument is deprecated, use `learning_rate` instead.\n",
            "  super(RMSprop, self).__init__(name, **kwargs)\n"
          ]
        }
      ]
    },
    {
      "cell_type": "code",
      "metadata": {
        "colab": {
          "base_uri": "https://localhost:8080/"
        },
        "id": "BHmXEfns8Gp4",
        "outputId": "1d4bd943-99fb-4b97-81f9-c1ad2ab1d34e"
      },
      "source": [
        "history = model.fit(x_train, y_train, epochs = 100, batch_size=20,validation_data= (x_val, y_val))"
      ],
      "execution_count": null,
      "outputs": [
        {
          "name": "stdout",
          "output_type": "stream",
          "text": [
            "Epoch 1/100\n",
            "45/45 [==============================] - 2s 44ms/step - loss: 0.2732 - accuracy: 0.1138 - val_loss: 0.1922 - val_accuracy: 0.0234\n",
            "Epoch 2/100\n",
            "45/45 [==============================] - 2s 44ms/step - loss: 0.2672 - accuracy: 0.1038 - val_loss: 0.1883 - val_accuracy: 0.0234\n",
            "Epoch 3/100\n",
            "45/45 [==============================] - 2s 44ms/step - loss: 0.2661 - accuracy: 0.1161 - val_loss: 0.1912 - val_accuracy: 0.0547\n",
            "Epoch 4/100\n",
            "45/45 [==============================] - 2s 45ms/step - loss: 0.2631 - accuracy: 0.1116 - val_loss: 0.1971 - val_accuracy: 0.0859\n",
            "Epoch 5/100\n",
            "45/45 [==============================] - 2s 45ms/step - loss: 0.2557 - accuracy: 0.1105 - val_loss: 0.1972 - val_accuracy: 0.1016\n",
            "Epoch 6/100\n",
            "45/45 [==============================] - 2s 45ms/step - loss: 0.2496 - accuracy: 0.1183 - val_loss: 0.2045 - val_accuracy: 0.1250\n",
            "Epoch 7/100\n",
            "45/45 [==============================] - 2s 44ms/step - loss: 0.2507 - accuracy: 0.0982 - val_loss: 0.2096 - val_accuracy: 0.0938\n",
            "Epoch 8/100\n",
            "45/45 [==============================] - 2s 43ms/step - loss: 0.2495 - accuracy: 0.1272 - val_loss: 0.2053 - val_accuracy: 0.1250\n",
            "Epoch 9/100\n",
            "45/45 [==============================] - 2s 43ms/step - loss: 0.2453 - accuracy: 0.1183 - val_loss: 0.2078 - val_accuracy: 0.1797\n",
            "Epoch 10/100\n",
            "45/45 [==============================] - 2s 42ms/step - loss: 0.2426 - accuracy: 0.1060 - val_loss: 0.2112 - val_accuracy: 0.1875\n",
            "Epoch 11/100\n",
            "45/45 [==============================] - 2s 44ms/step - loss: 0.2398 - accuracy: 0.1194 - val_loss: 0.2015 - val_accuracy: 0.1953\n",
            "Epoch 12/100\n",
            "45/45 [==============================] - 2s 44ms/step - loss: 0.2354 - accuracy: 0.1217 - val_loss: 0.1997 - val_accuracy: 0.1641\n",
            "Epoch 13/100\n",
            "45/45 [==============================] - 2s 44ms/step - loss: 0.2336 - accuracy: 0.1228 - val_loss: 0.2074 - val_accuracy: 0.1719\n",
            "Epoch 14/100\n",
            "45/45 [==============================] - 2s 44ms/step - loss: 0.2325 - accuracy: 0.1172 - val_loss: 0.2048 - val_accuracy: 0.1719\n",
            "Epoch 15/100\n",
            "45/45 [==============================] - 2s 43ms/step - loss: 0.2280 - accuracy: 0.1172 - val_loss: 0.2016 - val_accuracy: 0.1953\n",
            "Epoch 16/100\n",
            "45/45 [==============================] - 2s 44ms/step - loss: 0.2260 - accuracy: 0.1150 - val_loss: 0.2015 - val_accuracy: 0.1484\n",
            "Epoch 17/100\n",
            "45/45 [==============================] - 2s 44ms/step - loss: 0.2212 - accuracy: 0.1328 - val_loss: 0.2026 - val_accuracy: 0.1719\n",
            "Epoch 18/100\n",
            "45/45 [==============================] - 2s 42ms/step - loss: 0.2177 - accuracy: 0.1451 - val_loss: 0.1990 - val_accuracy: 0.1953\n",
            "Epoch 19/100\n",
            "45/45 [==============================] - 2s 44ms/step - loss: 0.2140 - accuracy: 0.1339 - val_loss: 0.1984 - val_accuracy: 0.1641\n",
            "Epoch 20/100\n",
            "45/45 [==============================] - 2s 45ms/step - loss: 0.2102 - accuracy: 0.1161 - val_loss: 0.1958 - val_accuracy: 0.2031\n",
            "Epoch 21/100\n",
            "45/45 [==============================] - 2s 44ms/step - loss: 0.2089 - accuracy: 0.1406 - val_loss: 0.1938 - val_accuracy: 0.1953\n",
            "Epoch 22/100\n",
            "45/45 [==============================] - 2s 47ms/step - loss: 0.2026 - accuracy: 0.1283 - val_loss: 0.1963 - val_accuracy: 0.1875\n",
            "Epoch 23/100\n",
            "45/45 [==============================] - 2s 46ms/step - loss: 0.2004 - accuracy: 0.1239 - val_loss: 0.1910 - val_accuracy: 0.1797\n",
            "Epoch 24/100\n",
            "45/45 [==============================] - 2s 46ms/step - loss: 0.2001 - accuracy: 0.1228 - val_loss: 0.1874 - val_accuracy: 0.1562\n",
            "Epoch 25/100\n",
            "45/45 [==============================] - 2s 45ms/step - loss: 0.1929 - accuracy: 0.1217 - val_loss: 0.1881 - val_accuracy: 0.2031\n",
            "Epoch 26/100\n",
            "45/45 [==============================] - 2s 45ms/step - loss: 0.1895 - accuracy: 0.1496 - val_loss: 0.1823 - val_accuracy: 0.2031\n",
            "Epoch 27/100\n",
            "45/45 [==============================] - 2s 45ms/step - loss: 0.1874 - accuracy: 0.1328 - val_loss: 0.1864 - val_accuracy: 0.1953\n",
            "Epoch 28/100\n",
            "45/45 [==============================] - 2s 43ms/step - loss: 0.1868 - accuracy: 0.1317 - val_loss: 0.1868 - val_accuracy: 0.2188\n",
            "Epoch 29/100\n",
            "45/45 [==============================] - 2s 43ms/step - loss: 0.1811 - accuracy: 0.1295 - val_loss: 0.1846 - val_accuracy: 0.1797\n",
            "Epoch 30/100\n",
            "45/45 [==============================] - 2s 43ms/step - loss: 0.1808 - accuracy: 0.1328 - val_loss: 0.1859 - val_accuracy: 0.1953\n",
            "Epoch 31/100\n",
            "45/45 [==============================] - 2s 43ms/step - loss: 0.1773 - accuracy: 0.1306 - val_loss: 0.1820 - val_accuracy: 0.1875\n",
            "Epoch 32/100\n",
            "45/45 [==============================] - 2s 44ms/step - loss: 0.1709 - accuracy: 0.1172 - val_loss: 0.1782 - val_accuracy: 0.2031\n",
            "Epoch 33/100\n",
            "45/45 [==============================] - 2s 44ms/step - loss: 0.1686 - accuracy: 0.1350 - val_loss: 0.1771 - val_accuracy: 0.1719\n",
            "Epoch 34/100\n",
            "45/45 [==============================] - 2s 45ms/step - loss: 0.1679 - accuracy: 0.1350 - val_loss: 0.1701 - val_accuracy: 0.1875\n",
            "Epoch 35/100\n",
            "45/45 [==============================] - 2s 46ms/step - loss: 0.1641 - accuracy: 0.1551 - val_loss: 0.1673 - val_accuracy: 0.1797\n",
            "Epoch 36/100\n",
            "45/45 [==============================] - 2s 44ms/step - loss: 0.1599 - accuracy: 0.1574 - val_loss: 0.1701 - val_accuracy: 0.1406\n",
            "Epoch 37/100\n",
            "45/45 [==============================] - 2s 46ms/step - loss: 0.1567 - accuracy: 0.1585 - val_loss: 0.1634 - val_accuracy: 0.1562\n",
            "Epoch 38/100\n",
            "45/45 [==============================] - 2s 47ms/step - loss: 0.1534 - accuracy: 0.1518 - val_loss: 0.1602 - val_accuracy: 0.1562\n",
            "Epoch 39/100\n",
            "45/45 [==============================] - 2s 47ms/step - loss: 0.1502 - accuracy: 0.1518 - val_loss: 0.1523 - val_accuracy: 0.1641\n",
            "Epoch 40/100\n",
            "45/45 [==============================] - 2s 46ms/step - loss: 0.1498 - accuracy: 0.1384 - val_loss: 0.1462 - val_accuracy: 0.1641\n",
            "Epoch 41/100\n",
            "45/45 [==============================] - 2s 48ms/step - loss: 0.1480 - accuracy: 0.1652 - val_loss: 0.1448 - val_accuracy: 0.1719\n",
            "Epoch 42/100\n",
            "45/45 [==============================] - 2s 49ms/step - loss: 0.1444 - accuracy: 0.1551 - val_loss: 0.1428 - val_accuracy: 0.1641\n",
            "Epoch 43/100\n",
            "45/45 [==============================] - 2s 52ms/step - loss: 0.1413 - accuracy: 0.1674 - val_loss: 0.1414 - val_accuracy: 0.1562\n",
            "Epoch 44/100\n",
            "45/45 [==============================] - 2s 50ms/step - loss: 0.1424 - accuracy: 0.1574 - val_loss: 0.1422 - val_accuracy: 0.1562\n",
            "Epoch 45/100\n",
            "45/45 [==============================] - 2s 48ms/step - loss: 0.1408 - accuracy: 0.1283 - val_loss: 0.1443 - val_accuracy: 0.1484\n",
            "Epoch 46/100\n",
            "45/45 [==============================] - 2s 45ms/step - loss: 0.1350 - accuracy: 0.1574 - val_loss: 0.1444 - val_accuracy: 0.1562\n",
            "Epoch 47/100\n",
            "45/45 [==============================] - 2s 44ms/step - loss: 0.1336 - accuracy: 0.1685 - val_loss: 0.1337 - val_accuracy: 0.1484\n",
            "Epoch 48/100\n",
            "45/45 [==============================] - 2s 45ms/step - loss: 0.1305 - accuracy: 0.1641 - val_loss: 0.1320 - val_accuracy: 0.1562\n",
            "Epoch 49/100\n",
            "45/45 [==============================] - 2s 44ms/step - loss: 0.1292 - accuracy: 0.1808 - val_loss: 0.1308 - val_accuracy: 0.1484\n",
            "Epoch 50/100\n",
            "45/45 [==============================] - 2s 43ms/step - loss: 0.1301 - accuracy: 0.1562 - val_loss: 0.1258 - val_accuracy: 0.1406\n",
            "Epoch 51/100\n",
            "45/45 [==============================] - 2s 44ms/step - loss: 0.1262 - accuracy: 0.1674 - val_loss: 0.1199 - val_accuracy: 0.1641\n",
            "Epoch 52/100\n",
            "45/45 [==============================] - 2s 44ms/step - loss: 0.1249 - accuracy: 0.1462 - val_loss: 0.1197 - val_accuracy: 0.1719\n",
            "Epoch 53/100\n",
            "45/45 [==============================] - 2s 44ms/step - loss: 0.1230 - accuracy: 0.1629 - val_loss: 0.1151 - val_accuracy: 0.1719\n",
            "Epoch 54/100\n",
            "45/45 [==============================] - 2s 44ms/step - loss: 0.1200 - accuracy: 0.1507 - val_loss: 0.1176 - val_accuracy: 0.1719\n",
            "Epoch 55/100\n",
            "45/45 [==============================] - 2s 44ms/step - loss: 0.1184 - accuracy: 0.1540 - val_loss: 0.1177 - val_accuracy: 0.1797\n",
            "Epoch 56/100\n",
            "45/45 [==============================] - 2s 45ms/step - loss: 0.1181 - accuracy: 0.1451 - val_loss: 0.1155 - val_accuracy: 0.1641\n",
            "Epoch 57/100\n",
            "45/45 [==============================] - 2s 44ms/step - loss: 0.1130 - accuracy: 0.1484 - val_loss: 0.1149 - val_accuracy: 0.1641\n",
            "Epoch 58/100\n",
            "45/45 [==============================] - 2s 44ms/step - loss: 0.1140 - accuracy: 0.1719 - val_loss: 0.1124 - val_accuracy: 0.1641\n",
            "Epoch 59/100\n",
            "45/45 [==============================] - 2s 44ms/step - loss: 0.1118 - accuracy: 0.1629 - val_loss: 0.1091 - val_accuracy: 0.1641\n",
            "Epoch 60/100\n",
            "45/45 [==============================] - 2s 44ms/step - loss: 0.1104 - accuracy: 0.1574 - val_loss: 0.1048 - val_accuracy: 0.1641\n",
            "Epoch 61/100\n",
            "45/45 [==============================] - 2s 44ms/step - loss: 0.1066 - accuracy: 0.1562 - val_loss: 0.1035 - val_accuracy: 0.1562\n",
            "Epoch 62/100\n",
            "45/45 [==============================] - 2s 44ms/step - loss: 0.1088 - accuracy: 0.1730 - val_loss: 0.1041 - val_accuracy: 0.1641\n",
            "Epoch 63/100\n",
            "45/45 [==============================] - 2s 46ms/step - loss: 0.1073 - accuracy: 0.1507 - val_loss: 0.0995 - val_accuracy: 0.1719\n",
            "Epoch 64/100\n",
            "45/45 [==============================] - 2s 45ms/step - loss: 0.1059 - accuracy: 0.1607 - val_loss: 0.0990 - val_accuracy: 0.1719\n",
            "Epoch 65/100\n",
            "45/45 [==============================] - 2s 45ms/step - loss: 0.1020 - accuracy: 0.1540 - val_loss: 0.0987 - val_accuracy: 0.1719\n",
            "Epoch 66/100\n",
            "45/45 [==============================] - 2s 44ms/step - loss: 0.1021 - accuracy: 0.1540 - val_loss: 0.0977 - val_accuracy: 0.1797\n",
            "Epoch 67/100\n",
            "45/45 [==============================] - 2s 44ms/step - loss: 0.1018 - accuracy: 0.1618 - val_loss: 0.0967 - val_accuracy: 0.1719\n",
            "Epoch 68/100\n",
            "45/45 [==============================] - 2s 45ms/step - loss: 0.1008 - accuracy: 0.1562 - val_loss: 0.0963 - val_accuracy: 0.1797\n",
            "Epoch 69/100\n",
            "45/45 [==============================] - 2s 43ms/step - loss: 0.0994 - accuracy: 0.1775 - val_loss: 0.0955 - val_accuracy: 0.1797\n",
            "Epoch 70/100\n",
            "45/45 [==============================] - 2s 43ms/step - loss: 0.0988 - accuracy: 0.1507 - val_loss: 0.0948 - val_accuracy: 0.1797\n",
            "Epoch 71/100\n",
            "45/45 [==============================] - 2s 45ms/step - loss: 0.0990 - accuracy: 0.1585 - val_loss: 0.0947 - val_accuracy: 0.1719\n",
            "Epoch 72/100\n",
            "45/45 [==============================] - 2s 45ms/step - loss: 0.0994 - accuracy: 0.1540 - val_loss: 0.0944 - val_accuracy: 0.1797\n",
            "Epoch 73/100\n",
            "45/45 [==============================] - 2s 45ms/step - loss: 0.0964 - accuracy: 0.1540 - val_loss: 0.0943 - val_accuracy: 0.1953\n",
            "Epoch 74/100\n",
            "45/45 [==============================] - 2s 45ms/step - loss: 0.0983 - accuracy: 0.1618 - val_loss: 0.0933 - val_accuracy: 0.1641\n",
            "Epoch 75/100\n",
            "45/45 [==============================] - 2s 44ms/step - loss: 0.0959 - accuracy: 0.1585 - val_loss: 0.0926 - val_accuracy: 0.1797\n",
            "Epoch 76/100\n",
            "45/45 [==============================] - 2s 43ms/step - loss: 0.0964 - accuracy: 0.1507 - val_loss: 0.0924 - val_accuracy: 0.1797\n",
            "Epoch 77/100\n",
            "45/45 [==============================] - 2s 43ms/step - loss: 0.0960 - accuracy: 0.1618 - val_loss: 0.0923 - val_accuracy: 0.1797\n",
            "Epoch 78/100\n",
            "45/45 [==============================] - 2s 43ms/step - loss: 0.0951 - accuracy: 0.1663 - val_loss: 0.0918 - val_accuracy: 0.1641\n",
            "Epoch 79/100\n",
            "45/45 [==============================] - 2s 43ms/step - loss: 0.0941 - accuracy: 0.1473 - val_loss: 0.0918 - val_accuracy: 0.1641\n",
            "Epoch 80/100\n",
            "45/45 [==============================] - 2s 43ms/step - loss: 0.0952 - accuracy: 0.1618 - val_loss: 0.0908 - val_accuracy: 0.1562\n",
            "Epoch 81/100\n",
            "45/45 [==============================] - 2s 43ms/step - loss: 0.0929 - accuracy: 0.1819 - val_loss: 0.0902 - val_accuracy: 0.1641\n",
            "Epoch 82/100\n",
            "45/45 [==============================] - 2s 43ms/step - loss: 0.0933 - accuracy: 0.1786 - val_loss: 0.0902 - val_accuracy: 0.1562\n",
            "Epoch 83/100\n",
            "45/45 [==============================] - 2s 43ms/step - loss: 0.0936 - accuracy: 0.1596 - val_loss: 0.0898 - val_accuracy: 0.1719\n",
            "Epoch 84/100\n",
            "45/45 [==============================] - 2s 42ms/step - loss: 0.0926 - accuracy: 0.1708 - val_loss: 0.0903 - val_accuracy: 0.1641\n",
            "Epoch 85/100\n",
            "45/45 [==============================] - 2s 42ms/step - loss: 0.0931 - accuracy: 0.1462 - val_loss: 0.0904 - val_accuracy: 0.1484\n",
            "Epoch 86/100\n",
            "45/45 [==============================] - 2s 44ms/step - loss: 0.0918 - accuracy: 0.1507 - val_loss: 0.0891 - val_accuracy: 0.1484\n",
            "Epoch 87/100\n",
            "45/45 [==============================] - 2s 43ms/step - loss: 0.0914 - accuracy: 0.1562 - val_loss: 0.0891 - val_accuracy: 0.1719\n",
            "Epoch 88/100\n",
            "45/45 [==============================] - 2s 43ms/step - loss: 0.0915 - accuracy: 0.1641 - val_loss: 0.0884 - val_accuracy: 0.1641\n",
            "Epoch 89/100\n",
            "45/45 [==============================] - 2s 44ms/step - loss: 0.0913 - accuracy: 0.1518 - val_loss: 0.0884 - val_accuracy: 0.1641\n",
            "Epoch 90/100\n",
            "45/45 [==============================] - 2s 44ms/step - loss: 0.0908 - accuracy: 0.1830 - val_loss: 0.0884 - val_accuracy: 0.1562\n",
            "Epoch 91/100\n",
            "45/45 [==============================] - 2s 43ms/step - loss: 0.0910 - accuracy: 0.1607 - val_loss: 0.0883 - val_accuracy: 0.1641\n",
            "Epoch 92/100\n",
            "45/45 [==============================] - 2s 43ms/step - loss: 0.0913 - accuracy: 0.1462 - val_loss: 0.0883 - val_accuracy: 0.1562\n",
            "Epoch 93/100\n",
            "45/45 [==============================] - 2s 44ms/step - loss: 0.0911 - accuracy: 0.1574 - val_loss: 0.0882 - val_accuracy: 0.1641\n",
            "Epoch 94/100\n",
            "45/45 [==============================] - 2s 43ms/step - loss: 0.0905 - accuracy: 0.1674 - val_loss: 0.0882 - val_accuracy: 0.1641\n",
            "Epoch 95/100\n",
            "45/45 [==============================] - 2s 44ms/step - loss: 0.0898 - accuracy: 0.1618 - val_loss: 0.0882 - val_accuracy: 0.1562\n",
            "Epoch 96/100\n",
            "45/45 [==============================] - 2s 45ms/step - loss: 0.0904 - accuracy: 0.1618 - val_loss: 0.0882 - val_accuracy: 0.1562\n",
            "Epoch 97/100\n",
            "45/45 [==============================] - 2s 45ms/step - loss: 0.0902 - accuracy: 0.1629 - val_loss: 0.0882 - val_accuracy: 0.1562\n",
            "Epoch 98/100\n",
            "45/45 [==============================] - 2s 45ms/step - loss: 0.0903 - accuracy: 0.1551 - val_loss: 0.0883 - val_accuracy: 0.1562\n",
            "Epoch 99/100\n",
            "45/45 [==============================] - 2s 45ms/step - loss: 0.0898 - accuracy: 0.1752 - val_loss: 0.0882 - val_accuracy: 0.1562\n",
            "Epoch 100/100\n",
            "45/45 [==============================] - 2s 44ms/step - loss: 0.0899 - accuracy: 0.1808 - val_loss: 0.0882 - val_accuracy: 0.1719\n"
          ]
        }
      ]
    },
    {
      "cell_type": "markdown",
      "metadata": {
        "id": "KnCEsrEKR1XY"
      },
      "source": [
        "# Band_power extract"
      ]
    },
    {
      "cell_type": "code",
      "metadata": {
        "id": "gfJTvFNCNNPT"
      },
      "source": [
        "from scipy import signal\n",
        "from scipy.signal import welch\n",
        "from scipy.integrate import simps\n",
        "from scipy.stats import f_oneway\n",
        "def bandpower(data, sf, band, window_sec=None, relative=False):\n",
        "    band = np.asarray(band)\n",
        "    low, high = band\n",
        "\n",
        "    # Define window length\n",
        "    if window_sec is not None:\n",
        "        nperseg = window_sec * sf\n",
        "    else:\n",
        "        nperseg = (2 / low) * sf\n",
        "\n",
        "    # Compute the modified periodogram (Welch)\n",
        "    freqs, psd = welch(data, sf, nperseg=nperseg)\n",
        "\n",
        "    # Frequency resolution\n",
        "    freq_res = freqs[1] - freqs[0]\n",
        "\n",
        "    # Find closest indices of band in frequency vector\n",
        "    idx_band = np.logical_and(freqs >= low, freqs <= high)\n",
        "\n",
        "    # Integral approximation of the spectrum using Simpson's rule.\n",
        "    bp = simps(psd[idx_band], dx=freq_res)\n",
        "\n",
        "    if relative:\n",
        "        bp /= simps(psd, dx=freq_res)\n",
        "    return bp"
      ],
      "execution_count": null,
      "outputs": []
    },
    {
      "cell_type": "markdown",
      "metadata": {
        "id": "YXW5GjJMUS5P"
      },
      "source": [
        "# New Section"
      ]
    },
    {
      "cell_type": "code",
      "metadata": {
        "id": "LFf-uWANG_qz"
      },
      "source": [
        "def get_band_power(trial, channel, band):\n",
        "  bd = (0,0)\n",
        "\n",
        "  if (band == \"theta\"): # drownsiness, emotional connection, intuition, creativity\n",
        "    bd = (4,8)\n",
        "  elif (band == \"alpha\"): # reflection, relaxation\n",
        "    bd = (8,12)\n",
        "  elif (band == \"beta\"): # concentration, problem solving, memory\n",
        "    bd = (12,30)\n",
        "  elif (band == \"gamma\"): # cognition, perception, learning, multi-tasking\n",
        "    bd = (30,64)\n",
        "  \n",
        "  return bandpower(eeg_data[trial,channel], 128, bd)"
      ],
      "execution_count": null,
      "outputs": []
    },
    {
      "cell_type": "code",
      "metadata": {
        "id": "DBkECuomP_V4"
      },
      "source": [
        "# Transform 1280 x 32 x 8064 => 1280 x 128\n",
        "eeg_band_arr = []\n",
        "for i in range (len(eeg_data)):\n",
        "  for j in range (len(eeg_data[0])):\n",
        "    eeg_band_arr.append(get_band_power(i,j,\"theta\"))\n",
        "    eeg_band_arr.append(get_band_power(i,j,\"alpha\"))\n",
        "    eeg_band_arr.append(get_band_power(i,j,\"beta\"))\n",
        "    eeg_band_arr.append(get_band_power(i,j,\"gamma\"))\n",
        "#eeg_band_arr = np.reshape(eeg_band_arr, (1280, 128))"
      ],
      "execution_count": null,
      "outputs": []
    },
    {
      "cell_type": "code",
      "metadata": {
        "colab": {
          "base_uri": "https://localhost:8080/"
        },
        "id": "sdS_0ZmxQEhv",
        "outputId": "55f5229c-c3ea-49d0-e278-0ec4bb5f8da0"
      },
      "source": [
        "eeg_band_arr = np.reshape(eeg_band_arr, (eeg_data.shape[0],eeg_data.shape[1]*4))\n",
        "eeg_band_arr.shape"
      ],
      "execution_count": null,
      "outputs": [
        {
          "output_type": "execute_result",
          "data": {
            "text/plain": [
              "(1280, 128)"
            ]
          },
          "metadata": {},
          "execution_count": 12
        }
      ]
    },
    {
      "cell_type": "code",
      "metadata": {
        "id": "mHXShiwxUvNF"
      },
      "source": [
        "from sklearn.preprocessing import StandardScaler\n",
        "scaler = StandardScaler()\n",
        "scaler.fit(eeg_band_arr)\n",
        "norm_eeg_band_arr = scaler.transform(eeg_band_arr)"
      ],
      "execution_count": null,
      "outputs": []
    },
    {
      "cell_type": "code",
      "metadata": {
        "id": "Vyjmczc_rYLO"
      },
      "source": [
        "norm_eeg_band_arr1 = np.reshape(norm_eeg_band_arr, (norm_eeg_band_arr.shape[0],1,norm_eeg_band_arr.shape[1]))"
      ],
      "execution_count": null,
      "outputs": []
    },
    {
      "cell_type": "code",
      "metadata": {
        "colab": {
          "base_uri": "https://localhost:8080/"
        },
        "id": "NZNad5H5VESX",
        "outputId": "73cd7052-5a45-4500-a338-8990bd3315f6"
      },
      "source": [
        "targets.shape"
      ],
      "execution_count": null,
      "outputs": [
        {
          "output_type": "execute_result",
          "data": {
            "text/plain": [
              "(1280, 4)"
            ]
          },
          "metadata": {},
          "execution_count": 15
        }
      ]
    },
    {
      "cell_type": "markdown",
      "metadata": {
        "id": "K6lQBgKWNnxT"
      },
      "source": [
        "# Valence"
      ]
    },
    {
      "cell_type": "code",
      "metadata": {
        "colab": {
          "base_uri": "https://localhost:8080/"
        },
        "id": "_JAZ3NgoUvTt",
        "outputId": "2b80278d-4553-45f6-a89f-5f3409791a89"
      },
      "source": [
        "# valence 0-low ,1 high \n",
        "valence = []\n",
        "mean_valence = np.median(targets[:,0])\n",
        "for i in range(targets.shape[0]):\n",
        "  if targets[i,0] < mean_valence :\n",
        "    valence.append(0)\n",
        "  else :\n",
        "    valence.append(1)\n",
        "valence = np.array(valence)\n",
        "valence.shape"
      ],
      "execution_count": null,
      "outputs": [
        {
          "output_type": "execute_result",
          "data": {
            "text/plain": [
              "(1280,)"
            ]
          },
          "metadata": {},
          "execution_count": 97
        }
      ]
    },
    {
      "cell_type": "code",
      "metadata": {
        "colab": {
          "base_uri": "https://localhost:8080/"
        },
        "id": "r2To3J8nkbvN",
        "outputId": "a70cdb95-41d4-45d2-89f1-b62c301401d7"
      },
      "source": [
        "valence = valence.reshape(-1,1)\n",
        "valence.shape"
      ],
      "execution_count": null,
      "outputs": [
        {
          "output_type": "execute_result",
          "data": {
            "text/plain": [
              "(1280, 1)"
            ]
          },
          "metadata": {},
          "execution_count": 98
        }
      ]
    },
    {
      "cell_type": "code",
      "metadata": {
        "colab": {
          "base_uri": "https://localhost:8080/"
        },
        "id": "NE3ACmWuUvWG",
        "outputId": "69993f36-0d07-41b1-de5d-098691ed169e"
      },
      "source": [
        "\"\"\"from tensorflow.keras.utils import to_categorical\n",
        "valence = to_categorical(valence)\n",
        "valence.shape\"\"\""
      ],
      "execution_count": null,
      "outputs": [
        {
          "output_type": "execute_result",
          "data": {
            "application/vnd.google.colaboratory.intrinsic+json": {
              "type": "string"
            },
            "text/plain": [
              "'from tensorflow.keras.utils import to_categorical\\nvalence = to_categorical(valence)\\nvalence.shape'"
            ]
          },
          "metadata": {},
          "execution_count": 99
        }
      ]
    },
    {
      "cell_type": "code",
      "metadata": {
        "id": "V7vLo7jIrUZm"
      },
      "source": [
        "train_size = 0.7\n",
        "val_size = 0.1\n",
        "idx = np.arange(0,features.shape[0],1)\n",
        "np.random.shuffle(idx)\n",
        "ts = int(train_size*features.shape[0]) \n",
        "vs = int(val_size*features.shape[0]) \n",
        "idx_train = idx[0:ts]\n",
        "idx_val = idx[ts:ts+vs]\n",
        "idx_test = idx[ts+vs:]"
      ],
      "execution_count": null,
      "outputs": []
    },
    {
      "cell_type": "code",
      "metadata": {
        "colab": {
          "base_uri": "https://localhost:8080/"
        },
        "id": "pvmbv4brUvYH",
        "outputId": "e68bbb41-9f13-4fb9-f4c6-fd8d1c98d913"
      },
      "source": [
        "x_train = norm_eeg_band_arr1[idx_train]\n",
        "x_val = norm_eeg_band_arr1[idx_val]\n",
        "x_test = norm_eeg_band_arr1[idx_test]\n",
        "\n",
        "y_train = valence[idx_train]\n",
        "y_val = valence[idx_val]\n",
        "y_test = valence[idx_test]\n",
        "print('x_train',x_train.shape)\n",
        "print('x_val',x_val.shape)\n",
        "print('x_test',x_test.shape)\n",
        "\n",
        "\n",
        "print('y_train',y_train.shape)\n",
        "print('y_val',y_val.shape)\n",
        "print('y_test',y_test.shape)"
      ],
      "execution_count": null,
      "outputs": [
        {
          "output_type": "stream",
          "name": "stdout",
          "text": [
            "x_train (896, 1, 128)\n",
            "x_val (128, 1, 128)\n",
            "x_test (256, 1, 128)\n",
            "y_train (896, 1)\n",
            "y_val (128, 1)\n",
            "y_test (256, 1)\n"
          ]
        }
      ]
    },
    {
      "cell_type": "code",
      "metadata": {
        "id": "P-hC93Yki4U8"
      },
      "source": [
        "import torch\n",
        "\n",
        "x_train = (torch.from_numpy(x_train)).double()\n",
        "x_val = (torch.from_numpy(x_val)).double()\n",
        "x_test = (torch.from_numpy(x_test)).double()\n",
        "\n",
        "y_train = (torch.from_numpy(y_train)).double()\n",
        "y_val = (torch.from_numpy(y_val)).double()\n",
        "y_test = (torch.from_numpy(y_test)).double()"
      ],
      "execution_count": null,
      "outputs": []
    },
    {
      "cell_type": "markdown",
      "metadata": {
        "id": "EfpEatz7fhOa"
      },
      "source": [
        "# Valence Cat"
      ]
    },
    {
      "cell_type": "code",
      "metadata": {
        "colab": {
          "base_uri": "https://localhost:8080/"
        },
        "id": "W5YqQ8HJfml3",
        "outputId": "798181d8-92bd-4333-b3f9-cefa6e3fc1b8"
      },
      "source": [
        "from tensorflow.keras.utils import to_categorical\n",
        "valence = to_categorical(targets[:,0])\n",
        "valence.shape"
      ],
      "execution_count": null,
      "outputs": [
        {
          "output_type": "execute_result",
          "data": {
            "text/plain": [
              "(1280, 10)"
            ]
          },
          "metadata": {},
          "execution_count": 5
        }
      ]
    },
    {
      "cell_type": "code",
      "metadata": {
        "id": "qOFz1NJ2fmoI"
      },
      "source": [
        "train_size = 0.7\n",
        "val_size = 0.1\n",
        "idx = np.arange(0,features.shape[0],1)\n",
        "np.random.shuffle(idx)\n",
        "ts = int(train_size*features.shape[0]) \n",
        "vs = int(val_size*features.shape[0]) \n",
        "idx_train = idx[0:ts]\n",
        "idx_val = idx[ts:ts+vs]\n",
        "idx_test = idx[ts+vs:]"
      ],
      "execution_count": null,
      "outputs": []
    },
    {
      "cell_type": "code",
      "metadata": {
        "colab": {
          "base_uri": "https://localhost:8080/"
        },
        "id": "KyVVS4fVfmqR",
        "outputId": "6593f1ef-2c1b-4c5b-a1c6-35add2362af3"
      },
      "source": [
        "x_train = norm_eeg_band_arr1[idx_train]\n",
        "x_val = norm_eeg_band_arr1[idx_val]\n",
        "x_test = norm_eeg_band_arr1[idx_test]\n",
        "\n",
        "y_train = valence[idx_train]\n",
        "y_val = valence[idx_val]\n",
        "y_test = valence[idx_test]\n",
        "print('x_train',x_train.shape)\n",
        "print('x_val',x_val.shape)\n",
        "print('x_test',x_test.shape)\n",
        "\n",
        "\n",
        "print('y_train',y_train.shape)\n",
        "print('y_val',y_val.shape)\n",
        "print('y_test',y_test.shape)"
      ],
      "execution_count": null,
      "outputs": [
        {
          "output_type": "stream",
          "name": "stdout",
          "text": [
            "x_train (896, 1, 128)\n",
            "x_val (128, 1, 128)\n",
            "x_test (256, 1, 128)\n",
            "y_train (896, 10)\n",
            "y_val (128, 10)\n",
            "y_test (256, 10)\n"
          ]
        }
      ]
    },
    {
      "cell_type": "code",
      "metadata": {
        "id": "S4AyHYRSfmsa"
      },
      "source": [
        "import torch\n",
        "\n",
        "x_train = (torch.from_numpy(x_train)).double()\n",
        "x_val = (torch.from_numpy(x_val)).double()\n",
        "x_test = (torch.from_numpy(x_test)).double()\n",
        "\n",
        "y_train = (torch.from_numpy(y_train)).double()\n",
        "y_val = (torch.from_numpy(y_val)).double()\n",
        "y_test = (torch.from_numpy(y_test)).double()"
      ],
      "execution_count": null,
      "outputs": []
    },
    {
      "cell_type": "markdown",
      "metadata": {
        "id": "TVQSeoGbNqmQ"
      },
      "source": [
        "# Arousal"
      ]
    },
    {
      "cell_type": "code",
      "metadata": {
        "colab": {
          "base_uri": "https://localhost:8080/"
        },
        "id": "fsPFv93NNso3",
        "outputId": "e287dc46-1320-4bea-b24a-282dc5687897"
      },
      "source": [
        "# arousal 0-low ,1 high \n",
        "arousal = []\n",
        "mean_arousal = np.median(targets[:,1])\n",
        "for i in range(targets.shape[0]):\n",
        "  if targets[i,0] < mean_arousal :\n",
        "    arousal.append(0)\n",
        "  else :\n",
        "    arousal.append(1)\n",
        "arousal = np.array(arousal)\n",
        "arousal.shape"
      ],
      "execution_count": null,
      "outputs": [
        {
          "data": {
            "text/plain": [
              "(1280,)"
            ]
          },
          "execution_count": 91,
          "metadata": {},
          "output_type": "execute_result"
        }
      ]
    },
    {
      "cell_type": "code",
      "metadata": {
        "colab": {
          "base_uri": "https://localhost:8080/"
        },
        "id": "JbYlwWKDNsvY",
        "outputId": "04b32764-ee7b-45f0-d068-378fb059a624"
      },
      "source": [
        "arousal = arousal.reshape(-1,1)\n",
        "arousal.shape"
      ],
      "execution_count": null,
      "outputs": [
        {
          "data": {
            "text/plain": [
              "(1280, 1)"
            ]
          },
          "execution_count": 92,
          "metadata": {},
          "output_type": "execute_result"
        }
      ]
    },
    {
      "cell_type": "code",
      "metadata": {
        "id": "NvAbhfevNsxm"
      },
      "source": [
        "train_size = 0.7\n",
        "val_size = 0.1\n",
        "idx = np.arange(0,features.shape[0],1)\n",
        "np.random.shuffle(idx)\n",
        "ts = int(train_size*features.shape[0]) \n",
        "vs = int(val_size*features.shape[0]) \n",
        "idx_train = idx[0:ts]\n",
        "idx_val = idx[ts:ts+vs]\n",
        "idx_test = idx[ts+vs:]"
      ],
      "execution_count": null,
      "outputs": []
    },
    {
      "cell_type": "code",
      "metadata": {
        "colab": {
          "base_uri": "https://localhost:8080/"
        },
        "id": "VnG9SUs0Ns1q",
        "outputId": "a497fdca-970a-437d-b55d-8fdc6c170e2a"
      },
      "source": [
        "x_train = norm_eeg_band_arr1[idx_train]\n",
        "x_val = norm_eeg_band_arr1[idx_val]\n",
        "x_test = norm_eeg_band_arr1[idx_test]\n",
        "\n",
        "y_train = arousal[idx_train]\n",
        "y_val = arousal[idx_val]\n",
        "y_test = arousal[idx_test]\n",
        "print('x_train',x_train.shape)\n",
        "print('x_val',x_val.shape)\n",
        "print('x_test',x_test.shape)\n",
        "\n",
        "\n",
        "print('y_train',y_train.shape)\n",
        "print('y_val',y_val.shape)\n",
        "print('y_test',y_test.shape)"
      ],
      "execution_count": null,
      "outputs": [
        {
          "name": "stdout",
          "output_type": "stream",
          "text": [
            "x_train (896, 1, 128)\n",
            "x_val (128, 1, 128)\n",
            "x_test (256, 1, 128)\n",
            "y_train (896, 1)\n",
            "y_val (128, 1)\n",
            "y_test (256, 1)\n"
          ]
        }
      ]
    },
    {
      "cell_type": "code",
      "metadata": {
        "id": "HWivarXpNs4C"
      },
      "source": [
        "import torch\n",
        "\n",
        "x_train = (torch.from_numpy(x_train)).double()\n",
        "x_val = (torch.from_numpy(x_val)).double()\n",
        "x_test = (torch.from_numpy(x_test)).double()\n",
        "\n",
        "y_train = (torch.from_numpy(y_train)).double()\n",
        "y_val = (torch.from_numpy(y_val)).double()\n",
        "y_test = (torch.from_numpy(y_test)).double()"
      ],
      "execution_count": null,
      "outputs": []
    },
    {
      "cell_type": "markdown",
      "metadata": {
        "id": "-Zs0ySwPasY7"
      },
      "source": [
        "# Valence & Arousal\n"
      ]
    },
    {
      "cell_type": "code",
      "metadata": {
        "colab": {
          "base_uri": "https://localhost:8080/"
        },
        "id": "oeTD61ugawzr",
        "outputId": "8a3cc465-c45e-4704-9263-0f23bcf9c76b"
      },
      "source": [
        "# arousal 0-low ,1 high \n",
        "arousal = []\n",
        "mean_arousal = np.median(targets[:,1])\n",
        "for i in range(targets.shape[0]):\n",
        "  if targets[i,0] < mean_arousal :\n",
        "    arousal.append(0)\n",
        "  else :\n",
        "    arousal.append(1)\n",
        "arousal = np.array(arousal)\n",
        "arousal.shape"
      ],
      "execution_count": null,
      "outputs": [
        {
          "data": {
            "text/plain": [
              "(1280,)"
            ]
          },
          "execution_count": 305,
          "metadata": {},
          "output_type": "execute_result"
        }
      ]
    },
    {
      "cell_type": "code",
      "metadata": {
        "colab": {
          "base_uri": "https://localhost:8080/"
        },
        "id": "2aV3T06kaw14",
        "outputId": "675cb46b-824a-4f2a-c90d-f4b71b0ba4cf"
      },
      "source": [
        "# valence 0-low ,1 high \n",
        "valence = []\n",
        "mean_valence = np.median(targets[:,0])\n",
        "for i in range(targets.shape[0]):\n",
        "  if targets[i,0] < mean_valence :\n",
        "    valence.append(0)\n",
        "  else :\n",
        "    valence.append(1)\n",
        "valence = np.array(valence)\n",
        "valence.shape"
      ],
      "execution_count": null,
      "outputs": [
        {
          "data": {
            "text/plain": [
              "(1280,)"
            ]
          },
          "execution_count": 306,
          "metadata": {},
          "output_type": "execute_result"
        }
      ]
    },
    {
      "cell_type": "code",
      "metadata": {
        "colab": {
          "base_uri": "https://localhost:8080/"
        },
        "id": "pti9yK1kaw4F",
        "outputId": "04630d40-6f88-4dff-cd04-03383c6d26d6"
      },
      "source": [
        "arousal_valence = np.concatenate((arousal.reshape(-1,1),valence.reshape(-1,1)),axis=1)\n",
        "arousal_valence.shape"
      ],
      "execution_count": null,
      "outputs": [
        {
          "data": {
            "text/plain": [
              "(1280, 2)"
            ]
          },
          "execution_count": 315,
          "metadata": {},
          "output_type": "execute_result"
        }
      ]
    },
    {
      "cell_type": "code",
      "metadata": {
        "id": "1Vs4XeTWbzmo"
      },
      "source": [
        "train_size = 0.7\n",
        "val_size = 0.1\n",
        "idx = np.arange(0,features.shape[0],1)\n",
        "np.random.shuffle(idx)\n",
        "ts = int(train_size*features.shape[0]) \n",
        "vs = int(val_size*features.shape[0]) \n",
        "idx_train = idx[0:ts]\n",
        "idx_val = idx[ts:ts+vs]\n",
        "idx_test = idx[ts+vs:]"
      ],
      "execution_count": null,
      "outputs": []
    },
    {
      "cell_type": "code",
      "metadata": {
        "colab": {
          "base_uri": "https://localhost:8080/"
        },
        "id": "RPVTUc4vbzv-",
        "outputId": "b765d9e4-d2c8-43a2-d36f-08e0727a944f"
      },
      "source": [
        "x_train = norm_eeg_band_arr1[idx_train]\n",
        "x_val = norm_eeg_band_arr1[idx_val]\n",
        "x_test = norm_eeg_band_arr1[idx_test]\n",
        "\n",
        "y_train = arousal_valence[idx_train]\n",
        "y_val = arousal_valence[idx_val]\n",
        "y_test = arousal_valence[idx_test]\n",
        "print('x_train',x_train.shape)\n",
        "print('x_val',x_val.shape)\n",
        "print('x_test',x_test.shape)\n",
        "\n",
        "\n",
        "print('y_train',y_train.shape)\n",
        "print('y_val',y_val.shape)\n",
        "print('y_test',y_test.shape)"
      ],
      "execution_count": null,
      "outputs": [
        {
          "name": "stdout",
          "output_type": "stream",
          "text": [
            "x_train (896, 1, 128)\n",
            "x_val (128, 1, 128)\n",
            "x_test (256, 1, 128)\n",
            "y_train (896, 2)\n",
            "y_val (128, 2)\n",
            "y_test (256, 2)\n"
          ]
        }
      ]
    },
    {
      "cell_type": "code",
      "metadata": {
        "id": "WlEWMK9gbz2B"
      },
      "source": [
        "import torch\n",
        "\n",
        "x_train = (torch.from_numpy(x_train)).double()\n",
        "x_val = (torch.from_numpy(x_val)).double()\n",
        "x_test = (torch.from_numpy(x_test)).double()\n",
        "\n",
        "y_train = (torch.from_numpy(y_train)).double()\n",
        "y_val = (torch.from_numpy(y_val)).double()\n",
        "y_test = (torch.from_numpy(y_test)).double()"
      ],
      "execution_count": null,
      "outputs": []
    },
    {
      "cell_type": "markdown",
      "metadata": {
        "id": "GoDnE99sR3r-"
      },
      "source": [
        "# Pytorch LSTM1"
      ]
    },
    {
      "cell_type": "code",
      "metadata": {
        "id": "L1xw_K8Dy3VZ"
      },
      "source": [
        "#model hyperparameters\n",
        "hidden_dim = 16\n",
        "#hd2=hidden_dim/2\n",
        "embed_dim = x_train.shape[2]\n",
        "#ed2 = hidden_dim*2\n",
        "output_dim = y_train.shape[1]\n",
        "num_layers = 1\n",
        "bidirectional = True\n",
        "dropout = 0.5\n",
        "\n",
        "#training hyperparameters\n",
        "batch_size = 16\n",
        "num_epochs = 100\n",
        "lr=0.0001"
      ],
      "execution_count": null,
      "outputs": []
    },
    {
      "cell_type": "code",
      "metadata": {
        "id": "1j1hhU0IzD6o"
      },
      "source": [
        "import torch.nn as nn\n",
        "\n",
        "class LSTM(nn.Module):\n",
        "    def __init__(self):\n",
        "        super().__init__()\n",
        "        self.lstm = nn.LSTM(embed_dim, hidden_dim, num_layers=num_layers,\n",
        "                           bidirectional=bidirectional, \n",
        "                           dropout=dropout,\n",
        "                           batch_first=True)\n",
        "        \n",
        "        #self.b_norm = nn.BatchNorm1d(hidden_dim*2).double()\n",
        "        self.layernorm = nn.LayerNorm(hidden_dim*2).double()\n",
        "        self.relu = nn.ELU()\n",
        "        self.fc = nn.Linear(hidden_dim*2, output_dim)\n",
        "        \n",
        "    def forward(self, x):\n",
        "        out,(hn, cn) = self.lstm(x)\n",
        "\n",
        "\n",
        "        hn = torch.cat((hn[-2,:,:], hn[-1,:,:]), dim = 1)\n",
        "        #hn = self.b_norm(hn)\n",
        "        hn = self.layernorm(hn)\n",
        "        return self.fc(self.relu(hn))"
      ],
      "execution_count": null,
      "outputs": []
    },
    {
      "cell_type": "markdown",
      "metadata": {
        "id": "cK3CSsNtPZis"
      },
      "source": [
        "# Try shape"
      ]
    },
    {
      "cell_type": "code",
      "metadata": {
        "colab": {
          "base_uri": "https://localhost:8080/"
        },
        "id": "fHw0miNmFsAp",
        "outputId": "34f1777b-30e6-4484-d54a-aff6ac839d77"
      },
      "source": [
        "m= nn.LSTM(embed_dim,hidden_dim, num_layers=num_layers,bidirectional=bidirectional, \n",
        "                           dropout=dropout,\n",
        "                           batch_first=True).double()"
      ],
      "execution_count": null,
      "outputs": [
        {
          "name": "stderr",
          "output_type": "stream",
          "text": [
            "/usr/local/lib/python3.7/dist-packages/torch/nn/modules/rnn.py:65: UserWarning: dropout option adds dropout after all but last recurrent layer, so non-zero dropout expects num_layers greater than 1, but got dropout=0.5 and num_layers=1\n",
            "  \"num_layers={}\".format(dropout, num_layers))\n"
          ]
        }
      ]
    },
    {
      "cell_type": "code",
      "metadata": {
        "id": "HtbXn4asFzXj"
      },
      "source": [
        "z,(a,b) = m(x_train)"
      ],
      "execution_count": null,
      "outputs": []
    },
    {
      "cell_type": "code",
      "metadata": {
        "colab": {
          "base_uri": "https://localhost:8080/"
        },
        "id": "PIpgww4cYAGp",
        "outputId": "c055c6d4-c3e9-4cb0-c288-95dd46efbc8b"
      },
      "source": [
        "x_train.shape"
      ],
      "execution_count": null,
      "outputs": [
        {
          "data": {
            "text/plain": [
              "torch.Size([896, 1, 128])"
            ]
          },
          "execution_count": 244,
          "metadata": {},
          "output_type": "execute_result"
        }
      ]
    },
    {
      "cell_type": "code",
      "metadata": {
        "colab": {
          "base_uri": "https://localhost:8080/"
        },
        "id": "AOh-dZZvXNuz",
        "outputId": "6a601645-8c2f-4ab0-a328-c6fc6cc7a692"
      },
      "source": [
        "z.size()"
      ],
      "execution_count": null,
      "outputs": [
        {
          "data": {
            "text/plain": [
              "torch.Size([896, 1, 32])"
            ]
          },
          "execution_count": 240,
          "metadata": {},
          "output_type": "execute_result"
        }
      ]
    },
    {
      "cell_type": "code",
      "metadata": {
        "colab": {
          "base_uri": "https://localhost:8080/"
        },
        "id": "rwiuUYvKFzZ2",
        "outputId": "995253d8-8019-42a6-ca99-4d84ecb8ca67"
      },
      "source": [
        "a.size()"
      ],
      "execution_count": null,
      "outputs": [
        {
          "data": {
            "text/plain": [
              "torch.Size([2, 896, 16])"
            ]
          },
          "execution_count": 241,
          "metadata": {},
          "output_type": "execute_result"
        }
      ]
    },
    {
      "cell_type": "code",
      "metadata": {
        "colab": {
          "base_uri": "https://localhost:8080/"
        },
        "id": "ADgVDyRjYLCE",
        "outputId": "d9ba8f9b-5ac4-4bbe-b7d9-cb59f11d6b0e"
      },
      "source": [
        "m2= nn.LSTM(32,5, num_layers=num_layers,bidirectional=bidirectional, \n",
        "                           dropout=dropout,\n",
        "                           batch_first=True).double()"
      ],
      "execution_count": null,
      "outputs": [
        {
          "name": "stderr",
          "output_type": "stream",
          "text": [
            "/usr/local/lib/python3.7/dist-packages/torch/nn/modules/rnn.py:65: UserWarning: dropout option adds dropout after all but last recurrent layer, so non-zero dropout expects num_layers greater than 1, but got dropout=0.5 and num_layers=1\n",
            "  \"num_layers={}\".format(dropout, num_layers))\n"
          ]
        }
      ]
    },
    {
      "cell_type": "code",
      "metadata": {
        "id": "_mcMd2zyYLEU"
      },
      "source": [
        "z2,(a2,b2) = m2(z)"
      ],
      "execution_count": null,
      "outputs": []
    },
    {
      "cell_type": "code",
      "metadata": {
        "colab": {
          "base_uri": "https://localhost:8080/"
        },
        "id": "bZ3z1E-fYekS",
        "outputId": "664a1cec-eb0a-42cb-ea69-49c9c2719e63"
      },
      "source": [
        "z2.size()"
      ],
      "execution_count": null,
      "outputs": [
        {
          "data": {
            "text/plain": [
              "torch.Size([896, 1, 10])"
            ]
          },
          "execution_count": 247,
          "metadata": {},
          "output_type": "execute_result"
        }
      ]
    },
    {
      "cell_type": "code",
      "metadata": {
        "colab": {
          "base_uri": "https://localhost:8080/"
        },
        "id": "lJxvSztFYemS",
        "outputId": "e38e7a03-9ece-4911-a221-935ee7f7456d"
      },
      "source": [
        "a2.size()"
      ],
      "execution_count": null,
      "outputs": [
        {
          "data": {
            "text/plain": [
              "torch.Size([2, 896, 5])"
            ]
          },
          "execution_count": 248,
          "metadata": {},
          "output_type": "execute_result"
        }
      ]
    },
    {
      "cell_type": "code",
      "metadata": {
        "id": "ctOZ6FnrFzcL"
      },
      "source": [
        "an = torch.cat((a[-2,:,:], a[-1,:,:]), dim = 1)"
      ],
      "execution_count": null,
      "outputs": []
    },
    {
      "cell_type": "code",
      "metadata": {
        "colab": {
          "base_uri": "https://localhost:8080/"
        },
        "id": "9OstzLBxNNF4",
        "outputId": "09b74d2f-dc94-45b0-85cd-7ca988673fc1"
      },
      "source": [
        "an.size()"
      ],
      "execution_count": null,
      "outputs": [
        {
          "data": {
            "text/plain": [
              "torch.Size([896, 32])"
            ]
          },
          "execution_count": 243,
          "metadata": {},
          "output_type": "execute_result"
        }
      ]
    },
    {
      "cell_type": "code",
      "metadata": {
        "id": "I4vUzQqsUkPf"
      },
      "source": [
        "bnorm = nn.BatchNorm1d(64).double()"
      ],
      "execution_count": null,
      "outputs": []
    },
    {
      "cell_type": "code",
      "metadata": {
        "colab": {
          "base_uri": "https://localhost:8080/",
          "height": 296
        },
        "id": "qsFzZuvRUk-1",
        "outputId": "9773d992-fb39-4bd4-ae5b-0bc64118a364"
      },
      "source": [
        "qq = bnorm(z)"
      ],
      "execution_count": null,
      "outputs": [
        {
          "ename": "RuntimeError",
          "evalue": "ignored",
          "output_type": "error",
          "traceback": [
            "\u001b[0;31m---------------------------------------------------------------------------\u001b[0m",
            "\u001b[0;31mRuntimeError\u001b[0m                              Traceback (most recent call last)",
            "\u001b[0;32m<ipython-input-236-ca8d6727684d>\u001b[0m in \u001b[0;36m<module>\u001b[0;34m()\u001b[0m\n\u001b[0;32m----> 1\u001b[0;31m \u001b[0mqq\u001b[0m \u001b[0;34m=\u001b[0m \u001b[0mbnorm\u001b[0m\u001b[0;34m(\u001b[0m\u001b[0mz\u001b[0m\u001b[0;34m)\u001b[0m\u001b[0;34m\u001b[0m\u001b[0;34m\u001b[0m\u001b[0m\n\u001b[0m",
            "\u001b[0;32m/usr/local/lib/python3.7/dist-packages/torch/nn/modules/module.py\u001b[0m in \u001b[0;36m_call_impl\u001b[0;34m(self, *input, **kwargs)\u001b[0m\n\u001b[1;32m   1100\u001b[0m         if not (self._backward_hooks or self._forward_hooks or self._forward_pre_hooks or _global_backward_hooks\n\u001b[1;32m   1101\u001b[0m                 or _global_forward_hooks or _global_forward_pre_hooks):\n\u001b[0;32m-> 1102\u001b[0;31m             \u001b[0;32mreturn\u001b[0m \u001b[0mforward_call\u001b[0m\u001b[0;34m(\u001b[0m\u001b[0;34m*\u001b[0m\u001b[0minput\u001b[0m\u001b[0;34m,\u001b[0m \u001b[0;34m**\u001b[0m\u001b[0mkwargs\u001b[0m\u001b[0;34m)\u001b[0m\u001b[0;34m\u001b[0m\u001b[0;34m\u001b[0m\u001b[0m\n\u001b[0m\u001b[1;32m   1103\u001b[0m         \u001b[0;31m# Do not call functions when jit is used\u001b[0m\u001b[0;34m\u001b[0m\u001b[0;34m\u001b[0m\u001b[0;34m\u001b[0m\u001b[0m\n\u001b[1;32m   1104\u001b[0m         \u001b[0mfull_backward_hooks\u001b[0m\u001b[0;34m,\u001b[0m \u001b[0mnon_full_backward_hooks\u001b[0m \u001b[0;34m=\u001b[0m \u001b[0;34m[\u001b[0m\u001b[0;34m]\u001b[0m\u001b[0;34m,\u001b[0m \u001b[0;34m[\u001b[0m\u001b[0;34m]\u001b[0m\u001b[0;34m\u001b[0m\u001b[0;34m\u001b[0m\u001b[0m\n",
            "\u001b[0;32m/usr/local/lib/python3.7/dist-packages/torch/nn/modules/batchnorm.py\u001b[0m in \u001b[0;36mforward\u001b[0;34m(self, input)\u001b[0m\n\u001b[1;32m    177\u001b[0m             \u001b[0mbn_training\u001b[0m\u001b[0;34m,\u001b[0m\u001b[0;34m\u001b[0m\u001b[0;34m\u001b[0m\u001b[0m\n\u001b[1;32m    178\u001b[0m             \u001b[0mexponential_average_factor\u001b[0m\u001b[0;34m,\u001b[0m\u001b[0;34m\u001b[0m\u001b[0;34m\u001b[0m\u001b[0m\n\u001b[0;32m--> 179\u001b[0;31m             \u001b[0mself\u001b[0m\u001b[0;34m.\u001b[0m\u001b[0meps\u001b[0m\u001b[0;34m,\u001b[0m\u001b[0;34m\u001b[0m\u001b[0;34m\u001b[0m\u001b[0m\n\u001b[0m\u001b[1;32m    180\u001b[0m         )\n\u001b[1;32m    181\u001b[0m \u001b[0;34m\u001b[0m\u001b[0m\n",
            "\u001b[0;32m/usr/local/lib/python3.7/dist-packages/torch/nn/functional.py\u001b[0m in \u001b[0;36mbatch_norm\u001b[0;34m(input, running_mean, running_var, weight, bias, training, momentum, eps)\u001b[0m\n\u001b[1;32m   2281\u001b[0m \u001b[0;34m\u001b[0m\u001b[0m\n\u001b[1;32m   2282\u001b[0m     return torch.batch_norm(\n\u001b[0;32m-> 2283\u001b[0;31m         \u001b[0minput\u001b[0m\u001b[0;34m,\u001b[0m \u001b[0mweight\u001b[0m\u001b[0;34m,\u001b[0m \u001b[0mbias\u001b[0m\u001b[0;34m,\u001b[0m \u001b[0mrunning_mean\u001b[0m\u001b[0;34m,\u001b[0m \u001b[0mrunning_var\u001b[0m\u001b[0;34m,\u001b[0m \u001b[0mtraining\u001b[0m\u001b[0;34m,\u001b[0m \u001b[0mmomentum\u001b[0m\u001b[0;34m,\u001b[0m \u001b[0meps\u001b[0m\u001b[0;34m,\u001b[0m \u001b[0mtorch\u001b[0m\u001b[0;34m.\u001b[0m\u001b[0mbackends\u001b[0m\u001b[0;34m.\u001b[0m\u001b[0mcudnn\u001b[0m\u001b[0;34m.\u001b[0m\u001b[0menabled\u001b[0m\u001b[0;34m\u001b[0m\u001b[0;34m\u001b[0m\u001b[0m\n\u001b[0m\u001b[1;32m   2284\u001b[0m     )\n\u001b[1;32m   2285\u001b[0m \u001b[0;34m\u001b[0m\u001b[0m\n",
            "\u001b[0;31mRuntimeError\u001b[0m: running_mean should contain 1 elements not 64"
          ]
        }
      ]
    },
    {
      "cell_type": "code",
      "metadata": {
        "colab": {
          "base_uri": "https://localhost:8080/"
        },
        "id": "npzh1MVVU9d5",
        "outputId": "29ff0edc-ad53-4f4d-810f-99b446a72bf3"
      },
      "source": [
        "qq.size()"
      ],
      "execution_count": null,
      "outputs": [
        {
          "data": {
            "text/plain": [
              "torch.Size([896, 64])"
            ]
          },
          "execution_count": 194,
          "metadata": {},
          "output_type": "execute_result"
        }
      ]
    },
    {
      "cell_type": "code",
      "metadata": {
        "id": "iShiqwj-FzeV"
      },
      "source": [
        "m2 = nn.Linear(hidden_dim * 2, output_dim)"
      ],
      "execution_count": null,
      "outputs": []
    },
    {
      "cell_type": "code",
      "metadata": {
        "id": "FdEvWWS8Ncdj"
      },
      "source": [
        "a2 = m2(an.float())"
      ],
      "execution_count": null,
      "outputs": []
    },
    {
      "cell_type": "code",
      "metadata": {
        "colab": {
          "base_uri": "https://localhost:8080/"
        },
        "id": "26CJ45ZvNcfi",
        "outputId": "eedb222d-a51b-4d4d-e6d0-3522ca924fc6"
      },
      "source": [
        "a2.size()"
      ],
      "execution_count": null,
      "outputs": [
        {
          "data": {
            "text/plain": [
              "torch.Size([1000, 1])"
            ]
          },
          "execution_count": 50,
          "metadata": {},
          "output_type": "execute_result"
        }
      ]
    },
    {
      "cell_type": "code",
      "metadata": {
        "colab": {
          "base_uri": "https://localhost:8080/"
        },
        "id": "72n9wv9qcZTe",
        "outputId": "07542767-b75d-4e64-c6c3-2cce63bc4c9d"
      },
      "source": [
        "a2.squeeze(1).size()"
      ],
      "execution_count": null,
      "outputs": [
        {
          "data": {
            "text/plain": [
              "torch.Size([1000])"
            ]
          },
          "execution_count": 51,
          "metadata": {},
          "output_type": "execute_result"
        }
      ]
    },
    {
      "cell_type": "markdown",
      "metadata": {
        "id": "RlRI2pzXPlYH"
      },
      "source": [
        "# try 2 "
      ]
    },
    {
      "cell_type": "code",
      "metadata": {
        "colab": {
          "base_uri": "https://localhost:8080/"
        },
        "id": "tpX-zrZVPobd",
        "outputId": "a5709099-668f-413e-835f-57671a13f797"
      },
      "source": [
        "model = LSTM().double()"
      ],
      "execution_count": null,
      "outputs": [
        {
          "name": "stderr",
          "output_type": "stream",
          "text": [
            "/usr/local/lib/python3.7/dist-packages/torch/nn/modules/rnn.py:65: UserWarning: dropout option adds dropout after all but last recurrent layer, so non-zero dropout expects num_layers greater than 1, but got dropout=0.5 and num_layers=1\n",
            "  \"num_layers={}\".format(dropout, num_layers))\n"
          ]
        }
      ]
    },
    {
      "cell_type": "code",
      "metadata": {
        "colab": {
          "base_uri": "https://localhost:8080/"
        },
        "id": "cs1wPWRPaFC1",
        "outputId": "a707124f-0bf8-486a-ee03-6e47ae94673b"
      },
      "source": [
        "y_train.shape"
      ],
      "execution_count": null,
      "outputs": [
        {
          "data": {
            "text/plain": [
              "torch.Size([896, 10])"
            ]
          },
          "execution_count": 52,
          "metadata": {},
          "output_type": "execute_result"
        }
      ]
    },
    {
      "cell_type": "code",
      "metadata": {
        "colab": {
          "base_uri": "https://localhost:8080/"
        },
        "id": "yRGlk-ytRGIs",
        "outputId": "f7e074ea-2885-4b2d-e10d-b02a33a857c4"
      },
      "source": [
        "v = model(x_train)\n",
        "predictions.size()"
      ],
      "execution_count": null,
      "outputs": [
        {
          "data": {
            "text/plain": [
              "torch.Size([896, 10])"
            ]
          },
          "execution_count": 53,
          "metadata": {},
          "output_type": "execute_result"
        }
      ]
    },
    {
      "cell_type": "code",
      "metadata": {
        "colab": {
          "base_uri": "https://localhost:8080/"
        },
        "id": "7luqJ4EPBo-H",
        "outputId": "02948d3f-af35-4e6f-e61f-a85a02a84844"
      },
      "source": [
        "pred1 = predictions.max(1).indices\n",
        "print(pred1.size())\n"
      ],
      "execution_count": null,
      "outputs": [
        {
          "name": "stdout",
          "output_type": "stream",
          "text": [
            "torch.Size([896])\n"
          ]
        }
      ]
    },
    {
      "cell_type": "code",
      "metadata": {
        "id": "yRdqOs5WBrN8"
      },
      "source": [
        "  acc = (pred1 == y_train.max(1).indices).sum() / pred1.size(0)"
      ],
      "execution_count": null,
      "outputs": []
    },
    {
      "cell_type": "code",
      "metadata": {
        "id": "lCbgRibIFXs-"
      },
      "source": [
        "abc = (pred1 == y_train.max(1).indices)"
      ],
      "execution_count": null,
      "outputs": []
    },
    {
      "cell_type": "code",
      "metadata": {
        "colab": {
          "base_uri": "https://localhost:8080/"
        },
        "id": "g48x6CkYFmEw",
        "outputId": "ce9e33a4-f368-4255-fc1e-c517d66f9879"
      },
      "source": [
        "abc.sum()"
      ],
      "execution_count": null,
      "outputs": [
        {
          "data": {
            "text/plain": [
              "tensor(133)"
            ]
          },
          "execution_count": 79,
          "metadata": {},
          "output_type": "execute_result"
        }
      ]
    },
    {
      "cell_type": "code",
      "metadata": {
        "id": "Nexf_p4EZxnf"
      },
      "source": [
        "loss = criterion(predictions, y_train.double())\n",
        "acc = binary_accuracy(predictions, y_train)"
      ],
      "execution_count": null,
      "outputs": []
    },
    {
      "cell_type": "code",
      "metadata": {
        "id": "UeTQoDP_fQJ4"
      },
      "source": [
        "optimizer.zero_grad()\n",
        "loss.backward()\n",
        "optimizer.step()"
      ],
      "execution_count": null,
      "outputs": []
    },
    {
      "cell_type": "code",
      "metadata": {
        "colab": {
          "base_uri": "https://localhost:8080/",
          "height": 223
        },
        "id": "yC5FIkq3Pwsa",
        "outputId": "58eb5d50-eb20-4ae6-84d4-19a6f101e8cf"
      },
      "source": [
        "predictions = model(new_f_p13)\n",
        "print(predictions.size())\n",
        "#calculate loss\n",
        "loss = criterion(predictions, l_p13)\n",
        "acc = binary_accuracy(predictions, l_p13)\n",
        "\n",
        "#backprop\n",
        "optimizer.zero_grad()\n",
        "loss.backward()\n",
        "optimizer.step()"
      ],
      "execution_count": null,
      "outputs": [
        {
          "ename": "NameError",
          "evalue": "ignored",
          "output_type": "error",
          "traceback": [
            "\u001b[0;31m---------------------------------------------------------------------------\u001b[0m",
            "\u001b[0;31mNameError\u001b[0m                                 Traceback (most recent call last)",
            "\u001b[0;32m<ipython-input-90-05da0715bb9d>\u001b[0m in \u001b[0;36m<module>\u001b[0;34m()\u001b[0m\n\u001b[0;32m----> 1\u001b[0;31m \u001b[0mpredictions\u001b[0m \u001b[0;34m=\u001b[0m \u001b[0mmodel\u001b[0m\u001b[0;34m(\u001b[0m\u001b[0mnew_f_p13\u001b[0m\u001b[0;34m)\u001b[0m\u001b[0;34m\u001b[0m\u001b[0;34m\u001b[0m\u001b[0m\n\u001b[0m\u001b[1;32m      2\u001b[0m \u001b[0mprint\u001b[0m\u001b[0;34m(\u001b[0m\u001b[0mpredictions\u001b[0m\u001b[0;34m.\u001b[0m\u001b[0msize\u001b[0m\u001b[0;34m(\u001b[0m\u001b[0;34m)\u001b[0m\u001b[0;34m)\u001b[0m\u001b[0;34m\u001b[0m\u001b[0;34m\u001b[0m\u001b[0m\n\u001b[1;32m      3\u001b[0m \u001b[0;31m#calculate loss\u001b[0m\u001b[0;34m\u001b[0m\u001b[0;34m\u001b[0m\u001b[0;34m\u001b[0m\u001b[0m\n\u001b[1;32m      4\u001b[0m \u001b[0mloss\u001b[0m \u001b[0;34m=\u001b[0m \u001b[0mcriterion\u001b[0m\u001b[0;34m(\u001b[0m\u001b[0mpredictions\u001b[0m\u001b[0;34m,\u001b[0m \u001b[0ml_p13\u001b[0m\u001b[0;34m)\u001b[0m\u001b[0;34m\u001b[0m\u001b[0;34m\u001b[0m\u001b[0m\n\u001b[1;32m      5\u001b[0m \u001b[0macc\u001b[0m \u001b[0;34m=\u001b[0m \u001b[0mbinary_accuracy\u001b[0m\u001b[0;34m(\u001b[0m\u001b[0mpredictions\u001b[0m\u001b[0;34m,\u001b[0m \u001b[0ml_p13\u001b[0m\u001b[0;34m)\u001b[0m\u001b[0;34m\u001b[0m\u001b[0;34m\u001b[0m\u001b[0m\n",
            "\u001b[0;31mNameError\u001b[0m: name 'new_f_p13' is not defined"
          ]
        }
      ]
    },
    {
      "cell_type": "markdown",
      "metadata": {
        "id": "vP-wIm2lPchy"
      },
      "source": [
        "# Predict\n"
      ]
    },
    {
      "cell_type": "code",
      "metadata": {
        "id": "1b1tgtsRzHB5"
      },
      "source": [
        "#explicitly initialize weights for better learning\n",
        "def initialize_weights(m):\n",
        "    if isinstance(m, nn.Linear):\n",
        "        nn.init.xavier_normal_(m.weight)\n",
        "        nn.init.zeros_(m.bias)\n",
        "    elif isinstance(m, nn.RNN):\n",
        "        for name, param in m.named_parameters():\n",
        "            if 'bias' in name:\n",
        "                nn.init.zeros_(param)\n",
        "            elif 'weight' in name:\n",
        "                nn.init.orthogonal_(param) #<---here"
      ],
      "execution_count": null,
      "outputs": []
    },
    {
      "cell_type": "code",
      "metadata": {
        "colab": {
          "base_uri": "https://localhost:8080/"
        },
        "id": "S8IlDppZ51Ey",
        "outputId": "0ca78f43-5647-4f27-a0bd-8907bd845aad"
      },
      "source": [
        "model = LSTM()\n",
        "model.apply(initialize_weights)"
      ],
      "execution_count": null,
      "outputs": [
        {
          "output_type": "stream",
          "name": "stderr",
          "text": [
            "/usr/local/lib/python3.7/dist-packages/torch/nn/modules/rnn.py:65: UserWarning: dropout option adds dropout after all but last recurrent layer, so non-zero dropout expects num_layers greater than 1, but got dropout=0.5 and num_layers=1\n",
            "  \"num_layers={}\".format(dropout, num_layers))\n"
          ]
        },
        {
          "output_type": "execute_result",
          "data": {
            "text/plain": [
              "LSTM(\n",
              "  (lstm): LSTM(128, 16, batch_first=True, dropout=0.5, bidirectional=True)\n",
              "  (layernorm): LayerNorm((32,), eps=1e-05, elementwise_affine=True)\n",
              "  (relu): ELU(alpha=1.0)\n",
              "  (fc): Linear(in_features=32, out_features=1, bias=True)\n",
              ")"
            ]
          },
          "metadata": {},
          "execution_count": 115
        }
      ]
    },
    {
      "cell_type": "code",
      "metadata": {
        "id": "9xfJsyTGzQNV"
      },
      "source": [
        "import torch.optim as optim\n",
        "\n",
        "optimizer = optim.Adam(model.parameters(), lr=lr) #<----changed to Adam\n",
        "#optimizer = optim.RMSprop(model.parameters(), lr=lr)\n",
        "\n",
        "criterion = nn.BCEWithLogitsLoss() #combine sigmoid with binary cross entropy\n",
        "#criterion = nn.CrossEntropyLoss()\n",
        "#criterion = nn.MSELoss()"
      ],
      "execution_count": null,
      "outputs": []
    },
    {
      "cell_type": "code",
      "metadata": {
        "id": "5Okfv7LtfMsK"
      },
      "source": [
        "def binary_accuracy(preds, y):\n",
        "    \"\"\"\n",
        "    Returns accuracy per batch, i.e. if you get 8/10 right, this returns 0.8, NOT 8\n",
        "    \"\"\"\n",
        "    #round predictions to the closest integer\n",
        "    rounded_preds = torch.round(torch.sigmoid(preds))\n",
        "    correct = (rounded_preds == y).float() #convert into float for division \n",
        "    acc = correct.sum() / len(correct)\n",
        "    return acc"
      ],
      "execution_count": null,
      "outputs": []
    },
    {
      "cell_type": "code",
      "metadata": {
        "id": "nxQAYmfF-Ob3"
      },
      "source": [
        "def multi_accuracy(pred,y):\n",
        "  pred1 = pred.max(1).indices\n",
        "  #print(pred1)\n",
        "  acc = (pred1 == y.max(1).indices).sum() / pred1.size(0)\n",
        "  #print(acc)\n",
        "  return acc"
      ],
      "execution_count": null,
      "outputs": []
    },
    {
      "cell_type": "code",
      "metadata": {
        "id": "p3B2D8FUzVUu"
      },
      "source": [
        "def train(model, x,y, optimizer, criterion):\n",
        "    epoch_loss = 0\n",
        "    epoch_acc = 0\n",
        "    model.train() #useful for batchnorm and dropout\n",
        "    for i in range(1,num_epochs+1): \n",
        "\n",
        "        #predict\n",
        "        predictions = model(x)\n",
        "        #calculate loss\n",
        "        loss = criterion(predictions, y)\n",
        "        acc = binary_accuracy(predictions, y)\n",
        "        \n",
        "        #backprop\n",
        "        optimizer.zero_grad()\n",
        "        loss.backward()\n",
        "        optimizer.step()\n",
        "        \n",
        "        epoch_loss += loss.item()\n",
        "        epoch_acc += acc.item()\n",
        "                \n",
        "    return epoch_loss / num_epochs, epoch_acc / num_epochs"
      ],
      "execution_count": null,
      "outputs": []
    },
    {
      "cell_type": "code",
      "metadata": {
        "id": "ROBzRszK3Jyr"
      },
      "source": [
        "def evaluate(model, x,y, criterion):\n",
        "    epoch_loss = 0\n",
        "    epoch_acc = 0\n",
        "    model.eval()\n",
        "    \n",
        "    with torch.no_grad():\n",
        "        for i in range(1,num_epochs+1): \n",
        "            #label = label.to(device) #(batch_size, )\n",
        "            #text = text.to(device) #(batch_size, seq len)\n",
        "\n",
        "            predictions = model(x)\n",
        "            \n",
        "            loss = criterion(predictions, y)\n",
        "            acc = binary_accuracy(predictions, y)\n",
        "\n",
        "            epoch_loss += loss.item()\n",
        "            epoch_acc += acc.item()\n",
        "        \n",
        "    return epoch_loss / num_epochs, epoch_acc / num_epochs"
      ],
      "execution_count": null,
      "outputs": []
    },
    {
      "cell_type": "code",
      "metadata": {
        "colab": {
          "base_uri": "https://localhost:8080/"
        },
        "id": "-EZEVbdc3MeI",
        "outputId": "537b4704-aef8-45ad-e778-fb13a90f2dd8"
      },
      "source": [
        "best_valid_loss = float('inf')\n",
        "\n",
        "train_losses = []\n",
        "train_accs = []\n",
        "valid_losses = []\n",
        "valid_accs = []\n",
        "\n",
        "for epoch in range(num_epochs):\n",
        "\n",
        "    train_loss, train_acc = train(model.double(), x_train,y_train, optimizer, criterion)\n",
        "    valid_loss, valid_acc = evaluate(model.double(), x_val,y_val, criterion)\n",
        "    \n",
        "    #for plotting\n",
        "    train_losses.append(train_loss)\n",
        "    train_accs.append(train_acc)\n",
        "    valid_losses.append(valid_loss)\n",
        "    valid_accs.append(valid_acc)\n",
        "    \n",
        "    if valid_loss < best_valid_loss:\n",
        "        best_valid_loss = valid_loss\n",
        "        #torch.save(model.state_dict(), 'models/fasttext_BiLSTM.pt')\n",
        "    \n",
        "    print(f'Epoch: {epoch+1:02} | Train Loss: {train_loss:.3f} | Train Acc: {train_acc*100:.2f}%')\n",
        "    print(f'\\t Val. Loss: {valid_loss:.3f} |  Val. Acc: {valid_acc*100:.2f}%')"
      ],
      "execution_count": null,
      "outputs": [
        {
          "output_type": "stream",
          "name": "stdout",
          "text": [
            "Epoch: 01 | Train Loss: 0.741 | Train Acc: 53.64%\n",
            "\t Val. Loss: 0.706 |  Val. Acc: 54.69%\n",
            "Epoch: 02 | Train Loss: 0.673 | Train Acc: 57.33%\n",
            "\t Val. Loss: 0.676 |  Val. Acc: 58.59%\n",
            "Epoch: 03 | Train Loss: 0.649 | Train Acc: 60.91%\n",
            "\t Val. Loss: 0.660 |  Val. Acc: 60.16%\n",
            "Epoch: 04 | Train Loss: 0.634 | Train Acc: 62.53%\n",
            "\t Val. Loss: 0.647 |  Val. Acc: 60.94%\n",
            "Epoch: 05 | Train Loss: 0.622 | Train Acc: 63.48%\n",
            "\t Val. Loss: 0.636 |  Val. Acc: 63.28%\n",
            "Epoch: 06 | Train Loss: 0.611 | Train Acc: 64.76%\n",
            "\t Val. Loss: 0.626 |  Val. Acc: 65.62%\n",
            "Epoch: 07 | Train Loss: 0.600 | Train Acc: 66.40%\n",
            "\t Val. Loss: 0.616 |  Val. Acc: 64.06%\n",
            "Epoch: 08 | Train Loss: 0.589 | Train Acc: 68.17%\n",
            "\t Val. Loss: 0.608 |  Val. Acc: 66.41%\n",
            "Epoch: 09 | Train Loss: 0.578 | Train Acc: 69.28%\n",
            "\t Val. Loss: 0.602 |  Val. Acc: 67.97%\n",
            "Epoch: 10 | Train Loss: 0.567 | Train Acc: 70.66%\n",
            "\t Val. Loss: 0.601 |  Val. Acc: 67.97%\n",
            "Epoch: 11 | Train Loss: 0.556 | Train Acc: 71.07%\n",
            "\t Val. Loss: 0.601 |  Val. Acc: 64.84%\n",
            "Epoch: 12 | Train Loss: 0.545 | Train Acc: 71.12%\n",
            "\t Val. Loss: 0.601 |  Val. Acc: 67.97%\n",
            "Epoch: 13 | Train Loss: 0.535 | Train Acc: 72.19%\n",
            "\t Val. Loss: 0.601 |  Val. Acc: 67.97%\n",
            "Epoch: 14 | Train Loss: 0.524 | Train Acc: 72.86%\n",
            "\t Val. Loss: 0.601 |  Val. Acc: 67.97%\n",
            "Epoch: 15 | Train Loss: 0.512 | Train Acc: 73.48%\n",
            "\t Val. Loss: 0.602 |  Val. Acc: 66.41%\n",
            "Epoch: 16 | Train Loss: 0.499 | Train Acc: 74.38%\n",
            "\t Val. Loss: 0.604 |  Val. Acc: 67.19%\n",
            "Epoch: 17 | Train Loss: 0.485 | Train Acc: 75.49%\n",
            "\t Val. Loss: 0.609 |  Val. Acc: 66.41%\n",
            "Epoch: 18 | Train Loss: 0.471 | Train Acc: 76.76%\n",
            "\t Val. Loss: 0.617 |  Val. Acc: 66.41%\n",
            "Epoch: 19 | Train Loss: 0.456 | Train Acc: 78.22%\n",
            "\t Val. Loss: 0.626 |  Val. Acc: 64.84%\n",
            "Epoch: 20 | Train Loss: 0.441 | Train Acc: 79.43%\n",
            "\t Val. Loss: 0.637 |  Val. Acc: 67.97%\n",
            "Epoch: 21 | Train Loss: 0.427 | Train Acc: 79.97%\n",
            "\t Val. Loss: 0.649 |  Val. Acc: 67.97%\n",
            "Epoch: 22 | Train Loss: 0.413 | Train Acc: 80.16%\n",
            "\t Val. Loss: 0.662 |  Val. Acc: 67.97%\n",
            "Epoch: 23 | Train Loss: 0.400 | Train Acc: 80.63%\n",
            "\t Val. Loss: 0.677 |  Val. Acc: 67.19%\n",
            "Epoch: 24 | Train Loss: 0.387 | Train Acc: 81.40%\n",
            "\t Val. Loss: 0.689 |  Val. Acc: 67.19%\n",
            "Epoch: 25 | Train Loss: 0.375 | Train Acc: 81.91%\n",
            "\t Val. Loss: 0.702 |  Val. Acc: 68.75%\n",
            "Epoch: 26 | Train Loss: 0.363 | Train Acc: 82.40%\n",
            "\t Val. Loss: 0.711 |  Val. Acc: 68.75%\n",
            "Epoch: 27 | Train Loss: 0.350 | Train Acc: 83.11%\n",
            "\t Val. Loss: 0.721 |  Val. Acc: 68.75%\n",
            "Epoch: 28 | Train Loss: 0.338 | Train Acc: 84.02%\n",
            "\t Val. Loss: 0.735 |  Val. Acc: 69.53%\n",
            "Epoch: 29 | Train Loss: 0.326 | Train Acc: 85.19%\n",
            "\t Val. Loss: 0.749 |  Val. Acc: 69.53%\n",
            "Epoch: 30 | Train Loss: 0.315 | Train Acc: 86.02%\n",
            "\t Val. Loss: 0.766 |  Val. Acc: 67.19%\n",
            "Epoch: 31 | Train Loss: 0.303 | Train Acc: 86.91%\n",
            "\t Val. Loss: 0.783 |  Val. Acc: 67.19%\n",
            "Epoch: 32 | Train Loss: 0.292 | Train Acc: 87.76%\n",
            "\t Val. Loss: 0.796 |  Val. Acc: 67.19%\n",
            "Epoch: 33 | Train Loss: 0.281 | Train Acc: 88.33%\n",
            "\t Val. Loss: 0.814 |  Val. Acc: 64.84%\n",
            "Epoch: 34 | Train Loss: 0.271 | Train Acc: 88.38%\n",
            "\t Val. Loss: 0.827 |  Val. Acc: 65.62%\n",
            "Epoch: 35 | Train Loss: 0.262 | Train Acc: 89.00%\n",
            "\t Val. Loss: 0.842 |  Val. Acc: 64.84%\n",
            "Epoch: 36 | Train Loss: 0.253 | Train Acc: 89.63%\n",
            "\t Val. Loss: 0.856 |  Val. Acc: 67.19%\n",
            "Epoch: 37 | Train Loss: 0.245 | Train Acc: 89.88%\n",
            "\t Val. Loss: 0.872 |  Val. Acc: 67.19%\n",
            "Epoch: 38 | Train Loss: 0.237 | Train Acc: 90.32%\n",
            "\t Val. Loss: 0.888 |  Val. Acc: 67.19%\n",
            "Epoch: 39 | Train Loss: 0.230 | Train Acc: 90.75%\n",
            "\t Val. Loss: 0.904 |  Val. Acc: 67.19%\n",
            "Epoch: 40 | Train Loss: 0.223 | Train Acc: 91.21%\n",
            "\t Val. Loss: 0.919 |  Val. Acc: 66.41%\n",
            "Epoch: 41 | Train Loss: 0.216 | Train Acc: 91.44%\n",
            "\t Val. Loss: 0.938 |  Val. Acc: 65.62%\n",
            "Epoch: 42 | Train Loss: 0.210 | Train Acc: 91.76%\n",
            "\t Val. Loss: 0.954 |  Val. Acc: 64.84%\n",
            "Epoch: 43 | Train Loss: 0.205 | Train Acc: 92.07%\n",
            "\t Val. Loss: 0.971 |  Val. Acc: 64.84%\n",
            "Epoch: 44 | Train Loss: 0.200 | Train Acc: 92.47%\n",
            "\t Val. Loss: 0.988 |  Val. Acc: 64.84%\n",
            "Epoch: 45 | Train Loss: 0.195 | Train Acc: 92.71%\n",
            "\t Val. Loss: 1.005 |  Val. Acc: 64.84%\n",
            "Epoch: 46 | Train Loss: 0.190 | Train Acc: 93.01%\n",
            "\t Val. Loss: 1.020 |  Val. Acc: 64.84%\n",
            "Epoch: 47 | Train Loss: 0.185 | Train Acc: 93.19%\n",
            "\t Val. Loss: 1.034 |  Val. Acc: 64.84%\n",
            "Epoch: 48 | Train Loss: 0.181 | Train Acc: 93.36%\n",
            "\t Val. Loss: 1.048 |  Val. Acc: 64.84%\n",
            "Epoch: 49 | Train Loss: 0.177 | Train Acc: 93.66%\n",
            "\t Val. Loss: 1.060 |  Val. Acc: 64.06%\n",
            "Epoch: 50 | Train Loss: 0.173 | Train Acc: 93.90%\n",
            "\t Val. Loss: 1.075 |  Val. Acc: 64.84%\n",
            "Epoch: 51 | Train Loss: 0.169 | Train Acc: 94.07%\n",
            "\t Val. Loss: 1.089 |  Val. Acc: 64.84%\n",
            "Epoch: 52 | Train Loss: 0.166 | Train Acc: 94.45%\n",
            "\t Val. Loss: 1.102 |  Val. Acc: 64.06%\n",
            "Epoch: 53 | Train Loss: 0.162 | Train Acc: 94.53%\n",
            "\t Val. Loss: 1.115 |  Val. Acc: 64.84%\n",
            "Epoch: 54 | Train Loss: 0.158 | Train Acc: 94.79%\n",
            "\t Val. Loss: 1.129 |  Val. Acc: 64.84%\n",
            "Epoch: 55 | Train Loss: 0.155 | Train Acc: 94.78%\n",
            "\t Val. Loss: 1.142 |  Val. Acc: 64.84%\n",
            "Epoch: 56 | Train Loss: 0.152 | Train Acc: 94.87%\n",
            "\t Val. Loss: 1.155 |  Val. Acc: 64.84%\n",
            "Epoch: 57 | Train Loss: 0.149 | Train Acc: 94.93%\n",
            "\t Val. Loss: 1.168 |  Val. Acc: 64.06%\n",
            "Epoch: 58 | Train Loss: 0.146 | Train Acc: 94.99%\n",
            "\t Val. Loss: 1.181 |  Val. Acc: 63.28%\n",
            "Epoch: 59 | Train Loss: 0.143 | Train Acc: 95.03%\n",
            "\t Val. Loss: 1.194 |  Val. Acc: 64.06%\n",
            "Epoch: 60 | Train Loss: 0.140 | Train Acc: 95.09%\n",
            "\t Val. Loss: 1.206 |  Val. Acc: 63.28%\n",
            "Epoch: 61 | Train Loss: 0.138 | Train Acc: 95.06%\n",
            "\t Val. Loss: 1.219 |  Val. Acc: 63.28%\n",
            "Epoch: 62 | Train Loss: 0.135 | Train Acc: 94.99%\n",
            "\t Val. Loss: 1.231 |  Val. Acc: 64.06%\n",
            "Epoch: 63 | Train Loss: 0.132 | Train Acc: 94.98%\n",
            "\t Val. Loss: 1.244 |  Val. Acc: 64.06%\n",
            "Epoch: 64 | Train Loss: 0.130 | Train Acc: 95.13%\n",
            "\t Val. Loss: 1.256 |  Val. Acc: 63.28%\n",
            "Epoch: 65 | Train Loss: 0.128 | Train Acc: 95.15%\n",
            "\t Val. Loss: 1.269 |  Val. Acc: 64.06%\n",
            "Epoch: 66 | Train Loss: 0.125 | Train Acc: 95.26%\n",
            "\t Val. Loss: 1.282 |  Val. Acc: 64.06%\n",
            "Epoch: 67 | Train Loss: 0.123 | Train Acc: 95.20%\n",
            "\t Val. Loss: 1.294 |  Val. Acc: 64.06%\n",
            "Epoch: 68 | Train Loss: 0.121 | Train Acc: 95.32%\n",
            "\t Val. Loss: 1.304 |  Val. Acc: 64.06%\n",
            "Epoch: 69 | Train Loss: 0.119 | Train Acc: 95.47%\n",
            "\t Val. Loss: 1.321 |  Val. Acc: 63.28%\n",
            "Epoch: 70 | Train Loss: 0.116 | Train Acc: 95.35%\n",
            "\t Val. Loss: 1.335 |  Val. Acc: 63.28%\n",
            "Epoch: 71 | Train Loss: 0.114 | Train Acc: 95.47%\n",
            "\t Val. Loss: 1.348 |  Val. Acc: 64.84%\n",
            "Epoch: 72 | Train Loss: 0.112 | Train Acc: 95.50%\n",
            "\t Val. Loss: 1.362 |  Val. Acc: 64.84%\n",
            "Epoch: 73 | Train Loss: 0.110 | Train Acc: 95.58%\n",
            "\t Val. Loss: 1.373 |  Val. Acc: 64.84%\n",
            "Epoch: 74 | Train Loss: 0.108 | Train Acc: 95.63%\n",
            "\t Val. Loss: 1.387 |  Val. Acc: 64.84%\n",
            "Epoch: 75 | Train Loss: 0.106 | Train Acc: 95.65%\n",
            "\t Val. Loss: 1.400 |  Val. Acc: 64.84%\n",
            "Epoch: 76 | Train Loss: 0.105 | Train Acc: 95.74%\n",
            "\t Val. Loss: 1.414 |  Val. Acc: 64.84%\n",
            "Epoch: 77 | Train Loss: 0.103 | Train Acc: 95.74%\n",
            "\t Val. Loss: 1.426 |  Val. Acc: 65.62%\n",
            "Epoch: 78 | Train Loss: 0.101 | Train Acc: 95.82%\n",
            "\t Val. Loss: 1.439 |  Val. Acc: 65.62%\n",
            "Epoch: 79 | Train Loss: 0.100 | Train Acc: 96.07%\n",
            "\t Val. Loss: 1.451 |  Val. Acc: 64.84%\n",
            "Epoch: 80 | Train Loss: 0.098 | Train Acc: 96.11%\n",
            "\t Val. Loss: 1.465 |  Val. Acc: 64.84%\n",
            "Epoch: 81 | Train Loss: 0.096 | Train Acc: 96.23%\n",
            "\t Val. Loss: 1.478 |  Val. Acc: 64.84%\n",
            "Epoch: 82 | Train Loss: 0.095 | Train Acc: 96.46%\n",
            "\t Val. Loss: 1.492 |  Val. Acc: 65.62%\n",
            "Epoch: 83 | Train Loss: 0.093 | Train Acc: 96.53%\n",
            "\t Val. Loss: 1.507 |  Val. Acc: 65.62%\n",
            "Epoch: 84 | Train Loss: 0.092 | Train Acc: 96.60%\n",
            "\t Val. Loss: 1.522 |  Val. Acc: 65.62%\n",
            "Epoch: 85 | Train Loss: 0.090 | Train Acc: 96.76%\n",
            "\t Val. Loss: 1.536 |  Val. Acc: 65.62%\n",
            "Epoch: 86 | Train Loss: 0.089 | Train Acc: 96.76%\n",
            "\t Val. Loss: 1.553 |  Val. Acc: 65.62%\n",
            "Epoch: 87 | Train Loss: 0.087 | Train Acc: 96.98%\n",
            "\t Val. Loss: 1.568 |  Val. Acc: 65.62%\n",
            "Epoch: 88 | Train Loss: 0.086 | Train Acc: 97.00%\n",
            "\t Val. Loss: 1.584 |  Val. Acc: 65.62%\n",
            "Epoch: 89 | Train Loss: 0.085 | Train Acc: 96.90%\n",
            "\t Val. Loss: 1.602 |  Val. Acc: 64.84%\n",
            "Epoch: 90 | Train Loss: 0.083 | Train Acc: 96.89%\n",
            "\t Val. Loss: 1.616 |  Val. Acc: 65.62%\n",
            "Epoch: 91 | Train Loss: 0.082 | Train Acc: 96.90%\n",
            "\t Val. Loss: 1.633 |  Val. Acc: 65.62%\n",
            "Epoch: 92 | Train Loss: 0.081 | Train Acc: 96.99%\n",
            "\t Val. Loss: 1.649 |  Val. Acc: 65.62%\n",
            "Epoch: 93 | Train Loss: 0.080 | Train Acc: 96.93%\n",
            "\t Val. Loss: 1.666 |  Val. Acc: 65.62%\n",
            "Epoch: 94 | Train Loss: 0.079 | Train Acc: 96.99%\n",
            "\t Val. Loss: 1.682 |  Val. Acc: 65.62%\n",
            "Epoch: 95 | Train Loss: 0.078 | Train Acc: 96.99%\n",
            "\t Val. Loss: 1.698 |  Val. Acc: 65.62%\n",
            "Epoch: 96 | Train Loss: 0.076 | Train Acc: 96.99%\n",
            "\t Val. Loss: 1.715 |  Val. Acc: 65.62%\n",
            "Epoch: 97 | Train Loss: 0.076 | Train Acc: 96.98%\n",
            "\t Val. Loss: 1.731 |  Val. Acc: 65.62%\n",
            "Epoch: 98 | Train Loss: 0.074 | Train Acc: 96.99%\n",
            "\t Val. Loss: 1.747 |  Val. Acc: 65.62%\n",
            "Epoch: 99 | Train Loss: 0.073 | Train Acc: 97.10%\n",
            "\t Val. Loss: 1.763 |  Val. Acc: 64.84%\n",
            "Epoch: 100 | Train Loss: 0.072 | Train Acc: 97.10%\n",
            "\t Val. Loss: 1.776 |  Val. Acc: 65.62%\n"
          ]
        }
      ]
    },
    {
      "cell_type": "code",
      "metadata": {
        "colab": {
          "base_uri": "https://localhost:8080/"
        },
        "id": "TnIc5exqX6aX",
        "outputId": "faaaa8f1-5818-4856-e20f-bb7d4cd37a91"
      },
      "source": [
        "import matplotlib.pyplot as plt\n",
        "fig = plt.figure(figsize=(10, 6))\n",
        "ax = fig.add_subplot(1, 1, 1)\n",
        "ax.plot(train_losses, label = 'train loss')\n",
        "ax.plot(valid_losses, label = 'valid loss')\n",
        "plt.legend()\n",
        "ax.set_xlabel('updates')\n",
        "ax.set_ylabel('loss')\n"
      ],
      "execution_count": null,
      "outputs": [
        {
          "output_type": "execute_result",
          "data": {
            "text/plain": [
              "Text(0, 0.5, 'loss')"
            ]
          },
          "metadata": {},
          "execution_count": 122
        },
        {
          "output_type": "display_data",
          "data": {
            "image/png": "[encoded data removed]",
            "text/plain": [
              "<Figure size 720x432 with 1 Axes>"
            ]
          },
          "metadata": {
            "needs_background": "light"
          }
        }
      ]
    },
    {
      "cell_type": "code",
      "metadata": {
        "colab": {
          "base_uri": "https://localhost:8080/"
        },
        "id": "_2yIIfsnf5B0",
        "outputId": "5491283a-14ec-45c5-8b4d-1b81256f443d"
      },
      "source": [
        "fig = plt.figure(figsize=(10, 6))\n",
        "ax = fig.add_subplot(1, 1, 1)\n",
        "ax.plot(train_accs, label = 'train acc')\n",
        "ax.plot(valid_accs, label = 'valid acc')\n",
        "plt.legend()\n",
        "ax.set_xlabel('updates')\n",
        "ax.set_ylabel('acc')"
      ],
      "execution_count": null,
      "outputs": [
        {
          "output_type": "execute_result",
          "data": {
            "text/plain": [
              "Text(0, 0.5, 'acc')"
            ]
          },
          "metadata": {},
          "execution_count": 123
        },
        {
          "output_type": "display_data",
          "data": {
            "image/png": "[encoded data removed]",
            "text/plain": [
              "<Figure size 720x432 with 1 Axes>"
            ]
          },
          "metadata": {
            "needs_background": "light"
          }
        }
      ]
    },
    {
      "cell_type": "code",
      "metadata": {
        "colab": {
          "base_uri": "https://localhost:8080/"
        },
        "id": "xobnyOQfvPCn",
        "outputId": "52b4c2fa-4d86-4cd3-835f-949d7d166399"
      },
      "source": [
        "test_loss, test_acc = evaluate(model.double(),  x_test,y_test, criterion)\n",
        "print(f'Test Loss: {test_loss:.3f} | Test Acc: {test_acc*100:.2f}%')"
      ],
      "execution_count": null,
      "outputs": [
        {
          "output_type": "stream",
          "name": "stdout",
          "text": [
            "Test Loss: 2.042 | Test Acc: 59.38%\n"
          ]
        }
      ]
    },
    {
      "cell_type": "markdown",
      "metadata": {
        "id": "ayE3LoQxMHTR"
      },
      "source": [
        "*italicized text*# New Section"
      ]
    },
    {
      "cell_type": "markdown",
      "metadata": {
        "id": "t5GuPz0Uz5Cd"
      },
      "source": [
        "# stft"
      ]
    },
    {
      "cell_type": "code",
      "metadata": {
        "colab": {
          "base_uri": "https://localhost:8080/"
        },
        "id": "4LkJIAmg1TD0",
        "outputId": "56823283-92ec-4eed-a8fc-fe1a47c7e3f7"
      },
      "source": [
        " \n",
        "import mne\n",
        "from mne.preprocessing import (ICA, create_eog_epochs, create_ecg_epochs, corrmap)\n",
        "from mne.time_frequency import psd_welch\n",
        "from mne.decoding import cross_val_multiscore"
      ],
      "execution_count": null,
      "outputs": [
        {
          "output_type": "stream",
          "name": "stdout",
          "text": [
            "Collecting mne\n",
            "  Downloading mne-0.24.0-py3-none-any.whl (7.4 MB)\n",
            "\u001b[K     |████████████████████████████████| 7.4 MB 15.5 MB/s \n",
            "\u001b[?25hRequirement already satisfied: scipy>=1.1.0 in /usr/local/lib/python3.7/dist-packages (from mne) (1.4.1)\n",
            "Requirement already satisfied: numpy>=1.15.4 in /usr/local/lib/python3.7/dist-packages (from mne) (1.19.5)\n",
            "Installing collected packages: mne\n",
            "Successfully installed mne-0.24.0\n"
          ]
        }
      ]
    },
    {
      "cell_type": "code",
      "metadata": {
        "colab": {
          "base_uri": "https://localhost:8080/"
        },
        "id": "254XXAMCz5u8",
        "outputId": "df093d13-518f-4fb3-fe20-1977024ed8b0"
      },
      "source": [
        "stft_data = np.zeros([1280,32,129,63])\n",
        "\n",
        "for i in range(stft_data.shape[0]):\n",
        "  xx = mne.time_frequency.stft(eeg_data[i],wsize=256)\n",
        "  stft_data[i] = xx"
      ],
      "execution_count": null,
      "outputs": [
        {
          "output_type": "stream",
          "name": "stdout",
          "text": [
            "Number of frequencies: 129\n",
            "Number of time steps: 63\n",
            "Number of frequencies: 129\n",
            "Number of time steps: 63\n",
            "Number of frequencies: 129\n",
            "Number of time steps: 63\n",
            "Number of frequencies: 129\n",
            "Number of time steps: 63\n",
            "Number of frequencies: 129\n",
            "Number of time steps: 63\n",
            "Number of frequencies: 129\n",
            "Number of time steps: 63\n"
          ]
        },
        {
          "output_type": "stream",
          "name": "stderr",
          "text": [
            "/usr/local/lib/python3.7/dist-packages/ipykernel_launcher.py:5: ComplexWarning: Casting complex values to real discards the imaginary part\n",
            "  \"\"\"\n"
          ]
        },
        {
          "output_type": "stream",
          "name": "stdout",
          "text": [
            "Number of frequencies: 129\n",
            "Number of time steps: 63\n",
            "Number of frequencies: 129\n",
            "Number of time steps: 63\n",
            "Number of frequencies: 129\n",
            "Number of time steps: 63\n",
            "Number of frequencies: 129\n",
            "Number of time steps: 63\n",
            "Number of frequencies: 129\n",
            "Number of time steps: 63\n",
            "Number of frequencies: 129\n",
            "Number of time steps: 63\n",
            "Number of frequencies: 129\n",
            "Number of time steps: 63\n",
            "Number of frequencies: 129\n",
            "Number of time steps: 63\n",
            "Number of frequencies: 129\n",
            "Number of time steps: 63\n",
            "Number of frequencies: 129\n",
            "Number of time steps: 63\n",
            "Number of frequencies: 129\n",
            "Number of time steps: 63\n",
            "Number of frequencies: 129\n",
            "Number of time steps: 63\n",
            "Number of frequencies: 129\n",
            "Number of time steps: 63\n",
            "Number of frequencies: 129\n",
            "Number of time steps: 63\n",
            "Number of frequencies: 129\n",
            "Number of time steps: 63\n",
            "Number of frequencies: 129\n",
            "Number of time steps: 63\n",
            "Number of frequencies: 129\n",
            "Number of time steps: 63\n",
            "Number of frequencies: 129\n",
            "Number of time steps: 63\n",
            "Number of frequencies: 129\n",
            "Number of time steps: 63\n",
            "Number of frequencies: 129\n",
            "Number of time steps: 63\n",
            "Number of frequencies: 129\n",
            "Number of time steps: 63\n",
            "Number of frequencies: 129\n",
            "Number of time steps: 63\n",
            "Number of frequencies: 129\n",
            "Number of time steps: 63\n",
            "Number of frequencies: 129\n",
            "Number of time steps: 63\n",
            "Number of frequencies: 129\n",
            "Number of time steps: 63\n",
            "Number of frequencies: 129\n",
            "Number of time steps: 63\n",
            "Number of frequencies: 129\n",
            "Number of time steps: 63\n",
            "Number of frequencies: 129\n",
            "Number of time steps: 63\n",
            "Number of frequencies: 129\n",
            "Number of time steps: 63\n",
            "Number of frequencies: 129\n",
            "Number of time steps: 63\n",
            "Number of frequencies: 129\n",
            "Number of time steps: 63\n",
            "Number of frequencies: 129\n",
            "Number of time steps: 63\n",
            "Number of frequencies: 129\n",
            "Number of time steps: 63\n",
            "Number of frequencies: 129\n",
            "Number of time steps: 63\n",
            "Number of frequencies: 129\n",
            "Number of time steps: 63\n",
            "Number of frequencies: 129\n",
            "Number of time steps: 63\n",
            "Number of frequencies: 129\n",
            "Number of time steps: 63\n",
            "Number of frequencies: 129\n",
            "Number of time steps: 63\n",
            "Number of frequencies: 129\n",
            "Number of time steps: 63\n",
            "Number of frequencies: 129\n",
            "Number of time steps: 63\n",
            "Number of frequencies: 129\n",
            "Number of time steps: 63\n",
            "Number of frequencies: 129\n",
            "Number of time steps: 63\n",
            "Number of frequencies: 129\n",
            "Number of time steps: 63\n",
            "Number of frequencies: 129\n",
            "Number of time steps: 63\n",
            "Number of frequencies: 129\n",
            "Number of time steps: 63\n",
            "Number of frequencies: 129\n",
            "Number of time steps: 63\n",
            "Number of frequencies: 129\n",
            "Number of time steps: 63\n",
            "Number of frequencies: 129\n",
            "Number of time steps: 63\n",
            "Number of frequencies: 129\n",
            "Number of time steps: 63\n",
            "Number of frequencies: 129\n",
            "Number of time steps: 63\n",
            "Number of frequencies: 129\n",
            "Number of time steps: 63\n",
            "Number of frequencies: 129\n",
            "Number of time steps: 63\n",
            "Number of frequencies: 129\n",
            "Number of time steps: 63\n",
            "Number of frequencies: 129\n",
            "Number of time steps: 63\n",
            "Number of frequencies: 129\n",
            "Number of time steps: 63\n",
            "Number of frequencies: 129\n",
            "Number of time steps: 63\n",
            "Number of frequencies: 129\n",
            "Number of time steps: 63\n",
            "Number of frequencies: 129\n",
            "Number of time steps: 63\n",
            "Number of frequencies: 129\n",
            "Number of time steps: 63\n",
            "Number of frequencies: 129\n",
            "Number of time steps: 63\n",
            "Number of frequencies: 129\n",
            "Number of time steps: 63\n",
            "Number of frequencies: 129\n",
            "Number of time steps: 63\n",
            "Number of frequencies: 129\n",
            "Number of time steps: 63\n",
            "Number of frequencies: 129\n",
            "Number of time steps: 63\n",
            "Number of frequencies: 129\n",
            "Number of time steps: 63\n",
            "Number of frequencies: 129\n",
            "Number of time steps: 63\n",
            "Number of frequencies: 129\n",
            "Number of time steps: 63\n",
            "Number of frequencies: 129\n",
            "Number of time steps: 63\n",
            "Number of frequencies: 129\n",
            "Number of time steps: 63\n",
            "Number of frequencies: 129\n",
            "Number of time steps: 63\n",
            "Number of frequencies: 129\n",
            "Number of time steps: 63\n",
            "Number of frequencies: 129\n",
            "Number of time steps: 63\n",
            "Number of frequencies: 129\n",
            "Number of time steps: 63\n",
            "Number of frequencies: 129\n",
            "Number of time steps: 63\n",
            "Number of frequencies: 129\n",
            "Number of time steps: 63\n",
            "Number of frequencies: 129\n",
            "Number of time steps: 63\n",
            "Number of frequencies: 129\n",
            "Number of time steps: 63\n",
            "Number of frequencies: 129\n",
            "Number of time steps: 63\n",
            "Number of frequencies: 129\n",
            "Number of time steps: 63\n",
            "Number of frequencies: 129\n",
            "Number of time steps: 63\n",
            "Number of frequencies: 129\n",
            "Number of time steps: 63\n",
            "Number of frequencies: 129\n",
            "Number of time steps: 63\n",
            "Number of frequencies: 129\n",
            "Number of time steps: 63\n",
            "Number of frequencies: 129\n",
            "Number of time steps: 63\n",
            "Number of frequencies: 129\n",
            "Number of time steps: 63\n",
            "Number of frequencies: 129\n",
            "Number of time steps: 63\n",
            "Number of frequencies: 129\n",
            "Number of time steps: 63\n",
            "Number of frequencies: 129\n",
            "Number of time steps: 63\n",
            "Number of frequencies: 129\n",
            "Number of time steps: 63\n",
            "Number of frequencies: 129\n",
            "Number of time steps: 63\n",
            "Number of frequencies: 129\n",
            "Number of time steps: 63\n",
            "Number of frequencies: 129\n",
            "Number of time steps: 63\n",
            "Number of frequencies: 129\n",
            "Number of time steps: 63\n",
            "Number of frequencies: 129\n",
            "Number of time steps: 63\n",
            "Number of frequencies: 129\n",
            "Number of time steps: 63\n",
            "Number of frequencies: 129\n",
            "Number of time steps: 63\n",
            "Number of frequencies: 129\n",
            "Number of time steps: 63\n",
            "Number of frequencies: 129\n",
            "Number of time steps: 63\n",
            "Number of frequencies: 129\n",
            "Number of time steps: 63\n",
            "Number of frequencies: 129\n",
            "Number of time steps: 63\n",
            "Number of frequencies: 129\n",
            "Number of time steps: 63\n",
            "Number of frequencies: 129\n",
            "Number of time steps: 63\n",
            "Number of frequencies: 129\n",
            "Number of time steps: 63\n",
            "Number of frequencies: 129\n",
            "Number of time steps: 63\n",
            "Number of frequencies: 129\n",
            "Number of time steps: 63\n",
            "Number of frequencies: 129\n",
            "Number of time steps: 63\n",
            "Number of frequencies: 129\n",
            "Number of time steps: 63\n",
            "Number of frequencies: 129\n",
            "Number of time steps: 63\n",
            "Number of frequencies: 129\n",
            "Number of time steps: 63\n",
            "Number of frequencies: 129\n",
            "Number of time steps: 63\n",
            "Number of frequencies: 129\n",
            "Number of time steps: 63\n",
            "Number of frequencies: 129\n",
            "Number of time steps: 63\n",
            "Number of frequencies: 129\n",
            "Number of time steps: 63\n",
            "Number of frequencies: 129\n",
            "Number of time steps: 63\n",
            "Number of frequencies: 129\n",
            "Number of time steps: 63\n",
            "Number of frequencies: 129\n",
            "Number of time steps: 63\n",
            "Number of frequencies: 129\n",
            "Number of time steps: 63\n",
            "Number of frequencies: 129\n",
            "Number of time steps: 63\n",
            "Number of frequencies: 129\n",
            "Number of time steps: 63\n",
            "Number of frequencies: 129\n",
            "Number of time steps: 63\n",
            "Number of frequencies: 129\n",
            "Number of time steps: 63\n",
            "Number of frequencies: 129\n",
            "Number of time steps: 63\n",
            "Number of frequencies: 129\n",
            "Number of time steps: 63\n",
            "Number of frequencies: 129\n",
            "Number of time steps: 63\n",
            "Number of frequencies: 129\n",
            "Number of time steps: 63\n",
            "Number of frequencies: 129\n",
            "Number of time steps: 63\n",
            "Number of frequencies: 129\n",
            "Number of time steps: 63\n",
            "Number of frequencies: 129\n",
            "Number of time steps: 63\n",
            "Number of frequencies: 129\n",
            "Number of time steps: 63\n",
            "Number of frequencies: 129\n",
            "Number of time steps: 63\n",
            "Number of frequencies: 129\n",
            "Number of time steps: 63\n",
            "Number of frequencies: 129\n",
            "Number of time steps: 63\n",
            "Number of frequencies: 129\n",
            "Number of time steps: 63\n",
            "Number of frequencies: 129\n",
            "Number of time steps: 63\n",
            "Number of frequencies: 129\n",
            "Number of time steps: 63\n",
            "Number of frequencies: 129\n",
            "Number of time steps: 63\n",
            "Number of frequencies: 129\n",
            "Number of time steps: 63\n",
            "Number of frequencies: 129\n",
            "Number of time steps: 63\n",
            "Number of frequencies: 129\n",
            "Number of time steps: 63\n",
            "Number of frequencies: 129\n",
            "Number of time steps: 63\n",
            "Number of frequencies: 129\n",
            "Number of time steps: 63\n",
            "Number of frequencies: 129\n",
            "Number of time steps: 63\n",
            "Number of frequencies: 129\n",
            "Number of time steps: 63\n",
            "Number of frequencies: 129\n",
            "Number of time steps: 63\n",
            "Number of frequencies: 129\n",
            "Number of time steps: 63\n",
            "Number of frequencies: 129\n",
            "Number of time steps: 63\n",
            "Number of frequencies: 129\n",
            "Number of time steps: 63\n",
            "Number of frequencies: 129\n",
            "Number of time steps: 63\n",
            "Number of frequencies: 129\n",
            "Number of time steps: 63\n",
            "Number of frequencies: 129\n",
            "Number of time steps: 63\n",
            "Number of frequencies: 129\n",
            "Number of time steps: 63\n",
            "Number of frequencies: 129\n",
            "Number of time steps: 63\n",
            "Number of frequencies: 129\n",
            "Number of time steps: 63\n",
            "Number of frequencies: 129\n",
            "Number of time steps: 63\n",
            "Number of frequencies: 129\n",
            "Number of time steps: 63\n",
            "Number of frequencies: 129\n",
            "Number of time steps: 63\n",
            "Number of frequencies: 129\n",
            "Number of time steps: 63\n",
            "Number of frequencies: 129\n",
            "Number of time steps: 63\n",
            "Number of frequencies: 129\n",
            "Number of time steps: 63\n",
            "Number of frequencies: 129\n",
            "Number of time steps: 63\n",
            "Number of frequencies: 129\n",
            "Number of time steps: 63\n",
            "Number of frequencies: 129\n",
            "Number of time steps: 63\n",
            "Number of frequencies: 129\n",
            "Number of time steps: 63\n",
            "Number of frequencies: 129\n",
            "Number of time steps: 63\n",
            "Number of frequencies: 129\n",
            "Number of time steps: 63\n",
            "Number of frequencies: 129\n",
            "Number of time steps: 63\n",
            "Number of frequencies: 129\n",
            "Number of time steps: 63\n",
            "Number of frequencies: 129\n",
            "Number of time steps: 63\n",
            "Number of frequencies: 129\n",
            "Number of time steps: 63\n",
            "Number of frequencies: 129\n",
            "Number of time steps: 63\n",
            "Number of frequencies: 129\n",
            "Number of time steps: 63\n",
            "Number of frequencies: 129\n",
            "Number of time steps: 63\n",
            "Number of frequencies: 129\n",
            "Number of time steps: 63\n",
            "Number of frequencies: 129\n",
            "Number of time steps: 63\n",
            "Number of frequencies: 129\n",
            "Number of time steps: 63\n",
            "Number of frequencies: 129\n",
            "Number of time steps: 63\n",
            "Number of frequencies: 129\n",
            "Number of time steps: 63\n",
            "Number of frequencies: 129\n",
            "Number of time steps: 63\n",
            "Number of frequencies: 129\n",
            "Number of time steps: 63\n",
            "Number of frequencies: 129\n",
            "Number of time steps: 63\n",
            "Number of frequencies: 129\n",
            "Number of time steps: 63\n",
            "Number of frequencies: 129\n",
            "Number of time steps: 63\n",
            "Number of frequencies: 129\n",
            "Number of time steps: 63\n",
            "Number of frequencies: 129\n",
            "Number of time steps: 63\n",
            "Number of frequencies: 129\n",
            "Number of time steps: 63\n",
            "Number of frequencies: 129\n",
            "Number of time steps: 63\n",
            "Number of frequencies: 129\n",
            "Number of time steps: 63\n",
            "Number of frequencies: 129\n",
            "Number of time steps: 63\n",
            "Number of frequencies: 129\n",
            "Number of time steps: 63\n",
            "Number of frequencies: 129\n",
            "Number of time steps: 63\n",
            "Number of frequencies: 129\n",
            "Number of time steps: 63\n",
            "Number of frequencies: 129\n",
            "Number of time steps: 63\n",
            "Number of frequencies: 129\n",
            "Number of time steps: 63\n",
            "Number of frequencies: 129\n",
            "Number of time steps: 63\n",
            "Number of frequencies: 129\n",
            "Number of time steps: 63\n",
            "Number of frequencies: 129\n",
            "Number of time steps: 63\n",
            "Number of frequencies: 129\n",
            "Number of time steps: 63\n",
            "Number of frequencies: 129\n",
            "Number of time steps: 63\n",
            "Number of frequencies: 129\n",
            "Number of time steps: 63\n",
            "Number of frequencies: 129\n",
            "Number of time steps: 63\n",
            "Number of frequencies: 129\n",
            "Number of time steps: 63\n",
            "Number of frequencies: 129\n",
            "Number of time steps: 63\n",
            "Number of frequencies: 129\n",
            "Number of time steps: 63\n",
            "Number of frequencies: 129\n",
            "Number of time steps: 63\n",
            "Number of frequencies: 129\n",
            "Number of time steps: 63\n",
            "Number of frequencies: 129\n",
            "Number of time steps: 63\n",
            "Number of frequencies: 129\n",
            "Number of time steps: 63\n",
            "Number of frequencies: 129\n",
            "Number of time steps: 63\n",
            "Number of frequencies: 129\n",
            "Number of time steps: 63\n",
            "Number of frequencies: 129\n",
            "Number of time steps: 63\n",
            "Number of frequencies: 129\n",
            "Number of time steps: 63\n",
            "Number of frequencies: 129\n",
            "Number of time steps: 63\n",
            "Number of frequencies: 129\n",
            "Number of time steps: 63\n",
            "Number of frequencies: 129\n",
            "Number of time steps: 63\n",
            "Number of frequencies: 129\n",
            "Number of time steps: 63\n",
            "Number of frequencies: 129\n",
            "Number of time steps: 63\n",
            "Number of frequencies: 129\n",
            "Number of time steps: 63\n",
            "Number of frequencies: 129\n",
            "Number of time steps: 63\n",
            "Number of frequencies: 129\n",
            "Number of time steps: 63\n",
            "Number of frequencies: 129\n",
            "Number of time steps: 63\n",
            "Number of frequencies: 129\n",
            "Number of time steps: 63\n",
            "Number of frequencies: 129\n",
            "Number of time steps: 63\n",
            "Number of frequencies: 129\n",
            "Number of time steps: 63\n",
            "Number of frequencies: 129\n",
            "Number of time steps: 63\n",
            "Number of frequencies: 129\n",
            "Number of time steps: 63\n",
            "Number of frequencies: 129\n",
            "Number of time steps: 63\n",
            "Number of frequencies: 129\n",
            "Number of time steps: 63\n",
            "Number of frequencies: 129\n",
            "Number of time steps: 63\n",
            "Number of frequencies: 129\n",
            "Number of time steps: 63\n",
            "Number of frequencies: 129\n",
            "Number of time steps: 63\n",
            "Number of frequencies: 129\n",
            "Number of time steps: 63\n",
            "Number of frequencies: 129\n",
            "Number of time steps: 63\n",
            "Number of frequencies: 129\n",
            "Number of time steps: 63\n",
            "Number of frequencies: 129\n",
            "Number of time steps: 63\n",
            "Number of frequencies: 129\n",
            "Number of time steps: 63\n",
            "Number of frequencies: 129\n",
            "Number of time steps: 63\n",
            "Number of frequencies: 129\n",
            "Number of time steps: 63\n",
            "Number of frequencies: 129\n",
            "Number of time steps: 63\n",
            "Number of frequencies: 129\n",
            "Number of time steps: 63\n",
            "Number of frequencies: 129\n",
            "Number of time steps: 63\n",
            "Number of frequencies: 129\n",
            "Number of time steps: 63\n",
            "Number of frequencies: 129\n",
            "Number of time steps: 63\n",
            "Number of frequencies: 129\n",
            "Number of time steps: 63\n",
            "Number of frequencies: 129\n",
            "Number of time steps: 63\n",
            "Number of frequencies: 129\n",
            "Number of time steps: 63\n",
            "Number of frequencies: 129\n",
            "Number of time steps: 63\n",
            "Number of frequencies: 129\n",
            "Number of time steps: 63\n",
            "Number of frequencies: 129\n",
            "Number of time steps: 63\n",
            "Number of frequencies: 129\n",
            "Number of time steps: 63\n",
            "Number of frequencies: 129\n",
            "Number of time steps: 63\n",
            "Number of frequencies: 129\n",
            "Number of time steps: 63\n",
            "Number of frequencies: 129\n",
            "Number of time steps: 63\n",
            "Number of frequencies: 129\n",
            "Number of time steps: 63\n",
            "Number of frequencies: 129\n",
            "Number of time steps: 63\n",
            "Number of frequencies: 129\n",
            "Number of time steps: 63\n",
            "Number of frequencies: 129\n",
            "Number of time steps: 63\n",
            "Number of frequencies: 129\n",
            "Number of time steps: 63\n",
            "Number of frequencies: 129\n",
            "Number of time steps: 63\n",
            "Number of frequencies: 129\n",
            "Number of time steps: 63\n",
            "Number of frequencies: 129\n",
            "Number of time steps: 63\n",
            "Number of frequencies: 129\n",
            "Number of time steps: 63\n",
            "Number of frequencies: 129\n",
            "Number of time steps: 63\n",
            "Number of frequencies: 129\n",
            "Number of time steps: 63\n",
            "Number of frequencies: 129\n",
            "Number of time steps: 63\n",
            "Number of frequencies: 129\n",
            "Number of time steps: 63\n",
            "Number of frequencies: 129\n",
            "Number of time steps: 63\n",
            "Number of frequencies: 129\n",
            "Number of time steps: 63\n",
            "Number of frequencies: 129\n",
            "Number of time steps: 63\n",
            "Number of frequencies: 129\n",
            "Number of time steps: 63\n",
            "Number of frequencies: 129\n",
            "Number of time steps: 63\n",
            "Number of frequencies: 129\n",
            "Number of time steps: 63\n",
            "Number of frequencies: 129\n",
            "Number of time steps: 63\n",
            "Number of frequencies: 129\n",
            "Number of time steps: 63\n",
            "Number of frequencies: 129\n",
            "Number of time steps: 63\n",
            "Number of frequencies: 129\n",
            "Number of time steps: 63\n",
            "Number of frequencies: 129\n",
            "Number of time steps: 63\n",
            "Number of frequencies: 129\n",
            "Number of time steps: 63\n",
            "Number of frequencies: 129\n",
            "Number of time steps: 63\n",
            "Number of frequencies: 129\n",
            "Number of time steps: 63\n",
            "Number of frequencies: 129\n",
            "Number of time steps: 63\n",
            "Number of frequencies: 129\n",
            "Number of time steps: 63\n",
            "Number of frequencies: 129\n",
            "Number of time steps: 63\n",
            "Number of frequencies: 129\n",
            "Number of time steps: 63\n",
            "Number of frequencies: 129\n",
            "Number of time steps: 63\n",
            "Number of frequencies: 129\n",
            "Number of time steps: 63\n",
            "Number of frequencies: 129\n",
            "Number of time steps: 63\n",
            "Number of frequencies: 129\n",
            "Number of time steps: 63\n",
            "Number of frequencies: 129\n",
            "Number of time steps: 63\n",
            "Number of frequencies: 129\n",
            "Number of time steps: 63\n",
            "Number of frequencies: 129\n",
            "Number of time steps: 63\n",
            "Number of frequencies: 129\n",
            "Number of time steps: 63\n",
            "Number of frequencies: 129\n",
            "Number of time steps: 63\n",
            "Number of frequencies: 129\n",
            "Number of time steps: 63\n",
            "Number of frequencies: 129\n",
            "Number of time steps: 63\n",
            "Number of frequencies: 129\n",
            "Number of time steps: 63\n",
            "Number of frequencies: 129\n",
            "Number of time steps: 63\n",
            "Number of frequencies: 129\n",
            "Number of time steps: 63\n",
            "Number of frequencies: 129\n",
            "Number of time steps: 63\n",
            "Number of frequencies: 129\n",
            "Number of time steps: 63\n",
            "Number of frequencies: 129\n",
            "Number of time steps: 63\n",
            "Number of frequencies: 129\n",
            "Number of time steps: 63\n",
            "Number of frequencies: 129\n",
            "Number of time steps: 63\n",
            "Number of frequencies: 129\n",
            "Number of time steps: 63\n",
            "Number of frequencies: 129\n",
            "Number of time steps: 63\n",
            "Number of frequencies: 129\n",
            "Number of time steps: 63\n",
            "Number of frequencies: 129\n",
            "Number of time steps: 63\n",
            "Number of frequencies: 129\n",
            "Number of time steps: 63\n",
            "Number of frequencies: 129\n",
            "Number of time steps: 63\n",
            "Number of frequencies: 129\n",
            "Number of time steps: 63\n",
            "Number of frequencies: 129\n",
            "Number of time steps: 63\n",
            "Number of frequencies: 129\n",
            "Number of time steps: 63\n",
            "Number of frequencies: 129\n",
            "Number of time steps: 63\n",
            "Number of frequencies: 129\n",
            "Number of time steps: 63\n",
            "Number of frequencies: 129\n",
            "Number of time steps: 63\n",
            "Number of frequencies: 129\n",
            "Number of time steps: 63\n",
            "Number of frequencies: 129\n",
            "Number of time steps: 63\n",
            "Number of frequencies: 129\n",
            "Number of time steps: 63\n",
            "Number of frequencies: 129\n",
            "Number of time steps: 63\n",
            "Number of frequencies: 129\n",
            "Number of time steps: 63\n",
            "Number of frequencies: 129\n",
            "Number of time steps: 63\n",
            "Number of frequencies: 129\n",
            "Number of time steps: 63\n",
            "Number of frequencies: 129\n",
            "Number of time steps: 63\n",
            "Number of frequencies: 129\n",
            "Number of time steps: 63\n",
            "Number of frequencies: 129\n",
            "Number of time steps: 63\n",
            "Number of frequencies: 129\n",
            "Number of time steps: 63\n",
            "Number of frequencies: 129\n",
            "Number of time steps: 63\n",
            "Number of frequencies: 129\n",
            "Number of time steps: 63\n",
            "Number of frequencies: 129\n",
            "Number of time steps: 63\n",
            "Number of frequencies: 129\n",
            "Number of time steps: 63\n",
            "Number of frequencies: 129\n",
            "Number of time steps: 63\n",
            "Number of frequencies: 129\n",
            "Number of time steps: 63\n",
            "Number of frequencies: 129\n",
            "Number of time steps: 63\n",
            "Number of frequencies: 129\n",
            "Number of time steps: 63\n",
            "Number of frequencies: 129\n",
            "Number of time steps: 63\n",
            "Number of frequencies: 129\n",
            "Number of time steps: 63\n",
            "Number of frequencies: 129\n",
            "Number of time steps: 63\n",
            "Number of frequencies: 129\n",
            "Number of time steps: 63\n",
            "Number of frequencies: 129\n",
            "Number of time steps: 63\n",
            "Number of frequencies: 129\n",
            "Number of time steps: 63\n",
            "Number of frequencies: 129\n",
            "Number of time steps: 63\n",
            "Number of frequencies: 129\n",
            "Number of time steps: 63\n",
            "Number of frequencies: 129\n",
            "Number of time steps: 63\n",
            "Number of frequencies: 129\n",
            "Number of time steps: 63\n",
            "Number of frequencies: 129\n",
            "Number of time steps: 63\n",
            "Number of frequencies: 129\n",
            "Number of time steps: 63\n",
            "Number of frequencies: 129\n",
            "Number of time steps: 63\n",
            "Number of frequencies: 129\n",
            "Number of time steps: 63\n",
            "Number of frequencies: 129\n",
            "Number of time steps: 63\n",
            "Number of frequencies: 129\n",
            "Number of time steps: 63\n",
            "Number of frequencies: 129\n",
            "Number of time steps: 63\n",
            "Number of frequencies: 129\n",
            "Number of time steps: 63\n",
            "Number of frequencies: 129\n",
            "Number of time steps: 63\n",
            "Number of frequencies: 129\n",
            "Number of time steps: 63\n",
            "Number of frequencies: 129\n",
            "Number of time steps: 63\n",
            "Number of frequencies: 129\n",
            "Number of time steps: 63\n",
            "Number of frequencies: 129\n",
            "Number of time steps: 63\n",
            "Number of frequencies: 129\n",
            "Number of time steps: 63\n",
            "Number of frequencies: 129\n",
            "Number of time steps: 63\n",
            "Number of frequencies: 129\n",
            "Number of time steps: 63\n",
            "Number of frequencies: 129\n",
            "Number of time steps: 63\n",
            "Number of frequencies: 129\n",
            "Number of time steps: 63\n",
            "Number of frequencies: 129\n",
            "Number of time steps: 63\n",
            "Number of frequencies: 129\n",
            "Number of time steps: 63\n",
            "Number of frequencies: 129\n",
            "Number of time steps: 63\n",
            "Number of frequencies: 129\n",
            "Number of time steps: 63\n",
            "Number of frequencies: 129\n",
            "Number of time steps: 63\n",
            "Number of frequencies: 129\n",
            "Number of time steps: 63\n",
            "Number of frequencies: 129\n",
            "Number of time steps: 63\n",
            "Number of frequencies: 129\n",
            "Number of time steps: 63\n",
            "Number of frequencies: 129\n",
            "Number of time steps: 63\n",
            "Number of frequencies: 129\n",
            "Number of time steps: 63\n",
            "Number of frequencies: 129\n",
            "Number of time steps: 63\n",
            "Number of frequencies: 129\n",
            "Number of time steps: 63\n",
            "Number of frequencies: 129\n",
            "Number of time steps: 63\n",
            "Number of frequencies: 129\n",
            "Number of time steps: 63\n",
            "Number of frequencies: 129\n",
            "Number of time steps: 63\n",
            "Number of frequencies: 129\n",
            "Number of time steps: 63\n",
            "Number of frequencies: 129\n",
            "Number of time steps: 63\n",
            "Number of frequencies: 129\n",
            "Number of time steps: 63\n",
            "Number of frequencies: 129\n",
            "Number of time steps: 63\n",
            "Number of frequencies: 129\n",
            "Number of time steps: 63\n",
            "Number of frequencies: 129\n",
            "Number of time steps: 63\n",
            "Number of frequencies: 129\n",
            "Number of time steps: 63\n",
            "Number of frequencies: 129\n",
            "Number of time steps: 63\n",
            "Number of frequencies: 129\n",
            "Number of time steps: 63\n",
            "Number of frequencies: 129\n",
            "Number of time steps: 63\n",
            "Number of frequencies: 129\n",
            "Number of time steps: 63\n",
            "Number of frequencies: 129\n",
            "Number of time steps: 63\n",
            "Number of frequencies: 129\n",
            "Number of time steps: 63\n",
            "Number of frequencies: 129\n",
            "Number of time steps: 63\n",
            "Number of frequencies: 129\n",
            "Number of time steps: 63\n",
            "Number of frequencies: 129\n",
            "Number of time steps: 63\n",
            "Number of frequencies: 129\n",
            "Number of time steps: 63\n",
            "Number of frequencies: 129\n",
            "Number of time steps: 63\n",
            "Number of frequencies: 129\n",
            "Number of time steps: 63\n",
            "Number of frequencies: 129\n",
            "Number of time steps: 63\n",
            "Number of frequencies: 129\n",
            "Number of time steps: 63\n",
            "Number of frequencies: 129\n",
            "Number of time steps: 63\n",
            "Number of frequencies: 129\n",
            "Number of time steps: 63\n",
            "Number of frequencies: 129\n",
            "Number of time steps: 63\n",
            "Number of frequencies: 129\n",
            "Number of time steps: 63\n",
            "Number of frequencies: 129\n",
            "Number of time steps: 63\n",
            "Number of frequencies: 129\n",
            "Number of time steps: 63\n",
            "Number of frequencies: 129\n",
            "Number of time steps: 63\n",
            "Number of frequencies: 129\n",
            "Number of time steps: 63\n",
            "Number of frequencies: 129\n",
            "Number of time steps: 63\n",
            "Number of frequencies: 129\n",
            "Number of time steps: 63\n",
            "Number of frequencies: 129\n",
            "Number of time steps: 63\n",
            "Number of frequencies: 129\n",
            "Number of time steps: 63\n",
            "Number of frequencies: 129\n",
            "Number of time steps: 63\n",
            "Number of frequencies: 129\n",
            "Number of time steps: 63\n",
            "Number of frequencies: 129\n",
            "Number of time steps: 63\n",
            "Number of frequencies: 129\n",
            "Number of time steps: 63\n",
            "Number of frequencies: 129\n",
            "Number of time steps: 63\n",
            "Number of frequencies: 129\n",
            "Number of time steps: 63\n",
            "Number of frequencies: 129\n",
            "Number of time steps: 63\n",
            "Number of frequencies: 129\n",
            "Number of time steps: 63\n",
            "Number of frequencies: 129\n",
            "Number of time steps: 63\n",
            "Number of frequencies: 129\n",
            "Number of time steps: 63\n",
            "Number of frequencies: 129\n",
            "Number of time steps: 63\n",
            "Number of frequencies: 129\n",
            "Number of time steps: 63\n",
            "Number of frequencies: 129\n",
            "Number of time steps: 63\n",
            "Number of frequencies: 129\n",
            "Number of time steps: 63\n",
            "Number of frequencies: 129\n",
            "Number of time steps: 63\n",
            "Number of frequencies: 129\n",
            "Number of time steps: 63\n",
            "Number of frequencies: 129\n",
            "Number of time steps: 63\n",
            "Number of frequencies: 129\n",
            "Number of time steps: 63\n",
            "Number of frequencies: 129\n",
            "Number of time steps: 63\n",
            "Number of frequencies: 129\n",
            "Number of time steps: 63\n",
            "Number of frequencies: 129\n",
            "Number of time steps: 63\n",
            "Number of frequencies: 129\n",
            "Number of time steps: 63\n",
            "Number of frequencies: 129\n",
            "Number of time steps: 63\n",
            "Number of frequencies: 129\n",
            "Number of time steps: 63\n",
            "Number of frequencies: 129\n",
            "Number of time steps: 63\n",
            "Number of frequencies: 129\n",
            "Number of time steps: 63\n",
            "Number of frequencies: 129\n",
            "Number of time steps: 63\n",
            "Number of frequencies: 129\n",
            "Number of time steps: 63\n",
            "Number of frequencies: 129\n",
            "Number of time steps: 63\n",
            "Number of frequencies: 129\n",
            "Number of time steps: 63\n",
            "Number of frequencies: 129\n",
            "Number of time steps: 63\n",
            "Number of frequencies: 129\n",
            "Number of time steps: 63\n",
            "Number of frequencies: 129\n",
            "Number of time steps: 63\n",
            "Number of frequencies: 129\n",
            "Number of time steps: 63\n",
            "Number of frequencies: 129\n",
            "Number of time steps: 63\n",
            "Number of frequencies: 129\n",
            "Number of time steps: 63\n",
            "Number of frequencies: 129\n",
            "Number of time steps: 63\n",
            "Number of frequencies: 129\n",
            "Number of time steps: 63\n",
            "Number of frequencies: 129\n",
            "Number of time steps: 63\n",
            "Number of frequencies: 129\n",
            "Number of time steps: 63\n",
            "Number of frequencies: 129\n",
            "Number of time steps: 63\n",
            "Number of frequencies: 129\n",
            "Number of time steps: 63\n",
            "Number of frequencies: 129\n",
            "Number of time steps: 63\n",
            "Number of frequencies: 129\n",
            "Number of time steps: 63\n",
            "Number of frequencies: 129\n",
            "Number of time steps: 63\n",
            "Number of frequencies: 129\n",
            "Number of time steps: 63\n",
            "Number of frequencies: 129\n",
            "Number of time steps: 63\n",
            "Number of frequencies: 129\n",
            "Number of time steps: 63\n",
            "Number of frequencies: 129\n",
            "Number of time steps: 63\n",
            "Number of frequencies: 129\n",
            "Number of time steps: 63\n",
            "Number of frequencies: 129\n",
            "Number of time steps: 63\n",
            "Number of frequencies: 129\n",
            "Number of time steps: 63\n",
            "Number of frequencies: 129\n",
            "Number of time steps: 63\n",
            "Number of frequencies: 129\n",
            "Number of time steps: 63\n",
            "Number of frequencies: 129\n",
            "Number of time steps: 63\n",
            "Number of frequencies: 129\n",
            "Number of time steps: 63\n",
            "Number of frequencies: 129\n",
            "Number of time steps: 63\n",
            "Number of frequencies: 129\n",
            "Number of time steps: 63\n",
            "Number of frequencies: 129\n",
            "Number of time steps: 63\n",
            "Number of frequencies: 129\n",
            "Number of time steps: 63\n",
            "Number of frequencies: 129\n",
            "Number of time steps: 63\n",
            "Number of frequencies: 129\n",
            "Number of time steps: 63\n",
            "Number of frequencies: 129\n",
            "Number of time steps: 63\n",
            "Number of frequencies: 129\n",
            "Number of time steps: 63\n",
            "Number of frequencies: 129\n",
            "Number of time steps: 63\n",
            "Number of frequencies: 129\n",
            "Number of time steps: 63\n",
            "Number of frequencies: 129\n",
            "Number of time steps: 63\n",
            "Number of frequencies: 129\n",
            "Number of time steps: 63\n",
            "Number of frequencies: 129\n",
            "Number of time steps: 63\n",
            "Number of frequencies: 129\n",
            "Number of time steps: 63\n",
            "Number of frequencies: 129\n",
            "Number of time steps: 63\n",
            "Number of frequencies: 129\n",
            "Number of time steps: 63\n",
            "Number of frequencies: 129\n",
            "Number of time steps: 63\n",
            "Number of frequencies: 129\n",
            "Number of time steps: 63\n",
            "Number of frequencies: 129\n",
            "Number of time steps: 63\n",
            "Number of frequencies: 129\n",
            "Number of time steps: 63\n",
            "Number of frequencies: 129\n",
            "Number of time steps: 63\n",
            "Number of frequencies: 129\n",
            "Number of time steps: 63\n",
            "Number of frequencies: 129\n",
            "Number of time steps: 63\n",
            "Number of frequencies: 129\n",
            "Number of time steps: 63\n",
            "Number of frequencies: 129\n",
            "Number of time steps: 63\n",
            "Number of frequencies: 129\n",
            "Number of time steps: 63\n",
            "Number of frequencies: 129\n",
            "Number of time steps: 63\n",
            "Number of frequencies: 129\n",
            "Number of time steps: 63\n",
            "Number of frequencies: 129\n",
            "Number of time steps: 63\n",
            "Number of frequencies: 129\n",
            "Number of time steps: 63\n",
            "Number of frequencies: 129\n",
            "Number of time steps: 63\n",
            "Number of frequencies: 129\n",
            "Number of time steps: 63\n",
            "Number of frequencies: 129\n",
            "Number of time steps: 63\n",
            "Number of frequencies: 129\n",
            "Number of time steps: 63\n",
            "Number of frequencies: 129\n",
            "Number of time steps: 63\n",
            "Number of frequencies: 129\n",
            "Number of time steps: 63\n",
            "Number of frequencies: 129\n",
            "Number of time steps: 63\n",
            "Number of frequencies: 129\n",
            "Number of time steps: 63\n",
            "Number of frequencies: 129\n",
            "Number of time steps: 63\n",
            "Number of frequencies: 129\n",
            "Number of time steps: 63\n",
            "Number of frequencies: 129\n",
            "Number of time steps: 63\n",
            "Number of frequencies: 129\n",
            "Number of time steps: 63\n",
            "Number of frequencies: 129\n",
            "Number of time steps: 63\n",
            "Number of frequencies: 129\n",
            "Number of time steps: 63\n",
            "Number of frequencies: 129\n",
            "Number of time steps: 63\n",
            "Number of frequencies: 129\n",
            "Number of time steps: 63\n",
            "Number of frequencies: 129\n",
            "Number of time steps: 63\n",
            "Number of frequencies: 129\n",
            "Number of time steps: 63\n",
            "Number of frequencies: 129\n",
            "Number of time steps: 63\n",
            "Number of frequencies: 129\n",
            "Number of time steps: 63\n",
            "Number of frequencies: 129\n",
            "Number of time steps: 63\n",
            "Number of frequencies: 129\n",
            "Number of time steps: 63\n",
            "Number of frequencies: 129\n",
            "Number of time steps: 63\n",
            "Number of frequencies: 129\n",
            "Number of time steps: 63\n",
            "Number of frequencies: 129\n",
            "Number of time steps: 63\n",
            "Number of frequencies: 129\n",
            "Number of time steps: 63\n",
            "Number of frequencies: 129\n",
            "Number of time steps: 63\n",
            "Number of frequencies: 129\n",
            "Number of time steps: 63\n",
            "Number of frequencies: 129\n",
            "Number of time steps: 63\n",
            "Number of frequencies: 129\n",
            "Number of time steps: 63\n",
            "Number of frequencies: 129\n",
            "Number of time steps: 63\n",
            "Number of frequencies: 129\n",
            "Number of time steps: 63\n",
            "Number of frequencies: 129\n",
            "Number of time steps: 63\n",
            "Number of frequencies: 129\n",
            "Number of time steps: 63\n",
            "Number of frequencies: 129\n",
            "Number of time steps: 63\n",
            "Number of frequencies: 129\n",
            "Number of time steps: 63\n",
            "Number of frequencies: 129\n",
            "Number of time steps: 63\n",
            "Number of frequencies: 129\n",
            "Number of time steps: 63\n",
            "Number of frequencies: 129\n",
            "Number of time steps: 63\n",
            "Number of frequencies: 129\n",
            "Number of time steps: 63\n",
            "Number of frequencies: 129\n",
            "Number of time steps: 63\n",
            "Number of frequencies: 129\n",
            "Number of time steps: 63\n",
            "Number of frequencies: 129\n",
            "Number of time steps: 63\n",
            "Number of frequencies: 129\n",
            "Number of time steps: 63\n",
            "Number of frequencies: 129\n",
            "Number of time steps: 63\n",
            "Number of frequencies: 129\n",
            "Number of time steps: 63\n",
            "Number of frequencies: 129\n",
            "Number of time steps: 63\n",
            "Number of frequencies: 129\n",
            "Number of time steps: 63\n",
            "Number of frequencies: 129\n",
            "Number of time steps: 63\n",
            "Number of frequencies: 129\n",
            "Number of time steps: 63\n",
            "Number of frequencies: 129\n",
            "Number of time steps: 63\n",
            "Number of frequencies: 129\n",
            "Number of time steps: 63\n",
            "Number of frequencies: 129\n",
            "Number of time steps: 63\n",
            "Number of frequencies: 129\n",
            "Number of time steps: 63\n",
            "Number of frequencies: 129\n",
            "Number of time steps: 63\n",
            "Number of frequencies: 129\n",
            "Number of time steps: 63\n",
            "Number of frequencies: 129\n",
            "Number of time steps: 63\n",
            "Number of frequencies: 129\n",
            "Number of time steps: 63\n",
            "Number of frequencies: 129\n",
            "Number of time steps: 63\n",
            "Number of frequencies: 129\n",
            "Number of time steps: 63\n",
            "Number of frequencies: 129\n",
            "Number of time steps: 63\n",
            "Number of frequencies: 129\n",
            "Number of time steps: 63\n",
            "Number of frequencies: 129\n",
            "Number of time steps: 63\n",
            "Number of frequencies: 129\n",
            "Number of time steps: 63\n",
            "Number of frequencies: 129\n",
            "Number of time steps: 63\n",
            "Number of frequencies: 129\n",
            "Number of time steps: 63\n",
            "Number of frequencies: 129\n",
            "Number of time steps: 63\n",
            "Number of frequencies: 129\n",
            "Number of time steps: 63\n",
            "Number of frequencies: 129\n",
            "Number of time steps: 63\n",
            "Number of frequencies: 129\n",
            "Number of time steps: 63\n",
            "Number of frequencies: 129\n",
            "Number of time steps: 63\n",
            "Number of frequencies: 129\n",
            "Number of time steps: 63\n",
            "Number of frequencies: 129\n",
            "Number of time steps: 63\n",
            "Number of frequencies: 129\n",
            "Number of time steps: 63\n",
            "Number of frequencies: 129\n",
            "Number of time steps: 63\n",
            "Number of frequencies: 129\n",
            "Number of time steps: 63\n",
            "Number of frequencies: 129\n",
            "Number of time steps: 63\n",
            "Number of frequencies: 129\n",
            "Number of time steps: 63\n",
            "Number of frequencies: 129\n",
            "Number of time steps: 63\n",
            "Number of frequencies: 129\n",
            "Number of time steps: 63\n",
            "Number of frequencies: 129\n",
            "Number of time steps: 63\n",
            "Number of frequencies: 129\n",
            "Number of time steps: 63\n",
            "Number of frequencies: 129\n",
            "Number of time steps: 63\n",
            "Number of frequencies: 129\n",
            "Number of time steps: 63\n",
            "Number of frequencies: 129\n",
            "Number of time steps: 63\n",
            "Number of frequencies: 129\n",
            "Number of time steps: 63\n",
            "Number of frequencies: 129\n",
            "Number of time steps: 63\n",
            "Number of frequencies: 129\n",
            "Number of time steps: 63\n",
            "Number of frequencies: 129\n",
            "Number of time steps: 63\n",
            "Number of frequencies: 129\n",
            "Number of time steps: 63\n",
            "Number of frequencies: 129\n",
            "Number of time steps: 63\n",
            "Number of frequencies: 129\n",
            "Number of time steps: 63\n",
            "Number of frequencies: 129\n",
            "Number of time steps: 63\n",
            "Number of frequencies: 129\n",
            "Number of time steps: 63\n",
            "Number of frequencies: 129\n",
            "Number of time steps: 63\n",
            "Number of frequencies: 129\n",
            "Number of time steps: 63\n",
            "Number of frequencies: 129\n",
            "Number of time steps: 63\n",
            "Number of frequencies: 129\n",
            "Number of time steps: 63\n",
            "Number of frequencies: 129\n",
            "Number of time steps: 63\n",
            "Number of frequencies: 129\n",
            "Number of time steps: 63\n",
            "Number of frequencies: 129\n",
            "Number of time steps: 63\n",
            "Number of frequencies: 129\n",
            "Number of time steps: 63\n",
            "Number of frequencies: 129\n",
            "Number of time steps: 63\n",
            "Number of frequencies: 129\n",
            "Number of time steps: 63\n",
            "Number of frequencies: 129\n",
            "Number of time steps: 63\n",
            "Number of frequencies: 129\n",
            "Number of time steps: 63\n",
            "Number of frequencies: 129\n",
            "Number of time steps: 63\n",
            "Number of frequencies: 129\n",
            "Number of time steps: 63\n",
            "Number of frequencies: 129\n",
            "Number of time steps: 63\n",
            "Number of frequencies: 129\n",
            "Number of time steps: 63\n",
            "Number of frequencies: 129\n",
            "Number of time steps: 63\n",
            "Number of frequencies: 129\n",
            "Number of time steps: 63\n",
            "Number of frequencies: 129\n",
            "Number of time steps: 63\n",
            "Number of frequencies: 129\n",
            "Number of time steps: 63\n",
            "Number of frequencies: 129\n",
            "Number of time steps: 63\n",
            "Number of frequencies: 129\n",
            "Number of time steps: 63\n",
            "Number of frequencies: 129\n",
            "Number of time steps: 63\n",
            "Number of frequencies: 129\n",
            "Number of time steps: 63\n",
            "Number of frequencies: 129\n",
            "Number of time steps: 63\n",
            "Number of frequencies: 129\n",
            "Number of time steps: 63\n",
            "Number of frequencies: 129\n",
            "Number of time steps: 63\n",
            "Number of frequencies: 129\n",
            "Number of time steps: 63\n",
            "Number of frequencies: 129\n",
            "Number of time steps: 63\n",
            "Number of frequencies: 129\n",
            "Number of time steps: 63\n",
            "Number of frequencies: 129\n",
            "Number of time steps: 63\n",
            "Number of frequencies: 129\n",
            "Number of time steps: 63\n",
            "Number of frequencies: 129\n",
            "Number of time steps: 63\n",
            "Number of frequencies: 129\n",
            "Number of time steps: 63\n",
            "Number of frequencies: 129\n",
            "Number of time steps: 63\n",
            "Number of frequencies: 129\n",
            "Number of time steps: 63\n",
            "Number of frequencies: 129\n",
            "Number of time steps: 63\n",
            "Number of frequencies: 129\n",
            "Number of time steps: 63\n",
            "Number of frequencies: 129\n",
            "Number of time steps: 63\n",
            "Number of frequencies: 129\n",
            "Number of time steps: 63\n",
            "Number of frequencies: 129\n",
            "Number of time steps: 63\n",
            "Number of frequencies: 129\n",
            "Number of time steps: 63\n",
            "Number of frequencies: 129\n",
            "Number of time steps: 63\n",
            "Number of frequencies: 129\n",
            "Number of time steps: 63\n",
            "Number of frequencies: 129\n",
            "Number of time steps: 63\n",
            "Number of frequencies: 129\n",
            "Number of time steps: 63\n",
            "Number of frequencies: 129\n",
            "Number of time steps: 63\n",
            "Number of frequencies: 129\n",
            "Number of time steps: 63\n",
            "Number of frequencies: 129\n",
            "Number of time steps: 63\n",
            "Number of frequencies: 129\n",
            "Number of time steps: 63\n",
            "Number of frequencies: 129\n",
            "Number of time steps: 63\n",
            "Number of frequencies: 129\n",
            "Number of time steps: 63\n",
            "Number of frequencies: 129\n",
            "Number of time steps: 63\n",
            "Number of frequencies: 129\n",
            "Number of time steps: 63\n",
            "Number of frequencies: 129\n",
            "Number of time steps: 63\n",
            "Number of frequencies: 129\n",
            "Number of time steps: 63\n",
            "Number of frequencies: 129\n",
            "Number of time steps: 63\n",
            "Number of frequencies: 129\n",
            "Number of time steps: 63\n",
            "Number of frequencies: 129\n",
            "Number of time steps: 63\n",
            "Number of frequencies: 129\n",
            "Number of time steps: 63\n",
            "Number of frequencies: 129\n",
            "Number of time steps: 63\n",
            "Number of frequencies: 129\n",
            "Number of time steps: 63\n",
            "Number of frequencies: 129\n",
            "Number of time steps: 63\n",
            "Number of frequencies: 129\n",
            "Number of time steps: 63\n",
            "Number of frequencies: 129\n",
            "Number of time steps: 63\n",
            "Number of frequencies: 129\n",
            "Number of time steps: 63\n",
            "Number of frequencies: 129\n",
            "Number of time steps: 63\n",
            "Number of frequencies: 129\n",
            "Number of time steps: 63\n",
            "Number of frequencies: 129\n",
            "Number of time steps: 63\n",
            "Number of frequencies: 129\n",
            "Number of time steps: 63\n",
            "Number of frequencies: 129\n",
            "Number of time steps: 63\n",
            "Number of frequencies: 129\n",
            "Number of time steps: 63\n",
            "Number of frequencies: 129\n",
            "Number of time steps: 63\n",
            "Number of frequencies: 129\n",
            "Number of time steps: 63\n",
            "Number of frequencies: 129\n",
            "Number of time steps: 63\n",
            "Number of frequencies: 129\n",
            "Number of time steps: 63\n",
            "Number of frequencies: 129\n",
            "Number of time steps: 63\n",
            "Number of frequencies: 129\n",
            "Number of time steps: 63\n",
            "Number of frequencies: 129\n",
            "Number of time steps: 63\n",
            "Number of frequencies: 129\n",
            "Number of time steps: 63\n",
            "Number of frequencies: 129\n",
            "Number of time steps: 63\n",
            "Number of frequencies: 129\n",
            "Number of time steps: 63\n",
            "Number of frequencies: 129\n",
            "Number of time steps: 63\n",
            "Number of frequencies: 129\n",
            "Number of time steps: 63\n",
            "Number of frequencies: 129\n",
            "Number of time steps: 63\n",
            "Number of frequencies: 129\n",
            "Number of time steps: 63\n",
            "Number of frequencies: 129\n",
            "Number of time steps: 63\n",
            "Number of frequencies: 129\n",
            "Number of time steps: 63\n",
            "Number of frequencies: 129\n",
            "Number of time steps: 63\n",
            "Number of frequencies: 129\n",
            "Number of time steps: 63\n",
            "Number of frequencies: 129\n",
            "Number of time steps: 63\n",
            "Number of frequencies: 129\n",
            "Number of time steps: 63\n",
            "Number of frequencies: 129\n",
            "Number of time steps: 63\n",
            "Number of frequencies: 129\n",
            "Number of time steps: 63\n",
            "Number of frequencies: 129\n",
            "Number of time steps: 63\n",
            "Number of frequencies: 129\n",
            "Number of time steps: 63\n",
            "Number of frequencies: 129\n",
            "Number of time steps: 63\n",
            "Number of frequencies: 129\n",
            "Number of time steps: 63\n",
            "Number of frequencies: 129\n",
            "Number of time steps: 63\n",
            "Number of frequencies: 129\n",
            "Number of time steps: 63\n",
            "Number of frequencies: 129\n",
            "Number of time steps: 63\n",
            "Number of frequencies: 129\n",
            "Number of time steps: 63\n",
            "Number of frequencies: 129\n",
            "Number of time steps: 63\n",
            "Number of frequencies: 129\n",
            "Number of time steps: 63\n",
            "Number of frequencies: 129\n",
            "Number of time steps: 63\n",
            "Number of frequencies: 129\n",
            "Number of time steps: 63\n",
            "Number of frequencies: 129\n",
            "Number of time steps: 63\n",
            "Number of frequencies: 129\n",
            "Number of time steps: 63\n",
            "Number of frequencies: 129\n",
            "Number of time steps: 63\n",
            "Number of frequencies: 129\n",
            "Number of time steps: 63\n",
            "Number of frequencies: 129\n",
            "Number of time steps: 63\n",
            "Number of frequencies: 129\n",
            "Number of time steps: 63\n",
            "Number of frequencies: 129\n",
            "Number of time steps: 63\n",
            "Number of frequencies: 129\n",
            "Number of time steps: 63\n",
            "Number of frequencies: 129\n",
            "Number of time steps: 63\n",
            "Number of frequencies: 129\n",
            "Number of time steps: 63\n",
            "Number of frequencies: 129\n",
            "Number of time steps: 63\n",
            "Number of frequencies: 129\n",
            "Number of time steps: 63\n",
            "Number of frequencies: 129\n",
            "Number of time steps: 63\n",
            "Number of frequencies: 129\n",
            "Number of time steps: 63\n",
            "Number of frequencies: 129\n",
            "Number of time steps: 63\n",
            "Number of frequencies: 129\n",
            "Number of time steps: 63\n",
            "Number of frequencies: 129\n",
            "Number of time steps: 63\n",
            "Number of frequencies: 129\n",
            "Number of time steps: 63\n",
            "Number of frequencies: 129\n",
            "Number of time steps: 63\n",
            "Number of frequencies: 129\n",
            "Number of time steps: 63\n",
            "Number of frequencies: 129\n",
            "Number of time steps: 63\n",
            "Number of frequencies: 129\n",
            "Number of time steps: 63\n",
            "Number of frequencies: 129\n",
            "Number of time steps: 63\n",
            "Number of frequencies: 129\n",
            "Number of time steps: 63\n",
            "Number of frequencies: 129\n",
            "Number of time steps: 63\n",
            "Number of frequencies: 129\n",
            "Number of time steps: 63\n",
            "Number of frequencies: 129\n",
            "Number of time steps: 63\n",
            "Number of frequencies: 129\n",
            "Number of time steps: 63\n",
            "Number of frequencies: 129\n",
            "Number of time steps: 63\n",
            "Number of frequencies: 129\n",
            "Number of time steps: 63\n",
            "Number of frequencies: 129\n",
            "Number of time steps: 63\n",
            "Number of frequencies: 129\n",
            "Number of time steps: 63\n",
            "Number of frequencies: 129\n",
            "Number of time steps: 63\n",
            "Number of frequencies: 129\n",
            "Number of time steps: 63\n",
            "Number of frequencies: 129\n",
            "Number of time steps: 63\n",
            "Number of frequencies: 129\n",
            "Number of time steps: 63\n",
            "Number of frequencies: 129\n",
            "Number of time steps: 63\n",
            "Number of frequencies: 129\n",
            "Number of time steps: 63\n",
            "Number of frequencies: 129\n",
            "Number of time steps: 63\n",
            "Number of frequencies: 129\n",
            "Number of time steps: 63\n",
            "Number of frequencies: 129\n",
            "Number of time steps: 63\n",
            "Number of frequencies: 129\n",
            "Number of time steps: 63\n",
            "Number of frequencies: 129\n",
            "Number of time steps: 63\n",
            "Number of frequencies: 129\n",
            "Number of time steps: 63\n",
            "Number of frequencies: 129\n",
            "Number of time steps: 63\n",
            "Number of frequencies: 129\n",
            "Number of time steps: 63\n",
            "Number of frequencies: 129\n",
            "Number of time steps: 63\n",
            "Number of frequencies: 129\n",
            "Number of time steps: 63\n",
            "Number of frequencies: 129\n",
            "Number of time steps: 63\n",
            "Number of frequencies: 129\n",
            "Number of time steps: 63\n",
            "Number of frequencies: 129\n",
            "Number of time steps: 63\n",
            "Number of frequencies: 129\n",
            "Number of time steps: 63\n",
            "Number of frequencies: 129\n",
            "Number of time steps: 63\n",
            "Number of frequencies: 129\n",
            "Number of time steps: 63\n",
            "Number of frequencies: 129\n",
            "Number of time steps: 63\n",
            "Number of frequencies: 129\n",
            "Number of time steps: 63\n",
            "Number of frequencies: 129\n",
            "Number of time steps: 63\n",
            "Number of frequencies: 129\n",
            "Number of time steps: 63\n",
            "Number of frequencies: 129\n",
            "Number of time steps: 63\n",
            "Number of frequencies: 129\n",
            "Number of time steps: 63\n",
            "Number of frequencies: 129\n",
            "Number of time steps: 63\n",
            "Number of frequencies: 129\n",
            "Number of time steps: 63\n",
            "Number of frequencies: 129\n",
            "Number of time steps: 63\n",
            "Number of frequencies: 129\n",
            "Number of time steps: 63\n",
            "Number of frequencies: 129\n",
            "Number of time steps: 63\n",
            "Number of frequencies: 129\n",
            "Number of time steps: 63\n",
            "Number of frequencies: 129\n",
            "Number of time steps: 63\n",
            "Number of frequencies: 129\n",
            "Number of time steps: 63\n",
            "Number of frequencies: 129\n",
            "Number of time steps: 63\n",
            "Number of frequencies: 129\n",
            "Number of time steps: 63\n",
            "Number of frequencies: 129\n",
            "Number of time steps: 63\n",
            "Number of frequencies: 129\n",
            "Number of time steps: 63\n",
            "Number of frequencies: 129\n",
            "Number of time steps: 63\n",
            "Number of frequencies: 129\n",
            "Number of time steps: 63\n",
            "Number of frequencies: 129\n",
            "Number of time steps: 63\n",
            "Number of frequencies: 129\n",
            "Number of time steps: 63\n",
            "Number of frequencies: 129\n",
            "Number of time steps: 63\n",
            "Number of frequencies: 129\n",
            "Number of time steps: 63\n",
            "Number of frequencies: 129\n",
            "Number of time steps: 63\n",
            "Number of frequencies: 129\n",
            "Number of time steps: 63\n",
            "Number of frequencies: 129\n",
            "Number of time steps: 63\n",
            "Number of frequencies: 129\n",
            "Number of time steps: 63\n",
            "Number of frequencies: 129\n",
            "Number of time steps: 63\n",
            "Number of frequencies: 129\n",
            "Number of time steps: 63\n",
            "Number of frequencies: 129\n",
            "Number of time steps: 63\n",
            "Number of frequencies: 129\n",
            "Number of time steps: 63\n",
            "Number of frequencies: 129\n",
            "Number of time steps: 63\n",
            "Number of frequencies: 129\n",
            "Number of time steps: 63\n",
            "Number of frequencies: 129\n",
            "Number of time steps: 63\n",
            "Number of frequencies: 129\n",
            "Number of time steps: 63\n",
            "Number of frequencies: 129\n",
            "Number of time steps: 63\n",
            "Number of frequencies: 129\n",
            "Number of time steps: 63\n",
            "Number of frequencies: 129\n",
            "Number of time steps: 63\n",
            "Number of frequencies: 129\n",
            "Number of time steps: 63\n",
            "Number of frequencies: 129\n",
            "Number of time steps: 63\n",
            "Number of frequencies: 129\n",
            "Number of time steps: 63\n",
            "Number of frequencies: 129\n",
            "Number of time steps: 63\n",
            "Number of frequencies: 129\n",
            "Number of time steps: 63\n",
            "Number of frequencies: 129\n",
            "Number of time steps: 63\n",
            "Number of frequencies: 129\n",
            "Number of time steps: 63\n",
            "Number of frequencies: 129\n",
            "Number of time steps: 63\n",
            "Number of frequencies: 129\n",
            "Number of time steps: 63\n",
            "Number of frequencies: 129\n",
            "Number of time steps: 63\n",
            "Number of frequencies: 129\n",
            "Number of time steps: 63\n",
            "Number of frequencies: 129\n",
            "Number of time steps: 63\n",
            "Number of frequencies: 129\n",
            "Number of time steps: 63\n",
            "Number of frequencies: 129\n",
            "Number of time steps: 63\n",
            "Number of frequencies: 129\n",
            "Number of time steps: 63\n",
            "Number of frequencies: 129\n",
            "Number of time steps: 63\n",
            "Number of frequencies: 129\n",
            "Number of time steps: 63\n",
            "Number of frequencies: 129\n",
            "Number of time steps: 63\n",
            "Number of frequencies: 129\n",
            "Number of time steps: 63\n",
            "Number of frequencies: 129\n",
            "Number of time steps: 63\n",
            "Number of frequencies: 129\n",
            "Number of time steps: 63\n",
            "Number of frequencies: 129\n",
            "Number of time steps: 63\n",
            "Number of frequencies: 129\n",
            "Number of time steps: 63\n",
            "Number of frequencies: 129\n",
            "Number of time steps: 63\n",
            "Number of frequencies: 129\n",
            "Number of time steps: 63\n",
            "Number of frequencies: 129\n",
            "Number of time steps: 63\n",
            "Number of frequencies: 129\n",
            "Number of time steps: 63\n",
            "Number of frequencies: 129\n",
            "Number of time steps: 63\n",
            "Number of frequencies: 129\n",
            "Number of time steps: 63\n",
            "Number of frequencies: 129\n",
            "Number of time steps: 63\n",
            "Number of frequencies: 129\n",
            "Number of time steps: 63\n",
            "Number of frequencies: 129\n",
            "Number of time steps: 63\n",
            "Number of frequencies: 129\n",
            "Number of time steps: 63\n",
            "Number of frequencies: 129\n",
            "Number of time steps: 63\n",
            "Number of frequencies: 129\n",
            "Number of time steps: 63\n",
            "Number of frequencies: 129\n",
            "Number of time steps: 63\n",
            "Number of frequencies: 129\n",
            "Number of time steps: 63\n",
            "Number of frequencies: 129\n",
            "Number of time steps: 63\n",
            "Number of frequencies: 129\n",
            "Number of time steps: 63\n",
            "Number of frequencies: 129\n",
            "Number of time steps: 63\n",
            "Number of frequencies: 129\n",
            "Number of time steps: 63\n",
            "Number of frequencies: 129\n",
            "Number of time steps: 63\n",
            "Number of frequencies: 129\n",
            "Number of time steps: 63\n",
            "Number of frequencies: 129\n",
            "Number of time steps: 63\n",
            "Number of frequencies: 129\n",
            "Number of time steps: 63\n",
            "Number of frequencies: 129\n",
            "Number of time steps: 63\n",
            "Number of frequencies: 129\n",
            "Number of time steps: 63\n",
            "Number of frequencies: 129\n",
            "Number of time steps: 63\n",
            "Number of frequencies: 129\n",
            "Number of time steps: 63\n",
            "Number of frequencies: 129\n",
            "Number of time steps: 63\n",
            "Number of frequencies: 129\n",
            "Number of time steps: 63\n",
            "Number of frequencies: 129\n",
            "Number of time steps: 63\n",
            "Number of frequencies: 129\n",
            "Number of time steps: 63\n",
            "Number of frequencies: 129\n",
            "Number of time steps: 63\n",
            "Number of frequencies: 129\n",
            "Number of time steps: 63\n",
            "Number of frequencies: 129\n",
            "Number of time steps: 63\n",
            "Number of frequencies: 129\n",
            "Number of time steps: 63\n",
            "Number of frequencies: 129\n",
            "Number of time steps: 63\n",
            "Number of frequencies: 129\n",
            "Number of time steps: 63\n",
            "Number of frequencies: 129\n",
            "Number of time steps: 63\n",
            "Number of frequencies: 129\n",
            "Number of time steps: 63\n",
            "Number of frequencies: 129\n",
            "Number of time steps: 63\n",
            "Number of frequencies: 129\n",
            "Number of time steps: 63\n",
            "Number of frequencies: 129\n",
            "Number of time steps: 63\n",
            "Number of frequencies: 129\n",
            "Number of time steps: 63\n",
            "Number of frequencies: 129\n",
            "Number of time steps: 63\n",
            "Number of frequencies: 129\n",
            "Number of time steps: 63\n",
            "Number of frequencies: 129\n",
            "Number of time steps: 63\n",
            "Number of frequencies: 129\n",
            "Number of time steps: 63\n",
            "Number of frequencies: 129\n",
            "Number of time steps: 63\n",
            "Number of frequencies: 129\n",
            "Number of time steps: 63\n",
            "Number of frequencies: 129\n",
            "Number of time steps: 63\n",
            "Number of frequencies: 129\n",
            "Number of time steps: 63\n",
            "Number of frequencies: 129\n",
            "Number of time steps: 63\n",
            "Number of frequencies: 129\n",
            "Number of time steps: 63\n",
            "Number of frequencies: 129\n",
            "Number of time steps: 63\n",
            "Number of frequencies: 129\n",
            "Number of time steps: 63\n",
            "Number of frequencies: 129\n",
            "Number of time steps: 63\n",
            "Number of frequencies: 129\n",
            "Number of time steps: 63\n",
            "Number of frequencies: 129\n",
            "Number of time steps: 63\n",
            "Number of frequencies: 129\n",
            "Number of time steps: 63\n",
            "Number of frequencies: 129\n",
            "Number of time steps: 63\n",
            "Number of frequencies: 129\n",
            "Number of time steps: 63\n",
            "Number of frequencies: 129\n",
            "Number of time steps: 63\n",
            "Number of frequencies: 129\n",
            "Number of time steps: 63\n",
            "Number of frequencies: 129\n",
            "Number of time steps: 63\n",
            "Number of frequencies: 129\n",
            "Number of time steps: 63\n",
            "Number of frequencies: 129\n",
            "Number of time steps: 63\n",
            "Number of frequencies: 129\n",
            "Number of time steps: 63\n",
            "Number of frequencies: 129\n",
            "Number of time steps: 63\n",
            "Number of frequencies: 129\n",
            "Number of time steps: 63\n",
            "Number of frequencies: 129\n",
            "Number of time steps: 63\n",
            "Number of frequencies: 129\n",
            "Number of time steps: 63\n",
            "Number of frequencies: 129\n",
            "Number of time steps: 63\n",
            "Number of frequencies: 129\n",
            "Number of time steps: 63\n",
            "Number of frequencies: 129\n",
            "Number of time steps: 63\n",
            "Number of frequencies: 129\n",
            "Number of time steps: 63\n",
            "Number of frequencies: 129\n",
            "Number of time steps: 63\n",
            "Number of frequencies: 129\n",
            "Number of time steps: 63\n",
            "Number of frequencies: 129\n",
            "Number of time steps: 63\n",
            "Number of frequencies: 129\n",
            "Number of time steps: 63\n",
            "Number of frequencies: 129\n",
            "Number of time steps: 63\n",
            "Number of frequencies: 129\n",
            "Number of time steps: 63\n",
            "Number of frequencies: 129\n",
            "Number of time steps: 63\n",
            "Number of frequencies: 129\n",
            "Number of time steps: 63\n",
            "Number of frequencies: 129\n",
            "Number of time steps: 63\n",
            "Number of frequencies: 129\n",
            "Number of time steps: 63\n",
            "Number of frequencies: 129\n",
            "Number of time steps: 63\n",
            "Number of frequencies: 129\n",
            "Number of time steps: 63\n",
            "Number of frequencies: 129\n",
            "Number of time steps: 63\n",
            "Number of frequencies: 129\n",
            "Number of time steps: 63\n",
            "Number of frequencies: 129\n",
            "Number of time steps: 63\n",
            "Number of frequencies: 129\n",
            "Number of time steps: 63\n",
            "Number of frequencies: 129\n",
            "Number of time steps: 63\n",
            "Number of frequencies: 129\n",
            "Number of time steps: 63\n",
            "Number of frequencies: 129\n",
            "Number of time steps: 63\n",
            "Number of frequencies: 129\n",
            "Number of time steps: 63\n",
            "Number of frequencies: 129\n",
            "Number of time steps: 63\n",
            "Number of frequencies: 129\n",
            "Number of time steps: 63\n",
            "Number of frequencies: 129\n",
            "Number of time steps: 63\n",
            "Number of frequencies: 129\n",
            "Number of time steps: 63\n",
            "Number of frequencies: 129\n",
            "Number of time steps: 63\n",
            "Number of frequencies: 129\n",
            "Number of time steps: 63\n",
            "Number of frequencies: 129\n",
            "Number of time steps: 63\n",
            "Number of frequencies: 129\n",
            "Number of time steps: 63\n",
            "Number of frequencies: 129\n",
            "Number of time steps: 63\n",
            "Number of frequencies: 129\n",
            "Number of time steps: 63\n",
            "Number of frequencies: 129\n",
            "Number of time steps: 63\n",
            "Number of frequencies: 129\n",
            "Number of time steps: 63\n",
            "Number of frequencies: 129\n",
            "Number of time steps: 63\n",
            "Number of frequencies: 129\n",
            "Number of time steps: 63\n",
            "Number of frequencies: 129\n",
            "Number of time steps: 63\n",
            "Number of frequencies: 129\n",
            "Number of time steps: 63\n",
            "Number of frequencies: 129\n",
            "Number of time steps: 63\n",
            "Number of frequencies: 129\n",
            "Number of time steps: 63\n",
            "Number of frequencies: 129\n",
            "Number of time steps: 63\n",
            "Number of frequencies: 129\n",
            "Number of time steps: 63\n",
            "Number of frequencies: 129\n",
            "Number of time steps: 63\n",
            "Number of frequencies: 129\n",
            "Number of time steps: 63\n",
            "Number of frequencies: 129\n",
            "Number of time steps: 63\n",
            "Number of frequencies: 129\n",
            "Number of time steps: 63\n",
            "Number of frequencies: 129\n",
            "Number of time steps: 63\n",
            "Number of frequencies: 129\n",
            "Number of time steps: 63\n",
            "Number of frequencies: 129\n",
            "Number of time steps: 63\n",
            "Number of frequencies: 129\n",
            "Number of time steps: 63\n",
            "Number of frequencies: 129\n",
            "Number of time steps: 63\n",
            "Number of frequencies: 129\n",
            "Number of time steps: 63\n",
            "Number of frequencies: 129\n",
            "Number of time steps: 63\n",
            "Number of frequencies: 129\n",
            "Number of time steps: 63\n",
            "Number of frequencies: 129\n",
            "Number of time steps: 63\n",
            "Number of frequencies: 129\n",
            "Number of time steps: 63\n",
            "Number of frequencies: 129\n",
            "Number of time steps: 63\n",
            "Number of frequencies: 129\n",
            "Number of time steps: 63\n",
            "Number of frequencies: 129\n",
            "Number of time steps: 63\n",
            "Number of frequencies: 129\n",
            "Number of time steps: 63\n",
            "Number of frequencies: 129\n",
            "Number of time steps: 63\n",
            "Number of frequencies: 129\n",
            "Number of time steps: 63\n",
            "Number of frequencies: 129\n",
            "Number of time steps: 63\n",
            "Number of frequencies: 129\n",
            "Number of time steps: 63\n",
            "Number of frequencies: 129\n",
            "Number of time steps: 63\n",
            "Number of frequencies: 129\n",
            "Number of time steps: 63\n",
            "Number of frequencies: 129\n",
            "Number of time steps: 63\n",
            "Number of frequencies: 129\n",
            "Number of time steps: 63\n",
            "Number of frequencies: 129\n",
            "Number of time steps: 63\n",
            "Number of frequencies: 129\n",
            "Number of time steps: 63\n",
            "Number of frequencies: 129\n",
            "Number of time steps: 63\n",
            "Number of frequencies: 129\n",
            "Number of time steps: 63\n",
            "Number of frequencies: 129\n",
            "Number of time steps: 63\n",
            "Number of frequencies: 129\n",
            "Number of time steps: 63\n",
            "Number of frequencies: 129\n",
            "Number of time steps: 63\n",
            "Number of frequencies: 129\n",
            "Number of time steps: 63\n",
            "Number of frequencies: 129\n",
            "Number of time steps: 63\n",
            "Number of frequencies: 129\n",
            "Number of time steps: 63\n",
            "Number of frequencies: 129\n",
            "Number of time steps: 63\n",
            "Number of frequencies: 129\n",
            "Number of time steps: 63\n",
            "Number of frequencies: 129\n",
            "Number of time steps: 63\n",
            "Number of frequencies: 129\n",
            "Number of time steps: 63\n",
            "Number of frequencies: 129\n",
            "Number of time steps: 63\n",
            "Number of frequencies: 129\n",
            "Number of time steps: 63\n",
            "Number of frequencies: 129\n",
            "Number of time steps: 63\n",
            "Number of frequencies: 129\n",
            "Number of time steps: 63\n",
            "Number of frequencies: 129\n",
            "Number of time steps: 63\n",
            "Number of frequencies: 129\n",
            "Number of time steps: 63\n",
            "Number of frequencies: 129\n",
            "Number of time steps: 63\n",
            "Number of frequencies: 129\n",
            "Number of time steps: 63\n",
            "Number of frequencies: 129\n",
            "Number of time steps: 63\n",
            "Number of frequencies: 129\n",
            "Number of time steps: 63\n",
            "Number of frequencies: 129\n",
            "Number of time steps: 63\n",
            "Number of frequencies: 129\n",
            "Number of time steps: 63\n",
            "Number of frequencies: 129\n",
            "Number of time steps: 63\n",
            "Number of frequencies: 129\n",
            "Number of time steps: 63\n",
            "Number of frequencies: 129\n",
            "Number of time steps: 63\n",
            "Number of frequencies: 129\n",
            "Number of time steps: 63\n",
            "Number of frequencies: 129\n",
            "Number of time steps: 63\n",
            "Number of frequencies: 129\n",
            "Number of time steps: 63\n",
            "Number of frequencies: 129\n",
            "Number of time steps: 63\n",
            "Number of frequencies: 129\n",
            "Number of time steps: 63\n",
            "Number of frequencies: 129\n",
            "Number of time steps: 63\n",
            "Number of frequencies: 129\n",
            "Number of time steps: 63\n",
            "Number of frequencies: 129\n",
            "Number of time steps: 63\n",
            "Number of frequencies: 129\n",
            "Number of time steps: 63\n",
            "Number of frequencies: 129\n",
            "Number of time steps: 63\n",
            "Number of frequencies: 129\n",
            "Number of time steps: 63\n",
            "Number of frequencies: 129\n",
            "Number of time steps: 63\n",
            "Number of frequencies: 129\n",
            "Number of time steps: 63\n",
            "Number of frequencies: 129\n",
            "Number of time steps: 63\n",
            "Number of frequencies: 129\n",
            "Number of time steps: 63\n",
            "Number of frequencies: 129\n",
            "Number of time steps: 63\n",
            "Number of frequencies: 129\n",
            "Number of time steps: 63\n",
            "Number of frequencies: 129\n",
            "Number of time steps: 63\n",
            "Number of frequencies: 129\n",
            "Number of time steps: 63\n",
            "Number of frequencies: 129\n",
            "Number of time steps: 63\n",
            "Number of frequencies: 129\n",
            "Number of time steps: 63\n",
            "Number of frequencies: 129\n",
            "Number of time steps: 63\n",
            "Number of frequencies: 129\n",
            "Number of time steps: 63\n",
            "Number of frequencies: 129\n",
            "Number of time steps: 63\n",
            "Number of frequencies: 129\n",
            "Number of time steps: 63\n",
            "Number of frequencies: 129\n",
            "Number of time steps: 63\n",
            "Number of frequencies: 129\n",
            "Number of time steps: 63\n",
            "Number of frequencies: 129\n",
            "Number of time steps: 63\n",
            "Number of frequencies: 129\n",
            "Number of time steps: 63\n",
            "Number of frequencies: 129\n",
            "Number of time steps: 63\n",
            "Number of frequencies: 129\n",
            "Number of time steps: 63\n",
            "Number of frequencies: 129\n",
            "Number of time steps: 63\n",
            "Number of frequencies: 129\n",
            "Number of time steps: 63\n",
            "Number of frequencies: 129\n",
            "Number of time steps: 63\n",
            "Number of frequencies: 129\n",
            "Number of time steps: 63\n",
            "Number of frequencies: 129\n",
            "Number of time steps: 63\n",
            "Number of frequencies: 129\n",
            "Number of time steps: 63\n",
            "Number of frequencies: 129\n",
            "Number of time steps: 63\n",
            "Number of frequencies: 129\n",
            "Number of time steps: 63\n",
            "Number of frequencies: 129\n",
            "Number of time steps: 63\n",
            "Number of frequencies: 129\n",
            "Number of time steps: 63\n",
            "Number of frequencies: 129\n",
            "Number of time steps: 63\n",
            "Number of frequencies: 129\n",
            "Number of time steps: 63\n",
            "Number of frequencies: 129\n",
            "Number of time steps: 63\n",
            "Number of frequencies: 129\n",
            "Number of time steps: 63\n",
            "Number of frequencies: 129\n",
            "Number of time steps: 63\n",
            "Number of frequencies: 129\n",
            "Number of time steps: 63\n",
            "Number of frequencies: 129\n",
            "Number of time steps: 63\n",
            "Number of frequencies: 129\n",
            "Number of time steps: 63\n",
            "Number of frequencies: 129\n",
            "Number of time steps: 63\n",
            "Number of frequencies: 129\n",
            "Number of time steps: 63\n",
            "Number of frequencies: 129\n",
            "Number of time steps: 63\n",
            "Number of frequencies: 129\n",
            "Number of time steps: 63\n",
            "Number of frequencies: 129\n",
            "Number of time steps: 63\n",
            "Number of frequencies: 129\n",
            "Number of time steps: 63\n",
            "Number of frequencies: 129\n",
            "Number of time steps: 63\n",
            "Number of frequencies: 129\n",
            "Number of time steps: 63\n",
            "Number of frequencies: 129\n",
            "Number of time steps: 63\n",
            "Number of frequencies: 129\n",
            "Number of time steps: 63\n",
            "Number of frequencies: 129\n",
            "Number of time steps: 63\n",
            "Number of frequencies: 129\n",
            "Number of time steps: 63\n",
            "Number of frequencies: 129\n",
            "Number of time steps: 63\n",
            "Number of frequencies: 129\n",
            "Number of time steps: 63\n",
            "Number of frequencies: 129\n",
            "Number of time steps: 63\n",
            "Number of frequencies: 129\n",
            "Number of time steps: 63\n",
            "Number of frequencies: 129\n",
            "Number of time steps: 63\n",
            "Number of frequencies: 129\n",
            "Number of time steps: 63\n",
            "Number of frequencies: 129\n",
            "Number of time steps: 63\n",
            "Number of frequencies: 129\n",
            "Number of time steps: 63\n",
            "Number of frequencies: 129\n",
            "Number of time steps: 63\n",
            "Number of frequencies: 129\n",
            "Number of time steps: 63\n",
            "Number of frequencies: 129\n",
            "Number of time steps: 63\n",
            "Number of frequencies: 129\n",
            "Number of time steps: 63\n",
            "Number of frequencies: 129\n",
            "Number of time steps: 63\n",
            "Number of frequencies: 129\n",
            "Number of time steps: 63\n",
            "Number of frequencies: 129\n",
            "Number of time steps: 63\n",
            "Number of frequencies: 129\n",
            "Number of time steps: 63\n",
            "Number of frequencies: 129\n",
            "Number of time steps: 63\n",
            "Number of frequencies: 129\n",
            "Number of time steps: 63\n",
            "Number of frequencies: 129\n",
            "Number of time steps: 63\n",
            "Number of frequencies: 129\n",
            "Number of time steps: 63\n",
            "Number of frequencies: 129\n",
            "Number of time steps: 63\n",
            "Number of frequencies: 129\n",
            "Number of time steps: 63\n",
            "Number of frequencies: 129\n",
            "Number of time steps: 63\n",
            "Number of frequencies: 129\n",
            "Number of time steps: 63\n",
            "Number of frequencies: 129\n",
            "Number of time steps: 63\n",
            "Number of frequencies: 129\n",
            "Number of time steps: 63\n",
            "Number of frequencies: 129\n",
            "Number of time steps: 63\n",
            "Number of frequencies: 129\n",
            "Number of time steps: 63\n",
            "Number of frequencies: 129\n",
            "Number of time steps: 63\n",
            "Number of frequencies: 129\n",
            "Number of time steps: 63\n",
            "Number of frequencies: 129\n",
            "Number of time steps: 63\n",
            "Number of frequencies: 129\n",
            "Number of time steps: 63\n",
            "Number of frequencies: 129\n",
            "Number of time steps: 63\n",
            "Number of frequencies: 129\n",
            "Number of time steps: 63\n",
            "Number of frequencies: 129\n",
            "Number of time steps: 63\n",
            "Number of frequencies: 129\n",
            "Number of time steps: 63\n",
            "Number of frequencies: 129\n",
            "Number of time steps: 63\n",
            "Number of frequencies: 129\n",
            "Number of time steps: 63\n",
            "Number of frequencies: 129\n",
            "Number of time steps: 63\n",
            "Number of frequencies: 129\n",
            "Number of time steps: 63\n",
            "Number of frequencies: 129\n",
            "Number of time steps: 63\n",
            "Number of frequencies: 129\n",
            "Number of time steps: 63\n",
            "Number of frequencies: 129\n",
            "Number of time steps: 63\n",
            "Number of frequencies: 129\n",
            "Number of time steps: 63\n",
            "Number of frequencies: 129\n",
            "Number of time steps: 63\n",
            "Number of frequencies: 129\n",
            "Number of time steps: 63\n",
            "Number of frequencies: 129\n",
            "Number of time steps: 63\n",
            "Number of frequencies: 129\n",
            "Number of time steps: 63\n",
            "Number of frequencies: 129\n",
            "Number of time steps: 63\n",
            "Number of frequencies: 129\n",
            "Number of time steps: 63\n",
            "Number of frequencies: 129\n",
            "Number of time steps: 63\n",
            "Number of frequencies: 129\n",
            "Number of time steps: 63\n",
            "Number of frequencies: 129\n",
            "Number of time steps: 63\n",
            "Number of frequencies: 129\n",
            "Number of time steps: 63\n",
            "Number of frequencies: 129\n",
            "Number of time steps: 63\n",
            "Number of frequencies: 129\n",
            "Number of time steps: 63\n",
            "Number of frequencies: 129\n",
            "Number of time steps: 63\n",
            "Number of frequencies: 129\n",
            "Number of time steps: 63\n",
            "Number of frequencies: 129\n",
            "Number of time steps: 63\n",
            "Number of frequencies: 129\n",
            "Number of time steps: 63\n",
            "Number of frequencies: 129\n",
            "Number of time steps: 63\n",
            "Number of frequencies: 129\n",
            "Number of time steps: 63\n",
            "Number of frequencies: 129\n",
            "Number of time steps: 63\n",
            "Number of frequencies: 129\n",
            "Number of time steps: 63\n",
            "Number of frequencies: 129\n",
            "Number of time steps: 63\n",
            "Number of frequencies: 129\n",
            "Number of time steps: 63\n",
            "Number of frequencies: 129\n",
            "Number of time steps: 63\n",
            "Number of frequencies: 129\n",
            "Number of time steps: 63\n",
            "Number of frequencies: 129\n",
            "Number of time steps: 63\n",
            "Number of frequencies: 129\n",
            "Number of time steps: 63\n",
            "Number of frequencies: 129\n",
            "Number of time steps: 63\n",
            "Number of frequencies: 129\n",
            "Number of time steps: 63\n",
            "Number of frequencies: 129\n",
            "Number of time steps: 63\n",
            "Number of frequencies: 129\n",
            "Number of time steps: 63\n",
            "Number of frequencies: 129\n",
            "Number of time steps: 63\n",
            "Number of frequencies: 129\n",
            "Number of time steps: 63\n",
            "Number of frequencies: 129\n",
            "Number of time steps: 63\n",
            "Number of frequencies: 129\n",
            "Number of time steps: 63\n",
            "Number of frequencies: 129\n",
            "Number of time steps: 63\n",
            "Number of frequencies: 129\n",
            "Number of time steps: 63\n",
            "Number of frequencies: 129\n",
            "Number of time steps: 63\n",
            "Number of frequencies: 129\n",
            "Number of time steps: 63\n",
            "Number of frequencies: 129\n",
            "Number of time steps: 63\n",
            "Number of frequencies: 129\n",
            "Number of time steps: 63\n",
            "Number of frequencies: 129\n",
            "Number of time steps: 63\n",
            "Number of frequencies: 129\n",
            "Number of time steps: 63\n",
            "Number of frequencies: 129\n",
            "Number of time steps: 63\n",
            "Number of frequencies: 129\n",
            "Number of time steps: 63\n",
            "Number of frequencies: 129\n",
            "Number of time steps: 63\n",
            "Number of frequencies: 129\n",
            "Number of time steps: 63\n",
            "Number of frequencies: 129\n",
            "Number of time steps: 63\n",
            "Number of frequencies: 129\n",
            "Number of time steps: 63\n",
            "Number of frequencies: 129\n",
            "Number of time steps: 63\n",
            "Number of frequencies: 129\n",
            "Number of time steps: 63\n",
            "Number of frequencies: 129\n",
            "Number of time steps: 63\n",
            "Number of frequencies: 129\n",
            "Number of time steps: 63\n",
            "Number of frequencies: 129\n",
            "Number of time steps: 63\n",
            "Number of frequencies: 129\n",
            "Number of time steps: 63\n",
            "Number of frequencies: 129\n",
            "Number of time steps: 63\n",
            "Number of frequencies: 129\n",
            "Number of time steps: 63\n",
            "Number of frequencies: 129\n",
            "Number of time steps: 63\n",
            "Number of frequencies: 129\n",
            "Number of time steps: 63\n",
            "Number of frequencies: 129\n",
            "Number of time steps: 63\n",
            "Number of frequencies: 129\n",
            "Number of time steps: 63\n",
            "Number of frequencies: 129\n",
            "Number of time steps: 63\n",
            "Number of frequencies: 129\n",
            "Number of time steps: 63\n",
            "Number of frequencies: 129\n",
            "Number of time steps: 63\n",
            "Number of frequencies: 129\n",
            "Number of time steps: 63\n",
            "Number of frequencies: 129\n",
            "Number of time steps: 63\n",
            "Number of frequencies: 129\n",
            "Number of time steps: 63\n",
            "Number of frequencies: 129\n",
            "Number of time steps: 63\n",
            "Number of frequencies: 129\n",
            "Number of time steps: 63\n",
            "Number of frequencies: 129\n",
            "Number of time steps: 63\n",
            "Number of frequencies: 129\n",
            "Number of time steps: 63\n",
            "Number of frequencies: 129\n",
            "Number of time steps: 63\n",
            "Number of frequencies: 129\n",
            "Number of time steps: 63\n",
            "Number of frequencies: 129\n",
            "Number of time steps: 63\n",
            "Number of frequencies: 129\n",
            "Number of time steps: 63\n",
            "Number of frequencies: 129\n",
            "Number of time steps: 63\n",
            "Number of frequencies: 129\n",
            "Number of time steps: 63\n",
            "Number of frequencies: 129\n",
            "Number of time steps: 63\n",
            "Number of frequencies: 129\n",
            "Number of time steps: 63\n",
            "Number of frequencies: 129\n",
            "Number of time steps: 63\n",
            "Number of frequencies: 129\n",
            "Number of time steps: 63\n",
            "Number of frequencies: 129\n",
            "Number of time steps: 63\n",
            "Number of frequencies: 129\n",
            "Number of time steps: 63\n",
            "Number of frequencies: 129\n",
            "Number of time steps: 63\n",
            "Number of frequencies: 129\n",
            "Number of time steps: 63\n",
            "Number of frequencies: 129\n",
            "Number of time steps: 63\n",
            "Number of frequencies: 129\n",
            "Number of time steps: 63\n",
            "Number of frequencies: 129\n",
            "Number of time steps: 63\n",
            "Number of frequencies: 129\n",
            "Number of time steps: 63\n",
            "Number of frequencies: 129\n",
            "Number of time steps: 63\n",
            "Number of frequencies: 129\n",
            "Number of time steps: 63\n",
            "Number of frequencies: 129\n",
            "Number of time steps: 63\n",
            "Number of frequencies: 129\n",
            "Number of time steps: 63\n",
            "Number of frequencies: 129\n",
            "Number of time steps: 63\n",
            "Number of frequencies: 129\n",
            "Number of time steps: 63\n",
            "Number of frequencies: 129\n",
            "Number of time steps: 63\n",
            "Number of frequencies: 129\n",
            "Number of time steps: 63\n",
            "Number of frequencies: 129\n",
            "Number of time steps: 63\n",
            "Number of frequencies: 129\n",
            "Number of time steps: 63\n",
            "Number of frequencies: 129\n",
            "Number of time steps: 63\n",
            "Number of frequencies: 129\n",
            "Number of time steps: 63\n",
            "Number of frequencies: 129\n",
            "Number of time steps: 63\n",
            "Number of frequencies: 129\n",
            "Number of time steps: 63\n",
            "Number of frequencies: 129\n",
            "Number of time steps: 63\n",
            "Number of frequencies: 129\n",
            "Number of time steps: 63\n",
            "Number of frequencies: 129\n",
            "Number of time steps: 63\n",
            "Number of frequencies: 129\n",
            "Number of time steps: 63\n",
            "Number of frequencies: 129\n",
            "Number of time steps: 63\n",
            "Number of frequencies: 129\n",
            "Number of time steps: 63\n",
            "Number of frequencies: 129\n",
            "Number of time steps: 63\n",
            "Number of frequencies: 129\n",
            "Number of time steps: 63\n",
            "Number of frequencies: 129\n",
            "Number of time steps: 63\n",
            "Number of frequencies: 129\n",
            "Number of time steps: 63\n",
            "Number of frequencies: 129\n",
            "Number of time steps: 63\n",
            "Number of frequencies: 129\n",
            "Number of time steps: 63\n",
            "Number of frequencies: 129\n",
            "Number of time steps: 63\n",
            "Number of frequencies: 129\n",
            "Number of time steps: 63\n",
            "Number of frequencies: 129\n",
            "Number of time steps: 63\n",
            "Number of frequencies: 129\n",
            "Number of time steps: 63\n",
            "Number of frequencies: 129\n",
            "Number of time steps: 63\n",
            "Number of frequencies: 129\n",
            "Number of time steps: 63\n",
            "Number of frequencies: 129\n",
            "Number of time steps: 63\n",
            "Number of frequencies: 129\n",
            "Number of time steps: 63\n",
            "Number of frequencies: 129\n",
            "Number of time steps: 63\n",
            "Number of frequencies: 129\n",
            "Number of time steps: 63\n",
            "Number of frequencies: 129\n",
            "Number of time steps: 63\n",
            "Number of frequencies: 129\n",
            "Number of time steps: 63\n",
            "Number of frequencies: 129\n",
            "Number of time steps: 63\n",
            "Number of frequencies: 129\n",
            "Number of time steps: 63\n",
            "Number of frequencies: 129\n",
            "Number of time steps: 63\n",
            "Number of frequencies: 129\n",
            "Number of time steps: 63\n",
            "Number of frequencies: 129\n",
            "Number of time steps: 63\n",
            "Number of frequencies: 129\n",
            "Number of time steps: 63\n",
            "Number of frequencies: 129\n",
            "Number of time steps: 63\n",
            "Number of frequencies: 129\n",
            "Number of time steps: 63\n",
            "Number of frequencies: 129\n",
            "Number of time steps: 63\n",
            "Number of frequencies: 129\n",
            "Number of time steps: 63\n",
            "Number of frequencies: 129\n",
            "Number of time steps: 63\n",
            "Number of frequencies: 129\n",
            "Number of time steps: 63\n",
            "Number of frequencies: 129\n",
            "Number of time steps: 63\n",
            "Number of frequencies: 129\n",
            "Number of time steps: 63\n",
            "Number of frequencies: 129\n",
            "Number of time steps: 63\n",
            "Number of frequencies: 129\n",
            "Number of time steps: 63\n",
            "Number of frequencies: 129\n",
            "Number of time steps: 63\n",
            "Number of frequencies: 129\n",
            "Number of time steps: 63\n",
            "Number of frequencies: 129\n",
            "Number of time steps: 63\n",
            "Number of frequencies: 129\n",
            "Number of time steps: 63\n",
            "Number of frequencies: 129\n",
            "Number of time steps: 63\n",
            "Number of frequencies: 129\n",
            "Number of time steps: 63\n",
            "Number of frequencies: 129\n",
            "Number of time steps: 63\n",
            "Number of frequencies: 129\n",
            "Number of time steps: 63\n",
            "Number of frequencies: 129\n",
            "Number of time steps: 63\n",
            "Number of frequencies: 129\n",
            "Number of time steps: 63\n",
            "Number of frequencies: 129\n",
            "Number of time steps: 63\n",
            "Number of frequencies: 129\n",
            "Number of time steps: 63\n",
            "Number of frequencies: 129\n",
            "Number of time steps: 63\n",
            "Number of frequencies: 129\n",
            "Number of time steps: 63\n",
            "Number of frequencies: 129\n",
            "Number of time steps: 63\n",
            "Number of frequencies: 129\n",
            "Number of time steps: 63\n",
            "Number of frequencies: 129\n",
            "Number of time steps: 63\n",
            "Number of frequencies: 129\n",
            "Number of time steps: 63\n",
            "Number of frequencies: 129\n",
            "Number of time steps: 63\n",
            "Number of frequencies: 129\n",
            "Number of time steps: 63\n",
            "Number of frequencies: 129\n",
            "Number of time steps: 63\n",
            "Number of frequencies: 129\n",
            "Number of time steps: 63\n",
            "Number of frequencies: 129\n",
            "Number of time steps: 63\n",
            "Number of frequencies: 129\n",
            "Number of time steps: 63\n",
            "Number of frequencies: 129\n",
            "Number of time steps: 63\n",
            "Number of frequencies: 129\n",
            "Number of time steps: 63\n",
            "Number of frequencies: 129\n",
            "Number of time steps: 63\n",
            "Number of frequencies: 129\n",
            "Number of time steps: 63\n",
            "Number of frequencies: 129\n",
            "Number of time steps: 63\n",
            "Number of frequencies: 129\n",
            "Number of time steps: 63\n",
            "Number of frequencies: 129\n",
            "Number of time steps: 63\n",
            "Number of frequencies: 129\n",
            "Number of time steps: 63\n",
            "Number of frequencies: 129\n",
            "Number of time steps: 63\n",
            "Number of frequencies: 129\n",
            "Number of time steps: 63\n",
            "Number of frequencies: 129\n",
            "Number of time steps: 63\n",
            "Number of frequencies: 129\n",
            "Number of time steps: 63\n",
            "Number of frequencies: 129\n",
            "Number of time steps: 63\n",
            "Number of frequencies: 129\n",
            "Number of time steps: 63\n",
            "Number of frequencies: 129\n",
            "Number of time steps: 63\n",
            "Number of frequencies: 129\n",
            "Number of time steps: 63\n",
            "Number of frequencies: 129\n",
            "Number of time steps: 63\n",
            "Number of frequencies: 129\n",
            "Number of time steps: 63\n",
            "Number of frequencies: 129\n",
            "Number of time steps: 63\n",
            "Number of frequencies: 129\n",
            "Number of time steps: 63\n",
            "Number of frequencies: 129\n",
            "Number of time steps: 63\n",
            "Number of frequencies: 129\n",
            "Number of time steps: 63\n",
            "Number of frequencies: 129\n",
            "Number of time steps: 63\n"
          ]
        }
      ]
    },
    {
      "cell_type": "code",
      "metadata": {
        "colab": {
          "base_uri": "https://localhost:8080/"
        },
        "id": "NnmrEbKANJy8",
        "outputId": "35ce1f9f-583f-4d75-d81e-8eb545ac85c5"
      },
      "source": [
        "stft_data.shape"
      ],
      "execution_count": null,
      "outputs": [
        {
          "output_type": "execute_result",
          "data": {
            "text/plain": [
              "(1280, 32, 129, 63)"
            ]
          },
          "metadata": {},
          "execution_count": 7
        }
      ]
    },
    {
      "cell_type": "code",
      "metadata": {
        "id": "NYPAGWNCWZIb"
      },
      "source": [
        "np.save('stft_data',stft_data)"
      ],
      "execution_count": null,
      "outputs": []
    },
    {
      "cell_type": "markdown",
      "metadata": {
        "id": "rqHQaLhyNNLX"
      },
      "source": [
        "# stft download"
      ]
    },
    {
      "cell_type": "code",
      "metadata": {
        "id": "REExCjt5SHDh"
      },
      "source": [
        "import torch, torchvision\n",
        "from torchvision import transforms\n",
        "from torch import nn\n",
        "import numpy as np\n",
        "import sys"
      ],
      "execution_count": 1,
      "outputs": []
    },
    {
      "cell_type": "code",
      "metadata": {
        "id": "0_v4KV-Nqpu9"
      },
      "source": [
        "stft_data = np.load('/content/drive/MyDrive/EEG/DEAP/stft_data.npy')\n",
        "targets = np.load('/content/drive/MyDrive/EEG/DEAP/targets.npy')"
      ],
      "execution_count": 4,
      "outputs": []
    },
    {
      "cell_type": "code",
      "metadata": {
        "colab": {
          "base_uri": "https://localhost:8080/"
        },
        "id": "OZ_eY19MN__-",
        "outputId": "7afddd62-a4d1-47a5-9c6a-6e2ec63fe41f"
      },
      "source": [
        "# valence 0-low ,1 high \n",
        "valence = []\n",
        "mean_valence = np.median(targets[:,0])\n",
        "for i in range(targets.shape[0]):\n",
        "  if targets[i,0] < mean_valence :\n",
        "    valence.append(0)\n",
        "  else :\n",
        "    valence.append(1)\n",
        "valence = np.array(valence)\n",
        "valence.shape"
      ],
      "execution_count": 35,
      "outputs": [
        {
          "output_type": "execute_result",
          "data": {
            "text/plain": [
              "(1280,)"
            ]
          },
          "metadata": {},
          "execution_count": 35
        }
      ]
    },
    {
      "cell_type": "code",
      "metadata": {
        "colab": {
          "base_uri": "https://localhost:8080/"
        },
        "id": "8u_offkJDNTv",
        "outputId": "4f5b901b-b554-4e67-ad24-5153225b3153"
      },
      "source": [
        "valence = np.round(targets[:,0])\n",
        "valence.shape"
      ],
      "execution_count": 10,
      "outputs": [
        {
          "output_type": "execute_result",
          "data": {
            "text/plain": [
              "(1280,)"
            ]
          },
          "metadata": {},
          "execution_count": 10
        }
      ]
    },
    {
      "cell_type": "code",
      "metadata": {
        "id": "bBTrcGYOLKx-"
      },
      "source": [
        "eeg_channels = np.array([\"Fp1\", \"AF3\", \"F3\", \"F7\", \"FC5\", \"FC1\", \"C3\", \"T7\", \"CP5\", \"CP1\", \"P3\", \"P7\", \"PO3\", \"O1\", \"Oz\", \"Pz\", \"Fp2\", \"AF4\", \"Fz\", \"F4\", \"F8\", \"FC6\", \"FC2\", \"Cz\", \"C4\", \"T8\", \"CP6\", \"CP2\", \"P4\", \"P8\", \"PO4\", \"O2\"])\n",
        "peripheral_channels = np.array([\"hEOG\", \"vEOG\", \"zEMG\", \"tEMG\", \"GSR\", \"Respiration belt\", \"Plethysmograph\", \"Temperature\"])"
      ],
      "execution_count": 5,
      "outputs": []
    },
    {
      "cell_type": "code",
      "metadata": {
        "id": "ZRcCgkuOjnyG"
      },
      "source": [
        "eeg_channel = eeg_channels.tolist()"
      ],
      "execution_count": 6,
      "outputs": []
    },
    {
      "cell_type": "code",
      "metadata": {
        "id": "ae1KUFGykMP6"
      },
      "source": [
        "frontal_lobes = ['AF3', 'F7', 'F3', 'FC5', 'T7', 'P7', 'O1', 'O2', 'P8', 'T8', 'FC6', 'F4', 'F8', 'AF4', 'P3', 'P4']"
      ],
      "execution_count": 7,
      "outputs": []
    },
    {
      "cell_type": "code",
      "metadata": {
        "colab": {
          "base_uri": "https://localhost:8080/"
        },
        "id": "b7jN5ix2kVdh",
        "outputId": "0d49c094-e6a2-417f-9765-a07e75078866"
      },
      "source": [
        "fl_chan = []\n",
        "for chan in  frontal_lobes:\n",
        "  if chan in eeg_channel:\n",
        "    fl_chan.append(eeg_channel.index(chan))\n",
        "fl_chan"
      ],
      "execution_count": 8,
      "outputs": [
        {
          "output_type": "execute_result",
          "data": {
            "text/plain": [
              "[1, 3, 2, 4, 7, 11, 13, 31, 29, 25, 21, 19, 20, 17, 10, 28]"
            ]
          },
          "metadata": {},
          "execution_count": 8
        }
      ]
    },
    {
      "cell_type": "code",
      "metadata": {
        "colab": {
          "base_uri": "https://localhost:8080/"
        },
        "id": "88iPbixmnSpW",
        "outputId": "97017fca-17d2-4046-e25a-720180b0dab0"
      },
      "source": [
        "len(fl_chan)"
      ],
      "execution_count": null,
      "outputs": [
        {
          "output_type": "execute_result",
          "data": {
            "text/plain": [
              "16"
            ]
          },
          "metadata": {},
          "execution_count": 10
        }
      ]
    },
    {
      "cell_type": "code",
      "metadata": {
        "colab": {
          "base_uri": "https://localhost:8080/"
        },
        "id": "hzDOlLOQlwwH",
        "outputId": "b06aaf8b-e16a-4e7d-8837-7d599a44bfc3"
      },
      "source": [
        "stft_data = stft_data[:,fl_chan,:,:]\n",
        "stft_data.shape"
      ],
      "execution_count": 9,
      "outputs": [
        {
          "output_type": "execute_result",
          "data": {
            "text/plain": [
              "(1280, 16, 129, 63)"
            ]
          },
          "metadata": {},
          "execution_count": 9
        }
      ]
    },
    {
      "cell_type": "markdown",
      "metadata": {
        "id": "qKLCqANut4nk"
      },
      "source": [
        "# split"
      ]
    },
    {
      "cell_type": "code",
      "metadata": {
        "id": "D9npNuAqPblM"
      },
      "source": [
        "#valence = valence.reshape(-1,1)\n",
        "#valence.shape "
      ],
      "execution_count": null,
      "outputs": []
    },
    {
      "cell_type": "code",
      "metadata": {
        "id": "DIxFnrG1Pdw4"
      },
      "source": [
        "train_size = 0.7\n",
        "val_size = 0.1\n",
        "idx = np.arange(0,stft_data.shape[0],1)\n",
        "np.random.shuffle(idx)\n",
        "ts = int(train_size*stft_data.shape[0]) \n",
        "vs = int(val_size*stft_data.shape[0]) \n",
        "idx_train = idx[0:ts]\n",
        "idx_val = idx[ts:ts+vs]\n",
        "idx_test = idx[ts+vs:]"
      ],
      "execution_count": 36,
      "outputs": []
    },
    {
      "cell_type": "code",
      "metadata": {
        "id": "B3ht1LHaPlWT"
      },
      "source": [
        "x_train = stft_data[idx_train]\n",
        "x_val =  stft_data[idx_val]\n",
        "x_test = stft_data[idx_test]\n",
        "\n",
        "y_train = valence[idx_train]\n",
        "y_val = valence[idx_val]\n",
        "y_test = valence[idx_test]"
      ],
      "execution_count": 37,
      "outputs": []
    },
    {
      "cell_type": "code",
      "metadata": {
        "colab": {
          "base_uri": "https://localhost:8080/"
        },
        "id": "fsC1oipfRcXF",
        "outputId": "e931e4b3-792d-4b91-a13e-c360fe95fe0b"
      },
      "source": [
        "print('x_train',x_train.shape)\n",
        "print('x_val',x_val.shape)\n",
        "print('x_test',x_test.shape)\n",
        "\n",
        "print('y_train',y_train.shape)\n",
        "print('y_val',y_val.shape)\n",
        "print('y_test',y_test.shape)"
      ],
      "execution_count": 38,
      "outputs": [
        {
          "output_type": "stream",
          "name": "stdout",
          "text": [
            "x_train (896, 16, 129, 63)\n",
            "x_val (128, 16, 129, 63)\n",
            "x_test (256, 16, 129, 63)\n",
            "y_train (896,)\n",
            "y_val (128,)\n",
            "y_test (256,)\n"
          ]
        }
      ]
    },
    {
      "cell_type": "code",
      "metadata": {
        "colab": {
          "base_uri": "https://localhost:8080/"
        },
        "id": "BqdT3p_xDX0p",
        "outputId": "1ebc2ba2-1cbf-478b-e3f7-dc0a723efac9"
      },
      "source": [
        "len(np.unique(y_test))"
      ],
      "execution_count": 39,
      "outputs": [
        {
          "output_type": "execute_result",
          "data": {
            "text/plain": [
              "2"
            ]
          },
          "metadata": {},
          "execution_count": 39
        }
      ]
    },
    {
      "cell_type": "code",
      "metadata": {
        "id": "LDwdp8b1NlUN"
      },
      "source": [
        "from torch.utils.data import DataLoader\n",
        "from torch.utils.data import TensorDataset\n",
        "\n",
        "batch_size = 50\n",
        "def dataloader(X, y, batch_size):\n",
        "    X_tensor = torch.tensor(X).float()\n",
        "    y_tensor = torch.tensor(y).long()\n",
        "    dataset_tensor = TensorDataset(X_tensor, y_tensor)\n",
        "    return DataLoader(dataset_tensor, batch_size=batch_size, shuffle=True)\n",
        "\n",
        "train_loader = dataloader(x_train, y_train, batch_size)\n",
        "\n",
        "valid_loader = dataloader(x_val, y_val, batch_size)\n",
        "\n",
        "test_loader = dataloader(x_test, y_test, batch_size)"
      ],
      "execution_count": 40,
      "outputs": []
    },
    {
      "cell_type": "code",
      "metadata": {
        "id": "WkhwJT7yGV1V"
      },
      "source": [
        "#Number of frequencies: 129\n",
        "#Number of time steps: 63\n",
        "xp = x_train[0]"
      ],
      "execution_count": 51,
      "outputs": []
    },
    {
      "cell_type": "code",
      "metadata": {
        "colab": {
          "base_uri": "https://localhost:8080/",
          "height": 295
        },
        "id": "bSLSSLJbGFvb",
        "outputId": "b91ade54-b629-4204-edc2-f14af3f199cb"
      },
      "source": [
        "xp[0].shape\n",
        "from scipy import signal\n",
        "plt.pcolormesh(np.linspace(0, 8064 , num= xp.shape[2]),\n",
        "               np.linspace(0, 64 , num= xp.shape[1]),\n",
        "               np.abs(xp[0])\n",
        "               ,vmin=0, \n",
        "               vmax=4, \n",
        "               shading='gouraud')\n",
        "plt.title('STFT Magnitude')\n",
        "plt.ylabel('Frequency [Hz]')\n",
        "plt.xlabel('Samples [sec]')\n",
        "plt.show()"
      ],
      "execution_count": 71,
      "outputs": [
        {
          "output_type": "display_data",
          "data": {
            "image/png": "[encoded data removed]",
            "text/plain": [
              "<Figure size 432x288 with 1 Axes>"
            ]
          },
          "metadata": {
            "needs_background": "light"
          }
        }
      ]
    },
    {
      "cell_type": "code",
      "metadata": {
        "colab": {
          "base_uri": "https://localhost:8080/",
          "height": 226
        },
        "id": "FNeIQ0tHGgP1",
        "outputId": "130fa172-5090-4588-fc09-8e085ce06dc5"
      },
      "source": [
        "df = pd.DataFrame(xp[15])\n",
        "df.head()"
      ],
      "execution_count": 72,
      "outputs": [
        {
          "output_type": "execute_result",
          "data": {
            "text/html": [
              "<div>\n",
              "<style scoped>\n",
              "    .dataframe tbody tr th:only-of-type {\n",
              "        vertical-align: middle;\n",
              "    }\n",
              "\n",
              "    .dataframe tbody tr th {\n",
              "        vertical-align: top;\n",
              "    }\n",
              "\n",
              "    .dataframe thead th {\n",
              "        text-align: right;\n",
              "    }\n",
              "</style>\n",
              "<table border=\"1\" class=\"dataframe\">\n",
              "  <thead>\n",
              "    <tr style=\"text-align: right;\">\n",
              "      <th></th>\n",
              "      <th>0</th>\n",
              "      <th>1</th>\n",
              "      <th>2</th>\n",
              "      <th>3</th>\n",
              "      <th>4</th>\n",
              "      <th>5</th>\n",
              "      <th>6</th>\n",
              "      <th>7</th>\n",
              "      <th>8</th>\n",
              "      <th>9</th>\n",
              "      <th>10</th>\n",
              "      <th>11</th>\n",
              "      <th>12</th>\n",
              "      <th>13</th>\n",
              "      <th>14</th>\n",
              "      <th>15</th>\n",
              "      <th>16</th>\n",
              "      <th>17</th>\n",
              "      <th>18</th>\n",
              "      <th>19</th>\n",
              "      <th>20</th>\n",
              "      <th>21</th>\n",
              "      <th>22</th>\n",
              "      <th>23</th>\n",
              "      <th>24</th>\n",
              "      <th>25</th>\n",
              "      <th>26</th>\n",
              "      <th>27</th>\n",
              "      <th>28</th>\n",
              "      <th>29</th>\n",
              "      <th>30</th>\n",
              "      <th>31</th>\n",
              "      <th>32</th>\n",
              "      <th>33</th>\n",
              "      <th>34</th>\n",
              "      <th>35</th>\n",
              "      <th>36</th>\n",
              "      <th>37</th>\n",
              "      <th>38</th>\n",
              "      <th>39</th>\n",
              "      <th>40</th>\n",
              "      <th>41</th>\n",
              "      <th>42</th>\n",
              "      <th>43</th>\n",
              "      <th>44</th>\n",
              "      <th>45</th>\n",
              "      <th>46</th>\n",
              "      <th>47</th>\n",
              "      <th>48</th>\n",
              "      <th>49</th>\n",
              "      <th>50</th>\n",
              "      <th>51</th>\n",
              "      <th>52</th>\n",
              "      <th>53</th>\n",
              "      <th>54</th>\n",
              "      <th>55</th>\n",
              "      <th>56</th>\n",
              "      <th>57</th>\n",
              "      <th>58</th>\n",
              "      <th>59</th>\n",
              "      <th>60</th>\n",
              "      <th>61</th>\n",
              "      <th>62</th>\n",
              "    </tr>\n",
              "  </thead>\n",
              "  <tbody>\n",
              "    <tr>\n",
              "      <th>0</th>\n",
              "      <td>0.807921</td>\n",
              "      <td>-0.567317</td>\n",
              "      <td>-0.856562</td>\n",
              "      <td>-1.206074</td>\n",
              "      <td>-0.959972</td>\n",
              "      <td>-1.081819</td>\n",
              "      <td>-0.950042</td>\n",
              "      <td>-0.998347</td>\n",
              "      <td>-0.922021</td>\n",
              "      <td>-1.144564</td>\n",
              "      <td>-0.990446</td>\n",
              "      <td>-1.157285</td>\n",
              "      <td>-1.037989</td>\n",
              "      <td>-1.130009</td>\n",
              "      <td>-1.129227</td>\n",
              "      <td>-1.194702</td>\n",
              "      <td>-1.048509</td>\n",
              "      <td>-1.001712</td>\n",
              "      <td>-0.788971</td>\n",
              "      <td>-0.917822</td>\n",
              "      <td>-0.835688</td>\n",
              "      <td>0.343187</td>\n",
              "      <td>-0.898504</td>\n",
              "      <td>0.391555</td>\n",
              "      <td>-0.958318</td>\n",
              "      <td>-0.679499</td>\n",
              "      <td>-1.502728</td>\n",
              "      <td>-0.848980</td>\n",
              "      <td>-1.365402</td>\n",
              "      <td>-0.785066</td>\n",
              "      <td>-0.924780</td>\n",
              "      <td>-1.640685</td>\n",
              "      <td>-0.962676</td>\n",
              "      <td>-1.612341</td>\n",
              "      <td>-0.794934</td>\n",
              "      <td>-0.417906</td>\n",
              "      <td>-0.659328</td>\n",
              "      <td>-0.535880</td>\n",
              "      <td>-0.693283</td>\n",
              "      <td>-0.888014</td>\n",
              "      <td>-0.811035</td>\n",
              "      <td>-1.009808</td>\n",
              "      <td>-0.667631</td>\n",
              "      <td>-0.978760</td>\n",
              "      <td>-0.639215</td>\n",
              "      <td>-0.785266</td>\n",
              "      <td>-0.655482</td>\n",
              "      <td>-0.862193</td>\n",
              "      <td>0.506560</td>\n",
              "      <td>-0.828399</td>\n",
              "      <td>0.392436</td>\n",
              "      <td>-0.747964</td>\n",
              "      <td>-0.719444</td>\n",
              "      <td>-0.844061</td>\n",
              "      <td>-0.760815</td>\n",
              "      <td>-0.889567</td>\n",
              "      <td>-0.884848</td>\n",
              "      <td>-0.992003</td>\n",
              "      <td>-0.885659</td>\n",
              "      <td>-0.858138</td>\n",
              "      <td>-0.811935</td>\n",
              "      <td>-1.005266</td>\n",
              "      <td>9.102281</td>\n",
              "    </tr>\n",
              "    <tr>\n",
              "      <th>1</th>\n",
              "      <td>-0.177178</td>\n",
              "      <td>0.559151</td>\n",
              "      <td>0.261502</td>\n",
              "      <td>-0.102378</td>\n",
              "      <td>0.157060</td>\n",
              "      <td>0.029644</td>\n",
              "      <td>0.168106</td>\n",
              "      <td>0.116075</td>\n",
              "      <td>0.195225</td>\n",
              "      <td>-0.034750</td>\n",
              "      <td>0.124635</td>\n",
              "      <td>-0.048583</td>\n",
              "      <td>0.075058</td>\n",
              "      <td>-0.025940</td>\n",
              "      <td>-0.017652</td>\n",
              "      <td>-0.092529</td>\n",
              "      <td>0.066705</td>\n",
              "      <td>0.110490</td>\n",
              "      <td>0.332678</td>\n",
              "      <td>0.197364</td>\n",
              "      <td>0.285636</td>\n",
              "      <td>1.507927</td>\n",
              "      <td>0.223233</td>\n",
              "      <td>1.558852</td>\n",
              "      <td>0.159160</td>\n",
              "      <td>0.445065</td>\n",
              "      <td>-0.412786</td>\n",
              "      <td>0.269195</td>\n",
              "      <td>-0.270003</td>\n",
              "      <td>0.337951</td>\n",
              "      <td>0.190369</td>\n",
              "      <td>-0.544595</td>\n",
              "      <td>0.151494</td>\n",
              "      <td>-0.515499</td>\n",
              "      <td>0.326452</td>\n",
              "      <td>0.729056</td>\n",
              "      <td>0.470343</td>\n",
              "      <td>0.606899</td>\n",
              "      <td>0.436039</td>\n",
              "      <td>0.230497</td>\n",
              "      <td>0.311369</td>\n",
              "      <td>0.101499</td>\n",
              "      <td>0.455467</td>\n",
              "      <td>0.131814</td>\n",
              "      <td>0.481024</td>\n",
              "      <td>0.334881</td>\n",
              "      <td>0.468241</td>\n",
              "      <td>0.258750</td>\n",
              "      <td>1.675964</td>\n",
              "      <td>0.295387</td>\n",
              "      <td>1.558131</td>\n",
              "      <td>0.375944</td>\n",
              "      <td>0.406009</td>\n",
              "      <td>0.275279</td>\n",
              "      <td>0.361960</td>\n",
              "      <td>0.229334</td>\n",
              "      <td>0.231178</td>\n",
              "      <td>0.121586</td>\n",
              "      <td>0.229584</td>\n",
              "      <td>0.259069</td>\n",
              "      <td>0.307773</td>\n",
              "      <td>0.105563</td>\n",
              "      <td>1.423516</td>\n",
              "    </tr>\n",
              "    <tr>\n",
              "      <th>2</th>\n",
              "      <td>-1.488809</td>\n",
              "      <td>0.352392</td>\n",
              "      <td>0.027553</td>\n",
              "      <td>-0.383195</td>\n",
              "      <td>-0.079268</td>\n",
              "      <td>-0.223838</td>\n",
              "      <td>-0.063275</td>\n",
              "      <td>-0.127829</td>\n",
              "      <td>-0.039661</td>\n",
              "      <td>-0.294558</td>\n",
              "      <td>-0.118736</td>\n",
              "      <td>-0.312355</td>\n",
              "      <td>-0.174708</td>\n",
              "      <td>-0.305291</td>\n",
              "      <td>-0.271379</td>\n",
              "      <td>-0.378877</td>\n",
              "      <td>-0.176146</td>\n",
              "      <td>-0.143321</td>\n",
              "      <td>0.111284</td>\n",
              "      <td>-0.044584</td>\n",
              "      <td>0.065016</td>\n",
              "      <td>1.429210</td>\n",
              "      <td>0.003262</td>\n",
              "      <td>1.486930</td>\n",
              "      <td>-0.075795</td>\n",
              "      <td>0.232553</td>\n",
              "      <td>-0.739086</td>\n",
              "      <td>0.035411</td>\n",
              "      <td>-0.577102</td>\n",
              "      <td>0.121671</td>\n",
              "      <td>-0.051419</td>\n",
              "      <td>-0.847346</td>\n",
              "      <td>-0.094708</td>\n",
              "      <td>-0.817107</td>\n",
              "      <td>0.104153</td>\n",
              "      <td>0.591573</td>\n",
              "      <td>0.274563</td>\n",
              "      <td>0.455875</td>\n",
              "      <td>0.240280</td>\n",
              "      <td>-0.000571</td>\n",
              "      <td>0.094318</td>\n",
              "      <td>-0.153187</td>\n",
              "      <td>0.238956</td>\n",
              "      <td>-0.126460</td>\n",
              "      <td>0.253405</td>\n",
              "      <td>0.108701</td>\n",
              "      <td>0.252858</td>\n",
              "      <td>0.035667</td>\n",
              "      <td>1.610489</td>\n",
              "      <td>0.081194</td>\n",
              "      <td>1.480909</td>\n",
              "      <td>0.162727</td>\n",
              "      <td>0.197450</td>\n",
              "      <td>0.046296</td>\n",
              "      <td>0.144322</td>\n",
              "      <td>-0.000649</td>\n",
              "      <td>-0.008126</td>\n",
              "      <td>-0.124930</td>\n",
              "      <td>-0.013477</td>\n",
              "      <td>0.023207</td>\n",
              "      <td>0.079100</td>\n",
              "      <td>-0.152553</td>\n",
              "      <td>-10.138002</td>\n",
              "    </tr>\n",
              "    <tr>\n",
              "      <th>3</th>\n",
              "      <td>1.769985</td>\n",
              "      <td>0.348512</td>\n",
              "      <td>-0.027494</td>\n",
              "      <td>-0.531638</td>\n",
              "      <td>-0.135548</td>\n",
              "      <td>-0.314000</td>\n",
              "      <td>-0.109531</td>\n",
              "      <td>-0.199715</td>\n",
              "      <td>-0.094288</td>\n",
              "      <td>-0.397341</td>\n",
              "      <td>-0.189682</td>\n",
              "      <td>-0.423167</td>\n",
              "      <td>-0.258855</td>\n",
              "      <td>-0.452607</td>\n",
              "      <td>-0.363673</td>\n",
              "      <td>-0.541300</td>\n",
              "      <td>-0.246733</td>\n",
              "      <td>-0.238447</td>\n",
              "      <td>0.081576</td>\n",
              "      <td>-0.114898</td>\n",
              "      <td>0.040364</td>\n",
              "      <td>1.688062</td>\n",
              "      <td>-0.014146</td>\n",
              "      <td>1.759991</td>\n",
              "      <td>-0.125862</td>\n",
              "      <td>0.220788</td>\n",
              "      <td>-0.981747</td>\n",
              "      <td>-0.019609</td>\n",
              "      <td>-0.781212</td>\n",
              "      <td>0.105010</td>\n",
              "      <td>-0.120337</td>\n",
              "      <td>-1.034251</td>\n",
              "      <td>-0.173103</td>\n",
              "      <td>-1.001750</td>\n",
              "      <td>0.075030</td>\n",
              "      <td>0.739154</td>\n",
              "      <td>0.304006</td>\n",
              "      <td>0.576294</td>\n",
              "      <td>0.269050</td>\n",
              "      <td>-0.046765</td>\n",
              "      <td>0.076041</td>\n",
              "      <td>-0.249220</td>\n",
              "      <td>0.215455</td>\n",
              "      <td>-0.231047</td>\n",
              "      <td>0.205510</td>\n",
              "      <td>0.070276</td>\n",
              "      <td>0.236760</td>\n",
              "      <td>0.007022</td>\n",
              "      <td>1.893890</td>\n",
              "      <td>0.073286</td>\n",
              "      <td>1.740486</td>\n",
              "      <td>0.153307</td>\n",
              "      <td>0.195397</td>\n",
              "      <td>0.002381</td>\n",
              "      <td>0.122886</td>\n",
              "      <td>-0.044940</td>\n",
              "      <td>-0.073247</td>\n",
              "      <td>-0.203116</td>\n",
              "      <td>-0.086754</td>\n",
              "      <td>-0.035730</td>\n",
              "      <td>0.035607</td>\n",
              "      <td>-0.256890</td>\n",
              "      <td>-3.405456</td>\n",
              "    </tr>\n",
              "    <tr>\n",
              "      <th>4</th>\n",
              "      <td>2.118668</td>\n",
              "      <td>0.369257</td>\n",
              "      <td>-0.092584</td>\n",
              "      <td>-0.770623</td>\n",
              "      <td>-0.192120</td>\n",
              "      <td>-0.432166</td>\n",
              "      <td>-0.146545</td>\n",
              "      <td>-0.286431</td>\n",
              "      <td>-0.151079</td>\n",
              "      <td>-0.540248</td>\n",
              "      <td>-0.276284</td>\n",
              "      <td>-0.580862</td>\n",
              "      <td>-0.370636</td>\n",
              "      <td>-0.694561</td>\n",
              "      <td>-0.492183</td>\n",
              "      <td>-0.816208</td>\n",
              "      <td>-0.336270</td>\n",
              "      <td>-0.380890</td>\n",
              "      <td>0.065091</td>\n",
              "      <td>-0.205510</td>\n",
              "      <td>0.045580</td>\n",
              "      <td>2.225316</td>\n",
              "      <td>0.021325</td>\n",
              "      <td>2.325418</td>\n",
              "      <td>-0.158991</td>\n",
              "      <td>0.237851</td>\n",
              "      <td>-1.407798</td>\n",
              "      <td>-0.087849</td>\n",
              "      <td>-1.133888</td>\n",
              "      <td>0.120903</td>\n",
              "      <td>-0.204794</td>\n",
              "      <td>-1.329341</td>\n",
              "      <td>-0.279331</td>\n",
              "      <td>-1.293511</td>\n",
              "      <td>0.068147</td>\n",
              "      <td>1.085151</td>\n",
              "      <td>0.424076</td>\n",
              "      <td>0.871288</td>\n",
              "      <td>0.385023</td>\n",
              "      <td>-0.084323</td>\n",
              "      <td>0.090790</td>\n",
              "      <td>-0.389527</td>\n",
              "      <td>0.199800</td>\n",
              "      <td>-0.392258</td>\n",
              "      <td>0.137261</td>\n",
              "      <td>0.041606</td>\n",
              "      <td>0.251545</td>\n",
              "      <td>0.007780</td>\n",
              "      <td>2.470784</td>\n",
              "      <td>0.119763</td>\n",
              "      <td>2.271372</td>\n",
              "      <td>0.187978</td>\n",
              "      <td>0.237541</td>\n",
              "      <td>-0.037444</td>\n",
              "      <td>0.124461</td>\n",
              "      <td>-0.080868</td>\n",
              "      <td>-0.154133</td>\n",
              "      <td>-0.304770</td>\n",
              "      <td>-0.186471</td>\n",
              "      <td>-0.108223</td>\n",
              "      <td>-0.005898</td>\n",
              "      <td>-0.418262</td>\n",
              "      <td>11.524860</td>\n",
              "    </tr>\n",
              "  </tbody>\n",
              "</table>\n",
              "</div>"
            ],
            "text/plain": [
              "         0         1         2   ...        60        61         62\n",
              "0  0.807921 -0.567317 -0.856562  ... -0.811935 -1.005266   9.102281\n",
              "1 -0.177178  0.559151  0.261502  ...  0.307773  0.105563   1.423516\n",
              "2 -1.488809  0.352392  0.027553  ...  0.079100 -0.152553 -10.138002\n",
              "3  1.769985  0.348512 -0.027494  ...  0.035607 -0.256890  -3.405456\n",
              "4  2.118668  0.369257 -0.092584  ... -0.005898 -0.418262  11.524860\n",
              "\n",
              "[5 rows x 63 columns]"
            ]
          },
          "metadata": {},
          "execution_count": 72
        }
      ]
    },
    {
      "cell_type": "code",
      "metadata": {
        "colab": {
          "base_uri": "https://localhost:8080/",
          "height": 320
        },
        "id": "K9G5m8r-JYHi",
        "outputId": "9dda9259-d31b-4b51-f140-b16a0f279b84"
      },
      "source": [
        "df.describe()"
      ],
      "execution_count": 73,
      "outputs": [
        {
          "output_type": "execute_result",
          "data": {
            "text/html": [
              "<div>\n",
              "<style scoped>\n",
              "    .dataframe tbody tr th:only-of-type {\n",
              "        vertical-align: middle;\n",
              "    }\n",
              "\n",
              "    .dataframe tbody tr th {\n",
              "        vertical-align: top;\n",
              "    }\n",
              "\n",
              "    .dataframe thead th {\n",
              "        text-align: right;\n",
              "    }\n",
              "</style>\n",
              "<table border=\"1\" class=\"dataframe\">\n",
              "  <thead>\n",
              "    <tr style=\"text-align: right;\">\n",
              "      <th></th>\n",
              "      <th>0</th>\n",
              "      <th>1</th>\n",
              "      <th>2</th>\n",
              "      <th>3</th>\n",
              "      <th>4</th>\n",
              "      <th>5</th>\n",
              "      <th>6</th>\n",
              "      <th>7</th>\n",
              "      <th>8</th>\n",
              "      <th>9</th>\n",
              "      <th>10</th>\n",
              "      <th>11</th>\n",
              "      <th>12</th>\n",
              "      <th>13</th>\n",
              "      <th>14</th>\n",
              "      <th>15</th>\n",
              "      <th>16</th>\n",
              "      <th>17</th>\n",
              "      <th>18</th>\n",
              "      <th>19</th>\n",
              "      <th>20</th>\n",
              "      <th>21</th>\n",
              "      <th>22</th>\n",
              "      <th>23</th>\n",
              "      <th>24</th>\n",
              "      <th>25</th>\n",
              "      <th>26</th>\n",
              "      <th>27</th>\n",
              "      <th>28</th>\n",
              "      <th>29</th>\n",
              "      <th>30</th>\n",
              "      <th>31</th>\n",
              "      <th>32</th>\n",
              "      <th>33</th>\n",
              "      <th>34</th>\n",
              "      <th>35</th>\n",
              "      <th>36</th>\n",
              "      <th>37</th>\n",
              "      <th>38</th>\n",
              "      <th>39</th>\n",
              "      <th>40</th>\n",
              "      <th>41</th>\n",
              "      <th>42</th>\n",
              "      <th>43</th>\n",
              "      <th>44</th>\n",
              "      <th>45</th>\n",
              "      <th>46</th>\n",
              "      <th>47</th>\n",
              "      <th>48</th>\n",
              "      <th>49</th>\n",
              "      <th>50</th>\n",
              "      <th>51</th>\n",
              "      <th>52</th>\n",
              "      <th>53</th>\n",
              "      <th>54</th>\n",
              "      <th>55</th>\n",
              "      <th>56</th>\n",
              "      <th>57</th>\n",
              "      <th>58</th>\n",
              "      <th>59</th>\n",
              "      <th>60</th>\n",
              "      <th>61</th>\n",
              "      <th>62</th>\n",
              "    </tr>\n",
              "  </thead>\n",
              "  <tbody>\n",
              "    <tr>\n",
              "      <th>count</th>\n",
              "      <td>129.000000</td>\n",
              "      <td>129.000000</td>\n",
              "      <td>129.000000</td>\n",
              "      <td>129.000000</td>\n",
              "      <td>129.000000</td>\n",
              "      <td>129.000000</td>\n",
              "      <td>129.000000</td>\n",
              "      <td>129.000000</td>\n",
              "      <td>129.000000</td>\n",
              "      <td>129.000000</td>\n",
              "      <td>129.000000</td>\n",
              "      <td>129.000000</td>\n",
              "      <td>129.000000</td>\n",
              "      <td>129.000000</td>\n",
              "      <td>129.000000</td>\n",
              "      <td>129.000000</td>\n",
              "      <td>129.000000</td>\n",
              "      <td>129.000000</td>\n",
              "      <td>129.000000</td>\n",
              "      <td>129.000000</td>\n",
              "      <td>129.000000</td>\n",
              "      <td>129.000000</td>\n",
              "      <td>129.000000</td>\n",
              "      <td>129.000000</td>\n",
              "      <td>129.000000</td>\n",
              "      <td>129.000000</td>\n",
              "      <td>129.000000</td>\n",
              "      <td>129.000000</td>\n",
              "      <td>129.000000</td>\n",
              "      <td>129.000000</td>\n",
              "      <td>129.000000</td>\n",
              "      <td>129.000000</td>\n",
              "      <td>129.000000</td>\n",
              "      <td>129.000000</td>\n",
              "      <td>129.000000</td>\n",
              "      <td>129.000000</td>\n",
              "      <td>129.000000</td>\n",
              "      <td>129.000000</td>\n",
              "      <td>129.000000</td>\n",
              "      <td>129.000000</td>\n",
              "      <td>129.000000</td>\n",
              "      <td>129.000000</td>\n",
              "      <td>129.000000</td>\n",
              "      <td>129.000000</td>\n",
              "      <td>129.000000</td>\n",
              "      <td>129.000000</td>\n",
              "      <td>129.000000</td>\n",
              "      <td>129.000000</td>\n",
              "      <td>129.000000</td>\n",
              "      <td>129.000000</td>\n",
              "      <td>129.000000</td>\n",
              "      <td>129.000000</td>\n",
              "      <td>129.000000</td>\n",
              "      <td>129.000000</td>\n",
              "      <td>129.000000</td>\n",
              "      <td>129.000000</td>\n",
              "      <td>129.000000</td>\n",
              "      <td>129.000000</td>\n",
              "      <td>129.000000</td>\n",
              "      <td>129.000000</td>\n",
              "      <td>129.000000</td>\n",
              "      <td>129.000000</td>\n",
              "      <td>129.000000</td>\n",
              "    </tr>\n",
              "    <tr>\n",
              "      <th>mean</th>\n",
              "      <td>0.000844</td>\n",
              "      <td>-0.018258</td>\n",
              "      <td>-0.003407</td>\n",
              "      <td>0.001232</td>\n",
              "      <td>-0.005576</td>\n",
              "      <td>-0.002967</td>\n",
              "      <td>0.000998</td>\n",
              "      <td>0.007039</td>\n",
              "      <td>-0.000521</td>\n",
              "      <td>-0.005840</td>\n",
              "      <td>-0.002672</td>\n",
              "      <td>0.010834</td>\n",
              "      <td>0.000786</td>\n",
              "      <td>-0.008791</td>\n",
              "      <td>-0.004378</td>\n",
              "      <td>0.001099</td>\n",
              "      <td>0.004497</td>\n",
              "      <td>-0.003018</td>\n",
              "      <td>-0.004180</td>\n",
              "      <td>0.000748</td>\n",
              "      <td>-0.004037</td>\n",
              "      <td>-0.000162</td>\n",
              "      <td>-0.000574</td>\n",
              "      <td>-0.023889</td>\n",
              "      <td>-0.001468</td>\n",
              "      <td>-0.006341</td>\n",
              "      <td>-0.003743</td>\n",
              "      <td>-0.017769</td>\n",
              "      <td>-0.004981</td>\n",
              "      <td>-0.003720</td>\n",
              "      <td>-0.005810</td>\n",
              "      <td>-0.010542</td>\n",
              "      <td>0.001353</td>\n",
              "      <td>0.031866</td>\n",
              "      <td>-0.007151</td>\n",
              "      <td>-0.003358</td>\n",
              "      <td>-0.009712</td>\n",
              "      <td>-0.007311</td>\n",
              "      <td>-0.006073</td>\n",
              "      <td>-0.000220</td>\n",
              "      <td>-0.001315</td>\n",
              "      <td>-0.002600</td>\n",
              "      <td>0.000481</td>\n",
              "      <td>0.000862</td>\n",
              "      <td>-0.009835</td>\n",
              "      <td>-0.005863</td>\n",
              "      <td>-0.005811</td>\n",
              "      <td>-0.006190</td>\n",
              "      <td>-0.000798</td>\n",
              "      <td>0.009153</td>\n",
              "      <td>-0.027101</td>\n",
              "      <td>-0.004070</td>\n",
              "      <td>-0.005377</td>\n",
              "      <td>-0.002213</td>\n",
              "      <td>-0.002796</td>\n",
              "      <td>-0.006544</td>\n",
              "      <td>-0.001753</td>\n",
              "      <td>-0.004930</td>\n",
              "      <td>-0.005505</td>\n",
              "      <td>-0.001647</td>\n",
              "      <td>-0.003945</td>\n",
              "      <td>-0.006810</td>\n",
              "      <td>0.025295</td>\n",
              "    </tr>\n",
              "    <tr>\n",
              "      <th>std</th>\n",
              "      <td>23.865581</td>\n",
              "      <td>22.262373</td>\n",
              "      <td>19.745443</td>\n",
              "      <td>4.293167</td>\n",
              "      <td>5.315720</td>\n",
              "      <td>3.893946</td>\n",
              "      <td>8.062504</td>\n",
              "      <td>3.890089</td>\n",
              "      <td>5.646873</td>\n",
              "      <td>8.711028</td>\n",
              "      <td>11.943623</td>\n",
              "      <td>5.968276</td>\n",
              "      <td>4.103379</td>\n",
              "      <td>4.244813</td>\n",
              "      <td>20.780311</td>\n",
              "      <td>17.107924</td>\n",
              "      <td>7.199234</td>\n",
              "      <td>7.012543</td>\n",
              "      <td>11.893932</td>\n",
              "      <td>9.567490</td>\n",
              "      <td>3.663875</td>\n",
              "      <td>6.791006</td>\n",
              "      <td>28.194376</td>\n",
              "      <td>9.498939</td>\n",
              "      <td>3.880017</td>\n",
              "      <td>5.461209</td>\n",
              "      <td>14.976524</td>\n",
              "      <td>27.621690</td>\n",
              "      <td>6.287017</td>\n",
              "      <td>4.200235</td>\n",
              "      <td>7.310910</td>\n",
              "      <td>7.814231</td>\n",
              "      <td>20.425369</td>\n",
              "      <td>4.977592</td>\n",
              "      <td>10.906229</td>\n",
              "      <td>8.546440</td>\n",
              "      <td>18.343942</td>\n",
              "      <td>8.605659</td>\n",
              "      <td>5.876107</td>\n",
              "      <td>4.594894</td>\n",
              "      <td>5.802179</td>\n",
              "      <td>5.721806</td>\n",
              "      <td>10.333197</td>\n",
              "      <td>20.430707</td>\n",
              "      <td>6.146545</td>\n",
              "      <td>7.345377</td>\n",
              "      <td>6.080737</td>\n",
              "      <td>4.635136</td>\n",
              "      <td>11.114837</td>\n",
              "      <td>34.349135</td>\n",
              "      <td>4.697156</td>\n",
              "      <td>3.789604</td>\n",
              "      <td>6.072818</td>\n",
              "      <td>7.227318</td>\n",
              "      <td>7.023192</td>\n",
              "      <td>6.427419</td>\n",
              "      <td>6.484309</td>\n",
              "      <td>7.277071</td>\n",
              "      <td>8.413613</td>\n",
              "      <td>5.875250</td>\n",
              "      <td>7.493915</td>\n",
              "      <td>4.313331</td>\n",
              "      <td>11.358242</td>\n",
              "    </tr>\n",
              "    <tr>\n",
              "      <th>min</th>\n",
              "      <td>-161.983162</td>\n",
              "      <td>-136.782159</td>\n",
              "      <td>-120.462046</td>\n",
              "      <td>-12.038293</td>\n",
              "      <td>-21.046213</td>\n",
              "      <td>-15.972294</td>\n",
              "      <td>-42.456543</td>\n",
              "      <td>-12.283559</td>\n",
              "      <td>-19.533893</td>\n",
              "      <td>-48.321765</td>\n",
              "      <td>-61.586686</td>\n",
              "      <td>-15.448162</td>\n",
              "      <td>-11.833109</td>\n",
              "      <td>-10.141156</td>\n",
              "      <td>-123.481146</td>\n",
              "      <td>-136.530901</td>\n",
              "      <td>-37.443101</td>\n",
              "      <td>-41.123734</td>\n",
              "      <td>-62.715395</td>\n",
              "      <td>-43.090613</td>\n",
              "      <td>-13.186125</td>\n",
              "      <td>-55.526239</td>\n",
              "      <td>-149.056060</td>\n",
              "      <td>-48.595094</td>\n",
              "      <td>-11.709333</td>\n",
              "      <td>-23.486251</td>\n",
              "      <td>-58.149076</td>\n",
              "      <td>-177.003524</td>\n",
              "      <td>-22.996426</td>\n",
              "      <td>-10.422456</td>\n",
              "      <td>-23.895768</td>\n",
              "      <td>-32.629965</td>\n",
              "      <td>-112.434865</td>\n",
              "      <td>-12.014674</td>\n",
              "      <td>-52.688245</td>\n",
              "      <td>-51.045178</td>\n",
              "      <td>-98.226743</td>\n",
              "      <td>-70.472240</td>\n",
              "      <td>-24.913633</td>\n",
              "      <td>-14.540823</td>\n",
              "      <td>-27.792171</td>\n",
              "      <td>-17.814138</td>\n",
              "      <td>-57.531171</td>\n",
              "      <td>-115.845718</td>\n",
              "      <td>-24.295399</td>\n",
              "      <td>-32.801724</td>\n",
              "      <td>-24.886031</td>\n",
              "      <td>-17.402386</td>\n",
              "      <td>-54.378318</td>\n",
              "      <td>-220.356586</td>\n",
              "      <td>-30.705547</td>\n",
              "      <td>-10.127220</td>\n",
              "      <td>-27.445449</td>\n",
              "      <td>-33.850588</td>\n",
              "      <td>-43.106474</td>\n",
              "      <td>-19.624612</td>\n",
              "      <td>-29.264436</td>\n",
              "      <td>-29.767155</td>\n",
              "      <td>-28.074944</td>\n",
              "      <td>-19.761125</td>\n",
              "      <td>-29.523706</td>\n",
              "      <td>-13.729152</td>\n",
              "      <td>-50.207924</td>\n",
              "    </tr>\n",
              "    <tr>\n",
              "      <th>25%</th>\n",
              "      <td>-1.488809</td>\n",
              "      <td>-1.483754</td>\n",
              "      <td>-1.509877</td>\n",
              "      <td>-1.341963</td>\n",
              "      <td>-2.016303</td>\n",
              "      <td>-1.393632</td>\n",
              "      <td>-1.473756</td>\n",
              "      <td>-1.647362</td>\n",
              "      <td>-2.471019</td>\n",
              "      <td>-2.374121</td>\n",
              "      <td>-1.297133</td>\n",
              "      <td>-2.330990</td>\n",
              "      <td>-1.161127</td>\n",
              "      <td>-1.646406</td>\n",
              "      <td>-2.247214</td>\n",
              "      <td>-1.416015</td>\n",
              "      <td>-1.675737</td>\n",
              "      <td>-1.001712</td>\n",
              "      <td>-1.666782</td>\n",
              "      <td>-1.195349</td>\n",
              "      <td>-1.229002</td>\n",
              "      <td>-0.734066</td>\n",
              "      <td>-0.898504</td>\n",
              "      <td>-2.019200</td>\n",
              "      <td>-1.661717</td>\n",
              "      <td>-1.651978</td>\n",
              "      <td>-3.180855</td>\n",
              "      <td>-2.249385</td>\n",
              "      <td>-1.882808</td>\n",
              "      <td>-1.534506</td>\n",
              "      <td>-1.560130</td>\n",
              "      <td>-1.982556</td>\n",
              "      <td>-2.530751</td>\n",
              "      <td>-1.946604</td>\n",
              "      <td>-1.772771</td>\n",
              "      <td>-1.442793</td>\n",
              "      <td>-1.939295</td>\n",
              "      <td>-1.211008</td>\n",
              "      <td>-0.786962</td>\n",
              "      <td>-1.274909</td>\n",
              "      <td>-2.034596</td>\n",
              "      <td>-1.288241</td>\n",
              "      <td>-1.372839</td>\n",
              "      <td>-1.998467</td>\n",
              "      <td>-1.812453</td>\n",
              "      <td>-1.295861</td>\n",
              "      <td>-1.406423</td>\n",
              "      <td>-1.456143</td>\n",
              "      <td>-1.756616</td>\n",
              "      <td>-2.942962</td>\n",
              "      <td>-1.290549</td>\n",
              "      <td>-1.320845</td>\n",
              "      <td>-1.803691</td>\n",
              "      <td>-1.871528</td>\n",
              "      <td>-2.190399</td>\n",
              "      <td>-2.267191</td>\n",
              "      <td>-2.658326</td>\n",
              "      <td>-1.928291</td>\n",
              "      <td>-1.982859</td>\n",
              "      <td>-1.289842</td>\n",
              "      <td>-2.042318</td>\n",
              "      <td>-1.453840</td>\n",
              "      <td>-2.600670</td>\n",
              "    </tr>\n",
              "    <tr>\n",
              "      <th>50%</th>\n",
              "      <td>0.001104</td>\n",
              "      <td>0.006300</td>\n",
              "      <td>-0.000225</td>\n",
              "      <td>0.002995</td>\n",
              "      <td>-0.004986</td>\n",
              "      <td>-0.008096</td>\n",
              "      <td>-0.000046</td>\n",
              "      <td>-0.004963</td>\n",
              "      <td>0.006833</td>\n",
              "      <td>-0.012665</td>\n",
              "      <td>0.007875</td>\n",
              "      <td>-0.016338</td>\n",
              "      <td>0.001019</td>\n",
              "      <td>-0.007803</td>\n",
              "      <td>0.003072</td>\n",
              "      <td>-0.009513</td>\n",
              "      <td>0.002650</td>\n",
              "      <td>-0.003898</td>\n",
              "      <td>-0.007459</td>\n",
              "      <td>-0.000499</td>\n",
              "      <td>-0.004921</td>\n",
              "      <td>0.001392</td>\n",
              "      <td>0.001108</td>\n",
              "      <td>-0.001473</td>\n",
              "      <td>-0.005382</td>\n",
              "      <td>0.014879</td>\n",
              "      <td>0.005120</td>\n",
              "      <td>0.016408</td>\n",
              "      <td>0.007753</td>\n",
              "      <td>0.009002</td>\n",
              "      <td>-0.004208</td>\n",
              "      <td>0.003536</td>\n",
              "      <td>0.000511</td>\n",
              "      <td>-0.002898</td>\n",
              "      <td>0.010736</td>\n",
              "      <td>0.001074</td>\n",
              "      <td>0.011490</td>\n",
              "      <td>0.005511</td>\n",
              "      <td>0.005810</td>\n",
              "      <td>0.001767</td>\n",
              "      <td>-0.001705</td>\n",
              "      <td>-0.006368</td>\n",
              "      <td>-0.002166</td>\n",
              "      <td>-0.020103</td>\n",
              "      <td>0.002276</td>\n",
              "      <td>-0.009884</td>\n",
              "      <td>-0.000306</td>\n",
              "      <td>-0.010850</td>\n",
              "      <td>0.000505</td>\n",
              "      <td>-0.009550</td>\n",
              "      <td>0.007080</td>\n",
              "      <td>-0.000382</td>\n",
              "      <td>0.007056</td>\n",
              "      <td>0.001509</td>\n",
              "      <td>0.000099</td>\n",
              "      <td>0.000826</td>\n",
              "      <td>-0.003496</td>\n",
              "      <td>-0.000772</td>\n",
              "      <td>0.002766</td>\n",
              "      <td>-0.001268</td>\n",
              "      <td>0.005831</td>\n",
              "      <td>0.004693</td>\n",
              "      <td>-0.123484</td>\n",
              "    </tr>\n",
              "    <tr>\n",
              "      <th>75%</th>\n",
              "      <td>2.118668</td>\n",
              "      <td>1.653746</td>\n",
              "      <td>1.413328</td>\n",
              "      <td>1.264089</td>\n",
              "      <td>0.965291</td>\n",
              "      <td>1.955244</td>\n",
              "      <td>1.377490</td>\n",
              "      <td>1.504786</td>\n",
              "      <td>1.494466</td>\n",
              "      <td>1.777140</td>\n",
              "      <td>3.446837</td>\n",
              "      <td>2.829002</td>\n",
              "      <td>1.988308</td>\n",
              "      <td>1.219964</td>\n",
              "      <td>1.041469</td>\n",
              "      <td>2.638365</td>\n",
              "      <td>0.730073</td>\n",
              "      <td>1.638101</td>\n",
              "      <td>0.629069</td>\n",
              "      <td>1.065989</td>\n",
              "      <td>0.654982</td>\n",
              "      <td>1.566835</td>\n",
              "      <td>1.792018</td>\n",
              "      <td>1.995505</td>\n",
              "      <td>1.077823</td>\n",
              "      <td>1.722483</td>\n",
              "      <td>2.534755</td>\n",
              "      <td>2.291557</td>\n",
              "      <td>2.153570</td>\n",
              "      <td>0.836399</td>\n",
              "      <td>1.330221</td>\n",
              "      <td>2.147835</td>\n",
              "      <td>2.455805</td>\n",
              "      <td>0.875571</td>\n",
              "      <td>1.314524</td>\n",
              "      <td>2.491165</td>\n",
              "      <td>2.033906</td>\n",
              "      <td>1.911777</td>\n",
              "      <td>1.590585</td>\n",
              "      <td>0.532198</td>\n",
              "      <td>2.109168</td>\n",
              "      <td>1.715539</td>\n",
              "      <td>2.264537</td>\n",
              "      <td>1.559318</td>\n",
              "      <td>2.117176</td>\n",
              "      <td>1.482966</td>\n",
              "      <td>1.862280</td>\n",
              "      <td>2.016288</td>\n",
              "      <td>3.360346</td>\n",
              "      <td>3.775293</td>\n",
              "      <td>1.558131</td>\n",
              "      <td>0.791021</td>\n",
              "      <td>1.529579</td>\n",
              "      <td>0.637372</td>\n",
              "      <td>1.161564</td>\n",
              "      <td>0.995403</td>\n",
              "      <td>2.840900</td>\n",
              "      <td>1.059123</td>\n",
              "      <td>1.465596</td>\n",
              "      <td>1.801984</td>\n",
              "      <td>1.294958</td>\n",
              "      <td>1.001688</td>\n",
              "      <td>2.008271</td>\n",
              "    </tr>\n",
              "    <tr>\n",
              "      <th>max</th>\n",
              "      <td>125.400411</td>\n",
              "      <td>108.446378</td>\n",
              "      <td>108.490994</td>\n",
              "      <td>12.376188</td>\n",
              "      <td>21.537133</td>\n",
              "      <td>10.072917</td>\n",
              "      <td>41.611959</td>\n",
              "      <td>13.160894</td>\n",
              "      <td>22.225760</td>\n",
              "      <td>36.764121</td>\n",
              "      <td>74.311193</td>\n",
              "      <td>25.454884</td>\n",
              "      <td>11.717146</td>\n",
              "      <td>21.498801</td>\n",
              "      <td>112.230189</td>\n",
              "      <td>76.138859</td>\n",
              "      <td>34.782673</td>\n",
              "      <td>19.170720</td>\n",
              "      <td>67.072110</td>\n",
              "      <td>55.532205</td>\n",
              "      <td>12.490605</td>\n",
              "      <td>27.999286</td>\n",
              "      <td>196.537679</td>\n",
              "      <td>36.819132</td>\n",
              "      <td>18.150782</td>\n",
              "      <td>23.514419</td>\n",
              "      <td>101.760592</td>\n",
              "      <td>121.633224</td>\n",
              "      <td>18.049821</td>\n",
              "      <td>20.719778</td>\n",
              "      <td>41.354291</td>\n",
              "      <td>28.870339</td>\n",
              "      <td>107.067400</td>\n",
              "      <td>22.769646</td>\n",
              "      <td>39.187896</td>\n",
              "      <td>32.952606</td>\n",
              "      <td>116.012615</td>\n",
              "      <td>26.088620</td>\n",
              "      <td>19.928947</td>\n",
              "      <td>16.007238</td>\n",
              "      <td>19.854587</td>\n",
              "      <td>24.834376</td>\n",
              "      <td>59.449336</td>\n",
              "      <td>150.958544</td>\n",
              "      <td>22.583046</td>\n",
              "      <td>31.580472</td>\n",
              "      <td>24.588762</td>\n",
              "      <td>18.608860</td>\n",
              "      <td>25.820953</td>\n",
              "      <td>203.382596</td>\n",
              "      <td>15.820331</td>\n",
              "      <td>13.447234</td>\n",
              "      <td>24.568484</td>\n",
              "      <td>39.296828</td>\n",
              "      <td>28.224471</td>\n",
              "      <td>25.942649</td>\n",
              "      <td>31.613406</td>\n",
              "      <td>36.352430</td>\n",
              "      <td>46.971185</td>\n",
              "      <td>29.976616</td>\n",
              "      <td>42.230237</td>\n",
              "      <td>22.058984</td>\n",
              "      <td>68.440110</td>\n",
              "    </tr>\n",
              "  </tbody>\n",
              "</table>\n",
              "</div>"
            ],
            "text/plain": [
              "               0           1           2   ...          60          61          62\n",
              "count  129.000000  129.000000  129.000000  ...  129.000000  129.000000  129.000000\n",
              "mean     0.000844   -0.018258   -0.003407  ...   -0.003945   -0.006810    0.025295\n",
              "std     23.865581   22.262373   19.745443  ...    7.493915    4.313331   11.358242\n",
              "min   -161.983162 -136.782159 -120.462046  ...  -29.523706  -13.729152  -50.207924\n",
              "25%     -1.488809   -1.483754   -1.509877  ...   -2.042318   -1.453840   -2.600670\n",
              "50%      0.001104    0.006300   -0.000225  ...    0.005831    0.004693   -0.123484\n",
              "75%      2.118668    1.653746    1.413328  ...    1.294958    1.001688    2.008271\n",
              "max    125.400411  108.446378  108.490994  ...   42.230237   22.058984   68.440110\n",
              "\n",
              "[8 rows x 63 columns]"
            ]
          },
          "metadata": {},
          "execution_count": 73
        }
      ]
    },
    {
      "cell_type": "markdown",
      "metadata": {
        "id": "fst5FFA_CBEq"
      },
      "source": [
        "# try shape conv"
      ]
    },
    {
      "cell_type": "code",
      "metadata": {
        "id": "OAEIWiRG9IYw"
      },
      "source": [
        "layer1 = nn.Sequential(\n",
        "            #in_channel = 1\n",
        "            #out_channel = 16\n",
        "            #padding = (kernel_size - 1) / 2 = 2\n",
        "            nn.Conv2d(32, 64, kernel_size=5, stride=1, padding=2),\n",
        "            nn.BatchNorm2d(64),\n",
        "            nn.ReLU(),\n",
        "            nn.MaxPool2d(kernel_size=2, stride=2)).double()"
      ],
      "execution_count": null,
      "outputs": []
    },
    {
      "cell_type": "code",
      "metadata": {
        "id": "r6x0Mxml_u5G"
      },
      "source": [
        " fc1 = nn.Linear(32*32*15, 2).double()"
      ],
      "execution_count": null,
      "outputs": []
    },
    {
      "cell_type": "code",
      "metadata": {
        "colab": {
          "base_uri": "https://localhost:8080/"
        },
        "id": "gvjG4STg9LUw",
        "outputId": "87263fa7-dc22-457a-885e-f44956bdf59c"
      },
      "source": [
        "a1 = layer1(x_train[:10]).double()\n",
        "a1.shape"
      ],
      "execution_count": null,
      "outputs": [
        {
          "output_type": "execute_result",
          "data": {
            "text/plain": [
              "torch.Size([10, 64, 64, 31])"
            ]
          },
          "metadata": {},
          "execution_count": 34
        }
      ]
    },
    {
      "cell_type": "code",
      "metadata": {
        "colab": {
          "base_uri": "https://localhost:8080/"
        },
        "id": "X8XPYjF5_Szt",
        "outputId": "eaf2ddc0-48e9-4c9a-8725-af1420b63ac4"
      },
      "source": [
        "a1_reshape =  a1.reshape(a1.size(0), -1)\n",
        "a1_reshape.shape"
      ],
      "execution_count": null,
      "outputs": [
        {
          "output_type": "execute_result",
          "data": {
            "text/plain": [
              "torch.Size([10, 31744])"
            ]
          },
          "metadata": {},
          "execution_count": 17
        }
      ]
    },
    {
      "cell_type": "code",
      "metadata": {
        "id": "EzRA8SGuHBdK"
      },
      "source": [
        "l2 = nn.Sequential(\n",
        "            nn.Conv2d(64, 128, kernel_size=5, stride=1, padding=2),\n",
        "            nn.BatchNorm2d(128),\n",
        "            nn.ReLU(),\n",
        "            nn.MaxPool2d(kernel_size=2, stride=2)).double()\n"
      ],
      "execution_count": null,
      "outputs": []
    },
    {
      "cell_type": "code",
      "metadata": {
        "colab": {
          "base_uri": "https://localhost:8080/"
        },
        "id": "kuopsS5gHEwm",
        "outputId": "5199c0e3-9dd3-492e-edcf-b4a8e96e16b2"
      },
      "source": [
        "a2 = l2(a1)\n",
        "a2.shape"
      ],
      "execution_count": null,
      "outputs": [
        {
          "output_type": "execute_result",
          "data": {
            "text/plain": [
              "torch.Size([10, 128, 32, 15])"
            ]
          },
          "metadata": {},
          "execution_count": 36
        }
      ]
    },
    {
      "cell_type": "code",
      "metadata": {
        "colab": {
          "base_uri": "https://localhost:8080/"
        },
        "id": "yX7LELLbHaUr",
        "outputId": "de1ad1b5-76dc-4f39-bd0d-00ac0d31fece"
      },
      "source": [
        "a2_reshape =  a2.reshape(a2.size(0), -1)\n",
        "a2_reshape.shape"
      ],
      "execution_count": null,
      "outputs": [
        {
          "output_type": "execute_result",
          "data": {
            "text/plain": [
              "torch.Size([10, 61440])"
            ]
          },
          "metadata": {},
          "execution_count": 37
        }
      ]
    },
    {
      "cell_type": "code",
      "metadata": {
        "colab": {
          "base_uri": "https://localhost:8080/"
        },
        "id": "2cI3Cr9T_S1v",
        "outputId": "e1fddd96-a482-40a9-a44d-215a6aca7ed2"
      },
      "source": [
        "f1 = fc1(a2_reshape)\n",
        "f1.shape"
      ],
      "execution_count": null,
      "outputs": [
        {
          "output_type": "execute_result",
          "data": {
            "text/plain": [
              "torch.Size([10, 2])"
            ]
          },
          "metadata": {},
          "execution_count": 37
        }
      ]
    },
    {
      "cell_type": "code",
      "metadata": {
        "id": "B9O7nFC0_S3y"
      },
      "source": [
        ""
      ],
      "execution_count": null,
      "outputs": []
    },
    {
      "cell_type": "code",
      "metadata": {
        "id": "Nj5b1U6X_S-w"
      },
      "source": [
        ""
      ],
      "execution_count": null,
      "outputs": []
    },
    {
      "cell_type": "code",
      "metadata": {
        "id": "UhlGFHhC_TA3"
      },
      "source": [
        ""
      ],
      "execution_count": null,
      "outputs": []
    },
    {
      "cell_type": "markdown",
      "metadata": {
        "id": "WKt7RHMeUEaU"
      },
      "source": [
        "# Conv2d model"
      ]
    },
    {
      "cell_type": "code",
      "metadata": {
        "id": "2CPRPr8ft9Ub"
      },
      "source": [
        "num_epochs = 10\n",
        "num_classes = 2\n",
        "learning_rate = 0.001"
      ],
      "execution_count": 42,
      "outputs": []
    },
    {
      "cell_type": "code",
      "metadata": {
        "id": "UpLJT_DENtxy"
      },
      "source": [
        "class ConvNet(nn.Module):\n",
        "    def __init__(self, num_classes=num_classes):\n",
        "        super(ConvNet, self).__init__()\n",
        "        \n",
        "        self.layer1 = nn.Sequential(\n",
        "            nn.Conv2d(stft_data.shape[1], 32, kernel_size=5, stride=1, padding=2),\n",
        "            nn.BatchNorm2d(32),\n",
        "            nn.ReLU(),\n",
        "            nn.MaxPool2d(kernel_size=2, stride=2))\n",
        "        self.layer2 = nn.Sequential(\n",
        "            nn.Conv2d(32, 64, kernel_size=5, stride=1, padding=2),\n",
        "            nn.BatchNorm2d(64),\n",
        "            nn.ReLU(),\n",
        "            nn.MaxPool2d(kernel_size=2, stride=2))\n",
        "        self.layer3 = nn.Sequential(\n",
        "            nn.Conv2d(64, 128, kernel_size=5, stride=1, padding=2),\n",
        "            nn.BatchNorm2d(128),\n",
        "            nn.ReLU(),\n",
        "            nn.MaxPool2d(kernel_size=2, stride=2))\n",
        "        \n",
        "        self.fc = nn.Linear(128*16*7, num_classes)\n",
        "        self.drop_out = nn.Dropout(p=0.5)\n",
        "        \n",
        "    def forward(self, x):\n",
        "        out = self.layer1(x)\n",
        "        out = self.drop_out(out)\n",
        "        out = self.layer2(out)\n",
        "        out = self.drop_out(out)\n",
        "        out = self.layer3(out)\n",
        "        out = self.drop_out(out)\n",
        "\n",
        "        out = out.reshape(out.size(0), -1)   #can also use .view()\n",
        "        out = self.fc(out)\n",
        "        return out"
      ],
      "execution_count": 43,
      "outputs": []
    },
    {
      "cell_type": "code",
      "metadata": {
        "id": "lId1oNleHBFf"
      },
      "source": [
        "#explicitly initialize weights for better learning\n",
        "def initialize_weights(m):\n",
        "    if isinstance(m, nn.Linear):\n",
        "        nn.init.xavier_normal_(m.weight)\n",
        "        nn.init.zeros_(m.bias)\n",
        "    elif isinstance(m, (nn.Conv2d, nn.Conv2d)):\n",
        "        for name, param in m.named_parameters():\n",
        "            if 'bias' in name:\n",
        "                nn.init.zeros_(param)\n",
        "            elif 'weight' in name:\n",
        "                nn.init.kaiming_normal_(param) #<---here"
      ],
      "execution_count": 44,
      "outputs": []
    },
    {
      "cell_type": "code",
      "metadata": {
        "id": "aqsduyBVOMM5",
        "colab": {
          "base_uri": "https://localhost:8080/"
        },
        "outputId": "8024b0dd-0f82-495e-9cd9-867e252d82c3"
      },
      "source": [
        "model = ConvNet(num_classes)\n",
        "model.apply(initialize_weights)"
      ],
      "execution_count": 45,
      "outputs": [
        {
          "output_type": "execute_result",
          "data": {
            "text/plain": [
              "ConvNet(\n",
              "  (layer1): Sequential(\n",
              "    (0): Conv2d(16, 32, kernel_size=(5, 5), stride=(1, 1), padding=(2, 2))\n",
              "    (1): BatchNorm2d(32, eps=1e-05, momentum=0.1, affine=True, track_running_stats=True)\n",
              "    (2): ReLU()\n",
              "    (3): MaxPool2d(kernel_size=2, stride=2, padding=0, dilation=1, ceil_mode=False)\n",
              "  )\n",
              "  (layer2): Sequential(\n",
              "    (0): Conv2d(32, 64, kernel_size=(5, 5), stride=(1, 1), padding=(2, 2))\n",
              "    (1): BatchNorm2d(64, eps=1e-05, momentum=0.1, affine=True, track_running_stats=True)\n",
              "    (2): ReLU()\n",
              "    (3): MaxPool2d(kernel_size=2, stride=2, padding=0, dilation=1, ceil_mode=False)\n",
              "  )\n",
              "  (layer3): Sequential(\n",
              "    (0): Conv2d(64, 128, kernel_size=(5, 5), stride=(1, 1), padding=(2, 2))\n",
              "    (1): BatchNorm2d(128, eps=1e-05, momentum=0.1, affine=True, track_running_stats=True)\n",
              "    (2): ReLU()\n",
              "    (3): MaxPool2d(kernel_size=2, stride=2, padding=0, dilation=1, ceil_mode=False)\n",
              "  )\n",
              "  (fc): Linear(in_features=14336, out_features=2, bias=True)\n",
              "  (drop_out): Dropout(p=0.5, inplace=False)\n",
              ")"
            ]
          },
          "metadata": {},
          "execution_count": 45
        }
      ]
    },
    {
      "cell_type": "code",
      "metadata": {
        "id": "oSERVa66OOB6"
      },
      "source": [
        "# Loss and optimizer\n",
        "criterion = nn.CrossEntropyLoss()\n",
        "optimizer = torch.optim.Adam(model.parameters(), lr=learning_rate)"
      ],
      "execution_count": 46,
      "outputs": []
    },
    {
      "cell_type": "markdown",
      "metadata": {
        "id": "QmtQFB67HCoR"
      },
      "source": [
        "# New Section"
      ]
    },
    {
      "cell_type": "code",
      "metadata": {
        "id": "i3DoxwzbHD5n"
      },
      "source": [
        "def binary_accuracy(preds, y):\n",
        "    \"\"\"\n",
        "    Returns accuracy per batch, i.e. if you get 8/10 right, this returns 0.8, NOT 8\n",
        "    \"\"\"\n",
        "    #round predictions to the closest integer\n",
        "    rounded_preds = torch.round(torch.sigmoid(preds))\n",
        "    correct = (rounded_preds == y).float() #convert into float for division \n",
        "    acc = correct.sum() / len(correct)\n",
        "    return acc"
      ],
      "execution_count": null,
      "outputs": []
    },
    {
      "cell_type": "code",
      "metadata": {
        "id": "GmDNJwRPngq0"
      },
      "source": [
        "def cnn_acc(preds,y):\n",
        "    _, predicted = torch.max(preds.data, 1)\n",
        "    correct = (predicted == y).sum()\n",
        "    acc = correct / y.size(0)\n",
        "    return acc"
      ],
      "execution_count": 24,
      "outputs": []
    },
    {
      "cell_type": "code",
      "metadata": {
        "id": "3FSWRgBWHD71"
      },
      "source": [
        "def train(model, loader, optimizer, criterion):\n",
        "    epoch_loss = 0\n",
        "    epoch_acc = 0\n",
        "    model.train() #useful for batchnorm and dropout\n",
        "    for i, (features, label) in enumerate(loader): \n",
        "                \n",
        "        #predict\n",
        "        predictions = model(features)\n",
        "        #calculate loss\n",
        "        loss = criterion(predictions, label)\n",
        "        acc = cnn_acc(predictions, label)\n",
        "        \n",
        "        #backprop\n",
        "        optimizer.zero_grad()\n",
        "        loss.backward()\n",
        "        optimizer.step()\n",
        "        \n",
        "        epoch_loss += loss.item()\n",
        "        epoch_acc += acc.item()\n",
        "                \n",
        "    return epoch_loss / len(loader), epoch_acc / len(loader)"
      ],
      "execution_count": 25,
      "outputs": []
    },
    {
      "cell_type": "code",
      "metadata": {
        "id": "AzpTJ8PsHECb"
      },
      "source": [
        "def evaluate(model, loader, criterion):\n",
        "    epoch_loss = 0\n",
        "    epoch_acc = 0\n",
        "    model.eval()\n",
        "    \n",
        "    with torch.no_grad():\n",
        "        for i, (features, label) in enumerate(loader): \n",
        "\n",
        "\n",
        "            predictions = model(features)\n",
        "            \n",
        "            loss = criterion(predictions, label)\n",
        "            acc = cnn_acc(predictions, label)\n",
        "\n",
        "            epoch_loss += loss.item()\n",
        "            epoch_acc += acc.item()\n",
        "        \n",
        "    return epoch_loss / len(loader), epoch_acc / len(loader)"
      ],
      "execution_count": 26,
      "outputs": []
    },
    {
      "cell_type": "code",
      "metadata": {
        "id": "UUU7RGL0HEEt",
        "colab": {
          "base_uri": "https://localhost:8080/"
        },
        "outputId": "5c35eb8e-89fa-4082-c6de-36ae5a682ede"
      },
      "source": [
        "best_valid_loss = float('inf')\n",
        "\n",
        "train_losses = []\n",
        "train_accs = []\n",
        "valid_losses = []\n",
        "valid_accs = []\n",
        "for epoch in range(num_epochs):\n",
        "\n",
        "    train_loss,train_acc = train(model, train_loader, optimizer, criterion)\n",
        "    valid_loss,valid_acc = evaluate(model, valid_loader, criterion)\n",
        "    \n",
        "    #for plotting\n",
        "    train_losses.append(train_loss)\n",
        "    train_accs.append(train_acc)\n",
        "    valid_losses.append(valid_loss)\n",
        "    valid_accs.append(valid_acc)\n",
        "    \n",
        "    if valid_loss < best_valid_loss:\n",
        "        best_valid_loss = valid_loss\n",
        "        torch.save(model.state_dict(),'tensor.pt')\n",
        "    \n",
        "    print(f'Epoch: {epoch+1:02} | Train Loss: {train_loss:.3f} | Train Acc: {train_acc*100:.2f}%')\n",
        "    print(f'\\t Val. Loss: {valid_loss:.3f} |  Val. Acc: {valid_acc*100:.2f}%')"
      ],
      "execution_count": 47,
      "outputs": [
        {
          "output_type": "stream",
          "name": "stdout",
          "text": [
            "Epoch: 01 | Train Loss: 1.607 | Train Acc: 51.82%\n",
            "\t Val. Loss: 0.903 |  Val. Acc: 58.62%\n",
            "Epoch: 02 | Train Loss: 1.186 | Train Acc: 52.76%\n",
            "\t Val. Loss: 0.829 |  Val. Acc: 56.24%\n",
            "Epoch: 03 | Train Loss: 1.162 | Train Acc: 53.58%\n",
            "\t Val. Loss: 0.779 |  Val. Acc: 57.86%\n",
            "Epoch: 04 | Train Loss: 1.213 | Train Acc: 54.37%\n",
            "\t Val. Loss: 1.194 |  Val. Acc: 55.71%\n",
            "Epoch: 05 | Train Loss: 1.235 | Train Acc: 53.08%\n",
            "\t Val. Loss: 0.854 |  Val. Acc: 55.86%\n",
            "Epoch: 06 | Train Loss: 1.186 | Train Acc: 53.28%\n",
            "\t Val. Loss: 0.758 |  Val. Acc: 44.29%\n",
            "Epoch: 07 | Train Loss: 0.935 | Train Acc: 49.97%\n",
            "\t Val. Loss: 0.944 |  Val. Acc: 40.71%\n",
            "Epoch: 08 | Train Loss: 1.001 | Train Acc: 54.67%\n",
            "\t Val. Loss: 0.802 |  Val. Acc: 50.95%\n",
            "Epoch: 09 | Train Loss: 1.161 | Train Acc: 52.72%\n",
            "\t Val. Loss: 1.007 |  Val. Acc: 55.05%\n",
            "Epoch: 10 | Train Loss: 0.994 | Train Acc: 54.91%\n",
            "\t Val. Loss: 0.847 |  Val. Acc: 53.71%\n"
          ]
        }
      ]
    },
    {
      "cell_type": "code",
      "metadata": {
        "colab": {
          "base_uri": "https://localhost:8080/",
          "height": 409
        },
        "id": "sYoo5fXpHEG1",
        "outputId": "1ae2a925-8f2c-47b2-fa99-903b1569e479"
      },
      "source": [
        "import matplotlib.pyplot as plt\n",
        "fig = plt.figure(figsize=(10, 6))\n",
        "ax = fig.add_subplot(1, 1, 1)\n",
        "ax.plot(train_losses, label = 'train loss')\n",
        "ax.plot(valid_losses, label = 'valid loss')\n",
        "plt.legend()\n",
        "ax.set_xlabel('updates')\n",
        "ax.set_ylabel('loss')"
      ],
      "execution_count": null,
      "outputs": [
        {
          "output_type": "execute_result",
          "data": {
            "text/plain": [
              "Text(0, 0.5, 'loss')"
            ]
          },
          "metadata": {},
          "execution_count": 61
        },
        {
          "output_type": "display_data",
          "data": {
            "image/png": "[encoded data removed]",
            "text/plain": [
              "<Figure size 720x432 with 1 Axes>"
            ]
          },
          "metadata": {
            "needs_background": "light"
          }
        }
      ]
    },
    {
      "cell_type": "code",
      "metadata": {
        "colab": {
          "base_uri": "https://localhost:8080/",
          "height": 405
        },
        "id": "mOHzYQU2HO5v",
        "outputId": "1af7fd8b-7faa-4c62-f822-8652bce3ac24"
      },
      "source": [
        "fig = plt.figure(figsize=(10, 6))\n",
        "ax = fig.add_subplot(1, 1, 1)\n",
        "ax.plot(train_accs, label = 'train acc')\n",
        "ax.plot(valid_accs, label = 'valid acc')\n",
        "plt.legend()\n",
        "ax.set_xlabel('updates')\n",
        "ax.set_ylabel('acc')"
      ],
      "execution_count": null,
      "outputs": [
        {
          "output_type": "execute_result",
          "data": {
            "text/plain": [
              "Text(0, 0.5, 'acc')"
            ]
          },
          "metadata": {},
          "execution_count": 62
        },
        {
          "output_type": "display_data",
          "data": {
            "image/png": "[encoded data removed]",
            "text/plain": [
              "<Figure size 720x432 with 1 Axes>"
            ]
          },
          "metadata": {
            "needs_background": "light"
          }
        }
      ]
    },
    {
      "cell_type": "code",
      "metadata": {
        "colab": {
          "base_uri": "https://localhost:8080/"
        },
        "id": "VmAk-Nr-HQEU",
        "outputId": "25325fe1-f43c-4391-f6b6-b2a6d3774300"
      },
      "source": [
        "model.load_state_dict(torch.load('tensor.pt'))\n",
        "test_loss , test_acc = evaluate(model, test_loader, criterion)\n",
        "print(f'Test Loss: {test_loss:.3f} | Test Acc: {test_acc*100:.2f}%')"
      ],
      "execution_count": null,
      "outputs": [
        {
          "output_type": "stream",
          "name": "stdout",
          "text": [
            "Test Loss: 0.797 | Test Acc: 48.56%\n"
          ]
        }
      ]
    },
    {
      "cell_type": "markdown",
      "metadata": {
        "id": "bDEDa7aAn9cm"
      },
      "source": [
        "# New Section"
      ]
    },
    {
      "cell_type": "markdown",
      "metadata": {
        "id": "NHGkVlWAsxE1"
      },
      "source": [
        "# New Section"
      ]
    },
    {
      "cell_type": "code",
      "metadata": {
        "colab": {
          "base_uri": "https://localhost:8080/"
        },
        "id": "bfweTNKiOQJh",
        "outputId": "e36e0bd1-63e5-4a51-ef05-98b51433bbe6"
      },
      "source": [
        "# Train the model\n",
        "total_step = len(x_train)\n",
        "loss_list = []\n",
        "for epoch in range(num_epochs):\n",
        "    ii = 0\n",
        "    for i in range(16):\n",
        "        xtrain = x_train[ii:ii+56]\n",
        "        ytrain = y_train[ii:ii+56]\n",
        "        outputs = model(xtrain)\n",
        "        loss = criterion(outputs,ytrain )\n",
        "        ii+=56\n",
        "        # Backward and optimize\n",
        "        optimizer.zero_grad()\n",
        "        loss.backward()\n",
        "        optimizer.step()\n",
        "        if (i+1) % 1 == 0:\n",
        "            sys.stdout.write ('\\rEpoch [{}/{}], Step [{}/{}], Loss: {:.4f}' \n",
        "                   .format(epoch+1, num_epochs, i+1, total_step, loss.item()))\n",
        "        loss_list.append(loss)"
      ],
      "execution_count": null,
      "outputs": [
        {
          "output_type": "stream",
          "name": "stdout",
          "text": [
            "Epoch [3/3], Step [16/896], Loss: 1.0421"
          ]
        }
      ]
    },
    {
      "cell_type": "code",
      "metadata": {
        "colab": {
          "base_uri": "https://localhost:8080/"
        },
        "id": "GApYzNGGLWae",
        "outputId": "35dcda89-2970-4a1b-d8d6-4eaf340bc31d"
      },
      "source": [
        "plt.plot(loss_list);"
      ],
      "execution_count": null,
      "outputs": [
        {
          "output_type": "display_data",
          "data": {
            "image/png": "[encoded data removed]",
            "text/plain": [
              "<Figure size 432x288 with 1 Axes>"
            ]
          },
          "metadata": {
            "needs_background": "light"
          }
        }
      ]
    },
    {
      "cell_type": "code",
      "metadata": {
        "id": "DRslbDirOUPu",
        "colab": {
          "base_uri": "https://localhost:8080/"
        },
        "outputId": "d64be30a-ff56-487f-a9b9-273f157cad12"
      },
      "source": [
        "# Test the model\n",
        "model.eval()  # eval mode will turn off the dropout; good to explicitly call when you test\n",
        "all_labels = []\n",
        "all_predicted = []\n",
        "ii=0\n",
        "with torch.no_grad():\n",
        "    correct = 0\n",
        "    total = 0\n",
        "    for i in range(len(x_test)):\n",
        "        outputs = model(x_test[ii:ii+1])\n",
        "        _, predicted = torch.max(outputs.data, 1)\n",
        "        total += y_test[ii:ii+1].size(0)\n",
        "        correct += (predicted == y_test[ii:ii+1]).sum().item()\n",
        "        all_labels.append(y_test.numpy())  #for plotting\n",
        "        all_predicted.append(predicted.numpy())\n",
        "        ii+=1\n",
        "\n",
        "    print('Test Accuracy of the model : {} %'.format(100 * correct / total))\n",
        "\n",
        "# Save the model checkpoint\n",
        "#torch.save(model.state_dict(), 'models/cnn.ckpt')"
      ],
      "execution_count": null,
      "outputs": [
        {
          "output_type": "stream",
          "name": "stdout",
          "text": [
            "Test Accuracy of the model : 53.125 %\n"
          ]
        }
      ]
    },
    {
      "cell_type": "code",
      "metadata": {
        "id": "y9lV_wAHLUbL"
      },
      "source": [
        ""
      ],
      "execution_count": null,
      "outputs": []
    },
    {
      "cell_type": "markdown",
      "metadata": {
        "id": "YsARq8q5k2cB"
      },
      "source": [
        "# New Section"
      ]
    },
    {
      "cell_type": "code",
      "metadata": {
        "id": "bq-CJCnUn1aB"
      },
      "source": [
        "from sklearn.model_selection import train_test_split\n",
        "from torch.utils.data import TensorDataset\n",
        "from torch.utils.data import DataLoader\n",
        "\n",
        "batch_size = 32\n",
        "\n",
        "def create_dataloader(X, y, batch_size):\n",
        "    X_tensor = torch.tensor(X).float()\n",
        "    y_tensor = torch.tensor(y).long()\n",
        "    dataset_tensor = TensorDataset(X_tensor, y_tensor)\n",
        "    dl = torch.utils.data.DataLoader(dataset_tensor, batch_size=batch_size, shuffle=True)\n",
        "    return dl\n",
        "train_loader = create_dataloader(X_train, y_train, batch_size=batch_size)\n",
        "test_loader = create_dataloader(X_test, y_test, batch_size=batch_size)"
      ],
      "execution_count": null,
      "outputs": []
    },
    {
      "cell_type": "code",
      "metadata": {
        "id": "xyae3jWJk2uz"
      },
      "source": [
        "for i in range (X_C5_C6.shape[0]):\n",
        "    print(i+1)\n",
        "    fig = plt.figure(figsize=(10, 20),dpi=80)\n",
        "    gs = fig.add_gridspec(7, hspace=0)\n",
        "    axs = gs.subplots(sharex=True, sharey=True)\n",
        "    fig.suptitle('Sharing both axes')\n",
        "    ax1=axs[0].specgram(X[i][0], NFFT=128, Fs=160, noverlap=120,cmap='jet')\n",
        "    ax2=axs[1].specgram(X[i][1], NFFT=128, Fs=160, noverlap=120,cmap='jet')\n",
        "    ax3=axs[2].specgram(X[i][2], NFFT=128, Fs=160, noverlap=120,cmap='jet')\n",
        "    ax4=axs[3].specgram(X[i][3], NFFT=128, Fs=160, noverlap=120,cmap='jet')\n",
        "    ax5=axs[4].specgram(X[i][4], NFFT=128, Fs=160, noverlap=120,cmap='jet')\n",
        "    ax6=axs[5].specgram(X[i][5], NFFT=128, Fs=160, noverlap=120,cmap='jet')\n",
        "    ax7=axs[6].specgram(X[i][6], NFFT=128, Fs=160, noverlap=120,cmap='jet')\n",
        "    ax7=axs[6].specgram(X[i][6], NFFT=128, Fs=160, noverlap=120,cmap='jet')\n",
        "    axs[0].set_ylim(bottom=0, top=50)\n",
        "    axs[0].axis('off')\n",
        "    axs[1].axis('off')\n",
        "    axs[2].axis('off')\n",
        "    axs[3].axis('off')\n",
        "    axs[4].axis('off')\n",
        "    axs[5].axis('off')\n",
        "    axs[6].axis('off')\n",
        "    fig.savefig('EEG_img/{}.png'.format(i), bbox_inches='tight')\n",
        "print('Done !!!')"
      ],
      "execution_count": null,
      "outputs": []
    },
    {
      "cell_type": "markdown",
      "metadata": {
        "id": "N0rcEHRjpYy3"
      },
      "source": [
        "# Looking for sth in DATASET !!!"
      ]
    },
    {
      "cell_type": "code",
      "metadata": {
        "colab": {
          "base_uri": "https://localhost:8080/"
        },
        "id": "mKlcWrvLpe0s",
        "outputId": "7ad9da4a-08ba-42b9-cdca-5430ac4730d1"
      },
      "source": [
        "!pip install mne\n",
        "import mne\n",
        "from mne.preprocessing import (ICA, create_eog_epochs, create_ecg_epochs, corrmap)\n",
        "from mne.time_frequency import psd_welch\n",
        "from mne.decoding import cross_val_multiscore"
      ],
      "execution_count": null,
      "outputs": [
        {
          "output_type": "stream",
          "name": "stdout",
          "text": [
            "Requirement already satisfied: mne in /usr/local/lib/python3.7/dist-packages (0.24.0)\n",
            "Requirement already satisfied: numpy>=1.15.4 in /usr/local/lib/python3.7/dist-packages (from mne) (1.19.5)\n",
            "Requirement already satisfied: scipy>=1.1.0 in /usr/local/lib/python3.7/dist-packages (from mne) (1.4.1)\n"
          ]
        }
      ]
    },
    {
      "cell_type": "code",
      "metadata": {
        "colab": {
          "base_uri": "https://localhost:8080/",
          "height": 1000
        },
        "id": "I0_t16DVpe29",
        "outputId": "57018569-258a-4aa0-8202-c34ac5a2a052"
      },
      "source": [
        "raw = mne.io.Raw(stft_data)"
      ],
      "execution_count": null,
      "outputs": [
        {
          "output_type": "stream",
          "name": "stdout",
          "text": [
            "Opening raw data file [[[[-4.10205271e-01 -2.82937017e-01 -2.76540375e-01 ... -3.20857661e-01\n",
            "    -2.87475184e-01 -2.75093116e-01]\n",
            "   [ 1.75701586e-01  9.59826469e-02  1.02890833e-01 ...  5.79261860e-02\n",
            "     9.20431194e-02  7.25384482e-02]\n",
            "   [ 1.76798324e-01  1.84395433e-02  2.71723786e-02 ... -1.98032226e-02\n",
            "     1.66405619e-02 -9.02627139e-03]\n",
            "   ...\n",
            "   [-3.48679236e-02 -1.27070304e-03  1.04447973e-03 ... -2.91039993e-04\n",
            "    -7.33160824e-04 -9.67199983e-02]\n",
            "   [ 1.07182949e-03 -1.26562957e-03  1.03963319e-03 ... -2.91288356e-04\n",
            "    -7.30917496e-04 -1.04272603e-03]\n",
            "   [ 3.58352525e-02 -1.26392581e-03  1.03800293e-03 ... -2.91266628e-04\n",
            "    -7.30034217e-04  9.65720143e-02]]\n",
            "\n",
            "  [[-5.17288302e-01 -1.60941184e-01 -1.41315084e-01 ... -1.76029367e-01\n",
            "    -1.49476702e-01 -1.64884175e-01]\n",
            "   [ 1.08150358e-01  3.60730685e-02  5.65040713e-02 ...  2.15530715e-02\n",
            "     4.83418420e-02  1.15030362e-02]\n",
            "   [ 3.85455228e-01 -5.54418784e-03  1.75594010e-02 ... -1.80255823e-02\n",
            "     9.47677253e-03 -4.01266244e-03]\n",
            "   ...\n",
            "   [-8.41516089e-03 -1.27824024e-03  4.29420144e-04 ...  2.12865012e-04\n",
            "    -3.81249589e-04 -9.40358030e-02]\n",
            "   [-3.97011514e-04 -1.27385681e-03  4.26667010e-04 ...  2.10503943e-04\n",
            "    -3.81279699e-04 -1.55936386e-04]\n",
            "   [ 8.47013665e-03 -1.27257561e-03  4.25752728e-04 ...  2.09843913e-04\n",
            "    -3.81185082e-04  9.55100950e-02]]\n",
            "\n",
            "  [[-5.85013951e-01 -6.77406455e-02  7.09082781e-04 ... -2.61487050e-02\n",
            "    -4.16863176e-02 -3.65746411e-02]\n",
            "   [ 8.70161877e-02 -4.01352727e-02  3.11311136e-02 ...  3.97647143e-03\n",
            "    -1.26917295e-02 -3.58795853e-02]\n",
            "   [ 5.77209130e-01 -5.12753713e-02  2.93526466e-02 ...  1.17353083e-03\n",
            "    -1.93565746e-02  2.20675320e-04]\n",
            "   ...\n",
            "   [ 1.07500941e-01 -7.67490048e-04  6.12762812e-04 ...  1.02766504e-04\n",
            "    -1.22233555e-04 -1.52541312e-01]\n",
            "   [-2.17900072e-03 -7.65429386e-04  6.09654496e-04 ...  1.02388550e-04\n",
            "    -1.24605020e-04  3.21383772e-04]\n",
            "   [-1.06976450e-01 -7.64858265e-04  6.08575915e-04 ...  1.02326701e-04\n",
            "    -1.25354815e-04  1.53851585e-01]]\n",
            "\n",
            "  ...\n",
            "\n",
            "  [[ 2.51305251e-01  1.12980828e-01  3.27295447e-02 ...  5.79371372e-02\n",
            "     5.90140754e-02  5.83853278e-01]\n",
            "   [-9.41474207e-02  3.36183626e-02 -4.92514490e-02 ... -2.27886521e-02\n",
            "    -2.20747670e-02  4.45033439e-02]\n",
            "   [-2.39081297e-01  5.39697510e-02 -3.74763785e-02 ... -6.83552573e-03\n",
            "    -7.37394587e-03 -5.28270003e-01]\n",
            "   ...\n",
            "   [ 1.98610048e-01 -4.93967952e-04 -1.66853439e-03 ...  7.65811325e-05\n",
            "    -6.45085876e-04  1.54041833e-01]\n",
            "   [-2.25817630e-03 -4.93703071e-04 -1.66273266e-03 ...  7.60498968e-05\n",
            "    -6.43711981e-04  1.30439851e-03]\n",
            "   [-1.99761590e-01 -4.93467146e-04 -1.66079713e-03 ...  7.58601998e-05\n",
            "    -6.43168197e-04 -1.53774694e-01]]\n",
            "\n",
            "  [[ 6.04695855e-01  1.58568326e-01  8.93341051e-02 ...  1.39931036e-01\n",
            "     9.99037972e-02  5.31137367e-01]\n",
            "   [-7.93749274e-02  1.33481868e-02 -5.83372656e-02 ... -7.01842588e-03\n",
            "    -4.75776109e-02  1.94816114e-03]\n",
            "   [-4.95403349e-01  4.84146110e-02 -3.12875553e-02 ...  2.22547832e-02\n",
            "    -1.98839555e-02 -4.23162565e-01]\n",
            "   ...\n",
            "   [ 5.85417052e-02  5.56646128e-04 -6.64988493e-04 ... -4.46551764e-04\n",
            "    -9.91906721e-04  2.03920012e-01]\n",
            "   [ 6.15314291e-05  5.56027274e-04 -6.61922199e-04 ... -4.45517837e-04\n",
            "    -9.85012890e-04  6.98245644e-04]\n",
            "   [-5.90421294e-02  5.56015013e-04 -6.60930609e-04 ... -4.45119425e-04\n",
            "    -9.82790885e-04 -2.05835193e-01]]\n",
            "\n",
            "  [[ 6.53277494e-01 -1.20472688e-01 -1.59050954e-01 ... -9.93303943e-02\n",
            "    -1.51196712e-01  2.34869747e-01]\n",
            "   [ 4.20412744e-02  6.17547439e-02  2.19731389e-02 ...  8.25771478e-02\n",
            "     2.98558033e-02  8.70358763e-02]\n",
            "   [-7.91975585e-01  2.72210224e-02 -1.65099717e-02 ...  4.68696925e-02\n",
            "    -8.51860655e-03 -3.37978093e-01]\n",
            "   ...\n",
            "   [ 1.45100982e-02  4.81242112e-04 -1.15041039e-03 ... -3.86371653e-04\n",
            "    -2.01453054e-03  1.74467297e-01]\n",
            "   [-8.86782708e-05  4.78842311e-04 -1.14690756e-03 ... -3.85893537e-04\n",
            "    -2.00501029e-03  8.98102468e-04]\n",
            "   [-1.55455427e-02  4.78105775e-04 -1.14583345e-03 ... -3.85732105e-04\n",
            "    -2.00192037e-03 -1.76385050e-01]]]\n",
            "\n",
            "\n",
            " [[[-4.74836661e-02 -8.55060745e-01 -8.95475228e-01 ... -8.63180483e-01\n",
            "    -8.00420679e-01 -5.60396283e-01]\n",
            "   [ 3.94744287e-01  2.94364739e-01  2.53221774e-01 ...  2.86011101e-01\n",
            "     3.50966274e-01  5.03624223e-01]\n",
            "   [-8.02588411e-01  6.51853057e-02  2.16896766e-02 ...  5.60434167e-02\n",
            "     1.28044294e-01 -1.18651442e-01]\n",
            "   ...\n",
            "   [-2.20986018e-01 -6.79023043e-04 -8.02674937e-04 ...  1.31737155e-03\n",
            "    -5.10828751e-04  3.21955687e-01]\n",
            "   [ 4.14998777e-03 -6.73580003e-04 -7.99373423e-04 ...  1.31597661e-03\n",
            "    -5.05229357e-04  4.14110658e-03]\n",
            "   [ 2.21251696e-01 -6.71724835e-04 -7.98040099e-04 ...  1.31556065e-03\n",
            "    -5.03413350e-04 -3.21071403e-01]]\n",
            "\n",
            "  [[ 3.98030501e-01 -3.20023405e-01 -3.82174898e-01 ... -3.44949296e-01\n",
            "    -2.66030955e-01  9.63235527e-02]\n",
            "   [ 1.62962664e-01  1.36806594e-01  7.34583046e-02 ...  1.11219861e-01\n",
            "     1.92787622e-01  3.14372078e-01]\n",
            "   [-8.05459609e-01  4.71614132e-02 -2.00881026e-02 ...  1.93234976e-02\n",
            "     1.09267703e-01 -3.35817755e-01]\n",
            "   ...\n",
            "   [-2.20988877e-01  3.43741407e-05 -4.87939066e-04 ...  1.75267285e-03\n",
            "    -2.20276742e-04  2.32216768e-01]\n",
            "   [ 3.29064237e-03  3.42215553e-05 -4.86017467e-04 ...  1.74823463e-03\n",
            "    -2.17395506e-04  2.15697997e-03]\n",
            "   [ 2.21121033e-01  3.42045596e-05 -4.85172121e-04 ...  1.74668845e-03\n",
            "    -2.16537857e-04 -2.31822300e-01]]\n",
            "\n",
            "  [[ 8.26041593e-01 -1.89963933e-01 -2.80319568e-01 ... -2.48988253e-01\n",
            "    -1.40692717e-01 -3.21100922e-02]\n",
            "   [ 7.26435363e-02  1.22749195e-01  3.02825942e-02 ...  6.19925107e-02\n",
            "     1.73938985e-01  2.70182503e-01]\n",
            "   [-1.17380301e+00  6.37677914e-02 -3.54046072e-02 ... -2.87171685e-03\n",
            "     1.20802107e-01 -1.14824380e-01]\n",
            "   ...\n",
            "   [-1.12103451e-01 -5.40199087e-04 -3.46691374e-04 ...  1.07831555e-03\n",
            "    -5.83290237e-04  1.87671698e-01]\n",
            "   [ 1.51863825e-03 -5.35762652e-04 -3.45271916e-04 ...  1.07679926e-03\n",
            "    -5.80698229e-04  1.63569277e-03]\n",
            "   [ 1.12064768e-01 -5.34307725e-04 -3.44713432e-04 ...  1.07623474e-03\n",
            "    -5.79999045e-04 -1.88244343e-01]]\n",
            "\n",
            "  ...\n",
            "\n",
            "  [[-1.33903843e+00  6.83671796e-01  7.37889392e-01 ...  7.59841752e-01\n",
            "     7.17085438e-01  5.99549023e-01]\n",
            "   [-3.03008470e-01 -3.00704506e-01 -2.46173022e-01 ... -2.23390845e-01\n",
            "    -2.66905552e-01 -2.58533925e-01]\n",
            "   [ 2.08314672e+00 -1.06003182e-01 -5.04950577e-02 ... -2.49675462e-02\n",
            "    -7.09268299e-02  5.62015898e-02]\n",
            "   ...\n",
            "   [-6.09521167e-02  3.75432195e-04  5.34257468e-04 ... -5.58119062e-04\n",
            "    -6.03257112e-06  1.84043388e-03]\n",
            "   [ 4.63158972e-04  3.73003296e-04  5.32005365e-04 ... -5.57781042e-04\n",
            "    -7.41614140e-06 -1.26621575e-03]\n",
            "   [ 6.16720624e-02  3.72158357e-04  5.31309006e-04 ... -5.57794891e-04\n",
            "    -7.94130773e-06 -1.93302904e-03]]\n",
            "\n",
            "  [[-1.08819121e+00  1.42682851e+00  1.60483324e+00 ...  1.49952810e+00\n",
            "     1.38483108e+00  1.64165873e+00]\n",
            "   [-6.30260651e-01 -5.65493997e-01 -3.83746292e-01 ... -4.91261599e-01\n",
            "    -6.09941553e-01 -8.70277298e-01]\n",
            "   [ 2.58868962e+00 -1.68728571e-01  2.50620257e-02 ... -8.93549529e-02\n",
            "    -2.20883809e-01 -4.21422183e-01]\n",
            "   ...\n",
            "   [ 1.82627066e-01  2.53568021e-04  3.36035985e-04 ... -1.12365389e-03\n",
            "     3.83830459e-04 -3.76205231e-01]\n",
            "   [-3.27966058e-03  2.54452564e-04  3.34194238e-04 ... -1.11903215e-03\n",
            "     3.82651756e-04 -4.00374672e-03]\n",
            "   [-1.82636554e-01  2.54741125e-04  3.33485673e-04 ... -1.11746422e-03\n",
            "     3.82464889e-04  3.76463516e-01]]\n",
            "\n",
            "  [[-6.34950996e-01  1.57553598e+00  1.70812883e+00 ...  1.60934339e+00\n",
            "     1.56686152e+00  1.96608780e+00]\n",
            "   [-6.33640997e-01 -5.88345230e-01 -4.53422329e-01 ... -5.54277779e-01\n",
            "    -5.98371303e-01 -8.60116927e-01]\n",
            "   [ 2.24409779e+00 -1.55499420e-01 -1.31734743e-02 ... -1.20521757e-01\n",
            "    -1.69868643e-01 -6.94433300e-01]\n",
            "   ...\n",
            "   [ 1.48156769e-02 -4.37714801e-05  4.12841642e-04 ... -1.27089328e-03\n",
            "     1.71617455e-03 -3.14158416e-01]\n",
            "   [-4.69375719e-04 -4.33684611e-05  4.09394382e-04 ... -1.26582543e-03\n",
            "     1.70885882e-03 -3.60235261e-03]\n",
            "   [-1.47387846e-02 -4.33499783e-05  4.07995451e-04 ... -1.26410047e-03\n",
            "     1.70659774e-03  3.14021156e-01]]]\n",
            "\n",
            "\n",
            " [[[ 6.97289801e-02  6.16904362e-01  7.08428159e-01 ...  5.87022123e-01\n",
            "     6.04866861e-01  1.00837529e+00]\n",
            "   [-1.90977560e-01 -2.08399060e-01 -1.13932779e-01 ... -2.38295215e-01\n",
            "    -2.19472422e-01 -3.74567337e-01]\n",
            "   [ 5.16083795e-01 -4.59274535e-02  5.81088825e-02 ... -7.53482761e-02\n",
            "    -5.31461018e-02 -5.13607777e-01]\n",
            "   ...\n",
            "   [-1.45644902e-01 -1.68887711e-04  7.10700389e-04 ...  4.03136212e-04\n",
            "     4.11429465e-04 -3.82679145e-01]\n",
            "   [ 9.01536263e-04 -1.67900558e-04  7.09524973e-04 ...  4.04532304e-04\n",
            "     4.10324874e-04 -5.04698321e-03]\n",
            "   [ 1.46530059e-01 -1.67860686e-04  7.09038789e-04 ...  4.04994401e-04\n",
            "     4.09906082e-04  3.83192390e-01]]\n",
            "\n",
            "  [[ 1.28349451e-01  8.84874985e-01  8.83814967e-01 ...  7.73946920e-01\n",
            "     7.93346651e-01  1.03430880e+00]\n",
            "   [-2.82374658e-01 -2.23627134e-01 -2.24323321e-01 ... -3.36708271e-01\n",
            "    -3.15890768e-01 -4.81833888e-01]\n",
            "   [ 5.98039343e-01 -5.24411615e-04  1.26402645e-04 ... -1.20025208e-01\n",
            "    -9.45700667e-02 -4.04770650e-01]\n",
            "   ...\n",
            "   [-1.47943633e-01  8.82376439e-04  6.92249981e-04 ...  7.83418391e-04\n",
            "     9.59332588e-04 -3.06150207e-01]\n",
            "   [-5.65927718e-04  8.76539992e-04  6.91156818e-04 ...  7.82162220e-04\n",
            "     9.57068895e-04 -4.77536594e-03]\n",
            "   [ 1.48299052e-01  8.74599812e-04  6.90895977e-04 ...  7.81724582e-04\n",
            "     9.56341356e-04  3.07081340e-01]]\n",
            "\n",
            "  [[ 5.54153613e-01  6.55234901e-01  6.16763101e-01 ...  5.51499562e-01\n",
            "     5.47449806e-01  8.15874643e-01]\n",
            "   [-1.80383199e-01 -1.47277718e-01 -1.86145806e-01 ... -2.52632538e-01\n",
            "    -2.55959831e-01 -3.48482559e-01]\n",
            "   [-7.10201881e-02  1.40140115e-02 -2.59735358e-02 ... -9.64859432e-02\n",
            "    -9.74356105e-02 -3.73549171e-01]\n",
            "   ...\n",
            "   [-1.93540565e-01  2.96064305e-03  5.54264067e-04 ...  3.64258783e-04\n",
            "     1.25133705e-03 -2.63131633e-01]\n",
            "   [-2.31923825e-03  2.93926812e-03  5.53299695e-04 ...  3.64931422e-04\n",
            "     1.24803436e-03 -4.55685469e-03]\n",
            "   [ 1.92621140e-01  2.93228463e-03  5.53223180e-04 ...  3.65196219e-04\n",
            "     1.24690155e-03  2.63415252e-01]]\n",
            "\n",
            "  ...\n",
            "\n",
            "  [[-3.93757910e-01 -3.40207100e-01 -2.90590064e-01 ... -2.19804753e-01\n",
            "    -3.10882559e-01  1.65906172e-01]\n",
            "   [ 6.59497861e-02  4.00843171e-02  9.11697273e-02 ...  1.63480399e-01\n",
            "     6.97884060e-02  2.12804695e-01]\n",
            "   [ 9.72450979e-02 -3.98438868e-02  1.59987281e-02 ...  9.27671698e-02\n",
            "    -9.48702984e-03 -3.22886050e-01]\n",
            "   ...\n",
            "   [ 1.75091463e-01 -3.68170407e-04 -9.89465857e-04 ... -1.38419223e-04\n",
            "    -1.71607474e-03  2.42030285e-01]\n",
            "   [-1.78903494e-03 -3.65085748e-04 -9.89925037e-04 ... -1.40408377e-04\n",
            "    -1.70587148e-03  3.17527113e-03]\n",
            "   [-1.76754489e-01 -3.63701884e-04 -9.90345352e-04 ... -1.41078485e-04\n",
            "    -1.70257068e-03 -2.40445190e-01]]\n",
            "\n",
            "  [[-2.40463193e-01 -1.17966243e+00 -1.15755600e+00 ... -1.05947596e+00\n",
            "    -1.04745342e+00 -7.68698282e-01]\n",
            "   [ 4.32854382e-01  3.11181708e-01  3.33827487e-01 ...  4.34454191e-01\n",
            "     4.45849970e-01  5.76645471e-01]\n",
            "   [-7.13733429e-01  8.40854247e-03  3.26268589e-02 ...  1.41601219e-01\n",
            "     1.50903695e-01 -1.17412333e-01]\n",
            "   ...\n",
            "   [-3.65267066e-03 -9.44982652e-04 -2.10354853e-03 ...  1.23343650e-04\n",
            "    -1.63062753e-03  2.23703871e-01]\n",
            "   [ 1.78765624e-03 -9.39031682e-04 -2.10071687e-03 ...  1.22193291e-04\n",
            "    -1.62528753e-03  4.43311940e-03]\n",
            "   [ 1.18426554e-03 -9.37166499e-04 -2.09968741e-03 ...  1.21858613e-04\n",
            "    -1.62352577e-03 -2.23063160e-01]]\n",
            "\n",
            "  [[-2.37720991e-01 -1.35841092e+00 -1.30813497e+00 ... -1.24338583e+00\n",
            "    -1.26843529e+00 -3.36179107e-01]\n",
            "   [ 5.48987456e-01  3.62885170e-01  4.14636991e-01 ...  4.80740951e-01\n",
            "     4.54251405e-01  6.77527732e-01]\n",
            "   [-8.17010144e-01  1.29696858e-02  6.94467191e-02 ...  1.39602730e-01\n",
            "     1.08389660e-01 -7.16438087e-01]\n",
            "   ...\n",
            "   [ 6.78951885e-02 -1.00917588e-03 -1.80413054e-03 ...  3.56421175e-04\n",
            "    -1.86302526e-03  3.49470965e-01]\n",
            "   [ 1.44738753e-03 -1.00283816e-03 -1.80127247e-03 ...  3.56179952e-04\n",
            "    -1.85515941e-03  6.61148013e-03]\n",
            "   [-6.97395300e-02 -1.00054362e-03 -1.80042219e-03 ...  3.56199325e-04\n",
            "    -1.85262091e-03 -3.47804122e-01]]]\n",
            "\n",
            "\n",
            " ...\n",
            "\n",
            "\n",
            " [[[ 3.88101110e-01 -1.17666834e-01 -1.38235195e-01 ... -7.41067451e-02\n",
            "    -1.18053915e-01 -1.38503144e+00]\n",
            "   [ 6.10226013e-02  2.57529925e-02  4.83825914e-03 ...  7.04581436e-02\n",
            "     2.61323338e-02  1.15868862e-01]\n",
            "   [-5.74489435e-01 -4.19645876e-03 -2.60869524e-02 ...  4.36162800e-02\n",
            "    -1.96487134e-03  1.42929582e+00]\n",
            "   ...\n",
            "   [-4.07378236e-03 -2.20629837e-04 -8.19827710e-06 ...  2.30742412e-03\n",
            "    -2.59742268e-04 -3.34724064e-01]\n",
            "   [-1.34250966e-03 -2.16976662e-04 -1.06023088e-05 ...  2.29856658e-03\n",
            "    -2.58685503e-04 -3.31814370e-03]\n",
            "   [ 5.89847120e-03 -2.16495999e-04 -1.14947770e-05 ...  2.29543906e-03\n",
            "    -2.58379973e-04  3.39060845e-01]]\n",
            "\n",
            "  [[ 7.10458849e+00  2.65200365e+00  2.88618376e+00 ...  3.57830808e+00\n",
            "     2.32715127e+00 -8.60760192e+00]\n",
            "   [-9.09072612e-01 -1.25163278e+00 -1.00724561e+00 ... -2.94560801e-01\n",
            "    -1.59323496e+00  2.97898689e+00]\n",
            "   [-5.04347546e+00 -5.20768132e-01 -2.42494484e-01 ...  5.37502230e-01\n",
            "    -9.17066085e-01  1.16126497e+01]\n",
            "   ...\n",
            "   [ 2.86461804e-01  7.73172393e-04 -3.31803628e-03 ...  2.43123570e-03\n",
            "    -2.20218491e-03  4.32668446e+00]\n",
            "   [-5.34438616e-03  7.70125561e-04 -3.32455866e-03 ...  2.40772870e-03\n",
            "    -2.19812630e-03  6.21199488e-02]\n",
            "   [-2.83081094e-01  7.67909660e-04 -3.32639143e-03 ...  2.39897559e-03\n",
            "    -2.19729457e-03 -4.32284908e+00]]\n",
            "\n",
            "  [[-3.39261011e-01 -2.27647938e-01 -2.97790454e-01 ... -6.47828086e-02\n",
            "    -2.06834961e-01 -6.65315268e-01]\n",
            "   [ 5.72267040e-02  9.62348818e-02  2.33635064e-02 ...  2.62853897e-01\n",
            "     1.17170456e-01  4.19407224e-01]\n",
            "   [ 1.72673777e-01  3.55672107e-02 -4.61538398e-02 ...  2.14593597e-01\n",
            "     5.70776581e-02  8.23373545e-01]\n",
            "   ...\n",
            "   [ 1.94768653e-01  6.89821729e-04 -8.52853402e-04 ...  1.04061874e-03\n",
            "    -8.70229006e-05  3.73700824e-01]\n",
            "   [-1.77526910e-03  6.88059661e-04 -8.51398984e-04 ...  1.03423175e-03\n",
            "    -8.73521385e-05  5.68051344e-03]\n",
            "   [-1.94645376e-01  6.87921459e-04 -8.50658660e-04 ...  1.03210856e-03\n",
            "    -8.74627082e-05 -3.71912855e-01]]\n",
            "\n",
            "  ...\n",
            "\n",
            "  [[ 4.15889703e+00  1.69786283e+00  1.98300721e+00 ...  2.12229621e+00\n",
            "     1.48349786e+00 -3.51793965e+00]\n",
            "   [-5.18271267e-01 -8.25077646e-01 -5.28407884e-01 ... -3.85237044e-01\n",
            "    -1.05073582e+00  1.60406276e+00]\n",
            "   [-2.84891337e+00 -3.55508753e-01 -2.09376106e-02 ...  1.34836784e-01\n",
            "    -6.18083229e-01  5.09397462e+00]\n",
            "   ...\n",
            "   [-1.26016769e-02  1.51724738e-03 -1.94357685e-03 ... -1.17373451e-03\n",
            "    -9.08973172e-04  2.75803368e+00]\n",
            "   [-8.61401161e-04  1.51316847e-03 -1.94453807e-03 ... -1.17751083e-03\n",
            "    -9.07362800e-04  3.66867596e-02]\n",
            "   [ 1.27149445e-02  1.51143694e-03 -1.94485619e-03 ... -1.17937761e-03\n",
            "    -9.07065232e-04 -2.75991340e+00]]\n",
            "\n",
            "  [[-1.59363770e+01 -6.58424600e+00 -7.13068488e+00 ... -7.39810500e+00\n",
            "    -6.01576937e+00  1.61646386e+01]\n",
            "   [ 2.34466458e+00  2.85915550e+00  2.28797211e+00 ...  2.01432457e+00\n",
            "     3.45546541e+00 -2.54681173e+00]\n",
            "   [ 1.07959686e+01  1.06713901e+00  4.13974964e-01 ...  1.21361910e-01\n",
            "     1.75494106e+00 -2.10790722e+01]\n",
            "   ...\n",
            "   [ 1.89789047e-02  1.42887120e-04  6.07649797e-04 ... -3.62161126e-03\n",
            "     3.39545855e-03 -5.54489880e+00]\n",
            "   [ 1.24140867e-03  1.46327299e-04  6.20988585e-04 ... -3.58989438e-03\n",
            "     3.38136962e-03 -8.38313151e-02]\n",
            "   [-2.51847001e-02  1.49977607e-04  6.25650744e-04 ... -3.57782003e-03\n",
            "     3.37744258e-03  5.54014963e+00]]\n",
            "\n",
            "  [[-3.72942994e+00 -1.47160232e+00 -1.56515665e+00 ... -1.70387236e+00\n",
            "    -1.37275472e+00  4.19073127e+00]\n",
            "   [ 5.11630567e-01  6.54184140e-01  5.55836129e-01 ...  4.13875853e-01\n",
            "     7.57534233e-01 -6.76796645e-01]\n",
            "   [ 2.53707428e+00  2.52706789e-01  1.38330228e-01 ... -1.33060771e-02\n",
            "     3.71289346e-01 -5.38463308e+00]\n",
            "   ...\n",
            "   [-6.52247969e-02  9.76948607e-05 -7.23374869e-04 ... -2.11900391e-03\n",
            "     6.28150326e-05 -1.27735370e+00]\n",
            "   [ 1.32450585e-03  9.97067162e-05 -7.16204086e-04 ... -2.10646477e-03\n",
            "     5.98962007e-05 -2.07966920e-02]\n",
            "   [ 6.23473542e-02  1.01062092e-04 -7.13805576e-04 ... -2.10213054e-03\n",
            "     5.90112803e-05  1.27403138e+00]]]\n",
            "\n",
            "\n",
            " [[[-8.07652829e-01  5.15600668e-01  5.52058440e-01 ...  5.38642326e-01\n",
            "     5.09376931e-01  3.93211012e-02]\n",
            "   [-3.20698405e-01 -1.85183703e-01 -1.47546228e-01 ... -1.62487369e-01\n",
            "    -1.92514424e-01 -1.38976111e-01]\n",
            "   [ 1.33224624e+00 -4.59956851e-02 -4.64478571e-03 ... -2.41553621e-02\n",
            "    -5.68364540e-02  5.02587489e-01]\n",
            "   ...\n",
            "   [ 2.54966524e-01  3.73356277e-03 -1.40512776e-03 ... -2.70023399e-03\n",
            "    -3.89071345e-03 -1.16018385e-01]\n",
            "   [-4.88681192e-03  3.71835889e-03 -1.40761899e-03 ... -2.68481515e-03\n",
            "    -3.86946253e-03 -3.23680039e-03]\n",
            "   [-2.55654550e-01  3.71261769e-03 -1.40856071e-03 ... -2.67932736e-03\n",
            "    -3.86268874e-03  1.15864344e-01]]\n",
            "\n",
            "  [[ 7.33069286e-01  1.09032735e+00  2.32837809e-01 ...  1.26807825e-01\n",
            "     6.55745078e-01  1.70907001e+00]\n",
            "   [-7.48662627e-01  5.06625229e-01 -3.76924442e-01 ... -4.87042156e-01\n",
            "     5.60976155e-02 -3.54375433e-01]\n",
            "   [-7.70450581e-01  6.89019043e-01 -2.77545219e-01 ... -4.02180744e-01\n",
            "     1.87674149e-01 -1.15966207e+00]\n",
            "   ...\n",
            "   [ 1.88490107e-01 -1.65331206e-03  2.55902166e-03 ... -6.80076776e-04\n",
            "    -8.07461169e-03 -5.38095007e-01]\n",
            "   [-3.30149166e-03 -1.65006870e-03  2.55680823e-03 ... -6.68430685e-04\n",
            "    -8.03532211e-03 -1.30887074e-02]\n",
            "   [-1.88397515e-01 -1.64836040e-03  2.55595208e-03 ... -6.63615209e-04\n",
            "    -8.02274203e-03  5.38773250e-01]]\n",
            "\n",
            "  [[-1.16915364e-01 -2.39408037e-01 -1.28091256e-01 ... -1.75902608e-01\n",
            "    -9.38554268e-02 -5.28741977e-01]\n",
            "   [-3.19922799e-02 -2.70938398e-02  8.79037692e-02 ...  3.65260197e-02\n",
            "     1.21075841e-01  1.13300237e-01]\n",
            "   [ 9.57998443e-03 -7.74779333e-02  4.94672645e-02 ... -1.33270846e-02\n",
            "     7.90352585e-02  4.37236572e-01]\n",
            "   ...\n",
            "   [ 2.08387135e-01 -2.93187223e-04 -7.62562930e-04 ...  8.18916844e-04\n",
            "    -2.98550456e-03  3.99777758e-02]\n",
            "   [-1.73823761e-03 -2.90037871e-04 -7.59011150e-04 ...  8.16269570e-04\n",
            "    -2.97909637e-03 -5.68000915e-04]\n",
            "   [-2.09874548e-01 -2.88853095e-04 -7.57695038e-04 ...  8.15246594e-04\n",
            "    -2.97698228e-03 -3.97232785e-02]]\n",
            "\n",
            "  ...\n",
            "\n",
            "  [[ 3.94212541e-01  6.19033000e-01  7.68071322e-02 ... -3.51326850e-02\n",
            "     2.76122669e-01  1.95335147e+00]\n",
            "   [-2.59743763e-01  3.63048444e-01 -1.96510896e-01 ... -3.10176452e-01\n",
            "     9.48343712e-03 -3.13038684e-01]\n",
            "   [-4.90235733e-01  4.57118573e-01 -1.57737338e-01 ... -2.78424771e-01\n",
            "     6.93804946e-02 -1.80521130e+00]\n",
            "   ...\n",
            "   [-1.59712615e-01 -2.53605019e-03  2.57715831e-03 ... -9.70968100e-04\n",
            "    -1.34011268e-03 -5.39420704e-01]\n",
            "   [ 3.67630195e-03 -2.53142577e-03  2.57132642e-03 ... -9.61709460e-04\n",
            "    -1.32264657e-03 -7.16216915e-03]\n",
            "   [ 1.62749288e-01 -2.52987220e-03  2.56962059e-03 ... -9.57946735e-04\n",
            "    -1.31729273e-03  5.41051773e-01]]\n",
            "\n",
            "  [[-4.12937848e+00 -1.31990723e+00  5.84618950e-01 ...  4.93345417e-01\n",
            "     1.91240328e-01 -2.76004869e+00]\n",
            "   [ 1.09888237e+00 -1.50706113e+00  4.56857315e-01 ...  3.52632741e-01\n",
            "     4.33138431e-02  3.05163539e-01]\n",
            "   [ 5.35338364e+00 -1.60499232e+00  5.49518440e-01 ...  4.04050153e-01\n",
            "     6.84856609e-02  2.59178338e+00]\n",
            "   ...\n",
            "   [-8.60327244e-02  2.40941812e-03 -4.86378400e-03 ... -2.04255123e-03\n",
            "     1.07779128e-03  1.21615572e+00]\n",
            "   [ 2.29940190e-03  2.41240292e-03 -4.85136463e-03 ... -2.03782061e-03\n",
            "     1.02885466e-03  1.89314669e-02]\n",
            "   [ 8.33791719e-02  2.41344674e-03 -4.84753067e-03 ... -2.03853953e-03\n",
            "     1.01313003e-03 -1.21928847e+00]]\n",
            "\n",
            "  [[-1.29159271e+00 -1.59690130e-02  3.96337208e-01 ...  3.85316488e-01\n",
            "     2.96421481e-01 -4.18111034e-01]\n",
            "   [ 2.50088288e-01 -4.10503520e-01  1.44369897e-02 ...  9.77030017e-04\n",
            "    -9.00588425e-02 -7.70082568e-02]\n",
            "   [ 1.84321727e+00 -3.58923199e-01  1.06550188e-01 ...  8.51481031e-02\n",
            "    -1.33601280e-02  5.51093152e-01]\n",
            "   ...\n",
            "   [-1.47153147e-01 -1.13981104e-03  8.47601000e-04 ... -1.04581671e-03\n",
            "     1.24824075e-03  1.31329218e-01]\n",
            "   [ 4.60493908e-03 -1.13567125e-03  8.43319800e-04 ... -1.03968594e-03\n",
            "     1.23491206e-03  5.36686966e-03]\n",
            "   [ 1.49925187e-01 -1.13433385e-03  8.41835170e-04 ... -1.03816814e-03\n",
            "     1.23056588e-03 -1.31837304e-01]]]\n",
            "\n",
            "\n",
            " [[[-3.36965632e-01 -2.79774923e-01 -2.29798130e-01 ... -3.16295633e-01\n",
            "    -2.96087996e-01 -2.88809536e-01]\n",
            "   [ 1.96949124e-01  1.25339829e-01  1.77155488e-01 ...  8.72703837e-02\n",
            "     1.07635384e-01  2.30448091e-01]\n",
            "   [ 2.13513635e-01  4.83135205e-02  1.05708578e-01 ...  4.92475608e-03\n",
            "     2.60782907e-02  1.08829367e-01]\n",
            "   ...\n",
            "   [ 2.19054713e-02 -3.99687332e-04 -2.05579208e-03 ... -1.19580482e-03\n",
            "     1.48871220e-03  1.18155389e-01]\n",
            "   [-3.81742324e-03 -3.95194674e-04 -2.04879287e-03 ... -1.18422301e-03\n",
            "     1.48507936e-03 -1.57928297e-03]\n",
            "   [-2.69711010e-02 -3.93517865e-04 -2.04681874e-03 ... -1.18065057e-03\n",
            "     1.48388640e-03 -1.20998568e-01]]\n",
            "\n",
            "  [[ 4.17846750e-01  4.67350515e-01  1.20324556e+00 ...  2.20458670e-01\n",
            "     1.80899899e-01  1.71959829e+00]\n",
            "   [ 5.55077643e-01 -1.92776531e-01  5.70875125e-01 ... -4.50188741e-01\n",
            "    -4.93063308e-01 -1.69881972e-01]\n",
            "   [ 1.65393909e+00 -6.14963280e-02  7.91462924e-01 ... -3.54820771e-01\n",
            "    -4.07945675e-01 -1.31699512e+00]\n",
            "   ...\n",
            "   [ 3.13245092e-01 -4.31121837e-03 -6.33434345e-03 ... -1.33960920e-03\n",
            "    -1.37965660e-03 -4.87906593e-03]\n",
            "   [-9.15102319e-03 -4.28720387e-03 -6.31523507e-03 ... -1.32470172e-03\n",
            "    -1.36666684e-03 -5.84211541e-03]\n",
            "   [-3.24744352e-01 -4.27981725e-03 -6.30991199e-03 ... -1.32025011e-03\n",
            "    -1.36266749e-03 -6.92565063e-04]]\n",
            "\n",
            "  [[-3.29263810e-01  1.60723329e-02 -3.16752001e-02 ... -1.04156185e-01\n",
            "    -9.84584046e-02 -4.12039572e-01]\n",
            "   [ 4.05714662e-02  5.23787784e-03 -4.43650818e-02 ... -1.19776554e-01\n",
            "    -1.15362319e-01 -1.33982272e-01]\n",
            "   [ 2.66582635e-01  8.48890719e-03 -4.71617574e-02 ... -1.32807403e-01\n",
            "    -1.32890301e-01  4.57377035e-01]\n",
            "   ...\n",
            "   [-9.87105361e-02 -4.50521300e-05 -1.53501261e-04 ...  5.84178492e-04\n",
            "    -1.18876207e-03 -3.76823049e-01]\n",
            "   [ 1.45531977e-03 -4.22302582e-05 -1.53987727e-04 ...  5.87071838e-04\n",
            "    -1.18200889e-03 -2.51542698e-03]\n",
            "   [ 9.74391930e-02 -4.12709397e-05 -1.54489815e-04 ...  5.87952108e-04\n",
            "    -1.17988562e-03  3.75552141e-01]]\n",
            "\n",
            "  ...\n",
            "\n",
            "  [[ 5.60240581e-01  7.90047615e-01  1.39465266e+00 ...  7.43380670e-01\n",
            "     7.86230131e-01  2.27657229e+00]\n",
            "   [ 9.89424389e-02 -3.56746345e-01  2.68731820e-01 ... -4.05896533e-01\n",
            "    -3.62393138e-01 -3.39478863e-01]\n",
            "   [ 1.31250153e+00 -1.31952301e-01  5.60813630e-01 ... -1.90417477e-01\n",
            "    -1.44237548e-01 -1.65278997e+00]\n",
            "   ...\n",
            "   [ 1.91821609e-01 -5.38804695e-03 -3.39587903e-03 ... -2.27630066e-03\n",
            "     6.06478910e-04  2.84482326e-01]\n",
            "   [-5.36066393e-03 -5.36085735e-03 -3.38287791e-03 ... -2.26527804e-03\n",
            "     6.04397747e-04  9.64032524e-05]\n",
            "   [-1.98253985e-01 -5.35212387e-03 -3.37895530e-03 ... -2.26190712e-03\n",
            "     6.03718350e-04 -2.88904096e-01]]\n",
            "\n",
            "  [[-1.42429956e+00 -1.47828670e+00 -2.89353796e+00 ... -1.63899715e+00\n",
            "    -1.66743085e+00 -5.82014315e+00]\n",
            "   [-7.71079458e-01  4.86072173e-01 -9.84546327e-01 ...  3.20373103e-01\n",
            "     2.90833607e-01 -3.75430444e-01]\n",
            "   [-3.12814772e+00  8.91058428e-02 -1.56032063e+00 ... -9.15850994e-02\n",
            "    -1.27145792e-01  4.72516351e+00]\n",
            "   ...\n",
            "   [-6.23309689e-02  6.07505827e-03  1.03746683e-02 ...  2.66379723e-03\n",
            "    -1.95488131e-03 -2.08860638e+00]\n",
            "   [ 1.20213566e-02  6.04559936e-03  1.03385928e-02 ...  2.65869318e-03\n",
            "    -1.94580395e-03 -1.24131487e-02]\n",
            "   [ 7.97673752e-02  6.03646584e-03  1.03273050e-02 ...  2.65885682e-03\n",
            "    -1.94330152e-03  2.09183721e+00]]\n",
            "\n",
            "  [[-2.41520593e-01 -2.76220104e-01 -5.48474343e-01 ... -2.91546512e-01\n",
            "    -2.52713845e-01 -5.81687060e-01]\n",
            "   [-2.49174956e-01  6.45122728e-02 -2.19654730e-01 ...  4.91120680e-02\n",
            "     8.87136322e-02 -1.14905721e-01]\n",
            "   [-6.81996689e-01 -4.76616636e-03 -3.27547755e-01 ... -2.03853283e-02\n",
            "     2.12870456e-02  3.04059128e-01]\n",
            "   ...\n",
            "   [ 3.72837288e-01  1.28076722e-03  1.19414827e-03 ... -2.99318335e-04\n",
            "     5.92710912e-04 -3.72804658e-01]\n",
            "   [-3.04000436e-03  1.27071728e-03  1.19088412e-03 ... -2.97637899e-04\n",
            "     5.88836918e-04 -1.34628013e-03]\n",
            "   [-3.70747788e-01  1.26748649e-03  1.19023500e-03 ... -2.96624040e-04\n",
            "     5.87391484e-04  3.72381274e-01]]]]...\n"
          ]
        },
        {
          "output_type": "error",
          "ename": "TypeError",
          "evalue": "ignored",
          "traceback": [
            "\u001b[0;31m---------------------------------------------------------------------------\u001b[0m",
            "\u001b[0;31mTypeError\u001b[0m                                 Traceback (most recent call last)",
            "\u001b[0;32m<ipython-input-15-1ccfd781f510>\u001b[0m in \u001b[0;36m<module>\u001b[0;34m()\u001b[0m\n\u001b[0;32m----> 1\u001b[0;31m \u001b[0mraw\u001b[0m \u001b[0;34m=\u001b[0m \u001b[0mmne\u001b[0m\u001b[0;34m.\u001b[0m\u001b[0mio\u001b[0m\u001b[0;34m.\u001b[0m\u001b[0mRaw\u001b[0m\u001b[0;34m(\u001b[0m\u001b[0mstft_data\u001b[0m\u001b[0;34m)\u001b[0m\u001b[0;34m\u001b[0m\u001b[0;34m\u001b[0m\u001b[0m\n\u001b[0m",
            "\u001b[0;32m<decorator-gen-229>\u001b[0m in \u001b[0;36m__init__\u001b[0;34m(self, fname, allow_maxshield, preload, on_split_missing, verbose)\u001b[0m\n",
            "\u001b[0;32m/usr/local/lib/python3.7/dist-packages/mne/io/fiff/raw.py\u001b[0m in \u001b[0;36m__init__\u001b[0;34m(self, fname, allow_maxshield, preload, on_split_missing, verbose)\u001b[0m\n\u001b[1;32m     80\u001b[0m             \u001b[0mraw\u001b[0m\u001b[0;34m,\u001b[0m \u001b[0mnext_fname\u001b[0m\u001b[0;34m,\u001b[0m \u001b[0mbuffer_size_sec\u001b[0m \u001b[0;34m=\u001b[0m\u001b[0;31m \u001b[0m\u001b[0;31m\\\u001b[0m\u001b[0;34m\u001b[0m\u001b[0;34m\u001b[0m\u001b[0m\n\u001b[1;32m     81\u001b[0m                 self._read_raw_file(next_fname, allow_maxshield,\n\u001b[0;32m---> 82\u001b[0;31m                                     preload, do_check_ext)\n\u001b[0m\u001b[1;32m     83\u001b[0m             \u001b[0mdo_check_ext\u001b[0m \u001b[0;34m=\u001b[0m \u001b[0;32mFalse\u001b[0m\u001b[0;34m\u001b[0m\u001b[0;34m\u001b[0m\u001b[0m\n\u001b[1;32m     84\u001b[0m             \u001b[0mraws\u001b[0m\u001b[0;34m.\u001b[0m\u001b[0mappend\u001b[0m\u001b[0;34m(\u001b[0m\u001b[0mraw\u001b[0m\u001b[0;34m)\u001b[0m\u001b[0;34m\u001b[0m\u001b[0;34m\u001b[0m\u001b[0m\n",
            "\u001b[0;32m<decorator-gen-230>\u001b[0m in \u001b[0;36m_read_raw_file\u001b[0;34m(self, fname, allow_maxshield, preload, do_check_ext, verbose)\u001b[0m\n",
            "\u001b[0;32m/usr/local/lib/python3.7/dist-packages/mne/io/fiff/raw.py\u001b[0m in \u001b[0;36m_read_raw_file\u001b[0;34m(self, fname, allow_maxshield, preload, do_check_ext, verbose)\u001b[0m\n\u001b[1;32m    142\u001b[0m                            '_meg.fif', '_eeg.fif', '_ieeg.fif')\n\u001b[1;32m    143\u001b[0m                 \u001b[0mendings\u001b[0m \u001b[0;34m+=\u001b[0m \u001b[0mtuple\u001b[0m\u001b[0;34m(\u001b[0m\u001b[0;34m[\u001b[0m\u001b[0;34mf'{e}.gz'\u001b[0m \u001b[0;32mfor\u001b[0m \u001b[0me\u001b[0m \u001b[0;32min\u001b[0m \u001b[0mendings\u001b[0m\u001b[0;34m]\u001b[0m\u001b[0;34m)\u001b[0m\u001b[0;34m\u001b[0m\u001b[0;34m\u001b[0m\u001b[0m\n\u001b[0;32m--> 144\u001b[0;31m                 \u001b[0mcheck_fname\u001b[0m\u001b[0;34m(\u001b[0m\u001b[0mfname\u001b[0m\u001b[0;34m,\u001b[0m \u001b[0;34m'raw'\u001b[0m\u001b[0;34m,\u001b[0m \u001b[0mendings\u001b[0m\u001b[0;34m)\u001b[0m\u001b[0;34m\u001b[0m\u001b[0;34m\u001b[0m\u001b[0m\n\u001b[0m\u001b[1;32m    145\u001b[0m             \u001b[0;31m# filename\u001b[0m\u001b[0;34m\u001b[0m\u001b[0;34m\u001b[0m\u001b[0;34m\u001b[0m\u001b[0m\n\u001b[1;32m    146\u001b[0m             \u001b[0mfname\u001b[0m \u001b[0;34m=\u001b[0m \u001b[0m_check_fname\u001b[0m\u001b[0;34m(\u001b[0m\u001b[0mfname\u001b[0m\u001b[0;34m,\u001b[0m \u001b[0;34m'read'\u001b[0m\u001b[0;34m,\u001b[0m \u001b[0;32mTrue\u001b[0m\u001b[0;34m,\u001b[0m \u001b[0;34m'fname'\u001b[0m\u001b[0;34m)\u001b[0m\u001b[0;34m\u001b[0m\u001b[0;34m\u001b[0m\u001b[0m\n",
            "\u001b[0;32m/usr/local/lib/python3.7/dist-packages/mne/utils/check.py\u001b[0m in \u001b[0;36mcheck_fname\u001b[0;34m(fname, filetype, endings, endings_err)\u001b[0m\n\u001b[1;32m     52\u001b[0m         \u001b[0mObligatory\u001b[0m \u001b[0mpossible\u001b[0m \u001b[0mendings\u001b[0m \u001b[0;32mfor\u001b[0m \u001b[0mthe\u001b[0m \u001b[0mfilename\u001b[0m\u001b[0;34m.\u001b[0m\u001b[0;34m\u001b[0m\u001b[0;34m\u001b[0m\u001b[0m\n\u001b[1;32m     53\u001b[0m     \"\"\"\n\u001b[0;32m---> 54\u001b[0;31m     \u001b[0m_validate_type\u001b[0m\u001b[0;34m(\u001b[0m\u001b[0mfname\u001b[0m\u001b[0;34m,\u001b[0m \u001b[0;34m'path-like'\u001b[0m\u001b[0;34m,\u001b[0m \u001b[0;34m'fname'\u001b[0m\u001b[0;34m)\u001b[0m\u001b[0;34m\u001b[0m\u001b[0;34m\u001b[0m\u001b[0m\n\u001b[0m\u001b[1;32m     55\u001b[0m     \u001b[0mfname\u001b[0m \u001b[0;34m=\u001b[0m \u001b[0mstr\u001b[0m\u001b[0;34m(\u001b[0m\u001b[0mfname\u001b[0m\u001b[0;34m)\u001b[0m\u001b[0;34m\u001b[0m\u001b[0;34m\u001b[0m\u001b[0m\n\u001b[1;32m     56\u001b[0m     \u001b[0;32mif\u001b[0m \u001b[0mlen\u001b[0m\u001b[0;34m(\u001b[0m\u001b[0mendings_err\u001b[0m\u001b[0;34m)\u001b[0m \u001b[0;34m>\u001b[0m \u001b[0;36m0\u001b[0m \u001b[0;32mand\u001b[0m \u001b[0;32mnot\u001b[0m \u001b[0mfname\u001b[0m\u001b[0;34m.\u001b[0m\u001b[0mendswith\u001b[0m\u001b[0;34m(\u001b[0m\u001b[0mendings_err\u001b[0m\u001b[0;34m)\u001b[0m\u001b[0;34m:\u001b[0m\u001b[0;34m\u001b[0m\u001b[0;34m\u001b[0m\u001b[0m\n",
            "\u001b[0;32m/usr/local/lib/python3.7/dist-packages/mne/utils/check.py\u001b[0m in \u001b[0;36m_validate_type\u001b[0;34m(item, types, item_name, type_name)\u001b[0m\n\u001b[1;32m    442\u001b[0m                 \u001b[0mtype_name\u001b[0m \u001b[0;34m=\u001b[0m \u001b[0;34m', '\u001b[0m\u001b[0;34m.\u001b[0m\u001b[0mjoin\u001b[0m\u001b[0;34m(\u001b[0m\u001b[0mtype_name\u001b[0m\u001b[0;34m)\u001b[0m\u001b[0;34m\u001b[0m\u001b[0;34m\u001b[0m\u001b[0m\n\u001b[1;32m    443\u001b[0m         \u001b[0m_item_name\u001b[0m \u001b[0;34m=\u001b[0m \u001b[0;34m'Item'\u001b[0m \u001b[0;32mif\u001b[0m \u001b[0mitem_name\u001b[0m \u001b[0;32mis\u001b[0m \u001b[0;32mNone\u001b[0m \u001b[0;32melse\u001b[0m \u001b[0mitem_name\u001b[0m\u001b[0;34m\u001b[0m\u001b[0;34m\u001b[0m\u001b[0m\n\u001b[0;32m--> 444\u001b[0;31m         raise TypeError(f\"{_item_name} must be an instance of {type_name}, \"\n\u001b[0m\u001b[1;32m    445\u001b[0m                         f\"got {type(item)} instead.\")\n\u001b[1;32m    446\u001b[0m \u001b[0;34m\u001b[0m\u001b[0m\n",
            "\u001b[0;31mTypeError\u001b[0m: fname must be an instance of path-like, got <class 'numpy.ndarray'> instead."
          ]
        }
      ]
    },
    {
      "cell_type": "code",
      "metadata": {
        "colab": {
          "base_uri": "https://localhost:8080/",
          "height": 163
        },
        "id": "_Vx1_S0A1--l",
        "outputId": "3a7a909f-1b65-4b11-9eb1-df07bff603a8"
      },
      "source": [
        "stft_data.type"
      ],
      "execution_count": null,
      "outputs": [
        {
          "output_type": "error",
          "ename": "AttributeError",
          "evalue": "ignored",
          "traceback": [
            "\u001b[0;31m---------------------------------------------------------------------------\u001b[0m",
            "\u001b[0;31mAttributeError\u001b[0m                            Traceback (most recent call last)",
            "\u001b[0;32m<ipython-input-14-a9af95b724df>\u001b[0m in \u001b[0;36m<module>\u001b[0;34m()\u001b[0m\n\u001b[0;32m----> 1\u001b[0;31m \u001b[0mstft_data\u001b[0m\u001b[0;34m.\u001b[0m\u001b[0mtype\u001b[0m\u001b[0;34m\u001b[0m\u001b[0;34m\u001b[0m\u001b[0m\n\u001b[0m",
            "\u001b[0;31mAttributeError\u001b[0m: 'numpy.ndarray' object has no attribute 'type'"
          ]
        }
      ]
    },
    {
      "cell_type": "code",
      "metadata": {
        "id": "bt0cEgNlpe6w"
      },
      "source": [
        ""
      ],
      "execution_count": null,
      "outputs": []
    },
    {
      "cell_type": "code",
      "metadata": {
        "id": "DfYl8DgVpe84"
      },
      "source": [
        ""
      ],
      "execution_count": null,
      "outputs": []
    }
  ]
}