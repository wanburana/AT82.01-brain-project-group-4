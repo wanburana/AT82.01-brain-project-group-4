{
  "nbformat": 4,
  "nbformat_minor": 0,
  "metadata": {
    "colab": {
      "name": "3person+FFT+conv1d+LSTM.ipynb",
      "provenance": [],
      "collapsed_sections": []
    },
    "kernelspec": {
      "name": "python3",
      "display_name": "Python 3"
    }
  },
  "cells": [
    {
      "cell_type": "code",
      "metadata": {
        "id": "QVkjoVU_uDK3",
        "colab": {
          "base_uri": "https://localhost:8080/"
        },
        "outputId": "127c0cf6-0243-49be-d03b-608a25a43c7a"
      },
      "source": [
        "pip install git+https://github.com/forrestbao/pyeeg.git"
      ],
      "execution_count": null,
      "outputs": [
        {
          "output_type": "stream",
          "name": "stdout",
          "text": [
            "Collecting git+https://github.com/forrestbao/pyeeg.git\n",
            "  Cloning https://github.com/forrestbao/pyeeg.git to /tmp/pip-req-build-n0bqb0nz\n",
            "  Running command git clone -q https://github.com/forrestbao/pyeeg.git /tmp/pip-req-build-n0bqb0nz\n",
            "Requirement already satisfied: numpy>=1.9.2 in /usr/local/lib/python3.7/dist-packages (from pyeeg==0.4.4) (1.19.5)\n",
            "Building wheels for collected packages: pyeeg\n",
            "  Building wheel for pyeeg (setup.py) ... \u001b[?25l\u001b[?25hdone\n",
            "  Created wheel for pyeeg: filename=pyeeg-0.4.4-py2.py3-none-any.whl size=28132 sha256=fa4e83f16fb5c2e0d7cdda28dc38b09a6d355b73dc5a27b51c01d2895e393a8e\n",
            "  Stored in directory: /tmp/pip-ephem-wheel-cache-66cf1j45/wheels/b0/23/e4/703c908bda656959957029fa145879aa79307b2545a2ef0271\n",
            "Successfully built pyeeg\n",
            "Installing collected packages: pyeeg\n",
            "Successfully installed pyeeg-0.4.4\n"
          ]
        }
      ]
    },
    {
      "cell_type": "code",
      "metadata": {
        "id": "5SPLfnVBY6LY"
      },
      "source": [
        "import numpy as np\n",
        "import pickle as pickle\n",
        "import pandas as pd\n",
        "import pyeeg as pe"
      ],
      "execution_count": null,
      "outputs": []
    },
    {
      "cell_type": "code",
      "metadata": {
        "id": "iq8EcwGxsgw4"
      },
      "source": [
        "channel = [1,2,3,4,6,11,13,17,19,20,21,25,29,31] #14 Channels chosen to fit Emotiv Epoch+\n",
        "band = [4,8,12,16,25,45] #5 bands\n",
        "window_size = 256 #Averaging band power of 2 sec\n",
        "step_size = 16 #Each 0.125 sec update once\n",
        "sample_rate = 70 #Sampling rate of 128 Hz\n",
        "subjectList = ['01','02','03']\n",
        "#List of subjects"
      ],
      "execution_count": null,
      "outputs": []
    },
    {
      "cell_type": "code",
      "metadata": {
        "colab": {
          "base_uri": "https://localhost:8080/"
        },
        "id": "suJLge5P3SHe",
        "outputId": "ecfe92b5-a574-40ea-f8ee-4c8b6dbb949e"
      },
      "source": [
        "from google.colab import drive\n",
        "drive.mount('/content/drive')"
      ],
      "execution_count": null,
      "outputs": [
        {
          "output_type": "stream",
          "name": "stdout",
          "text": [
            "Mounted at /content/drive\n"
          ]
        }
      ]
    },
    {
      "cell_type": "code",
      "metadata": {
        "id": "BMHsERGylAEu"
      },
      "source": [
        "def FFT_Processing (sub, channel, band, window_size, step_size, sample_rate):\n",
        "    '''\n",
        "    arguments:  string subject\n",
        "                list channel indice\n",
        "                list band\n",
        "                int window size for FFT\n",
        "                int step size for FFT\n",
        "                int sample rate for FFT\n",
        "    return:     void\n",
        "    '''\n",
        "    meta = []\n",
        "    with open('/content/drive/MyDrive/EEG/DEAP/data_preprocessed_python/s' + sub + '.dat', 'rb') as file:\n",
        "\n",
        "        subject = pickle.load(file, encoding='latin1') #resolve the python 2 data problem by encoding : latin1\n",
        "\n",
        "        for i in range (0,39):\n",
        "            # loop over 0-39 trails\n",
        "            data = subject[\"data\"][i]\n",
        "            labels = subject[\"labels\"][i]\n",
        "            start = 0;          \n",
        "            while start + window_size < data.shape[1]:\n",
        "                meta_array = []\n",
        "                meta_data = [] #meta vector for analysis\n",
        "                for j in channel:\n",
        "                    X = data[j][start : start + window_size] #Slice raw data over 2 sec, at interval of 0.125 sec\n",
        "                    Y = pe.bin_power(X, band, sample_rate) #FFT over 2 sec of channel j, in seq of theta, alpha, low beta, high beta, gamma\n",
        "                    meta_data = meta_data + list(Y[0])\n",
        "\n",
        "                meta_array.append(np.array(meta_data))\n",
        "                meta_array.append(labels)\n",
        "\n",
        "                meta.append(np.array(meta_array))    \n",
        "                start = start + step_size\n",
        "                \n",
        "        meta = np.array(meta)\n",
        "        np.save('out\\s' + sub, meta, allow_pickle=True, fix_imports=True)\n",
        "\n"
      ],
      "execution_count": null,
      "outputs": []
    },
    {
      "cell_type": "code",
      "metadata": {
        "id": "VzAJVGQBt-5v",
        "colab": {
          "base_uri": "https://localhost:8080/"
        },
        "outputId": "4cc99361-a74b-45bf-b5b2-db2d0a4f6018"
      },
      "source": [
        "for subjects in subjectList:\n",
        "    FFT_Processing (subjects, channel, band, window_size, step_size, sample_rate)"
      ],
      "execution_count": null,
      "outputs": [
        {
          "output_type": "stream",
          "name": "stderr",
          "text": [
            "/usr/local/lib/python3.7/dist-packages/ipykernel_launcher.py:32: VisibleDeprecationWarning: Creating an ndarray from ragged nested sequences (which is a list-or-tuple of lists-or-tuples-or ndarrays with different lengths or shapes) is deprecated. If you meant to do this, you must specify 'dtype=object' when creating the ndarray\n"
          ]
        }
      ]
    },
    {
      "cell_type": "code",
      "metadata": {
        "id": "uZGXiP2t2DFC",
        "colab": {
          "base_uri": "https://localhost:8080/",
          "height": 91
        },
        "outputId": "0172068e-67fc-4ba4-fee3-5399b992aeeb"
      },
      "source": [
        "\n",
        "data_training = []\n",
        "label_training = []\n",
        "data_testing = []\n",
        "label_testing = []\n",
        "data_validation = []\n",
        "label_validation = []\n",
        "\n",
        "for subjects in subjectList:\n",
        "  \n",
        "\n",
        "    with open('/content/out\\s' + subjects + '.npy', 'rb') as file:\n",
        "        sub = np.load(file,allow_pickle=True)\n",
        "        for i in range (0,sub.shape[0]):\n",
        "            if i % 8 == 0 or i % 8== 0:\n",
        "                data_testing.append(sub[i][0])\n",
        "                label_testing.append(sub[i][1])\n",
        "           \n",
        "            else:\n",
        "                data_training.append(sub[i][0])\n",
        "                label_training.append(sub[i][1])\n",
        "\n",
        "np.save('out\\data_training', np.array(data_training), allow_pickle=True, fix_imports=True)\n",
        "np.save('out\\label_training', np.array(label_training), allow_pickle=True, fix_imports=True)\n",
        "print(\"training dataset:\", np.array(data_training).shape, np.array(label_training).shape)\n",
        "\n",
        "\n",
        "np.save('out\\data_testing', np.array(data_testing), allow_pickle=True, fix_imports=True)\n",
        "np.save('out\\label_testing', np.array(label_testing), allow_pickle=True, fix_imports=True)\n",
        "print(\"testing dataset:\", np.array(data_testing).shape, np.array(label_testing).shape)\n",
        "\"\"\"\n",
        "np.save('out\\data_validation', np.array(data_validation), allow_pickle=True, fix_imports=True)\n",
        "np.save('out\\label_validation', np.array(label_validation), allow_pickle=True, fix_imports=True)\n",
        "print(\"validation dataset:\", np.array(data_validation).shape, np.array(label_validation).shape)\n",
        "\"\"\""
      ],
      "execution_count": null,
      "outputs": [
        {
          "output_type": "stream",
          "name": "stdout",
          "text": [
            "training dataset: (49959, 70) (49959, 4)\n",
            "testing dataset: (7137, 70) (7137, 4)\n"
          ]
        },
        {
          "output_type": "execute_result",
          "data": {
            "application/vnd.google.colaboratory.intrinsic+json": {
              "type": "string"
            },
            "text/plain": [
              "'\\nnp.save(\\'out\\\\data_validation\\', np.array(data_validation), allow_pickle=True, fix_imports=True)\\nnp.save(\\'out\\\\label_validation\\', np.array(label_validation), allow_pickle=True, fix_imports=True)\\nprint(\"validation dataset:\", np.array(data_validation).shape, np.array(label_validation).shape)\\n'"
            ]
          },
          "metadata": {},
          "execution_count": 43
        }
      ]
    },
    {
      "cell_type": "code",
      "metadata": {
        "id": "CFcayQrJ-h0I"
      },
      "source": [
        "data= []\n",
        "label = []\n",
        "for subjects in subjectList:\n",
        "  \n",
        "\n",
        "    with open('/content/out\\s' + subjects + '.npy', 'rb') as file:\n",
        "        sub = np.load(file,allow_pickle=True)\n",
        "        for i in range (0,sub.shape[0]):\n",
        "          data.append(sub[i][0])\n",
        "          label.append(sub[i][1])\n",
        "np.save('data', np.array(data), allow_pickle=True, fix_imports=True)\n",
        "np.save('label', np.array(label), allow_pickle=True, fix_imports=True)\n",
        "\n"
      ],
      "execution_count": null,
      "outputs": []
    },
    {
      "cell_type": "code",
      "metadata": {
        "id": "Z84hVKUDUF3r"
      },
      "source": [
        "df=pd.DataFrame(data=data)\n",
        "df.to_csv(\"data.csv\",index=False)\n",
        "\n",
        "df1=pd.DataFrame(data=label)\n",
        "df1.to_csv(\"label.csv\",index=False)"
      ],
      "execution_count": null,
      "outputs": []
    },
    {
      "cell_type": "code",
      "metadata": {
        "id": "2tB2KDWpUIJ7"
      },
      "source": [
        "data1=pd.read_csv(\"/content/data.csv\")"
      ],
      "execution_count": null,
      "outputs": []
    },
    {
      "cell_type": "code",
      "metadata": {
        "colab": {
          "base_uri": "https://localhost:8080/",
          "height": 423
        },
        "id": "w6EKK3vYUK_v",
        "outputId": "f05d2f24-7f74-4bbd-ea7c-ec3987cf6013"
      },
      "source": [
        "label1=pd.read_csv(\"/content/label.csv\")\n",
        "label1"
      ],
      "execution_count": null,
      "outputs": [
        {
          "output_type": "execute_result",
          "data": {
            "text/html": [
              "<div>\n",
              "<style scoped>\n",
              "    .dataframe tbody tr th:only-of-type {\n",
              "        vertical-align: middle;\n",
              "    }\n",
              "\n",
              "    .dataframe tbody tr th {\n",
              "        vertical-align: top;\n",
              "    }\n",
              "\n",
              "    .dataframe thead th {\n",
              "        text-align: right;\n",
              "    }\n",
              "</style>\n",
              "<table border=\"1\" class=\"dataframe\">\n",
              "  <thead>\n",
              "    <tr style=\"text-align: right;\">\n",
              "      <th></th>\n",
              "      <th>0</th>\n",
              "      <th>1</th>\n",
              "      <th>2</th>\n",
              "      <th>3</th>\n",
              "    </tr>\n",
              "  </thead>\n",
              "  <tbody>\n",
              "    <tr>\n",
              "      <th>0</th>\n",
              "      <td>7.71</td>\n",
              "      <td>7.60</td>\n",
              "      <td>6.90</td>\n",
              "      <td>7.83</td>\n",
              "    </tr>\n",
              "    <tr>\n",
              "      <th>1</th>\n",
              "      <td>7.71</td>\n",
              "      <td>7.60</td>\n",
              "      <td>6.90</td>\n",
              "      <td>7.83</td>\n",
              "    </tr>\n",
              "    <tr>\n",
              "      <th>2</th>\n",
              "      <td>7.71</td>\n",
              "      <td>7.60</td>\n",
              "      <td>6.90</td>\n",
              "      <td>7.83</td>\n",
              "    </tr>\n",
              "    <tr>\n",
              "      <th>3</th>\n",
              "      <td>7.71</td>\n",
              "      <td>7.60</td>\n",
              "      <td>6.90</td>\n",
              "      <td>7.83</td>\n",
              "    </tr>\n",
              "    <tr>\n",
              "      <th>4</th>\n",
              "      <td>7.71</td>\n",
              "      <td>7.60</td>\n",
              "      <td>6.90</td>\n",
              "      <td>7.83</td>\n",
              "    </tr>\n",
              "    <tr>\n",
              "      <th>...</th>\n",
              "      <td>...</td>\n",
              "      <td>...</td>\n",
              "      <td>...</td>\n",
              "      <td>...</td>\n",
              "    </tr>\n",
              "    <tr>\n",
              "      <th>57091</th>\n",
              "      <td>4.33</td>\n",
              "      <td>6.21</td>\n",
              "      <td>5.68</td>\n",
              "      <td>4.62</td>\n",
              "    </tr>\n",
              "    <tr>\n",
              "      <th>57092</th>\n",
              "      <td>4.33</td>\n",
              "      <td>6.21</td>\n",
              "      <td>5.68</td>\n",
              "      <td>4.62</td>\n",
              "    </tr>\n",
              "    <tr>\n",
              "      <th>57093</th>\n",
              "      <td>4.33</td>\n",
              "      <td>6.21</td>\n",
              "      <td>5.68</td>\n",
              "      <td>4.62</td>\n",
              "    </tr>\n",
              "    <tr>\n",
              "      <th>57094</th>\n",
              "      <td>4.33</td>\n",
              "      <td>6.21</td>\n",
              "      <td>5.68</td>\n",
              "      <td>4.62</td>\n",
              "    </tr>\n",
              "    <tr>\n",
              "      <th>57095</th>\n",
              "      <td>4.33</td>\n",
              "      <td>6.21</td>\n",
              "      <td>5.68</td>\n",
              "      <td>4.62</td>\n",
              "    </tr>\n",
              "  </tbody>\n",
              "</table>\n",
              "<p>57096 rows × 4 columns</p>\n",
              "</div>"
            ],
            "text/plain": [
              "          0     1     2     3\n",
              "0      7.71  7.60  6.90  7.83\n",
              "1      7.71  7.60  6.90  7.83\n",
              "2      7.71  7.60  6.90  7.83\n",
              "3      7.71  7.60  6.90  7.83\n",
              "4      7.71  7.60  6.90  7.83\n",
              "...     ...   ...   ...   ...\n",
              "57091  4.33  6.21  5.68  4.62\n",
              "57092  4.33  6.21  5.68  4.62\n",
              "57093  4.33  6.21  5.68  4.62\n",
              "57094  4.33  6.21  5.68  4.62\n",
              "57095  4.33  6.21  5.68  4.62\n",
              "\n",
              "[57096 rows x 4 columns]"
            ]
          },
          "metadata": {},
          "execution_count": 48
        }
      ]
    },
    {
      "cell_type": "code",
      "metadata": {
        "id": "GJjSBMmuUOTS"
      },
      "source": [
        "x=data1.values"
      ],
      "execution_count": null,
      "outputs": []
    },
    {
      "cell_type": "code",
      "metadata": {
        "id": "oKMG88FeUP3V"
      },
      "source": [
        "y_val=label1.loc[:,'0']"
      ],
      "execution_count": null,
      "outputs": []
    },
    {
      "cell_type": "code",
      "metadata": {
        "id": "xGLKl-9Zfjaf",
        "colab": {
          "base_uri": "https://localhost:8080/"
        },
        "outputId": "4fe76fea-41e5-4212-c228-9411ef779dd9"
      },
      "source": [
        "from sklearn.preprocessing import StandardScaler\n",
        "scaler = StandardScaler()\n",
        "scaler.fit(x)\n",
        "x = scaler.transform(x)\n",
        "\n",
        "\n",
        "#from keras.utils import to_categorical\n",
        "from tensorflow.keras.utils import to_categorical\n",
        "y = to_categorical(y_val)\n",
        "y"
      ],
      "execution_count": null,
      "outputs": [
        {
          "output_type": "execute_result",
          "data": {
            "text/plain": [
              "array([[0., 0., 0., ..., 1., 0., 0.],\n",
              "       [0., 0., 0., ..., 1., 0., 0.],\n",
              "       [0., 0., 0., ..., 1., 0., 0.],\n",
              "       ...,\n",
              "       [0., 0., 0., ..., 0., 0., 0.],\n",
              "       [0., 0., 0., ..., 0., 0., 0.],\n",
              "       [0., 0., 0., ..., 0., 0., 0.]], dtype=float32)"
            ]
          },
          "metadata": {},
          "execution_count": 52
        }
      ]
    },
    {
      "cell_type": "code",
      "metadata": {
        "id": "HWNnMepTUfrR"
      },
      "source": [
        "x = np.reshape(x, (x.shape[0],1,x.shape[1]))"
      ],
      "execution_count": null,
      "outputs": []
    },
    {
      "cell_type": "code",
      "metadata": {
        "id": "EaKwv9nFgEX0"
      },
      "source": [
        "from sklearn.model_selection import train_test_split\n",
        "x_train, x_test, y_train, y_test = train_test_split(x, y, test_size = 0.2, random_state = 4)"
      ],
      "execution_count": null,
      "outputs": []
    },
    {
      "cell_type": "code",
      "metadata": {
        "id": "FRJ5Fu1RmCdj",
        "colab": {
          "base_uri": "https://localhost:8080/"
        },
        "outputId": "851dbc4a-a59c-480b-9497-820fc41228b8"
      },
      "source": [
        "print(x_train.shape)\n",
        "print(y_train.shape)\n",
        "print(x_test.shape)\n",
        "print(y_test.shape)"
      ],
      "execution_count": null,
      "outputs": [
        {
          "output_type": "stream",
          "name": "stdout",
          "text": [
            "(45676, 1, 70)\n",
            "(45676, 10)\n",
            "(11420, 1, 70)\n",
            "(11420, 10)\n"
          ]
        }
      ]
    },
    {
      "cell_type": "markdown",
      "metadata": {
        "id": "USYQJJ41UsJA"
      },
      "source": [
        "# loader\n"
      ]
    },
    {
      "cell_type": "code",
      "metadata": {
        "id": "kuQc3oZAUsub"
      },
      "source": [
        "import torch\n",
        "from torch.utils.data import DataLoader\n",
        "from torch.utils.data import TensorDataset\n",
        "\n",
        "batch_size = 150\n",
        "def dataload(X, y):\n",
        "    X_tensor = torch.tensor(X).float()\n",
        "    y_tensor = torch.tensor(y)\n",
        "    dataset_tensor = TensorDataset(X_tensor, y_tensor)\n",
        "    return dataset_tensor\n",
        "    #return DataLoader(dataset_tensor, batch_size=batch_size, shuffle=True)\n",
        "\n",
        "train_loader = DataLoader(dataload(x_train, y_train), batch_size=batch_size, shuffle=True)\n",
        "\n",
        "valid_loader = DataLoader(dataload(x_test, y_test), batch_size=batch_size, shuffle=False)\n",
        "\n",
        "#test_loader = DataLoader(dataload(x_test, y_test), batch_size=batch_size, shuffle=False)"
      ],
      "execution_count": null,
      "outputs": []
    },
    {
      "cell_type": "markdown",
      "metadata": {
        "id": "HmQvckurOj7V"
      },
      "source": [
        "# LSTM"
      ]
    },
    {
      "cell_type": "code",
      "metadata": {
        "id": "8n8OGs5SOkPF"
      },
      "source": [
        "#model hyperparameters\n",
        "hidden_dim1 = 64\n",
        "hidden_dim2= 32 \n",
        "embed_dim = x_train.shape[2]\n",
        "#ed2 = hidden_dim*2\n",
        "output_dim = y_train.shape[1]\n",
        "num_layers = 1\n",
        "bidirectional = True\n",
        "dropout = 0.5\n",
        "\n",
        "#training hyperparameters\n",
        "num_epochs = 100\n",
        "lr=0.001"
      ],
      "execution_count": null,
      "outputs": []
    },
    {
      "cell_type": "code",
      "metadata": {
        "id": "J_IjqVibOkRR"
      },
      "source": [
        "import torch.nn as nn\n",
        "from torch.nn import functional as F\n",
        "\n",
        "class LSTM(nn.Module):\n",
        "    def __init__(self):\n",
        "        super().__init__()\n",
        "               \n",
        "        self.layer1 = nn.Sequential(\n",
        "            nn.Conv1d(1, 32, 4, stride=2),\n",
        "            nn.ReLU(),\n",
        "            nn.Dropout(p=0.1))      \n",
        "        self.lstm = nn.LSTM(34, hidden_dim1, num_layers=num_layers,\n",
        "                    bidirectional=bidirectional, \n",
        "                    dropout=dropout,\n",
        "                    batch_first=True)\n",
        "        self.fc = nn.Linear(hidden_dim1*2, output_dim)   \n",
        "        self.softmax = nn.LogSoftmax(dim=1)\n",
        "    \n",
        "    def attention_net(self, lstm_output, final_state):\n",
        "        hidden = final_state.unsqueeze(2)  # hidden : [batch_size, n_hidden * num_directions(=2), 1(=n_layer)]\n",
        "        attn_weights = torch.bmm(lstm_output, hidden).squeeze(2) # attn_weights : [batch_size, seq_len, 1]\n",
        "        soft_attn_weights = F.softmax(attn_weights, 1)\n",
        "        # [batch_size, n_hidden * num_directions(=2), seq_len] * [batch_size, seq_len, 1] = [batch_size, n_hidden * num_directions(=2), 1]\n",
        "        context = torch.bmm(lstm_output.transpose(1, 2), soft_attn_weights.unsqueeze(2)).squeeze(2)\n",
        "        return context, soft_attn_weights.cpu().data.numpy() # context : [batch_size, n_hidden * num_directions(=2)]\n",
        "    \n",
        "    def forward(self, x):\n",
        "        out0 = self.layer1(x)\n",
        "        out,(hn, cn) = self.lstm(out0)\n",
        "        hn = torch.cat((hn[-2,:,:], hn[-1,:,:]), dim = 1)\n",
        "        \n",
        "        attn_output, attention = self.attention_net(out, hn)\n",
        "        out = self.fc(attn_output)\n",
        "        out = self.softmax(out)\n",
        "        return out"
      ],
      "execution_count": null,
      "outputs": []
    },
    {
      "cell_type": "code",
      "metadata": {
        "id": "8Kl-hCGVQ7V9"
      },
      "source": [
        "#explicitly initialize weights for better learning\n",
        "def initialize_weights(m):\n",
        "    if isinstance(m, nn.Linear):\n",
        "        nn.init.xavier_normal_(m.weight)\n",
        "        nn.init.zeros_(m.bias)\n",
        "    elif isinstance(m, (nn.Conv2d, nn.Conv2d)):\n",
        "        for name, param in m.named_parameters():\n",
        "            if 'bias' in name:\n",
        "                nn.init.zeros_(param)\n",
        "            elif 'weight' in name:\n",
        "                nn.init.kaiming_normal_(param) #<---here"
      ],
      "execution_count": null,
      "outputs": []
    },
    {
      "cell_type": "code",
      "metadata": {
        "colab": {
          "base_uri": "https://localhost:8080/"
        },
        "id": "Fv5ZjUSdQ9gs",
        "outputId": "ad8f8bbd-0b42-44b3-8da6-f037e828215d"
      },
      "source": [
        "model = LSTM().float()\n",
        "#model.apply(initialize_weights)"
      ],
      "execution_count": null,
      "outputs": [
        {
          "output_type": "stream",
          "name": "stderr",
          "text": [
            "/usr/local/lib/python3.7/dist-packages/torch/nn/modules/rnn.py:65: UserWarning: dropout option adds dropout after all but last recurrent layer, so non-zero dropout expects num_layers greater than 1, but got dropout=0.5 and num_layers=1\n",
            "  \"num_layers={}\".format(dropout, num_layers))\n"
          ]
        }
      ]
    },
    {
      "cell_type": "code",
      "metadata": {
        "id": "htjSK8grQ9i6"
      },
      "source": [
        "# Loss and optimizer\n",
        "#criterion = nn.CrossEntropyLoss()\n",
        "criterion = nn.MSELoss()\n",
        "optimizer = torch.optim.RMSprop(model.parameters(),lr=lr, eps=1e-08)"
      ],
      "execution_count": null,
      "outputs": []
    },
    {
      "cell_type": "markdown",
      "metadata": {
        "id": "QmtQFB67HCoR"
      },
      "source": [
        "# Train Test "
      ]
    },
    {
      "cell_type": "code",
      "metadata": {
        "id": "kI7GHuLLIdyz"
      },
      "source": [
        "def binary_accuracy(preds, y):\n",
        "    \"\"\"\n",
        "    Returns accuracy per batch, i.e. if you get 8/10 right, this returns 0.8, NOT 8\n",
        "    \"\"\"\n",
        "    #round predictions to the closest integer\n",
        "    rounded_preds = torch.round(torch.sigmoid(preds))\n",
        "    correct = (rounded_preds == y).float() #convert into float for division \n",
        "    acc = correct.sum() / len(correct)\n",
        "    return acc/2"
      ],
      "execution_count": null,
      "outputs": []
    },
    {
      "cell_type": "code",
      "metadata": {
        "id": "H_ZVkAzNId1V"
      },
      "source": [
        "def cnn_acc(preds,y):\n",
        "    _, predicted = torch.max(preds.data, 1)\n",
        "    _, y1 = torch.max(y.data, 1)\n",
        "    correct = (predicted == y1).sum()\n",
        "    acc = correct / y.size(0)\n",
        "    return acc"
      ],
      "execution_count": null,
      "outputs": []
    },
    {
      "cell_type": "code",
      "metadata": {
        "id": "r76aiXrnId3k"
      },
      "source": [
        "def train(model, loader, optimizer, criterion):\n",
        "    epoch_loss = 0\n",
        "    epoch_acc = 0\n",
        "    model.train() #useful for batchnorm and dropout\n",
        "    for i, (features, label) in enumerate(loader): \n",
        "        #predict\n",
        "        predictions = model(features)\n",
        "        #calculate loss\n",
        "        loss = criterion(predictions, label)\n",
        "        \"\"\"l2_lambda = 0.001\n",
        "        l2_norm = sum(p.pow(2.0).sum() for p in model.parameters())\n",
        "        loss = loss + l2_lambda * l2_norm\"\"\"\n",
        "        acc = cnn_acc(predictions, label)\n",
        "        \n",
        "        #backprop\n",
        "        optimizer.zero_grad()\n",
        "        loss.backward()\n",
        "        optimizer.step()\n",
        "        \n",
        "        epoch_loss += loss.item()\n",
        "        epoch_acc += acc.item()\n",
        "                \n",
        "    return epoch_loss / len(loader), epoch_acc / len(loader)"
      ],
      "execution_count": null,
      "outputs": []
    },
    {
      "cell_type": "code",
      "metadata": {
        "id": "Bqj2y7T-Id5d"
      },
      "source": [
        "def evaluate(model, loader, criterion):\n",
        "    epoch_loss = 0\n",
        "    epoch_acc = 0\n",
        "    model.eval()\n",
        "    \n",
        "    with torch.no_grad():\n",
        "        for i, (features, label) in enumerate(loader): \n",
        "\n",
        "\n",
        "            predictions = model(features)\n",
        "            \n",
        "            loss = criterion(predictions, label)\n",
        "            acc = cnn_acc(predictions, label)\n",
        "\n",
        "            epoch_loss += loss.item()\n",
        "            epoch_acc += acc.item()\n",
        "        \n",
        "    return epoch_loss / len(loader), epoch_acc / len(loader)"
      ],
      "execution_count": null,
      "outputs": []
    },
    {
      "cell_type": "code",
      "metadata": {
        "colab": {
          "base_uri": "https://localhost:8080/"
        },
        "id": "EzIfXUOtId7p",
        "outputId": "c8e76471-fb43-4bd3-c94a-37c59104e843"
      },
      "source": [
        "best_valid_loss = float('inf')\n",
        "\n",
        "train_losses = []\n",
        "train_accs = []\n",
        "valid_losses = []\n",
        "valid_accs = []\n",
        "for epoch in range(num_epochs):\n",
        "\n",
        "    train_loss,train_acc = train(model, train_loader, optimizer, criterion)\n",
        "    valid_loss,valid_acc = evaluate(model, valid_loader, criterion)\n",
        "    \n",
        "    #for plotting\n",
        "    train_losses.append(train_loss)\n",
        "    train_accs.append(train_acc)\n",
        "    valid_losses.append(valid_loss)\n",
        "    valid_accs.append(valid_acc)\n",
        "    \n",
        "    if valid_loss < best_valid_loss:\n",
        "        best_valid_loss = valid_loss\n",
        "        torch.save(model.state_dict(),'tensor.pt')\n",
        "    \n",
        "    print(f'Epoch: {epoch+1:02} | Train Loss: {train_loss:.3f} | Train Acc: {train_acc*100:.2f}%')\n",
        "    print(f'\\t Val. Loss: {valid_loss:.3f} |  Val. Acc: {valid_acc*100:.2f}%')"
      ],
      "execution_count": null,
      "outputs": [
        {
          "output_type": "stream",
          "name": "stdout",
          "text": [
            "Epoch: 01 | Train Loss: 5.860 | Train Acc: 31.34%\n",
            "\t Val. Loss: 5.859 |  Val. Acc: 33.92%\n",
            "Epoch: 02 | Train Loss: 5.858 | Train Acc: 36.32%\n",
            "\t Val. Loss: 5.858 |  Val. Acc: 37.93%\n",
            "Epoch: 03 | Train Loss: 5.858 | Train Acc: 39.13%\n",
            "\t Val. Loss: 5.857 |  Val. Acc: 39.66%\n",
            "Epoch: 04 | Train Loss: 5.857 | Train Acc: 41.59%\n",
            "\t Val. Loss: 5.857 |  Val. Acc: 42.58%\n",
            "Epoch: 05 | Train Loss: 5.856 | Train Acc: 44.14%\n",
            "\t Val. Loss: 5.857 |  Val. Acc: 44.07%\n",
            "Epoch: 06 | Train Loss: 5.856 | Train Acc: 46.37%\n",
            "\t Val. Loss: 5.856 |  Val. Acc: 47.46%\n",
            "Epoch: 07 | Train Loss: 5.855 | Train Acc: 48.24%\n",
            "\t Val. Loss: 5.855 |  Val. Acc: 47.72%\n",
            "Epoch: 08 | Train Loss: 5.855 | Train Acc: 49.23%\n",
            "\t Val. Loss: 5.855 |  Val. Acc: 49.27%\n",
            "Epoch: 09 | Train Loss: 5.855 | Train Acc: 50.55%\n",
            "\t Val. Loss: 5.855 |  Val. Acc: 50.70%\n",
            "Epoch: 10 | Train Loss: 5.854 | Train Acc: 51.68%\n",
            "\t Val. Loss: 5.854 |  Val. Acc: 51.11%\n",
            "Epoch: 11 | Train Loss: 5.854 | Train Acc: 52.92%\n",
            "\t Val. Loss: 5.854 |  Val. Acc: 53.87%\n",
            "Epoch: 12 | Train Loss: 5.854 | Train Acc: 54.03%\n",
            "\t Val. Loss: 5.854 |  Val. Acc: 53.68%\n",
            "Epoch: 13 | Train Loss: 5.854 | Train Acc: 54.93%\n",
            "\t Val. Loss: 5.854 |  Val. Acc: 55.63%\n",
            "Epoch: 14 | Train Loss: 5.853 | Train Acc: 55.89%\n",
            "\t Val. Loss: 5.853 |  Val. Acc: 56.02%\n",
            "Epoch: 15 | Train Loss: 5.853 | Train Acc: 56.52%\n",
            "\t Val. Loss: 5.854 |  Val. Acc: 54.96%\n",
            "Epoch: 16 | Train Loss: 5.853 | Train Acc: 57.88%\n",
            "\t Val. Loss: 5.853 |  Val. Acc: 57.27%\n",
            "Epoch: 17 | Train Loss: 5.853 | Train Acc: 58.57%\n",
            "\t Val. Loss: 5.853 |  Val. Acc: 58.93%\n",
            "Epoch: 18 | Train Loss: 5.852 | Train Acc: 59.29%\n",
            "\t Val. Loss: 5.853 |  Val. Acc: 57.31%\n",
            "Epoch: 19 | Train Loss: 5.852 | Train Acc: 60.15%\n",
            "\t Val. Loss: 5.853 |  Val. Acc: 59.00%\n",
            "Epoch: 20 | Train Loss: 5.852 | Train Acc: 60.89%\n",
            "\t Val. Loss: 5.852 |  Val. Acc: 61.25%\n",
            "Epoch: 21 | Train Loss: 5.852 | Train Acc: 61.32%\n",
            "\t Val. Loss: 5.852 |  Val. Acc: 60.01%\n",
            "Epoch: 22 | Train Loss: 5.852 | Train Acc: 62.21%\n",
            "\t Val. Loss: 5.852 |  Val. Acc: 61.13%\n",
            "Epoch: 23 | Train Loss: 5.851 | Train Acc: 62.86%\n",
            "\t Val. Loss: 5.852 |  Val. Acc: 61.78%\n",
            "Epoch: 24 | Train Loss: 5.851 | Train Acc: 63.40%\n",
            "\t Val. Loss: 5.852 |  Val. Acc: 62.42%\n",
            "Epoch: 25 | Train Loss: 5.851 | Train Acc: 63.88%\n",
            "\t Val. Loss: 5.851 |  Val. Acc: 63.19%\n",
            "Epoch: 26 | Train Loss: 5.851 | Train Acc: 64.73%\n",
            "\t Val. Loss: 5.851 |  Val. Acc: 62.98%\n",
            "Epoch: 27 | Train Loss: 5.851 | Train Acc: 65.15%\n",
            "\t Val. Loss: 5.851 |  Val. Acc: 63.36%\n",
            "Epoch: 28 | Train Loss: 5.851 | Train Acc: 65.73%\n",
            "\t Val. Loss: 5.851 |  Val. Acc: 64.30%\n",
            "Epoch: 29 | Train Loss: 5.850 | Train Acc: 66.19%\n",
            "\t Val. Loss: 5.851 |  Val. Acc: 63.90%\n",
            "Epoch: 30 | Train Loss: 5.850 | Train Acc: 66.91%\n",
            "\t Val. Loss: 5.851 |  Val. Acc: 64.57%\n",
            "Epoch: 31 | Train Loss: 5.850 | Train Acc: 67.27%\n",
            "\t Val. Loss: 5.851 |  Val. Acc: 64.64%\n",
            "Epoch: 32 | Train Loss: 5.850 | Train Acc: 67.54%\n",
            "\t Val. Loss: 5.850 |  Val. Acc: 66.56%\n",
            "Epoch: 33 | Train Loss: 5.850 | Train Acc: 68.01%\n",
            "\t Val. Loss: 5.851 |  Val. Acc: 65.14%\n",
            "Epoch: 34 | Train Loss: 5.850 | Train Acc: 68.62%\n",
            "\t Val. Loss: 5.852 |  Val. Acc: 63.47%\n",
            "Epoch: 35 | Train Loss: 5.850 | Train Acc: 68.86%\n",
            "\t Val. Loss: 5.850 |  Val. Acc: 66.24%\n",
            "Epoch: 36 | Train Loss: 5.850 | Train Acc: 69.03%\n",
            "\t Val. Loss: 5.850 |  Val. Acc: 66.33%\n",
            "Epoch: 37 | Train Loss: 5.849 | Train Acc: 69.66%\n",
            "\t Val. Loss: 5.850 |  Val. Acc: 66.88%\n",
            "Epoch: 38 | Train Loss: 5.849 | Train Acc: 69.96%\n",
            "\t Val. Loss: 5.850 |  Val. Acc: 67.35%\n",
            "Epoch: 39 | Train Loss: 5.849 | Train Acc: 70.21%\n",
            "\t Val. Loss: 5.850 |  Val. Acc: 68.74%\n",
            "Epoch: 40 | Train Loss: 5.849 | Train Acc: 70.67%\n",
            "\t Val. Loss: 5.851 |  Val. Acc: 65.83%\n",
            "Epoch: 41 | Train Loss: 5.849 | Train Acc: 71.11%\n",
            "\t Val. Loss: 5.849 |  Val. Acc: 68.98%\n",
            "Epoch: 42 | Train Loss: 5.849 | Train Acc: 70.96%\n",
            "\t Val. Loss: 5.850 |  Val. Acc: 68.35%\n",
            "Epoch: 43 | Train Loss: 5.849 | Train Acc: 71.66%\n",
            "\t Val. Loss: 5.849 |  Val. Acc: 68.78%\n",
            "Epoch: 44 | Train Loss: 5.849 | Train Acc: 71.85%\n",
            "\t Val. Loss: 5.849 |  Val. Acc: 69.25%\n",
            "Epoch: 45 | Train Loss: 5.849 | Train Acc: 72.13%\n",
            "\t Val. Loss: 5.850 |  Val. Acc: 68.02%\n",
            "Epoch: 46 | Train Loss: 5.848 | Train Acc: 72.60%\n",
            "\t Val. Loss: 5.849 |  Val. Acc: 69.49%\n",
            "Epoch: 47 | Train Loss: 5.848 | Train Acc: 72.54%\n",
            "\t Val. Loss: 5.849 |  Val. Acc: 70.52%\n",
            "Epoch: 48 | Train Loss: 5.848 | Train Acc: 73.14%\n",
            "\t Val. Loss: 5.849 |  Val. Acc: 69.88%\n",
            "Epoch: 49 | Train Loss: 5.848 | Train Acc: 72.93%\n",
            "\t Val. Loss: 5.849 |  Val. Acc: 70.83%\n",
            "Epoch: 50 | Train Loss: 5.848 | Train Acc: 73.30%\n",
            "\t Val. Loss: 5.849 |  Val. Acc: 70.19%\n",
            "Epoch: 51 | Train Loss: 5.848 | Train Acc: 73.68%\n",
            "\t Val. Loss: 5.849 |  Val. Acc: 71.55%\n",
            "Epoch: 52 | Train Loss: 5.848 | Train Acc: 74.03%\n",
            "\t Val. Loss: 5.849 |  Val. Acc: 71.56%\n",
            "Epoch: 53 | Train Loss: 5.848 | Train Acc: 74.27%\n",
            "\t Val. Loss: 5.848 |  Val. Acc: 72.15%\n",
            "Epoch: 54 | Train Loss: 5.848 | Train Acc: 74.68%\n",
            "\t Val. Loss: 5.849 |  Val. Acc: 71.91%\n",
            "Epoch: 55 | Train Loss: 5.848 | Train Acc: 74.95%\n",
            "\t Val. Loss: 5.848 |  Val. Acc: 71.70%\n",
            "Epoch: 56 | Train Loss: 5.848 | Train Acc: 74.88%\n",
            "\t Val. Loss: 5.848 |  Val. Acc: 71.87%\n",
            "Epoch: 57 | Train Loss: 5.847 | Train Acc: 75.22%\n",
            "\t Val. Loss: 5.848 |  Val. Acc: 72.27%\n",
            "Epoch: 58 | Train Loss: 5.847 | Train Acc: 75.18%\n",
            "\t Val. Loss: 5.848 |  Val. Acc: 72.92%\n",
            "Epoch: 59 | Train Loss: 5.847 | Train Acc: 75.64%\n",
            "\t Val. Loss: 5.848 |  Val. Acc: 72.60%\n",
            "Epoch: 60 | Train Loss: 5.847 | Train Acc: 75.89%\n",
            "\t Val. Loss: 5.848 |  Val. Acc: 73.60%\n",
            "Epoch: 61 | Train Loss: 5.847 | Train Acc: 75.97%\n",
            "\t Val. Loss: 5.848 |  Val. Acc: 73.09%\n",
            "Epoch: 62 | Train Loss: 5.847 | Train Acc: 76.41%\n",
            "\t Val. Loss: 5.848 |  Val. Acc: 74.00%\n",
            "Epoch: 63 | Train Loss: 5.847 | Train Acc: 76.51%\n",
            "\t Val. Loss: 5.848 |  Val. Acc: 73.86%\n",
            "Epoch: 64 | Train Loss: 5.847 | Train Acc: 76.57%\n",
            "\t Val. Loss: 5.848 |  Val. Acc: 72.82%\n",
            "Epoch: 65 | Train Loss: 5.847 | Train Acc: 76.63%\n",
            "\t Val. Loss: 5.848 |  Val. Acc: 72.60%\n",
            "Epoch: 66 | Train Loss: 5.847 | Train Acc: 77.09%\n",
            "\t Val. Loss: 5.848 |  Val. Acc: 73.42%\n",
            "Epoch: 67 | Train Loss: 5.847 | Train Acc: 77.14%\n",
            "\t Val. Loss: 5.848 |  Val. Acc: 72.81%\n",
            "Epoch: 68 | Train Loss: 5.847 | Train Acc: 77.72%\n",
            "\t Val. Loss: 5.848 |  Val. Acc: 74.53%\n",
            "Epoch: 69 | Train Loss: 5.847 | Train Acc: 77.64%\n",
            "\t Val. Loss: 5.848 |  Val. Acc: 74.68%\n",
            "Epoch: 70 | Train Loss: 5.847 | Train Acc: 77.54%\n",
            "\t Val. Loss: 5.848 |  Val. Acc: 73.74%\n",
            "Epoch: 71 | Train Loss: 5.846 | Train Acc: 77.94%\n",
            "\t Val. Loss: 5.848 |  Val. Acc: 73.76%\n",
            "Epoch: 72 | Train Loss: 5.846 | Train Acc: 78.02%\n",
            "\t Val. Loss: 5.848 |  Val. Acc: 74.27%\n",
            "Epoch: 73 | Train Loss: 5.846 | Train Acc: 78.42%\n",
            "\t Val. Loss: 5.847 |  Val. Acc: 74.80%\n",
            "Epoch: 74 | Train Loss: 5.846 | Train Acc: 78.45%\n",
            "\t Val. Loss: 5.847 |  Val. Acc: 75.20%\n",
            "Epoch: 75 | Train Loss: 5.846 | Train Acc: 78.54%\n",
            "\t Val. Loss: 5.847 |  Val. Acc: 75.23%\n",
            "Epoch: 76 | Train Loss: 5.846 | Train Acc: 78.68%\n",
            "\t Val. Loss: 5.847 |  Val. Acc: 75.85%\n",
            "Epoch: 77 | Train Loss: 5.846 | Train Acc: 78.79%\n",
            "\t Val. Loss: 5.847 |  Val. Acc: 75.20%\n",
            "Epoch: 78 | Train Loss: 5.846 | Train Acc: 79.09%\n",
            "\t Val. Loss: 5.847 |  Val. Acc: 75.74%\n",
            "Epoch: 79 | Train Loss: 5.846 | Train Acc: 79.22%\n",
            "\t Val. Loss: 5.847 |  Val. Acc: 76.72%\n",
            "Epoch: 80 | Train Loss: 5.846 | Train Acc: 79.54%\n",
            "\t Val. Loss: 5.847 |  Val. Acc: 75.49%\n",
            "Epoch: 81 | Train Loss: 5.846 | Train Acc: 79.65%\n",
            "\t Val. Loss: 5.847 |  Val. Acc: 76.25%\n",
            "Epoch: 82 | Train Loss: 5.846 | Train Acc: 79.63%\n",
            "\t Val. Loss: 5.847 |  Val. Acc: 76.59%\n",
            "Epoch: 83 | Train Loss: 5.846 | Train Acc: 79.64%\n",
            "\t Val. Loss: 5.847 |  Val. Acc: 75.67%\n",
            "Epoch: 84 | Train Loss: 5.846 | Train Acc: 79.83%\n",
            "\t Val. Loss: 5.847 |  Val. Acc: 76.79%\n",
            "Epoch: 85 | Train Loss: 5.846 | Train Acc: 80.00%\n",
            "\t Val. Loss: 5.847 |  Val. Acc: 76.08%\n",
            "Epoch: 86 | Train Loss: 5.846 | Train Acc: 80.18%\n",
            "\t Val. Loss: 5.846 |  Val. Acc: 77.94%\n",
            "Epoch: 87 | Train Loss: 5.846 | Train Acc: 80.20%\n",
            "\t Val. Loss: 5.847 |  Val. Acc: 77.72%\n",
            "Epoch: 88 | Train Loss: 5.846 | Train Acc: 80.51%\n",
            "\t Val. Loss: 5.847 |  Val. Acc: 76.58%\n",
            "Epoch: 89 | Train Loss: 5.846 | Train Acc: 80.49%\n",
            "\t Val. Loss: 5.846 |  Val. Acc: 77.91%\n",
            "Epoch: 90 | Train Loss: 5.846 | Train Acc: 80.41%\n",
            "\t Val. Loss: 5.847 |  Val. Acc: 76.23%\n",
            "Epoch: 91 | Train Loss: 5.845 | Train Acc: 80.67%\n",
            "\t Val. Loss: 5.847 |  Val. Acc: 77.35%\n",
            "Epoch: 92 | Train Loss: 5.845 | Train Acc: 80.90%\n",
            "\t Val. Loss: 5.847 |  Val. Acc: 76.77%\n",
            "Epoch: 93 | Train Loss: 5.845 | Train Acc: 81.06%\n",
            "\t Val. Loss: 5.847 |  Val. Acc: 77.20%\n",
            "Epoch: 94 | Train Loss: 5.845 | Train Acc: 81.30%\n",
            "\t Val. Loss: 5.846 |  Val. Acc: 77.91%\n",
            "Epoch: 95 | Train Loss: 5.845 | Train Acc: 81.52%\n",
            "\t Val. Loss: 5.847 |  Val. Acc: 76.97%\n",
            "Epoch: 96 | Train Loss: 5.845 | Train Acc: 81.32%\n",
            "\t Val. Loss: 5.847 |  Val. Acc: 77.33%\n",
            "Epoch: 97 | Train Loss: 5.845 | Train Acc: 81.58%\n",
            "\t Val. Loss: 5.847 |  Val. Acc: 76.76%\n",
            "Epoch: 98 | Train Loss: 5.845 | Train Acc: 81.55%\n",
            "\t Val. Loss: 5.846 |  Val. Acc: 77.70%\n",
            "Epoch: 99 | Train Loss: 5.845 | Train Acc: 81.82%\n",
            "\t Val. Loss: 5.847 |  Val. Acc: 77.55%\n",
            "Epoch: 100 | Train Loss: 5.845 | Train Acc: 81.62%\n",
            "\t Val. Loss: 5.846 |  Val. Acc: 78.70%\n"
          ]
        }
      ]
    },
    {
      "cell_type": "code",
      "metadata": {
        "id": "sYoo5fXpHEG1",
        "colab": {
          "base_uri": "https://localhost:8080/",
          "height": 406
        },
        "outputId": "9b738e49-d6c3-4ac1-fdb8-d8881ca613a8"
      },
      "source": [
        "import matplotlib.pyplot as plt\n",
        "fig = plt.figure(figsize=(10, 6))\n",
        "ax = fig.add_subplot(1, 1, 1)\n",
        "ax.plot(train_losses, label = 'train loss')\n",
        "ax.plot(valid_losses, label = 'valid loss')\n",
        "plt.legend()\n",
        "ax.set_xlabel('epoch')\n",
        "ax.set_ylabel('loss')"
      ],
      "execution_count": null,
      "outputs": [
        {
          "output_type": "execute_result",
          "data": {
            "text/plain": [
              "Text(0, 0.5, 'loss')"
            ]
          },
          "metadata": {},
          "execution_count": 169
        },
        {
          "output_type": "display_data",
          "data": {
            "image/png": "[encoded data removed]",
            "text/plain": [
              "<Figure size 720x432 with 1 Axes>"
            ]
          },
          "metadata": {
            "needs_background": "light"
          }
        }
      ]
    },
    {
      "cell_type": "code",
      "metadata": {
        "id": "mOHzYQU2HO5v",
        "colab": {
          "base_uri": "https://localhost:8080/",
          "height": 406
        },
        "outputId": "1bc026c1-9306-4741-b167-b3478a9d6102"
      },
      "source": [
        "fig = plt.figure(figsize=(10, 6))\n",
        "ax = fig.add_subplot(1, 1, 1)\n",
        "ax.plot(train_accs, label = 'train acc')\n",
        "ax.plot(valid_accs, label = 'valid acc')\n",
        "plt.legend()\n",
        "ax.set_xlabel('epoch')\n",
        "ax.set_ylabel('acc')"
      ],
      "execution_count": null,
      "outputs": [
        {
          "output_type": "execute_result",
          "data": {
            "text/plain": [
              "Text(0, 0.5, 'acc')"
            ]
          },
          "metadata": {},
          "execution_count": 170
        },
        {
          "output_type": "display_data",
          "data": {
            "image/png": "[encoded data removed]",
            "text/plain": [
              "<Figure size 720x432 with 1 Axes>"
            ]
          },
          "metadata": {
            "needs_background": "light"
          }
        }
      ]
    }
  ]
}