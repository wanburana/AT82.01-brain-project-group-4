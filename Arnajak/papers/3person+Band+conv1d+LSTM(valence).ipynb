{
  "nbformat": 4,
  "nbformat_minor": 0,
  "metadata": {
    "colab": {
      "name": "3person+FFT+conv1d+LSTM.ipynb",
      "provenance": [],
      "collapsed_sections": []
    },
    "kernelspec": {
      "name": "python3",
      "display_name": "Python 3"
    }
  },
  "cells": [
    {
      "cell_type": "code",
      "metadata": {
        "id": "QVkjoVU_uDK3",
        "colab": {
          "base_uri": "https://localhost:8080/"
        },
        "outputId": "eac6dff6-eee4-4a65-d119-b74db2e3f149"
      },
      "source": [
        "pip install git+https://github.com/forrestbao/pyeeg.git"
      ],
      "execution_count": 1,
      "outputs": [
        {
          "output_type": "stream",
          "name": "stdout",
          "text": [
            "Collecting git+https://github.com/forrestbao/pyeeg.git\n",
            "  Cloning https://github.com/forrestbao/pyeeg.git to /tmp/pip-req-build-pnqy89d0\n",
            "  Running command git clone -q https://github.com/forrestbao/pyeeg.git /tmp/pip-req-build-pnqy89d0\n",
            "Requirement already satisfied: numpy>=1.9.2 in /usr/local/lib/python3.7/dist-packages (from pyeeg==0.4.4) (1.19.5)\n",
            "Building wheels for collected packages: pyeeg\n",
            "  Building wheel for pyeeg (setup.py) ... \u001b[?25l\u001b[?25hdone\n",
            "  Created wheel for pyeeg: filename=pyeeg-0.4.4-py2.py3-none-any.whl size=28132 sha256=dcbbef8315d3f4cdd6347f382dfb48c832877d54d759e084601201edf4e6794c\n",
            "  Stored in directory: /tmp/pip-ephem-wheel-cache-u6gtt17b/wheels/b0/23/e4/703c908bda656959957029fa145879aa79307b2545a2ef0271\n",
            "Successfully built pyeeg\n",
            "Installing collected packages: pyeeg\n",
            "Successfully installed pyeeg-0.4.4\n"
          ]
        }
      ]
    },
    {
      "cell_type": "code",
      "metadata": {
        "id": "5SPLfnVBY6LY"
      },
      "source": [
        "import numpy as np\n",
        "import pickle as pickle\n",
        "import pandas as pd\n",
        "import pyeeg as pe"
      ],
      "execution_count": 2,
      "outputs": []
    },
    {
      "cell_type": "code",
      "metadata": {
        "id": "iq8EcwGxsgw4"
      },
      "source": [
        "channel = [1,2,3,4,6,11,13,17,19,20,21,25,29,31] #14 Channels chosen to fit Emotiv Epoch+\n",
        "band = [4,8,12,16,25,45] #5 bands\n",
        "window_size = 256 #Averaging band power of 2 sec\n",
        "step_size = 16 #Each 0.125 sec update once\n",
        "sample_rate = 70 #Sampling rate of 128 Hz\n",
        "subjectList = ['01','02','03']\n",
        "#List of subjects"
      ],
      "execution_count": 3,
      "outputs": []
    },
    {
      "cell_type": "code",
      "metadata": {
        "colab": {
          "base_uri": "https://localhost:8080/"
        },
        "id": "suJLge5P3SHe",
        "outputId": "21fa7205-8404-4943-f516-82e4abf0d1b6"
      },
      "source": [
        "from google.colab import drive\n",
        "drive.mount('/content/drive')"
      ],
      "execution_count": 4,
      "outputs": [
        {
          "output_type": "stream",
          "name": "stdout",
          "text": [
            "Mounted at /content/drive\n"
          ]
        }
      ]
    },
    {
      "cell_type": "code",
      "metadata": {
        "id": "BMHsERGylAEu"
      },
      "source": [
        "def FFT_Processing (sub, channel, band, window_size, step_size, sample_rate):\n",
        "    '''\n",
        "    arguments:  string subject\n",
        "                list channel indice\n",
        "                list band\n",
        "                int window size for FFT\n",
        "                int step size for FFT\n",
        "                int sample rate for FFT\n",
        "    return:     void\n",
        "    '''\n",
        "    meta = []\n",
        "    with open('/content/drive/MyDrive/EEG/DEAP/data_preprocessed_python/s' + sub + '.dat', 'rb') as file:\n",
        "\n",
        "        subject = pickle.load(file, encoding='latin1') #resolve the python 2 data problem by encoding : latin1\n",
        "\n",
        "        for i in range (0,39):\n",
        "            # loop over 0-39 trails\n",
        "            data = subject[\"data\"][i]\n",
        "            labels = subject[\"labels\"][i]\n",
        "            start = 0;          \n",
        "            while start + window_size < data.shape[1]:\n",
        "                meta_array = []\n",
        "                meta_data = [] #meta vector for analysis\n",
        "                for j in channel:\n",
        "                    X = data[j][start : start + window_size] #Slice raw data over 2 sec, at interval of 0.125 sec\n",
        "                    Y = pe.bin_power(X, band, sample_rate) #FFT over 2 sec of channel j, in seq of theta, alpha, low beta, high beta, gamma\n",
        "                    meta_data = meta_data + list(Y[0])\n",
        "\n",
        "                meta_array.append(np.array(meta_data))\n",
        "                meta_array.append(labels)\n",
        "\n",
        "                meta.append(np.array(meta_array))    \n",
        "                start = start + step_size\n",
        "                \n",
        "        meta = np.array(meta)\n",
        "        np.save('out\\s' + sub, meta, allow_pickle=True, fix_imports=True)\n",
        "\n"
      ],
      "execution_count": 5,
      "outputs": []
    },
    {
      "cell_type": "code",
      "metadata": {
        "id": "VzAJVGQBt-5v",
        "colab": {
          "base_uri": "https://localhost:8080/"
        },
        "outputId": "1dab5c49-4079-4ab6-ac3a-ea371b3041d1"
      },
      "source": [
        "for subjects in subjectList:\n",
        "    FFT_Processing (subjects, channel, band, window_size, step_size, sample_rate)"
      ],
      "execution_count": 6,
      "outputs": [
        {
          "output_type": "stream",
          "name": "stderr",
          "text": [
            "/usr/local/lib/python3.7/dist-packages/ipykernel_launcher.py:32: VisibleDeprecationWarning: Creating an ndarray from ragged nested sequences (which is a list-or-tuple of lists-or-tuples-or ndarrays with different lengths or shapes) is deprecated. If you meant to do this, you must specify 'dtype=object' when creating the ndarray\n"
          ]
        }
      ]
    },
    {
      "cell_type": "code",
      "metadata": {
        "id": "uZGXiP2t2DFC",
        "colab": {
          "base_uri": "https://localhost:8080/"
        },
        "outputId": "626a40ab-72d0-45a3-e18d-947ce3a5aaa7"
      },
      "source": [
        "\n",
        "data_training = []\n",
        "label_training = []\n",
        "data_testing = []\n",
        "label_testing = []\n",
        "data_validation = []\n",
        "label_validation = []\n",
        "\n",
        "for subjects in subjectList:\n",
        "  \n",
        "\n",
        "    with open('/content/out\\s' + subjects + '.npy', 'rb') as file:\n",
        "        sub = np.load(file,allow_pickle=True)\n",
        "        for i in range (0,sub.shape[0]):\n",
        "            if i % 8 == 0 or i % 8== 0:\n",
        "                data_testing.append(sub[i][0])\n",
        "                label_testing.append(sub[i][1])\n",
        "           \n",
        "            else:\n",
        "                data_training.append(sub[i][0])\n",
        "                label_training.append(sub[i][1])\n",
        "\n",
        "np.save('out\\data_training', np.array(data_training), allow_pickle=True, fix_imports=True)\n",
        "np.save('out\\label_training', np.array(label_training), allow_pickle=True, fix_imports=True)\n",
        "print(\"training dataset:\", np.array(data_training).shape, np.array(label_training).shape)\n",
        "\n",
        "\n",
        "np.save('out\\data_testing', np.array(data_testing), allow_pickle=True, fix_imports=True)\n",
        "np.save('out\\label_testing', np.array(label_testing), allow_pickle=True, fix_imports=True)\n",
        "print(\"testing dataset:\", np.array(data_testing).shape, np.array(label_testing).shape)"
      ],
      "execution_count": 7,
      "outputs": [
        {
          "output_type": "stream",
          "name": "stdout",
          "text": [
            "training dataset: (49959, 70) (49959, 4)\n",
            "testing dataset: (7137, 70) (7137, 4)\n"
          ]
        }
      ]
    },
    {
      "cell_type": "code",
      "metadata": {
        "id": "CFcayQrJ-h0I",
        "colab": {
          "base_uri": "https://localhost:8080/"
        },
        "outputId": "e1c380e6-1bca-43c4-981a-5ceccccdb52f"
      },
      "source": [
        "data= []\n",
        "label = []\n",
        "for subjects in subjectList:\n",
        "  \n",
        "\n",
        "    with open('/content/out\\s' + subjects + '.npy', 'rb') as file:\n",
        "        sub = np.load(file,allow_pickle=True)\n",
        "        for i in range (0,sub.shape[0]):\n",
        "          data.append(sub[i][0])\n",
        "          label.append(sub[i][1])\n",
        "np.save('data', np.array(data), allow_pickle=True, fix_imports=True)\n",
        "np.save('label', np.array(label), allow_pickle=True, fix_imports=True)\n",
        "\n",
        "data = np.array(data)\n",
        "label = np.array(label)\n",
        "print(\"dataset:\", data.shape,label.shape)"
      ],
      "execution_count": 8,
      "outputs": [
        {
          "output_type": "stream",
          "name": "stdout",
          "text": [
            "dataset: (57096, 70) (57096, 4)\n"
          ]
        }
      ]
    },
    {
      "cell_type": "code",
      "metadata": {
        "id": "Z84hVKUDUF3r"
      },
      "source": [
        "x=data\n",
        "y=label[:,0]"
      ],
      "execution_count": 10,
      "outputs": []
    },
    {
      "cell_type": "code",
      "metadata": {
        "id": "xGLKl-9Zfjaf",
        "colab": {
          "base_uri": "https://localhost:8080/"
        },
        "outputId": "7b928454-1257-46a4-f25a-d1a53cc3db96"
      },
      "source": [
        "from sklearn.preprocessing import StandardScaler\n",
        "scaler = StandardScaler()\n",
        "scaler.fit(x)\n",
        "x = scaler.transform(x)\n",
        "\n",
        "\n",
        "#from keras.utils import to_categorical\n",
        "from tensorflow.keras.utils import to_categorical\n",
        "y = to_categorical(y)\n",
        "y"
      ],
      "execution_count": 11,
      "outputs": [
        {
          "output_type": "execute_result",
          "data": {
            "text/plain": [
              "array([[0., 0., 0., ..., 1., 0., 0.],\n",
              "       [0., 0., 0., ..., 1., 0., 0.],\n",
              "       [0., 0., 0., ..., 1., 0., 0.],\n",
              "       ...,\n",
              "       [0., 0., 0., ..., 0., 0., 0.],\n",
              "       [0., 0., 0., ..., 0., 0., 0.],\n",
              "       [0., 0., 0., ..., 0., 0., 0.]], dtype=float32)"
            ]
          },
          "metadata": {},
          "execution_count": 11
        }
      ]
    },
    {
      "cell_type": "code",
      "metadata": {
        "id": "HWNnMepTUfrR"
      },
      "source": [
        "x = np.reshape(x, (x.shape[0],1,x.shape[1]))"
      ],
      "execution_count": 12,
      "outputs": []
    },
    {
      "cell_type": "code",
      "metadata": {
        "id": "EaKwv9nFgEX0"
      },
      "source": [
        "from sklearn.model_selection import train_test_split\n",
        "x_train, x_test, y_train, y_test = train_test_split(x, y, test_size = 0.2, random_state = 4)"
      ],
      "execution_count": 13,
      "outputs": []
    },
    {
      "cell_type": "code",
      "metadata": {
        "id": "FRJ5Fu1RmCdj",
        "colab": {
          "base_uri": "https://localhost:8080/"
        },
        "outputId": "5ea6fcf1-e783-4435-a114-7a8a1a837cc7"
      },
      "source": [
        "print(x_train.shape)\n",
        "print(y_train.shape)\n",
        "print(x_test.shape)\n",
        "print(y_test.shape)"
      ],
      "execution_count": 14,
      "outputs": [
        {
          "output_type": "stream",
          "name": "stdout",
          "text": [
            "(45676, 1, 70)\n",
            "(45676, 10)\n",
            "(11420, 1, 70)\n",
            "(11420, 10)\n"
          ]
        }
      ]
    },
    {
      "cell_type": "markdown",
      "metadata": {
        "id": "USYQJJ41UsJA"
      },
      "source": [
        "# loader\n"
      ]
    },
    {
      "cell_type": "code",
      "metadata": {
        "id": "kuQc3oZAUsub"
      },
      "source": [
        "import torch\n",
        "from torch.utils.data import DataLoader\n",
        "from torch.utils.data import TensorDataset\n",
        "\n",
        "batch_size = 150\n",
        "def dataload(X, y):\n",
        "    X_tensor = torch.tensor(X).float()\n",
        "    y_tensor = torch.tensor(y)\n",
        "    dataset_tensor = TensorDataset(X_tensor, y_tensor)\n",
        "    return dataset_tensor\n",
        "    #return DataLoader(dataset_tensor, batch_size=batch_size, shuffle=True)\n",
        "\n",
        "train_loader = DataLoader(dataload(x_train, y_train), batch_size=batch_size, shuffle=True)\n",
        "\n",
        "valid_loader = DataLoader(dataload(x_test, y_test), batch_size=batch_size, shuffle=False)\n",
        "\n",
        "#test_loader = DataLoader(dataload(x_test, y_test), batch_size=batch_size, shuffle=False)"
      ],
      "execution_count": 15,
      "outputs": []
    },
    {
      "cell_type": "markdown",
      "metadata": {
        "id": "HmQvckurOj7V"
      },
      "source": [
        "# LSTM"
      ]
    },
    {
      "cell_type": "code",
      "metadata": {
        "id": "8n8OGs5SOkPF"
      },
      "source": [
        "#model hyperparameters\n",
        "hidden_dim1 = 64\n",
        "hidden_dim2= 32 \n",
        "embed_dim = x_train.shape[2]\n",
        "#ed2 = hidden_dim*2\n",
        "output_dim = y_train.shape[1]\n",
        "num_layers = 1\n",
        "bidirectional = True\n",
        "dropout = 0.5\n",
        "\n",
        "#training hyperparameters\n",
        "num_epochs = 200\n",
        "lr=0.001"
      ],
      "execution_count": 16,
      "outputs": []
    },
    {
      "cell_type": "code",
      "metadata": {
        "id": "J_IjqVibOkRR"
      },
      "source": [
        "import torch.nn as nn\n",
        "from torch.nn import functional as F\n",
        "\n",
        "class LSTM(nn.Module):\n",
        "    def __init__(self):\n",
        "        super().__init__()\n",
        "               \n",
        "        self.layer1 = nn.Sequential(\n",
        "            nn.Conv1d(1, 32, 4, stride=2),\n",
        "            nn.ReLU(),\n",
        "            nn.Dropout(p=0.1))      \n",
        "        self.lstm = nn.LSTM(34, hidden_dim1, num_layers=num_layers,\n",
        "                    bidirectional=bidirectional, \n",
        "                    dropout=dropout,\n",
        "                    batch_first=True)\n",
        "        self.fc = nn.Linear(hidden_dim1*2, output_dim)   \n",
        "        self.softmax = nn.LogSoftmax(dim=1)\n",
        "    \n",
        "    def attention_net(self, lstm_output, final_state):\n",
        "        hidden = final_state.unsqueeze(2)  # hidden : [batch_size, n_hidden * num_directions(=2), 1(=n_layer)]\n",
        "        attn_weights = torch.bmm(lstm_output, hidden).squeeze(2) # attn_weights : [batch_size, seq_len, 1]\n",
        "        soft_attn_weights = F.softmax(attn_weights, 1)\n",
        "        # [batch_size, n_hidden * num_directions(=2), seq_len] * [batch_size, seq_len, 1] = [batch_size, n_hidden * num_directions(=2), 1]\n",
        "        context = torch.bmm(lstm_output.transpose(1, 2), soft_attn_weights.unsqueeze(2)).squeeze(2)\n",
        "        return context, soft_attn_weights.cpu().data.numpy() # context : [batch_size, n_hidden * num_directions(=2)]\n",
        "    \n",
        "    def forward(self, x):\n",
        "        out0 = self.layer1(x)\n",
        "        out,(hn, cn) = self.lstm(out0)\n",
        "        hn = torch.cat((hn[-2,:,:], hn[-1,:,:]), dim = 1)\n",
        "        \n",
        "        attn_output, attention = self.attention_net(out, hn)\n",
        "        out = self.fc(attn_output)\n",
        "        out = self.softmax(out)\n",
        "        return out"
      ],
      "execution_count": 17,
      "outputs": []
    },
    {
      "cell_type": "code",
      "metadata": {
        "id": "8Kl-hCGVQ7V9"
      },
      "source": [
        "#explicitly initialize weights for better learning\n",
        "def initialize_weights(m):\n",
        "    if isinstance(m, nn.Linear):\n",
        "        nn.init.xavier_normal_(m.weight)\n",
        "        nn.init.zeros_(m.bias)\n",
        "    elif isinstance(m, (nn.Conv2d, nn.Conv2d)):\n",
        "        for name, param in m.named_parameters():\n",
        "            if 'bias' in name:\n",
        "                nn.init.zeros_(param)\n",
        "            elif 'weight' in name:\n",
        "                nn.init.kaiming_normal_(param) #<---here"
      ],
      "execution_count": 18,
      "outputs": []
    },
    {
      "cell_type": "code",
      "metadata": {
        "colab": {
          "base_uri": "https://localhost:8080/"
        },
        "id": "Fv5ZjUSdQ9gs",
        "outputId": "6c79adcb-0265-4ca7-d710-377841b8b052"
      },
      "source": [
        "model = LSTM().float()\n",
        "#model.apply(initialize_weights)"
      ],
      "execution_count": 19,
      "outputs": [
        {
          "output_type": "stream",
          "name": "stderr",
          "text": [
            "/usr/local/lib/python3.7/dist-packages/torch/nn/modules/rnn.py:65: UserWarning: dropout option adds dropout after all but last recurrent layer, so non-zero dropout expects num_layers greater than 1, but got dropout=0.5 and num_layers=1\n",
            "  \"num_layers={}\".format(dropout, num_layers))\n"
          ]
        }
      ]
    },
    {
      "cell_type": "code",
      "metadata": {
        "id": "htjSK8grQ9i6"
      },
      "source": [
        "# Loss and optimizer\n",
        "#criterion = nn.CrossEntropyLoss()\n",
        "criterion = nn.MSELoss()\n",
        "optimizer = torch.optim.RMSprop(model.parameters(),lr=lr, eps=1e-08)"
      ],
      "execution_count": 20,
      "outputs": []
    },
    {
      "cell_type": "markdown",
      "metadata": {
        "id": "QmtQFB67HCoR"
      },
      "source": [
        "# Train Test "
      ]
    },
    {
      "cell_type": "code",
      "metadata": {
        "id": "kI7GHuLLIdyz"
      },
      "source": [
        "def binary_accuracy(preds, y):\n",
        "    \"\"\"\n",
        "    Returns accuracy per batch, i.e. if you get 8/10 right, this returns 0.8, NOT 8\n",
        "    \"\"\"\n",
        "    #round predictions to the closest integer\n",
        "    rounded_preds = torch.round(torch.sigmoid(preds))\n",
        "    correct = (rounded_preds == y).float() #convert into float for division \n",
        "    acc = correct.sum() / len(correct)\n",
        "    return acc/2"
      ],
      "execution_count": 21,
      "outputs": []
    },
    {
      "cell_type": "code",
      "metadata": {
        "id": "H_ZVkAzNId1V"
      },
      "source": [
        "def cnn_acc(preds,y):\n",
        "    _, predicted = torch.max(preds.data, 1)\n",
        "    _, y1 = torch.max(y.data, 1)\n",
        "    correct = (predicted == y1).sum()\n",
        "    acc = correct / y.size(0)\n",
        "    return acc"
      ],
      "execution_count": 22,
      "outputs": []
    },
    {
      "cell_type": "code",
      "metadata": {
        "id": "r76aiXrnId3k"
      },
      "source": [
        "def train(model, loader, optimizer, criterion):\n",
        "    epoch_loss = 0\n",
        "    epoch_acc = 0\n",
        "    model.train() #useful for batchnorm and dropout\n",
        "    for i, (features, label) in enumerate(loader): \n",
        "        #predict\n",
        "        predictions = model(features)\n",
        "        #calculate loss\n",
        "        loss = criterion(predictions, label)\n",
        "        \"\"\"l2_lambda = 0.001\n",
        "        l2_norm = sum(p.pow(2.0).sum() for p in model.parameters())\n",
        "        loss = loss + l2_lambda * l2_norm\"\"\"\n",
        "        acc = cnn_acc(predictions, label)\n",
        "        \n",
        "        #backprop\n",
        "        optimizer.zero_grad()\n",
        "        loss.backward()\n",
        "        optimizer.step()\n",
        "        \n",
        "        epoch_loss += loss.item()\n",
        "        epoch_acc += acc.item()\n",
        "                \n",
        "    return epoch_loss / len(loader), epoch_acc / len(loader)"
      ],
      "execution_count": 23,
      "outputs": []
    },
    {
      "cell_type": "code",
      "metadata": {
        "id": "Bqj2y7T-Id5d"
      },
      "source": [
        "def evaluate(model, loader, criterion):\n",
        "    epoch_loss = 0\n",
        "    epoch_acc = 0\n",
        "    model.eval()\n",
        "    \n",
        "    with torch.no_grad():\n",
        "        for i, (features, label) in enumerate(loader): \n",
        "\n",
        "\n",
        "            predictions = model(features)\n",
        "            \n",
        "            loss = criterion(predictions, label)\n",
        "            acc = cnn_acc(predictions, label)\n",
        "\n",
        "            epoch_loss += loss.item()\n",
        "            epoch_acc += acc.item()\n",
        "        \n",
        "    return epoch_loss / len(loader), epoch_acc / len(loader)"
      ],
      "execution_count": 24,
      "outputs": []
    },
    {
      "cell_type": "code",
      "metadata": {
        "colab": {
          "base_uri": "https://localhost:8080/"
        },
        "id": "EzIfXUOtId7p",
        "outputId": "b6b900af-203c-4519-959d-ea39c2793a7d"
      },
      "source": [
        "best_valid_loss = float('inf')\n",
        "\n",
        "train_losses = []\n",
        "train_accs = []\n",
        "valid_losses = []\n",
        "valid_accs = []\n",
        "for epoch in range(num_epochs):\n",
        "\n",
        "    train_loss,train_acc = train(model, train_loader, optimizer, criterion)\n",
        "    valid_loss,valid_acc = evaluate(model, valid_loader, criterion)\n",
        "    \n",
        "    #for plotting\n",
        "    train_losses.append(train_loss)\n",
        "    train_accs.append(train_acc)\n",
        "    valid_losses.append(valid_loss)\n",
        "    valid_accs.append(valid_acc)\n",
        "    \n",
        "    if valid_loss < best_valid_loss:\n",
        "        best_valid_loss = valid_loss\n",
        "        torch.save(model.state_dict(),'tensor.pt')\n",
        "    \n",
        "    print(f'Epoch: {epoch+1:02} | Train Loss: {train_loss:.3f} | Train Acc: {train_acc*100:.2f}%')\n",
        "    print(f'\\t Val. Loss: {valid_loss:.3f} |  Val. Acc: {valid_acc*100:.2f}%')"
      ],
      "execution_count": 25,
      "outputs": [
        {
          "output_type": "stream",
          "name": "stdout",
          "text": [
            "Epoch: 01 | Train Loss: 5.860 | Train Acc: 30.78%\n",
            "\t Val. Loss: 5.859 |  Val. Acc: 33.34%\n",
            "Epoch: 02 | Train Loss: 5.859 | Train Acc: 35.59%\n",
            "\t Val. Loss: 5.858 |  Val. Acc: 37.07%\n",
            "Epoch: 03 | Train Loss: 5.858 | Train Acc: 37.68%\n",
            "\t Val. Loss: 5.858 |  Val. Acc: 39.05%\n",
            "Epoch: 04 | Train Loss: 5.858 | Train Acc: 39.58%\n",
            "\t Val. Loss: 5.857 |  Val. Acc: 40.04%\n",
            "Epoch: 05 | Train Loss: 5.857 | Train Acc: 41.58%\n",
            "\t Val. Loss: 5.857 |  Val. Acc: 41.34%\n",
            "Epoch: 06 | Train Loss: 5.857 | Train Acc: 43.56%\n",
            "\t Val. Loss: 5.856 |  Val. Acc: 43.87%\n",
            "Epoch: 07 | Train Loss: 5.856 | Train Acc: 45.31%\n",
            "\t Val. Loss: 5.856 |  Val. Acc: 45.28%\n",
            "Epoch: 08 | Train Loss: 5.856 | Train Acc: 46.31%\n",
            "\t Val. Loss: 5.856 |  Val. Acc: 47.71%\n",
            "Epoch: 09 | Train Loss: 5.855 | Train Acc: 47.93%\n",
            "\t Val. Loss: 5.856 |  Val. Acc: 46.39%\n",
            "Epoch: 10 | Train Loss: 5.855 | Train Acc: 48.73%\n",
            "\t Val. Loss: 5.855 |  Val. Acc: 48.57%\n",
            "Epoch: 11 | Train Loss: 5.855 | Train Acc: 49.97%\n",
            "\t Val. Loss: 5.855 |  Val. Acc: 49.93%\n",
            "Epoch: 12 | Train Loss: 5.855 | Train Acc: 51.15%\n",
            "\t Val. Loss: 5.855 |  Val. Acc: 50.93%\n",
            "Epoch: 13 | Train Loss: 5.854 | Train Acc: 52.07%\n",
            "\t Val. Loss: 5.854 |  Val. Acc: 51.58%\n",
            "Epoch: 14 | Train Loss: 5.854 | Train Acc: 52.69%\n",
            "\t Val. Loss: 5.854 |  Val. Acc: 53.21%\n",
            "Epoch: 15 | Train Loss: 5.854 | Train Acc: 53.70%\n",
            "\t Val. Loss: 5.854 |  Val. Acc: 52.15%\n",
            "Epoch: 16 | Train Loss: 5.854 | Train Acc: 54.40%\n",
            "\t Val. Loss: 5.854 |  Val. Acc: 53.46%\n",
            "Epoch: 17 | Train Loss: 5.853 | Train Acc: 55.01%\n",
            "\t Val. Loss: 5.854 |  Val. Acc: 53.82%\n",
            "Epoch: 18 | Train Loss: 5.853 | Train Acc: 55.66%\n",
            "\t Val. Loss: 5.854 |  Val. Acc: 54.32%\n",
            "Epoch: 19 | Train Loss: 5.853 | Train Acc: 56.48%\n",
            "\t Val. Loss: 5.854 |  Val. Acc: 54.49%\n",
            "Epoch: 20 | Train Loss: 5.853 | Train Acc: 57.18%\n",
            "\t Val. Loss: 5.853 |  Val. Acc: 57.51%\n",
            "Epoch: 21 | Train Loss: 5.853 | Train Acc: 57.93%\n",
            "\t Val. Loss: 5.853 |  Val. Acc: 55.68%\n",
            "Epoch: 22 | Train Loss: 5.853 | Train Acc: 58.59%\n",
            "\t Val. Loss: 5.853 |  Val. Acc: 57.11%\n",
            "Epoch: 23 | Train Loss: 5.852 | Train Acc: 59.09%\n",
            "\t Val. Loss: 5.853 |  Val. Acc: 57.95%\n",
            "Epoch: 24 | Train Loss: 5.852 | Train Acc: 59.76%\n",
            "\t Val. Loss: 5.853 |  Val. Acc: 58.33%\n",
            "Epoch: 25 | Train Loss: 5.852 | Train Acc: 60.22%\n",
            "\t Val. Loss: 5.852 |  Val. Acc: 58.88%\n",
            "Epoch: 26 | Train Loss: 5.852 | Train Acc: 61.14%\n",
            "\t Val. Loss: 5.852 |  Val. Acc: 59.61%\n",
            "Epoch: 27 | Train Loss: 5.852 | Train Acc: 61.53%\n",
            "\t Val. Loss: 5.852 |  Val. Acc: 60.82%\n",
            "Epoch: 28 | Train Loss: 5.852 | Train Acc: 61.88%\n",
            "\t Val. Loss: 5.852 |  Val. Acc: 59.91%\n",
            "Epoch: 29 | Train Loss: 5.851 | Train Acc: 62.56%\n",
            "\t Val. Loss: 5.852 |  Val. Acc: 61.91%\n",
            "Epoch: 30 | Train Loss: 5.851 | Train Acc: 63.12%\n",
            "\t Val. Loss: 5.852 |  Val. Acc: 61.53%\n",
            "Epoch: 31 | Train Loss: 5.851 | Train Acc: 63.49%\n",
            "\t Val. Loss: 5.852 |  Val. Acc: 60.78%\n",
            "Epoch: 32 | Train Loss: 5.851 | Train Acc: 63.80%\n",
            "\t Val. Loss: 5.851 |  Val. Acc: 63.06%\n",
            "Epoch: 33 | Train Loss: 5.851 | Train Acc: 64.50%\n",
            "\t Val. Loss: 5.851 |  Val. Acc: 63.45%\n",
            "Epoch: 34 | Train Loss: 5.851 | Train Acc: 64.85%\n",
            "\t Val. Loss: 5.851 |  Val. Acc: 63.19%\n",
            "Epoch: 35 | Train Loss: 5.851 | Train Acc: 65.22%\n",
            "\t Val. Loss: 5.852 |  Val. Acc: 62.32%\n",
            "Epoch: 36 | Train Loss: 5.850 | Train Acc: 65.47%\n",
            "\t Val. Loss: 5.851 |  Val. Acc: 64.60%\n",
            "Epoch: 37 | Train Loss: 5.850 | Train Acc: 66.00%\n",
            "\t Val. Loss: 5.851 |  Val. Acc: 62.36%\n",
            "Epoch: 38 | Train Loss: 5.850 | Train Acc: 66.30%\n",
            "\t Val. Loss: 5.850 |  Val. Acc: 65.74%\n",
            "Epoch: 39 | Train Loss: 5.850 | Train Acc: 67.04%\n",
            "\t Val. Loss: 5.850 |  Val. Acc: 65.54%\n",
            "Epoch: 40 | Train Loss: 5.850 | Train Acc: 67.23%\n",
            "\t Val. Loss: 5.850 |  Val. Acc: 66.04%\n",
            "Epoch: 41 | Train Loss: 5.850 | Train Acc: 67.66%\n",
            "\t Val. Loss: 5.851 |  Val. Acc: 64.97%\n",
            "Epoch: 42 | Train Loss: 5.850 | Train Acc: 68.01%\n",
            "\t Val. Loss: 5.850 |  Val. Acc: 65.76%\n",
            "Epoch: 43 | Train Loss: 5.850 | Train Acc: 68.53%\n",
            "\t Val. Loss: 5.851 |  Val. Acc: 65.24%\n",
            "Epoch: 44 | Train Loss: 5.849 | Train Acc: 68.92%\n",
            "\t Val. Loss: 5.850 |  Val. Acc: 66.45%\n",
            "Epoch: 45 | Train Loss: 5.849 | Train Acc: 69.03%\n",
            "\t Val. Loss: 5.850 |  Val. Acc: 67.03%\n",
            "Epoch: 46 | Train Loss: 5.849 | Train Acc: 69.35%\n",
            "\t Val. Loss: 5.850 |  Val. Acc: 67.17%\n",
            "Epoch: 47 | Train Loss: 5.849 | Train Acc: 69.94%\n",
            "\t Val. Loss: 5.850 |  Val. Acc: 66.94%\n",
            "Epoch: 48 | Train Loss: 5.849 | Train Acc: 70.10%\n",
            "\t Val. Loss: 5.850 |  Val. Acc: 67.75%\n",
            "Epoch: 49 | Train Loss: 5.849 | Train Acc: 70.36%\n",
            "\t Val. Loss: 5.850 |  Val. Acc: 67.31%\n",
            "Epoch: 50 | Train Loss: 5.849 | Train Acc: 70.61%\n",
            "\t Val. Loss: 5.849 |  Val. Acc: 69.10%\n",
            "Epoch: 51 | Train Loss: 5.849 | Train Acc: 70.86%\n",
            "\t Val. Loss: 5.850 |  Val. Acc: 67.32%\n",
            "Epoch: 52 | Train Loss: 5.849 | Train Acc: 71.25%\n",
            "\t Val. Loss: 5.849 |  Val. Acc: 68.99%\n",
            "Epoch: 53 | Train Loss: 5.849 | Train Acc: 71.59%\n",
            "\t Val. Loss: 5.850 |  Val. Acc: 68.35%\n",
            "Epoch: 54 | Train Loss: 5.849 | Train Acc: 71.77%\n",
            "\t Val. Loss: 5.849 |  Val. Acc: 69.77%\n",
            "Epoch: 55 | Train Loss: 5.848 | Train Acc: 72.24%\n",
            "\t Val. Loss: 5.849 |  Val. Acc: 68.87%\n",
            "Epoch: 56 | Train Loss: 5.848 | Train Acc: 72.42%\n",
            "\t Val. Loss: 5.849 |  Val. Acc: 69.08%\n",
            "Epoch: 57 | Train Loss: 5.848 | Train Acc: 72.60%\n",
            "\t Val. Loss: 5.849 |  Val. Acc: 70.09%\n",
            "Epoch: 58 | Train Loss: 5.848 | Train Acc: 72.80%\n",
            "\t Val. Loss: 5.849 |  Val. Acc: 69.84%\n",
            "Epoch: 59 | Train Loss: 5.848 | Train Acc: 72.88%\n",
            "\t Val. Loss: 5.849 |  Val. Acc: 69.28%\n",
            "Epoch: 60 | Train Loss: 5.848 | Train Acc: 73.29%\n",
            "\t Val. Loss: 5.849 |  Val. Acc: 70.57%\n",
            "Epoch: 61 | Train Loss: 5.848 | Train Acc: 73.32%\n",
            "\t Val. Loss: 5.849 |  Val. Acc: 70.33%\n",
            "Epoch: 62 | Train Loss: 5.848 | Train Acc: 73.78%\n",
            "\t Val. Loss: 5.849 |  Val. Acc: 71.27%\n",
            "Epoch: 63 | Train Loss: 5.848 | Train Acc: 74.11%\n",
            "\t Val. Loss: 5.849 |  Val. Acc: 70.99%\n",
            "Epoch: 64 | Train Loss: 5.848 | Train Acc: 74.31%\n",
            "\t Val. Loss: 5.848 |  Val. Acc: 72.20%\n",
            "Epoch: 65 | Train Loss: 5.848 | Train Acc: 74.36%\n",
            "\t Val. Loss: 5.849 |  Val. Acc: 70.85%\n",
            "Epoch: 66 | Train Loss: 5.848 | Train Acc: 74.70%\n",
            "\t Val. Loss: 5.849 |  Val. Acc: 69.61%\n",
            "Epoch: 67 | Train Loss: 5.847 | Train Acc: 75.05%\n",
            "\t Val. Loss: 5.849 |  Val. Acc: 70.98%\n",
            "Epoch: 68 | Train Loss: 5.847 | Train Acc: 75.17%\n",
            "\t Val. Loss: 5.848 |  Val. Acc: 72.09%\n",
            "Epoch: 69 | Train Loss: 5.847 | Train Acc: 75.24%\n",
            "\t Val. Loss: 5.849 |  Val. Acc: 70.94%\n",
            "Epoch: 70 | Train Loss: 5.847 | Train Acc: 75.36%\n",
            "\t Val. Loss: 5.848 |  Val. Acc: 71.95%\n",
            "Epoch: 71 | Train Loss: 5.847 | Train Acc: 75.65%\n",
            "\t Val. Loss: 5.849 |  Val. Acc: 71.53%\n",
            "Epoch: 72 | Train Loss: 5.847 | Train Acc: 75.62%\n",
            "\t Val. Loss: 5.848 |  Val. Acc: 72.32%\n",
            "Epoch: 73 | Train Loss: 5.847 | Train Acc: 75.92%\n",
            "\t Val. Loss: 5.848 |  Val. Acc: 73.19%\n",
            "Epoch: 74 | Train Loss: 5.847 | Train Acc: 76.19%\n",
            "\t Val. Loss: 5.849 |  Val. Acc: 70.61%\n",
            "Epoch: 75 | Train Loss: 5.847 | Train Acc: 76.32%\n",
            "\t Val. Loss: 5.848 |  Val. Acc: 72.68%\n",
            "Epoch: 76 | Train Loss: 5.847 | Train Acc: 76.77%\n",
            "\t Val. Loss: 5.848 |  Val. Acc: 73.68%\n",
            "Epoch: 77 | Train Loss: 5.847 | Train Acc: 76.87%\n",
            "\t Val. Loss: 5.848 |  Val. Acc: 73.56%\n",
            "Epoch: 78 | Train Loss: 5.847 | Train Acc: 77.08%\n",
            "\t Val. Loss: 5.848 |  Val. Acc: 72.97%\n",
            "Epoch: 79 | Train Loss: 5.847 | Train Acc: 77.08%\n",
            "\t Val. Loss: 5.848 |  Val. Acc: 73.47%\n",
            "Epoch: 80 | Train Loss: 5.847 | Train Acc: 77.20%\n",
            "\t Val. Loss: 5.848 |  Val. Acc: 74.11%\n",
            "Epoch: 81 | Train Loss: 5.847 | Train Acc: 77.42%\n",
            "\t Val. Loss: 5.848 |  Val. Acc: 74.58%\n",
            "Epoch: 82 | Train Loss: 5.846 | Train Acc: 77.87%\n",
            "\t Val. Loss: 5.848 |  Val. Acc: 74.14%\n",
            "Epoch: 83 | Train Loss: 5.846 | Train Acc: 77.96%\n",
            "\t Val. Loss: 5.848 |  Val. Acc: 73.72%\n",
            "Epoch: 84 | Train Loss: 5.846 | Train Acc: 78.00%\n",
            "\t Val. Loss: 5.848 |  Val. Acc: 73.77%\n",
            "Epoch: 85 | Train Loss: 5.846 | Train Acc: 78.25%\n",
            "\t Val. Loss: 5.848 |  Val. Acc: 74.43%\n",
            "Epoch: 86 | Train Loss: 5.846 | Train Acc: 78.25%\n",
            "\t Val. Loss: 5.847 |  Val. Acc: 74.86%\n",
            "Epoch: 87 | Train Loss: 5.846 | Train Acc: 78.45%\n",
            "\t Val. Loss: 5.847 |  Val. Acc: 75.17%\n",
            "Epoch: 88 | Train Loss: 5.846 | Train Acc: 78.65%\n",
            "\t Val. Loss: 5.847 |  Val. Acc: 74.35%\n",
            "Epoch: 89 | Train Loss: 5.846 | Train Acc: 78.74%\n",
            "\t Val. Loss: 5.848 |  Val. Acc: 74.72%\n",
            "Epoch: 90 | Train Loss: 5.846 | Train Acc: 79.03%\n",
            "\t Val. Loss: 5.847 |  Val. Acc: 74.93%\n",
            "Epoch: 91 | Train Loss: 5.846 | Train Acc: 79.13%\n",
            "\t Val. Loss: 5.848 |  Val. Acc: 74.09%\n",
            "Epoch: 92 | Train Loss: 5.846 | Train Acc: 79.04%\n",
            "\t Val. Loss: 5.848 |  Val. Acc: 72.78%\n",
            "Epoch: 93 | Train Loss: 5.846 | Train Acc: 79.36%\n",
            "\t Val. Loss: 5.847 |  Val. Acc: 75.92%\n",
            "Epoch: 94 | Train Loss: 5.846 | Train Acc: 79.62%\n",
            "\t Val. Loss: 5.847 |  Val. Acc: 75.48%\n",
            "Epoch: 95 | Train Loss: 5.846 | Train Acc: 79.60%\n",
            "\t Val. Loss: 5.848 |  Val. Acc: 74.58%\n",
            "Epoch: 96 | Train Loss: 5.846 | Train Acc: 79.89%\n",
            "\t Val. Loss: 5.848 |  Val. Acc: 74.11%\n",
            "Epoch: 97 | Train Loss: 5.846 | Train Acc: 80.00%\n",
            "\t Val. Loss: 5.847 |  Val. Acc: 76.20%\n",
            "Epoch: 98 | Train Loss: 5.846 | Train Acc: 79.91%\n",
            "\t Val. Loss: 5.847 |  Val. Acc: 75.87%\n",
            "Epoch: 99 | Train Loss: 5.846 | Train Acc: 80.13%\n",
            "\t Val. Loss: 5.847 |  Val. Acc: 76.18%\n",
            "Epoch: 100 | Train Loss: 5.846 | Train Acc: 80.18%\n",
            "\t Val. Loss: 5.847 |  Val. Acc: 75.39%\n",
            "Epoch: 101 | Train Loss: 5.846 | Train Acc: 80.36%\n",
            "\t Val. Loss: 5.847 |  Val. Acc: 75.32%\n",
            "Epoch: 102 | Train Loss: 5.845 | Train Acc: 80.55%\n",
            "\t Val. Loss: 5.847 |  Val. Acc: 76.69%\n",
            "Epoch: 103 | Train Loss: 5.845 | Train Acc: 80.82%\n",
            "\t Val. Loss: 5.847 |  Val. Acc: 76.00%\n",
            "Epoch: 104 | Train Loss: 5.845 | Train Acc: 80.67%\n",
            "\t Val. Loss: 5.847 |  Val. Acc: 75.97%\n",
            "Epoch: 105 | Train Loss: 5.845 | Train Acc: 81.01%\n",
            "\t Val. Loss: 5.847 |  Val. Acc: 76.92%\n",
            "Epoch: 106 | Train Loss: 5.845 | Train Acc: 80.95%\n",
            "\t Val. Loss: 5.847 |  Val. Acc: 76.28%\n",
            "Epoch: 107 | Train Loss: 5.845 | Train Acc: 80.95%\n",
            "\t Val. Loss: 5.847 |  Val. Acc: 76.58%\n",
            "Epoch: 108 | Train Loss: 5.845 | Train Acc: 81.25%\n",
            "\t Val. Loss: 5.847 |  Val. Acc: 76.94%\n",
            "Epoch: 109 | Train Loss: 5.845 | Train Acc: 81.39%\n",
            "\t Val. Loss: 5.847 |  Val. Acc: 75.55%\n",
            "Epoch: 110 | Train Loss: 5.845 | Train Acc: 81.34%\n",
            "\t Val. Loss: 5.847 |  Val. Acc: 76.75%\n",
            "Epoch: 111 | Train Loss: 5.845 | Train Acc: 81.60%\n",
            "\t Val. Loss: 5.847 |  Val. Acc: 77.21%\n",
            "Epoch: 112 | Train Loss: 5.845 | Train Acc: 81.78%\n",
            "\t Val. Loss: 5.846 |  Val. Acc: 77.95%\n",
            "Epoch: 113 | Train Loss: 5.845 | Train Acc: 81.83%\n",
            "\t Val. Loss: 5.847 |  Val. Acc: 77.02%\n",
            "Epoch: 114 | Train Loss: 5.845 | Train Acc: 82.06%\n",
            "\t Val. Loss: 5.846 |  Val. Acc: 77.86%\n",
            "Epoch: 115 | Train Loss: 5.845 | Train Acc: 82.00%\n",
            "\t Val. Loss: 5.847 |  Val. Acc: 77.29%\n",
            "Epoch: 116 | Train Loss: 5.845 | Train Acc: 82.02%\n",
            "\t Val. Loss: 5.846 |  Val. Acc: 77.92%\n",
            "Epoch: 117 | Train Loss: 5.845 | Train Acc: 82.29%\n",
            "\t Val. Loss: 5.846 |  Val. Acc: 77.41%\n",
            "Epoch: 118 | Train Loss: 5.845 | Train Acc: 82.31%\n",
            "\t Val. Loss: 5.847 |  Val. Acc: 77.10%\n",
            "Epoch: 119 | Train Loss: 5.845 | Train Acc: 82.07%\n",
            "\t Val. Loss: 5.846 |  Val. Acc: 78.20%\n",
            "Epoch: 120 | Train Loss: 5.845 | Train Acc: 82.57%\n",
            "\t Val. Loss: 5.846 |  Val. Acc: 77.99%\n",
            "Epoch: 121 | Train Loss: 5.845 | Train Acc: 82.73%\n",
            "\t Val. Loss: 5.846 |  Val. Acc: 78.57%\n",
            "Epoch: 122 | Train Loss: 5.845 | Train Acc: 82.64%\n",
            "\t Val. Loss: 5.846 |  Val. Acc: 78.50%\n",
            "Epoch: 123 | Train Loss: 5.845 | Train Acc: 82.83%\n",
            "\t Val. Loss: 5.846 |  Val. Acc: 77.82%\n",
            "Epoch: 124 | Train Loss: 5.845 | Train Acc: 82.81%\n",
            "\t Val. Loss: 5.846 |  Val. Acc: 78.87%\n",
            "Epoch: 125 | Train Loss: 5.845 | Train Acc: 83.06%\n",
            "\t Val. Loss: 5.847 |  Val. Acc: 76.91%\n",
            "Epoch: 126 | Train Loss: 5.845 | Train Acc: 83.07%\n",
            "\t Val. Loss: 5.846 |  Val. Acc: 78.16%\n",
            "Epoch: 127 | Train Loss: 5.844 | Train Acc: 83.13%\n",
            "\t Val. Loss: 5.846 |  Val. Acc: 78.51%\n",
            "Epoch: 128 | Train Loss: 5.844 | Train Acc: 83.34%\n",
            "\t Val. Loss: 5.847 |  Val. Acc: 77.97%\n",
            "Epoch: 129 | Train Loss: 5.844 | Train Acc: 83.57%\n",
            "\t Val. Loss: 5.846 |  Val. Acc: 78.74%\n",
            "Epoch: 130 | Train Loss: 5.844 | Train Acc: 83.41%\n",
            "\t Val. Loss: 5.847 |  Val. Acc: 77.55%\n",
            "Epoch: 131 | Train Loss: 5.844 | Train Acc: 83.45%\n",
            "\t Val. Loss: 5.846 |  Val. Acc: 78.84%\n",
            "Epoch: 132 | Train Loss: 5.844 | Train Acc: 83.75%\n",
            "\t Val. Loss: 5.846 |  Val. Acc: 79.07%\n",
            "Epoch: 133 | Train Loss: 5.844 | Train Acc: 83.64%\n",
            "\t Val. Loss: 5.846 |  Val. Acc: 78.86%\n",
            "Epoch: 134 | Train Loss: 5.844 | Train Acc: 83.76%\n",
            "\t Val. Loss: 5.846 |  Val. Acc: 77.93%\n",
            "Epoch: 135 | Train Loss: 5.844 | Train Acc: 83.85%\n",
            "\t Val. Loss: 5.846 |  Val. Acc: 79.42%\n",
            "Epoch: 136 | Train Loss: 5.844 | Train Acc: 83.95%\n",
            "\t Val. Loss: 5.846 |  Val. Acc: 79.81%\n",
            "Epoch: 137 | Train Loss: 5.844 | Train Acc: 84.02%\n",
            "\t Val. Loss: 5.846 |  Val. Acc: 78.77%\n",
            "Epoch: 138 | Train Loss: 5.844 | Train Acc: 84.14%\n",
            "\t Val. Loss: 5.846 |  Val. Acc: 79.13%\n",
            "Epoch: 139 | Train Loss: 5.844 | Train Acc: 84.06%\n",
            "\t Val. Loss: 5.846 |  Val. Acc: 79.85%\n",
            "Epoch: 140 | Train Loss: 5.844 | Train Acc: 84.48%\n",
            "\t Val. Loss: 5.846 |  Val. Acc: 79.04%\n",
            "Epoch: 141 | Train Loss: 5.844 | Train Acc: 84.14%\n",
            "\t Val. Loss: 5.846 |  Val. Acc: 79.86%\n",
            "Epoch: 142 | Train Loss: 5.844 | Train Acc: 84.53%\n",
            "\t Val. Loss: 5.846 |  Val. Acc: 79.01%\n",
            "Epoch: 143 | Train Loss: 5.844 | Train Acc: 84.48%\n",
            "\t Val. Loss: 5.845 |  Val. Acc: 80.33%\n",
            "Epoch: 144 | Train Loss: 5.844 | Train Acc: 84.45%\n",
            "\t Val. Loss: 5.846 |  Val. Acc: 79.91%\n",
            "Epoch: 145 | Train Loss: 5.844 | Train Acc: 84.67%\n",
            "\t Val. Loss: 5.846 |  Val. Acc: 79.84%\n",
            "Epoch: 146 | Train Loss: 5.844 | Train Acc: 84.88%\n",
            "\t Val. Loss: 5.846 |  Val. Acc: 78.55%\n",
            "Epoch: 147 | Train Loss: 5.844 | Train Acc: 84.79%\n",
            "\t Val. Loss: 5.846 |  Val. Acc: 79.68%\n",
            "Epoch: 148 | Train Loss: 5.844 | Train Acc: 84.97%\n",
            "\t Val. Loss: 5.846 |  Val. Acc: 79.70%\n",
            "Epoch: 149 | Train Loss: 5.844 | Train Acc: 84.99%\n",
            "\t Val. Loss: 5.846 |  Val. Acc: 80.06%\n",
            "Epoch: 150 | Train Loss: 5.844 | Train Acc: 84.92%\n",
            "\t Val. Loss: 5.846 |  Val. Acc: 80.46%\n",
            "Epoch: 151 | Train Loss: 5.844 | Train Acc: 85.18%\n",
            "\t Val. Loss: 5.846 |  Val. Acc: 80.48%\n",
            "Epoch: 152 | Train Loss: 5.844 | Train Acc: 85.11%\n",
            "\t Val. Loss: 5.846 |  Val. Acc: 79.88%\n",
            "Epoch: 153 | Train Loss: 5.844 | Train Acc: 85.13%\n",
            "\t Val. Loss: 5.846 |  Val. Acc: 78.78%\n",
            "Epoch: 154 | Train Loss: 5.844 | Train Acc: 85.54%\n",
            "\t Val. Loss: 5.846 |  Val. Acc: 80.43%\n",
            "Epoch: 155 | Train Loss: 5.844 | Train Acc: 85.52%\n",
            "\t Val. Loss: 5.845 |  Val. Acc: 80.91%\n",
            "Epoch: 156 | Train Loss: 5.844 | Train Acc: 85.36%\n",
            "\t Val. Loss: 5.846 |  Val. Acc: 80.12%\n",
            "Epoch: 157 | Train Loss: 5.844 | Train Acc: 85.49%\n",
            "\t Val. Loss: 5.846 |  Val. Acc: 79.87%\n",
            "Epoch: 158 | Train Loss: 5.844 | Train Acc: 85.49%\n",
            "\t Val. Loss: 5.846 |  Val. Acc: 79.67%\n",
            "Epoch: 159 | Train Loss: 5.844 | Train Acc: 85.60%\n",
            "\t Val. Loss: 5.845 |  Val. Acc: 81.06%\n",
            "Epoch: 160 | Train Loss: 5.844 | Train Acc: 85.78%\n",
            "\t Val. Loss: 5.846 |  Val. Acc: 80.25%\n",
            "Epoch: 161 | Train Loss: 5.844 | Train Acc: 85.74%\n",
            "\t Val. Loss: 5.846 |  Val. Acc: 79.84%\n",
            "Epoch: 162 | Train Loss: 5.843 | Train Acc: 85.74%\n",
            "\t Val. Loss: 5.845 |  Val. Acc: 81.15%\n",
            "Epoch: 163 | Train Loss: 5.843 | Train Acc: 86.03%\n",
            "\t Val. Loss: 5.845 |  Val. Acc: 80.49%\n",
            "Epoch: 164 | Train Loss: 5.843 | Train Acc: 85.97%\n",
            "\t Val. Loss: 5.845 |  Val. Acc: 80.39%\n",
            "Epoch: 165 | Train Loss: 5.843 | Train Acc: 86.10%\n",
            "\t Val. Loss: 5.846 |  Val. Acc: 80.39%\n",
            "Epoch: 166 | Train Loss: 5.843 | Train Acc: 85.94%\n",
            "\t Val. Loss: 5.846 |  Val. Acc: 80.45%\n",
            "Epoch: 167 | Train Loss: 5.843 | Train Acc: 85.82%\n",
            "\t Val. Loss: 5.845 |  Val. Acc: 80.86%\n",
            "Epoch: 168 | Train Loss: 5.843 | Train Acc: 86.08%\n",
            "\t Val. Loss: 5.845 |  Val. Acc: 80.95%\n",
            "Epoch: 169 | Train Loss: 5.843 | Train Acc: 86.41%\n",
            "\t Val. Loss: 5.845 |  Val. Acc: 80.31%\n",
            "Epoch: 170 | Train Loss: 5.843 | Train Acc: 86.41%\n",
            "\t Val. Loss: 5.845 |  Val. Acc: 80.66%\n",
            "Epoch: 171 | Train Loss: 5.843 | Train Acc: 86.45%\n",
            "\t Val. Loss: 5.845 |  Val. Acc: 81.14%\n",
            "Epoch: 172 | Train Loss: 5.843 | Train Acc: 86.34%\n",
            "\t Val. Loss: 5.845 |  Val. Acc: 80.99%\n",
            "Epoch: 173 | Train Loss: 5.843 | Train Acc: 86.39%\n",
            "\t Val. Loss: 5.845 |  Val. Acc: 81.30%\n",
            "Epoch: 174 | Train Loss: 5.843 | Train Acc: 86.60%\n",
            "\t Val. Loss: 5.845 |  Val. Acc: 81.61%\n",
            "Epoch: 175 | Train Loss: 5.843 | Train Acc: 86.47%\n",
            "\t Val. Loss: 5.845 |  Val. Acc: 81.82%\n",
            "Epoch: 176 | Train Loss: 5.843 | Train Acc: 86.67%\n",
            "\t Val. Loss: 5.845 |  Val. Acc: 80.92%\n",
            "Epoch: 177 | Train Loss: 5.843 | Train Acc: 86.52%\n",
            "\t Val. Loss: 5.846 |  Val. Acc: 79.78%\n",
            "Epoch: 178 | Train Loss: 5.843 | Train Acc: 86.84%\n",
            "\t Val. Loss: 5.845 |  Val. Acc: 81.57%\n",
            "Epoch: 179 | Train Loss: 5.843 | Train Acc: 86.72%\n",
            "\t Val. Loss: 5.845 |  Val. Acc: 81.33%\n",
            "Epoch: 180 | Train Loss: 5.843 | Train Acc: 86.91%\n",
            "\t Val. Loss: 5.845 |  Val. Acc: 81.59%\n",
            "Epoch: 181 | Train Loss: 5.843 | Train Acc: 86.84%\n",
            "\t Val. Loss: 5.845 |  Val. Acc: 81.72%\n",
            "Epoch: 182 | Train Loss: 5.843 | Train Acc: 86.87%\n",
            "\t Val. Loss: 5.845 |  Val. Acc: 81.58%\n",
            "Epoch: 183 | Train Loss: 5.843 | Train Acc: 86.91%\n",
            "\t Val. Loss: 5.846 |  Val. Acc: 80.32%\n",
            "Epoch: 184 | Train Loss: 5.843 | Train Acc: 86.85%\n",
            "\t Val. Loss: 5.845 |  Val. Acc: 80.70%\n",
            "Epoch: 185 | Train Loss: 5.843 | Train Acc: 87.10%\n",
            "\t Val. Loss: 5.845 |  Val. Acc: 80.91%\n",
            "Epoch: 186 | Train Loss: 5.843 | Train Acc: 86.99%\n",
            "\t Val. Loss: 5.845 |  Val. Acc: 82.22%\n",
            "Epoch: 187 | Train Loss: 5.843 | Train Acc: 87.17%\n",
            "\t Val. Loss: 5.845 |  Val. Acc: 81.84%\n",
            "Epoch: 188 | Train Loss: 5.843 | Train Acc: 87.17%\n",
            "\t Val. Loss: 5.845 |  Val. Acc: 82.16%\n",
            "Epoch: 189 | Train Loss: 5.843 | Train Acc: 87.19%\n",
            "\t Val. Loss: 5.845 |  Val. Acc: 82.04%\n",
            "Epoch: 190 | Train Loss: 5.843 | Train Acc: 87.30%\n",
            "\t Val. Loss: 5.845 |  Val. Acc: 82.13%\n",
            "Epoch: 191 | Train Loss: 5.843 | Train Acc: 87.49%\n",
            "\t Val. Loss: 5.845 |  Val. Acc: 82.61%\n",
            "Epoch: 192 | Train Loss: 5.843 | Train Acc: 87.22%\n",
            "\t Val. Loss: 5.845 |  Val. Acc: 81.94%\n",
            "Epoch: 193 | Train Loss: 5.843 | Train Acc: 87.45%\n",
            "\t Val. Loss: 5.845 |  Val. Acc: 81.60%\n",
            "Epoch: 194 | Train Loss: 5.843 | Train Acc: 87.52%\n",
            "\t Val. Loss: 5.845 |  Val. Acc: 82.21%\n",
            "Epoch: 195 | Train Loss: 5.843 | Train Acc: 87.51%\n",
            "\t Val. Loss: 5.845 |  Val. Acc: 81.41%\n",
            "Epoch: 196 | Train Loss: 5.843 | Train Acc: 87.67%\n",
            "\t Val. Loss: 5.845 |  Val. Acc: 81.74%\n",
            "Epoch: 197 | Train Loss: 5.843 | Train Acc: 87.63%\n",
            "\t Val. Loss: 5.845 |  Val. Acc: 82.24%\n",
            "Epoch: 198 | Train Loss: 5.843 | Train Acc: 87.60%\n",
            "\t Val. Loss: 5.845 |  Val. Acc: 81.98%\n",
            "Epoch: 199 | Train Loss: 5.843 | Train Acc: 87.52%\n",
            "\t Val. Loss: 5.845 |  Val. Acc: 82.47%\n",
            "Epoch: 200 | Train Loss: 5.843 | Train Acc: 87.72%\n",
            "\t Val. Loss: 5.845 |  Val. Acc: 81.34%\n"
          ]
        }
      ]
    },
    {
      "cell_type": "code",
      "metadata": {
        "id": "sYoo5fXpHEG1",
        "colab": {
          "base_uri": "https://localhost:8080/",
          "height": 406
        },
        "outputId": "f253af5a-98d8-411d-e24e-87763feec85d"
      },
      "source": [
        "import matplotlib.pyplot as plt\n",
        "fig = plt.figure(figsize=(10, 6))\n",
        "ax = fig.add_subplot(1, 1, 1)\n",
        "ax.plot(train_losses, label = 'train loss')\n",
        "ax.plot(valid_losses, label = 'valid loss')\n",
        "plt.legend()\n",
        "ax.set_xlabel('epoch')\n",
        "ax.set_ylabel('loss')"
      ],
      "execution_count": 26,
      "outputs": [
        {
          "output_type": "execute_result",
          "data": {
            "text/plain": [
              "Text(0, 0.5, 'loss')"
            ]
          },
          "metadata": {},
          "execution_count": 26
        },
        {
          "output_type": "display_data",
          "data": {
            "image/png": "[encoded data removed]",
            "text/plain": [
              "<Figure size 720x432 with 1 Axes>"
            ]
          },
          "metadata": {
            "needs_background": "light"
          }
        }
      ]
    },
    {
      "cell_type": "code",
      "metadata": {
        "id": "mOHzYQU2HO5v",
        "colab": {
          "base_uri": "https://localhost:8080/",
          "height": 407
        },
        "outputId": "ee5754a4-5ddb-4667-d13c-22440f30bbd4"
      },
      "source": [
        "fig = plt.figure(figsize=(10, 6))\n",
        "ax = fig.add_subplot(1, 1, 1)\n",
        "ax.plot(train_accs, label = 'train acc')\n",
        "ax.plot(valid_accs, label = 'valid acc')\n",
        "plt.legend()\n",
        "ax.set_xlabel('epoch')\n",
        "ax.set_ylabel('acc')"
      ],
      "execution_count": 27,
      "outputs": [
        {
          "output_type": "execute_result",
          "data": {
            "text/plain": [
              "Text(0, 0.5, 'acc')"
            ]
          },
          "metadata": {},
          "execution_count": 27
        },
        {
          "output_type": "display_data",
          "data": {
            "image/png": "[encoded data removed]",
            "text/plain": [
              "<Figure size 720x432 with 1 Axes>"
            ]
          },
          "metadata": {
            "needs_background": "light"
          }
        }
      ]
    },
    {
      "cell_type": "code",
      "metadata": {
        "colab": {
          "base_uri": "https://localhost:8080/"
        },
        "id": "IuGL_rZOhbvg",
        "outputId": "aa4c74b8-ff4a-4800-8658-753274c4c7ad"
      },
      "source": [
        "model.load_state_dict(torch.load('tensor.pt'))\n",
        "test_loss , test_acc = evaluate(model, test_loader, criterion)\n",
        "print(f'Test Loss: {test_loss:.3f} | Test Acc: {test_acc*100:.2f}%')"
      ],
      "execution_count": 30,
      "outputs": [
        {
          "output_type": "stream",
          "name": "stdout",
          "text": [
            "Test Loss: 5.845 | Test Acc: 82.61%\n"
          ]
        }
      ]
    }
  ]
}
