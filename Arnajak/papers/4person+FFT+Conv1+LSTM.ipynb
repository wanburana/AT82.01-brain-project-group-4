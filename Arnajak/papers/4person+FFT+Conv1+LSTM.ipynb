{
  "nbformat": 4,
  "nbformat_minor": 0,
  "metadata": {
    "colab": {
      "name": "4person+FFT+Conv1+LSTM.ipynb",
      "provenance": []
    },
    "kernelspec": {
      "name": "python3",
      "display_name": "Python 3"
    },
    "language_info": {
      "name": "python"
    }
  },
  "cells": [
    {
      "cell_type": "code",
      "metadata": {
        "colab": {
          "base_uri": "https://localhost:8080/"
        },
        "id": "lZrNDF6JyUS6",
        "outputId": "d2f2e74b-a165-473e-929c-35f2224b82d0"
      },
      "source": [
        "pip install git+https://github.com/forrestbao/pyeeg.git"
      ],
      "execution_count": 3,
      "outputs": [
        {
          "output_type": "stream",
          "name": "stdout",
          "text": [
            "Collecting git+https://github.com/forrestbao/pyeeg.git\n",
            "  Cloning https://github.com/forrestbao/pyeeg.git to /tmp/pip-req-build-be1u9ll8\n",
            "  Running command git clone -q https://github.com/forrestbao/pyeeg.git /tmp/pip-req-build-be1u9ll8\n",
            "Requirement already satisfied: numpy>=1.9.2 in /usr/local/lib/python3.7/dist-packages (from pyeeg==0.4.4) (1.19.5)\n",
            "Building wheels for collected packages: pyeeg\n",
            "  Building wheel for pyeeg (setup.py) ... \u001b[?25l\u001b[?25hdone\n",
            "  Created wheel for pyeeg: filename=pyeeg-0.4.4-py2.py3-none-any.whl size=28132 sha256=bb920675faff007945010c91e48bc66f0dd61c15b0ad115beb2118d4926d0623\n",
            "  Stored in directory: /tmp/pip-ephem-wheel-cache-pq3ep033/wheels/b0/23/e4/703c908bda656959957029fa145879aa79307b2545a2ef0271\n",
            "Successfully built pyeeg\n",
            "Installing collected packages: pyeeg\n",
            "Successfully installed pyeeg-0.4.4\n"
          ]
        }
      ]
    },
    {
      "cell_type": "code",
      "metadata": {
        "id": "K_nNVr0rx8U-"
      },
      "source": [
        "import numpy as np\n",
        "import pickle as pickle\n",
        "import pandas as pd\n",
        "import pyeeg as pe"
      ],
      "execution_count": 4,
      "outputs": []
    },
    {
      "cell_type": "code",
      "metadata": {
        "id": "sEqTvZvXyrL_"
      },
      "source": [
        "channel = [1,2,3,4,6,11,13,17,19,20,21,25,29,31] #14 Channels chosen to fit Emotiv Epoch+\n",
        "band = [4,8,12,16,25,45] #5 bands\n",
        "window_size = 256 #Averaging band power of 2 sec\n",
        "step_size = 16 #Each 0.125 sec update once\n",
        "sample_rate = 70 #Sampling rate of 128 Hz\n",
        "subjectList = ['01','02','03','04']\n",
        "#List of subjects"
      ],
      "execution_count": 9,
      "outputs": []
    },
    {
      "cell_type": "code",
      "metadata": {
        "colab": {
          "base_uri": "https://localhost:8080/"
        },
        "id": "Nr_6BtGQyvTs",
        "outputId": "947f6c00-e21d-4d0c-9db3-268ed00029ab"
      },
      "source": [
        "from google.colab import drive\n",
        "drive.mount('/content/drive')"
      ],
      "execution_count": 6,
      "outputs": [
        {
          "output_type": "stream",
          "name": "stdout",
          "text": [
            "Mounted at /content/drive\n"
          ]
        }
      ]
    },
    {
      "cell_type": "code",
      "metadata": {
        "id": "fUjkY-dzy4Rv"
      },
      "source": [
        "def FFT_Processing (sub, channel, band, window_size, step_size, sample_rate):\n",
        "    '''\n",
        "    arguments:  string subject\n",
        "                list channel indice\n",
        "                list band\n",
        "                int window size for FFT\n",
        "                int step size for FFT\n",
        "                int sample rate for FFT\n",
        "    return:     void\n",
        "    '''\n",
        "    meta = []\n",
        "    with open('/content/drive/MyDrive/EEG/DEAP/data_preprocessed_python/s' + sub + '.dat', 'rb') as file:\n",
        "\n",
        "        subject = pickle.load(file, encoding='latin1') #resolve the python 2 data problem by encoding : latin1\n",
        "\n",
        "        for i in range (0,39):\n",
        "            # loop over 0-39 trails\n",
        "            data = subject[\"data\"][i]\n",
        "            labels = subject[\"labels\"][i]\n",
        "            start = 0;          \n",
        "            while start + window_size < data.shape[1]:\n",
        "                meta_array = []\n",
        "                meta_data = [] #meta vector for analysis\n",
        "                for j in channel:\n",
        "                    X = data[j][start : start + window_size] #Slice raw data over 2 sec, at interval of 0.125 sec\n",
        "                    Y = pe.bin_power(X, band, sample_rate) #FFT over 2 sec of channel j, in seq of theta, alpha, low beta, high beta, gamma\n",
        "                    meta_data = meta_data + list(Y[0])\n",
        "\n",
        "                meta_array.append(np.array(meta_data))\n",
        "                meta_array.append(labels)\n",
        "\n",
        "                meta.append(np.array(meta_array))    \n",
        "                start = start + step_size\n",
        "                \n",
        "        meta = np.array(meta)\n",
        "        np.save('out\\s' + sub, meta, allow_pickle=True, fix_imports=True)\n"
      ],
      "execution_count": 7,
      "outputs": []
    },
    {
      "cell_type": "code",
      "metadata": {
        "colab": {
          "base_uri": "https://localhost:8080/"
        },
        "id": "xGZnwFmJy4T8",
        "outputId": "e96d2c94-1c40-4fc3-a93f-424ca8ad91d5"
      },
      "source": [
        "for subjects in subjectList:\n",
        "    FFT_Processing (subjects, channel, band, window_size, step_size, sample_rate)"
      ],
      "execution_count": 10,
      "outputs": [
        {
          "output_type": "stream",
          "name": "stderr",
          "text": [
            "/usr/local/lib/python3.7/dist-packages/ipykernel_launcher.py:32: VisibleDeprecationWarning: Creating an ndarray from ragged nested sequences (which is a list-or-tuple of lists-or-tuples-or ndarrays with different lengths or shapes) is deprecated. If you meant to do this, you must specify 'dtype=object' when creating the ndarray\n"
          ]
        }
      ]
    },
    {
      "cell_type": "code",
      "metadata": {
        "colab": {
          "base_uri": "https://localhost:8080/"
        },
        "id": "GkQS5WMoy4Vx",
        "outputId": "e292d6a2-4832-4a1c-c5ff-c9efae49a652"
      },
      "source": [
        "data = []\n",
        "label = []\n",
        "\n",
        "for subjects in subjectList:  \n",
        "    with open('/content/out\\s' + subjects + '.npy', 'rb') as file:\n",
        "        sub = np.load(file,allow_pickle=True)\n",
        "        for i in range (0,sub.shape[0]):\n",
        "            if i % 8 == 0 or i % 8== 0:\n",
        "                data.append(sub[i][0])\n",
        "                label.append(sub[i][1])\n",
        "                \n",
        "data = np.array(data)\n",
        "label = np.array(label)\n",
        "print(\"dataset:\", data.shape,label.shape)"
      ],
      "execution_count": 19,
      "outputs": [
        {
          "output_type": "stream",
          "name": "stdout",
          "text": [
            "dataset: (9516, 70) (9516, 4)\n"
          ]
        }
      ]
    },
    {
      "cell_type": "code",
      "metadata": {
        "id": "FyTRpE6ky4X9"
      },
      "source": [
        "x=data"
      ],
      "execution_count": 87,
      "outputs": []
    },
    {
      "cell_type": "code",
      "metadata": {
        "colab": {
          "base_uri": "https://localhost:8080/"
        },
        "id": "rR2I64Oq52fW",
        "outputId": "1191a10b-abc9-4c3b-a7ce-c60640c7485a"
      },
      "source": [
        "# valence 0-low ,1 high \n",
        "valence = []\n",
        "mean_valence = np.mean(label[:,0])\n",
        "for i in range(label.shape[0]):\n",
        "  if label[i,0] < mean_valence :\n",
        "    valence.append(0)\n",
        "  else :\n",
        "    valence.append(1)\n",
        "valence = np.array(valence)\n",
        "valence.shape"
      ],
      "execution_count": 88,
      "outputs": [
        {
          "output_type": "execute_result",
          "data": {
            "text/plain": [
              "(9516,)"
            ]
          },
          "metadata": {},
          "execution_count": 88
        }
      ]
    },
    {
      "cell_type": "code",
      "metadata": {
        "colab": {
          "base_uri": "https://localhost:8080/"
        },
        "id": "djEmhDCJy4Z6",
        "outputId": "e127cf76-46cb-4074-e13b-9c958c702d8e"
      },
      "source": [
        "from sklearn.preprocessing import StandardScaler\n",
        "scaler = StandardScaler()\n",
        "scaler.fit(x)\n",
        "x = scaler.transform(x)\n",
        "\n",
        "#from keras.utils import to_categorical\n",
        "from tensorflow.keras.utils import to_categorical\n",
        "valence = to_categorical(valence)\n",
        "valence.shape"
      ],
      "execution_count": 89,
      "outputs": [
        {
          "output_type": "execute_result",
          "data": {
            "text/plain": [
              "(9516, 2)"
            ]
          },
          "metadata": {},
          "execution_count": 89
        }
      ]
    },
    {
      "cell_type": "code",
      "metadata": {
        "colab": {
          "base_uri": "https://localhost:8080/"
        },
        "id": "56rdV9tt1wi-",
        "outputId": "109b64b0-ec23-4d97-b002-a4c0e6df7a15"
      },
      "source": [
        "x = np.reshape(x, (x.shape[0],1,x.shape[1]))\n",
        "x.shape"
      ],
      "execution_count": 90,
      "outputs": [
        {
          "output_type": "execute_result",
          "data": {
            "text/plain": [
              "(9516, 1, 70)"
            ]
          },
          "metadata": {},
          "execution_count": 90
        }
      ]
    },
    {
      "cell_type": "code",
      "metadata": {
        "id": "eJYeLMTgy4b3"
      },
      "source": [
        "train_size = 0.7\n",
        "val_size = 0.1\n",
        "idx = np.arange(0,x.shape[0],1)\n",
        "ts = int(train_size*x.shape[0]) \n",
        "vs = int(val_size*x.shape[0]) \n",
        "idx_train = idx[0:ts]\n",
        "idx_val = idx[ts:ts+vs]\n",
        "idx_test = idx[ts+vs:]"
      ],
      "execution_count": 91,
      "outputs": []
    },
    {
      "cell_type": "code",
      "metadata": {
        "colab": {
          "base_uri": "https://localhost:8080/"
        },
        "id": "A4O0GO4yy4d0",
        "outputId": "42f0de3d-af63-4565-e30c-393ff1882847"
      },
      "source": [
        "x_train = x[idx_train]\n",
        "x_val =  x[idx_val]\n",
        "x_test = x[idx_test]\n",
        "\n",
        "y_train = valence[idx_train]\n",
        "y_val = valence[idx_val]\n",
        "y_test = valence[idx_test]\n",
        "\n",
        "print('x_train',x_train.shape)\n",
        "print('x_val',x_val.shape)\n",
        "print('x_test',x_test.shape)\n",
        "\n",
        "print('y_train',y_train.shape)\n",
        "print('y_val',y_val.shape)\n",
        "print('y_test',y_test.shape)"
      ],
      "execution_count": 92,
      "outputs": [
        {
          "output_type": "stream",
          "name": "stdout",
          "text": [
            "x_train (6661, 1, 70)\n",
            "x_val (951, 1, 70)\n",
            "x_test (1904, 1, 70)\n",
            "y_train (6661, 2)\n",
            "y_val (951, 2)\n",
            "y_test (1904, 2)\n"
          ]
        }
      ]
    },
    {
      "cell_type": "code",
      "metadata": {
        "id": "9mO8CcJOy4f-"
      },
      "source": [
        "import torch\n",
        "from torch.utils.data import DataLoader\n",
        "from torch.utils.data import TensorDataset\n",
        "\n",
        "batch_size = 50\n",
        "def dataload(X, y):\n",
        "    X_tensor = torch.tensor(X).float()\n",
        "    y_tensor = torch.tensor(y)\n",
        "    dataset_tensor = TensorDataset(X_tensor, y_tensor)\n",
        "    return dataset_tensor\n",
        "    #return DataLoader(dataset_tensor, batch_size=batch_size, shuffle=True)\n",
        "\n",
        "train_loader = DataLoader(dataload(x_train, y_train), batch_size=batch_size, shuffle=True)\n",
        "\n",
        "valid_loader = DataLoader(dataload(x_val, y_val), batch_size=batch_size, shuffle=False)\n",
        "\n",
        "test_loader = DataLoader(dataload(x_test, y_test), batch_size=batch_size, shuffle=False)"
      ],
      "execution_count": 93,
      "outputs": []
    },
    {
      "cell_type": "markdown",
      "metadata": {
        "id": "HmQvckurOj7V"
      },
      "source": [
        "# LSTM"
      ]
    },
    {
      "cell_type": "code",
      "metadata": {
        "id": "8n8OGs5SOkPF"
      },
      "source": [
        "#model hyperparameters\n",
        "hidden_dim1 = 64\n",
        "embed_dim = x_train.shape[2]\n",
        "output_dim = y_train.shape[1]\n",
        "num_layers = 1\n",
        "bidirectional = True\n",
        "dropout = 0.5\n",
        "\n",
        "#training hyperparameters\n",
        "num_epochs = 200\n",
        "lr=0.001"
      ],
      "execution_count": 94,
      "outputs": []
    },
    {
      "cell_type": "code",
      "metadata": {
        "id": "J_IjqVibOkRR"
      },
      "source": [
        "import torch.nn as nn\n",
        "from torch.nn import functional as F\n",
        "\n",
        "class LSTM(nn.Module):\n",
        "    def __init__(self):\n",
        "        super().__init__()\n",
        "               \n",
        "        self.layer1 = nn.Sequential(\n",
        "            nn.Conv1d(1, 32, 4, stride=2),\n",
        "            nn.ReLU(),\n",
        "            nn.Dropout(p=0.1))      \n",
        "        self.lstm = nn.LSTM(34, hidden_dim1, num_layers=num_layers,\n",
        "                    bidirectional=bidirectional, \n",
        "                    dropout=dropout,\n",
        "                    batch_first=True)\n",
        "        self.fc = nn.Linear(hidden_dim1*2, output_dim)   \n",
        "        self.softmax = nn.LogSoftmax(dim=1)\n",
        "    \n",
        "    def attention_net(self, lstm_output, final_state):\n",
        "        hidden = final_state.unsqueeze(2)  # hidden : [batch_size, n_hidden * num_directions(=2), 1(=n_layer)]\n",
        "        attn_weights = torch.bmm(lstm_output, hidden).squeeze(2) # attn_weights : [batch_size, seq_len, 1]\n",
        "        soft_attn_weights = F.softmax(attn_weights, 1)\n",
        "        # [batch_size, n_hidden * num_directions(=2), seq_len] * [batch_size, seq_len, 1] = [batch_size, n_hidden * num_directions(=2), 1]\n",
        "        context = torch.bmm(lstm_output.transpose(1, 2), soft_attn_weights.unsqueeze(2)).squeeze(2)\n",
        "        return context, soft_attn_weights.cpu().data.numpy() # context : [batch_size, n_hidden * num_directions(=2)]\n",
        "    \n",
        "    def forward(self, x):\n",
        "        out0 = self.layer1(x)\n",
        "        out,(hn, cn) = self.lstm(out0)\n",
        "        hn = torch.cat((hn[-2,:,:], hn[-1,:,:]), dim = 1)\n",
        "        \n",
        "        attn_output, attention = self.attention_net(out, hn)\n",
        "        out = self.fc(attn_output)\n",
        "        out = self.softmax(out)\n",
        "        return out"
      ],
      "execution_count": 95,
      "outputs": []
    },
    {
      "cell_type": "code",
      "metadata": {
        "id": "8Kl-hCGVQ7V9"
      },
      "source": [
        "#explicitly initialize weights for better learning\n",
        "def initialize_weights(m):\n",
        "    if isinstance(m, nn.Linear):\n",
        "        nn.init.xavier_normal_(m.weight)\n",
        "        nn.init.zeros_(m.bias)\n",
        "    elif isinstance(m, (nn.Conv2d, nn.Conv2d)):\n",
        "        for name, param in m.named_parameters():\n",
        "            if 'bias' in name:\n",
        "                nn.init.zeros_(param)\n",
        "            elif 'weight' in name:\n",
        "                nn.init.kaiming_normal_(param) #<---here"
      ],
      "execution_count": 96,
      "outputs": []
    },
    {
      "cell_type": "code",
      "metadata": {
        "colab": {
          "base_uri": "https://localhost:8080/"
        },
        "id": "Fv5ZjUSdQ9gs",
        "outputId": "ddd7749f-d699-4735-887c-dd1dd897b303"
      },
      "source": [
        "model = LSTM()\n",
        "#model.apply(initialize_weights)"
      ],
      "execution_count": 97,
      "outputs": [
        {
          "output_type": "stream",
          "name": "stderr",
          "text": [
            "/usr/local/lib/python3.7/dist-packages/torch/nn/modules/rnn.py:65: UserWarning: dropout option adds dropout after all but last recurrent layer, so non-zero dropout expects num_layers greater than 1, but got dropout=0.5 and num_layers=1\n",
            "  \"num_layers={}\".format(dropout, num_layers))\n"
          ]
        }
      ]
    },
    {
      "cell_type": "code",
      "metadata": {
        "id": "htjSK8grQ9i6"
      },
      "source": [
        "# Loss and optimizer\n",
        "#criterion = nn.CrossEntropyLoss()\n",
        "criterion = nn.MSELoss()\n",
        "optimizer = torch.optim.RMSprop(model.parameters(),lr=lr, eps=1e-08)"
      ],
      "execution_count": 98,
      "outputs": []
    },
    {
      "cell_type": "markdown",
      "metadata": {
        "id": "QmtQFB67HCoR"
      },
      "source": [
        "# Train Test "
      ]
    },
    {
      "cell_type": "code",
      "metadata": {
        "id": "H_ZVkAzNId1V"
      },
      "source": [
        "def cnn_acc(preds,y):\n",
        "    _, predicted = torch.max(preds.data, 1)\n",
        "    _, y1 = torch.max(y.data, 1)\n",
        "    correct = (predicted == y1).sum()\n",
        "    acc = correct / y.size(0)\n",
        "    return acc"
      ],
      "execution_count": 99,
      "outputs": []
    },
    {
      "cell_type": "code",
      "metadata": {
        "id": "r76aiXrnId3k"
      },
      "source": [
        "def train(model, loader, optimizer, criterion):\n",
        "    epoch_loss = 0\n",
        "    epoch_acc = 0\n",
        "    model.train() #useful for batchnorm and dropout\n",
        "    for i, (features, label) in enumerate(loader): \n",
        "        #predict\n",
        "        predictions = model(features)\n",
        "        #calculate loss\n",
        "        loss = criterion(predictions, label)\n",
        "        \"\"\"l2_lambda = 0.001\n",
        "        l2_norm = sum(p.pow(2.0).sum() for p in model.parameters())\n",
        "        loss = loss + l2_lambda * l2_norm\"\"\"\n",
        "        acc = cnn_acc(predictions, label)\n",
        "        \n",
        "        #backprop\n",
        "        optimizer.zero_grad()\n",
        "        loss.backward()\n",
        "        optimizer.step()\n",
        "        \n",
        "        epoch_loss += loss.item()\n",
        "        epoch_acc += acc.item()\n",
        "                \n",
        "    return epoch_loss / len(loader), epoch_acc / len(loader)"
      ],
      "execution_count": 100,
      "outputs": []
    },
    {
      "cell_type": "code",
      "metadata": {
        "id": "Bqj2y7T-Id5d"
      },
      "source": [
        "def evaluate(model, loader, criterion):\n",
        "    epoch_loss = 0\n",
        "    epoch_acc = 0\n",
        "    model.eval()\n",
        "    \n",
        "    with torch.no_grad():\n",
        "        for i, (features, label) in enumerate(loader): \n",
        "\n",
        "\n",
        "            predictions = model(features)\n",
        "            \n",
        "            loss = criterion(predictions, label)\n",
        "            acc = cnn_acc(predictions, label)\n",
        "\n",
        "            epoch_loss += loss.item()\n",
        "            epoch_acc += acc.item()\n",
        "        \n",
        "    return epoch_loss / len(loader), epoch_acc / len(loader)"
      ],
      "execution_count": 101,
      "outputs": []
    },
    {
      "cell_type": "code",
      "metadata": {
        "colab": {
          "base_uri": "https://localhost:8080/"
        },
        "id": "EzIfXUOtId7p",
        "outputId": "bcbddf36-527c-4587-d5b5-afdf128dce39"
      },
      "source": [
        "best_valid_loss = float('inf')\n",
        "\n",
        "train_losses = []\n",
        "train_accs = []\n",
        "valid_losses = []\n",
        "valid_accs = []\n",
        "for epoch in range(num_epochs):\n",
        "\n",
        "    train_loss,train_acc = train(model, train_loader, optimizer, criterion)\n",
        "    valid_loss,valid_acc = evaluate(model, valid_loader, criterion)\n",
        "    \n",
        "    #for plotting\n",
        "    train_losses.append(train_loss)\n",
        "    train_accs.append(train_acc)\n",
        "    valid_losses.append(valid_loss)\n",
        "    valid_accs.append(valid_acc)\n",
        "    \n",
        "    if valid_loss < best_valid_loss:\n",
        "        best_valid_loss = valid_loss\n",
        "        torch.save(model.state_dict(),'tensor.pt')\n",
        "    \n",
        "    print(f'Epoch: {epoch+1:02} | Train Loss: {train_loss:.3f} | Train Acc: {train_acc*100:.2f}%')\n",
        "    print(f'\\t Val. Loss: {valid_loss:.3f} |  Val. Acc: {valid_acc*100:.2f}%')"
      ],
      "execution_count": 102,
      "outputs": [
        {
          "output_type": "stream",
          "name": "stdout",
          "text": [
            "Epoch: 01 | Train Loss: 1.674 | Train Acc: 55.98%\n",
            "\t Val. Loss: 1.665 |  Val. Acc: 72.00%\n",
            "Epoch: 02 | Train Loss: 1.671 | Train Acc: 57.80%\n",
            "\t Val. Loss: 1.678 |  Val. Acc: 37.40%\n",
            "Epoch: 03 | Train Loss: 1.669 | Train Acc: 58.39%\n",
            "\t Val. Loss: 1.709 |  Val. Acc: 27.50%\n",
            "Epoch: 04 | Train Loss: 1.668 | Train Acc: 58.86%\n",
            "\t Val. Loss: 1.718 |  Val. Acc: 27.30%\n",
            "Epoch: 05 | Train Loss: 1.667 | Train Acc: 59.34%\n",
            "\t Val. Loss: 1.728 |  Val. Acc: 26.50%\n",
            "Epoch: 06 | Train Loss: 1.666 | Train Acc: 60.61%\n",
            "\t Val. Loss: 1.684 |  Val. Acc: 47.30%\n",
            "Epoch: 07 | Train Loss: 1.665 | Train Acc: 60.96%\n",
            "\t Val. Loss: 1.707 |  Val. Acc: 35.10%\n",
            "Epoch: 08 | Train Loss: 1.664 | Train Acc: 61.24%\n",
            "\t Val. Loss: 1.745 |  Val. Acc: 26.80%\n",
            "Epoch: 09 | Train Loss: 1.664 | Train Acc: 61.99%\n",
            "\t Val. Loss: 1.699 |  Val. Acc: 43.80%\n",
            "Epoch: 10 | Train Loss: 1.663 | Train Acc: 62.59%\n",
            "\t Val. Loss: 1.641 |  Val. Acc: 73.20%\n",
            "Epoch: 11 | Train Loss: 1.663 | Train Acc: 62.51%\n",
            "\t Val. Loss: 1.686 |  Val. Acc: 52.30%\n",
            "Epoch: 12 | Train Loss: 1.662 | Train Acc: 62.85%\n",
            "\t Val. Loss: 1.682 |  Val. Acc: 55.40%\n",
            "Epoch: 13 | Train Loss: 1.661 | Train Acc: 63.71%\n",
            "\t Val. Loss: 1.699 |  Val. Acc: 48.00%\n",
            "Epoch: 14 | Train Loss: 1.661 | Train Acc: 63.74%\n",
            "\t Val. Loss: 1.684 |  Val. Acc: 55.40%\n",
            "Epoch: 15 | Train Loss: 1.660 | Train Acc: 64.15%\n",
            "\t Val. Loss: 1.662 |  Val. Acc: 64.50%\n",
            "Epoch: 16 | Train Loss: 1.660 | Train Acc: 64.60%\n",
            "\t Val. Loss: 1.691 |  Val. Acc: 53.80%\n",
            "Epoch: 17 | Train Loss: 1.660 | Train Acc: 64.48%\n",
            "\t Val. Loss: 1.707 |  Val. Acc: 46.20%\n",
            "Epoch: 18 | Train Loss: 1.659 | Train Acc: 64.82%\n",
            "\t Val. Loss: 1.680 |  Val. Acc: 59.30%\n",
            "Epoch: 19 | Train Loss: 1.658 | Train Acc: 65.70%\n",
            "\t Val. Loss: 1.741 |  Val. Acc: 38.80%\n",
            "Epoch: 20 | Train Loss: 1.658 | Train Acc: 65.54%\n",
            "\t Val. Loss: 1.726 |  Val. Acc: 31.50%\n",
            "Epoch: 21 | Train Loss: 1.657 | Train Acc: 65.99%\n",
            "\t Val. Loss: 1.728 |  Val. Acc: 34.60%\n",
            "Epoch: 22 | Train Loss: 1.657 | Train Acc: 65.27%\n",
            "\t Val. Loss: 1.700 |  Val. Acc: 48.30%\n",
            "Epoch: 23 | Train Loss: 1.657 | Train Acc: 66.05%\n",
            "\t Val. Loss: 1.714 |  Val. Acc: 46.70%\n",
            "Epoch: 24 | Train Loss: 1.656 | Train Acc: 66.74%\n",
            "\t Val. Loss: 1.673 |  Val. Acc: 60.30%\n",
            "Epoch: 25 | Train Loss: 1.656 | Train Acc: 66.43%\n",
            "\t Val. Loss: 1.651 |  Val. Acc: 65.40%\n",
            "Epoch: 26 | Train Loss: 1.655 | Train Acc: 67.03%\n",
            "\t Val. Loss: 1.673 |  Val. Acc: 60.70%\n",
            "Epoch: 27 | Train Loss: 1.654 | Train Acc: 67.48%\n",
            "\t Val. Loss: 1.705 |  Val. Acc: 46.60%\n",
            "Epoch: 28 | Train Loss: 1.655 | Train Acc: 67.20%\n",
            "\t Val. Loss: 1.694 |  Val. Acc: 49.30%\n",
            "Epoch: 29 | Train Loss: 1.653 | Train Acc: 67.81%\n",
            "\t Val. Loss: 1.727 |  Val. Acc: 40.90%\n",
            "Epoch: 30 | Train Loss: 1.653 | Train Acc: 67.68%\n",
            "\t Val. Loss: 1.768 |  Val. Acc: 32.60%\n",
            "Epoch: 31 | Train Loss: 1.653 | Train Acc: 67.97%\n",
            "\t Val. Loss: 1.690 |  Val. Acc: 55.90%\n",
            "Epoch: 32 | Train Loss: 1.652 | Train Acc: 68.51%\n",
            "\t Val. Loss: 1.682 |  Val. Acc: 57.20%\n",
            "Epoch: 33 | Train Loss: 1.652 | Train Acc: 68.73%\n",
            "\t Val. Loss: 1.702 |  Val. Acc: 49.70%\n",
            "Epoch: 34 | Train Loss: 1.652 | Train Acc: 68.54%\n",
            "\t Val. Loss: 1.692 |  Val. Acc: 52.40%\n",
            "Epoch: 35 | Train Loss: 1.651 | Train Acc: 68.88%\n",
            "\t Val. Loss: 1.713 |  Val. Acc: 35.70%\n",
            "Epoch: 36 | Train Loss: 1.651 | Train Acc: 68.85%\n",
            "\t Val. Loss: 1.666 |  Val. Acc: 63.70%\n",
            "Epoch: 37 | Train Loss: 1.651 | Train Acc: 68.71%\n",
            "\t Val. Loss: 1.685 |  Val. Acc: 54.80%\n",
            "Epoch: 38 | Train Loss: 1.650 | Train Acc: 68.51%\n",
            "\t Val. Loss: 1.714 |  Val. Acc: 41.90%\n",
            "Epoch: 39 | Train Loss: 1.650 | Train Acc: 69.10%\n",
            "\t Val. Loss: 1.660 |  Val. Acc: 64.60%\n",
            "Epoch: 40 | Train Loss: 1.649 | Train Acc: 69.14%\n",
            "\t Val. Loss: 1.727 |  Val. Acc: 39.20%\n",
            "Epoch: 41 | Train Loss: 1.649 | Train Acc: 69.68%\n",
            "\t Val. Loss: 1.646 |  Val. Acc: 70.00%\n",
            "Epoch: 42 | Train Loss: 1.649 | Train Acc: 69.11%\n",
            "\t Val. Loss: 1.690 |  Val. Acc: 52.30%\n",
            "Epoch: 43 | Train Loss: 1.649 | Train Acc: 69.16%\n",
            "\t Val. Loss: 1.699 |  Val. Acc: 43.40%\n",
            "Epoch: 44 | Train Loss: 1.648 | Train Acc: 70.00%\n",
            "\t Val. Loss: 1.690 |  Val. Acc: 50.80%\n",
            "Epoch: 45 | Train Loss: 1.648 | Train Acc: 69.34%\n",
            "\t Val. Loss: 1.729 |  Val. Acc: 37.70%\n",
            "Epoch: 46 | Train Loss: 1.647 | Train Acc: 69.90%\n",
            "\t Val. Loss: 1.695 |  Val. Acc: 52.20%\n",
            "Epoch: 47 | Train Loss: 1.647 | Train Acc: 70.55%\n",
            "\t Val. Loss: 1.726 |  Val. Acc: 42.20%\n",
            "Epoch: 48 | Train Loss: 1.646 | Train Acc: 71.17%\n",
            "\t Val. Loss: 1.703 |  Val. Acc: 50.40%\n",
            "Epoch: 49 | Train Loss: 1.647 | Train Acc: 70.02%\n",
            "\t Val. Loss: 1.697 |  Val. Acc: 45.40%\n",
            "Epoch: 50 | Train Loss: 1.647 | Train Acc: 70.07%\n",
            "\t Val. Loss: 1.698 |  Val. Acc: 50.10%\n",
            "Epoch: 51 | Train Loss: 1.646 | Train Acc: 70.20%\n",
            "\t Val. Loss: 1.697 |  Val. Acc: 50.80%\n",
            "Epoch: 52 | Train Loss: 1.646 | Train Acc: 70.49%\n",
            "\t Val. Loss: 1.686 |  Val. Acc: 50.30%\n",
            "Epoch: 53 | Train Loss: 1.645 | Train Acc: 70.84%\n",
            "\t Val. Loss: 1.695 |  Val. Acc: 52.90%\n",
            "Epoch: 54 | Train Loss: 1.644 | Train Acc: 71.51%\n",
            "\t Val. Loss: 1.720 |  Val. Acc: 42.90%\n",
            "Epoch: 55 | Train Loss: 1.645 | Train Acc: 71.41%\n",
            "\t Val. Loss: 1.704 |  Val. Acc: 47.20%\n",
            "Epoch: 56 | Train Loss: 1.645 | Train Acc: 71.03%\n",
            "\t Val. Loss: 1.705 |  Val. Acc: 46.20%\n",
            "Epoch: 57 | Train Loss: 1.644 | Train Acc: 71.75%\n",
            "\t Val. Loss: 1.686 |  Val. Acc: 54.70%\n",
            "Epoch: 58 | Train Loss: 1.644 | Train Acc: 71.50%\n",
            "\t Val. Loss: 1.694 |  Val. Acc: 52.90%\n",
            "Epoch: 59 | Train Loss: 1.643 | Train Acc: 71.95%\n",
            "\t Val. Loss: 1.703 |  Val. Acc: 41.50%\n",
            "Epoch: 60 | Train Loss: 1.642 | Train Acc: 72.63%\n",
            "\t Val. Loss: 1.706 |  Val. Acc: 47.70%\n",
            "Epoch: 61 | Train Loss: 1.643 | Train Acc: 72.12%\n",
            "\t Val. Loss: 1.733 |  Val. Acc: 38.60%\n",
            "Epoch: 62 | Train Loss: 1.642 | Train Acc: 72.19%\n",
            "\t Val. Loss: 1.727 |  Val. Acc: 44.70%\n",
            "Epoch: 63 | Train Loss: 1.642 | Train Acc: 72.47%\n",
            "\t Val. Loss: 1.726 |  Val. Acc: 45.70%\n",
            "Epoch: 64 | Train Loss: 1.641 | Train Acc: 72.63%\n",
            "\t Val. Loss: 1.737 |  Val. Acc: 37.50%\n",
            "Epoch: 65 | Train Loss: 1.641 | Train Acc: 73.15%\n",
            "\t Val. Loss: 1.731 |  Val. Acc: 38.40%\n",
            "Epoch: 66 | Train Loss: 1.641 | Train Acc: 72.78%\n",
            "\t Val. Loss: 1.742 |  Val. Acc: 33.80%\n",
            "Epoch: 67 | Train Loss: 1.641 | Train Acc: 72.06%\n",
            "\t Val. Loss: 1.767 |  Val. Acc: 33.40%\n",
            "Epoch: 68 | Train Loss: 1.640 | Train Acc: 72.42%\n",
            "\t Val. Loss: 1.716 |  Val. Acc: 44.60%\n",
            "Epoch: 69 | Train Loss: 1.640 | Train Acc: 73.15%\n",
            "\t Val. Loss: 1.713 |  Val. Acc: 45.40%\n",
            "Epoch: 70 | Train Loss: 1.639 | Train Acc: 73.44%\n",
            "\t Val. Loss: 1.732 |  Val. Acc: 42.60%\n",
            "Epoch: 71 | Train Loss: 1.639 | Train Acc: 73.87%\n",
            "\t Val. Loss: 1.713 |  Val. Acc: 44.80%\n",
            "Epoch: 72 | Train Loss: 1.639 | Train Acc: 73.82%\n",
            "\t Val. Loss: 1.692 |  Val. Acc: 53.20%\n",
            "Epoch: 73 | Train Loss: 1.638 | Train Acc: 73.62%\n",
            "\t Val. Loss: 1.711 |  Val. Acc: 47.30%\n",
            "Epoch: 74 | Train Loss: 1.638 | Train Acc: 74.17%\n",
            "\t Val. Loss: 1.716 |  Val. Acc: 51.20%\n",
            "Epoch: 75 | Train Loss: 1.639 | Train Acc: 73.81%\n",
            "\t Val. Loss: 1.740 |  Val. Acc: 43.30%\n",
            "Epoch: 76 | Train Loss: 1.638 | Train Acc: 73.89%\n",
            "\t Val. Loss: 1.699 |  Val. Acc: 50.50%\n",
            "Epoch: 77 | Train Loss: 1.637 | Train Acc: 74.24%\n",
            "\t Val. Loss: 1.692 |  Val. Acc: 53.60%\n",
            "Epoch: 78 | Train Loss: 1.638 | Train Acc: 73.76%\n",
            "\t Val. Loss: 1.778 |  Val. Acc: 35.20%\n",
            "Epoch: 79 | Train Loss: 1.636 | Train Acc: 75.03%\n",
            "\t Val. Loss: 1.673 |  Val. Acc: 59.30%\n",
            "Epoch: 80 | Train Loss: 1.636 | Train Acc: 74.72%\n",
            "\t Val. Loss: 1.710 |  Val. Acc: 49.00%\n",
            "Epoch: 81 | Train Loss: 1.636 | Train Acc: 75.04%\n",
            "\t Val. Loss: 1.741 |  Val. Acc: 43.60%\n",
            "Epoch: 82 | Train Loss: 1.635 | Train Acc: 75.57%\n",
            "\t Val. Loss: 1.673 |  Val. Acc: 59.70%\n",
            "Epoch: 83 | Train Loss: 1.635 | Train Acc: 75.16%\n",
            "\t Val. Loss: 1.710 |  Val. Acc: 51.30%\n",
            "Epoch: 84 | Train Loss: 1.635 | Train Acc: 75.03%\n",
            "\t Val. Loss: 1.682 |  Val. Acc: 59.00%\n",
            "Epoch: 85 | Train Loss: 1.634 | Train Acc: 76.07%\n",
            "\t Val. Loss: 1.692 |  Val. Acc: 54.20%\n",
            "Epoch: 86 | Train Loss: 1.634 | Train Acc: 75.57%\n",
            "\t Val. Loss: 1.691 |  Val. Acc: 58.40%\n",
            "Epoch: 87 | Train Loss: 1.633 | Train Acc: 75.85%\n",
            "\t Val. Loss: 1.723 |  Val. Acc: 47.00%\n",
            "Epoch: 88 | Train Loss: 1.634 | Train Acc: 75.29%\n",
            "\t Val. Loss: 1.720 |  Val. Acc: 48.40%\n",
            "Epoch: 89 | Train Loss: 1.632 | Train Acc: 76.12%\n",
            "\t Val. Loss: 1.762 |  Val. Acc: 43.20%\n",
            "Epoch: 90 | Train Loss: 1.633 | Train Acc: 75.72%\n",
            "\t Val. Loss: 1.723 |  Val. Acc: 51.30%\n",
            "Epoch: 91 | Train Loss: 1.632 | Train Acc: 76.10%\n",
            "\t Val. Loss: 1.701 |  Val. Acc: 50.70%\n",
            "Epoch: 92 | Train Loss: 1.632 | Train Acc: 76.42%\n",
            "\t Val. Loss: 1.694 |  Val. Acc: 59.10%\n",
            "Epoch: 93 | Train Loss: 1.631 | Train Acc: 76.89%\n",
            "\t Val. Loss: 1.726 |  Val. Acc: 49.50%\n",
            "Epoch: 94 | Train Loss: 1.631 | Train Acc: 76.62%\n",
            "\t Val. Loss: 1.722 |  Val. Acc: 49.10%\n",
            "Epoch: 95 | Train Loss: 1.630 | Train Acc: 77.13%\n",
            "\t Val. Loss: 1.700 |  Val. Acc: 54.60%\n",
            "Epoch: 96 | Train Loss: 1.630 | Train Acc: 77.43%\n",
            "\t Val. Loss: 1.711 |  Val. Acc: 50.60%\n",
            "Epoch: 97 | Train Loss: 1.630 | Train Acc: 77.47%\n",
            "\t Val. Loss: 1.690 |  Val. Acc: 56.50%\n",
            "Epoch: 98 | Train Loss: 1.630 | Train Acc: 76.99%\n",
            "\t Val. Loss: 1.775 |  Val. Acc: 43.20%\n",
            "Epoch: 99 | Train Loss: 1.629 | Train Acc: 77.66%\n",
            "\t Val. Loss: 1.713 |  Val. Acc: 52.10%\n",
            "Epoch: 100 | Train Loss: 1.630 | Train Acc: 76.92%\n",
            "\t Val. Loss: 1.732 |  Val. Acc: 47.00%\n",
            "Epoch: 101 | Train Loss: 1.629 | Train Acc: 77.39%\n",
            "\t Val. Loss: 1.720 |  Val. Acc: 51.30%\n",
            "Epoch: 102 | Train Loss: 1.628 | Train Acc: 77.42%\n",
            "\t Val. Loss: 1.720 |  Val. Acc: 49.50%\n",
            "Epoch: 103 | Train Loss: 1.628 | Train Acc: 77.88%\n",
            "\t Val. Loss: 1.744 |  Val. Acc: 45.10%\n",
            "Epoch: 104 | Train Loss: 1.628 | Train Acc: 77.90%\n",
            "\t Val. Loss: 1.763 |  Val. Acc: 48.70%\n",
            "Epoch: 105 | Train Loss: 1.628 | Train Acc: 78.04%\n",
            "\t Val. Loss: 1.735 |  Val. Acc: 50.50%\n",
            "Epoch: 106 | Train Loss: 1.627 | Train Acc: 78.54%\n",
            "\t Val. Loss: 1.728 |  Val. Acc: 50.30%\n",
            "Epoch: 107 | Train Loss: 1.627 | Train Acc: 78.41%\n",
            "\t Val. Loss: 1.738 |  Val. Acc: 48.20%\n",
            "Epoch: 108 | Train Loss: 1.627 | Train Acc: 78.15%\n",
            "\t Val. Loss: 1.737 |  Val. Acc: 45.90%\n",
            "Epoch: 109 | Train Loss: 1.627 | Train Acc: 78.46%\n",
            "\t Val. Loss: 1.678 |  Val. Acc: 65.60%\n",
            "Epoch: 110 | Train Loss: 1.626 | Train Acc: 78.99%\n",
            "\t Val. Loss: 1.736 |  Val. Acc: 51.40%\n",
            "Epoch: 111 | Train Loss: 1.626 | Train Acc: 78.87%\n",
            "\t Val. Loss: 1.720 |  Val. Acc: 58.10%\n",
            "Epoch: 112 | Train Loss: 1.626 | Train Acc: 79.04%\n",
            "\t Val. Loss: 1.741 |  Val. Acc: 48.90%\n",
            "Epoch: 113 | Train Loss: 1.625 | Train Acc: 78.78%\n",
            "\t Val. Loss: 1.788 |  Val. Acc: 43.90%\n",
            "Epoch: 114 | Train Loss: 1.625 | Train Acc: 78.59%\n",
            "\t Val. Loss: 1.755 |  Val. Acc: 44.90%\n",
            "Epoch: 115 | Train Loss: 1.624 | Train Acc: 79.82%\n",
            "\t Val. Loss: 1.702 |  Val. Acc: 60.40%\n",
            "Epoch: 116 | Train Loss: 1.624 | Train Acc: 79.95%\n",
            "\t Val. Loss: 1.694 |  Val. Acc: 62.70%\n",
            "Epoch: 117 | Train Loss: 1.624 | Train Acc: 79.48%\n",
            "\t Val. Loss: 1.753 |  Val. Acc: 50.10%\n",
            "Epoch: 118 | Train Loss: 1.624 | Train Acc: 79.80%\n",
            "\t Val. Loss: 1.712 |  Val. Acc: 53.40%\n",
            "Epoch: 119 | Train Loss: 1.623 | Train Acc: 80.28%\n",
            "\t Val. Loss: 1.814 |  Val. Acc: 43.50%\n",
            "Epoch: 120 | Train Loss: 1.623 | Train Acc: 80.13%\n",
            "\t Val. Loss: 1.719 |  Val. Acc: 56.70%\n",
            "Epoch: 121 | Train Loss: 1.622 | Train Acc: 80.01%\n",
            "\t Val. Loss: 1.741 |  Val. Acc: 54.50%\n",
            "Epoch: 122 | Train Loss: 1.623 | Train Acc: 79.70%\n",
            "\t Val. Loss: 1.725 |  Val. Acc: 53.40%\n",
            "Epoch: 123 | Train Loss: 1.621 | Train Acc: 80.88%\n",
            "\t Val. Loss: 1.766 |  Val. Acc: 53.80%\n",
            "Epoch: 124 | Train Loss: 1.622 | Train Acc: 80.24%\n",
            "\t Val. Loss: 1.729 |  Val. Acc: 52.50%\n",
            "Epoch: 125 | Train Loss: 1.621 | Train Acc: 80.89%\n",
            "\t Val. Loss: 1.760 |  Val. Acc: 52.60%\n",
            "Epoch: 126 | Train Loss: 1.621 | Train Acc: 80.38%\n",
            "\t Val. Loss: 1.726 |  Val. Acc: 56.80%\n",
            "Epoch: 127 | Train Loss: 1.621 | Train Acc: 81.33%\n",
            "\t Val. Loss: 1.734 |  Val. Acc: 50.20%\n",
            "Epoch: 128 | Train Loss: 1.621 | Train Acc: 80.88%\n",
            "\t Val. Loss: 1.748 |  Val. Acc: 52.20%\n",
            "Epoch: 129 | Train Loss: 1.620 | Train Acc: 80.88%\n",
            "\t Val. Loss: 1.788 |  Val. Acc: 46.60%\n",
            "Epoch: 130 | Train Loss: 1.621 | Train Acc: 80.68%\n",
            "\t Val. Loss: 1.795 |  Val. Acc: 42.50%\n",
            "Epoch: 131 | Train Loss: 1.619 | Train Acc: 81.32%\n",
            "\t Val. Loss: 1.745 |  Val. Acc: 51.60%\n",
            "Epoch: 132 | Train Loss: 1.620 | Train Acc: 81.24%\n",
            "\t Val. Loss: 1.762 |  Val. Acc: 48.50%\n",
            "Epoch: 133 | Train Loss: 1.619 | Train Acc: 81.07%\n",
            "\t Val. Loss: 1.731 |  Val. Acc: 57.20%\n",
            "Epoch: 134 | Train Loss: 1.619 | Train Acc: 81.15%\n",
            "\t Val. Loss: 1.743 |  Val. Acc: 51.80%\n",
            "Epoch: 135 | Train Loss: 1.618 | Train Acc: 81.02%\n",
            "\t Val. Loss: 1.763 |  Val. Acc: 49.50%\n",
            "Epoch: 136 | Train Loss: 1.618 | Train Acc: 81.99%\n",
            "\t Val. Loss: 1.720 |  Val. Acc: 57.40%\n",
            "Epoch: 137 | Train Loss: 1.617 | Train Acc: 82.45%\n",
            "\t Val. Loss: 1.759 |  Val. Acc: 53.70%\n",
            "Epoch: 138 | Train Loss: 1.618 | Train Acc: 82.43%\n",
            "\t Val. Loss: 1.766 |  Val. Acc: 50.10%\n",
            "Epoch: 139 | Train Loss: 1.617 | Train Acc: 82.31%\n",
            "\t Val. Loss: 1.753 |  Val. Acc: 52.20%\n",
            "Epoch: 140 | Train Loss: 1.616 | Train Acc: 82.44%\n",
            "\t Val. Loss: 1.791 |  Val. Acc: 46.80%\n",
            "Epoch: 141 | Train Loss: 1.617 | Train Acc: 81.96%\n",
            "\t Val. Loss: 1.736 |  Val. Acc: 54.60%\n",
            "Epoch: 142 | Train Loss: 1.616 | Train Acc: 82.83%\n",
            "\t Val. Loss: 1.754 |  Val. Acc: 49.40%\n",
            "Epoch: 143 | Train Loss: 1.616 | Train Acc: 82.61%\n",
            "\t Val. Loss: 1.835 |  Val. Acc: 39.50%\n",
            "Epoch: 144 | Train Loss: 1.617 | Train Acc: 82.61%\n",
            "\t Val. Loss: 1.785 |  Val. Acc: 53.50%\n",
            "Epoch: 145 | Train Loss: 1.615 | Train Acc: 82.71%\n",
            "\t Val. Loss: 1.703 |  Val. Acc: 63.20%\n",
            "Epoch: 146 | Train Loss: 1.615 | Train Acc: 82.96%\n",
            "\t Val. Loss: 1.772 |  Val. Acc: 48.00%\n",
            "Epoch: 147 | Train Loss: 1.614 | Train Acc: 83.14%\n",
            "\t Val. Loss: 1.813 |  Val. Acc: 44.90%\n",
            "Epoch: 148 | Train Loss: 1.613 | Train Acc: 83.71%\n",
            "\t Val. Loss: 1.751 |  Val. Acc: 56.10%\n",
            "Epoch: 149 | Train Loss: 1.614 | Train Acc: 83.05%\n",
            "\t Val. Loss: 1.740 |  Val. Acc: 53.30%\n",
            "Epoch: 150 | Train Loss: 1.614 | Train Acc: 83.32%\n",
            "\t Val. Loss: 1.741 |  Val. Acc: 54.50%\n",
            "Epoch: 151 | Train Loss: 1.614 | Train Acc: 83.61%\n",
            "\t Val. Loss: 1.778 |  Val. Acc: 48.60%\n",
            "Epoch: 152 | Train Loss: 1.615 | Train Acc: 83.07%\n",
            "\t Val. Loss: 1.721 |  Val. Acc: 59.10%\n",
            "Epoch: 153 | Train Loss: 1.613 | Train Acc: 83.33%\n",
            "\t Val. Loss: 1.792 |  Val. Acc: 48.90%\n",
            "Epoch: 154 | Train Loss: 1.614 | Train Acc: 83.31%\n",
            "\t Val. Loss: 1.729 |  Val. Acc: 51.60%\n",
            "Epoch: 155 | Train Loss: 1.613 | Train Acc: 84.03%\n",
            "\t Val. Loss: 1.732 |  Val. Acc: 56.10%\n",
            "Epoch: 156 | Train Loss: 1.612 | Train Acc: 84.14%\n",
            "\t Val. Loss: 1.798 |  Val. Acc: 41.50%\n",
            "Epoch: 157 | Train Loss: 1.611 | Train Acc: 84.52%\n",
            "\t Val. Loss: 1.749 |  Val. Acc: 54.80%\n",
            "Epoch: 158 | Train Loss: 1.612 | Train Acc: 83.96%\n",
            "\t Val. Loss: 1.788 |  Val. Acc: 46.20%\n",
            "Epoch: 159 | Train Loss: 1.611 | Train Acc: 84.37%\n",
            "\t Val. Loss: 1.778 |  Val. Acc: 52.30%\n",
            "Epoch: 160 | Train Loss: 1.611 | Train Acc: 84.36%\n",
            "\t Val. Loss: 1.803 |  Val. Acc: 48.50%\n",
            "Epoch: 161 | Train Loss: 1.610 | Train Acc: 84.28%\n",
            "\t Val. Loss: 1.786 |  Val. Acc: 50.70%\n",
            "Epoch: 162 | Train Loss: 1.611 | Train Acc: 84.51%\n",
            "\t Val. Loss: 1.774 |  Val. Acc: 49.50%\n",
            "Epoch: 163 | Train Loss: 1.610 | Train Acc: 84.56%\n",
            "\t Val. Loss: 1.753 |  Val. Acc: 53.10%\n",
            "Epoch: 164 | Train Loss: 1.610 | Train Acc: 85.09%\n",
            "\t Val. Loss: 1.736 |  Val. Acc: 53.80%\n",
            "Epoch: 165 | Train Loss: 1.609 | Train Acc: 85.07%\n",
            "\t Val. Loss: 1.735 |  Val. Acc: 54.00%\n",
            "Epoch: 166 | Train Loss: 1.611 | Train Acc: 84.97%\n",
            "\t Val. Loss: 1.778 |  Val. Acc: 47.60%\n",
            "Epoch: 167 | Train Loss: 1.609 | Train Acc: 85.42%\n",
            "\t Val. Loss: 1.734 |  Val. Acc: 51.90%\n",
            "Epoch: 168 | Train Loss: 1.609 | Train Acc: 85.07%\n",
            "\t Val. Loss: 1.741 |  Val. Acc: 54.20%\n",
            "Epoch: 169 | Train Loss: 1.609 | Train Acc: 85.34%\n",
            "\t Val. Loss: 1.772 |  Val. Acc: 48.60%\n",
            "Epoch: 170 | Train Loss: 1.609 | Train Acc: 85.57%\n",
            "\t Val. Loss: 1.758 |  Val. Acc: 51.00%\n",
            "Epoch: 171 | Train Loss: 1.609 | Train Acc: 84.97%\n",
            "\t Val. Loss: 1.774 |  Val. Acc: 45.90%\n",
            "Epoch: 172 | Train Loss: 1.609 | Train Acc: 85.13%\n",
            "\t Val. Loss: 1.780 |  Val. Acc: 50.70%\n",
            "Epoch: 173 | Train Loss: 1.607 | Train Acc: 85.61%\n",
            "\t Val. Loss: 1.781 |  Val. Acc: 49.80%\n",
            "Epoch: 174 | Train Loss: 1.608 | Train Acc: 85.40%\n",
            "\t Val. Loss: 1.777 |  Val. Acc: 47.50%\n",
            "Epoch: 175 | Train Loss: 1.607 | Train Acc: 85.99%\n",
            "\t Val. Loss: 1.776 |  Val. Acc: 51.20%\n",
            "Epoch: 176 | Train Loss: 1.607 | Train Acc: 85.87%\n",
            "\t Val. Loss: 1.777 |  Val. Acc: 49.50%\n",
            "Epoch: 177 | Train Loss: 1.608 | Train Acc: 85.62%\n",
            "\t Val. Loss: 1.788 |  Val. Acc: 46.20%\n",
            "Epoch: 178 | Train Loss: 1.606 | Train Acc: 86.14%\n",
            "\t Val. Loss: 1.773 |  Val. Acc: 49.70%\n",
            "Epoch: 179 | Train Loss: 1.607 | Train Acc: 86.13%\n",
            "\t Val. Loss: 1.787 |  Val. Acc: 48.40%\n",
            "Epoch: 180 | Train Loss: 1.607 | Train Acc: 86.02%\n",
            "\t Val. Loss: 1.761 |  Val. Acc: 54.80%\n",
            "Epoch: 181 | Train Loss: 1.606 | Train Acc: 86.17%\n",
            "\t Val. Loss: 1.809 |  Val. Acc: 45.40%\n",
            "Epoch: 182 | Train Loss: 1.606 | Train Acc: 86.11%\n",
            "\t Val. Loss: 1.731 |  Val. Acc: 58.50%\n",
            "Epoch: 183 | Train Loss: 1.606 | Train Acc: 86.11%\n",
            "\t Val. Loss: 1.768 |  Val. Acc: 49.00%\n",
            "Epoch: 184 | Train Loss: 1.606 | Train Acc: 86.52%\n",
            "\t Val. Loss: 1.782 |  Val. Acc: 50.70%\n",
            "Epoch: 185 | Train Loss: 1.606 | Train Acc: 86.48%\n",
            "\t Val. Loss: 1.754 |  Val. Acc: 52.10%\n",
            "Epoch: 186 | Train Loss: 1.605 | Train Acc: 86.79%\n",
            "\t Val. Loss: 1.790 |  Val. Acc: 47.20%\n",
            "Epoch: 187 | Train Loss: 1.606 | Train Acc: 86.37%\n",
            "\t Val. Loss: 1.788 |  Val. Acc: 45.80%\n",
            "Epoch: 188 | Train Loss: 1.605 | Train Acc: 87.18%\n",
            "\t Val. Loss: 1.749 |  Val. Acc: 53.40%\n",
            "Epoch: 189 | Train Loss: 1.604 | Train Acc: 86.95%\n",
            "\t Val. Loss: 1.744 |  Val. Acc: 59.40%\n",
            "Epoch: 190 | Train Loss: 1.604 | Train Acc: 86.49%\n",
            "\t Val. Loss: 1.754 |  Val. Acc: 53.50%\n",
            "Epoch: 191 | Train Loss: 1.605 | Train Acc: 86.28%\n",
            "\t Val. Loss: 1.769 |  Val. Acc: 53.20%\n",
            "Epoch: 192 | Train Loss: 1.604 | Train Acc: 86.65%\n",
            "\t Val. Loss: 1.775 |  Val. Acc: 48.40%\n",
            "Epoch: 193 | Train Loss: 1.603 | Train Acc: 87.18%\n",
            "\t Val. Loss: 1.776 |  Val. Acc: 50.10%\n",
            "Epoch: 194 | Train Loss: 1.605 | Train Acc: 86.51%\n",
            "\t Val. Loss: 1.751 |  Val. Acc: 53.50%\n",
            "Epoch: 195 | Train Loss: 1.603 | Train Acc: 87.56%\n",
            "\t Val. Loss: 1.766 |  Val. Acc: 49.00%\n",
            "Epoch: 196 | Train Loss: 1.603 | Train Acc: 87.19%\n",
            "\t Val. Loss: 1.739 |  Val. Acc: 59.80%\n",
            "Epoch: 197 | Train Loss: 1.603 | Train Acc: 87.42%\n",
            "\t Val. Loss: 1.763 |  Val. Acc: 53.00%\n",
            "Epoch: 198 | Train Loss: 1.603 | Train Acc: 87.34%\n",
            "\t Val. Loss: 1.798 |  Val. Acc: 49.70%\n",
            "Epoch: 199 | Train Loss: 1.602 | Train Acc: 87.28%\n",
            "\t Val. Loss: 1.758 |  Val. Acc: 53.00%\n",
            "Epoch: 200 | Train Loss: 1.602 | Train Acc: 87.51%\n",
            "\t Val. Loss: 1.792 |  Val. Acc: 50.60%\n"
          ]
        }
      ]
    },
    {
      "cell_type": "code",
      "metadata": {
        "id": "sYoo5fXpHEG1",
        "colab": {
          "base_uri": "https://localhost:8080/",
          "height": 406
        },
        "outputId": "c396c12f-903c-4b08-b1a4-4e0a1f2babaf"
      },
      "source": [
        "import matplotlib.pyplot as plt\n",
        "fig = plt.figure(figsize=(10, 6))\n",
        "ax = fig.add_subplot(1, 1, 1)\n",
        "ax.plot(train_losses, label = 'train loss')\n",
        "ax.plot(valid_losses, label = 'valid loss')\n",
        "plt.legend()\n",
        "ax.set_xlabel('epoch')\n",
        "ax.set_ylabel('loss')"
      ],
      "execution_count": 103,
      "outputs": [
        {
          "output_type": "execute_result",
          "data": {
            "text/plain": [
              "Text(0, 0.5, 'loss')"
            ]
          },
          "metadata": {},
          "execution_count": 103
        },
        {
          "output_type": "display_data",
          "data": {
            "image/png": "[encoded data removed]",
            "text/plain": [
              "<Figure size 720x432 with 1 Axes>"
            ]
          },
          "metadata": {
            "needs_background": "light"
          }
        }
      ]
    },
    {
      "cell_type": "code",
      "metadata": {
        "id": "mOHzYQU2HO5v",
        "colab": {
          "base_uri": "https://localhost:8080/",
          "height": 407
        },
        "outputId": "50bca7eb-e7e8-4396-a204-36abbfd5de9c"
      },
      "source": [
        "fig = plt.figure(figsize=(10, 6))\n",
        "ax = fig.add_subplot(1, 1, 1)\n",
        "ax.plot(train_accs, label = 'train acc')\n",
        "ax.plot(valid_accs, label = 'valid acc')\n",
        "plt.legend()\n",
        "ax.set_xlabel('epoch')\n",
        "ax.set_ylabel('acc')"
      ],
      "execution_count": 104,
      "outputs": [
        {
          "output_type": "execute_result",
          "data": {
            "text/plain": [
              "Text(0, 0.5, 'acc')"
            ]
          },
          "metadata": {},
          "execution_count": 104
        },
        {
          "output_type": "display_data",
          "data": {
            "image/png": "[encoded data removed]",
            "text/plain": [
              "<Figure size 720x432 with 1 Axes>"
            ]
          },
          "metadata": {
            "needs_background": "light"
          }
        }
      ]
    },
    {
      "cell_type": "code",
      "metadata": {
        "id": "VmAk-Nr-HQEU",
        "colab": {
          "base_uri": "https://localhost:8080/"
        },
        "outputId": "df61771d-4284-4aae-e34e-340efc97f432"
      },
      "source": [
        "model.load_state_dict(torch.load('tensor.pt'))\n",
        "test_loss , test_acc = evaluate(model, test_loader, criterion)\n",
        "print(f'Test Loss: {test_loss:.3f} | Test Acc: {test_acc*100:.2f}%')"
      ],
      "execution_count": 105,
      "outputs": [
        {
          "output_type": "stream",
          "name": "stdout",
          "text": [
            "Test Loss: 1.688 | Test Acc: 47.08%\n"
          ]
        }
      ]
    }
  ]
}