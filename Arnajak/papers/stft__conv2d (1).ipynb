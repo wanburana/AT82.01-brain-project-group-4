{
  "nbformat": 4,
  "nbformat_minor": 0,
  "metadata": {
    "colab": {
      "name": "stft->conv2d.ipynb",
      "provenance": [],
      "toc_visible": true
    },
    "kernelspec": {
      "name": "python3",
      "display_name": "Python 3"
    },
    "language_info": {
      "name": "python"
    }
  },
  "cells": [
    {
      "cell_type": "markdown",
      "metadata": {
        "id": "XUe0frhXlK6w"
      },
      "source": [
        "# STFT"
      ]
    },
    {
      "cell_type": "code",
      "metadata": {
        "id": "cxXNKr9ckcLS"
      },
      "source": [
        "stft_data = np.zeros([1280,32,129,63]) \n",
        "\n",
        "for i in range(stft_data.shape[0]):\n",
        "  xx = mne.time_frequency.stft(eeg_data[i],wsize=256) #eeg_data shape (1280,32,8064) (sample,channel,data)\n",
        "  stft_data[i] = xx"
      ],
      "execution_count": null,
      "outputs": []
    },
    {
      "cell_type": "code",
      "metadata": {
        "id": "mFqMxOkllC_B"
      },
      "source": [
        "train_size = 0.7\n",
        "val_size = 0.1\n",
        "idx = np.arange(0,stft_data.shape[0],1)\n",
        "np.random.shuffle(idx)\n",
        "ts = int(train_size*stft_data.shape[0]) \n",
        "vs = int(val_size*stft_data.shape[0]) \n",
        "idx_train = idx[0:ts]\n",
        "idx_val = idx[ts:ts+vs]\n",
        "idx_test = idx[ts+vs:]"
      ],
      "execution_count": null,
      "outputs": []
    },
    {
      "cell_type": "code",
      "metadata": {
        "id": "2WpGxOcslDKg"
      },
      "source": [
        "x_train = stft_data[idx_train]\n",
        "x_val =  stft_data[idx_val]\n",
        "x_test = stft_data[idx_test]\n",
        "\n",
        "y_train = valence[idx_train]\n",
        "y_val = valence[idx_val]\n",
        "y_test = valence[idx_test]"
      ],
      "execution_count": null,
      "outputs": []
    },
    {
      "cell_type": "markdown",
      "metadata": {
        "id": "AgRRPDJ5lf36"
      },
      "source": [
        "# DataLoader "
      ]
    },
    {
      "cell_type": "code",
      "metadata": {
        "id": "UsPeU6ZojcK1"
      },
      "source": [
        "from torch.utils.data import DataLoader\n",
        "from torch.utils.data import TensorDataset\n",
        "  \"\"\" x_train (896, 16, 129, 63)\n",
        "      x_val (128, 16, 129, 63)\n",
        "      x_test (256, 16, 129, 63)\n",
        "      y_train (896,)\n",
        "      y_val (128,)\n",
        "      y_test (256,)  \"\"\"\n",
        "batch_size = 50\n",
        "def dataloader(X, y, batch_size):\n",
        "    X_tensor = torch.tensor(X).float()\n",
        "    y_tensor = torch.tensor(y).long()\n",
        "    dataset_tensor = TensorDataset(X_tensor, y_tensor)\n",
        "    return DataLoader(dataset_tensor, batch_size=batch_size, shuffle=True)\n",
        "\n",
        "train_loader = dataloader(x_train, y_train, batch_size)\n",
        "\n",
        "valid_loader = dataloader(x_val, y_val, batch_size)\n",
        "\n",
        "test_loader = dataloader(x_test, y_test, batch_size)"
      ],
      "execution_count": null,
      "outputs": []
    },
    {
      "cell_type": "markdown",
      "metadata": {
        "id": "WKt7RHMeUEaU"
      },
      "source": [
        "# Conv2d model"
      ]
    },
    {
      "cell_type": "code",
      "metadata": {
        "id": "2CPRPr8ft9Ub"
      },
      "source": [
        "num_epochs = 50\n",
        "num_classes = 2\n",
        "learning_rate = 0.001"
      ],
      "execution_count": null,
      "outputs": []
    },
    {
      "cell_type": "code",
      "metadata": {
        "id": "UpLJT_DENtxy"
      },
      "source": [
        "class ConvNet(nn.Module):\n",
        "    def __init__(self, num_classes=num_classes):\n",
        "        super(ConvNet, self).__init__()\n",
        "        \n",
        "\n",
        "        #stft_data.shape[1] = number of channel\n",
        "        self.layer1 = nn.Sequential(\n",
        "            nn.Conv2d(stft_data.shape[1], 32, kernel_size=5, stride=1, padding=2), \n",
        "            nn.BatchNorm2d(32),\n",
        "            nn.ReLU(),\n",
        "            nn.MaxPool2d(kernel_size=2, stride=2))\n",
        "        self.layer2 = nn.Sequential(\n",
        "            nn.Conv2d(32, 64, kernel_size=5, stride=1, padding=2),\n",
        "            nn.BatchNorm2d(64),\n",
        "            nn.ReLU(),\n",
        "            nn.MaxPool2d(kernel_size=2, stride=2))\n",
        "        self.layer3 = nn.Sequential(\n",
        "            nn.Conv2d(64, 128, kernel_size=5, stride=1, padding=2),\n",
        "            nn.BatchNorm2d(128),\n",
        "            nn.ReLU(),\n",
        "            nn.MaxPool2d(kernel_size=2, stride=2))\n",
        "        \n",
        "        self.fc = nn.Linear(128*16*7, num_classes)\n",
        "        self.drop_out = nn.Dropout(p=0.2)\n",
        "        \n",
        "    def forward(self, x):\n",
        "        out = self.layer1(x)\n",
        "        out = self.drop_out(out)\n",
        "        out = self.layer2(out)\n",
        "        out = self.drop_out(out)\n",
        "        out = self.layer3(out)\n",
        "        out = self.drop_out(out)\n",
        "\n",
        "        out = out.reshape(out.size(0), -1)   #can also use .view()\n",
        "        out = self.fc(out)\n",
        "        return out"
      ],
      "execution_count": null,
      "outputs": []
    },
    {
      "cell_type": "code",
      "metadata": {
        "id": "lId1oNleHBFf"
      },
      "source": [
        "#explicitly initialize weights for better learning\n",
        "def initialize_weights(m):\n",
        "    if isinstance(m, nn.Linear):\n",
        "        nn.init.xavier_normal_(m.weight)\n",
        "        nn.init.zeros_(m.bias)\n",
        "    elif isinstance(m, (nn.Conv2d, nn.Conv2d)):\n",
        "        for name, param in m.named_parameters():\n",
        "            if 'bias' in name:\n",
        "                nn.init.zeros_(param)\n",
        "            elif 'weight' in name:\n",
        "                nn.init.kaiming_normal_(param) #<---here"
      ],
      "execution_count": null,
      "outputs": []
    },
    {
      "cell_type": "code",
      "metadata": {
        "id": "aqsduyBVOMM5",
        "colab": {
          "base_uri": "https://localhost:8080/"
        },
        "outputId": "e63ac324-b7d8-4b8c-9612-7f95321bd767"
      },
      "source": [
        "model = ConvNet(num_classes)\n",
        "model.apply(initialize_weights)"
      ],
      "execution_count": null,
      "outputs": [
        {
          "output_type": "execute_result",
          "data": {
            "text/plain": [
              "ConvNet(\n",
              "  (layer1): Sequential(\n",
              "    (0): Conv2d(16, 32, kernel_size=(5, 5), stride=(1, 1), padding=(2, 2))\n",
              "    (1): BatchNorm2d(32, eps=1e-05, momentum=0.1, affine=True, track_running_stats=True)\n",
              "    (2): ReLU()\n",
              "    (3): MaxPool2d(kernel_size=2, stride=2, padding=0, dilation=1, ceil_mode=False)\n",
              "  )\n",
              "  (layer2): Sequential(\n",
              "    (0): Conv2d(32, 64, kernel_size=(5, 5), stride=(1, 1), padding=(2, 2))\n",
              "    (1): BatchNorm2d(64, eps=1e-05, momentum=0.1, affine=True, track_running_stats=True)\n",
              "    (2): ReLU()\n",
              "    (3): MaxPool2d(kernel_size=2, stride=2, padding=0, dilation=1, ceil_mode=False)\n",
              "  )\n",
              "  (layer3): Sequential(\n",
              "    (0): Conv2d(64, 128, kernel_size=(5, 5), stride=(1, 1), padding=(2, 2))\n",
              "    (1): BatchNorm2d(128, eps=1e-05, momentum=0.1, affine=True, track_running_stats=True)\n",
              "    (2): ReLU()\n",
              "    (3): MaxPool2d(kernel_size=2, stride=2, padding=0, dilation=1, ceil_mode=False)\n",
              "  )\n",
              "  (fc): Linear(in_features=14336, out_features=2, bias=True)\n",
              "  (drop_out): Dropout(p=0.2, inplace=False)\n",
              ")"
            ]
          },
          "metadata": {},
          "execution_count": 54
        }
      ]
    },
    {
      "cell_type": "code",
      "metadata": {
        "id": "oSERVa66OOB6"
      },
      "source": [
        "# Loss and optimizer\n",
        "criterion = nn.CrossEntropyLoss()\n",
        "optimizer = torch.optim.Adam(model.parameters(), lr=learning_rate)"
      ],
      "execution_count": null,
      "outputs": []
    },
    {
      "cell_type": "markdown",
      "metadata": {
        "id": "QmtQFB67HCoR"
      },
      "source": [
        "# Train Test "
      ]
    },
    {
      "cell_type": "code",
      "metadata": {
        "id": "GmDNJwRPngq0"
      },
      "source": [
        "def cnn_acc(preds,y):\n",
        "    _, predicted = torch.max(preds.data, 1)\n",
        "    correct = (predicted == y).sum()\n",
        "    acc = correct / y.size(0)\n",
        "    return acc"
      ],
      "execution_count": null,
      "outputs": []
    },
    {
      "cell_type": "code",
      "metadata": {
        "id": "3FSWRgBWHD71"
      },
      "source": [
        "def train(model, loader, optimizer, criterion):\n",
        "    epoch_loss = 0\n",
        "    epoch_acc = 0\n",
        "    model.train() #useful for batchnorm and dropout\n",
        "    for i, (features, label) in enumerate(loader): \n",
        "                \n",
        "        #predict\n",
        "        predictions = model(features)\n",
        "        #calculate loss\n",
        "        loss = criterion(predictions, label)\n",
        "        acc = cnn_acc(predictions, label)\n",
        "        \n",
        "        #backprop\n",
        "        optimizer.zero_grad()\n",
        "        loss.backward()\n",
        "        optimizer.step()\n",
        "        \n",
        "        epoch_loss += loss.item()\n",
        "        epoch_acc += acc.item()\n",
        "                \n",
        "    return epoch_loss / len(loader), epoch_acc / len(loader)"
      ],
      "execution_count": null,
      "outputs": []
    },
    {
      "cell_type": "code",
      "metadata": {
        "id": "AzpTJ8PsHECb"
      },
      "source": [
        "def evaluate(model, loader, criterion):\n",
        "    epoch_loss = 0\n",
        "    epoch_acc = 0\n",
        "    model.eval()\n",
        "    \n",
        "    with torch.no_grad():\n",
        "        for i, (features, label) in enumerate(loader): \n",
        "\n",
        "\n",
        "            predictions = model(features)\n",
        "            \n",
        "            loss = criterion(predictions, label)\n",
        "            acc = cnn_acc(predictions, label)\n",
        "\n",
        "            epoch_loss += loss.item()\n",
        "            epoch_acc += acc.item()\n",
        "        \n",
        "    return epoch_loss / len(loader), epoch_acc / len(loader)"
      ],
      "execution_count": null,
      "outputs": []
    },
    {
      "cell_type": "code",
      "metadata": {
        "id": "UUU7RGL0HEEt",
        "colab": {
          "base_uri": "https://localhost:8080/"
        },
        "outputId": "11be9db2-5047-4cfc-ecb6-5ef1464968aa"
      },
      "source": [
        "best_valid_loss = float('inf')\n",
        "\n",
        "train_losses = []\n",
        "train_accs = []\n",
        "valid_losses = []\n",
        "valid_accs = []\n",
        "for epoch in range(num_epochs):\n",
        "\n",
        "    train_loss,train_acc = train(model, train_loader, optimizer, criterion)\n",
        "    valid_loss,valid_acc = evaluate(model, valid_loader, criterion)\n",
        "    \n",
        "    #for plotting\n",
        "    train_losses.append(train_loss)\n",
        "    train_accs.append(train_acc)\n",
        "    valid_losses.append(valid_loss)\n",
        "    valid_accs.append(valid_acc)\n",
        "    \n",
        "    if valid_loss < best_valid_loss:\n",
        "        best_valid_loss = valid_loss\n",
        "        torch.save(model.state_dict(),'tensor.pt')\n",
        "    \n",
        "    print(f'Epoch: {epoch+1:02} | Train Loss: {train_loss:.3f} | Train Acc: {train_acc*100:.2f}%')\n",
        "    print(f'\\t Val. Loss: {valid_loss:.3f} |  Val. Acc: {valid_acc*100:.2f}%')"
      ],
      "execution_count": null,
      "outputs": [
        {
          "output_type": "stream",
          "name": "stdout",
          "text": [
            "Epoch: 01 | Train Loss: 2.388 | Train Acc: 49.36%\n",
            "\t Val. Loss: 1.077 |  Val. Acc: 52.67%\n",
            "Epoch: 02 | Train Loss: 0.817 | Train Acc: 54.22%\n",
            "\t Val. Loss: 0.766 |  Val. Acc: 55.05%\n",
            "Epoch: 03 | Train Loss: 0.866 | Train Acc: 52.01%\n",
            "\t Val. Loss: 0.836 |  Val. Acc: 49.10%\n",
            "Epoch: 04 | Train Loss: 0.885 | Train Acc: 51.71%\n",
            "\t Val. Loss: 0.724 |  Val. Acc: 52.52%\n",
            "Epoch: 05 | Train Loss: 0.762 | Train Acc: 56.85%\n",
            "\t Val. Loss: 0.781 |  Val. Acc: 53.57%\n",
            "Epoch: 06 | Train Loss: 0.750 | Train Acc: 56.51%\n",
            "\t Val. Loss: 0.735 |  Val. Acc: 53.19%\n",
            "Epoch: 07 | Train Loss: 0.779 | Train Acc: 55.59%\n",
            "\t Val. Loss: 0.997 |  Val. Acc: 51.86%\n",
            "Epoch: 08 | Train Loss: 0.865 | Train Acc: 52.57%\n",
            "\t Val. Loss: 1.041 |  Val. Acc: 53.43%\n",
            "Epoch: 09 | Train Loss: 0.784 | Train Acc: 54.74%\n",
            "\t Val. Loss: 0.809 |  Val. Acc: 53.29%\n",
            "Epoch: 10 | Train Loss: 0.728 | Train Acc: 55.37%\n",
            "\t Val. Loss: 0.733 |  Val. Acc: 58.62%\n",
            "Epoch: 11 | Train Loss: 0.825 | Train Acc: 54.72%\n",
            "\t Val. Loss: 0.756 |  Val. Acc: 54.38%\n",
            "Epoch: 12 | Train Loss: 0.713 | Train Acc: 59.07%\n",
            "\t Val. Loss: 0.746 |  Val. Acc: 52.95%\n",
            "Epoch: 13 | Train Loss: 0.714 | Train Acc: 57.84%\n",
            "\t Val. Loss: 0.856 |  Val. Acc: 53.95%\n",
            "Epoch: 14 | Train Loss: 0.734 | Train Acc: 59.96%\n",
            "\t Val. Loss: 0.755 |  Val. Acc: 54.76%\n",
            "Epoch: 15 | Train Loss: 0.716 | Train Acc: 59.24%\n",
            "\t Val. Loss: 0.827 |  Val. Acc: 44.95%\n",
            "Epoch: 16 | Train Loss: 0.701 | Train Acc: 62.61%\n",
            "\t Val. Loss: 0.860 |  Val. Acc: 55.95%\n",
            "Epoch: 17 | Train Loss: 0.688 | Train Acc: 63.16%\n",
            "\t Val. Loss: 0.801 |  Val. Acc: 54.76%\n",
            "Epoch: 18 | Train Loss: 0.638 | Train Acc: 64.82%\n",
            "\t Val. Loss: 0.884 |  Val. Acc: 53.86%\n",
            "Epoch: 19 | Train Loss: 0.751 | Train Acc: 62.25%\n",
            "\t Val. Loss: 0.945 |  Val. Acc: 52.90%\n",
            "Epoch: 20 | Train Loss: 0.608 | Train Acc: 66.39%\n",
            "\t Val. Loss: 0.840 |  Val. Acc: 52.00%\n",
            "Epoch: 21 | Train Loss: 0.546 | Train Acc: 72.21%\n",
            "\t Val. Loss: 0.825 |  Val. Acc: 53.71%\n",
            "Epoch: 22 | Train Loss: 0.514 | Train Acc: 73.87%\n",
            "\t Val. Loss: 0.871 |  Val. Acc: 55.71%\n",
            "Epoch: 23 | Train Loss: 0.524 | Train Acc: 72.85%\n",
            "\t Val. Loss: 0.961 |  Val. Acc: 51.86%\n",
            "Epoch: 24 | Train Loss: 0.455 | Train Acc: 79.04%\n",
            "\t Val. Loss: 0.964 |  Val. Acc: 54.43%\n",
            "Epoch: 25 | Train Loss: 0.454 | Train Acc: 78.37%\n",
            "\t Val. Loss: 0.931 |  Val. Acc: 56.10%\n",
            "Epoch: 26 | Train Loss: 0.467 | Train Acc: 77.24%\n",
            "\t Val. Loss: 1.067 |  Val. Acc: 59.43%\n",
            "Epoch: 27 | Train Loss: 0.510 | Train Acc: 73.97%\n",
            "\t Val. Loss: 1.107 |  Val. Acc: 54.38%\n",
            "Epoch: 28 | Train Loss: 0.464 | Train Acc: 75.71%\n",
            "\t Val. Loss: 0.900 |  Val. Acc: 56.62%\n",
            "Epoch: 29 | Train Loss: 0.427 | Train Acc: 78.72%\n",
            "\t Val. Loss: 0.953 |  Val. Acc: 59.95%\n",
            "Epoch: 30 | Train Loss: 0.373 | Train Acc: 82.50%\n",
            "\t Val. Loss: 1.018 |  Val. Acc: 54.10%\n",
            "Epoch: 31 | Train Loss: 0.368 | Train Acc: 83.14%\n",
            "\t Val. Loss: 1.115 |  Val. Acc: 50.81%\n",
            "Epoch: 32 | Train Loss: 0.298 | Train Acc: 87.29%\n",
            "\t Val. Loss: 1.087 |  Val. Acc: 50.00%\n",
            "Epoch: 33 | Train Loss: 0.310 | Train Acc: 88.05%\n",
            "\t Val. Loss: 1.175 |  Val. Acc: 50.67%\n",
            "Epoch: 34 | Train Loss: 0.309 | Train Acc: 84.90%\n",
            "\t Val. Loss: 1.154 |  Val. Acc: 49.10%\n",
            "Epoch: 35 | Train Loss: 0.251 | Train Acc: 89.96%\n",
            "\t Val. Loss: 1.468 |  Val. Acc: 50.57%\n",
            "Epoch: 36 | Train Loss: 0.266 | Train Acc: 88.84%\n",
            "\t Val. Loss: 1.374 |  Val. Acc: 57.95%\n",
            "Epoch: 37 | Train Loss: 0.314 | Train Acc: 86.28%\n",
            "\t Val. Loss: 1.453 |  Val. Acc: 52.90%\n",
            "Epoch: 38 | Train Loss: 0.204 | Train Acc: 92.77%\n",
            "\t Val. Loss: 1.527 |  Val. Acc: 52.52%\n",
            "Epoch: 39 | Train Loss: 0.244 | Train Acc: 90.60%\n",
            "\t Val. Loss: 1.623 |  Val. Acc: 50.67%\n",
            "Epoch: 40 | Train Loss: 0.260 | Train Acc: 90.66%\n",
            "\t Val. Loss: 1.379 |  Val. Acc: 53.57%\n",
            "Epoch: 41 | Train Loss: 0.237 | Train Acc: 92.07%\n",
            "\t Val. Loss: 1.676 |  Val. Acc: 53.62%\n",
            "Epoch: 42 | Train Loss: 0.226 | Train Acc: 90.98%\n",
            "\t Val. Loss: 1.300 |  Val. Acc: 55.33%\n",
            "Epoch: 43 | Train Loss: 0.242 | Train Acc: 91.16%\n",
            "\t Val. Loss: 1.355 |  Val. Acc: 54.38%\n",
            "Epoch: 44 | Train Loss: 0.209 | Train Acc: 91.86%\n",
            "\t Val. Loss: 1.699 |  Val. Acc: 57.33%\n",
            "Epoch: 45 | Train Loss: 0.271 | Train Acc: 90.41%\n",
            "\t Val. Loss: 1.430 |  Val. Acc: 55.43%\n",
            "Epoch: 46 | Train Loss: 0.288 | Train Acc: 89.30%\n",
            "\t Val. Loss: 1.381 |  Val. Acc: 55.86%\n",
            "Epoch: 47 | Train Loss: 0.181 | Train Acc: 92.96%\n",
            "\t Val. Loss: 1.616 |  Val. Acc: 52.90%\n",
            "Epoch: 48 | Train Loss: 0.175 | Train Acc: 93.43%\n",
            "\t Val. Loss: 1.351 |  Val. Acc: 56.38%\n",
            "Epoch: 49 | Train Loss: 0.132 | Train Acc: 95.43%\n",
            "\t Val. Loss: 1.796 |  Val. Acc: 56.38%\n",
            "Epoch: 50 | Train Loss: 0.177 | Train Acc: 94.87%\n",
            "\t Val. Loss: 1.422 |  Val. Acc: 55.05%\n"
          ]
        }
      ]
    },
    {
      "cell_type": "code",
      "metadata": {
        "colab": {
          "base_uri": "https://localhost:8080/",
          "height": 409
        },
        "id": "sYoo5fXpHEG1",
        "outputId": "1ae2a925-8f2c-47b2-fa99-903b1569e479"
      },
      "source": [
        "import matplotlib.pyplot as plt\n",
        "fig = plt.figure(figsize=(10, 6))\n",
        "ax = fig.add_subplot(1, 1, 1)\n",
        "ax.plot(train_losses, label = 'train loss')\n",
        "ax.plot(valid_losses, label = 'valid loss')\n",
        "plt.legend()\n",
        "ax.set_xlabel('updates')\n",
        "ax.set_ylabel('loss')"
      ],
      "execution_count": null,
      "outputs": [
        {
          "output_type": "execute_result",
          "data": {
            "text/plain": [
              "Text(0, 0.5, 'loss')"
            ]
          },
          "metadata": {},
          "execution_count": 61
        },
        {
          "output_type": "display_data",
          "data": {
            "image/png": "[encoded data removed]",
            "text/plain": [
              "<Figure size 720x432 with 1 Axes>"
            ]
          },
          "metadata": {
            "needs_background": "light"
          }
        }
      ]
    },
    {
      "cell_type": "code",
      "metadata": {
        "colab": {
          "base_uri": "https://localhost:8080/",
          "height": 405
        },
        "id": "mOHzYQU2HO5v",
        "outputId": "1af7fd8b-7faa-4c62-f822-8652bce3ac24"
      },
      "source": [
        "fig = plt.figure(figsize=(10, 6))\n",
        "ax = fig.add_subplot(1, 1, 1)\n",
        "ax.plot(train_accs, label = 'train acc')\n",
        "ax.plot(valid_accs, label = 'valid acc')\n",
        "plt.legend()\n",
        "ax.set_xlabel('updates')\n",
        "ax.set_ylabel('acc')"
      ],
      "execution_count": null,
      "outputs": [
        {
          "output_type": "execute_result",
          "data": {
            "text/plain": [
              "Text(0, 0.5, 'acc')"
            ]
          },
          "metadata": {},
          "execution_count": 62
        },
        {
          "output_type": "display_data",
          "data": {
            "image/png": "[encoded data removed]",
            "text/plain": [
              "<Figure size 720x432 with 1 Axes>"
            ]
          },
          "metadata": {
            "needs_background": "light"
          }
        }
      ]
    },
    {
      "cell_type": "code",
      "metadata": {
        "colab": {
          "base_uri": "https://localhost:8080/"
        },
        "id": "VmAk-Nr-HQEU",
        "outputId": "25325fe1-f43c-4391-f6b6-b2a6d3774300"
      },
      "source": [
        "model.load_state_dict(torch.load('tensor.pt'))\n",
        "test_loss , test_acc = evaluate(model, test_loader, criterion)\n",
        "print(f'Test Loss: {test_loss:.3f} | Test Acc: {test_acc*100:.2f}%')"
      ],
      "execution_count": null,
      "outputs": [
        {
          "output_type": "stream",
          "name": "stdout",
          "text": [
            "Test Loss: 0.797 | Test Acc: 48.56%\n"
          ]
        }
      ]
    }
  ]
}