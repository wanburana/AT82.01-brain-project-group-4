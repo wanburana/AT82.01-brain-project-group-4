{
  "nbformat": 4,
  "nbformat_minor": 0,
  "metadata": {
    "colab": {
      "name": "stft+conv2d(16chan+L2)(addhidden_droplayer).ipynb",
      "provenance": [],
      "toc_visible": true
    },
    "kernelspec": {
      "name": "python3",
      "display_name": "Python 3"
    },
    "language_info": {
      "name": "python"
    }
  },
  "cells": [
    {
      "cell_type": "markdown",
      "metadata": {
        "id": "XUe0frhXlK6w"
      },
      "source": [
        "# STFT"
      ]
    },
    {
      "cell_type": "code",
      "metadata": {
        "colab": {
          "base_uri": "https://localhost:8080/"
        },
        "id": "lPAxwFVY2_fu",
        "outputId": "9a07329f-9ba1-45a1-fca6-253e87e2c8e6"
      },
      "source": [
        "import torch, torchvision\n",
        "from torchvision import transforms\n",
        "from torch import nn\n",
        "import numpy as np\n",
        "import sys\n",
        "import os\n",
        "from glob import glob\n",
        "import pickle\n",
        "import pandas as pd\n",
        "import numpy as np\n",
        "from tqdm import tqdm\n",
        "import matplotlib.pyplot as plt\n",
        "import seaborn as sns\n",
        "from google.colab import drive\n",
        "drive.mount('/content/drive')"
      ],
      "execution_count": 1,
      "outputs": [
        {
          "output_type": "stream",
          "name": "stdout",
          "text": [
            "Drive already mounted at /content/drive; to attempt to forcibly remount, call drive.mount(\"/content/drive\", force_remount=True).\n"
          ]
        }
      ]
    },
    {
      "cell_type": "code",
      "metadata": {
        "id": "ikufrBhY22Jt"
      },
      "source": [
        "stft_data = np.load('/content/drive/MyDrive/EEG/DEAP/stft_emo.npy')\n",
        "targets = np.load('/content/drive/MyDrive/EEG/DEAP/targets.npy')"
      ],
      "execution_count": 2,
      "outputs": []
    },
    {
      "cell_type": "code",
      "metadata": {
        "colab": {
          "base_uri": "https://localhost:8080/"
        },
        "id": "l_sc2Wzy3q4f",
        "outputId": "4d414d94-2a62-424e-e8f1-51d31ac49db9"
      },
      "source": [
        "valence = []\n",
        "mean_valence = np.mean(targets[:,0])\n",
        "for i in range(targets.shape[0]):\n",
        "  if targets[i,0] < mean_valence :\n",
        "    valence.append(0)\n",
        "  else :\n",
        "    valence.append(1)\n",
        "valence = np.array(valence)\n",
        "valence.shape"
      ],
      "execution_count": 3,
      "outputs": [
        {
          "output_type": "execute_result",
          "data": {
            "text/plain": [
              "(1280,)"
            ]
          },
          "metadata": {},
          "execution_count": 3
        }
      ]
    },
    {
      "cell_type": "code",
      "metadata": {
        "colab": {
          "base_uri": "https://localhost:8080/"
        },
        "id": "feCcyLf0-292",
        "outputId": "095ce9ff-2461-4a9f-f658-df3b0be457c0"
      },
      "source": [
        "valence.shape"
      ],
      "execution_count": null,
      "outputs": [
        {
          "output_type": "execute_result",
          "data": {
            "text/plain": [
              "(1280,)"
            ]
          },
          "metadata": {},
          "execution_count": 64
        }
      ]
    },
    {
      "cell_type": "code",
      "metadata": {
        "colab": {
          "base_uri": "https://localhost:8080/"
        },
        "id": "qZ9TMrXu4maG",
        "outputId": "4eedbe79-dfdf-462f-d3e6-0a215cdb7926"
      },
      "source": [
        "#from tensorflow.keras.utils import to_categorical\n",
        "#valence = to_categorical(valence)\n",
        "#valence.shape"
      ],
      "execution_count": null,
      "outputs": [
        {
          "output_type": "execute_result",
          "data": {
            "text/plain": [
              "(1280, 2)"
            ]
          },
          "metadata": {},
          "execution_count": 25
        }
      ]
    },
    {
      "cell_type": "code",
      "metadata": {
        "id": "7jZMK7KV3Xlx"
      },
      "source": [
        "x_train = stft_data[:896]\n",
        "x_val =  stft_data[896:896+128]\n",
        "x_test = stft_data[896+128:]\n",
        "\n",
        "y_train = valence[:896]\n",
        "y_val = valence[896:896+128]\n",
        "y_test = valence[896+128:]"
      ],
      "execution_count": 4,
      "outputs": []
    },
    {
      "cell_type": "markdown",
      "metadata": {
        "id": "AgRRPDJ5lf36"
      },
      "source": [
        "# DataLoader "
      ]
    },
    {
      "cell_type": "code",
      "metadata": {
        "id": "UsPeU6ZojcK1"
      },
      "source": [
        "from torch.utils.data import DataLoader\n",
        "from torch.utils.data import TensorDataset\n",
        "\n",
        "batch_size = 50\n",
        "def dataload(X, y):\n",
        "    X_tensor = torch.tensor(X).float()\n",
        "    y_tensor = torch.tensor(y)\n",
        "    dataset_tensor = TensorDataset(X_tensor, y_tensor)\n",
        "    return dataset_tensor\n",
        "    #return DataLoader(dataset_tensor, batch_size=batch_size, shuffle=True)\n",
        "\n",
        "train_loader = DataLoader(dataload(x_train, y_train), batch_size=batch_size, shuffle=True)\n",
        "\n",
        "valid_loader = DataLoader(dataload(x_val, y_val), batch_size=batch_size, shuffle=False)\n",
        "\n",
        "test_loader = DataLoader(dataload(x_test, y_test), batch_size=batch_size, shuffle=False)"
      ],
      "execution_count": 5,
      "outputs": []
    },
    {
      "cell_type": "markdown",
      "metadata": {
        "id": "WKt7RHMeUEaU"
      },
      "source": [
        "# Conv2d model"
      ]
    },
    {
      "cell_type": "code",
      "metadata": {
        "id": "2CPRPr8ft9Ub"
      },
      "source": [
        "num_epochs = 70\n",
        "num_classes = 2\n",
        "learning_rate = 0.001"
      ],
      "execution_count": 102,
      "outputs": []
    },
    {
      "cell_type": "code",
      "metadata": {
        "id": "UpLJT_DENtxy"
      },
      "source": [
        "class ConvNet(nn.Module):\n",
        "    def __init__(self, num_classes=num_classes):\n",
        "        super(ConvNet, self).__init__()\n",
        "        \n",
        "\n",
        "        #stft_data.shape[1] = number of channel\n",
        "        self.layer1 = nn.Sequential(\n",
        "            nn.Conv2d(stft_data.shape[1], 64, kernel_size=5, stride=1, padding=2), \n",
        "            nn.BatchNorm2d(64),\n",
        "            nn.ELU(),\n",
        "            nn.MaxPool2d(kernel_size=2, stride=2))\n",
        "        self.layer2 = nn.Sequential(\n",
        "            nn.Conv2d(64, 128, kernel_size=5, stride=1, padding=2),\n",
        "            nn.BatchNorm2d(128),\n",
        "            nn.ELU(),\n",
        "            nn.MaxPool2d(kernel_size=2, stride=2))\n",
        "        self.layer3 = nn.Sequential(\n",
        "            nn.Conv2d(128, 256, kernel_size=5, stride=1, padding=2),\n",
        "            nn.BatchNorm2d(256),\n",
        "            nn.ELU(),\n",
        "            nn.MaxPool2d(kernel_size=2, stride=2))\n",
        "        \n",
        "        \"\"\"self.fc = nn.Sequential(nn.Linear(128*16*7,512),nn.ReLU(),nn.Dropout(0.1),\n",
        "                               nn.Linear(512,250),nn.ReLU(),nn.Dropout(0.1),\n",
        "                               nn.Linear(250,125),nn.ReLU(),nn.Dropout(0.1),\n",
        "                               nn.Linear(125,50),nn.ReLU(),nn.Dropout(0.1),\n",
        "                               nn.Linear(50,num_classes),nn.Dropout(0.1))\"\"\"\n",
        "        \n",
        "        self.fc = nn.Linear(128*16*31, num_classes)\n",
        "        #self.fc = nn.Sequential(nn.Linear(256*8*15,256),nn.ELU(),nn.Dropout(0.1),\n",
        "                               #nn.Linear(256,num_classes),nn.Dropout(0.1))\n",
        "        self.drop_out = nn.Dropout(p=0.1)\n",
        "        self.softmax = nn.LogSoftmax(dim=1)\n",
        "        \n",
        "    def forward(self, x):\n",
        "        out = self.layer1(x)\n",
        "        out = self.drop_out(out)\n",
        "        out = self.layer2(out)\n",
        "        out = self.drop_out(out)\n",
        "        #out = self.layer3(out)\n",
        "        #out = self.drop_out(out)\n",
        "        out = out.reshape(out.size(0), -1)   #can also use .view()\n",
        "        out = self.fc(out)\n",
        "        out = self.softmax(out)\n",
        "        return out"
      ],
      "execution_count": 103,
      "outputs": []
    },
    {
      "cell_type": "code",
      "metadata": {
        "id": "lId1oNleHBFf"
      },
      "source": [
        "#explicitly initialize weights for better learning\n",
        "def initialize_weights(m):\n",
        "    if isinstance(m, nn.Linear):\n",
        "        nn.init.xavier_normal_(m.weight)\n",
        "        nn.init.zeros_(m.bias)\n",
        "    elif isinstance(m, (nn.Conv2d, nn.Conv2d)):\n",
        "        for name, param in m.named_parameters():\n",
        "            if 'bias' in name:\n",
        "                nn.init.zeros_(param)\n",
        "            elif 'weight' in name:\n",
        "                nn.init.kaiming_normal_(param) #<---here"
      ],
      "execution_count": 104,
      "outputs": []
    },
    {
      "cell_type": "code",
      "metadata": {
        "id": "aqsduyBVOMM5",
        "colab": {
          "base_uri": "https://localhost:8080/"
        },
        "outputId": "09de4d6e-1656-442d-b7e6-db8ec82a20b6"
      },
      "source": [
        "model = ConvNet(num_classes).float()\n",
        "model.apply(initialize_weights)"
      ],
      "execution_count": 105,
      "outputs": [
        {
          "output_type": "execute_result",
          "data": {
            "text/plain": [
              "ConvNet(\n",
              "  (layer1): Sequential(\n",
              "    (0): Conv2d(16, 64, kernel_size=(5, 5), stride=(1, 1), padding=(2, 2))\n",
              "    (1): BatchNorm2d(64, eps=1e-05, momentum=0.1, affine=True, track_running_stats=True)\n",
              "    (2): ELU(alpha=1.0)\n",
              "    (3): MaxPool2d(kernel_size=2, stride=2, padding=0, dilation=1, ceil_mode=False)\n",
              "  )\n",
              "  (layer2): Sequential(\n",
              "    (0): Conv2d(64, 128, kernel_size=(5, 5), stride=(1, 1), padding=(2, 2))\n",
              "    (1): BatchNorm2d(128, eps=1e-05, momentum=0.1, affine=True, track_running_stats=True)\n",
              "    (2): ELU(alpha=1.0)\n",
              "    (3): MaxPool2d(kernel_size=2, stride=2, padding=0, dilation=1, ceil_mode=False)\n",
              "  )\n",
              "  (layer3): Sequential(\n",
              "    (0): Conv2d(128, 256, kernel_size=(5, 5), stride=(1, 1), padding=(2, 2))\n",
              "    (1): BatchNorm2d(256, eps=1e-05, momentum=0.1, affine=True, track_running_stats=True)\n",
              "    (2): ELU(alpha=1.0)\n",
              "    (3): MaxPool2d(kernel_size=2, stride=2, padding=0, dilation=1, ceil_mode=False)\n",
              "  )\n",
              "  (fc): Linear(in_features=63488, out_features=2, bias=True)\n",
              "  (drop_out): Dropout(p=0.1, inplace=False)\n",
              "  (softmax): LogSoftmax(dim=1)\n",
              ")"
            ]
          },
          "metadata": {},
          "execution_count": 105
        }
      ]
    },
    {
      "cell_type": "code",
      "metadata": {
        "id": "oSERVa66OOB6"
      },
      "source": [
        "# Loss and optimizer\n",
        "criterion = nn.CrossEntropyLoss()\n",
        "#criterion = nn.BCEWithLogitsLoss()\n",
        "optimizer = torch.optim.Adam(model.parameters(), lr=learning_rate,weight_decay=1e-5)"
      ],
      "execution_count": 106,
      "outputs": []
    },
    {
      "cell_type": "markdown",
      "metadata": {
        "id": "QmtQFB67HCoR"
      },
      "source": [
        "# Train Test "
      ]
    },
    {
      "cell_type": "code",
      "metadata": {
        "id": "kI7GHuLLIdyz"
      },
      "source": [
        "def binary_accuracy(preds, y):\n",
        "    \"\"\"\n",
        "    Returns accuracy per batch, i.e. if you get 8/10 right, this returns 0.8, NOT 8\n",
        "    \"\"\"\n",
        "    #round predictions to the closest integer\n",
        "    rounded_preds = torch.round(torch.sigmoid(preds))\n",
        "    correct = (rounded_preds == y).float() #convert into float for division \n",
        "    acc = correct.sum() / len(correct)\n",
        "    return acc"
      ],
      "execution_count": 107,
      "outputs": []
    },
    {
      "cell_type": "code",
      "metadata": {
        "id": "H_ZVkAzNId1V"
      },
      "source": [
        "def cnn_acc(preds,y):\n",
        "    _, predicted = torch.max(preds.data, 1)\n",
        "    correct = (predicted == y).sum()\n",
        "    acc = correct / y.size(0)\n",
        "    return acc"
      ],
      "execution_count": 108,
      "outputs": []
    },
    {
      "cell_type": "code",
      "metadata": {
        "id": "r76aiXrnId3k"
      },
      "source": [
        "def train(model, loader, optimizer, criterion):\n",
        "    epoch_loss = 0\n",
        "    epoch_acc = 0\n",
        "    model.train() #useful for batchnorm and dropout\n",
        "    for i, (features, label) in enumerate(loader): \n",
        "                \n",
        "        #predict\n",
        "        predictions = model(features)\n",
        "        #calculate loss\n",
        "        loss = criterion(predictions, label)\n",
        "        l2_lambda = 0.001\n",
        "        l2_norm = sum(p.pow(2.0).sum() for p in model.parameters())\n",
        "        loss = loss + l2_lambda * l2_norm\n",
        "        acc = cnn_acc(predictions, label)\n",
        "        \n",
        "        #backprop\n",
        "        optimizer.zero_grad()\n",
        "        loss.backward()\n",
        "        optimizer.step()\n",
        "        \n",
        "        epoch_loss += loss.item()\n",
        "        epoch_acc += acc.item()\n",
        "                \n",
        "    return epoch_loss / len(loader), epoch_acc / len(loader)"
      ],
      "execution_count": 109,
      "outputs": []
    },
    {
      "cell_type": "code",
      "metadata": {
        "id": "Bqj2y7T-Id5d"
      },
      "source": [
        "def evaluate(model, loader, criterion):\n",
        "    epoch_loss = 0\n",
        "    epoch_acc = 0\n",
        "    model.eval()\n",
        "    \n",
        "    with torch.no_grad():\n",
        "        for i, (features, label) in enumerate(loader): \n",
        "\n",
        "\n",
        "            predictions = model(features)\n",
        "            \n",
        "            loss = criterion(predictions, label)\n",
        "            acc = cnn_acc(predictions, label)\n",
        "\n",
        "            epoch_loss += loss.item()\n",
        "            epoch_acc += acc.item()\n",
        "        \n",
        "    return epoch_loss / len(loader), epoch_acc / len(loader)"
      ],
      "execution_count": 110,
      "outputs": []
    },
    {
      "cell_type": "code",
      "metadata": {
        "colab": {
          "base_uri": "https://localhost:8080/"
        },
        "id": "EzIfXUOtId7p",
        "outputId": "d969ab5e-3882-474c-e25a-e23b2ce171c8"
      },
      "source": [
        "best_valid_loss = float('inf')\n",
        "\n",
        "train_losses = []\n",
        "train_accs = []\n",
        "valid_losses = []\n",
        "valid_accs = []\n",
        "for epoch in range(num_epochs):\n",
        "\n",
        "    train_loss,train_acc = train(model, train_loader, optimizer, criterion)\n",
        "    valid_loss,valid_acc = evaluate(model, valid_loader, criterion)\n",
        "    \n",
        "    #for plotting\n",
        "    train_losses.append(train_loss)\n",
        "    train_accs.append(train_acc)\n",
        "    valid_losses.append(valid_loss)\n",
        "    valid_accs.append(valid_acc)\n",
        "    \n",
        "    if valid_loss < best_valid_loss:\n",
        "        best_valid_loss = valid_loss\n",
        "        torch.save(model.state_dict(),'tensor.pt')\n",
        "    \n",
        "    print(f'Epoch: {epoch+1:02} | Train Loss: {train_loss:.3f} | Train Acc: {train_acc*100:.2f}%')\n",
        "    print(f'\\t Val. Loss: {valid_loss:.3f} |  Val. Acc: {valid_acc*100:.2f}%')"
      ],
      "execution_count": 111,
      "outputs": [
        {
          "output_type": "stream",
          "name": "stdout",
          "text": [
            "Epoch: 01 | Train Loss: 6.667 | Train Acc: 51.38%\n",
            "\t Val. Loss: 5.749 |  Val. Acc: 54.52%\n",
            "Epoch: 02 | Train Loss: 3.296 | Train Acc: 50.42%\n",
            "\t Val. Loss: 2.143 |  Val. Acc: 51.67%\n",
            "Epoch: 03 | Train Loss: 2.091 | Train Acc: 57.92%\n",
            "\t Val. Loss: 1.717 |  Val. Acc: 47.19%\n",
            "Epoch: 04 | Train Loss: 1.594 | Train Acc: 61.12%\n",
            "\t Val. Loss: 1.325 |  Val. Acc: 52.10%\n",
            "Epoch: 05 | Train Loss: 1.584 | Train Acc: 63.75%\n",
            "\t Val. Loss: 1.309 |  Val. Acc: 58.57%\n",
            "Epoch: 06 | Train Loss: 2.008 | Train Acc: 61.38%\n",
            "\t Val. Loss: 1.039 |  Val. Acc: 57.81%\n",
            "Epoch: 07 | Train Loss: 1.693 | Train Acc: 62.74%\n",
            "\t Val. Loss: 2.411 |  Val. Acc: 40.48%\n",
            "Epoch: 08 | Train Loss: 1.449 | Train Acc: 67.54%\n",
            "\t Val. Loss: 2.295 |  Val. Acc: 47.62%\n",
            "Epoch: 09 | Train Loss: 1.323 | Train Acc: 73.08%\n",
            "\t Val. Loss: 2.125 |  Val. Acc: 44.90%\n",
            "Epoch: 10 | Train Loss: 1.159 | Train Acc: 77.83%\n",
            "\t Val. Loss: 2.052 |  Val. Acc: 49.19%\n",
            "Epoch: 11 | Train Loss: 1.249 | Train Acc: 74.96%\n",
            "\t Val. Loss: 1.958 |  Val. Acc: 51.14%\n",
            "Epoch: 12 | Train Loss: 1.177 | Train Acc: 76.22%\n",
            "\t Val. Loss: 2.070 |  Val. Acc: 43.52%\n",
            "Epoch: 13 | Train Loss: 0.965 | Train Acc: 87.29%\n",
            "\t Val. Loss: 1.411 |  Val. Acc: 49.29%\n",
            "Epoch: 14 | Train Loss: 1.016 | Train Acc: 83.31%\n",
            "\t Val. Loss: 1.932 |  Val. Acc: 45.90%\n",
            "Epoch: 15 | Train Loss: 0.929 | Train Acc: 89.43%\n",
            "\t Val. Loss: 1.794 |  Val. Acc: 46.81%\n",
            "Epoch: 16 | Train Loss: 0.838 | Train Acc: 93.31%\n",
            "\t Val. Loss: 1.362 |  Val. Acc: 43.38%\n",
            "Epoch: 17 | Train Loss: 0.778 | Train Acc: 97.20%\n",
            "\t Val. Loss: 1.512 |  Val. Acc: 43.52%\n",
            "Epoch: 18 | Train Loss: 0.751 | Train Acc: 95.96%\n",
            "\t Val. Loss: 1.536 |  Val. Acc: 46.43%\n",
            "Epoch: 19 | Train Loss: 0.716 | Train Acc: 98.08%\n",
            "\t Val. Loss: 1.866 |  Val. Acc: 39.81%\n",
            "Epoch: 20 | Train Loss: 0.684 | Train Acc: 99.44%\n",
            "\t Val. Loss: 2.446 |  Val. Acc: 45.48%\n",
            "Epoch: 21 | Train Loss: 0.666 | Train Acc: 99.10%\n",
            "\t Val. Loss: 1.917 |  Val. Acc: 43.62%\n",
            "Epoch: 22 | Train Loss: 0.638 | Train Acc: 99.55%\n",
            "\t Val. Loss: 1.961 |  Val. Acc: 42.57%\n",
            "Epoch: 23 | Train Loss: 0.619 | Train Acc: 99.89%\n",
            "\t Val. Loss: 2.087 |  Val. Acc: 41.38%\n",
            "Epoch: 24 | Train Loss: 0.634 | Train Acc: 98.76%\n",
            "\t Val. Loss: 3.010 |  Val. Acc: 38.10%\n",
            "Epoch: 25 | Train Loss: 0.673 | Train Acc: 96.87%\n",
            "\t Val. Loss: 1.864 |  Val. Acc: 49.67%\n",
            "Epoch: 26 | Train Loss: 0.623 | Train Acc: 99.44%\n",
            "\t Val. Loss: 1.951 |  Val. Acc: 41.62%\n",
            "Epoch: 27 | Train Loss: 0.588 | Train Acc: 99.67%\n",
            "\t Val. Loss: 1.895 |  Val. Acc: 43.38%\n",
            "Epoch: 28 | Train Loss: 0.571 | Train Acc: 99.78%\n",
            "\t Val. Loss: 2.165 |  Val. Acc: 43.24%\n",
            "Epoch: 29 | Train Loss: 0.548 | Train Acc: 99.89%\n",
            "\t Val. Loss: 2.115 |  Val. Acc: 42.19%\n",
            "Epoch: 30 | Train Loss: 0.536 | Train Acc: 100.00%\n",
            "\t Val. Loss: 2.306 |  Val. Acc: 42.05%\n",
            "Epoch: 31 | Train Loss: 0.526 | Train Acc: 100.00%\n",
            "\t Val. Loss: 2.500 |  Val. Acc: 40.86%\n",
            "Epoch: 32 | Train Loss: 0.602 | Train Acc: 96.08%\n",
            "\t Val. Loss: 2.374 |  Val. Acc: 46.05%\n",
            "Epoch: 33 | Train Loss: 0.866 | Train Acc: 85.72%\n",
            "\t Val. Loss: 3.332 |  Val. Acc: 42.19%\n",
            "Epoch: 34 | Train Loss: 1.202 | Train Acc: 81.87%\n",
            "\t Val. Loss: 5.988 |  Val. Acc: 48.48%\n",
            "Epoch: 35 | Train Loss: 1.259 | Train Acc: 77.42%\n",
            "\t Val. Loss: 3.787 |  Val. Acc: 45.71%\n",
            "Epoch: 36 | Train Loss: 1.013 | Train Acc: 86.76%\n",
            "\t Val. Loss: 4.013 |  Val. Acc: 48.10%\n",
            "Epoch: 37 | Train Loss: 0.728 | Train Acc: 89.51%\n",
            "\t Val. Loss: 3.025 |  Val. Acc: 43.62%\n",
            "Epoch: 38 | Train Loss: 0.725 | Train Acc: 89.24%\n",
            "\t Val. Loss: 2.969 |  Val. Acc: 45.57%\n",
            "Epoch: 39 | Train Loss: 0.646 | Train Acc: 93.19%\n",
            "\t Val. Loss: 2.416 |  Val. Acc: 46.05%\n",
            "Epoch: 40 | Train Loss: 0.549 | Train Acc: 98.22%\n",
            "\t Val. Loss: 2.864 |  Val. Acc: 45.29%\n",
            "Epoch: 41 | Train Loss: 0.511 | Train Acc: 99.67%\n",
            "\t Val. Loss: 2.913 |  Val. Acc: 41.95%\n",
            "Epoch: 42 | Train Loss: 0.496 | Train Acc: 99.89%\n",
            "\t Val. Loss: 3.148 |  Val. Acc: 44.33%\n",
            "Epoch: 43 | Train Loss: 0.485 | Train Acc: 99.89%\n",
            "\t Val. Loss: 3.393 |  Val. Acc: 47.24%\n",
            "Epoch: 44 | Train Loss: 0.473 | Train Acc: 99.89%\n",
            "\t Val. Loss: 3.063 |  Val. Acc: 45.81%\n",
            "Epoch: 45 | Train Loss: 0.493 | Train Acc: 99.00%\n",
            "\t Val. Loss: 3.070 |  Val. Acc: 44.48%\n",
            "Epoch: 46 | Train Loss: 0.499 | Train Acc: 98.78%\n",
            "\t Val. Loss: 3.460 |  Val. Acc: 50.33%\n",
            "Epoch: 47 | Train Loss: 0.468 | Train Acc: 99.33%\n",
            "\t Val. Loss: 3.301 |  Val. Acc: 44.43%\n",
            "Epoch: 48 | Train Loss: 0.468 | Train Acc: 99.56%\n",
            "\t Val. Loss: 4.308 |  Val. Acc: 37.67%\n",
            "Epoch: 49 | Train Loss: 0.463 | Train Acc: 99.11%\n",
            "\t Val. Loss: 3.886 |  Val. Acc: 41.76%\n",
            "Epoch: 50 | Train Loss: 0.445 | Train Acc: 100.00%\n",
            "\t Val. Loss: 3.140 |  Val. Acc: 45.76%\n",
            "Epoch: 51 | Train Loss: 0.434 | Train Acc: 99.89%\n",
            "\t Val. Loss: 3.806 |  Val. Acc: 42.10%\n",
            "Epoch: 52 | Train Loss: 0.422 | Train Acc: 100.00%\n",
            "\t Val. Loss: 3.578 |  Val. Acc: 40.10%\n",
            "Epoch: 53 | Train Loss: 0.412 | Train Acc: 100.00%\n",
            "\t Val. Loss: 3.813 |  Val. Acc: 44.19%\n",
            "Epoch: 54 | Train Loss: 0.405 | Train Acc: 100.00%\n",
            "\t Val. Loss: 3.779 |  Val. Acc: 40.76%\n",
            "Epoch: 55 | Train Loss: 0.398 | Train Acc: 100.00%\n",
            "\t Val. Loss: 3.771 |  Val. Acc: 41.43%\n",
            "Epoch: 56 | Train Loss: 0.392 | Train Acc: 100.00%\n",
            "\t Val. Loss: 3.833 |  Val. Acc: 41.29%\n",
            "Epoch: 57 | Train Loss: 0.385 | Train Acc: 100.00%\n",
            "\t Val. Loss: 4.030 |  Val. Acc: 39.95%\n",
            "Epoch: 58 | Train Loss: 0.379 | Train Acc: 100.00%\n",
            "\t Val. Loss: 3.957 |  Val. Acc: 38.62%\n",
            "Epoch: 59 | Train Loss: 0.373 | Train Acc: 100.00%\n",
            "\t Val. Loss: 3.979 |  Val. Acc: 40.62%\n",
            "Epoch: 60 | Train Loss: 0.367 | Train Acc: 100.00%\n",
            "\t Val. Loss: 4.033 |  Val. Acc: 39.95%\n",
            "Epoch: 61 | Train Loss: 0.361 | Train Acc: 100.00%\n",
            "\t Val. Loss: 4.011 |  Val. Acc: 38.62%\n",
            "Epoch: 62 | Train Loss: 0.356 | Train Acc: 100.00%\n",
            "\t Val. Loss: 4.063 |  Val. Acc: 39.95%\n",
            "Epoch: 63 | Train Loss: 0.350 | Train Acc: 100.00%\n",
            "\t Val. Loss: 4.062 |  Val. Acc: 41.29%\n",
            "Epoch: 64 | Train Loss: 0.344 | Train Acc: 100.00%\n",
            "\t Val. Loss: 4.003 |  Val. Acc: 41.29%\n",
            "Epoch: 65 | Train Loss: 0.339 | Train Acc: 100.00%\n",
            "\t Val. Loss: 3.966 |  Val. Acc: 38.62%\n",
            "Epoch: 66 | Train Loss: 0.333 | Train Acc: 100.00%\n",
            "\t Val. Loss: 3.997 |  Val. Acc: 39.95%\n",
            "Epoch: 67 | Train Loss: 0.328 | Train Acc: 100.00%\n",
            "\t Val. Loss: 3.846 |  Val. Acc: 42.62%\n",
            "Epoch: 68 | Train Loss: 0.349 | Train Acc: 99.44%\n",
            "\t Val. Loss: 4.676 |  Val. Acc: 46.19%\n",
            "Epoch: 69 | Train Loss: 0.971 | Train Acc: 81.31%\n",
            "\t Val. Loss: 9.371 |  Val. Acc: 42.71%\n",
            "Epoch: 70 | Train Loss: 2.118 | Train Acc: 70.55%\n",
            "\t Val. Loss: 7.116 |  Val. Acc: 47.29%\n"
          ]
        }
      ]
    },
    {
      "cell_type": "code",
      "metadata": {
        "colab": {
          "base_uri": "https://localhost:8080/",
          "height": 405
        },
        "id": "sYoo5fXpHEG1",
        "outputId": "107ddf77-f1ad-4eb4-8bd7-3081590fe838"
      },
      "source": [
        "import matplotlib.pyplot as plt\n",
        "fig = plt.figure(figsize=(10, 6))\n",
        "ax = fig.add_subplot(1, 1, 1)\n",
        "ax.plot(train_losses, label = 'train loss')\n",
        "ax.plot(valid_losses, label = 'valid loss')\n",
        "plt.legend()\n",
        "ax.set_xlabel('updates')\n",
        "ax.set_ylabel('loss')"
      ],
      "execution_count": 112,
      "outputs": [
        {
          "output_type": "execute_result",
          "data": {
            "text/plain": [
              "Text(0, 0.5, 'loss')"
            ]
          },
          "metadata": {},
          "execution_count": 112
        },
        {
          "output_type": "display_data",
          "data": {
            "image/png": "[encoded data removed]",
            "text/plain": [
              "<Figure size 720x432 with 1 Axes>"
            ]
          },
          "metadata": {
            "needs_background": "light"
          }
        }
      ]
    },
    {
      "cell_type": "code",
      "metadata": {
        "colab": {
          "base_uri": "https://localhost:8080/",
          "height": 405
        },
        "id": "mOHzYQU2HO5v",
        "outputId": "4271cb66-0ccb-4df6-a5db-b6bcb9deffa9"
      },
      "source": [
        "fig = plt.figure(figsize=(10, 6))\n",
        "ax = fig.add_subplot(1, 1, 1)\n",
        "ax.plot(train_accs, label = 'train acc')\n",
        "ax.plot(valid_accs, label = 'valid acc')\n",
        "plt.legend()\n",
        "ax.set_xlabel('updates')\n",
        "ax.set_ylabel('acc')"
      ],
      "execution_count": 113,
      "outputs": [
        {
          "output_type": "execute_result",
          "data": {
            "text/plain": [
              "Text(0, 0.5, 'acc')"
            ]
          },
          "metadata": {},
          "execution_count": 113
        },
        {
          "output_type": "display_data",
          "data": {
            "image/png": "[encoded data removed]",
            "text/plain": [
              "<Figure size 720x432 with 1 Axes>"
            ]
          },
          "metadata": {
            "needs_background": "light"
          }
        }
      ]
    },
    {
      "cell_type": "code",
      "metadata": {
        "colab": {
          "base_uri": "https://localhost:8080/"
        },
        "id": "VmAk-Nr-HQEU",
        "outputId": "56bc4903-9609-469a-ec0e-e4f8662701af"
      },
      "source": [
        "model.load_state_dict(torch.load('tensor.pt'))\n",
        "test_loss , test_acc = evaluate(model, test_loader, criterion)\n",
        "print(f'Test Loss: {test_loss:.3f} | Test Acc: {test_acc*100:.2f}%')"
      ],
      "execution_count": 114,
      "outputs": [
        {
          "output_type": "stream",
          "name": "stdout",
          "text": [
            "Test Loss: 0.808 | Test Acc: 48.22%\n"
          ]
        }
      ]
    }
  ]
}