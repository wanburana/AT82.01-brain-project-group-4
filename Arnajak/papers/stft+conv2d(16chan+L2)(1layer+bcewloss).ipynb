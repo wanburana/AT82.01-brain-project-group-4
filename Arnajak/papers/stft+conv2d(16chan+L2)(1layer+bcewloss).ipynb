{
  "nbformat": 4,
  "nbformat_minor": 0,
  "metadata": {
    "colab": {
      "name": "stft+conv2d(16chan+L2)(1layer+bcewloss).ipynb",
      "provenance": [],
      "toc_visible": true
    },
    "kernelspec": {
      "name": "python3",
      "display_name": "Python 3"
    },
    "language_info": {
      "name": "python"
    }
  },
  "cells": [
    {
      "cell_type": "markdown",
      "metadata": {
        "id": "XUe0frhXlK6w"
      },
      "source": [
        "# STFT"
      ]
    },
    {
      "cell_type": "code",
      "metadata": {
        "colab": {
          "base_uri": "https://localhost:8080/"
        },
        "id": "lPAxwFVY2_fu",
        "outputId": "b22be488-8cb2-4725-f0c9-62bda9626de0"
      },
      "source": [
        "import torch, torchvision\n",
        "from torchvision import transforms\n",
        "from torch import nn\n",
        "import numpy as np\n",
        "import sys\n",
        "import os\n",
        "from glob import glob\n",
        "import pickle\n",
        "import pandas as pd\n",
        "import numpy as np\n",
        "from tqdm import tqdm\n",
        "import matplotlib.pyplot as plt\n",
        "import seaborn as sns\n",
        "from google.colab import drive\n",
        "drive.mount('/content/drive')"
      ],
      "execution_count": 2,
      "outputs": [
        {
          "output_type": "stream",
          "name": "stdout",
          "text": [
            "Drive already mounted at /content/drive; to attempt to forcibly remount, call drive.mount(\"/content/drive\", force_remount=True).\n"
          ]
        }
      ]
    },
    {
      "cell_type": "code",
      "metadata": {
        "id": "ikufrBhY22Jt"
      },
      "source": [
        "stft_data = np.load('/content/drive/MyDrive/EEG/DEAP/stft_emo.npy')\n",
        "targets = np.load('/content/drive/MyDrive/EEG/DEAP/targets.npy')"
      ],
      "execution_count": 3,
      "outputs": []
    },
    {
      "cell_type": "code",
      "metadata": {
        "colab": {
          "base_uri": "https://localhost:8080/"
        },
        "id": "l_sc2Wzy3q4f",
        "outputId": "8099e1c6-7cea-43c5-effa-ff7e254d9efd"
      },
      "source": [
        "valence = []\n",
        "mean_valence = np.mean(targets[:,0])\n",
        "for i in range(targets.shape[0]):\n",
        "  if targets[i,0] < mean_valence :\n",
        "    valence.append(0)\n",
        "  else :\n",
        "    valence.append(1)\n",
        "valence = np.array(valence)\n",
        "valence.shape"
      ],
      "execution_count": 46,
      "outputs": [
        {
          "output_type": "execute_result",
          "data": {
            "text/plain": [
              "(1280,)"
            ]
          },
          "metadata": {},
          "execution_count": 46
        }
      ]
    },
    {
      "cell_type": "code",
      "metadata": {
        "colab": {
          "base_uri": "https://localhost:8080/"
        },
        "id": "feCcyLf0-292",
        "outputId": "ef06be58-4155-4e11-b94f-77c83dab2e76"
      },
      "source": [
        "valence.shape"
      ],
      "execution_count": 5,
      "outputs": [
        {
          "output_type": "execute_result",
          "data": {
            "text/plain": [
              "(1280,)"
            ]
          },
          "metadata": {},
          "execution_count": 5
        }
      ]
    },
    {
      "cell_type": "code",
      "metadata": {
        "colab": {
          "base_uri": "https://localhost:8080/"
        },
        "id": "qZ9TMrXu4maG",
        "outputId": "ff57bd6d-141c-4510-dc63-be0388a68554"
      },
      "source": [
        "from tensorflow.keras.utils import to_categorical\n",
        "valence = to_categorical(valence)\n",
        "valence.shape"
      ],
      "execution_count": 47,
      "outputs": [
        {
          "output_type": "execute_result",
          "data": {
            "text/plain": [
              "(1280, 2)"
            ]
          },
          "metadata": {},
          "execution_count": 47
        }
      ]
    },
    {
      "cell_type": "code",
      "metadata": {
        "id": "7jZMK7KV3Xlx"
      },
      "source": [
        "x_train = stft_data[:896]\n",
        "x_val =  stft_data[896:896+128]\n",
        "x_test = stft_data[896+128:]\n",
        "\n",
        "y_train = valence[:896]\n",
        "y_val = valence[896:896+128]\n",
        "y_test = valence[896+128:]"
      ],
      "execution_count": 48,
      "outputs": []
    },
    {
      "cell_type": "code",
      "metadata": {
        "id": "PwesAuDepVFv",
        "colab": {
          "base_uri": "https://localhost:8080/",
          "height": 35
        },
        "outputId": "e6054e1d-70e6-4be8-e7ac-f5293eeada6a"
      },
      "source": [
        "\"\"\"x_train = stft_data[:32]\n",
        "x_val =  stft_data[32:40]\n",
        "x_test = stft_data[40:80]\n",
        "\n",
        "y_train = valence[:32]\n",
        "y_val = valence[32:40]\n",
        "y_test = valence[40:80]\"\"\""
      ],
      "execution_count": 8,
      "outputs": [
        {
          "output_type": "execute_result",
          "data": {
            "application/vnd.google.colaboratory.intrinsic+json": {
              "type": "string"
            },
            "text/plain": [
              "'x_train = stft_data[:32]\\nx_val =  stft_data[32:40]\\nx_test = stft_data[40:80]\\n\\ny_train = valence[:32]\\ny_val = valence[32:40]\\ny_test = valence[40:80]'"
            ]
          },
          "metadata": {},
          "execution_count": 8
        }
      ]
    },
    {
      "cell_type": "markdown",
      "metadata": {
        "id": "AgRRPDJ5lf36"
      },
      "source": [
        "# DataLoader "
      ]
    },
    {
      "cell_type": "code",
      "metadata": {
        "id": "ad-BRAnX2vW-"
      },
      "source": [
        "SEED = 1234\n",
        "torch.manual_seed(SEED)\n",
        "torch.backends.cudnn.deterministic = True"
      ],
      "execution_count": 49,
      "outputs": []
    },
    {
      "cell_type": "code",
      "metadata": {
        "id": "UsPeU6ZojcK1"
      },
      "source": [
        "from torch.utils.data import DataLoader\n",
        "from torch.utils.data import TensorDataset\n",
        "\n",
        "batch_size = 100\n",
        "def dataload(X, y):\n",
        "    X_tensor = torch.tensor(X).float()\n",
        "    y_tensor = torch.tensor(y)\n",
        "    dataset_tensor = TensorDataset(X_tensor, y_tensor)\n",
        "    return dataset_tensor\n",
        "    #return DataLoader(dataset_tensor, batch_size=batch_size, shuffle=True)\n",
        "\n",
        "train_loader = DataLoader(dataload(x_train, y_train), batch_size=batch_size, shuffle=True)\n",
        "\n",
        "valid_loader = DataLoader(dataload(x_val, y_val), batch_size=batch_size, shuffle=False)\n",
        "\n",
        "test_loader = DataLoader(dataload(x_test, y_test), batch_size=batch_size, shuffle=False)"
      ],
      "execution_count": 50,
      "outputs": []
    },
    {
      "cell_type": "markdown",
      "metadata": {
        "id": "WKt7RHMeUEaU"
      },
      "source": [
        "# Conv2d model"
      ]
    },
    {
      "cell_type": "code",
      "metadata": {
        "id": "2CPRPr8ft9Ub"
      },
      "source": [
        "num_epochs = 50\n",
        "num_classes = 2\n",
        "learning_rate = 0.0001"
      ],
      "execution_count": 107,
      "outputs": []
    },
    {
      "cell_type": "code",
      "metadata": {
        "id": "UpLJT_DENtxy"
      },
      "source": [
        "class ConvNet(nn.Module):\n",
        "    def __init__(self, num_classes=num_classes):\n",
        "        super(ConvNet, self).__init__()\n",
        "        \n",
        "\n",
        "        #stft_data.shape[1] = number of channel\n",
        "        self.layer1 = nn.Sequential(\n",
        "            nn.Conv2d(stft_data.shape[1], 64, kernel_size=5, stride=1, padding=2), \n",
        "            nn.BatchNorm2d(64),\n",
        "            nn.ReLU(),\n",
        "            nn.MaxPool2d(kernel_size=2, stride=2))\n",
        "        self.layer2 = nn.Sequential(\n",
        "            nn.Conv2d(64, 128, kernel_size=5, stride=1, padding=2),\n",
        "            nn.BatchNorm2d(128),\n",
        "            nn.ReLU(),\n",
        "            nn.MaxPool2d(kernel_size=2, stride=2))\n",
        "        self.layer3 = nn.Sequential(\n",
        "            nn.Conv2d(256, 512, kernel_size=5, stride=1, padding=2),\n",
        "            nn.BatchNorm2d(512),\n",
        "            nn.ReLU(),\n",
        "            nn.MaxPool2d(kernel_size=2, stride=2))\n",
        "        \n",
        "        \"\"\"self.fc = nn.Sequential(nn.Linear(128*16*7,512),nn.ReLU(),nn.Dropout(0.1),\n",
        "                               nn.Linear(512,250),nn.ReLU(),nn.Dropout(0.1),\n",
        "                               nn.Linear(250,125),nn.ReLU(),nn.Dropout(0.1),\n",
        "                               nn.Linear(125,50),nn.ReLU(),nn.Dropout(0.1),\n",
        "                               nn.Linear(50,num_classes),nn.Dropout(0.1))\"\"\"\n",
        "        \n",
        "        self.fc = nn.Linear(128*32*63, num_classes)\n",
        "        #self.fc = nn.Sequential(nn.Linear(256*8*15,256),nn.ELU(),nn.Dropout(0.1),\n",
        "                               #nn.Linear(256,num_classes),nn.Dropout(0.1))\n",
        "        self.drop_out = nn.Dropout(p=0.2)\n",
        "        #self.softmax = nn.LogSoftmax(dim=1)\n",
        "        \n",
        "    def forward(self, x):\n",
        "        out = self.layer1(x)\n",
        "        out = self.drop_out(out)\n",
        "        #out = self.layer2(out)\n",
        "        #out = self.drop_out(out)\n",
        "        #out = self.layer3(out)\n",
        "        #out = self.drop_out(out)\n",
        "        out = out.reshape(out.size(0), -1)   #can also use .view()\n",
        "        out = self.fc(out)\n",
        "        #out = self.softmax(out)\n",
        "        return out"
      ],
      "execution_count": 108,
      "outputs": []
    },
    {
      "cell_type": "code",
      "metadata": {
        "id": "lId1oNleHBFf"
      },
      "source": [
        "#explicitly initialize weights for better learning\n",
        "def initialize_weights(m):\n",
        "    if isinstance(m, nn.Linear):\n",
        "        nn.init.xavier_normal_(m.weight)\n",
        "        nn.init.zeros_(m.bias)\n",
        "    elif isinstance(m, (nn.Conv2d, nn.Conv2d)):\n",
        "        for name, param in m.named_parameters():\n",
        "            if 'bias' in name:\n",
        "                nn.init.zeros_(param)\n",
        "            elif 'weight' in name:\n",
        "                nn.init.kaiming_normal_(param) #<---here"
      ],
      "execution_count": 109,
      "outputs": []
    },
    {
      "cell_type": "code",
      "metadata": {
        "id": "aqsduyBVOMM5"
      },
      "source": [
        "model = ConvNet(num_classes).float()\n",
        "#model.apply(initialize_weights)"
      ],
      "execution_count": 110,
      "outputs": []
    },
    {
      "cell_type": "code",
      "metadata": {
        "id": "oSERVa66OOB6"
      },
      "source": [
        "# Loss and optimizer\n",
        "#criterion = nn.CrossEntropyLoss()\n",
        "criterion = nn.BCEWithLogitsLoss()\n",
        "optimizer = torch.optim.Adam(model.parameters(), lr=learning_rate,weight_decay=1e-5)"
      ],
      "execution_count": 111,
      "outputs": []
    },
    {
      "cell_type": "markdown",
      "metadata": {
        "id": "QmtQFB67HCoR"
      },
      "source": [
        "# Train Test "
      ]
    },
    {
      "cell_type": "code",
      "metadata": {
        "id": "kI7GHuLLIdyz"
      },
      "source": [
        "def binary_accuracy(preds, y):\n",
        "    \"\"\"\n",
        "    Returns accuracy per batch, i.e. if you get 8/10 right, this returns 0.8, NOT 8\n",
        "    \"\"\"\n",
        "    #round predictions to the closest integer\n",
        "    rounded_preds = torch.round(torch.sigmoid(preds))\n",
        "    correct = (rounded_preds == y).float() #convert into float for division \n",
        "    acc = correct.sum() / len(correct)\n",
        "    return acc"
      ],
      "execution_count": 112,
      "outputs": []
    },
    {
      "cell_type": "code",
      "metadata": {
        "id": "H_ZVkAzNId1V"
      },
      "source": [
        "def cnn_acc(preds,y):\n",
        "    _, predicted = torch.max(preds.data, 1)\n",
        "    correct = (predicted == y).sum()\n",
        "    acc = correct / y.size(0)\n",
        "    return acc"
      ],
      "execution_count": 113,
      "outputs": []
    },
    {
      "cell_type": "code",
      "metadata": {
        "id": "r76aiXrnId3k"
      },
      "source": [
        "def train(model, loader, optimizer, criterion):\n",
        "    epoch_loss = 0\n",
        "    epoch_acc = 0\n",
        "    model.train() #useful for batchnorm and dropout\n",
        "    for i, (features, label) in enumerate(loader): \n",
        "                \n",
        "        #predict\n",
        "        predictions = model(features)\n",
        "        #calculate loss\n",
        "        loss = criterion(predictions, label)\n",
        "        l2_lambda = 0.001\n",
        "        l2_norm = sum(p.pow(2.0).sum() for p in model.parameters())\n",
        "        loss = loss + l2_lambda * l2_norm\n",
        "        acc = binary_accuracy(predictions, label)\n",
        "        \n",
        "        #backprop\n",
        "        optimizer.zero_grad()\n",
        "        loss.backward()\n",
        "        optimizer.step()\n",
        "        \n",
        "        epoch_loss += loss.item()\n",
        "        epoch_acc += acc.item()\n",
        "                \n",
        "    return epoch_loss / len(loader), epoch_acc / len(loader)"
      ],
      "execution_count": 114,
      "outputs": []
    },
    {
      "cell_type": "code",
      "metadata": {
        "id": "Bqj2y7T-Id5d"
      },
      "source": [
        "def evaluate(model, loader, criterion):\n",
        "    epoch_loss = 0\n",
        "    epoch_acc = 0\n",
        "    model.eval()\n",
        "    \n",
        "    with torch.no_grad():\n",
        "        for i, (features, label) in enumerate(loader): \n",
        "\n",
        "\n",
        "            predictions = model(features)\n",
        "            \n",
        "            loss = criterion(predictions, label)\n",
        "            acc = binary_accuracy(predictions, label)\n",
        "\n",
        "            epoch_loss += loss.item()\n",
        "            epoch_acc += acc.item()\n",
        "        \n",
        "    return epoch_loss / len(loader), epoch_acc / len(loader)"
      ],
      "execution_count": 115,
      "outputs": []
    },
    {
      "cell_type": "code",
      "metadata": {
        "colab": {
          "base_uri": "https://localhost:8080/"
        },
        "id": "EzIfXUOtId7p",
        "outputId": "c92fe037-a9cf-4d74-a22d-71c6e7bf14bd"
      },
      "source": [
        "best_valid_loss = float('inf')\n",
        "\n",
        "train_losses = []\n",
        "train_accs = []\n",
        "valid_losses = []\n",
        "valid_accs = []\n",
        "for epoch in range(num_epochs):\n",
        "\n",
        "    train_loss,train_acc = train(model, train_loader, optimizer, criterion)\n",
        "    valid_loss,valid_acc = evaluate(model, valid_loader, criterion)\n",
        "    \n",
        "    #for plotting\n",
        "    train_losses.append(train_loss)\n",
        "    train_accs.append(train_acc)\n",
        "    valid_losses.append(valid_loss)\n",
        "    valid_accs.append(valid_acc)\n",
        "    \n",
        "    if valid_loss < best_valid_loss:\n",
        "        best_valid_loss = valid_loss\n",
        "        torch.save(model.state_dict(),'tensor.pt')\n",
        "    \n",
        "    print(f'Epoch: {epoch+1:02} | Train Loss: {train_loss:.3f} | Train Acc: {train_acc*100:.2f}%')\n",
        "    print(f'\\t Val. Loss: {valid_loss:.3f} |  Val. Acc: {valid_acc*100:.2f}%')"
      ],
      "execution_count": 116,
      "outputs": [
        {
          "output_type": "stream",
          "name": "stdout",
          "text": [
            "Epoch: 01 | Train Loss: 9.628 | Train Acc: 100.14%\n",
            "\t Val. Loss: 7.320 |  Val. Acc: 90.14%\n",
            "Epoch: 02 | Train Loss: 4.166 | Train Acc: 109.94%\n",
            "\t Val. Loss: 2.528 |  Val. Acc: 87.36%\n",
            "Epoch: 03 | Train Loss: 1.743 | Train Acc: 128.94%\n",
            "\t Val. Loss: 1.250 |  Val. Acc: 111.21%\n",
            "Epoch: 04 | Train Loss: 1.416 | Train Acc: 138.60%\n",
            "\t Val. Loss: 1.267 |  Val. Acc: 95.50%\n",
            "Epoch: 05 | Train Loss: 1.459 | Train Acc: 134.10%\n",
            "\t Val. Loss: 1.863 |  Val. Acc: 92.36%\n",
            "Epoch: 06 | Train Loss: 1.448 | Train Acc: 136.97%\n",
            "\t Val. Loss: 1.383 |  Val. Acc: 96.21%\n",
            "Epoch: 07 | Train Loss: 1.542 | Train Acc: 140.04%\n",
            "\t Val. Loss: 1.132 |  Val. Acc: 101.14%\n",
            "Epoch: 08 | Train Loss: 1.368 | Train Acc: 150.81%\n",
            "\t Val. Loss: 1.859 |  Val. Acc: 91.50%\n",
            "Epoch: 09 | Train Loss: 1.262 | Train Acc: 162.69%\n",
            "\t Val. Loss: 1.214 |  Val. Acc: 84.50%\n",
            "Epoch: 10 | Train Loss: 1.051 | Train Acc: 179.81%\n",
            "\t Val. Loss: 1.139 |  Val. Acc: 102.00%\n",
            "Epoch: 11 | Train Loss: 1.009 | Train Acc: 185.48%\n",
            "\t Val. Loss: 1.176 |  Val. Acc: 92.79%\n",
            "Epoch: 12 | Train Loss: 0.988 | Train Acc: 184.62%\n",
            "\t Val. Loss: 1.235 |  Val. Acc: 92.43%\n",
            "Epoch: 13 | Train Loss: 0.952 | Train Acc: 189.54%\n",
            "\t Val. Loss: 1.168 |  Val. Acc: 94.43%\n",
            "Epoch: 14 | Train Loss: 0.907 | Train Acc: 194.18%\n",
            "\t Val. Loss: 1.182 |  Val. Acc: 93.00%\n",
            "Epoch: 15 | Train Loss: 0.882 | Train Acc: 195.77%\n",
            "\t Val. Loss: 1.197 |  Val. Acc: 91.57%\n",
            "Epoch: 16 | Train Loss: 0.855 | Train Acc: 197.19%\n",
            "\t Val. Loss: 1.236 |  Val. Acc: 90.07%\n",
            "Epoch: 17 | Train Loss: 0.832 | Train Acc: 198.11%\n",
            "\t Val. Loss: 1.346 |  Val. Acc: 96.29%\n",
            "Epoch: 18 | Train Loss: 0.810 | Train Acc: 197.67%\n",
            "\t Val. Loss: 1.267 |  Val. Acc: 89.29%\n",
            "Epoch: 19 | Train Loss: 0.780 | Train Acc: 199.44%\n",
            "\t Val. Loss: 1.263 |  Val. Acc: 90.00%\n",
            "Epoch: 20 | Train Loss: 0.754 | Train Acc: 198.87%\n",
            "\t Val. Loss: 1.288 |  Val. Acc: 88.71%\n",
            "Epoch: 21 | Train Loss: 0.731 | Train Acc: 199.00%\n",
            "\t Val. Loss: 1.294 |  Val. Acc: 90.29%\n",
            "Epoch: 22 | Train Loss: 0.711 | Train Acc: 199.33%\n",
            "\t Val. Loss: 1.362 |  Val. Acc: 89.50%\n",
            "Epoch: 23 | Train Loss: 0.693 | Train Acc: 200.00%\n",
            "\t Val. Loss: 1.372 |  Val. Acc: 90.21%\n",
            "Epoch: 24 | Train Loss: 0.670 | Train Acc: 199.56%\n",
            "\t Val. Loss: 1.422 |  Val. Acc: 90.00%\n",
            "Epoch: 25 | Train Loss: 0.657 | Train Acc: 199.88%\n",
            "\t Val. Loss: 1.442 |  Val. Acc: 88.71%\n",
            "Epoch: 26 | Train Loss: 0.640 | Train Acc: 200.00%\n",
            "\t Val. Loss: 1.475 |  Val. Acc: 88.71%\n",
            "Epoch: 27 | Train Loss: 0.624 | Train Acc: 199.78%\n",
            "\t Val. Loss: 1.558 |  Val. Acc: 94.14%\n",
            "Epoch: 28 | Train Loss: 0.610 | Train Acc: 199.89%\n",
            "\t Val. Loss: 1.595 |  Val. Acc: 90.64%\n",
            "Epoch: 29 | Train Loss: 0.595 | Train Acc: 199.78%\n",
            "\t Val. Loss: 1.613 |  Val. Acc: 90.57%\n",
            "Epoch: 30 | Train Loss: 0.580 | Train Acc: 199.89%\n",
            "\t Val. Loss: 1.623 |  Val. Acc: 91.07%\n",
            "Epoch: 31 | Train Loss: 0.569 | Train Acc: 200.00%\n",
            "\t Val. Loss: 1.621 |  Val. Acc: 90.00%\n",
            "Epoch: 32 | Train Loss: 0.554 | Train Acc: 200.00%\n",
            "\t Val. Loss: 1.668 |  Val. Acc: 91.50%\n",
            "Epoch: 33 | Train Loss: 0.540 | Train Acc: 200.00%\n",
            "\t Val. Loss: 1.707 |  Val. Acc: 90.00%\n",
            "Epoch: 34 | Train Loss: 0.527 | Train Acc: 200.00%\n",
            "\t Val. Loss: 1.743 |  Val. Acc: 92.07%\n",
            "Epoch: 35 | Train Loss: 0.514 | Train Acc: 200.00%\n",
            "\t Val. Loss: 1.766 |  Val. Acc: 93.57%\n",
            "Epoch: 36 | Train Loss: 0.502 | Train Acc: 200.00%\n",
            "\t Val. Loss: 1.850 |  Val. Acc: 93.36%\n",
            "Epoch: 37 | Train Loss: 0.491 | Train Acc: 200.00%\n",
            "\t Val. Loss: 1.930 |  Val. Acc: 92.36%\n",
            "Epoch: 38 | Train Loss: 0.479 | Train Acc: 200.00%\n",
            "\t Val. Loss: 1.969 |  Val. Acc: 91.86%\n",
            "Epoch: 39 | Train Loss: 0.468 | Train Acc: 200.00%\n",
            "\t Val. Loss: 1.964 |  Val. Acc: 90.79%\n",
            "Epoch: 40 | Train Loss: 0.460 | Train Acc: 200.00%\n",
            "\t Val. Loss: 2.015 |  Val. Acc: 86.93%\n",
            "Epoch: 41 | Train Loss: 0.450 | Train Acc: 200.00%\n",
            "\t Val. Loss: 2.026 |  Val. Acc: 90.50%\n",
            "Epoch: 42 | Train Loss: 0.440 | Train Acc: 200.00%\n",
            "\t Val. Loss: 2.095 |  Val. Acc: 90.07%\n",
            "Epoch: 43 | Train Loss: 0.430 | Train Acc: 200.00%\n",
            "\t Val. Loss: 2.143 |  Val. Acc: 90.57%\n",
            "Epoch: 44 | Train Loss: 0.421 | Train Acc: 200.00%\n",
            "\t Val. Loss: 2.145 |  Val. Acc: 89.79%\n",
            "Epoch: 45 | Train Loss: 0.413 | Train Acc: 200.00%\n",
            "\t Val. Loss: 2.191 |  Val. Acc: 92.07%\n",
            "Epoch: 46 | Train Loss: 0.404 | Train Acc: 200.00%\n",
            "\t Val. Loss: 2.246 |  Val. Acc: 92.07%\n",
            "Epoch: 47 | Train Loss: 0.396 | Train Acc: 200.00%\n",
            "\t Val. Loss: 2.271 |  Val. Acc: 90.29%\n",
            "Epoch: 48 | Train Loss: 0.388 | Train Acc: 200.00%\n",
            "\t Val. Loss: 2.306 |  Val. Acc: 91.07%\n",
            "Epoch: 49 | Train Loss: 0.381 | Train Acc: 200.00%\n",
            "\t Val. Loss: 2.336 |  Val. Acc: 91.36%\n",
            "Epoch: 50 | Train Loss: 0.373 | Train Acc: 200.00%\n",
            "\t Val. Loss: 2.478 |  Val. Acc: 89.36%\n"
          ]
        }
      ]
    },
    {
      "cell_type": "code",
      "metadata": {
        "colab": {
          "base_uri": "https://localhost:8080/",
          "height": 406
        },
        "id": "sYoo5fXpHEG1",
        "outputId": "6ae44b69-ee1b-4428-fdb8-eb4e5be055b7"
      },
      "source": [
        "import matplotlib.pyplot as plt\n",
        "fig = plt.figure(figsize=(10, 6))\n",
        "ax = fig.add_subplot(1, 1, 1)\n",
        "ax.plot(train_losses, label = 'train loss')\n",
        "ax.plot(valid_losses, label = 'valid loss')\n",
        "plt.legend()\n",
        "ax.set_xlabel('epoch')\n",
        "ax.set_ylabel('loss')"
      ],
      "execution_count": 117,
      "outputs": [
        {
          "output_type": "execute_result",
          "data": {
            "text/plain": [
              "Text(0, 0.5, 'loss')"
            ]
          },
          "metadata": {},
          "execution_count": 117
        },
        {
          "output_type": "display_data",
          "data": {
            "image/png": "[encoded data removed]",
            "text/plain": [
              "<Figure size 720x432 with 1 Axes>"
            ]
          },
          "metadata": {
            "needs_background": "light"
          }
        }
      ]
    },
    {
      "cell_type": "code",
      "metadata": {
        "colab": {
          "base_uri": "https://localhost:8080/",
          "height": 405
        },
        "id": "mOHzYQU2HO5v",
        "outputId": "10a9af6e-cafa-4345-dc44-4910d5e6ca7d"
      },
      "source": [
        "fig = plt.figure(figsize=(10, 6))\n",
        "ax = fig.add_subplot(1, 1, 1)\n",
        "ax.plot(train_accs, label = 'train acc')\n",
        "ax.plot(valid_accs, label = 'valid acc')\n",
        "plt.legend()\n",
        "ax.set_xlabel('epoch')\n",
        "ax.set_ylabel('acc')"
      ],
      "execution_count": 118,
      "outputs": [
        {
          "output_type": "execute_result",
          "data": {
            "text/plain": [
              "Text(0, 0.5, 'acc')"
            ]
          },
          "metadata": {},
          "execution_count": 118
        },
        {
          "output_type": "display_data",
          "data": {
            "image/png": "[encoded data removed]",
            "text/plain": [
              "<Figure size 720x432 with 1 Axes>"
            ]
          },
          "metadata": {
            "needs_background": "light"
          }
        }
      ]
    },
    {
      "cell_type": "code",
      "metadata": {
        "colab": {
          "base_uri": "https://localhost:8080/"
        },
        "id": "VmAk-Nr-HQEU",
        "outputId": "dfd2e477-629b-45d8-b58a-884075e0c252"
      },
      "source": [
        "model.load_state_dict(torch.load('tensor.pt'))\n",
        "test_loss , test_acc = evaluate(model, test_loader, criterion)\n",
        "print(f'Test Loss: {test_loss:.3f} | Test Acc: {test_acc*100:.2f}%')"
      ],
      "execution_count": 119,
      "outputs": [
        {
          "output_type": "stream",
          "name": "stdout",
          "text": [
            "Test Loss: 0.689 | Test Acc: 107.43%\n"
          ]
        }
      ]
    }
  ]
}