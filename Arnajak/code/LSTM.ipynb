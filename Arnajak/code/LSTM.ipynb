{
  "nbformat": 4,
  "nbformat_minor": 0,
  "metadata": {
    "colab": {
      "name": "LSTM.ipynb",
      "provenance": []
    },
    "kernelspec": {
      "name": "python3",
      "display_name": "Python 3"
    },
    "language_info": {
      "name": "python"
    }
  },
  "cells": [
    {
      "cell_type": "code",
      "metadata": {
        "colab": {
          "base_uri": "https://localhost:8080/"
        },
        "id": "Ye-F5QW5BJpG",
        "outputId": "299060ae-33b7-4526-859b-41713425fb6c"
      },
      "source": [
        "import torch, torchvision\n",
        "from torchvision import transforms\n",
        "from torch import nn\n",
        "import numpy as np\n",
        "import sys\n",
        "import os\n",
        "from glob import glob\n",
        "import pickle\n",
        "import pandas as pd\n",
        "import numpy as np\n",
        "from tqdm import tqdm\n",
        "import matplotlib.pyplot as plt\n",
        "import seaborn as sns\n",
        "from google.colab import drive\n",
        "drive.mount('/content/drive')"
      ],
      "execution_count": 1,
      "outputs": [
        {
          "output_type": "stream",
          "name": "stdout",
          "text": [
            "Drive already mounted at /content/drive; to attempt to forcibly remount, call drive.mount(\"/content/drive\", force_remount=True).\n"
          ]
        }
      ]
    },
    {
      "cell_type": "code",
      "metadata": {
        "colab": {
          "base_uri": "https://localhost:8080/"
        },
        "id": "OX1iccZwCGNY",
        "outputId": "06713c82-a7c5-4fe8-fa61-45ce7194d710"
      },
      "source": [
        "eeg_emo0 = np.load('/content/drive/MyDrive/EEG/DEAP/eeg_emo_chan.npy')\n",
        "targets = np.load('/content/drive/MyDrive/EEG/DEAP/targets.npy')\n",
        "print(eeg_emo0.shape)\n",
        "print(targets.shape)"
      ],
      "execution_count": 3,
      "outputs": [
        {
          "output_type": "stream",
          "name": "stdout",
          "text": [
            "(1280, 16, 8064)\n",
            "(1280, 4)\n"
          ]
        }
      ]
    },
    {
      "cell_type": "code",
      "metadata": {
        "colab": {
          "base_uri": "https://localhost:8080/"
        },
        "id": "lZLqm3UWCGQl",
        "outputId": "fcf52245-44cf-48e1-94c6-a3cb3ff80a04"
      },
      "source": [
        "eeg_emo = eeg_emo0[:,:,384:] # cut 3s baseline\n",
        "print(eeg_emo.shape)"
      ],
      "execution_count": 4,
      "outputs": [
        {
          "output_type": "stream",
          "name": "stdout",
          "text": [
            "(1280, 16, 7680)\n"
          ]
        }
      ]
    },
    {
      "cell_type": "markdown",
      "metadata": {
        "id": "yephCgGaIOtN"
      },
      "source": [
        "# divided into 12 segments which each is 5 seconds"
      ]
    },
    {
      "cell_type": "code",
      "metadata": {
        "colab": {
          "base_uri": "https://localhost:8080/"
        },
        "id": "25SECjfEIUEM",
        "outputId": "afbae610-667c-4afc-e3ac-34f278f8867b"
      },
      "source": [
        "eeg_emo_5s = np.empty((eeg_emo.shape[0]*12,eeg_emo.shape[1],640))\n",
        "targets_5s = np.empty((eeg_emo.shape[0]*12,4))\n",
        "\n",
        "for i,k in enumerate(range(0,eeg_emo_5s.shape[0],12)):\n",
        "  for j in range(12):\n",
        "    eeg_emo_5s[k+j,:,:] = eeg_emo[i,:,640*j:640*(j+1)]\n",
        "    targets_5s[k+j,:] = targets[i,:]\n",
        "print(eeg_emo_5s.shape)\n",
        "print(targets_5s.shape)"
      ],
      "execution_count": 5,
      "outputs": [
        {
          "output_type": "stream",
          "name": "stdout",
          "text": [
            "(15360, 16, 640)\n",
            "(15360, 4)\n"
          ]
        }
      ]
    },
    {
      "cell_type": "markdown",
      "metadata": {
        "id": "ssVpSp1SF4fh"
      },
      "source": [
        "# ฺValence"
      ]
    },
    {
      "cell_type": "code",
      "metadata": {
        "colab": {
          "base_uri": "https://localhost:8080/"
        },
        "id": "tEH_5xUxFxGo",
        "outputId": "b051bd7b-95fe-4905-c3f0-d3f59f423243"
      },
      "source": [
        "# valence 0-low ,1 high \n",
        "valence = []\n",
        "mean_valence = np.mean(targets_5s[:,0])\n",
        "for i in range(targets_5s.shape[0]):\n",
        "  if targets_5s[i,0] < mean_valence :\n",
        "    valence.append(0)\n",
        "  else :\n",
        "    valence.append(1)\n",
        "valence = np.array(valence)\n",
        "valence.shape"
      ],
      "execution_count": 6,
      "outputs": [
        {
          "output_type": "execute_result",
          "data": {
            "text/plain": [
              "(15360,)"
            ]
          },
          "metadata": {},
          "execution_count": 6
        }
      ]
    },
    {
      "cell_type": "code",
      "metadata": {
        "colab": {
          "base_uri": "https://localhost:8080/"
        },
        "id": "gkBQJzacCGkB",
        "outputId": "4f8c0db6-5e21-4bd9-c70e-a59fc04d4162"
      },
      "source": [
        "from tensorflow.keras.utils import to_categorical\n",
        "valence = to_categorical(valence)\n",
        "valence.shape"
      ],
      "execution_count": 7,
      "outputs": [
        {
          "output_type": "execute_result",
          "data": {
            "text/plain": [
              "(15360, 2)"
            ]
          },
          "metadata": {},
          "execution_count": 7
        }
      ]
    },
    {
      "cell_type": "code",
      "metadata": {
        "id": "tMR6eTJECGmZ"
      },
      "source": [
        "train_size = 0.7\n",
        "val_size = 0.1\n",
        "idx = np.arange(0,eeg_emo_5s.shape[0],1)\n",
        "ts = int(train_size*eeg_emo_5s.shape[0]) \n",
        "vs = int(val_size*eeg_emo_5s.shape[0]) \n",
        "idx_train = idx[0:ts]\n",
        "idx_val = idx[ts:ts+vs]\n",
        "idx_test = idx[ts+vs:]"
      ],
      "execution_count": 8,
      "outputs": []
    },
    {
      "cell_type": "code",
      "metadata": {
        "colab": {
          "base_uri": "https://localhost:8080/"
        },
        "id": "ix4oAzcUCGoi",
        "outputId": "7dee3712-2458-43a8-d719-dd07b129f805"
      },
      "source": [
        "x_train = eeg_emo_5s[idx_train]\n",
        "x_val = eeg_emo_5s[idx_val]\n",
        "x_test = eeg_emo_5s[idx_test]\n",
        "\n",
        "y_train = valence[idx_train]\n",
        "y_val = valence[idx_val]\n",
        "y_test = valence[idx_test]\n",
        "print('x_train',x_train.shape)\n",
        "print('x_val',x_val.shape)\n",
        "print('x_test',x_test.shape)\n",
        "\n",
        "print('y_train',y_train.shape)\n",
        "print('y_val',y_val.shape)\n",
        "print('y_test',y_test.shape)"
      ],
      "execution_count": 9,
      "outputs": [
        {
          "output_type": "stream",
          "name": "stdout",
          "text": [
            "x_train (10752, 16, 640)\n",
            "x_val (1536, 16, 640)\n",
            "x_test (3072, 16, 640)\n",
            "y_train (10752, 2)\n",
            "y_val (1536, 2)\n",
            "y_test (3072, 2)\n"
          ]
        }
      ]
    },
    {
      "cell_type": "markdown",
      "metadata": {
        "id": "Am09M9NfOhaZ"
      },
      "source": [
        "# DataLoader"
      ]
    },
    {
      "cell_type": "code",
      "metadata": {
        "id": "L3FDuguFCGq1"
      },
      "source": [
        "SEED = 1234\n",
        "torch.manual_seed(SEED)\n",
        "torch.backends.cudnn.deterministic = True"
      ],
      "execution_count": 10,
      "outputs": []
    },
    {
      "cell_type": "code",
      "metadata": {
        "id": "bIE7dRjrCGxQ"
      },
      "source": [
        "from torch.utils.data import DataLoader\n",
        "from torch.utils.data import TensorDataset\n",
        "\n",
        "batch_size = 512\n",
        "def dataload(X, y):\n",
        "    X_tensor = torch.tensor(X).float()\n",
        "    y_tensor = torch.tensor(y)\n",
        "    dataset_tensor = TensorDataset(X_tensor, y_tensor)\n",
        "    return dataset_tensor\n",
        "    #return DataLoader(dataset_tensor, batch_size=batch_size, shuffle=True)\n",
        "\n",
        "train_loader = DataLoader(dataload(x_train, y_train), batch_size=batch_size, shuffle=True)\n",
        "\n",
        "valid_loader = DataLoader(dataload(x_val, y_val), batch_size=batch_size, shuffle=False)\n",
        "\n",
        "test_loader = DataLoader(dataload(x_test, y_test), batch_size=batch_size, shuffle=False)"
      ],
      "execution_count": 11,
      "outputs": []
    },
    {
      "cell_type": "code",
      "metadata": {
        "id": "loiOMYH4CGzo"
      },
      "source": [
        ""
      ],
      "execution_count": 11,
      "outputs": []
    },
    {
      "cell_type": "markdown",
      "metadata": {
        "id": "HmQvckurOj7V"
      },
      "source": [
        "# LSTM"
      ]
    },
    {
      "cell_type": "code",
      "metadata": {
        "id": "8n8OGs5SOkPF"
      },
      "source": [
        "#model hyperparameters\n",
        "hidden_dim1 = 64\n",
        "hidden_dim2= 32 \n",
        "embed_dim = x_train.shape[2]\n",
        "#ed2 = hidden_dim*2\n",
        "output_dim = y_train.shape[1]\n",
        "num_layers = 1\n",
        "bidirectional = True\n",
        "dropout = 0.5\n",
        "\n",
        "#training hyperparameters\n",
        "num_epochs = 100\n",
        "lr=0.0001"
      ],
      "execution_count": 105,
      "outputs": []
    },
    {
      "cell_type": "code",
      "metadata": {
        "id": "J_IjqVibOkRR"
      },
      "source": [
        "import torch.nn as nn\n",
        "\n",
        "class LSTM(nn.Module):\n",
        "    def __init__(self):\n",
        "        super().__init__()\n",
        "        self.lstm1 = nn.LSTM(embed_dim, hidden_dim1, num_layers=num_layers,\n",
        "                           bidirectional=bidirectional, \n",
        "                           dropout=0.5,\n",
        "                           batch_first=True)\n",
        "        self.lstm2 = nn.LSTM(128, hidden_dim2, num_layers=num_layers,\n",
        "                           bidirectional=bidirectional, \n",
        "                           dropout=0.1,\n",
        "                           batch_first=True)\n",
        "        \n",
        "        self.b_norm = nn.BatchNorm1d(hidden_dim1*2)\n",
        "        self.layernorm = nn.LayerNorm(hidden_dim1*2)\n",
        "        self.relu = nn.ReLU()\n",
        "        self.fc = nn.Linear(hidden_dim1*2, output_dim)\n",
        "        \n",
        "    def forward(self, x):\n",
        "        out,(hn, cn) = self.lstm1(x)\n",
        "        #out = self.relu(out)\n",
        "        #out,(hn, cn) = self.lstm2(out)\n",
        "        hn = torch.cat((hn[-2,:,:], hn[-1,:,:]), dim = 1)\n",
        "        hn = self.relu(hn)\n",
        "        hn = self.b_norm(hn)\n",
        "        return self.fc(hn)"
      ],
      "execution_count": 106,
      "outputs": []
    },
    {
      "cell_type": "code",
      "metadata": {
        "id": "8Kl-hCGVQ7V9"
      },
      "source": [
        "#explicitly initialize weights for better learning\n",
        "def initialize_weights(m):\n",
        "    if isinstance(m, nn.Linear):\n",
        "        nn.init.xavier_normal_(m.weight)\n",
        "        nn.init.zeros_(m.bias)\n",
        "    elif isinstance(m, (nn.Conv2d, nn.Conv2d)):\n",
        "        for name, param in m.named_parameters():\n",
        "            if 'bias' in name:\n",
        "                nn.init.zeros_(param)\n",
        "            elif 'weight' in name:\n",
        "                nn.init.kaiming_normal_(param) #<---here"
      ],
      "execution_count": 107,
      "outputs": []
    },
    {
      "cell_type": "code",
      "metadata": {
        "colab": {
          "base_uri": "https://localhost:8080/"
        },
        "id": "Fv5ZjUSdQ9gs",
        "outputId": "11b11841-d5a5-425b-a7aa-023140b4e7e5"
      },
      "source": [
        "model = LSTM().float()\n",
        "#model.apply(initialize_weights)"
      ],
      "execution_count": 108,
      "outputs": [
        {
          "output_type": "stream",
          "name": "stderr",
          "text": [
            "/usr/local/lib/python3.7/dist-packages/torch/nn/modules/rnn.py:65: UserWarning: dropout option adds dropout after all but last recurrent layer, so non-zero dropout expects num_layers greater than 1, but got dropout=0.5 and num_layers=1\n",
            "  \"num_layers={}\".format(dropout, num_layers))\n",
            "/usr/local/lib/python3.7/dist-packages/torch/nn/modules/rnn.py:65: UserWarning: dropout option adds dropout after all but last recurrent layer, so non-zero dropout expects num_layers greater than 1, but got dropout=0.1 and num_layers=1\n",
            "  \"num_layers={}\".format(dropout, num_layers))\n"
          ]
        }
      ]
    },
    {
      "cell_type": "code",
      "metadata": {
        "id": "htjSK8grQ9i6"
      },
      "source": [
        "# Loss and optimizer\n",
        "#criterion = nn.CrossEntropyLoss()\n",
        "criterion = nn.BCEWithLogitsLoss()\n",
        "optimizer = torch.optim.Adam(model.parameters(), lr=lr,weight_decay=1e-5)"
      ],
      "execution_count": 109,
      "outputs": []
    },
    {
      "cell_type": "markdown",
      "metadata": {
        "id": "QmtQFB67HCoR"
      },
      "source": [
        "# Train Test "
      ]
    },
    {
      "cell_type": "code",
      "metadata": {
        "id": "kI7GHuLLIdyz"
      },
      "source": [
        "def binary_accuracy(preds, y):\n",
        "    \"\"\"\n",
        "    Returns accuracy per batch, i.e. if you get 8/10 right, this returns 0.8, NOT 8\n",
        "    \"\"\"\n",
        "    #round predictions to the closest integer\n",
        "    rounded_preds = torch.round(torch.sigmoid(preds))\n",
        "    correct = (rounded_preds == y).float() #convert into float for division \n",
        "    acc = correct.sum() / len(correct)\n",
        "    return acc/2"
      ],
      "execution_count": 110,
      "outputs": []
    },
    {
      "cell_type": "code",
      "metadata": {
        "id": "H_ZVkAzNId1V"
      },
      "source": [
        "def cnn_acc(preds,y):\n",
        "    _, predicted = torch.max(preds.data, 1)\n",
        "    correct = (predicted == y).sum()\n",
        "    acc = correct / y.size(0)\n",
        "    return acc"
      ],
      "execution_count": 111,
      "outputs": []
    },
    {
      "cell_type": "code",
      "metadata": {
        "id": "r76aiXrnId3k"
      },
      "source": [
        "def train(model, loader, optimizer, criterion):\n",
        "    epoch_loss = 0\n",
        "    epoch_acc = 0\n",
        "    model.train() #useful for batchnorm and dropout\n",
        "    for i, (features, label) in enumerate(loader): \n",
        "                \n",
        "        #predict\n",
        "        predictions = model(features)\n",
        "        #calculate loss\n",
        "        loss = criterion(predictions, label)\n",
        "        \"\"\"l2_lambda = 0.001\n",
        "        l2_norm = sum(p.pow(2.0).sum() for p in model.parameters())\n",
        "        loss = loss + l2_lambda * l2_norm\"\"\"\n",
        "        acc = binary_accuracy(predictions, label)\n",
        "        \n",
        "        #backprop\n",
        "        optimizer.zero_grad()\n",
        "        loss.backward()\n",
        "        optimizer.step()\n",
        "        \n",
        "        epoch_loss += loss.item()\n",
        "        epoch_acc += acc.item()\n",
        "                \n",
        "    return epoch_loss / len(loader), epoch_acc / len(loader)"
      ],
      "execution_count": 112,
      "outputs": []
    },
    {
      "cell_type": "code",
      "metadata": {
        "id": "Bqj2y7T-Id5d"
      },
      "source": [
        "def evaluate(model, loader, criterion):\n",
        "    epoch_loss = 0\n",
        "    epoch_acc = 0\n",
        "    model.eval()\n",
        "    \n",
        "    with torch.no_grad():\n",
        "        for i, (features, label) in enumerate(loader): \n",
        "\n",
        "\n",
        "            predictions = model(features)\n",
        "            \n",
        "            loss = criterion(predictions, label)\n",
        "            acc = binary_accuracy(predictions, label)\n",
        "\n",
        "            epoch_loss += loss.item()\n",
        "            epoch_acc += acc.item()\n",
        "        \n",
        "    return epoch_loss / len(loader), epoch_acc / len(loader)"
      ],
      "execution_count": 113,
      "outputs": []
    },
    {
      "cell_type": "code",
      "metadata": {
        "colab": {
          "base_uri": "https://localhost:8080/"
        },
        "id": "EzIfXUOtId7p",
        "outputId": "31e25bb6-8124-4f92-9f20-39580fa597cd"
      },
      "source": [
        "best_valid_loss = float('inf')\n",
        "\n",
        "train_losses = []\n",
        "train_accs = []\n",
        "valid_losses = []\n",
        "valid_accs = []\n",
        "for epoch in range(num_epochs):\n",
        "\n",
        "    train_loss,train_acc = train(model, train_loader, optimizer, criterion)\n",
        "    valid_loss,valid_acc = evaluate(model, valid_loader, criterion)\n",
        "    \n",
        "    #for plotting\n",
        "    train_losses.append(train_loss)\n",
        "    train_accs.append(train_acc)\n",
        "    valid_losses.append(valid_loss)\n",
        "    valid_accs.append(valid_acc)\n",
        "    \n",
        "    if valid_loss < best_valid_loss:\n",
        "        best_valid_loss = valid_loss\n",
        "        torch.save(model.state_dict(),'tensor.pt')\n",
        "    \n",
        "    print(f'Epoch: {epoch+1:02} | Train Loss: {train_loss:.3f} | Train Acc: {train_acc*100:.2f}%')\n",
        "    print(f'\\t Val. Loss: {valid_loss:.3f} |  Val. Acc: {valid_acc*100:.2f}%')"
      ],
      "execution_count": 114,
      "outputs": [
        {
          "output_type": "stream",
          "name": "stdout",
          "text": [
            "Epoch: 01 | Train Loss: 0.730 | Train Acc: 50.12%\n",
            "\t Val. Loss: 0.704 |  Val. Acc: 51.82%\n",
            "Epoch: 02 | Train Loss: 0.703 | Train Acc: 53.57%\n",
            "\t Val. Loss: 0.717 |  Val. Acc: 51.53%\n",
            "Epoch: 03 | Train Loss: 0.687 | Train Acc: 55.87%\n",
            "\t Val. Loss: 0.720 |  Val. Acc: 51.60%\n",
            "Epoch: 04 | Train Loss: 0.673 | Train Acc: 57.86%\n",
            "\t Val. Loss: 0.719 |  Val. Acc: 51.46%\n",
            "Epoch: 05 | Train Loss: 0.660 | Train Acc: 60.04%\n",
            "\t Val. Loss: 0.719 |  Val. Acc: 51.40%\n",
            "Epoch: 06 | Train Loss: 0.649 | Train Acc: 62.03%\n",
            "\t Val. Loss: 0.718 |  Val. Acc: 51.73%\n",
            "Epoch: 07 | Train Loss: 0.637 | Train Acc: 63.79%\n",
            "\t Val. Loss: 0.718 |  Val. Acc: 51.53%\n",
            "Epoch: 08 | Train Loss: 0.626 | Train Acc: 65.76%\n",
            "\t Val. Loss: 0.718 |  Val. Acc: 52.02%\n",
            "Epoch: 09 | Train Loss: 0.615 | Train Acc: 67.42%\n",
            "\t Val. Loss: 0.718 |  Val. Acc: 52.18%\n",
            "Epoch: 10 | Train Loss: 0.603 | Train Acc: 69.12%\n",
            "\t Val. Loss: 0.719 |  Val. Acc: 52.25%\n",
            "Epoch: 11 | Train Loss: 0.592 | Train Acc: 70.94%\n",
            "\t Val. Loss: 0.721 |  Val. Acc: 52.05%\n",
            "Epoch: 12 | Train Loss: 0.580 | Train Acc: 72.70%\n",
            "\t Val. Loss: 0.720 |  Val. Acc: 51.73%\n",
            "Epoch: 13 | Train Loss: 0.568 | Train Acc: 74.27%\n",
            "\t Val. Loss: 0.721 |  Val. Acc: 51.60%\n",
            "Epoch: 14 | Train Loss: 0.556 | Train Acc: 75.79%\n",
            "\t Val. Loss: 0.723 |  Val. Acc: 51.46%\n",
            "Epoch: 15 | Train Loss: 0.544 | Train Acc: 77.36%\n",
            "\t Val. Loss: 0.724 |  Val. Acc: 51.24%\n",
            "Epoch: 16 | Train Loss: 0.531 | Train Acc: 78.76%\n",
            "\t Val. Loss: 0.726 |  Val. Acc: 51.07%\n",
            "Epoch: 17 | Train Loss: 0.518 | Train Acc: 80.06%\n",
            "\t Val. Loss: 0.727 |  Val. Acc: 51.40%\n",
            "Epoch: 18 | Train Loss: 0.506 | Train Acc: 81.25%\n",
            "\t Val. Loss: 0.729 |  Val. Acc: 51.43%\n",
            "Epoch: 19 | Train Loss: 0.492 | Train Acc: 82.56%\n",
            "\t Val. Loss: 0.733 |  Val. Acc: 51.40%\n",
            "Epoch: 20 | Train Loss: 0.480 | Train Acc: 83.63%\n",
            "\t Val. Loss: 0.736 |  Val. Acc: 51.37%\n",
            "Epoch: 21 | Train Loss: 0.467 | Train Acc: 84.70%\n",
            "\t Val. Loss: 0.738 |  Val. Acc: 51.43%\n",
            "Epoch: 22 | Train Loss: 0.455 | Train Acc: 85.70%\n",
            "\t Val. Loss: 0.741 |  Val. Acc: 51.69%\n",
            "Epoch: 23 | Train Loss: 0.441 | Train Acc: 86.71%\n",
            "\t Val. Loss: 0.744 |  Val. Acc: 51.79%\n",
            "Epoch: 24 | Train Loss: 0.429 | Train Acc: 87.61%\n",
            "\t Val. Loss: 0.748 |  Val. Acc: 51.46%\n",
            "Epoch: 25 | Train Loss: 0.416 | Train Acc: 88.52%\n",
            "\t Val. Loss: 0.750 |  Val. Acc: 50.91%\n",
            "Epoch: 26 | Train Loss: 0.404 | Train Acc: 89.34%\n",
            "\t Val. Loss: 0.754 |  Val. Acc: 51.63%\n",
            "Epoch: 27 | Train Loss: 0.391 | Train Acc: 90.23%\n",
            "\t Val. Loss: 0.756 |  Val. Acc: 51.73%\n",
            "Epoch: 28 | Train Loss: 0.379 | Train Acc: 91.01%\n",
            "\t Val. Loss: 0.758 |  Val. Acc: 52.15%\n",
            "Epoch: 29 | Train Loss: 0.367 | Train Acc: 91.64%\n",
            "\t Val. Loss: 0.761 |  Val. Acc: 51.95%\n",
            "Epoch: 30 | Train Loss: 0.356 | Train Acc: 92.18%\n",
            "\t Val. Loss: 0.765 |  Val. Acc: 51.76%\n",
            "Epoch: 31 | Train Loss: 0.345 | Train Acc: 92.75%\n",
            "\t Val. Loss: 0.769 |  Val. Acc: 51.79%\n",
            "Epoch: 32 | Train Loss: 0.334 | Train Acc: 93.24%\n",
            "\t Val. Loss: 0.774 |  Val. Acc: 51.66%\n",
            "Epoch: 33 | Train Loss: 0.324 | Train Acc: 93.77%\n",
            "\t Val. Loss: 0.779 |  Val. Acc: 51.95%\n",
            "Epoch: 34 | Train Loss: 0.313 | Train Acc: 94.15%\n",
            "\t Val. Loss: 0.783 |  Val. Acc: 51.92%\n",
            "Epoch: 35 | Train Loss: 0.303 | Train Acc: 94.41%\n",
            "\t Val. Loss: 0.785 |  Val. Acc: 51.79%\n",
            "Epoch: 36 | Train Loss: 0.293 | Train Acc: 94.95%\n",
            "\t Val. Loss: 0.789 |  Val. Acc: 52.08%\n",
            "Epoch: 37 | Train Loss: 0.284 | Train Acc: 95.21%\n",
            "\t Val. Loss: 0.793 |  Val. Acc: 51.99%\n",
            "Epoch: 38 | Train Loss: 0.274 | Train Acc: 95.48%\n",
            "\t Val. Loss: 0.798 |  Val. Acc: 51.63%\n",
            "Epoch: 39 | Train Loss: 0.265 | Train Acc: 95.86%\n",
            "\t Val. Loss: 0.800 |  Val. Acc: 51.82%\n",
            "Epoch: 40 | Train Loss: 0.257 | Train Acc: 96.19%\n",
            "\t Val. Loss: 0.803 |  Val. Acc: 51.92%\n",
            "Epoch: 41 | Train Loss: 0.249 | Train Acc: 96.25%\n",
            "\t Val. Loss: 0.806 |  Val. Acc: 51.95%\n",
            "Epoch: 42 | Train Loss: 0.240 | Train Acc: 96.67%\n",
            "\t Val. Loss: 0.809 |  Val. Acc: 51.76%\n",
            "Epoch: 43 | Train Loss: 0.233 | Train Acc: 96.81%\n",
            "\t Val. Loss: 0.812 |  Val. Acc: 52.12%\n",
            "Epoch: 44 | Train Loss: 0.225 | Train Acc: 97.08%\n",
            "\t Val. Loss: 0.816 |  Val. Acc: 52.18%\n",
            "Epoch: 45 | Train Loss: 0.218 | Train Acc: 97.16%\n",
            "\t Val. Loss: 0.821 |  Val. Acc: 52.12%\n",
            "Epoch: 46 | Train Loss: 0.211 | Train Acc: 97.40%\n",
            "\t Val. Loss: 0.824 |  Val. Acc: 52.21%\n",
            "Epoch: 47 | Train Loss: 0.204 | Train Acc: 97.53%\n",
            "\t Val. Loss: 0.826 |  Val. Acc: 52.44%\n",
            "Epoch: 48 | Train Loss: 0.197 | Train Acc: 97.71%\n",
            "\t Val. Loss: 0.829 |  Val. Acc: 52.73%\n",
            "Epoch: 49 | Train Loss: 0.191 | Train Acc: 97.78%\n",
            "\t Val. Loss: 0.834 |  Val. Acc: 52.77%\n",
            "Epoch: 50 | Train Loss: 0.185 | Train Acc: 97.94%\n",
            "\t Val. Loss: 0.839 |  Val. Acc: 52.96%\n",
            "Epoch: 51 | Train Loss: 0.179 | Train Acc: 97.97%\n",
            "\t Val. Loss: 0.844 |  Val. Acc: 53.03%\n",
            "Epoch: 52 | Train Loss: 0.173 | Train Acc: 98.08%\n",
            "\t Val. Loss: 0.847 |  Val. Acc: 52.96%\n",
            "Epoch: 53 | Train Loss: 0.167 | Train Acc: 98.21%\n",
            "\t Val. Loss: 0.851 |  Val. Acc: 52.57%\n",
            "Epoch: 54 | Train Loss: 0.162 | Train Acc: 98.34%\n",
            "\t Val. Loss: 0.855 |  Val. Acc: 52.73%\n",
            "Epoch: 55 | Train Loss: 0.157 | Train Acc: 98.45%\n",
            "\t Val. Loss: 0.858 |  Val. Acc: 52.73%\n",
            "Epoch: 56 | Train Loss: 0.152 | Train Acc: 98.53%\n",
            "\t Val. Loss: 0.863 |  Val. Acc: 52.73%\n",
            "Epoch: 57 | Train Loss: 0.148 | Train Acc: 98.57%\n",
            "\t Val. Loss: 0.867 |  Val. Acc: 52.67%\n",
            "Epoch: 58 | Train Loss: 0.143 | Train Acc: 98.57%\n",
            "\t Val. Loss: 0.871 |  Val. Acc: 52.25%\n",
            "Epoch: 59 | Train Loss: 0.138 | Train Acc: 98.74%\n",
            "\t Val. Loss: 0.873 |  Val. Acc: 52.38%\n",
            "Epoch: 60 | Train Loss: 0.134 | Train Acc: 98.79%\n",
            "\t Val. Loss: 0.878 |  Val. Acc: 52.44%\n",
            "Epoch: 61 | Train Loss: 0.130 | Train Acc: 98.87%\n",
            "\t Val. Loss: 0.882 |  Val. Acc: 52.80%\n",
            "Epoch: 62 | Train Loss: 0.127 | Train Acc: 98.89%\n",
            "\t Val. Loss: 0.885 |  Val. Acc: 52.57%\n",
            "Epoch: 63 | Train Loss: 0.122 | Train Acc: 98.94%\n",
            "\t Val. Loss: 0.889 |  Val. Acc: 52.47%\n",
            "Epoch: 64 | Train Loss: 0.120 | Train Acc: 98.97%\n",
            "\t Val. Loss: 0.892 |  Val. Acc: 52.28%\n",
            "Epoch: 65 | Train Loss: 0.116 | Train Acc: 99.06%\n",
            "\t Val. Loss: 0.896 |  Val. Acc: 52.38%\n",
            "Epoch: 66 | Train Loss: 0.113 | Train Acc: 99.07%\n",
            "\t Val. Loss: 0.899 |  Val. Acc: 52.44%\n",
            "Epoch: 67 | Train Loss: 0.110 | Train Acc: 99.13%\n",
            "\t Val. Loss: 0.902 |  Val. Acc: 52.31%\n",
            "Epoch: 68 | Train Loss: 0.106 | Train Acc: 99.13%\n",
            "\t Val. Loss: 0.908 |  Val. Acc: 52.28%\n",
            "Epoch: 69 | Train Loss: 0.103 | Train Acc: 99.13%\n",
            "\t Val. Loss: 0.911 |  Val. Acc: 52.12%\n",
            "Epoch: 70 | Train Loss: 0.100 | Train Acc: 99.25%\n",
            "\t Val. Loss: 0.914 |  Val. Acc: 52.18%\n",
            "Epoch: 71 | Train Loss: 0.098 | Train Acc: 99.20%\n",
            "\t Val. Loss: 0.917 |  Val. Acc: 52.21%\n",
            "Epoch: 72 | Train Loss: 0.095 | Train Acc: 99.25%\n",
            "\t Val. Loss: 0.920 |  Val. Acc: 52.12%\n",
            "Epoch: 73 | Train Loss: 0.092 | Train Acc: 99.26%\n",
            "\t Val. Loss: 0.922 |  Val. Acc: 52.12%\n",
            "Epoch: 74 | Train Loss: 0.090 | Train Acc: 99.30%\n",
            "\t Val. Loss: 0.924 |  Val. Acc: 52.05%\n",
            "Epoch: 75 | Train Loss: 0.087 | Train Acc: 99.31%\n",
            "\t Val. Loss: 0.928 |  Val. Acc: 51.95%\n",
            "Epoch: 76 | Train Loss: 0.085 | Train Acc: 99.36%\n",
            "\t Val. Loss: 0.933 |  Val. Acc: 52.02%\n",
            "Epoch: 77 | Train Loss: 0.083 | Train Acc: 99.35%\n",
            "\t Val. Loss: 0.936 |  Val. Acc: 52.31%\n",
            "Epoch: 78 | Train Loss: 0.081 | Train Acc: 99.37%\n",
            "\t Val. Loss: 0.937 |  Val. Acc: 52.44%\n",
            "Epoch: 79 | Train Loss: 0.078 | Train Acc: 99.42%\n",
            "\t Val. Loss: 0.940 |  Val. Acc: 52.21%\n",
            "Epoch: 80 | Train Loss: 0.077 | Train Acc: 99.44%\n",
            "\t Val. Loss: 0.943 |  Val. Acc: 52.25%\n",
            "Epoch: 81 | Train Loss: 0.074 | Train Acc: 99.41%\n",
            "\t Val. Loss: 0.945 |  Val. Acc: 52.31%\n",
            "Epoch: 82 | Train Loss: 0.073 | Train Acc: 99.44%\n",
            "\t Val. Loss: 0.948 |  Val. Acc: 52.02%\n",
            "Epoch: 83 | Train Loss: 0.071 | Train Acc: 99.42%\n",
            "\t Val. Loss: 0.952 |  Val. Acc: 52.25%\n",
            "Epoch: 84 | Train Loss: 0.070 | Train Acc: 99.43%\n",
            "\t Val. Loss: 0.955 |  Val. Acc: 52.25%\n",
            "Epoch: 85 | Train Loss: 0.068 | Train Acc: 99.46%\n",
            "\t Val. Loss: 0.959 |  Val. Acc: 52.34%\n",
            "Epoch: 86 | Train Loss: 0.066 | Train Acc: 99.44%\n",
            "\t Val. Loss: 0.961 |  Val. Acc: 52.34%\n",
            "Epoch: 87 | Train Loss: 0.064 | Train Acc: 99.49%\n",
            "\t Val. Loss: 0.965 |  Val. Acc: 52.51%\n",
            "Epoch: 88 | Train Loss: 0.063 | Train Acc: 99.49%\n",
            "\t Val. Loss: 0.967 |  Val. Acc: 52.31%\n",
            "Epoch: 89 | Train Loss: 0.061 | Train Acc: 99.53%\n",
            "\t Val. Loss: 0.970 |  Val. Acc: 52.38%\n",
            "Epoch: 90 | Train Loss: 0.060 | Train Acc: 99.47%\n",
            "\t Val. Loss: 0.972 |  Val. Acc: 52.60%\n",
            "Epoch: 91 | Train Loss: 0.059 | Train Acc: 99.50%\n",
            "\t Val. Loss: 0.977 |  Val. Acc: 52.47%\n",
            "Epoch: 92 | Train Loss: 0.057 | Train Acc: 99.54%\n",
            "\t Val. Loss: 0.979 |  Val. Acc: 52.38%\n",
            "Epoch: 93 | Train Loss: 0.056 | Train Acc: 99.53%\n",
            "\t Val. Loss: 0.984 |  Val. Acc: 52.25%\n",
            "Epoch: 94 | Train Loss: 0.055 | Train Acc: 99.57%\n",
            "\t Val. Loss: 0.987 |  Val. Acc: 52.41%\n",
            "Epoch: 95 | Train Loss: 0.053 | Train Acc: 99.54%\n",
            "\t Val. Loss: 0.989 |  Val. Acc: 52.38%\n",
            "Epoch: 96 | Train Loss: 0.052 | Train Acc: 99.60%\n",
            "\t Val. Loss: 0.992 |  Val. Acc: 52.31%\n",
            "Epoch: 97 | Train Loss: 0.051 | Train Acc: 99.60%\n",
            "\t Val. Loss: 0.996 |  Val. Acc: 52.38%\n",
            "Epoch: 98 | Train Loss: 0.050 | Train Acc: 99.55%\n",
            "\t Val. Loss: 1.000 |  Val. Acc: 52.47%\n",
            "Epoch: 99 | Train Loss: 0.049 | Train Acc: 99.56%\n",
            "\t Val. Loss: 1.003 |  Val. Acc: 52.47%\n",
            "Epoch: 100 | Train Loss: 0.048 | Train Acc: 99.60%\n",
            "\t Val. Loss: 1.007 |  Val. Acc: 52.18%\n"
          ]
        }
      ]
    },
    {
      "cell_type": "code",
      "metadata": {
        "id": "sYoo5fXpHEG1",
        "colab": {
          "base_uri": "https://localhost:8080/",
          "height": 405
        },
        "outputId": "1cfe7ea2-f8f1-4e6d-c835-4337e6fe5cdf"
      },
      "source": [
        "import matplotlib.pyplot as plt\n",
        "fig = plt.figure(figsize=(10, 6))\n",
        "ax = fig.add_subplot(1, 1, 1)\n",
        "ax.plot(train_losses, label = 'train loss')\n",
        "ax.plot(valid_losses, label = 'valid loss')\n",
        "plt.legend()\n",
        "ax.set_xlabel('epoch')\n",
        "ax.set_ylabel('loss')"
      ],
      "execution_count": 115,
      "outputs": [
        {
          "output_type": "execute_result",
          "data": {
            "text/plain": [
              "Text(0, 0.5, 'loss')"
            ]
          },
          "metadata": {},
          "execution_count": 115
        },
        {
          "output_type": "display_data",
          "data": {
            "image/png": "[encoded data removed]",
            "text/plain": [
              "<Figure size 720x432 with 1 Axes>"
            ]
          },
          "metadata": {
            "needs_background": "light"
          }
        }
      ]
    },
    {
      "cell_type": "code",
      "metadata": {
        "id": "mOHzYQU2HO5v",
        "colab": {
          "base_uri": "https://localhost:8080/",
          "height": 405
        },
        "outputId": "ed194c7a-342a-46b7-e93d-d7dcb2e58d91"
      },
      "source": [
        "fig = plt.figure(figsize=(10, 6))\n",
        "ax = fig.add_subplot(1, 1, 1)\n",
        "ax.plot(train_accs, label = 'train acc')\n",
        "ax.plot(valid_accs, label = 'valid acc')\n",
        "plt.legend()\n",
        "ax.set_xlabel('epoch')\n",
        "ax.set_ylabel('acc')"
      ],
      "execution_count": 116,
      "outputs": [
        {
          "output_type": "execute_result",
          "data": {
            "text/plain": [
              "Text(0, 0.5, 'acc')"
            ]
          },
          "metadata": {},
          "execution_count": 116
        },
        {
          "output_type": "display_data",
          "data": {
            "image/png": "[encoded data removed]",
            "text/plain": [
              "<Figure size 720x432 with 1 Axes>"
            ]
          },
          "metadata": {
            "needs_background": "light"
          }
        }
      ]
    },
    {
      "cell_type": "code",
      "metadata": {
        "id": "VmAk-Nr-HQEU",
        "colab": {
          "base_uri": "https://localhost:8080/"
        },
        "outputId": "ca60c28a-1a34-46f4-dbff-f1c7a1d6573f"
      },
      "source": [
        "model.load_state_dict(torch.load('tensor.pt'))\n",
        "test_loss , test_acc = evaluate(model, test_loader, criterion)\n",
        "print(f'Test Loss: {test_loss:.3f} | Test Acc: {test_acc*100:.2f}%')"
      ],
      "execution_count": 117,
      "outputs": [
        {
          "output_type": "stream",
          "name": "stdout",
          "text": [
            "Test Loss: 0.707 | Test Acc: 50.86%\n"
          ]
        }
      ]
    },
    {
      "cell_type": "code",
      "metadata": {
        "id": "JNTmTU0lQ9nB"
      },
      "source": [
        ""
      ],
      "execution_count": 117,
      "outputs": []
    }
  ]
}