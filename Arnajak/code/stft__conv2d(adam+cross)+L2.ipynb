{
  "nbformat": 4,
  "nbformat_minor": 0,
  "metadata": {
    "colab": {
      "name": "stft->conv2d.ipynb",
      "provenance": [],
      "toc_visible": true
    },
    "kernelspec": {
      "name": "python3",
      "display_name": "Python 3"
    },
    "language_info": {
      "name": "python"
    }
  },
  "cells": [
    {
      "cell_type": "markdown",
      "metadata": {
        "id": "XUe0frhXlK6w"
      },
      "source": [
        "# STFT"
      ]
    },
    {
      "cell_type": "code",
      "metadata": {
        "colab": {
          "base_uri": "https://localhost:8080/"
        },
        "id": "lPAxwFVY2_fu",
        "outputId": "fe6d6c57-b8e9-4e24-e319-c518fba266fb"
      },
      "source": [
        "import torch, torchvision\n",
        "from torchvision import transforms\n",
        "from torch import nn\n",
        "import numpy as np\n",
        "import sys\n",
        "import os\n",
        "from glob import glob\n",
        "import pickle\n",
        "import pandas as pd\n",
        "import numpy as np\n",
        "from tqdm import tqdm\n",
        "import matplotlib.pyplot as plt\n",
        "import seaborn as sns\n",
        "from google.colab import drive\n",
        "drive.mount('/content/drive')"
      ],
      "execution_count": 1,
      "outputs": [
        {
          "output_type": "stream",
          "name": "stdout",
          "text": [
            "Drive already mounted at /content/drive; to attempt to forcibly remount, call drive.mount(\"/content/drive\", force_remount=True).\n"
          ]
        }
      ]
    },
    {
      "cell_type": "code",
      "metadata": {
        "id": "ikufrBhY22Jt"
      },
      "source": [
        "stft_data = np.load('/content/drive/MyDrive/EEG/DEAP/stft_data.npy')\n",
        "targets = np.load('/content/drive/MyDrive/EEG/DEAP/targets.npy')"
      ],
      "execution_count": 2,
      "outputs": []
    },
    {
      "cell_type": "code",
      "metadata": {
        "colab": {
          "base_uri": "https://localhost:8080/"
        },
        "id": "l_sc2Wzy3q4f",
        "outputId": "df8cbcf3-73ef-4202-da5b-8ce87ef231b0"
      },
      "source": [
        "valence = []\n",
        "mean_valence = np.mean(targets[:,0])\n",
        "for i in range(targets.shape[0]):\n",
        "  if targets[i,0] < mean_valence :\n",
        "    valence.append(0)\n",
        "  else :\n",
        "    valence.append(1)\n",
        "valence = np.array(valence)\n",
        "valence.shape"
      ],
      "execution_count": 3,
      "outputs": [
        {
          "output_type": "execute_result",
          "data": {
            "text/plain": [
              "(1280,)"
            ]
          },
          "metadata": {},
          "execution_count": 3
        }
      ]
    },
    {
      "cell_type": "code",
      "metadata": {
        "colab": {
          "base_uri": "https://localhost:8080/"
        },
        "id": "feCcyLf0-292",
        "outputId": "095ce9ff-2461-4a9f-f658-df3b0be457c0"
      },
      "source": [
        "valence.shape"
      ],
      "execution_count": 64,
      "outputs": [
        {
          "output_type": "execute_result",
          "data": {
            "text/plain": [
              "(1280,)"
            ]
          },
          "metadata": {},
          "execution_count": 64
        }
      ]
    },
    {
      "cell_type": "code",
      "metadata": {
        "colab": {
          "base_uri": "https://localhost:8080/"
        },
        "id": "qZ9TMrXu4maG",
        "outputId": "4eedbe79-dfdf-462f-d3e6-0a215cdb7926"
      },
      "source": [
        "#from tensorflow.keras.utils import to_categorical\n",
        "#valence = to_categorical(valence)\n",
        "#valence.shape"
      ],
      "execution_count": 25,
      "outputs": [
        {
          "output_type": "execute_result",
          "data": {
            "text/plain": [
              "(1280, 2)"
            ]
          },
          "metadata": {},
          "execution_count": 25
        }
      ]
    },
    {
      "cell_type": "code",
      "metadata": {
        "id": "7jZMK7KV3Xlx"
      },
      "source": [
        "x_train = stft_data[:896]\n",
        "x_val =  stft_data[896:896+128]\n",
        "x_test = stft_data[896+128:]\n",
        "\n",
        "y_train = valence[:896]\n",
        "y_val = valence[896:896+128]\n",
        "y_test = valence[896+128:]"
      ],
      "execution_count": 4,
      "outputs": []
    },
    {
      "cell_type": "markdown",
      "metadata": {
        "id": "AgRRPDJ5lf36"
      },
      "source": [
        "# DataLoader "
      ]
    },
    {
      "cell_type": "code",
      "metadata": {
        "id": "UsPeU6ZojcK1"
      },
      "source": [
        "from torch.utils.data import DataLoader\n",
        "from torch.utils.data import TensorDataset\n",
        "\n",
        "batch_size = 50\n",
        "def dataload(X, y):\n",
        "    X_tensor = torch.tensor(X).float()\n",
        "    y_tensor = torch.tensor(y)\n",
        "    dataset_tensor = TensorDataset(X_tensor, y_tensor)\n",
        "    return dataset_tensor\n",
        "    #return DataLoader(dataset_tensor, batch_size=batch_size, shuffle=True)\n",
        "\n",
        "train_loader = DataLoader(dataload(x_train, y_train), batch_size=batch_size, shuffle=True)\n",
        "\n",
        "valid_loader = DataLoader(dataload(x_val, y_val), batch_size=batch_size, shuffle=False)\n",
        "\n",
        "test_loader = DataLoader(dataload(x_test, y_test), batch_size=batch_size, shuffle=False)"
      ],
      "execution_count": 75,
      "outputs": []
    },
    {
      "cell_type": "markdown",
      "metadata": {
        "id": "WKt7RHMeUEaU"
      },
      "source": [
        "# Conv2d model"
      ]
    },
    {
      "cell_type": "code",
      "metadata": {
        "id": "2CPRPr8ft9Ub"
      },
      "source": [
        "num_epochs = 200\n",
        "num_classes = 2\n",
        "learning_rate = 0.0001"
      ],
      "execution_count": 130,
      "outputs": []
    },
    {
      "cell_type": "code",
      "metadata": {
        "id": "UpLJT_DENtxy"
      },
      "source": [
        "class ConvNet(nn.Module):\n",
        "    def __init__(self, num_classes=num_classes):\n",
        "        super(ConvNet, self).__init__()\n",
        "        \n",
        "\n",
        "        #stft_data.shape[1] = number of channel\n",
        "        self.layer1 = nn.Sequential(\n",
        "            nn.Conv2d(stft_data.shape[1], 32, kernel_size=5, stride=1, padding=2), \n",
        "            nn.BatchNorm2d(32),\n",
        "            nn.ELU(),\n",
        "            nn.MaxPool2d(kernel_size=2, stride=2))\n",
        "        self.layer2 = nn.Sequential(\n",
        "            nn.Conv2d(32, 64, kernel_size=5, stride=1, padding=2),\n",
        "            nn.BatchNorm2d(64),\n",
        "            nn.ELU(),\n",
        "            nn.MaxPool2d(kernel_size=2, stride=2))\n",
        "        self.layer3 = nn.Sequential(\n",
        "            nn.Conv2d(64, 128, kernel_size=5, stride=1, padding=2),\n",
        "            nn.BatchNorm2d(128),\n",
        "            nn.ELU(),\n",
        "            nn.MaxPool2d(kernel_size=2, stride=2))\n",
        "        \n",
        "        \"\"\"self.fc = nn.Sequential(nn.Linear(128*16*7,512),nn.ReLU(),nn.Dropout(0.1),\n",
        "                               nn.Linear(512,250),nn.ReLU(),nn.Dropout(0.1),\n",
        "                               nn.Linear(250,125),nn.ReLU(),nn.Dropout(0.1),\n",
        "                               nn.Linear(125,50),nn.ReLU(),nn.Dropout(0.1),\n",
        "                               nn.Linear(50,num_classes),nn.Dropout(0.1))\"\"\"\n",
        "        \n",
        "        self.fc = nn.Sequential(nn.Linear(128*16*7,256),nn.ELU(),nn.Dropout(0.1),\n",
        "                               nn.Linear(256,num_classes),nn.Dropout(0.1))\n",
        "        self.drop_out = nn.Dropout(p=0.1)\n",
        "        #self.softmax = nn.LogSoftmax(dim=1)\n",
        "        \n",
        "    def forward(self, x):\n",
        "        out = self.layer1(x)\n",
        "        out = self.drop_out(out)\n",
        "        out = self.layer2(out)\n",
        "        out = self.drop_out(out)\n",
        "        out = self.layer3(out)\n",
        "        out = self.drop_out(out)\n",
        "        out = out.reshape(out.size(0), -1)   #can also use .view()\n",
        "        out = self.fc(out)\n",
        "        #out = self.softmax(out)\n",
        "        return out"
      ],
      "execution_count": 131,
      "outputs": []
    },
    {
      "cell_type": "code",
      "metadata": {
        "id": "lId1oNleHBFf"
      },
      "source": [
        "#explicitly initialize weights for better learning\n",
        "def initialize_weights(m):\n",
        "    if isinstance(m, nn.Linear):\n",
        "        nn.init.xavier_normal_(m.weight)\n",
        "        nn.init.zeros_(m.bias)\n",
        "    elif isinstance(m, (nn.Conv2d, nn.Conv2d)):\n",
        "        for name, param in m.named_parameters():\n",
        "            if 'bias' in name:\n",
        "                nn.init.zeros_(param)\n",
        "            elif 'weight' in name:\n",
        "                nn.init.kaiming_normal_(param) #<---here"
      ],
      "execution_count": 132,
      "outputs": []
    },
    {
      "cell_type": "code",
      "metadata": {
        "id": "aqsduyBVOMM5",
        "colab": {
          "base_uri": "https://localhost:8080/"
        },
        "outputId": "01b8b7b3-69d1-48df-a1bb-84b8ea0bfc54"
      },
      "source": [
        "model = ConvNet(num_classes).float()\n",
        "model.apply(initialize_weights)"
      ],
      "execution_count": 133,
      "outputs": [
        {
          "output_type": "execute_result",
          "data": {
            "text/plain": [
              "ConvNet(\n",
              "  (layer1): Sequential(\n",
              "    (0): Conv2d(32, 32, kernel_size=(5, 5), stride=(1, 1), padding=(2, 2))\n",
              "    (1): BatchNorm2d(32, eps=1e-05, momentum=0.1, affine=True, track_running_stats=True)\n",
              "    (2): ELU(alpha=1.0)\n",
              "    (3): MaxPool2d(kernel_size=2, stride=2, padding=0, dilation=1, ceil_mode=False)\n",
              "  )\n",
              "  (layer2): Sequential(\n",
              "    (0): Conv2d(32, 64, kernel_size=(5, 5), stride=(1, 1), padding=(2, 2))\n",
              "    (1): BatchNorm2d(64, eps=1e-05, momentum=0.1, affine=True, track_running_stats=True)\n",
              "    (2): ELU(alpha=1.0)\n",
              "    (3): MaxPool2d(kernel_size=2, stride=2, padding=0, dilation=1, ceil_mode=False)\n",
              "  )\n",
              "  (layer3): Sequential(\n",
              "    (0): Conv2d(64, 128, kernel_size=(5, 5), stride=(1, 1), padding=(2, 2))\n",
              "    (1): BatchNorm2d(128, eps=1e-05, momentum=0.1, affine=True, track_running_stats=True)\n",
              "    (2): ELU(alpha=1.0)\n",
              "    (3): MaxPool2d(kernel_size=2, stride=2, padding=0, dilation=1, ceil_mode=False)\n",
              "  )\n",
              "  (fc): Sequential(\n",
              "    (0): Linear(in_features=14336, out_features=256, bias=True)\n",
              "    (1): ELU(alpha=1.0)\n",
              "    (2): Dropout(p=0.1, inplace=False)\n",
              "    (3): Linear(in_features=256, out_features=2, bias=True)\n",
              "    (4): Dropout(p=0.1, inplace=False)\n",
              "  )\n",
              "  (drop_out): Dropout(p=0.1, inplace=False)\n",
              ")"
            ]
          },
          "metadata": {},
          "execution_count": 133
        }
      ]
    },
    {
      "cell_type": "code",
      "metadata": {
        "id": "oSERVa66OOB6"
      },
      "source": [
        "# Loss and optimizer\n",
        "criterion = nn.CrossEntropyLoss()\n",
        "#criterion = nn.BCEWithLogitsLoss()\n",
        "optimizer = torch.optim.Adam(model.parameters(), lr=learning_rate,weight_decay=1e-5)"
      ],
      "execution_count": 134,
      "outputs": []
    },
    {
      "cell_type": "markdown",
      "metadata": {
        "id": "QmtQFB67HCoR"
      },
      "source": [
        "# Train Test "
      ]
    },
    {
      "cell_type": "code",
      "metadata": {
        "id": "kI7GHuLLIdyz"
      },
      "source": [
        "def binary_accuracy(preds, y):\n",
        "    \"\"\"\n",
        "    Returns accuracy per batch, i.e. if you get 8/10 right, this returns 0.8, NOT 8\n",
        "    \"\"\"\n",
        "    #round predictions to the closest integer\n",
        "    rounded_preds = torch.round(torch.sigmoid(preds))\n",
        "    correct = (rounded_preds == y).float() #convert into float for division \n",
        "    acc = correct.sum() / len(correct)\n",
        "    return acc"
      ],
      "execution_count": 135,
      "outputs": []
    },
    {
      "cell_type": "code",
      "metadata": {
        "id": "H_ZVkAzNId1V"
      },
      "source": [
        "def cnn_acc(preds,y):\n",
        "    _, predicted = torch.max(preds.data, 1)\n",
        "    correct = (predicted == y).sum()\n",
        "    acc = correct / y.size(0)\n",
        "    return acc"
      ],
      "execution_count": 136,
      "outputs": []
    },
    {
      "cell_type": "code",
      "metadata": {
        "id": "r76aiXrnId3k"
      },
      "source": [
        "def train(model, loader, optimizer, criterion):\n",
        "    epoch_loss = 0\n",
        "    epoch_acc = 0\n",
        "    model.train() #useful for batchnorm and dropout\n",
        "    for i, (features, label) in enumerate(loader): \n",
        "                \n",
        "        #predict\n",
        "        predictions = model(features)\n",
        "        #calculate loss\n",
        "        loss = criterion(predictions, label)\n",
        "        l2_lambda = 0.001\n",
        "        l2_norm = sum(p.pow(2.0).sum() for p in model.parameters())\n",
        "        loss = loss + l2_lambda * l2_norm\n",
        "        acc = cnn_acc(predictions, label)\n",
        "        \n",
        "        #backprop\n",
        "        optimizer.zero_grad()\n",
        "        loss.backward()\n",
        "        optimizer.step()\n",
        "        \n",
        "        epoch_loss += loss.item()\n",
        "        epoch_acc += acc.item()\n",
        "                \n",
        "    return epoch_loss / len(loader), epoch_acc / len(loader)"
      ],
      "execution_count": 137,
      "outputs": []
    },
    {
      "cell_type": "code",
      "metadata": {
        "id": "Bqj2y7T-Id5d"
      },
      "source": [
        "def evaluate(model, loader, criterion):\n",
        "    epoch_loss = 0\n",
        "    epoch_acc = 0\n",
        "    model.eval()\n",
        "    \n",
        "    with torch.no_grad():\n",
        "        for i, (features, label) in enumerate(loader): \n",
        "\n",
        "\n",
        "            predictions = model(features)\n",
        "            \n",
        "            loss = criterion(predictions, label)\n",
        "            acc = cnn_acc(predictions, label)\n",
        "\n",
        "            epoch_loss += loss.item()\n",
        "            epoch_acc += acc.item()\n",
        "        \n",
        "    return epoch_loss / len(loader), epoch_acc / len(loader)"
      ],
      "execution_count": 138,
      "outputs": []
    },
    {
      "cell_type": "code",
      "metadata": {
        "colab": {
          "base_uri": "https://localhost:8080/"
        },
        "id": "EzIfXUOtId7p",
        "outputId": "fea671b5-4de0-41aa-c8a4-f8e115256686"
      },
      "source": [
        "best_valid_loss = float('inf')\n",
        "\n",
        "train_losses = []\n",
        "train_accs = []\n",
        "valid_losses = []\n",
        "valid_accs = []\n",
        "for epoch in range(num_epochs):\n",
        "\n",
        "    train_loss,train_acc = train(model, train_loader, optimizer, criterion)\n",
        "    valid_loss,valid_acc = evaluate(model, valid_loader, criterion)\n",
        "    \n",
        "    #for plotting\n",
        "    train_losses.append(train_loss)\n",
        "    train_accs.append(train_acc)\n",
        "    valid_losses.append(valid_loss)\n",
        "    valid_accs.append(valid_acc)\n",
        "    \n",
        "    if valid_loss < best_valid_loss:\n",
        "        best_valid_loss = valid_loss\n",
        "        torch.save(model.state_dict(),'tensor.pt')\n",
        "    \n",
        "    print(f'Epoch: {epoch+1:02} | Train Loss: {train_loss:.3f} | Train Acc: {train_acc*100:.2f}%')\n",
        "    print(f'\\t Val. Loss: {valid_loss:.3f} |  Val. Acc: {valid_acc*100:.2f}%')"
      ],
      "execution_count": 139,
      "outputs": [
        {
          "output_type": "stream",
          "name": "stdout",
          "text": [
            "Epoch: 01 | Train Loss: 3.404 | Train Acc: 53.82%\n",
            "\t Val. Loss: 1.209 |  Val. Acc: 51.00%\n",
            "Epoch: 02 | Train Loss: 2.081 | Train Acc: 55.95%\n",
            "\t Val. Loss: 0.713 |  Val. Acc: 51.90%\n",
            "Epoch: 03 | Train Loss: 1.981 | Train Acc: 55.03%\n",
            "\t Val. Loss: 0.730 |  Val. Acc: 52.86%\n",
            "Epoch: 04 | Train Loss: 1.977 | Train Acc: 52.28%\n",
            "\t Val. Loss: 0.708 |  Val. Acc: 49.10%\n",
            "Epoch: 05 | Train Loss: 1.923 | Train Acc: 55.24%\n",
            "\t Val. Loss: 0.764 |  Val. Acc: 46.29%\n",
            "Epoch: 06 | Train Loss: 1.889 | Train Acc: 58.35%\n",
            "\t Val. Loss: 0.768 |  Val. Acc: 48.71%\n",
            "Epoch: 07 | Train Loss: 1.849 | Train Acc: 62.17%\n",
            "\t Val. Loss: 0.751 |  Val. Acc: 51.52%\n",
            "Epoch: 08 | Train Loss: 1.823 | Train Acc: 60.68%\n",
            "\t Val. Loss: 0.782 |  Val. Acc: 46.86%\n",
            "Epoch: 09 | Train Loss: 1.850 | Train Acc: 60.15%\n",
            "\t Val. Loss: 0.838 |  Val. Acc: 51.43%\n",
            "Epoch: 10 | Train Loss: 1.794 | Train Acc: 64.19%\n",
            "\t Val. Loss: 0.853 |  Val. Acc: 44.43%\n",
            "Epoch: 11 | Train Loss: 1.799 | Train Acc: 61.25%\n",
            "\t Val. Loss: 0.805 |  Val. Acc: 46.33%\n",
            "Epoch: 12 | Train Loss: 1.758 | Train Acc: 64.61%\n",
            "\t Val. Loss: 0.938 |  Val. Acc: 48.67%\n",
            "Epoch: 13 | Train Loss: 1.761 | Train Acc: 67.57%\n",
            "\t Val. Loss: 0.858 |  Val. Acc: 40.86%\n",
            "Epoch: 14 | Train Loss: 1.740 | Train Acc: 67.17%\n",
            "\t Val. Loss: 0.849 |  Val. Acc: 44.86%\n",
            "Epoch: 15 | Train Loss: 1.731 | Train Acc: 66.72%\n",
            "\t Val. Loss: 1.149 |  Val. Acc: 51.14%\n",
            "Epoch: 16 | Train Loss: 1.702 | Train Acc: 67.27%\n",
            "\t Val. Loss: 1.123 |  Val. Acc: 46.24%\n",
            "Epoch: 17 | Train Loss: 1.662 | Train Acc: 71.34%\n",
            "\t Val. Loss: 1.006 |  Val. Acc: 47.71%\n",
            "Epoch: 18 | Train Loss: 1.642 | Train Acc: 74.33%\n",
            "\t Val. Loss: 0.844 |  Val. Acc: 48.14%\n",
            "Epoch: 19 | Train Loss: 1.600 | Train Acc: 75.38%\n",
            "\t Val. Loss: 0.950 |  Val. Acc: 47.38%\n",
            "Epoch: 20 | Train Loss: 1.593 | Train Acc: 76.37%\n",
            "\t Val. Loss: 0.828 |  Val. Acc: 48.71%\n",
            "Epoch: 21 | Train Loss: 1.568 | Train Acc: 78.78%\n",
            "\t Val. Loss: 1.030 |  Val. Acc: 43.10%\n",
            "Epoch: 22 | Train Loss: 1.537 | Train Acc: 80.56%\n",
            "\t Val. Loss: 1.263 |  Val. Acc: 47.86%\n",
            "Epoch: 23 | Train Loss: 1.536 | Train Acc: 81.71%\n",
            "\t Val. Loss: 1.010 |  Val. Acc: 48.71%\n",
            "Epoch: 24 | Train Loss: 1.506 | Train Acc: 80.01%\n",
            "\t Val. Loss: 1.317 |  Val. Acc: 49.29%\n",
            "Epoch: 25 | Train Loss: 1.592 | Train Acc: 75.22%\n",
            "\t Val. Loss: 1.018 |  Val. Acc: 52.57%\n",
            "Epoch: 26 | Train Loss: 1.527 | Train Acc: 79.88%\n",
            "\t Val. Loss: 1.413 |  Val. Acc: 46.38%\n",
            "Epoch: 27 | Train Loss: 1.461 | Train Acc: 83.50%\n",
            "\t Val. Loss: 1.298 |  Val. Acc: 48.14%\n",
            "Epoch: 28 | Train Loss: 1.400 | Train Acc: 87.60%\n",
            "\t Val. Loss: 1.089 |  Val. Acc: 49.76%\n",
            "Epoch: 29 | Train Loss: 1.412 | Train Acc: 85.37%\n",
            "\t Val. Loss: 1.267 |  Val. Acc: 48.90%\n",
            "Epoch: 30 | Train Loss: 1.443 | Train Acc: 83.51%\n",
            "\t Val. Loss: 1.062 |  Val. Acc: 48.14%\n",
            "Epoch: 31 | Train Loss: 1.387 | Train Acc: 89.06%\n",
            "\t Val. Loss: 1.170 |  Val. Acc: 50.71%\n",
            "Epoch: 32 | Train Loss: 1.359 | Train Acc: 88.16%\n",
            "\t Val. Loss: 1.237 |  Val. Acc: 41.24%\n",
            "Epoch: 33 | Train Loss: 1.296 | Train Acc: 92.19%\n",
            "\t Val. Loss: 1.199 |  Val. Acc: 46.95%\n",
            "Epoch: 34 | Train Loss: 1.282 | Train Acc: 93.30%\n",
            "\t Val. Loss: 1.235 |  Val. Acc: 52.05%\n",
            "Epoch: 35 | Train Loss: 1.329 | Train Acc: 88.73%\n",
            "\t Val. Loss: 1.687 |  Val. Acc: 48.90%\n",
            "Epoch: 36 | Train Loss: 1.286 | Train Acc: 91.41%\n",
            "\t Val. Loss: 1.245 |  Val. Acc: 47.90%\n",
            "Epoch: 37 | Train Loss: 1.312 | Train Acc: 89.39%\n",
            "\t Val. Loss: 1.277 |  Val. Acc: 50.71%\n",
            "Epoch: 38 | Train Loss: 1.301 | Train Acc: 90.52%\n",
            "\t Val. Loss: 1.211 |  Val. Acc: 51.24%\n",
            "Epoch: 39 | Train Loss: 1.231 | Train Acc: 93.53%\n",
            "\t Val. Loss: 1.139 |  Val. Acc: 52.14%\n",
            "Epoch: 40 | Train Loss: 1.220 | Train Acc: 93.88%\n",
            "\t Val. Loss: 1.325 |  Val. Acc: 48.29%\n",
            "Epoch: 41 | Train Loss: 1.230 | Train Acc: 94.20%\n",
            "\t Val. Loss: 1.455 |  Val. Acc: 45.48%\n",
            "Epoch: 42 | Train Loss: 1.189 | Train Acc: 95.76%\n",
            "\t Val. Loss: 1.391 |  Val. Acc: 50.14%\n",
            "Epoch: 43 | Train Loss: 1.208 | Train Acc: 95.22%\n",
            "\t Val. Loss: 1.687 |  Val. Acc: 43.62%\n",
            "Epoch: 44 | Train Loss: 1.241 | Train Acc: 92.09%\n",
            "\t Val. Loss: 1.253 |  Val. Acc: 49.00%\n",
            "Epoch: 45 | Train Loss: 1.346 | Train Acc: 85.48%\n",
            "\t Val. Loss: 1.307 |  Val. Acc: 53.10%\n",
            "Epoch: 46 | Train Loss: 1.224 | Train Acc: 92.53%\n",
            "\t Val. Loss: 1.244 |  Val. Acc: 51.76%\n",
            "Epoch: 47 | Train Loss: 1.174 | Train Acc: 95.50%\n",
            "\t Val. Loss: 1.386 |  Val. Acc: 49.33%\n",
            "Epoch: 48 | Train Loss: 1.163 | Train Acc: 96.43%\n",
            "\t Val. Loss: 1.444 |  Val. Acc: 49.90%\n",
            "Epoch: 49 | Train Loss: 1.149 | Train Acc: 95.86%\n",
            "\t Val. Loss: 1.552 |  Val. Acc: 47.76%\n",
            "Epoch: 50 | Train Loss: 1.139 | Train Acc: 96.53%\n",
            "\t Val. Loss: 1.509 |  Val. Acc: 45.76%\n",
            "Epoch: 51 | Train Loss: 1.138 | Train Acc: 96.08%\n",
            "\t Val. Loss: 1.680 |  Val. Acc: 48.95%\n",
            "Epoch: 52 | Train Loss: 1.129 | Train Acc: 96.43%\n",
            "\t Val. Loss: 1.663 |  Val. Acc: 48.14%\n",
            "Epoch: 53 | Train Loss: 1.118 | Train Acc: 95.86%\n",
            "\t Val. Loss: 1.794 |  Val. Acc: 44.43%\n",
            "Epoch: 54 | Train Loss: 1.103 | Train Acc: 97.65%\n",
            "\t Val. Loss: 1.589 |  Val. Acc: 48.29%\n",
            "Epoch: 55 | Train Loss: 1.102 | Train Acc: 96.33%\n",
            "\t Val. Loss: 1.727 |  Val. Acc: 53.76%\n",
            "Epoch: 56 | Train Loss: 1.120 | Train Acc: 96.21%\n",
            "\t Val. Loss: 1.743 |  Val. Acc: 49.24%\n",
            "Epoch: 57 | Train Loss: 1.086 | Train Acc: 97.21%\n",
            "\t Val. Loss: 1.616 |  Val. Acc: 46.14%\n",
            "Epoch: 58 | Train Loss: 1.077 | Train Acc: 97.89%\n",
            "\t Val. Loss: 1.460 |  Val. Acc: 51.76%\n",
            "Epoch: 59 | Train Loss: 1.086 | Train Acc: 97.21%\n",
            "\t Val. Loss: 1.646 |  Val. Acc: 51.24%\n",
            "Epoch: 60 | Train Loss: 1.102 | Train Acc: 96.29%\n",
            "\t Val. Loss: 1.736 |  Val. Acc: 49.90%\n",
            "Epoch: 61 | Train Loss: 1.077 | Train Acc: 96.88%\n",
            "\t Val. Loss: 1.621 |  Val. Acc: 45.24%\n",
            "Epoch: 62 | Train Loss: 1.070 | Train Acc: 97.56%\n",
            "\t Val. Loss: 1.822 |  Val. Acc: 46.95%\n",
            "Epoch: 63 | Train Loss: 1.066 | Train Acc: 97.76%\n",
            "\t Val. Loss: 1.588 |  Val. Acc: 51.33%\n",
            "Epoch: 64 | Train Loss: 1.078 | Train Acc: 96.99%\n",
            "\t Val. Loss: 2.648 |  Val. Acc: 48.76%\n",
            "Epoch: 65 | Train Loss: 1.100 | Train Acc: 95.10%\n",
            "\t Val. Loss: 1.931 |  Val. Acc: 44.81%\n",
            "Epoch: 66 | Train Loss: 1.098 | Train Acc: 96.20%\n",
            "\t Val. Loss: 1.827 |  Val. Acc: 46.43%\n",
            "Epoch: 67 | Train Loss: 1.053 | Train Acc: 97.65%\n",
            "\t Val. Loss: 1.741 |  Val. Acc: 44.29%\n",
            "Epoch: 68 | Train Loss: 1.049 | Train Acc: 98.88%\n",
            "\t Val. Loss: 2.139 |  Val. Acc: 47.86%\n",
            "Epoch: 69 | Train Loss: 1.059 | Train Acc: 97.43%\n",
            "\t Val. Loss: 1.738 |  Val. Acc: 48.57%\n",
            "Epoch: 70 | Train Loss: 1.037 | Train Acc: 98.22%\n",
            "\t Val. Loss: 1.962 |  Val. Acc: 48.90%\n",
            "Epoch: 71 | Train Loss: 1.036 | Train Acc: 98.33%\n",
            "\t Val. Loss: 1.840 |  Val. Acc: 51.76%\n",
            "Epoch: 72 | Train Loss: 1.036 | Train Acc: 97.78%\n",
            "\t Val. Loss: 1.668 |  Val. Acc: 48.29%\n",
            "Epoch: 73 | Train Loss: 1.020 | Train Acc: 97.99%\n",
            "\t Val. Loss: 1.608 |  Val. Acc: 48.43%\n",
            "Epoch: 74 | Train Loss: 1.021 | Train Acc: 98.32%\n",
            "\t Val. Loss: 2.016 |  Val. Acc: 48.14%\n",
            "Epoch: 75 | Train Loss: 1.024 | Train Acc: 98.41%\n",
            "\t Val. Loss: 1.991 |  Val. Acc: 49.24%\n",
            "Epoch: 76 | Train Loss: 1.022 | Train Acc: 98.44%\n",
            "\t Val. Loss: 1.706 |  Val. Acc: 51.19%\n",
            "Epoch: 77 | Train Loss: 1.012 | Train Acc: 98.43%\n",
            "\t Val. Loss: 1.846 |  Val. Acc: 46.29%\n",
            "Epoch: 78 | Train Loss: 1.004 | Train Acc: 98.10%\n",
            "\t Val. Loss: 2.056 |  Val. Acc: 45.62%\n",
            "Epoch: 79 | Train Loss: 1.030 | Train Acc: 97.89%\n",
            "\t Val. Loss: 1.560 |  Val. Acc: 51.19%\n",
            "Epoch: 80 | Train Loss: 0.994 | Train Acc: 99.33%\n",
            "\t Val. Loss: 1.963 |  Val. Acc: 47.33%\n",
            "Epoch: 81 | Train Loss: 1.003 | Train Acc: 98.67%\n",
            "\t Val. Loss: 1.705 |  Val. Acc: 51.33%\n",
            "Epoch: 82 | Train Loss: 0.992 | Train Acc: 98.67%\n",
            "\t Val. Loss: 2.230 |  Val. Acc: 47.33%\n",
            "Epoch: 83 | Train Loss: 0.983 | Train Acc: 98.43%\n",
            "\t Val. Loss: 1.966 |  Val. Acc: 49.48%\n",
            "Epoch: 84 | Train Loss: 0.985 | Train Acc: 98.20%\n",
            "\t Val. Loss: 2.117 |  Val. Acc: 50.81%\n",
            "Epoch: 85 | Train Loss: 0.989 | Train Acc: 98.43%\n",
            "\t Val. Loss: 2.969 |  Val. Acc: 49.57%\n",
            "Epoch: 86 | Train Loss: 0.989 | Train Acc: 99.00%\n",
            "\t Val. Loss: 2.555 |  Val. Acc: 48.00%\n",
            "Epoch: 87 | Train Loss: 0.984 | Train Acc: 98.54%\n",
            "\t Val. Loss: 2.105 |  Val. Acc: 49.48%\n",
            "Epoch: 88 | Train Loss: 0.984 | Train Acc: 98.32%\n",
            "\t Val. Loss: 1.951 |  Val. Acc: 47.48%\n",
            "Epoch: 89 | Train Loss: 0.968 | Train Acc: 98.99%\n",
            "\t Val. Loss: 1.954 |  Val. Acc: 48.81%\n",
            "Epoch: 90 | Train Loss: 0.990 | Train Acc: 97.99%\n",
            "\t Val. Loss: 3.109 |  Val. Acc: 46.52%\n",
            "Epoch: 91 | Train Loss: 0.998 | Train Acc: 96.97%\n",
            "\t Val. Loss: 2.254 |  Val. Acc: 43.38%\n",
            "Epoch: 92 | Train Loss: 0.987 | Train Acc: 97.66%\n",
            "\t Val. Loss: 1.988 |  Val. Acc: 45.90%\n",
            "Epoch: 93 | Train Loss: 0.997 | Train Acc: 96.99%\n",
            "\t Val. Loss: 2.249 |  Val. Acc: 49.19%\n",
            "Epoch: 94 | Train Loss: 0.983 | Train Acc: 97.33%\n",
            "\t Val. Loss: 1.904 |  Val. Acc: 51.86%\n",
            "Epoch: 95 | Train Loss: 0.955 | Train Acc: 98.89%\n",
            "\t Val. Loss: 1.933 |  Val. Acc: 45.10%\n",
            "Epoch: 96 | Train Loss: 0.952 | Train Acc: 98.78%\n",
            "\t Val. Loss: 2.320 |  Val. Acc: 46.29%\n",
            "Epoch: 97 | Train Loss: 0.965 | Train Acc: 98.55%\n",
            "\t Val. Loss: 2.126 |  Val. Acc: 47.62%\n",
            "Epoch: 98 | Train Loss: 0.967 | Train Acc: 98.77%\n",
            "\t Val. Loss: 2.623 |  Val. Acc: 44.81%\n",
            "Epoch: 99 | Train Loss: 0.988 | Train Acc: 96.87%\n",
            "\t Val. Loss: 2.047 |  Val. Acc: 46.81%\n",
            "Epoch: 100 | Train Loss: 0.955 | Train Acc: 98.11%\n",
            "\t Val. Loss: 2.159 |  Val. Acc: 51.05%\n",
            "Epoch: 101 | Train Loss: 0.936 | Train Acc: 98.89%\n",
            "\t Val. Loss: 1.787 |  Val. Acc: 52.14%\n",
            "Epoch: 102 | Train Loss: 0.934 | Train Acc: 99.22%\n",
            "\t Val. Loss: 2.081 |  Val. Acc: 50.67%\n",
            "Epoch: 103 | Train Loss: 0.929 | Train Acc: 98.78%\n",
            "\t Val. Loss: 2.178 |  Val. Acc: 48.14%\n",
            "Epoch: 104 | Train Loss: 0.931 | Train Acc: 98.56%\n",
            "\t Val. Loss: 2.233 |  Val. Acc: 46.00%\n",
            "Epoch: 105 | Train Loss: 0.917 | Train Acc: 99.33%\n",
            "\t Val. Loss: 2.186 |  Val. Acc: 48.29%\n",
            "Epoch: 106 | Train Loss: 0.915 | Train Acc: 99.56%\n",
            "\t Val. Loss: 2.279 |  Val. Acc: 51.33%\n",
            "Epoch: 107 | Train Loss: 0.918 | Train Acc: 99.11%\n",
            "\t Val. Loss: 3.114 |  Val. Acc: 50.24%\n",
            "Epoch: 108 | Train Loss: 0.921 | Train Acc: 98.56%\n",
            "\t Val. Loss: 2.334 |  Val. Acc: 45.62%\n",
            "Epoch: 109 | Train Loss: 0.924 | Train Acc: 98.31%\n",
            "\t Val. Loss: 1.864 |  Val. Acc: 48.81%\n",
            "Epoch: 110 | Train Loss: 0.914 | Train Acc: 99.11%\n",
            "\t Val. Loss: 2.166 |  Val. Acc: 48.81%\n",
            "Epoch: 111 | Train Loss: 0.900 | Train Acc: 99.56%\n",
            "\t Val. Loss: 2.000 |  Val. Acc: 53.33%\n",
            "Epoch: 112 | Train Loss: 0.908 | Train Acc: 98.88%\n",
            "\t Val. Loss: 2.151 |  Val. Acc: 48.43%\n",
            "Epoch: 113 | Train Loss: 0.898 | Train Acc: 99.11%\n",
            "\t Val. Loss: 2.256 |  Val. Acc: 48.00%\n",
            "Epoch: 114 | Train Loss: 0.897 | Train Acc: 99.44%\n",
            "\t Val. Loss: 2.894 |  Val. Acc: 46.14%\n",
            "Epoch: 115 | Train Loss: 0.912 | Train Acc: 98.11%\n",
            "\t Val. Loss: 2.225 |  Val. Acc: 48.95%\n",
            "Epoch: 116 | Train Loss: 0.902 | Train Acc: 98.67%\n",
            "\t Val. Loss: 2.284 |  Val. Acc: 45.76%\n",
            "Epoch: 117 | Train Loss: 0.891 | Train Acc: 98.89%\n",
            "\t Val. Loss: 2.533 |  Val. Acc: 48.14%\n",
            "Epoch: 118 | Train Loss: 0.889 | Train Acc: 99.10%\n",
            "\t Val. Loss: 2.680 |  Val. Acc: 48.14%\n",
            "Epoch: 119 | Train Loss: 0.881 | Train Acc: 99.78%\n",
            "\t Val. Loss: 2.650 |  Val. Acc: 48.14%\n",
            "Epoch: 120 | Train Loss: 0.878 | Train Acc: 99.33%\n",
            "\t Val. Loss: 2.900 |  Val. Acc: 49.19%\n",
            "Epoch: 121 | Train Loss: 0.875 | Train Acc: 99.89%\n",
            "\t Val. Loss: 2.566 |  Val. Acc: 46.81%\n",
            "Epoch: 122 | Train Loss: 0.874 | Train Acc: 99.56%\n",
            "\t Val. Loss: 2.675 |  Val. Acc: 47.48%\n",
            "Epoch: 123 | Train Loss: 0.878 | Train Acc: 98.56%\n",
            "\t Val. Loss: 2.354 |  Val. Acc: 52.00%\n",
            "Epoch: 124 | Train Loss: 0.876 | Train Acc: 98.89%\n",
            "\t Val. Loss: 2.437 |  Val. Acc: 49.33%\n",
            "Epoch: 125 | Train Loss: 0.879 | Train Acc: 98.33%\n",
            "\t Val. Loss: 2.483 |  Val. Acc: 48.14%\n",
            "Epoch: 126 | Train Loss: 0.866 | Train Acc: 99.67%\n",
            "\t Val. Loss: 2.402 |  Val. Acc: 46.00%\n",
            "Epoch: 127 | Train Loss: 0.865 | Train Acc: 99.22%\n",
            "\t Val. Loss: 2.465 |  Val. Acc: 48.67%\n",
            "Epoch: 128 | Train Loss: 0.859 | Train Acc: 99.44%\n",
            "\t Val. Loss: 2.487 |  Val. Acc: 48.67%\n",
            "Epoch: 129 | Train Loss: 0.864 | Train Acc: 98.88%\n",
            "\t Val. Loss: 2.494 |  Val. Acc: 48.00%\n",
            "Epoch: 130 | Train Loss: 0.858 | Train Acc: 99.21%\n",
            "\t Val. Loss: 2.637 |  Val. Acc: 47.48%\n",
            "Epoch: 131 | Train Loss: 0.868 | Train Acc: 98.89%\n",
            "\t Val. Loss: 2.252 |  Val. Acc: 53.48%\n",
            "Epoch: 132 | Train Loss: 0.862 | Train Acc: 98.76%\n",
            "\t Val. Loss: 2.282 |  Val. Acc: 51.86%\n",
            "Epoch: 133 | Train Loss: 0.860 | Train Acc: 99.11%\n",
            "\t Val. Loss: 2.529 |  Val. Acc: 49.33%\n",
            "Epoch: 134 | Train Loss: 0.885 | Train Acc: 98.43%\n",
            "\t Val. Loss: 2.337 |  Val. Acc: 51.48%\n",
            "Epoch: 135 | Train Loss: 0.933 | Train Acc: 95.78%\n",
            "\t Val. Loss: 3.048 |  Val. Acc: 48.24%\n",
            "Epoch: 136 | Train Loss: 1.038 | Train Acc: 93.86%\n",
            "\t Val. Loss: 2.025 |  Val. Acc: 51.48%\n",
            "Epoch: 137 | Train Loss: 0.949 | Train Acc: 95.56%\n",
            "\t Val. Loss: 2.733 |  Val. Acc: 48.38%\n",
            "Epoch: 138 | Train Loss: 0.903 | Train Acc: 97.53%\n",
            "\t Val. Loss: 2.640 |  Val. Acc: 45.33%\n",
            "Epoch: 139 | Train Loss: 0.884 | Train Acc: 98.32%\n",
            "\t Val. Loss: 1.981 |  Val. Acc: 51.19%\n",
            "Epoch: 140 | Train Loss: 0.853 | Train Acc: 98.99%\n",
            "\t Val. Loss: 2.011 |  Val. Acc: 45.33%\n",
            "Epoch: 141 | Train Loss: 0.853 | Train Acc: 99.00%\n",
            "\t Val. Loss: 2.122 |  Val. Acc: 48.14%\n",
            "Epoch: 142 | Train Loss: 0.844 | Train Acc: 99.22%\n",
            "\t Val. Loss: 2.547 |  Val. Acc: 43.62%\n",
            "Epoch: 143 | Train Loss: 0.842 | Train Acc: 98.88%\n",
            "\t Val. Loss: 2.455 |  Val. Acc: 44.95%\n",
            "Epoch: 144 | Train Loss: 0.841 | Train Acc: 99.11%\n",
            "\t Val. Loss: 2.465 |  Val. Acc: 46.81%\n",
            "Epoch: 145 | Train Loss: 0.835 | Train Acc: 99.32%\n",
            "\t Val. Loss: 2.378 |  Val. Acc: 46.81%\n",
            "Epoch: 146 | Train Loss: 0.829 | Train Acc: 99.21%\n",
            "\t Val. Loss: 2.545 |  Val. Acc: 46.81%\n",
            "Epoch: 147 | Train Loss: 0.824 | Train Acc: 99.43%\n",
            "\t Val. Loss: 2.397 |  Val. Acc: 45.48%\n",
            "Epoch: 148 | Train Loss: 0.820 | Train Acc: 99.56%\n",
            "\t Val. Loss: 2.375 |  Val. Acc: 48.67%\n",
            "Epoch: 149 | Train Loss: 0.817 | Train Acc: 99.56%\n",
            "\t Val. Loss: 2.541 |  Val. Acc: 48.14%\n",
            "Epoch: 150 | Train Loss: 0.821 | Train Acc: 99.33%\n",
            "\t Val. Loss: 2.691 |  Val. Acc: 46.81%\n",
            "Epoch: 151 | Train Loss: 0.813 | Train Acc: 99.56%\n",
            "\t Val. Loss: 2.736 |  Val. Acc: 47.48%\n",
            "Epoch: 152 | Train Loss: 0.822 | Train Acc: 98.88%\n",
            "\t Val. Loss: 3.197 |  Val. Acc: 44.81%\n",
            "Epoch: 153 | Train Loss: 0.818 | Train Acc: 98.89%\n",
            "\t Val. Loss: 2.839 |  Val. Acc: 44.81%\n",
            "Epoch: 154 | Train Loss: 0.808 | Train Acc: 99.56%\n",
            "\t Val. Loss: 3.279 |  Val. Acc: 43.48%\n",
            "Epoch: 155 | Train Loss: 0.812 | Train Acc: 99.11%\n",
            "\t Val. Loss: 3.137 |  Val. Acc: 43.62%\n",
            "Epoch: 156 | Train Loss: 0.807 | Train Acc: 99.56%\n",
            "\t Val. Loss: 2.705 |  Val. Acc: 44.81%\n",
            "Epoch: 157 | Train Loss: 0.809 | Train Acc: 99.11%\n",
            "\t Val. Loss: 2.602 |  Val. Acc: 48.81%\n",
            "Epoch: 158 | Train Loss: 0.803 | Train Acc: 99.22%\n",
            "\t Val. Loss: 3.324 |  Val. Acc: 42.95%\n",
            "Epoch: 159 | Train Loss: 0.805 | Train Acc: 98.78%\n",
            "\t Val. Loss: 3.482 |  Val. Acc: 42.29%\n",
            "Epoch: 160 | Train Loss: 0.798 | Train Acc: 99.33%\n",
            "\t Val. Loss: 3.367 |  Val. Acc: 42.29%\n",
            "Epoch: 161 | Train Loss: 0.793 | Train Acc: 99.55%\n",
            "\t Val. Loss: 2.772 |  Val. Acc: 45.48%\n",
            "Epoch: 162 | Train Loss: 0.792 | Train Acc: 99.22%\n",
            "\t Val. Loss: 2.822 |  Val. Acc: 51.48%\n",
            "Epoch: 163 | Train Loss: 0.802 | Train Acc: 98.67%\n",
            "\t Val. Loss: 2.930 |  Val. Acc: 45.48%\n",
            "Epoch: 164 | Train Loss: 0.798 | Train Acc: 99.44%\n",
            "\t Val. Loss: 2.889 |  Val. Acc: 49.33%\n",
            "Epoch: 165 | Train Loss: 0.804 | Train Acc: 99.00%\n",
            "\t Val. Loss: 3.470 |  Val. Acc: 43.86%\n",
            "Epoch: 166 | Train Loss: 0.813 | Train Acc: 97.98%\n",
            "\t Val. Loss: 2.756 |  Val. Acc: 47.90%\n",
            "Epoch: 167 | Train Loss: 0.802 | Train Acc: 98.56%\n",
            "\t Val. Loss: 2.438 |  Val. Acc: 48.14%\n",
            "Epoch: 168 | Train Loss: 0.797 | Train Acc: 98.89%\n",
            "\t Val. Loss: 3.433 |  Val. Acc: 48.19%\n",
            "Epoch: 169 | Train Loss: 0.820 | Train Acc: 98.55%\n",
            "\t Val. Loss: 3.520 |  Val. Acc: 48.38%\n",
            "Epoch: 170 | Train Loss: 0.824 | Train Acc: 97.55%\n",
            "\t Val. Loss: 2.935 |  Val. Acc: 48.29%\n",
            "Epoch: 171 | Train Loss: 0.828 | Train Acc: 98.20%\n",
            "\t Val. Loss: 2.612 |  Val. Acc: 44.29%\n",
            "Epoch: 172 | Train Loss: 0.812 | Train Acc: 98.67%\n",
            "\t Val. Loss: 2.834 |  Val. Acc: 46.95%\n",
            "Epoch: 173 | Train Loss: 0.785 | Train Acc: 99.22%\n",
            "\t Val. Loss: 2.653 |  Val. Acc: 48.81%\n",
            "Epoch: 174 | Train Loss: 0.817 | Train Acc: 99.22%\n",
            "\t Val. Loss: 4.281 |  Val. Acc: 49.43%\n",
            "Epoch: 175 | Train Loss: 0.793 | Train Acc: 98.44%\n",
            "\t Val. Loss: 3.317 |  Val. Acc: 46.81%\n",
            "Epoch: 176 | Train Loss: 0.768 | Train Acc: 99.56%\n",
            "\t Val. Loss: 3.444 |  Val. Acc: 45.62%\n",
            "Epoch: 177 | Train Loss: 0.771 | Train Acc: 99.00%\n",
            "\t Val. Loss: 3.340 |  Val. Acc: 46.29%\n",
            "Epoch: 178 | Train Loss: 0.776 | Train Acc: 99.21%\n",
            "\t Val. Loss: 3.187 |  Val. Acc: 46.29%\n",
            "Epoch: 179 | Train Loss: 0.762 | Train Acc: 99.67%\n",
            "\t Val. Loss: 2.795 |  Val. Acc: 48.43%\n",
            "Epoch: 180 | Train Loss: 0.757 | Train Acc: 99.56%\n",
            "\t Val. Loss: 2.946 |  Val. Acc: 46.00%\n",
            "Epoch: 181 | Train Loss: 0.775 | Train Acc: 98.55%\n",
            "\t Val. Loss: 3.501 |  Val. Acc: 44.95%\n",
            "Epoch: 182 | Train Loss: 0.775 | Train Acc: 98.44%\n",
            "\t Val. Loss: 3.641 |  Val. Acc: 41.62%\n",
            "Epoch: 183 | Train Loss: 0.762 | Train Acc: 99.22%\n",
            "\t Val. Loss: 3.261 |  Val. Acc: 44.43%\n",
            "Epoch: 184 | Train Loss: 0.756 | Train Acc: 99.22%\n",
            "\t Val. Loss: 3.667 |  Val. Acc: 43.10%\n",
            "Epoch: 185 | Train Loss: 0.767 | Train Acc: 98.88%\n",
            "\t Val. Loss: 2.848 |  Val. Acc: 46.95%\n",
            "Epoch: 186 | Train Loss: 0.770 | Train Acc: 98.78%\n",
            "\t Val. Loss: 3.236 |  Val. Acc: 43.48%\n",
            "Epoch: 187 | Train Loss: 0.756 | Train Acc: 99.22%\n",
            "\t Val. Loss: 3.053 |  Val. Acc: 41.90%\n",
            "Epoch: 188 | Train Loss: 0.752 | Train Acc: 99.44%\n",
            "\t Val. Loss: 3.067 |  Val. Acc: 42.43%\n",
            "Epoch: 189 | Train Loss: 0.745 | Train Acc: 99.43%\n",
            "\t Val. Loss: 2.917 |  Val. Acc: 43.10%\n",
            "Epoch: 190 | Train Loss: 0.742 | Train Acc: 99.44%\n",
            "\t Val. Loss: 2.980 |  Val. Acc: 41.24%\n",
            "Epoch: 191 | Train Loss: 0.740 | Train Acc: 99.56%\n",
            "\t Val. Loss: 3.264 |  Val. Acc: 42.95%\n",
            "Epoch: 192 | Train Loss: 0.734 | Train Acc: 99.78%\n",
            "\t Val. Loss: 3.232 |  Val. Acc: 43.10%\n",
            "Epoch: 193 | Train Loss: 0.741 | Train Acc: 99.22%\n",
            "\t Val. Loss: 3.221 |  Val. Acc: 44.29%\n",
            "Epoch: 194 | Train Loss: 0.740 | Train Acc: 99.43%\n",
            "\t Val. Loss: 3.329 |  Val. Acc: 44.43%\n",
            "Epoch: 195 | Train Loss: 0.734 | Train Acc: 99.22%\n",
            "\t Val. Loss: 3.740 |  Val. Acc: 41.62%\n",
            "Epoch: 196 | Train Loss: 0.739 | Train Acc: 99.44%\n",
            "\t Val. Loss: 3.337 |  Val. Acc: 43.62%\n",
            "Epoch: 197 | Train Loss: 0.729 | Train Acc: 99.89%\n",
            "\t Val. Loss: 3.096 |  Val. Acc: 44.81%\n",
            "Epoch: 198 | Train Loss: 0.729 | Train Acc: 99.43%\n",
            "\t Val. Loss: 3.224 |  Val. Acc: 46.95%\n",
            "Epoch: 199 | Train Loss: 0.769 | Train Acc: 98.43%\n",
            "\t Val. Loss: 3.328 |  Val. Acc: 45.48%\n",
            "Epoch: 200 | Train Loss: 0.752 | Train Acc: 98.20%\n",
            "\t Val. Loss: 2.949 |  Val. Acc: 46.38%\n"
          ]
        }
      ]
    },
    {
      "cell_type": "code",
      "metadata": {
        "colab": {
          "base_uri": "https://localhost:8080/",
          "height": 405
        },
        "id": "sYoo5fXpHEG1",
        "outputId": "7a2a3ba4-6952-41f1-842d-203d3e1727b3"
      },
      "source": [
        "import matplotlib.pyplot as plt\n",
        "fig = plt.figure(figsize=(10, 6))\n",
        "ax = fig.add_subplot(1, 1, 1)\n",
        "ax.plot(train_losses, label = 'train loss')\n",
        "ax.plot(valid_losses, label = 'valid loss')\n",
        "plt.legend()\n",
        "ax.set_xlabel('updates')\n",
        "ax.set_ylabel('loss')"
      ],
      "execution_count": 140,
      "outputs": [
        {
          "output_type": "execute_result",
          "data": {
            "text/plain": [
              "Text(0, 0.5, 'loss')"
            ]
          },
          "metadata": {},
          "execution_count": 140
        },
        {
          "output_type": "display_data",
          "data": {
            "image/png": "[encoded data removed]",
            "text/plain": [
              "<Figure size 720x432 with 1 Axes>"
            ]
          },
          "metadata": {
            "needs_background": "light"
          }
        }
      ]
    },
    {
      "cell_type": "code",
      "metadata": {
        "colab": {
          "base_uri": "https://localhost:8080/",
          "height": 405
        },
        "id": "mOHzYQU2HO5v",
        "outputId": "37bf36ec-9fc8-4161-b5d9-2427852b6bec"
      },
      "source": [
        "fig = plt.figure(figsize=(10, 6))\n",
        "ax = fig.add_subplot(1, 1, 1)\n",
        "ax.plot(train_accs, label = 'train acc')\n",
        "ax.plot(valid_accs, label = 'valid acc')\n",
        "plt.legend()\n",
        "ax.set_xlabel('updates')\n",
        "ax.set_ylabel('acc')"
      ],
      "execution_count": 141,
      "outputs": [
        {
          "output_type": "execute_result",
          "data": {
            "text/plain": [
              "Text(0, 0.5, 'acc')"
            ]
          },
          "metadata": {},
          "execution_count": 141
        },
        {
          "output_type": "display_data",
          "data": {
            "image/png": "[encoded data removed]",
            "text/plain": [
              "<Figure size 720x432 with 1 Axes>"
            ]
          },
          "metadata": {
            "needs_background": "light"
          }
        }
      ]
    },
    {
      "cell_type": "code",
      "metadata": {
        "colab": {
          "base_uri": "https://localhost:8080/"
        },
        "id": "VmAk-Nr-HQEU",
        "outputId": "a8141f18-0adc-4555-c854-501b9f6e1f7a"
      },
      "source": [
        "model.load_state_dict(torch.load('tensor.pt'))\n",
        "test_loss , test_acc = evaluate(model, test_loader, criterion)\n",
        "print(f'Test Loss: {test_loss:.3f} | Test Acc: {test_acc*100:.2f}%')"
      ],
      "execution_count": 142,
      "outputs": [
        {
          "output_type": "stream",
          "name": "stdout",
          "text": [
            "Test Loss: 0.699 | Test Acc: 54.78%\n"
          ]
        }
      ]
    }
  ]
}