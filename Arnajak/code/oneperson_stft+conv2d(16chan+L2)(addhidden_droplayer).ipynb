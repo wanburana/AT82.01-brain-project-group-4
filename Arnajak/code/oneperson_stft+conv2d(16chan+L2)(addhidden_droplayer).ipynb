{
  "nbformat": 4,
  "nbformat_minor": 0,
  "metadata": {
    "colab": {
      "name": "oneperson_stft+conv2d(16chan+L2)(addhidden_droplayer).ipynb",
      "provenance": [],
      "toc_visible": true
    },
    "kernelspec": {
      "name": "python3",
      "display_name": "Python 3"
    },
    "language_info": {
      "name": "python"
    }
  },
  "cells": [
    {
      "cell_type": "markdown",
      "metadata": {
        "id": "XUe0frhXlK6w"
      },
      "source": [
        "# STFT"
      ]
    },
    {
      "cell_type": "code",
      "metadata": {
        "colab": {
          "base_uri": "https://localhost:8080/"
        },
        "id": "lPAxwFVY2_fu",
        "outputId": "9a07329f-9ba1-45a1-fca6-253e87e2c8e6"
      },
      "source": [
        "import torch, torchvision\n",
        "from torchvision import transforms\n",
        "from torch import nn\n",
        "import numpy as np\n",
        "import sys\n",
        "import os\n",
        "from glob import glob\n",
        "import pickle\n",
        "import pandas as pd\n",
        "import numpy as np\n",
        "from tqdm import tqdm\n",
        "import matplotlib.pyplot as plt\n",
        "import seaborn as sns\n",
        "from google.colab import drive\n",
        "drive.mount('/content/drive')"
      ],
      "execution_count": 1,
      "outputs": [
        {
          "output_type": "stream",
          "name": "stdout",
          "text": [
            "Drive already mounted at /content/drive; to attempt to forcibly remount, call drive.mount(\"/content/drive\", force_remount=True).\n"
          ]
        }
      ]
    },
    {
      "cell_type": "code",
      "metadata": {
        "id": "ikufrBhY22Jt"
      },
      "source": [
        "stft_data = np.load('/content/drive/MyDrive/EEG/DEAP/stft_emo.npy')\n",
        "targets = np.load('/content/drive/MyDrive/EEG/DEAP/targets.npy')"
      ],
      "execution_count": 2,
      "outputs": []
    },
    {
      "cell_type": "code",
      "metadata": {
        "colab": {
          "base_uri": "https://localhost:8080/"
        },
        "id": "l_sc2Wzy3q4f",
        "outputId": "4d414d94-2a62-424e-e8f1-51d31ac49db9"
      },
      "source": [
        "valence = []\n",
        "mean_valence = np.mean(targets[:,0])\n",
        "for i in range(targets.shape[0]):\n",
        "  if targets[i,0] < mean_valence :\n",
        "    valence.append(0)\n",
        "  else :\n",
        "    valence.append(1)\n",
        "valence = np.array(valence)\n",
        "valence.shape"
      ],
      "execution_count": 3,
      "outputs": [
        {
          "output_type": "execute_result",
          "data": {
            "text/plain": [
              "(1280,)"
            ]
          },
          "metadata": {},
          "execution_count": 3
        }
      ]
    },
    {
      "cell_type": "code",
      "metadata": {
        "colab": {
          "base_uri": "https://localhost:8080/"
        },
        "id": "feCcyLf0-292",
        "outputId": "095ce9ff-2461-4a9f-f658-df3b0be457c0"
      },
      "source": [
        "valence.shape"
      ],
      "execution_count": null,
      "outputs": [
        {
          "output_type": "execute_result",
          "data": {
            "text/plain": [
              "(1280,)"
            ]
          },
          "metadata": {},
          "execution_count": 64
        }
      ]
    },
    {
      "cell_type": "code",
      "metadata": {
        "colab": {
          "base_uri": "https://localhost:8080/"
        },
        "id": "qZ9TMrXu4maG",
        "outputId": "4eedbe79-dfdf-462f-d3e6-0a215cdb7926"
      },
      "source": [
        "#from tensorflow.keras.utils import to_categorical\n",
        "#valence = to_categorical(valence)\n",
        "#valence.shape"
      ],
      "execution_count": null,
      "outputs": [
        {
          "output_type": "execute_result",
          "data": {
            "text/plain": [
              "(1280, 2)"
            ]
          },
          "metadata": {},
          "execution_count": 25
        }
      ]
    },
    {
      "cell_type": "code",
      "metadata": {
        "id": "7jZMK7KV3Xlx"
      },
      "source": [
        "x_train = stft_data[:896]\n",
        "x_val =  stft_data[896:896+128]\n",
        "x_test = stft_data[896+128:]\n",
        "\n",
        "y_train = valence[:896]\n",
        "y_val = valence[896:896+128]\n",
        "y_test = valence[896+128:]"
      ],
      "execution_count": 4,
      "outputs": []
    },
    {
      "cell_type": "code",
      "metadata": {
        "id": "PwesAuDepVFv"
      },
      "source": [
        "x_train = stft_data[:28]\n",
        "x_val =  stft_data[28:32]\n",
        "x_test = stft_data[32:40]\n",
        "\n",
        "y_train = valence[:28]\n",
        "y_val = valence[28:32]\n",
        "y_test = valence[32:40]"
      ],
      "execution_count": 115,
      "outputs": []
    },
    {
      "cell_type": "markdown",
      "metadata": {
        "id": "AgRRPDJ5lf36"
      },
      "source": [
        "# DataLoader "
      ]
    },
    {
      "cell_type": "code",
      "metadata": {
        "id": "UsPeU6ZojcK1"
      },
      "source": [
        "from torch.utils.data import DataLoader\n",
        "from torch.utils.data import TensorDataset\n",
        "\n",
        "batch_size = 4\n",
        "def dataload(X, y):\n",
        "    X_tensor = torch.tensor(X).float()\n",
        "    y_tensor = torch.tensor(y)\n",
        "    dataset_tensor = TensorDataset(X_tensor, y_tensor)\n",
        "    return dataset_tensor\n",
        "    #return DataLoader(dataset_tensor, batch_size=batch_size, shuffle=True)\n",
        "\n",
        "train_loader = DataLoader(dataload(x_train, y_train), batch_size=batch_size, shuffle=True)\n",
        "\n",
        "valid_loader = DataLoader(dataload(x_val, y_val), batch_size=batch_size, shuffle=False)\n",
        "\n",
        "test_loader = DataLoader(dataload(x_test, y_test), batch_size=batch_size, shuffle=False)"
      ],
      "execution_count": 130,
      "outputs": []
    },
    {
      "cell_type": "markdown",
      "metadata": {
        "id": "WKt7RHMeUEaU"
      },
      "source": [
        "# Conv2d model"
      ]
    },
    {
      "cell_type": "code",
      "metadata": {
        "id": "2CPRPr8ft9Ub"
      },
      "source": [
        "num_epochs = 100\n",
        "num_classes = 2\n",
        "learning_rate = 0.0001"
      ],
      "execution_count": 131,
      "outputs": []
    },
    {
      "cell_type": "code",
      "metadata": {
        "id": "UpLJT_DENtxy"
      },
      "source": [
        "class ConvNet(nn.Module):\n",
        "    def __init__(self, num_classes=num_classes):\n",
        "        super(ConvNet, self).__init__()\n",
        "        \n",
        "\n",
        "        #stft_data.shape[1] = number of channel\n",
        "        self.layer1 = nn.Sequential(\n",
        "            nn.Conv2d(stft_data.shape[1], 256, kernel_size=5, stride=1, padding=2), \n",
        "            nn.BatchNorm2d(256),\n",
        "            nn.RLU(),\n",
        "            nn.MaxPool2d(kernel_size=2, stride=2))\n",
        "        self.layer2 = nn.Sequential(\n",
        "            nn.Conv2d(256, 512, kernel_size=5, stride=1, padding=2),\n",
        "            nn.BatchNorm2d(512),\n",
        "            nn.ELU(),\n",
        "            nn.MaxPool2d(kernel_size=2, stride=2))\n",
        "        self.layer3 = nn.Sequential(\n",
        "            nn.Conv2d(128, 256, kernel_size=5, stride=1, padding=2),\n",
        "            nn.BatchNorm2d(256),\n",
        "            nn.ELU(),\n",
        "            nn.MaxPool2d(kernel_size=2, stride=2))\n",
        "        \n",
        "        \"\"\"self.fc = nn.Sequential(nn.Linear(128*16*7,512),nn.ReLU(),nn.Dropout(0.1),\n",
        "                               nn.Linear(512,250),nn.ReLU(),nn.Dropout(0.1),\n",
        "                               nn.Linear(250,125),nn.ReLU(),nn.Dropout(0.1),\n",
        "                               nn.Linear(125,50),nn.ReLU(),nn.Dropout(0.1),\n",
        "                               nn.Linear(50,num_classes),nn.Dropout(0.1))\"\"\"\n",
        "        \n",
        "        self.fc = nn.Linear(512*16*31, num_classes)\n",
        "        #self.fc = nn.Sequential(nn.Linear(256*8*15,256),nn.ELU(),nn.Dropout(0.1),\n",
        "                               #nn.Linear(256,num_classes),nn.Dropout(0.1))\n",
        "        self.drop_out = nn.Dropout(p=0.1)\n",
        "        self.softmax = nn.LogSoftmax(dim=1)\n",
        "        \n",
        "    def forward(self, x):\n",
        "        out = self.layer1(x)\n",
        "        out = self.drop_out(out)\n",
        "        out = self.layer2(out)\n",
        "        out = self.drop_out(out)\n",
        "        #out = self.layer3(out)\n",
        "        #out = self.drop_out(out)\n",
        "        out = out.reshape(out.size(0), -1)   #can also use .view()\n",
        "        out = self.fc(out)\n",
        "        out = self.softmax(out)\n",
        "        return out"
      ],
      "execution_count": 132,
      "outputs": []
    },
    {
      "cell_type": "code",
      "metadata": {
        "id": "lId1oNleHBFf"
      },
      "source": [
        "#explicitly initialize weights for better learning\n",
        "def initialize_weights(m):\n",
        "    if isinstance(m, nn.Linear):\n",
        "        nn.init.xavier_normal_(m.weight)\n",
        "        nn.init.zeros_(m.bias)\n",
        "    elif isinstance(m, (nn.Conv2d, nn.Conv2d)):\n",
        "        for name, param in m.named_parameters():\n",
        "            if 'bias' in name:\n",
        "                nn.init.zeros_(param)\n",
        "            elif 'weight' in name:\n",
        "                nn.init.kaiming_normal_(param) #<---here"
      ],
      "execution_count": 133,
      "outputs": []
    },
    {
      "cell_type": "code",
      "metadata": {
        "id": "aqsduyBVOMM5",
        "colab": {
          "base_uri": "https://localhost:8080/"
        },
        "outputId": "6286cc4e-7182-4660-d691-3a0b1bd2cdcb"
      },
      "source": [
        "model = ConvNet(num_classes).float()\n",
        "model.apply(initialize_weights)"
      ],
      "execution_count": 134,
      "outputs": [
        {
          "output_type": "execute_result",
          "data": {
            "text/plain": [
              "ConvNet(\n",
              "  (layer1): Sequential(\n",
              "    (0): Conv2d(16, 256, kernel_size=(5, 5), stride=(1, 1), padding=(2, 2))\n",
              "    (1): BatchNorm2d(256, eps=1e-05, momentum=0.1, affine=True, track_running_stats=True)\n",
              "    (2): ELU(alpha=1.0)\n",
              "    (3): MaxPool2d(kernel_size=2, stride=2, padding=0, dilation=1, ceil_mode=False)\n",
              "  )\n",
              "  (layer2): Sequential(\n",
              "    (0): Conv2d(256, 512, kernel_size=(5, 5), stride=(1, 1), padding=(2, 2))\n",
              "    (1): BatchNorm2d(512, eps=1e-05, momentum=0.1, affine=True, track_running_stats=True)\n",
              "    (2): ELU(alpha=1.0)\n",
              "    (3): MaxPool2d(kernel_size=2, stride=2, padding=0, dilation=1, ceil_mode=False)\n",
              "  )\n",
              "  (layer3): Sequential(\n",
              "    (0): Conv2d(128, 256, kernel_size=(5, 5), stride=(1, 1), padding=(2, 2))\n",
              "    (1): BatchNorm2d(256, eps=1e-05, momentum=0.1, affine=True, track_running_stats=True)\n",
              "    (2): ELU(alpha=1.0)\n",
              "    (3): MaxPool2d(kernel_size=2, stride=2, padding=0, dilation=1, ceil_mode=False)\n",
              "  )\n",
              "  (fc): Linear(in_features=253952, out_features=2, bias=True)\n",
              "  (drop_out): Dropout(p=0.1, inplace=False)\n",
              "  (softmax): LogSoftmax(dim=1)\n",
              ")"
            ]
          },
          "metadata": {},
          "execution_count": 134
        }
      ]
    },
    {
      "cell_type": "code",
      "metadata": {
        "id": "oSERVa66OOB6"
      },
      "source": [
        "# Loss and optimizer\n",
        "criterion = nn.CrossEntropyLoss()\n",
        "#criterion = nn.BCEWithLogitsLoss()\n",
        "optimizer = torch.optim.Adam(model.parameters(), lr=learning_rate,weight_decay=1e-5)"
      ],
      "execution_count": 135,
      "outputs": []
    },
    {
      "cell_type": "markdown",
      "metadata": {
        "id": "QmtQFB67HCoR"
      },
      "source": [
        "# Train Test "
      ]
    },
    {
      "cell_type": "code",
      "metadata": {
        "id": "kI7GHuLLIdyz"
      },
      "source": [
        "def binary_accuracy(preds, y):\n",
        "    \"\"\"\n",
        "    Returns accuracy per batch, i.e. if you get 8/10 right, this returns 0.8, NOT 8\n",
        "    \"\"\"\n",
        "    #round predictions to the closest integer\n",
        "    rounded_preds = torch.round(torch.sigmoid(preds))\n",
        "    correct = (rounded_preds == y).float() #convert into float for division \n",
        "    acc = correct.sum() / len(correct)\n",
        "    return acc"
      ],
      "execution_count": 136,
      "outputs": []
    },
    {
      "cell_type": "code",
      "metadata": {
        "id": "H_ZVkAzNId1V"
      },
      "source": [
        "def cnn_acc(preds,y):\n",
        "    _, predicted = torch.max(preds.data, 1)\n",
        "    correct = (predicted == y).sum()\n",
        "    acc = correct / y.size(0)\n",
        "    return acc"
      ],
      "execution_count": 137,
      "outputs": []
    },
    {
      "cell_type": "code",
      "metadata": {
        "id": "r76aiXrnId3k"
      },
      "source": [
        "def train(model, loader, optimizer, criterion):\n",
        "    epoch_loss = 0\n",
        "    epoch_acc = 0\n",
        "    model.train() #useful for batchnorm and dropout\n",
        "    for i, (features, label) in enumerate(loader): \n",
        "                \n",
        "        #predict\n",
        "        predictions = model(features)\n",
        "        #calculate loss\n",
        "        loss = criterion(predictions, label)\n",
        "        l2_lambda = 0.001\n",
        "        l2_norm = sum(p.pow(2.0).sum() for p in model.parameters())\n",
        "        loss = loss + l2_lambda * l2_norm\n",
        "        acc = cnn_acc(predictions, label)\n",
        "        \n",
        "        #backprop\n",
        "        optimizer.zero_grad()\n",
        "        loss.backward()\n",
        "        optimizer.step()\n",
        "        \n",
        "        epoch_loss += loss.item()\n",
        "        epoch_acc += acc.item()\n",
        "                \n",
        "    return epoch_loss / len(loader), epoch_acc / len(loader)"
      ],
      "execution_count": 138,
      "outputs": []
    },
    {
      "cell_type": "code",
      "metadata": {
        "id": "Bqj2y7T-Id5d"
      },
      "source": [
        "def evaluate(model, loader, criterion):\n",
        "    epoch_loss = 0\n",
        "    epoch_acc = 0\n",
        "    model.eval()\n",
        "    \n",
        "    with torch.no_grad():\n",
        "        for i, (features, label) in enumerate(loader): \n",
        "\n",
        "\n",
        "            predictions = model(features)\n",
        "            \n",
        "            loss = criterion(predictions, label)\n",
        "            acc = cnn_acc(predictions, label)\n",
        "\n",
        "            epoch_loss += loss.item()\n",
        "            epoch_acc += acc.item()\n",
        "        \n",
        "    return epoch_loss / len(loader), epoch_acc / len(loader)"
      ],
      "execution_count": 139,
      "outputs": []
    },
    {
      "cell_type": "code",
      "metadata": {
        "colab": {
          "base_uri": "https://localhost:8080/"
        },
        "id": "EzIfXUOtId7p",
        "outputId": "fc496b52-74d7-4a98-8912-2d401ce43743"
      },
      "source": [
        "best_valid_loss = float('inf')\n",
        "\n",
        "train_losses = []\n",
        "train_accs = []\n",
        "valid_losses = []\n",
        "valid_accs = []\n",
        "for epoch in range(num_epochs):\n",
        "\n",
        "    train_loss,train_acc = train(model, train_loader, optimizer, criterion)\n",
        "    valid_loss,valid_acc = evaluate(model, valid_loader, criterion)\n",
        "    \n",
        "    #for plotting\n",
        "    train_losses.append(train_loss)\n",
        "    train_accs.append(train_acc)\n",
        "    valid_losses.append(valid_loss)\n",
        "    valid_accs.append(valid_acc)\n",
        "    \n",
        "    if valid_loss < best_valid_loss:\n",
        "        best_valid_loss = valid_loss\n",
        "        torch.save(model.state_dict(),'tensor.pt')\n",
        "    \n",
        "    print(f'Epoch: {epoch+1:02} | Train Loss: {train_loss:.3f} | Train Acc: {train_acc*100:.2f}%')\n",
        "    print(f'\\t Val. Loss: {valid_loss:.3f} |  Val. Acc: {valid_acc*100:.2f}%')"
      ],
      "execution_count": 140,
      "outputs": [
        {
          "output_type": "stream",
          "name": "stdout",
          "text": [
            "Epoch: 01 | Train Loss: 15.803 | Train Acc: 57.14%\n",
            "\t Val. Loss: 40.703 |  Val. Acc: 0.00%\n",
            "Epoch: 02 | Train Loss: 6.537 | Train Acc: 64.29%\n",
            "\t Val. Loss: 9.171 |  Val. Acc: 0.00%\n",
            "Epoch: 03 | Train Loss: 3.640 | Train Acc: 85.71%\n",
            "\t Val. Loss: 0.669 |  Val. Acc: 50.00%\n",
            "Epoch: 04 | Train Loss: 3.600 | Train Acc: 85.71%\n",
            "\t Val. Loss: 0.334 |  Val. Acc: 100.00%\n",
            "Epoch: 05 | Train Loss: 3.571 | Train Acc: 89.29%\n",
            "\t Val. Loss: 10.810 |  Val. Acc: 0.00%\n",
            "Epoch: 06 | Train Loss: 3.105 | Train Acc: 92.86%\n",
            "\t Val. Loss: 1.182 |  Val. Acc: 50.00%\n",
            "Epoch: 07 | Train Loss: 3.012 | Train Acc: 92.86%\n",
            "\t Val. Loss: 2.380 |  Val. Acc: 25.00%\n",
            "Epoch: 08 | Train Loss: 2.948 | Train Acc: 100.00%\n",
            "\t Val. Loss: 8.181 |  Val. Acc: 0.00%\n",
            "Epoch: 09 | Train Loss: 2.913 | Train Acc: 100.00%\n",
            "\t Val. Loss: 2.416 |  Val. Acc: 25.00%\n",
            "Epoch: 10 | Train Loss: 2.889 | Train Acc: 100.00%\n",
            "\t Val. Loss: 0.600 |  Val. Acc: 50.00%\n",
            "Epoch: 11 | Train Loss: 2.876 | Train Acc: 100.00%\n",
            "\t Val. Loss: 0.252 |  Val. Acc: 100.00%\n",
            "Epoch: 12 | Train Loss: 2.863 | Train Acc: 100.00%\n",
            "\t Val. Loss: 0.601 |  Val. Acc: 50.00%\n",
            "Epoch: 13 | Train Loss: 2.845 | Train Acc: 100.00%\n",
            "\t Val. Loss: 0.900 |  Val. Acc: 50.00%\n",
            "Epoch: 14 | Train Loss: 2.831 | Train Acc: 100.00%\n",
            "\t Val. Loss: 1.107 |  Val. Acc: 50.00%\n",
            "Epoch: 15 | Train Loss: 2.818 | Train Acc: 100.00%\n",
            "\t Val. Loss: 1.230 |  Val. Acc: 50.00%\n",
            "Epoch: 16 | Train Loss: 2.805 | Train Acc: 100.00%\n",
            "\t Val. Loss: 1.300 |  Val. Acc: 50.00%\n",
            "Epoch: 17 | Train Loss: 2.793 | Train Acc: 100.00%\n",
            "\t Val. Loss: 1.318 |  Val. Acc: 50.00%\n",
            "Epoch: 18 | Train Loss: 2.782 | Train Acc: 100.00%\n",
            "\t Val. Loss: 1.353 |  Val. Acc: 50.00%\n",
            "Epoch: 19 | Train Loss: 2.771 | Train Acc: 100.00%\n",
            "\t Val. Loss: 1.356 |  Val. Acc: 50.00%\n",
            "Epoch: 20 | Train Loss: 2.760 | Train Acc: 100.00%\n",
            "\t Val. Loss: 1.405 |  Val. Acc: 50.00%\n",
            "Epoch: 21 | Train Loss: 2.750 | Train Acc: 100.00%\n",
            "\t Val. Loss: 1.415 |  Val. Acc: 50.00%\n",
            "Epoch: 22 | Train Loss: 2.740 | Train Acc: 100.00%\n",
            "\t Val. Loss: 1.395 |  Val. Acc: 50.00%\n",
            "Epoch: 23 | Train Loss: 2.730 | Train Acc: 100.00%\n",
            "\t Val. Loss: 1.406 |  Val. Acc: 50.00%\n",
            "Epoch: 24 | Train Loss: 2.721 | Train Acc: 100.00%\n",
            "\t Val. Loss: 1.422 |  Val. Acc: 50.00%\n",
            "Epoch: 25 | Train Loss: 2.712 | Train Acc: 100.00%\n",
            "\t Val. Loss: 1.429 |  Val. Acc: 50.00%\n",
            "Epoch: 26 | Train Loss: 2.703 | Train Acc: 100.00%\n",
            "\t Val. Loss: 1.449 |  Val. Acc: 50.00%\n",
            "Epoch: 27 | Train Loss: 2.695 | Train Acc: 100.00%\n",
            "\t Val. Loss: 1.469 |  Val. Acc: 50.00%\n",
            "Epoch: 28 | Train Loss: 2.687 | Train Acc: 100.00%\n",
            "\t Val. Loss: 1.474 |  Val. Acc: 50.00%\n",
            "Epoch: 29 | Train Loss: 2.679 | Train Acc: 100.00%\n",
            "\t Val. Loss: 1.483 |  Val. Acc: 50.00%\n",
            "Epoch: 30 | Train Loss: 2.672 | Train Acc: 100.00%\n",
            "\t Val. Loss: 1.479 |  Val. Acc: 50.00%\n",
            "Epoch: 31 | Train Loss: 2.665 | Train Acc: 100.00%\n",
            "\t Val. Loss: 1.482 |  Val. Acc: 50.00%\n",
            "Epoch: 32 | Train Loss: 2.658 | Train Acc: 100.00%\n",
            "\t Val. Loss: 1.488 |  Val. Acc: 50.00%\n",
            "Epoch: 33 | Train Loss: 2.651 | Train Acc: 100.00%\n",
            "\t Val. Loss: 1.484 |  Val. Acc: 50.00%\n",
            "Epoch: 34 | Train Loss: 2.644 | Train Acc: 100.00%\n",
            "\t Val. Loss: 1.499 |  Val. Acc: 50.00%\n",
            "Epoch: 35 | Train Loss: 2.638 | Train Acc: 100.00%\n",
            "\t Val. Loss: 1.504 |  Val. Acc: 50.00%\n",
            "Epoch: 36 | Train Loss: 2.632 | Train Acc: 100.00%\n",
            "\t Val. Loss: 1.524 |  Val. Acc: 50.00%\n",
            "Epoch: 37 | Train Loss: 2.626 | Train Acc: 100.00%\n",
            "\t Val. Loss: 1.549 |  Val. Acc: 50.00%\n",
            "Epoch: 38 | Train Loss: 2.620 | Train Acc: 100.00%\n",
            "\t Val. Loss: 1.548 |  Val. Acc: 50.00%\n",
            "Epoch: 39 | Train Loss: 2.614 | Train Acc: 100.00%\n",
            "\t Val. Loss: 1.557 |  Val. Acc: 50.00%\n",
            "Epoch: 40 | Train Loss: 2.609 | Train Acc: 100.00%\n",
            "\t Val. Loss: 1.554 |  Val. Acc: 50.00%\n",
            "Epoch: 41 | Train Loss: 2.604 | Train Acc: 100.00%\n",
            "\t Val. Loss: 1.589 |  Val. Acc: 50.00%\n",
            "Epoch: 42 | Train Loss: 2.599 | Train Acc: 100.00%\n",
            "\t Val. Loss: 1.580 |  Val. Acc: 50.00%\n",
            "Epoch: 43 | Train Loss: 2.594 | Train Acc: 100.00%\n",
            "\t Val. Loss: 1.590 |  Val. Acc: 50.00%\n",
            "Epoch: 44 | Train Loss: 2.589 | Train Acc: 100.00%\n",
            "\t Val. Loss: 1.585 |  Val. Acc: 50.00%\n",
            "Epoch: 45 | Train Loss: 2.584 | Train Acc: 100.00%\n",
            "\t Val. Loss: 1.619 |  Val. Acc: 50.00%\n",
            "Epoch: 46 | Train Loss: 2.579 | Train Acc: 100.00%\n",
            "\t Val. Loss: 1.636 |  Val. Acc: 50.00%\n",
            "Epoch: 47 | Train Loss: 2.575 | Train Acc: 100.00%\n",
            "\t Val. Loss: 1.660 |  Val. Acc: 50.00%\n",
            "Epoch: 48 | Train Loss: 2.570 | Train Acc: 100.00%\n",
            "\t Val. Loss: 1.672 |  Val. Acc: 50.00%\n",
            "Epoch: 49 | Train Loss: 2.566 | Train Acc: 100.00%\n",
            "\t Val. Loss: 1.684 |  Val. Acc: 50.00%\n",
            "Epoch: 50 | Train Loss: 2.562 | Train Acc: 100.00%\n",
            "\t Val. Loss: 1.669 |  Val. Acc: 50.00%\n",
            "Epoch: 51 | Train Loss: 2.558 | Train Acc: 100.00%\n",
            "\t Val. Loss: 1.666 |  Val. Acc: 50.00%\n",
            "Epoch: 52 | Train Loss: 2.554 | Train Acc: 100.00%\n",
            "\t Val. Loss: 1.674 |  Val. Acc: 50.00%\n",
            "Epoch: 53 | Train Loss: 2.550 | Train Acc: 100.00%\n",
            "\t Val. Loss: 1.694 |  Val. Acc: 50.00%\n",
            "Epoch: 54 | Train Loss: 2.546 | Train Acc: 100.00%\n",
            "\t Val. Loss: 1.673 |  Val. Acc: 50.00%\n",
            "Epoch: 55 | Train Loss: 2.542 | Train Acc: 100.00%\n",
            "\t Val. Loss: 1.707 |  Val. Acc: 50.00%\n",
            "Epoch: 56 | Train Loss: 2.538 | Train Acc: 100.00%\n",
            "\t Val. Loss: 1.690 |  Val. Acc: 50.00%\n",
            "Epoch: 57 | Train Loss: 2.535 | Train Acc: 100.00%\n",
            "\t Val. Loss: 1.707 |  Val. Acc: 50.00%\n",
            "Epoch: 58 | Train Loss: 2.531 | Train Acc: 100.00%\n",
            "\t Val. Loss: 1.723 |  Val. Acc: 50.00%\n",
            "Epoch: 59 | Train Loss: 2.528 | Train Acc: 100.00%\n",
            "\t Val. Loss: 1.714 |  Val. Acc: 50.00%\n",
            "Epoch: 60 | Train Loss: 2.524 | Train Acc: 100.00%\n",
            "\t Val. Loss: 1.736 |  Val. Acc: 50.00%\n",
            "Epoch: 61 | Train Loss: 2.521 | Train Acc: 100.00%\n",
            "\t Val. Loss: 1.741 |  Val. Acc: 50.00%\n",
            "Epoch: 62 | Train Loss: 2.517 | Train Acc: 100.00%\n",
            "\t Val. Loss: 1.727 |  Val. Acc: 50.00%\n",
            "Epoch: 63 | Train Loss: 2.514 | Train Acc: 100.00%\n",
            "\t Val. Loss: 1.730 |  Val. Acc: 50.00%\n",
            "Epoch: 64 | Train Loss: 2.511 | Train Acc: 100.00%\n",
            "\t Val. Loss: 1.726 |  Val. Acc: 50.00%\n",
            "Epoch: 65 | Train Loss: 2.508 | Train Acc: 100.00%\n",
            "\t Val. Loss: 1.748 |  Val. Acc: 50.00%\n",
            "Epoch: 66 | Train Loss: 2.505 | Train Acc: 100.00%\n",
            "\t Val. Loss: 1.765 |  Val. Acc: 50.00%\n",
            "Epoch: 67 | Train Loss: 2.501 | Train Acc: 100.00%\n",
            "\t Val. Loss: 1.775 |  Val. Acc: 50.00%\n",
            "Epoch: 68 | Train Loss: 2.498 | Train Acc: 100.00%\n",
            "\t Val. Loss: 1.754 |  Val. Acc: 50.00%\n",
            "Epoch: 69 | Train Loss: 2.495 | Train Acc: 100.00%\n",
            "\t Val. Loss: 1.780 |  Val. Acc: 50.00%\n",
            "Epoch: 70 | Train Loss: 2.492 | Train Acc: 100.00%\n",
            "\t Val. Loss: 1.784 |  Val. Acc: 50.00%\n",
            "Epoch: 71 | Train Loss: 2.489 | Train Acc: 100.00%\n",
            "\t Val. Loss: 1.804 |  Val. Acc: 50.00%\n",
            "Epoch: 72 | Train Loss: 2.487 | Train Acc: 100.00%\n",
            "\t Val. Loss: 1.790 |  Val. Acc: 50.00%\n",
            "Epoch: 73 | Train Loss: 2.484 | Train Acc: 100.00%\n",
            "\t Val. Loss: 1.784 |  Val. Acc: 50.00%\n",
            "Epoch: 74 | Train Loss: 2.481 | Train Acc: 100.00%\n",
            "\t Val. Loss: 1.782 |  Val. Acc: 50.00%\n",
            "Epoch: 75 | Train Loss: 2.478 | Train Acc: 100.00%\n",
            "\t Val. Loss: 1.797 |  Val. Acc: 50.00%\n",
            "Epoch: 76 | Train Loss: 2.475 | Train Acc: 100.00%\n",
            "\t Val. Loss: 1.809 |  Val. Acc: 50.00%\n",
            "Epoch: 77 | Train Loss: 2.472 | Train Acc: 100.00%\n",
            "\t Val. Loss: 1.815 |  Val. Acc: 50.00%\n",
            "Epoch: 78 | Train Loss: 2.470 | Train Acc: 100.00%\n",
            "\t Val. Loss: 1.844 |  Val. Acc: 50.00%\n",
            "Epoch: 79 | Train Loss: 2.467 | Train Acc: 100.00%\n",
            "\t Val. Loss: 1.841 |  Val. Acc: 50.00%\n",
            "Epoch: 80 | Train Loss: 2.464 | Train Acc: 100.00%\n",
            "\t Val. Loss: 1.824 |  Val. Acc: 50.00%\n",
            "Epoch: 81 | Train Loss: 2.462 | Train Acc: 100.00%\n",
            "\t Val. Loss: 1.844 |  Val. Acc: 50.00%\n",
            "Epoch: 82 | Train Loss: 2.459 | Train Acc: 100.00%\n",
            "\t Val. Loss: 1.883 |  Val. Acc: 50.00%\n",
            "Epoch: 83 | Train Loss: 2.456 | Train Acc: 100.00%\n",
            "\t Val. Loss: 1.912 |  Val. Acc: 50.00%\n",
            "Epoch: 84 | Train Loss: 2.453 | Train Acc: 100.00%\n",
            "\t Val. Loss: 1.921 |  Val. Acc: 50.00%\n",
            "Epoch: 85 | Train Loss: 2.451 | Train Acc: 100.00%\n",
            "\t Val. Loss: 1.940 |  Val. Acc: 50.00%\n",
            "Epoch: 86 | Train Loss: 2.448 | Train Acc: 100.00%\n",
            "\t Val. Loss: 1.938 |  Val. Acc: 50.00%\n",
            "Epoch: 87 | Train Loss: 2.446 | Train Acc: 100.00%\n",
            "\t Val. Loss: 1.937 |  Val. Acc: 50.00%\n",
            "Epoch: 88 | Train Loss: 2.443 | Train Acc: 100.00%\n",
            "\t Val. Loss: 1.949 |  Val. Acc: 50.00%\n",
            "Epoch: 89 | Train Loss: 2.440 | Train Acc: 100.00%\n",
            "\t Val. Loss: 1.956 |  Val. Acc: 50.00%\n",
            "Epoch: 90 | Train Loss: 2.438 | Train Acc: 100.00%\n",
            "\t Val. Loss: 1.953 |  Val. Acc: 50.00%\n",
            "Epoch: 91 | Train Loss: 2.435 | Train Acc: 100.00%\n",
            "\t Val. Loss: 1.932 |  Val. Acc: 50.00%\n",
            "Epoch: 92 | Train Loss: 2.433 | Train Acc: 100.00%\n",
            "\t Val. Loss: 1.949 |  Val. Acc: 50.00%\n",
            "Epoch: 93 | Train Loss: 2.430 | Train Acc: 100.00%\n",
            "\t Val. Loss: 1.930 |  Val. Acc: 50.00%\n",
            "Epoch: 94 | Train Loss: 2.428 | Train Acc: 100.00%\n",
            "\t Val. Loss: 1.957 |  Val. Acc: 50.00%\n",
            "Epoch: 95 | Train Loss: 2.425 | Train Acc: 100.00%\n",
            "\t Val. Loss: 2.003 |  Val. Acc: 50.00%\n",
            "Epoch: 96 | Train Loss: 2.423 | Train Acc: 100.00%\n",
            "\t Val. Loss: 1.995 |  Val. Acc: 50.00%\n",
            "Epoch: 97 | Train Loss: 2.420 | Train Acc: 100.00%\n",
            "\t Val. Loss: 2.025 |  Val. Acc: 50.00%\n",
            "Epoch: 98 | Train Loss: 2.418 | Train Acc: 100.00%\n",
            "\t Val. Loss: 2.034 |  Val. Acc: 50.00%\n",
            "Epoch: 99 | Train Loss: 2.415 | Train Acc: 100.00%\n",
            "\t Val. Loss: 2.016 |  Val. Acc: 50.00%\n",
            "Epoch: 100 | Train Loss: 2.413 | Train Acc: 100.00%\n",
            "\t Val. Loss: 2.026 |  Val. Acc: 50.00%\n"
          ]
        }
      ]
    },
    {
      "cell_type": "code",
      "metadata": {
        "colab": {
          "base_uri": "https://localhost:8080/",
          "height": 405
        },
        "id": "sYoo5fXpHEG1",
        "outputId": "d1d1b7f0-c1d4-4fa1-f9af-28280ec7cd0a"
      },
      "source": [
        "import matplotlib.pyplot as plt\n",
        "fig = plt.figure(figsize=(10, 6))\n",
        "ax = fig.add_subplot(1, 1, 1)\n",
        "ax.plot(train_losses, label = 'train loss')\n",
        "ax.plot(valid_losses, label = 'valid loss')\n",
        "plt.legend()\n",
        "ax.set_xlabel('updates')\n",
        "ax.set_ylabel('loss')"
      ],
      "execution_count": 141,
      "outputs": [
        {
          "output_type": "execute_result",
          "data": {
            "text/plain": [
              "Text(0, 0.5, 'loss')"
            ]
          },
          "metadata": {},
          "execution_count": 141
        },
        {
          "output_type": "display_data",
          "data": {
            "image/png": "[encoded data removed]",
            "text/plain": [
              "<Figure size 720x432 with 1 Axes>"
            ]
          },
          "metadata": {
            "needs_background": "light"
          }
        }
      ]
    },
    {
      "cell_type": "code",
      "metadata": {
        "colab": {
          "base_uri": "https://localhost:8080/",
          "height": 405
        },
        "id": "mOHzYQU2HO5v",
        "outputId": "82f8ee2c-6d84-4bbe-a483-8d31c40a9ea5"
      },
      "source": [
        "fig = plt.figure(figsize=(10, 6))\n",
        "ax = fig.add_subplot(1, 1, 1)\n",
        "ax.plot(train_accs, label = 'train acc')\n",
        "ax.plot(valid_accs, label = 'valid acc')\n",
        "plt.legend()\n",
        "ax.set_xlabel('updates')\n",
        "ax.set_ylabel('acc')"
      ],
      "execution_count": 142,
      "outputs": [
        {
          "output_type": "execute_result",
          "data": {
            "text/plain": [
              "Text(0, 0.5, 'acc')"
            ]
          },
          "metadata": {},
          "execution_count": 142
        },
        {
          "output_type": "display_data",
          "data": {
            "image/png": "[encoded data removed]",
            "text/plain": [
              "<Figure size 720x432 with 1 Axes>"
            ]
          },
          "metadata": {
            "needs_background": "light"
          }
        }
      ]
    },
    {
      "cell_type": "code",
      "metadata": {
        "colab": {
          "base_uri": "https://localhost:8080/"
        },
        "id": "VmAk-Nr-HQEU",
        "outputId": "ab5911d4-6aea-4443-b95f-257e48f799f1"
      },
      "source": [
        "model.load_state_dict(torch.load('tensor.pt'))\n",
        "test_loss , test_acc = evaluate(model, test_loader, criterion)\n",
        "print(f'Test Loss: {test_loss:.3f} | Test Acc: {test_acc*100:.2f}%')"
      ],
      "execution_count": 143,
      "outputs": [
        {
          "output_type": "stream",
          "name": "stdout",
          "text": [
            "Test Loss: 0.201 | Test Acc: 100.00%\n"
          ]
        }
      ]
    }
  ]
}